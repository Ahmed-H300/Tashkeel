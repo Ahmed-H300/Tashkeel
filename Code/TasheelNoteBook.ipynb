{
  "nbformat": 4,
  "nbformat_minor": 0,
  "metadata": {
    "colab": {
      "provenance": [],
      "gpuType": "T4"
    },
    "kernelspec": {
      "name": "python3",
      "display_name": "Python 3"
    },
    "language_info": {
      "name": "python"
    },
    "accelerator": "GPU"
  },
  "cells": [
    {
      "cell_type": "code",
      "source": [
        "# # !git clone https://github.com/almodhfer/Arabic_Diacritization.git\n",
        "# %cd ./Arabic_Diacritization\n",
        "# !ls"
      ],
      "metadata": {
        "id": "jkNKA8QgN35V"
      },
      "execution_count": null,
      "outputs": []
    },
    {
      "cell_type": "code",
      "source": [
        "%load_ext autoreload\n",
        "%autoreload 2"
      ],
      "metadata": {
        "id": "nQVagDa_aNAP"
      },
      "execution_count": 1,
      "outputs": []
    },
    {
      "cell_type": "code",
      "execution_count": 2,
      "metadata": {
        "id": "2nSoT6rEeEpo",
        "colab": {
          "base_uri": "https://localhost:8080/"
        },
        "outputId": "22886cdf-d469-48fb-dcae-8d9926becf6e"
      },
      "outputs": [
        {
          "output_type": "stream",
          "name": "stdout",
          "text": [
            "Mounted at /content/drive\n"
          ]
        }
      ],
      "source": [
        "from google.colab import drive\n",
        "\n",
        "# Mount Google Drive\n",
        "drive.mount('/content/drive')\n",
        "\n",
        "# import os\n",
        "# # Check if the folder exists, and create it if it doesn't\n",
        "# folder_path = os.path.join('/content/drive/MyDrive/', 'Tashkeel')\n",
        "# if not os.path.exists(folder_path):\n",
        "#     print(\"Creating Tashkeel in your drive ........\")\n",
        "#     os.makedirs(folder_path)\n",
        "# else: print(\"Tashkeel Already Exists in your drive\")"
      ]
    },
    {
      "cell_type": "code",
      "source": [
        "!mkdir /content/code"
      ],
      "metadata": {
        "id": "Q0UWiWkMChz_"
      },
      "execution_count": 18,
      "outputs": []
    },
    {
      "cell_type": "code",
      "source": [
        "# %run cleaning.py --mode train"
      ],
      "metadata": {
        "id": "A4mtvdbygFVp",
        "colab": {
          "base_uri": "https://localhost:8080/"
        },
        "outputId": "77a48952-89de-44e8-f882-2a720c7e4fa5"
      },
      "execution_count": 8,
      "outputs": [
        {
          "output_type": "stream",
          "name": "stdout",
          "text": [
            "Training mode selected.\n",
            "Cleaning .....\n",
            "all_punctuation {'`', '>', '[', '*', '+', '~', ';', ':', '$', '^', '!', '&', '_', '\\\\', '<', ')', '.', '%', ',', '/', \"'\", '}', '{', '?', '#', '\"', '@', '=', '-', ']', '|', '('}\n",
            "Done Cleaning :D\n",
            "Tokenization to Sentences [\n",
            ".,،؛:«»?؟]+ .....\n",
            "Done Tokenizing :D\n",
            "Fxing Diacritization issues .......\n",
            "Done Fxing Diacritization issues :D\n",
            "Removing Tashkel ......\n",
            "Removing Tashkel Done :D 185039 Sentences\n",
            "Getting Tashkel ......\n",
            "Getting Tashkeel Done :D 185039 Sentences\n",
            "['ق', 'و', 'ل', 'ه']\n",
            "[0, 6, 2, 2]\n"
          ]
        }
      ]
    },
    {
      "cell_type": "code",
      "source": [
        "# %run cleaning.py --mode validate"
      ],
      "metadata": {
        "id": "1qvwf3BE_68S",
        "colab": {
          "base_uri": "https://localhost:8080/"
        },
        "outputId": "b13804cf-2da9-45ec-9b90-a0cc93fb168c"
      },
      "execution_count": 9,
      "outputs": [
        {
          "output_type": "stream",
          "name": "stdout",
          "text": [
            "Validation mode selected.\n",
            "Cleaning .....\n",
            "all_punctuation {'`', '>', '[', '*', '+', '~', ';', ':', '$', '^', '!', '&', '_', '\\\\', '<', ')', '.', '%', ',', '/', \"'\", '}', '{', '?', '#', '\"', '@', '=', '-', ']', '|', '('}\n",
            "Done Cleaning :D\n",
            "Tokenization to Sentences [\n",
            ".,،؛:«»?؟]+ .....\n",
            "Done Tokenizing :D\n",
            "Fxing Diacritization issues .......\n",
            "Done Fxing Diacritization issues :D\n",
            "Removing Tashkel ......\n",
            "Removing Tashkel Done :D 9399 Sentences\n",
            "Getting Tashkel ......\n",
            "Getting Tashkeel Done :D 9399 Sentences\n",
            "['ق', 'و', 'ل', 'ه']\n",
            "[0, 6, 2, 2]\n"
          ]
        }
      ]
    },
    {
      "cell_type": "code",
      "source": [
        "# %run ../cleaning.py --mode test"
      ],
      "metadata": {
        "id": "cT7vT-0nTrpz"
      },
      "execution_count": null,
      "outputs": []
    },
    {
      "cell_type": "code",
      "source": [
        "from utils import get_params\n",
        "from Globals import vocab_map,classes\n",
        "\n",
        "t_sentences, t_labels, t_size = get_params(vocab_map, classes, '/content/drive/MyDrive/Tashkeel/train_X.pickle', '/content/drive/MyDrive/Tashkeel/train_Y.pickle')\n",
        "v_sentences, v_labels, v_size = get_params(vocab_map, classes, '/content/drive/MyDrive/Tashkeel/val_X.pickle', '/content/drive/MyDrive/Tashkeel/val_Y.pickle')\n",
        "# # test_sentences, test_labels, test_size = get_params(vocab_map, classes, '/content/drive/MyDrive/Tashkeel/test_X.pickle', '/content/drive/MyDrive/Tashkeel/test_Y.pickle')\n",
        "\n",
        "from tashkeel_data_set import TashkeelDataset\n",
        "max_length=300\n",
        "train_dataset = TashkeelDataset(t_sentences, t_labels, vocab_map['<PAD>'],max_length)\n",
        "val_dataset = TashkeelDataset(v_sentences, v_labels, vocab_map['<PAD>'],max_length)\n",
        "# # test_dataset = TashkeelDataset(test_sentences, test_labels, vocab_map['<PAD>'],max_length)"
      ],
      "metadata": {
        "colab": {
          "base_uri": "https://localhost:8080/"
        },
        "id": "yY3_pgqVt-j2",
        "outputId": "67629fdd-1a10-4de5-de57-0ff474a18ec3"
      },
      "execution_count": 11,
      "outputs": [
        {
          "output_type": "stream",
          "name": "stderr",
          "text": [
            "[nltk_data] Downloading package punkt to /root/nltk_data...\n",
            "[nltk_data]   Package punkt is already up-to-date!\n"
          ]
        },
        {
          "output_type": "stream",
          "name": "stdout",
          "text": [
            "{'ك': 0, 'ر': 1, 'ج': 2, 'ت': 3, 'ب': 4, 'ي': 5, 'خ': 6, 'ث': 7, 'ل': 8, 'ه': 9, 'ف': 10, 'إ': 11, 'ض': 12, 'غ': 13, 'ؤ': 14, 'ع': 15, 'ئ': 16, 'ط': 17, 'آ': 18, 'أ': 19, 'د': 20, 'س': 21, 'م': 22, 'ق': 23, 'ص': 24, 'ا': 25, 'ء': 26, 'ن': 27, 'ش': 28, 'ز': 29, 'ذ': 30, 'ح': 31, 'و': 32, 'ى': 33, 'ة': 34, 'ظ': 35, '<s>': 36, '</s>': 37, ' ': 38, '<PAD>': 39, '<UNK>': 40}\n",
            "{'َ': 0, 'ً': 1, 'ُ': 2, 'ٌ': 3, 'ِ': 4, 'ٍ': 5, 'ْ': 6, 'ّ': 7, 'َّ': 8, 'ًّ': 9, 'ُّ': 10, 'ٌّ': 11, 'ِّ': 12, 'ٍّ': 13, '': 14, 'P': 15}\n",
            "UNK –\n",
            "UNK ‏\n",
            "UNK –\n",
            "UNK ‏\n",
            "UNK –\n",
            "UNK –\n",
            "{'ك': 0, 'ر': 1, 'ج': 2, 'ت': 3, 'ب': 4, 'ي': 5, 'خ': 6, 'ث': 7, 'ل': 8, 'ه': 9, 'ف': 10, 'إ': 11, 'ض': 12, 'غ': 13, 'ؤ': 14, 'ع': 15, 'ئ': 16, 'ط': 17, 'آ': 18, 'أ': 19, 'د': 20, 'س': 21, 'م': 22, 'ق': 23, 'ص': 24, 'ا': 25, 'ء': 26, 'ن': 27, 'ش': 28, 'ز': 29, 'ذ': 30, 'ح': 31, 'و': 32, 'ى': 33, 'ة': 34, 'ظ': 35, '<s>': 36, '</s>': 37, ' ': 38, '<PAD>': 39, '<UNK>': 40}\n",
            "{'َ': 0, 'ً': 1, 'ُ': 2, 'ٌ': 3, 'ِ': 4, 'ٍ': 5, 'ْ': 6, 'ّ': 7, 'َّ': 8, 'ًّ': 9, 'ُّ': 10, 'ٌّ': 11, 'ِّ': 12, 'ٍّ': 13, '': 14, 'P': 15}\n",
            "Padding ..... with  300 : 185039 185039\n",
            "Done Padding ..... 189020 189020\n",
            "Padding ..... with  300 : 9399 9399\n",
            "Done Padding ..... 9608 9608\n"
          ]
        }
      ]
    },
    {
      "cell_type": "code",
      "source": [
        "from tashkeel_nn import Tashkeel\n",
        "model = Tashkeel()\n",
        "print(model)\n",
        "# from cbhg import CBHGModel\n",
        "# from Globals import vocab_size,classes\n",
        "\n",
        "# model = CBHGModel(\n",
        "#           inp_vocab_size=vocab_size,\n",
        "#           targ_vocab_size=len(classes),\n",
        "#          )\n",
        "\n",
        "# print(model)"
      ],
      "metadata": {
        "colab": {
          "base_uri": "https://localhost:8080/"
        },
        "id": "Bh0Ap0-LQBC_",
        "outputId": "a1c451da-454d-4dd7-b9a4-bdf7514ada5f"
      },
      "execution_count": 12,
      "outputs": [
        {
          "output_type": "stream",
          "name": "stdout",
          "text": [
            "Tashkeel(\n",
            "  (embedding): Embedding(41, 100)\n",
            "  (lstm): LSTM(100, 128, num_layers=2, batch_first=True, bidirectional=True)\n",
            "  (linear): Linear(in_features=256, out_features=16, bias=True)\n",
            ")\n"
          ]
        }
      ]
    },
    {
      "cell_type": "code",
      "source": [
        "from tashkeel_train import train\n",
        "train(model, train_dataset)"
      ],
      "metadata": {
        "colab": {
          "base_uri": "https://localhost:8080/"
        },
        "id": "SuMhZPYA8dBI",
        "outputId": "be4ba6c0-58c9-4946-966f-8364113f313f"
      },
      "execution_count": 14,
      "outputs": [
        {
          "output_type": "stream",
          "name": "stdout",
          "text": [
            "Using GPU\n"
          ]
        },
        {
          "output_type": "stream",
          "name": "stderr",
          "text": [
            "\r  0%|          | 0/370 [00:00<?, ?it/s]"
          ]
        },
        {
          "output_type": "stream",
          "name": "stdout",
          "text": [
            "Epoch: 0/5............. "
          ]
        },
        {
          "output_type": "stream",
          "name": "stderr",
          "text": [
            "\r  0%|          | 1/370 [00:00<02:19,  2.64it/s]"
          ]
        },
        {
          "output_type": "stream",
          "name": "stdout",
          "text": [
            "Loss: 0.0960\n",
            "acc: 0.9697402037227513\n",
            "Epoch: 0/5............. "
          ]
        },
        {
          "output_type": "stream",
          "name": "stderr",
          "text": [
            "\r  1%|          | 2/370 [00:00<01:58,  3.11it/s]"
          ]
        },
        {
          "output_type": "stream",
          "name": "stdout",
          "text": [
            "Loss: 0.0858\n",
            "acc: 0.9712805717657859\n",
            "Epoch: 0/5............. "
          ]
        },
        {
          "output_type": "stream",
          "name": "stderr",
          "text": [
            "\r  1%|          | 3/370 [00:00<01:51,  3.30it/s]"
          ]
        },
        {
          "output_type": "stream",
          "name": "stdout",
          "text": [
            "Loss: 0.0917\n",
            "acc: 0.9707188504170127\n",
            "Epoch: 0/5............. "
          ]
        },
        {
          "output_type": "stream",
          "name": "stderr",
          "text": [
            "\r  1%|          | 4/370 [00:01<01:48,  3.39it/s]"
          ]
        },
        {
          "output_type": "stream",
          "name": "stdout",
          "text": [
            "Loss: 0.0955\n",
            "acc: 0.9689357370374019\n",
            "Epoch: 0/5............. "
          ]
        },
        {
          "output_type": "stream",
          "name": "stderr",
          "text": [
            "\r  1%|▏         | 5/370 [00:01<01:46,  3.44it/s]"
          ]
        },
        {
          "output_type": "stream",
          "name": "stdout",
          "text": [
            "Loss: 0.1050\n",
            "acc: 0.9645524245743303\n",
            "Epoch: 0/5............. "
          ]
        },
        {
          "output_type": "stream",
          "name": "stderr",
          "text": [
            "\r  2%|▏         | 6/370 [00:01<01:45,  3.46it/s]"
          ]
        },
        {
          "output_type": "stream",
          "name": "stdout",
          "text": [
            "Loss: 0.0961\n",
            "acc: 0.967496062992126\n",
            "Epoch: 0/5............. "
          ]
        },
        {
          "output_type": "stream",
          "name": "stderr",
          "text": [
            "\r  2%|▏         | 7/370 [00:02<01:43,  3.51it/s]"
          ]
        },
        {
          "output_type": "stream",
          "name": "stdout",
          "text": [
            "Loss: 0.0960\n",
            "acc: 0.9670569925146372\n",
            "Epoch: 0/5............. "
          ]
        },
        {
          "output_type": "stream",
          "name": "stderr",
          "text": [
            "\r  2%|▏         | 8/370 [00:02<01:43,  3.51it/s]"
          ]
        },
        {
          "output_type": "stream",
          "name": "stdout",
          "text": [
            "Loss: 0.1078\n",
            "acc: 0.9665833220705501\n",
            "Epoch: 0/5............. "
          ]
        },
        {
          "output_type": "stream",
          "name": "stderr",
          "text": [
            "\r  2%|▏         | 9/370 [00:02<01:42,  3.51it/s]"
          ]
        },
        {
          "output_type": "stream",
          "name": "stdout",
          "text": [
            "Loss: 0.0956\n",
            "acc: 0.9685090204798967\n",
            "Epoch: 0/5............. "
          ]
        },
        {
          "output_type": "stream",
          "name": "stderr",
          "text": [
            "\r  3%|▎         | 10/370 [00:02<01:42,  3.50it/s]"
          ]
        },
        {
          "output_type": "stream",
          "name": "stdout",
          "text": [
            "Loss: 0.1101\n",
            "acc: 0.9634119322677639\n",
            "Epoch: 0/5............. "
          ]
        },
        {
          "output_type": "stream",
          "name": "stderr",
          "text": [
            "\r  3%|▎         | 11/370 [00:03<01:42,  3.50it/s]"
          ]
        },
        {
          "output_type": "stream",
          "name": "stdout",
          "text": [
            "Loss: 0.1030\n",
            "acc: 0.9662882040517762\n",
            "Epoch: 0/5............. "
          ]
        },
        {
          "output_type": "stream",
          "name": "stderr",
          "text": [
            "\r  3%|▎         | 12/370 [00:03<01:41,  3.51it/s]"
          ]
        },
        {
          "output_type": "stream",
          "name": "stdout",
          "text": [
            "Loss: 0.1020\n",
            "acc: 0.9659743991640544\n",
            "Epoch: 0/5............. "
          ]
        },
        {
          "output_type": "stream",
          "name": "stderr",
          "text": [
            "\r  4%|▎         | 13/370 [00:03<01:41,  3.52it/s]"
          ]
        },
        {
          "output_type": "stream",
          "name": "stdout",
          "text": [
            "Loss: 0.1240\n",
            "acc: 0.9604307128362899\n",
            "Epoch: 0/5............. "
          ]
        },
        {
          "output_type": "stream",
          "name": "stderr",
          "text": [
            "\r  4%|▍         | 14/370 [00:04<01:41,  3.51it/s]"
          ]
        },
        {
          "output_type": "stream",
          "name": "stdout",
          "text": [
            "Loss: 0.1067\n",
            "acc: 0.9649435147120707\n",
            "Epoch: 0/5............. "
          ]
        },
        {
          "output_type": "stream",
          "name": "stderr",
          "text": [
            "\r  4%|▍         | 15/370 [00:04<01:40,  3.52it/s]"
          ]
        },
        {
          "output_type": "stream",
          "name": "stdout",
          "text": [
            "Loss: 0.0965\n",
            "acc: 0.9671346142406757\n",
            "Epoch: 0/5............. "
          ]
        },
        {
          "output_type": "stream",
          "name": "stderr",
          "text": [
            "\r  4%|▍         | 16/370 [00:04<01:40,  3.52it/s]"
          ]
        },
        {
          "output_type": "stream",
          "name": "stdout",
          "text": [
            "Loss: 0.1090\n",
            "acc: 0.9642704169046259\n",
            "Epoch: 0/5............. "
          ]
        },
        {
          "output_type": "stream",
          "name": "stderr",
          "text": [
            "\r  5%|▍         | 17/370 [00:04<01:40,  3.53it/s]"
          ]
        },
        {
          "output_type": "stream",
          "name": "stdout",
          "text": [
            "Loss: 0.1208\n",
            "acc: 0.9608734103869965\n",
            "Epoch: 0/5............. "
          ]
        },
        {
          "output_type": "stream",
          "name": "stderr",
          "text": [
            "\r  5%|▍         | 18/370 [00:05<01:40,  3.52it/s]"
          ]
        },
        {
          "output_type": "stream",
          "name": "stdout",
          "text": [
            "Loss: 0.0908\n",
            "acc: 0.9686391958415091\n",
            "Epoch: 0/5............. "
          ]
        },
        {
          "output_type": "stream",
          "name": "stderr",
          "text": [
            "\r  5%|▌         | 19/370 [00:05<01:39,  3.53it/s]"
          ]
        },
        {
          "output_type": "stream",
          "name": "stdout",
          "text": [
            "Loss: 0.0990\n",
            "acc: 0.9662610831766015\n",
            "Epoch: 0/5............. "
          ]
        },
        {
          "output_type": "stream",
          "name": "stderr",
          "text": [
            "\r  5%|▌         | 20/370 [00:05<01:39,  3.52it/s]"
          ]
        },
        {
          "output_type": "stream",
          "name": "stdout",
          "text": [
            "Loss: 0.1026\n",
            "acc: 0.9648361326036359\n",
            "Epoch: 0/5............. "
          ]
        },
        {
          "output_type": "stream",
          "name": "stderr",
          "text": [
            "\r  6%|▌         | 21/370 [00:06<01:39,  3.53it/s]"
          ]
        },
        {
          "output_type": "stream",
          "name": "stdout",
          "text": [
            "Loss: 0.1106\n",
            "acc: 0.9630815194195476\n",
            "Epoch: 0/5............. "
          ]
        },
        {
          "output_type": "stream",
          "name": "stderr",
          "text": [
            "\r  6%|▌         | 22/370 [00:06<01:38,  3.53it/s]"
          ]
        },
        {
          "output_type": "stream",
          "name": "stdout",
          "text": [
            "Loss: 0.1135\n",
            "acc: 0.963437109195024\n",
            "Epoch: 0/5............. "
          ]
        },
        {
          "output_type": "stream",
          "name": "stderr",
          "text": [
            "\r  6%|▌         | 23/370 [00:06<01:38,  3.53it/s]"
          ]
        },
        {
          "output_type": "stream",
          "name": "stdout",
          "text": [
            "Loss: 0.1003\n",
            "acc: 0.9666571059802094\n",
            "Epoch: 0/5............. "
          ]
        },
        {
          "output_type": "stream",
          "name": "stderr",
          "text": [
            "\r  6%|▋         | 24/370 [00:06<01:37,  3.53it/s]"
          ]
        },
        {
          "output_type": "stream",
          "name": "stdout",
          "text": [
            "Loss: 0.1060\n",
            "acc: 0.9652439923337757\n",
            "Epoch: 0/5............. "
          ]
        },
        {
          "output_type": "stream",
          "name": "stderr",
          "text": [
            "\r  7%|▋         | 25/370 [00:07<01:37,  3.53it/s]"
          ]
        },
        {
          "output_type": "stream",
          "name": "stdout",
          "text": [
            "Loss: 0.0954\n",
            "acc: 0.969356700598174\n",
            "Epoch: 0/5............. "
          ]
        },
        {
          "output_type": "stream",
          "name": "stderr",
          "text": [
            "\r  7%|▋         | 26/370 [00:07<01:37,  3.52it/s]"
          ]
        },
        {
          "output_type": "stream",
          "name": "stdout",
          "text": [
            "Loss: 0.0962\n",
            "acc: 0.9678104748751727\n",
            "Epoch: 0/5............. "
          ]
        },
        {
          "output_type": "stream",
          "name": "stderr",
          "text": [
            "\r  7%|▋         | 27/370 [00:07<01:37,  3.52it/s]"
          ]
        },
        {
          "output_type": "stream",
          "name": "stdout",
          "text": [
            "Loss: 0.0997\n",
            "acc: 0.9672560576293385\n",
            "Epoch: 0/5............. "
          ]
        },
        {
          "output_type": "stream",
          "name": "stderr",
          "text": [
            "\r  8%|▊         | 28/370 [00:08<01:36,  3.53it/s]"
          ]
        },
        {
          "output_type": "stream",
          "name": "stdout",
          "text": [
            "Loss: 0.0989\n",
            "acc: 0.9672074691972143\n",
            "Epoch: 0/5............. "
          ]
        },
        {
          "output_type": "stream",
          "name": "stderr",
          "text": [
            "\r  8%|▊         | 29/370 [00:08<01:36,  3.53it/s]"
          ]
        },
        {
          "output_type": "stream",
          "name": "stdout",
          "text": [
            "Loss: 0.1069\n",
            "acc: 0.9659754766643127\n",
            "Epoch: 0/5............. "
          ]
        },
        {
          "output_type": "stream",
          "name": "stderr",
          "text": [
            "\r  8%|▊         | 30/370 [00:08<01:36,  3.53it/s]"
          ]
        },
        {
          "output_type": "stream",
          "name": "stdout",
          "text": [
            "Loss: 0.1000\n",
            "acc: 0.9668693868891874\n",
            "Epoch: 0/5............. "
          ]
        },
        {
          "output_type": "stream",
          "name": "stderr",
          "text": [
            "\r  8%|▊         | 31/370 [00:08<01:36,  3.53it/s]"
          ]
        },
        {
          "output_type": "stream",
          "name": "stdout",
          "text": [
            "Loss: 0.1047\n",
            "acc: 0.9649498050850381\n",
            "Epoch: 0/5............. "
          ]
        },
        {
          "output_type": "stream",
          "name": "stderr",
          "text": [
            "\r  9%|▊         | 32/370 [00:09<01:36,  3.51it/s]"
          ]
        },
        {
          "output_type": "stream",
          "name": "stdout",
          "text": [
            "Loss: 0.0972\n",
            "acc: 0.9676590551433986\n",
            "Epoch: 0/5............. "
          ]
        },
        {
          "output_type": "stream",
          "name": "stderr",
          "text": [
            "\r  9%|▉         | 33/370 [00:09<01:35,  3.53it/s]"
          ]
        },
        {
          "output_type": "stream",
          "name": "stdout",
          "text": [
            "Loss: 0.0930\n",
            "acc: 0.9696881205466651\n",
            "Epoch: 0/5............. "
          ]
        },
        {
          "output_type": "stream",
          "name": "stderr",
          "text": [
            "\r  9%|▉         | 34/370 [00:09<01:35,  3.53it/s]"
          ]
        },
        {
          "output_type": "stream",
          "name": "stdout",
          "text": [
            "Loss: 0.1065\n",
            "acc: 0.9638214413070963\n",
            "Epoch: 0/5............. "
          ]
        },
        {
          "output_type": "stream",
          "name": "stderr",
          "text": [
            "\r  9%|▉         | 35/370 [00:10<01:35,  3.53it/s]"
          ]
        },
        {
          "output_type": "stream",
          "name": "stdout",
          "text": [
            "Loss: 0.1178\n",
            "acc: 0.9629186602870813\n",
            "Epoch: 0/5............. "
          ]
        },
        {
          "output_type": "stream",
          "name": "stderr",
          "text": [
            "\r 10%|▉         | 36/370 [00:10<01:34,  3.53it/s]"
          ]
        },
        {
          "output_type": "stream",
          "name": "stdout",
          "text": [
            "Loss: 0.0922\n",
            "acc: 0.9691847324356159\n",
            "Epoch: 0/5............. "
          ]
        },
        {
          "output_type": "stream",
          "name": "stderr",
          "text": [
            "\r 10%|█         | 37/370 [00:10<01:34,  3.53it/s]"
          ]
        },
        {
          "output_type": "stream",
          "name": "stdout",
          "text": [
            "Loss: 0.1092\n",
            "acc: 0.9626168224299065\n",
            "Epoch: 0/5............. "
          ]
        },
        {
          "output_type": "stream",
          "name": "stderr",
          "text": [
            "\r 10%|█         | 38/370 [00:10<01:33,  3.56it/s]"
          ]
        },
        {
          "output_type": "stream",
          "name": "stdout",
          "text": [
            "Loss: 0.1057\n",
            "acc: 0.9655007949125596\n",
            "Epoch: 0/5............. "
          ]
        },
        {
          "output_type": "stream",
          "name": "stderr",
          "text": [
            "\r 11%|█         | 39/370 [00:11<01:34,  3.50it/s]"
          ]
        },
        {
          "output_type": "stream",
          "name": "stdout",
          "text": [
            "Loss: 0.1065\n",
            "acc: 0.9637168462682777\n",
            "Epoch: 0/5............. "
          ]
        },
        {
          "output_type": "stream",
          "name": "stderr",
          "text": [
            "\r 11%|█         | 40/370 [00:11<01:34,  3.51it/s]"
          ]
        },
        {
          "output_type": "stream",
          "name": "stdout",
          "text": [
            "Loss: 0.1101\n",
            "acc: 0.9627714214870178\n",
            "Epoch: 0/5............. "
          ]
        },
        {
          "output_type": "stream",
          "name": "stderr",
          "text": [
            "\r 11%|█         | 41/370 [00:11<01:33,  3.51it/s]"
          ]
        },
        {
          "output_type": "stream",
          "name": "stdout",
          "text": [
            "Loss: 0.1081\n",
            "acc: 0.9648665172202975\n",
            "Epoch: 0/5............. "
          ]
        },
        {
          "output_type": "stream",
          "name": "stderr",
          "text": [
            "\r 11%|█▏        | 42/370 [00:12<01:33,  3.51it/s]"
          ]
        },
        {
          "output_type": "stream",
          "name": "stdout",
          "text": [
            "Loss: 0.1221\n",
            "acc: 0.9604646129427892\n",
            "Epoch: 0/5............. "
          ]
        },
        {
          "output_type": "stream",
          "name": "stderr",
          "text": [
            "\r 12%|█▏        | 43/370 [00:12<01:32,  3.52it/s]"
          ]
        },
        {
          "output_type": "stream",
          "name": "stdout",
          "text": [
            "Loss: 0.1166\n",
            "acc: 0.9605072113057788\n",
            "Epoch: 0/5............. "
          ]
        },
        {
          "output_type": "stream",
          "name": "stderr",
          "text": [
            "\r 12%|█▏        | 44/370 [00:12<01:32,  3.52it/s]"
          ]
        },
        {
          "output_type": "stream",
          "name": "stdout",
          "text": [
            "Loss: 0.0998\n",
            "acc: 0.967548115541561\n",
            "Epoch: 0/5............. "
          ]
        },
        {
          "output_type": "stream",
          "name": "stderr",
          "text": [
            "\r 12%|█▏        | 45/370 [00:12<01:32,  3.50it/s]"
          ]
        },
        {
          "output_type": "stream",
          "name": "stdout",
          "text": [
            "Loss: 0.1079\n",
            "acc: 0.9644534810348454\n",
            "Epoch: 0/5............. "
          ]
        },
        {
          "output_type": "stream",
          "name": "stderr",
          "text": [
            "\r 12%|█▏        | 46/370 [00:13<01:33,  3.48it/s]"
          ]
        },
        {
          "output_type": "stream",
          "name": "stdout",
          "text": [
            "Loss: 0.1021\n",
            "acc: 0.9650174912543729\n",
            "Epoch: 0/5............. "
          ]
        },
        {
          "output_type": "stream",
          "name": "stderr",
          "text": [
            "\r 13%|█▎        | 47/370 [00:13<01:32,  3.49it/s]"
          ]
        },
        {
          "output_type": "stream",
          "name": "stdout",
          "text": [
            "Loss: 0.0977\n",
            "acc: 0.9657803293548874\n",
            "Epoch: 0/5............. "
          ]
        },
        {
          "output_type": "stream",
          "name": "stderr",
          "text": [
            "\r 13%|█▎        | 48/370 [00:13<01:32,  3.50it/s]"
          ]
        },
        {
          "output_type": "stream",
          "name": "stdout",
          "text": [
            "Loss: 0.0989\n",
            "acc: 0.9680891434091144\n",
            "Epoch: 0/5............. "
          ]
        },
        {
          "output_type": "stream",
          "name": "stderr",
          "text": [
            "\r 13%|█▎        | 49/370 [00:14<01:31,  3.50it/s]"
          ]
        },
        {
          "output_type": "stream",
          "name": "stdout",
          "text": [
            "Loss: 0.1049\n",
            "acc: 0.964549535220726\n",
            "Epoch: 0/5............. "
          ]
        },
        {
          "output_type": "stream",
          "name": "stderr",
          "text": [
            "\r 14%|█▎        | 50/370 [00:14<01:31,  3.51it/s]"
          ]
        },
        {
          "output_type": "stream",
          "name": "stdout",
          "text": [
            "Loss: 0.0985\n",
            "acc: 0.9676030811055731\n",
            "Epoch: 0/5............. "
          ]
        },
        {
          "output_type": "stream",
          "name": "stderr",
          "text": [
            "\r 14%|█▍        | 51/370 [00:14<01:31,  3.50it/s]"
          ]
        },
        {
          "output_type": "stream",
          "name": "stdout",
          "text": [
            "Loss: 0.1001\n",
            "acc: 0.9658955223880596\n",
            "Epoch: 0/5............. "
          ]
        },
        {
          "output_type": "stream",
          "name": "stderr",
          "text": [
            "\r 14%|█▍        | 52/370 [00:14<01:31,  3.47it/s]"
          ]
        },
        {
          "output_type": "stream",
          "name": "stdout",
          "text": [
            "Loss: 0.0868\n",
            "acc: 0.9712245253440167\n",
            "Epoch: 0/5............. "
          ]
        },
        {
          "output_type": "stream",
          "name": "stderr",
          "text": [
            "\r 14%|█▍        | 53/370 [00:15<01:31,  3.46it/s]"
          ]
        },
        {
          "output_type": "stream",
          "name": "stdout",
          "text": [
            "Loss: 0.0952\n",
            "acc: 0.969539226222461\n",
            "Epoch: 0/5............. "
          ]
        },
        {
          "output_type": "stream",
          "name": "stderr",
          "text": [
            "\r 15%|█▍        | 54/370 [00:15<01:30,  3.48it/s]"
          ]
        },
        {
          "output_type": "stream",
          "name": "stdout",
          "text": [
            "Loss: 0.0989\n",
            "acc: 0.9673683469445227\n",
            "Epoch: 0/5............. "
          ]
        },
        {
          "output_type": "stream",
          "name": "stderr",
          "text": [
            "\r 15%|█▍        | 55/370 [00:15<01:29,  3.50it/s]"
          ]
        },
        {
          "output_type": "stream",
          "name": "stdout",
          "text": [
            "Loss: 0.1017\n",
            "acc: 0.9659110277825124\n",
            "Epoch: 0/5............. "
          ]
        },
        {
          "output_type": "stream",
          "name": "stderr",
          "text": [
            "\r 15%|█▌        | 56/370 [00:16<01:29,  3.51it/s]"
          ]
        },
        {
          "output_type": "stream",
          "name": "stdout",
          "text": [
            "Loss: 0.1019\n",
            "acc: 0.9652204963399393\n",
            "Epoch: 0/5............. "
          ]
        },
        {
          "output_type": "stream",
          "name": "stderr",
          "text": [
            "\r 15%|█▌        | 57/370 [00:16<01:29,  3.50it/s]"
          ]
        },
        {
          "output_type": "stream",
          "name": "stdout",
          "text": [
            "Loss: 0.1066\n",
            "acc: 0.9661409437977219\n",
            "Epoch: 0/5............. "
          ]
        },
        {
          "output_type": "stream",
          "name": "stderr",
          "text": [
            "\r 16%|█▌        | 58/370 [00:16<01:29,  3.50it/s]"
          ]
        },
        {
          "output_type": "stream",
          "name": "stdout",
          "text": [
            "Loss: 0.1174\n",
            "acc: 0.9621084224348152\n",
            "Epoch: 0/5............. "
          ]
        },
        {
          "output_type": "stream",
          "name": "stderr",
          "text": [
            "\r 16%|█▌        | 59/370 [00:16<01:29,  3.46it/s]"
          ]
        },
        {
          "output_type": "stream",
          "name": "stdout",
          "text": [
            "Loss: 0.0950\n",
            "acc: 0.9688170020688358\n",
            "Epoch: 0/5............. "
          ]
        },
        {
          "output_type": "stream",
          "name": "stderr",
          "text": [
            "\r 16%|█▌        | 60/370 [00:17<01:28,  3.49it/s]"
          ]
        },
        {
          "output_type": "stream",
          "name": "stdout",
          "text": [
            "Loss: 0.1188\n",
            "acc: 0.9602279074963691\n",
            "Epoch: 0/5............. "
          ]
        },
        {
          "output_type": "stream",
          "name": "stderr",
          "text": [
            "\r 16%|█▋        | 61/370 [00:17<01:28,  3.49it/s]"
          ]
        },
        {
          "output_type": "stream",
          "name": "stdout",
          "text": [
            "Loss: 0.0958\n",
            "acc: 0.9688333213230526\n",
            "Epoch: 0/5............. "
          ]
        },
        {
          "output_type": "stream",
          "name": "stderr",
          "text": [
            "\r 17%|█▋        | 62/370 [00:17<01:28,  3.50it/s]"
          ]
        },
        {
          "output_type": "stream",
          "name": "stdout",
          "text": [
            "Loss: 0.1118\n",
            "acc: 0.9630170618764956\n",
            "Epoch: 0/5............. "
          ]
        },
        {
          "output_type": "stream",
          "name": "stderr",
          "text": [
            "\r 17%|█▋        | 63/370 [00:18<01:27,  3.50it/s]"
          ]
        },
        {
          "output_type": "stream",
          "name": "stdout",
          "text": [
            "Loss: 0.0930\n",
            "acc: 0.9691307879772543\n",
            "Epoch: 0/5............. "
          ]
        },
        {
          "output_type": "stream",
          "name": "stderr",
          "text": [
            "\r 17%|█▋        | 64/370 [00:18<01:27,  3.48it/s]"
          ]
        },
        {
          "output_type": "stream",
          "name": "stdout",
          "text": [
            "Loss: 0.0912\n",
            "acc: 0.9689008042895443\n",
            "Epoch: 0/5............. "
          ]
        },
        {
          "output_type": "stream",
          "name": "stderr",
          "text": [
            "\r 18%|█▊        | 65/370 [00:18<01:27,  3.47it/s]"
          ]
        },
        {
          "output_type": "stream",
          "name": "stdout",
          "text": [
            "Loss: 0.0969\n",
            "acc: 0.9680292210457194\n",
            "Epoch: 0/5............. "
          ]
        },
        {
          "output_type": "stream",
          "name": "stderr",
          "text": [
            "\r 18%|█▊        | 66/370 [00:18<01:27,  3.47it/s]"
          ]
        },
        {
          "output_type": "stream",
          "name": "stdout",
          "text": [
            "Loss: 0.0972\n",
            "acc: 0.9676427286111565\n",
            "Epoch: 0/5............. "
          ]
        },
        {
          "output_type": "stream",
          "name": "stderr",
          "text": [
            "\r 18%|█▊        | 67/370 [00:19<01:27,  3.47it/s]"
          ]
        },
        {
          "output_type": "stream",
          "name": "stdout",
          "text": [
            "Loss: 0.0959\n",
            "acc: 0.96675172898406\n",
            "Epoch: 0/5............. "
          ]
        },
        {
          "output_type": "stream",
          "name": "stderr",
          "text": [
            "\r 18%|█▊        | 68/370 [00:19<01:27,  3.45it/s]"
          ]
        },
        {
          "output_type": "stream",
          "name": "stdout",
          "text": [
            "Loss: 0.1068\n",
            "acc: 0.964403357772819\n",
            "Epoch: 0/5............. "
          ]
        },
        {
          "output_type": "stream",
          "name": "stderr",
          "text": [
            "\r 19%|█▊        | 69/370 [00:19<01:26,  3.47it/s]"
          ]
        },
        {
          "output_type": "stream",
          "name": "stdout",
          "text": [
            "Loss: 0.0962\n",
            "acc: 0.9689583902039542\n",
            "Epoch: 0/5............. "
          ]
        },
        {
          "output_type": "stream",
          "name": "stderr",
          "text": [
            "\r 19%|█▉        | 70/370 [00:20<01:26,  3.46it/s]"
          ]
        },
        {
          "output_type": "stream",
          "name": "stdout",
          "text": [
            "Loss: 0.1153\n",
            "acc: 0.9635628916817918\n",
            "Epoch: 0/5............. "
          ]
        },
        {
          "output_type": "stream",
          "name": "stderr",
          "text": [
            "\r 19%|█▉        | 71/370 [00:20<01:26,  3.44it/s]"
          ]
        },
        {
          "output_type": "stream",
          "name": "stdout",
          "text": [
            "Loss: 0.1021\n",
            "acc: 0.9654714951595554\n",
            "Epoch: 0/5............. "
          ]
        },
        {
          "output_type": "stream",
          "name": "stderr",
          "text": [
            "\r 19%|█▉        | 72/370 [00:20<01:26,  3.46it/s]"
          ]
        },
        {
          "output_type": "stream",
          "name": "stdout",
          "text": [
            "Loss: 0.1127\n",
            "acc: 0.9623269224676024\n",
            "Epoch: 0/5............. "
          ]
        },
        {
          "output_type": "stream",
          "name": "stderr",
          "text": [
            "\r 20%|█▉        | 73/370 [00:20<01:25,  3.47it/s]"
          ]
        },
        {
          "output_type": "stream",
          "name": "stdout",
          "text": [
            "Loss: 0.1065\n",
            "acc: 0.9661174120836008\n",
            "Epoch: 0/5............. "
          ]
        },
        {
          "output_type": "stream",
          "name": "stderr",
          "text": [
            "\r 20%|██        | 74/370 [00:21<01:25,  3.46it/s]"
          ]
        },
        {
          "output_type": "stream",
          "name": "stdout",
          "text": [
            "Loss: 0.0996\n",
            "acc: 0.9670896490617386\n",
            "Epoch: 0/5............. "
          ]
        },
        {
          "output_type": "stream",
          "name": "stderr",
          "text": [
            "\r 20%|██        | 75/370 [00:21<01:25,  3.44it/s]"
          ]
        },
        {
          "output_type": "stream",
          "name": "stdout",
          "text": [
            "Loss: 0.0998\n",
            "acc: 0.9664183381088826\n",
            "Epoch: 0/5............. "
          ]
        },
        {
          "output_type": "stream",
          "name": "stderr",
          "text": [
            "\r 21%|██        | 76/370 [00:21<01:24,  3.46it/s]"
          ]
        },
        {
          "output_type": "stream",
          "name": "stdout",
          "text": [
            "Loss: 0.1056\n",
            "acc: 0.9655503072060234\n",
            "Epoch: 0/5............. "
          ]
        },
        {
          "output_type": "stream",
          "name": "stderr",
          "text": [
            "\r 21%|██        | 77/370 [00:22<01:24,  3.45it/s]"
          ]
        },
        {
          "output_type": "stream",
          "name": "stdout",
          "text": [
            "Loss: 0.0990\n",
            "acc: 0.967074421330208\n",
            "Epoch: 0/5............. "
          ]
        },
        {
          "output_type": "stream",
          "name": "stderr",
          "text": [
            "\r 21%|██        | 78/370 [00:22<01:24,  3.44it/s]"
          ]
        },
        {
          "output_type": "stream",
          "name": "stdout",
          "text": [
            "Loss: 0.0962\n",
            "acc: 0.9692984063015204\n",
            "Epoch: 0/5............. "
          ]
        },
        {
          "output_type": "stream",
          "name": "stderr",
          "text": [
            "\r 21%|██▏       | 79/370 [00:22<01:24,  3.45it/s]"
          ]
        },
        {
          "output_type": "stream",
          "name": "stdout",
          "text": [
            "Loss: 0.0972\n",
            "acc: 0.9681491170699804\n",
            "Epoch: 0/5............. "
          ]
        },
        {
          "output_type": "stream",
          "name": "stderr",
          "text": [
            "\r 22%|██▏       | 80/370 [00:22<01:24,  3.42it/s]"
          ]
        },
        {
          "output_type": "stream",
          "name": "stdout",
          "text": [
            "Loss: 0.0945\n",
            "acc: 0.9675044592184207\n",
            "Epoch: 0/5............. "
          ]
        },
        {
          "output_type": "stream",
          "name": "stderr",
          "text": [
            "\r 22%|██▏       | 81/370 [00:23<01:24,  3.42it/s]"
          ]
        },
        {
          "output_type": "stream",
          "name": "stdout",
          "text": [
            "Loss: 0.1044\n",
            "acc: 0.9671202177044982\n",
            "Epoch: 0/5............. "
          ]
        },
        {
          "output_type": "stream",
          "name": "stderr",
          "text": [
            "\r 22%|██▏       | 82/370 [00:23<01:24,  3.42it/s]"
          ]
        },
        {
          "output_type": "stream",
          "name": "stdout",
          "text": [
            "Loss: 0.1062\n",
            "acc: 0.9653807071025614\n",
            "Epoch: 0/5............. "
          ]
        },
        {
          "output_type": "stream",
          "name": "stderr",
          "text": [
            "\r 22%|██▏       | 83/370 [00:23<01:23,  3.44it/s]"
          ]
        },
        {
          "output_type": "stream",
          "name": "stdout",
          "text": [
            "Loss: 0.1082\n",
            "acc: 0.9647233329033922\n",
            "Epoch: 0/5............. "
          ]
        },
        {
          "output_type": "stream",
          "name": "stderr",
          "text": [
            "\r 23%|██▎       | 84/370 [00:24<01:22,  3.45it/s]"
          ]
        },
        {
          "output_type": "stream",
          "name": "stdout",
          "text": [
            "Loss: 0.1141\n",
            "acc: 0.9632707774798928\n",
            "Epoch: 0/5............. "
          ]
        },
        {
          "output_type": "stream",
          "name": "stderr",
          "text": [
            "\r 23%|██▎       | 85/370 [00:24<01:22,  3.44it/s]"
          ]
        },
        {
          "output_type": "stream",
          "name": "stdout",
          "text": [
            "Loss: 0.0965\n",
            "acc: 0.9690949227373068\n",
            "Epoch: 0/5............. "
          ]
        },
        {
          "output_type": "stream",
          "name": "stderr",
          "text": [
            "\r 23%|██▎       | 86/370 [00:24<01:22,  3.44it/s]"
          ]
        },
        {
          "output_type": "stream",
          "name": "stdout",
          "text": [
            "Loss: 0.0858\n",
            "acc: 0.9709814488548036\n",
            "Epoch: 0/5............. "
          ]
        },
        {
          "output_type": "stream",
          "name": "stderr",
          "text": [
            "\r 24%|██▎       | 87/370 [00:24<01:22,  3.45it/s]"
          ]
        },
        {
          "output_type": "stream",
          "name": "stdout",
          "text": [
            "Loss: 0.0938\n",
            "acc: 0.9680523479599692\n",
            "Epoch: 0/5............. "
          ]
        },
        {
          "output_type": "stream",
          "name": "stderr",
          "text": [
            "\r 24%|██▍       | 88/370 [00:25<01:22,  3.44it/s]"
          ]
        },
        {
          "output_type": "stream",
          "name": "stdout",
          "text": [
            "Loss: 0.0881\n",
            "acc: 0.9706123666741254\n",
            "Epoch: 0/5............. "
          ]
        },
        {
          "output_type": "stream",
          "name": "stderr",
          "text": [
            "\r 24%|██▍       | 89/370 [00:25<01:22,  3.42it/s]"
          ]
        },
        {
          "output_type": "stream",
          "name": "stdout",
          "text": [
            "Loss: 0.0939\n",
            "acc: 0.9678311302940383\n",
            "Epoch: 0/5............. "
          ]
        },
        {
          "output_type": "stream",
          "name": "stderr",
          "text": [
            "\r 24%|██▍       | 90/370 [00:25<01:22,  3.41it/s]"
          ]
        },
        {
          "output_type": "stream",
          "name": "stdout",
          "text": [
            "Loss: 0.0963\n",
            "acc: 0.9694068192433443\n",
            "Epoch: 0/5............. "
          ]
        },
        {
          "output_type": "stream",
          "name": "stderr",
          "text": [
            "\r 25%|██▍       | 91/370 [00:26<01:21,  3.41it/s]"
          ]
        },
        {
          "output_type": "stream",
          "name": "stdout",
          "text": [
            "Loss: 0.1122\n",
            "acc: 0.9628267251441305\n",
            "Epoch: 0/5............. "
          ]
        },
        {
          "output_type": "stream",
          "name": "stderr",
          "text": [
            "\r 25%|██▍       | 92/370 [00:26<01:22,  3.39it/s]"
          ]
        },
        {
          "output_type": "stream",
          "name": "stdout",
          "text": [
            "Loss: 0.1059\n",
            "acc: 0.9649647653237602\n",
            "Epoch: 0/5............. "
          ]
        },
        {
          "output_type": "stream",
          "name": "stderr",
          "text": [
            "\r 25%|██▌       | 93/370 [00:26<01:21,  3.42it/s]"
          ]
        },
        {
          "output_type": "stream",
          "name": "stdout",
          "text": [
            "Loss: 0.1057\n",
            "acc: 0.9652173913043478\n",
            "Epoch: 0/5............. "
          ]
        },
        {
          "output_type": "stream",
          "name": "stderr",
          "text": [
            "\r 25%|██▌       | 94/370 [00:27<01:21,  3.39it/s]"
          ]
        },
        {
          "output_type": "stream",
          "name": "stdout",
          "text": [
            "Loss: 0.0939\n",
            "acc: 0.9692483276796754\n",
            "Epoch: 0/5............. "
          ]
        },
        {
          "output_type": "stream",
          "name": "stderr",
          "text": [
            "\r 26%|██▌       | 95/370 [00:27<01:20,  3.40it/s]"
          ]
        },
        {
          "output_type": "stream",
          "name": "stdout",
          "text": [
            "Loss: 0.1042\n",
            "acc: 0.9646100029770766\n",
            "Epoch: 0/5............. "
          ]
        },
        {
          "output_type": "stream",
          "name": "stderr",
          "text": [
            "\r 26%|██▌       | 96/370 [00:27<01:21,  3.38it/s]"
          ]
        },
        {
          "output_type": "stream",
          "name": "stdout",
          "text": [
            "Loss: 0.1077\n",
            "acc: 0.9651311580294306\n",
            "Epoch: 0/5............. "
          ]
        },
        {
          "output_type": "stream",
          "name": "stderr",
          "text": [
            "\r 26%|██▌       | 97/370 [00:27<01:20,  3.38it/s]"
          ]
        },
        {
          "output_type": "stream",
          "name": "stdout",
          "text": [
            "Loss: 0.0907\n",
            "acc: 0.9709934277047523\n",
            "Epoch: 0/5............. "
          ]
        },
        {
          "output_type": "stream",
          "name": "stderr",
          "text": [
            "\r 26%|██▋       | 98/370 [00:28<01:20,  3.39it/s]"
          ]
        },
        {
          "output_type": "stream",
          "name": "stdout",
          "text": [
            "Loss: 0.1044\n",
            "acc: 0.9643809448004139\n",
            "Epoch: 0/5............. "
          ]
        },
        {
          "output_type": "stream",
          "name": "stderr",
          "text": [
            "\r 27%|██▋       | 99/370 [00:28<01:20,  3.38it/s]"
          ]
        },
        {
          "output_type": "stream",
          "name": "stdout",
          "text": [
            "Loss: 0.0942\n",
            "acc: 0.968958843077822\n",
            "Epoch: 0/5............. "
          ]
        },
        {
          "output_type": "stream",
          "name": "stderr",
          "text": [
            "\r 27%|██▋       | 100/370 [00:28<01:19,  3.39it/s]"
          ]
        },
        {
          "output_type": "stream",
          "name": "stdout",
          "text": [
            "Loss: 0.0945\n",
            "acc: 0.9684245028771215\n",
            "Epoch: 0/5............. "
          ]
        },
        {
          "output_type": "stream",
          "name": "stderr",
          "text": [
            "\r 27%|██▋       | 101/370 [00:29<01:19,  3.38it/s]"
          ]
        },
        {
          "output_type": "stream",
          "name": "stdout",
          "text": [
            "Loss: 0.0962\n",
            "acc: 0.9682572189227934\n",
            "Epoch: 0/5............. "
          ]
        },
        {
          "output_type": "stream",
          "name": "stderr",
          "text": [
            "\r 28%|██▊       | 102/370 [00:29<01:19,  3.39it/s]"
          ]
        },
        {
          "output_type": "stream",
          "name": "stdout",
          "text": [
            "Loss: 0.1073\n",
            "acc: 0.9646919781356182\n",
            "Epoch: 0/5............. "
          ]
        },
        {
          "output_type": "stream",
          "name": "stderr",
          "text": [
            "\r 28%|██▊       | 103/370 [00:29<01:18,  3.40it/s]"
          ]
        },
        {
          "output_type": "stream",
          "name": "stdout",
          "text": [
            "Loss: 0.1017\n",
            "acc: 0.9660356347438753\n",
            "Epoch: 0/5............. "
          ]
        },
        {
          "output_type": "stream",
          "name": "stderr",
          "text": [
            "\r 28%|██▊       | 104/370 [00:29<01:17,  3.43it/s]"
          ]
        },
        {
          "output_type": "stream",
          "name": "stdout",
          "text": [
            "Loss: 0.0977\n",
            "acc: 0.9668591262557154\n",
            "Epoch: 0/5............. "
          ]
        },
        {
          "output_type": "stream",
          "name": "stderr",
          "text": [
            "\r 28%|██▊       | 105/370 [00:30<01:17,  3.41it/s]"
          ]
        },
        {
          "output_type": "stream",
          "name": "stdout",
          "text": [
            "Loss: 0.0935\n",
            "acc: 0.9679381616535037\n",
            "Epoch: 0/5............. "
          ]
        },
        {
          "output_type": "stream",
          "name": "stderr",
          "text": [
            "\r 29%|██▊       | 106/370 [00:30<01:17,  3.42it/s]"
          ]
        },
        {
          "output_type": "stream",
          "name": "stdout",
          "text": [
            "Loss: 0.1039\n",
            "acc: 0.9659807672422707\n",
            "Epoch: 0/5............. "
          ]
        },
        {
          "output_type": "stream",
          "name": "stderr",
          "text": [
            "\r 29%|██▉       | 107/370 [00:30<01:16,  3.43it/s]"
          ]
        },
        {
          "output_type": "stream",
          "name": "stdout",
          "text": [
            "Loss: 0.0892\n",
            "acc: 0.9705712440955585\n",
            "Epoch: 0/5............. "
          ]
        },
        {
          "output_type": "stream",
          "name": "stderr",
          "text": [
            "\r 29%|██▉       | 108/370 [00:31<01:16,  3.42it/s]"
          ]
        },
        {
          "output_type": "stream",
          "name": "stdout",
          "text": [
            "Loss: 0.1022\n",
            "acc: 0.9665981679495663\n",
            "Epoch: 0/5............. "
          ]
        },
        {
          "output_type": "stream",
          "name": "stderr",
          "text": [
            "\r 29%|██▉       | 109/370 [00:31<01:15,  3.44it/s]"
          ]
        },
        {
          "output_type": "stream",
          "name": "stdout",
          "text": [
            "Loss: 0.0991\n",
            "acc: 0.9664094129554656\n",
            "Epoch: 0/5............. "
          ]
        },
        {
          "output_type": "stream",
          "name": "stderr",
          "text": [
            "\r 30%|██▉       | 110/370 [00:31<01:16,  3.42it/s]"
          ]
        },
        {
          "output_type": "stream",
          "name": "stdout",
          "text": [
            "Loss: 0.1017\n",
            "acc: 0.9663590354272105\n",
            "Epoch: 0/5............. "
          ]
        },
        {
          "output_type": "stream",
          "name": "stderr",
          "text": [
            "\r 30%|███       | 111/370 [00:32<01:15,  3.42it/s]"
          ]
        },
        {
          "output_type": "stream",
          "name": "stdout",
          "text": [
            "Loss: 0.1006\n",
            "acc: 0.9660981552384267\n",
            "Epoch: 0/5............. "
          ]
        },
        {
          "output_type": "stream",
          "name": "stderr",
          "text": [
            "\r 30%|███       | 112/370 [00:32<01:15,  3.42it/s]"
          ]
        },
        {
          "output_type": "stream",
          "name": "stdout",
          "text": [
            "Loss: 0.0951\n",
            "acc: 0.9693272422892489\n",
            "Epoch: 0/5............. "
          ]
        },
        {
          "output_type": "stream",
          "name": "stderr",
          "text": [
            "\r 31%|███       | 113/370 [00:32<01:15,  3.42it/s]"
          ]
        },
        {
          "output_type": "stream",
          "name": "stdout",
          "text": [
            "Loss: 0.1086\n",
            "acc: 0.96598106431603\n",
            "Epoch: 0/5............. "
          ]
        },
        {
          "output_type": "stream",
          "name": "stderr",
          "text": [
            "\r 31%|███       | 114/370 [00:32<01:14,  3.44it/s]"
          ]
        },
        {
          "output_type": "stream",
          "name": "stdout",
          "text": [
            "Loss: 0.0951\n",
            "acc: 0.9682302445006515\n",
            "Epoch: 0/5............. "
          ]
        },
        {
          "output_type": "stream",
          "name": "stderr",
          "text": [
            "\r 31%|███       | 115/370 [00:33<01:14,  3.43it/s]"
          ]
        },
        {
          "output_type": "stream",
          "name": "stdout",
          "text": [
            "Loss: 0.0923\n",
            "acc: 0.9687882496940025\n",
            "Epoch: 0/5............. "
          ]
        },
        {
          "output_type": "stream",
          "name": "stderr",
          "text": [
            "\r 31%|███▏      | 116/370 [00:33<01:14,  3.42it/s]"
          ]
        },
        {
          "output_type": "stream",
          "name": "stdout",
          "text": [
            "Loss: 0.0893\n",
            "acc: 0.9700272479564033\n",
            "Epoch: 0/5............. "
          ]
        },
        {
          "output_type": "stream",
          "name": "stderr",
          "text": [
            "\r 32%|███▏      | 117/370 [00:33<01:13,  3.45it/s]"
          ]
        },
        {
          "output_type": "stream",
          "name": "stdout",
          "text": [
            "Loss: 0.1015\n",
            "acc: 0.96558537790219\n",
            "Epoch: 0/5............. "
          ]
        },
        {
          "output_type": "stream",
          "name": "stderr",
          "text": [
            "\r 32%|███▏      | 118/370 [00:34<01:13,  3.42it/s]"
          ]
        },
        {
          "output_type": "stream",
          "name": "stdout",
          "text": [
            "Loss: 0.1095\n",
            "acc: 0.9644156099479013\n",
            "Epoch: 0/5............. "
          ]
        },
        {
          "output_type": "stream",
          "name": "stderr",
          "text": [
            "\r 32%|███▏      | 119/370 [00:34<01:12,  3.45it/s]"
          ]
        },
        {
          "output_type": "stream",
          "name": "stdout",
          "text": [
            "Loss: 0.0991\n",
            "acc: 0.9672866099260972\n",
            "Epoch: 0/5............. "
          ]
        },
        {
          "output_type": "stream",
          "name": "stderr",
          "text": [
            "\r 32%|███▏      | 120/370 [00:34<01:12,  3.47it/s]"
          ]
        },
        {
          "output_type": "stream",
          "name": "stdout",
          "text": [
            "Loss: 0.1084\n",
            "acc: 0.9654165493948775\n",
            "Epoch: 0/5............. "
          ]
        },
        {
          "output_type": "stream",
          "name": "stderr",
          "text": [
            "\r 33%|███▎      | 121/370 [00:34<01:11,  3.46it/s]"
          ]
        },
        {
          "output_type": "stream",
          "name": "stdout",
          "text": [
            "Loss: 0.0945\n",
            "acc: 0.9689597851799757\n",
            "Epoch: 0/5............. "
          ]
        },
        {
          "output_type": "stream",
          "name": "stderr",
          "text": [
            "\r 33%|███▎      | 122/370 [00:35<01:12,  3.44it/s]"
          ]
        },
        {
          "output_type": "stream",
          "name": "stdout",
          "text": [
            "Loss: 0.0877\n",
            "acc: 0.9711931155192532\n",
            "Epoch: 0/5............. "
          ]
        },
        {
          "output_type": "stream",
          "name": "stderr",
          "text": [
            "\r 33%|███▎      | 123/370 [00:35<01:11,  3.44it/s]"
          ]
        },
        {
          "output_type": "stream",
          "name": "stdout",
          "text": [
            "Loss: 0.0971\n",
            "acc: 0.9668994737016319\n",
            "Epoch: 0/5............. "
          ]
        },
        {
          "output_type": "stream",
          "name": "stderr",
          "text": [
            "\r 34%|███▎      | 124/370 [00:35<01:11,  3.43it/s]"
          ]
        },
        {
          "output_type": "stream",
          "name": "stdout",
          "text": [
            "Loss: 0.0969\n",
            "acc: 0.9667879890809827\n",
            "Epoch: 0/5............. "
          ]
        },
        {
          "output_type": "stream",
          "name": "stderr",
          "text": [
            "\r 34%|███▍      | 125/370 [00:36<01:11,  3.44it/s]"
          ]
        },
        {
          "output_type": "stream",
          "name": "stdout",
          "text": [
            "Loss: 0.0915\n",
            "acc: 0.9699816016268036\n",
            "Epoch: 0/5............. "
          ]
        },
        {
          "output_type": "stream",
          "name": "stderr",
          "text": [
            "\r 34%|███▍      | 126/370 [00:36<01:10,  3.46it/s]"
          ]
        },
        {
          "output_type": "stream",
          "name": "stdout",
          "text": [
            "Loss: 0.0999\n",
            "acc: 0.9672698662470496\n",
            "Epoch: 0/5............. "
          ]
        },
        {
          "output_type": "stream",
          "name": "stderr",
          "text": [
            "\r 34%|███▍      | 127/370 [00:36<01:10,  3.44it/s]"
          ]
        },
        {
          "output_type": "stream",
          "name": "stdout",
          "text": [
            "Loss: 0.0977\n",
            "acc: 0.9666122363895355\n",
            "Epoch: 0/5............. "
          ]
        },
        {
          "output_type": "stream",
          "name": "stderr",
          "text": [
            "\r 35%|███▍      | 128/370 [00:36<01:09,  3.46it/s]"
          ]
        },
        {
          "output_type": "stream",
          "name": "stdout",
          "text": [
            "Loss: 0.1063\n",
            "acc: 0.9662910241202056\n",
            "Epoch: 0/5............. "
          ]
        },
        {
          "output_type": "stream",
          "name": "stderr",
          "text": [
            "\r 35%|███▍      | 129/370 [00:37<01:09,  3.47it/s]"
          ]
        },
        {
          "output_type": "stream",
          "name": "stdout",
          "text": [
            "Loss: 0.0947\n",
            "acc: 0.9680977312390925\n",
            "Epoch: 0/5............. "
          ]
        },
        {
          "output_type": "stream",
          "name": "stderr",
          "text": [
            "\r 35%|███▌      | 130/370 [00:37<01:08,  3.48it/s]"
          ]
        },
        {
          "output_type": "stream",
          "name": "stdout",
          "text": [
            "Loss: 0.1036\n",
            "acc: 0.9641297343738813\n",
            "Epoch: 0/5............. "
          ]
        },
        {
          "output_type": "stream",
          "name": "stderr",
          "text": [
            "\r 35%|███▌      | 131/370 [00:37<01:08,  3.48it/s]"
          ]
        },
        {
          "output_type": "stream",
          "name": "stdout",
          "text": [
            "Loss: 0.0924\n",
            "acc: 0.9683998751257414\n",
            "Epoch: 0/5............. "
          ]
        },
        {
          "output_type": "stream",
          "name": "stderr",
          "text": [
            "\r 36%|███▌      | 132/370 [00:38<01:08,  3.49it/s]"
          ]
        },
        {
          "output_type": "stream",
          "name": "stdout",
          "text": [
            "Loss: 0.1024\n",
            "acc: 0.9657506836523712\n",
            "Epoch: 0/5............. "
          ]
        },
        {
          "output_type": "stream",
          "name": "stderr",
          "text": [
            "\r 36%|███▌      | 133/370 [00:38<01:08,  3.46it/s]"
          ]
        },
        {
          "output_type": "stream",
          "name": "stdout",
          "text": [
            "Loss: 0.0979\n",
            "acc: 0.9662464985994398\n",
            "Epoch: 0/5............. "
          ]
        },
        {
          "output_type": "stream",
          "name": "stderr",
          "text": [
            "\r 36%|███▌      | 134/370 [00:38<01:07,  3.48it/s]"
          ]
        },
        {
          "output_type": "stream",
          "name": "stdout",
          "text": [
            "Loss: 0.0962\n",
            "acc: 0.968966998353497\n",
            "Epoch: 0/5............. "
          ]
        },
        {
          "output_type": "stream",
          "name": "stderr",
          "text": [
            "\r 36%|███▋      | 135/370 [00:38<01:07,  3.48it/s]"
          ]
        },
        {
          "output_type": "stream",
          "name": "stdout",
          "text": [
            "Loss: 0.0918\n",
            "acc: 0.9697444551591128\n",
            "Epoch: 0/5............. "
          ]
        },
        {
          "output_type": "stream",
          "name": "stderr",
          "text": [
            "\r 37%|███▋      | 136/370 [00:39<01:07,  3.48it/s]"
          ]
        },
        {
          "output_type": "stream",
          "name": "stdout",
          "text": [
            "Loss: 0.0963\n",
            "acc: 0.9671997198552585\n",
            "Epoch: 0/5............. "
          ]
        },
        {
          "output_type": "stream",
          "name": "stderr",
          "text": [
            "\r 37%|███▋      | 137/370 [00:39<01:06,  3.49it/s]"
          ]
        },
        {
          "output_type": "stream",
          "name": "stdout",
          "text": [
            "Loss: 0.0941\n",
            "acc: 0.9686702970979527\n",
            "Epoch: 0/5............. "
          ]
        },
        {
          "output_type": "stream",
          "name": "stderr",
          "text": [
            "\r 37%|███▋      | 138/370 [00:39<01:07,  3.46it/s]"
          ]
        },
        {
          "output_type": "stream",
          "name": "stdout",
          "text": [
            "Loss: 0.0845\n",
            "acc: 0.9709052072882618\n",
            "Epoch: 0/5............. "
          ]
        },
        {
          "output_type": "stream",
          "name": "stderr",
          "text": [
            "\r 38%|███▊      | 139/370 [00:40<01:06,  3.45it/s]"
          ]
        },
        {
          "output_type": "stream",
          "name": "stdout",
          "text": [
            "Loss: 0.1003\n",
            "acc: 0.966663922956622\n",
            "Epoch: 0/5............. "
          ]
        },
        {
          "output_type": "stream",
          "name": "stderr",
          "text": [
            "\r 38%|███▊      | 140/370 [00:40<01:06,  3.47it/s]"
          ]
        },
        {
          "output_type": "stream",
          "name": "stdout",
          "text": [
            "Loss: 0.0920\n",
            "acc: 0.9695691473335342\n",
            "Epoch: 0/5............. "
          ]
        },
        {
          "output_type": "stream",
          "name": "stderr",
          "text": [
            "\r 38%|███▊      | 141/370 [00:40<01:06,  3.47it/s]"
          ]
        },
        {
          "output_type": "stream",
          "name": "stdout",
          "text": [
            "Loss: 0.0973\n",
            "acc: 0.9675584510069778\n",
            "Epoch: 0/5............. "
          ]
        },
        {
          "output_type": "stream",
          "name": "stderr",
          "text": [
            "\r 38%|███▊      | 142/370 [00:41<01:06,  3.44it/s]"
          ]
        },
        {
          "output_type": "stream",
          "name": "stdout",
          "text": [
            "Loss: 0.1066\n",
            "acc: 0.9667147602590344\n",
            "Epoch: 0/5............. "
          ]
        },
        {
          "output_type": "stream",
          "name": "stderr",
          "text": [
            "\r 39%|███▊      | 143/370 [00:41<01:05,  3.47it/s]"
          ]
        },
        {
          "output_type": "stream",
          "name": "stdout",
          "text": [
            "Loss: 0.0964\n",
            "acc: 0.9673869620483022\n",
            "Epoch: 0/5............. "
          ]
        },
        {
          "output_type": "stream",
          "name": "stderr",
          "text": [
            "\r 39%|███▉      | 144/370 [00:41<01:04,  3.48it/s]"
          ]
        },
        {
          "output_type": "stream",
          "name": "stdout",
          "text": [
            "Loss: 0.1026\n",
            "acc: 0.967624957942353\n",
            "Epoch: 0/5............. "
          ]
        },
        {
          "output_type": "stream",
          "name": "stderr",
          "text": [
            "\r 39%|███▉      | 145/370 [00:41<01:04,  3.48it/s]"
          ]
        },
        {
          "output_type": "stream",
          "name": "stdout",
          "text": [
            "Loss: 0.0976\n",
            "acc: 0.9677711893965818\n",
            "Epoch: 0/5............. "
          ]
        },
        {
          "output_type": "stream",
          "name": "stderr",
          "text": [
            "\r 39%|███▉      | 146/370 [00:42<01:04,  3.49it/s]"
          ]
        },
        {
          "output_type": "stream",
          "name": "stdout",
          "text": [
            "Loss: 0.1001\n",
            "acc: 0.9669294037011652\n",
            "Epoch: 0/5............. "
          ]
        },
        {
          "output_type": "stream",
          "name": "stderr",
          "text": [
            "\r 40%|███▉      | 147/370 [00:42<01:04,  3.47it/s]"
          ]
        },
        {
          "output_type": "stream",
          "name": "stdout",
          "text": [
            "Loss: 0.0942\n",
            "acc: 0.970072463768116\n",
            "Epoch: 0/5............. "
          ]
        },
        {
          "output_type": "stream",
          "name": "stderr",
          "text": [
            "\r 40%|████      | 148/370 [00:42<01:04,  3.46it/s]"
          ]
        },
        {
          "output_type": "stream",
          "name": "stdout",
          "text": [
            "Loss: 0.0897\n",
            "acc: 0.9689500404679567\n",
            "Epoch: 0/5............. "
          ]
        },
        {
          "output_type": "stream",
          "name": "stderr",
          "text": [
            "\r 40%|████      | 149/370 [00:43<01:03,  3.47it/s]"
          ]
        },
        {
          "output_type": "stream",
          "name": "stdout",
          "text": [
            "Loss: 0.1076\n",
            "acc: 0.9649764399746817\n",
            "Epoch: 0/5............. "
          ]
        },
        {
          "output_type": "stream",
          "name": "stderr",
          "text": [
            "\r 41%|████      | 150/370 [00:43<01:03,  3.47it/s]"
          ]
        },
        {
          "output_type": "stream",
          "name": "stdout",
          "text": [
            "Loss: 0.0925\n",
            "acc: 0.9690961890079949\n",
            "Epoch: 0/5............. "
          ]
        },
        {
          "output_type": "stream",
          "name": "stderr",
          "text": [
            "\r 41%|████      | 151/370 [00:43<01:03,  3.44it/s]"
          ]
        },
        {
          "output_type": "stream",
          "name": "stdout",
          "text": [
            "Loss: 0.0931\n",
            "acc: 0.9685199018247785\n",
            "Epoch: 0/5............. "
          ]
        },
        {
          "output_type": "stream",
          "name": "stderr",
          "text": [
            "\r 41%|████      | 152/370 [00:43<01:02,  3.46it/s]"
          ]
        },
        {
          "output_type": "stream",
          "name": "stdout",
          "text": [
            "Loss: 0.0997\n",
            "acc: 0.9666912099856246\n",
            "Epoch: 0/5............. "
          ]
        },
        {
          "output_type": "stream",
          "name": "stderr",
          "text": [
            "\r 41%|████▏     | 153/370 [00:44<01:02,  3.47it/s]"
          ]
        },
        {
          "output_type": "stream",
          "name": "stdout",
          "text": [
            "Loss: 0.1087\n",
            "acc: 0.9648933102652826\n",
            "Epoch: 0/5............. "
          ]
        },
        {
          "output_type": "stream",
          "name": "stderr",
          "text": [
            "\r 42%|████▏     | 154/370 [00:44<01:02,  3.45it/s]"
          ]
        },
        {
          "output_type": "stream",
          "name": "stdout",
          "text": [
            "Loss: 0.0979\n",
            "acc: 0.9685522531160115\n",
            "Epoch: 0/5............. "
          ]
        },
        {
          "output_type": "stream",
          "name": "stderr",
          "text": [
            "\r 42%|████▏     | 155/370 [00:44<01:01,  3.47it/s]"
          ]
        },
        {
          "output_type": "stream",
          "name": "stdout",
          "text": [
            "Loss: 0.0812\n",
            "acc: 0.9734347402948491\n",
            "Epoch: 0/5............. "
          ]
        },
        {
          "output_type": "stream",
          "name": "stderr",
          "text": [
            "\r 42%|████▏     | 156/370 [00:45<01:01,  3.48it/s]"
          ]
        },
        {
          "output_type": "stream",
          "name": "stdout",
          "text": [
            "Loss: 0.1037\n",
            "acc: 0.9662246438652925\n",
            "Epoch: 0/5............. "
          ]
        },
        {
          "output_type": "stream",
          "name": "stderr",
          "text": [
            "\r 42%|████▏     | 157/370 [00:45<01:00,  3.50it/s]"
          ]
        },
        {
          "output_type": "stream",
          "name": "stdout",
          "text": [
            "Loss: 0.0875\n",
            "acc: 0.9707871463443916\n",
            "Epoch: 0/5............. "
          ]
        },
        {
          "output_type": "stream",
          "name": "stderr",
          "text": [
            "\r 43%|████▎     | 158/370 [00:45<01:00,  3.50it/s]"
          ]
        },
        {
          "output_type": "stream",
          "name": "stdout",
          "text": [
            "Loss: 0.0968\n",
            "acc: 0.9678136477865842\n",
            "Epoch: 0/5............. "
          ]
        },
        {
          "output_type": "stream",
          "name": "stderr",
          "text": [
            "\r 43%|████▎     | 159/370 [00:45<01:00,  3.50it/s]"
          ]
        },
        {
          "output_type": "stream",
          "name": "stdout",
          "text": [
            "Loss: 0.0939\n",
            "acc: 0.9676418439716312\n",
            "Epoch: 0/5............. "
          ]
        },
        {
          "output_type": "stream",
          "name": "stderr",
          "text": [
            "\r 43%|████▎     | 160/370 [00:46<00:59,  3.51it/s]"
          ]
        },
        {
          "output_type": "stream",
          "name": "stdout",
          "text": [
            "Loss: 0.1087\n",
            "acc: 0.9629418663092645\n",
            "Epoch: 0/5............. "
          ]
        },
        {
          "output_type": "stream",
          "name": "stderr",
          "text": [
            "\r 44%|████▎     | 161/370 [00:46<00:59,  3.52it/s]"
          ]
        },
        {
          "output_type": "stream",
          "name": "stdout",
          "text": [
            "Loss: 0.1149\n",
            "acc: 0.9621423145100025\n",
            "Epoch: 0/5............. "
          ]
        },
        {
          "output_type": "stream",
          "name": "stderr",
          "text": [
            "\r 44%|████▍     | 162/370 [00:46<00:59,  3.52it/s]"
          ]
        },
        {
          "output_type": "stream",
          "name": "stdout",
          "text": [
            "Loss: 0.0911\n",
            "acc: 0.9697518627383963\n",
            "Epoch: 0/5............. "
          ]
        },
        {
          "output_type": "stream",
          "name": "stderr",
          "text": [
            "\r 44%|████▍     | 163/370 [00:47<00:58,  3.52it/s]"
          ]
        },
        {
          "output_type": "stream",
          "name": "stdout",
          "text": [
            "Loss: 0.0925\n",
            "acc: 0.9679175118323191\n",
            "Epoch: 0/5............. "
          ]
        },
        {
          "output_type": "stream",
          "name": "stderr",
          "text": [
            "\r 44%|████▍     | 164/370 [00:47<00:58,  3.52it/s]"
          ]
        },
        {
          "output_type": "stream",
          "name": "stdout",
          "text": [
            "Loss: 0.0900\n",
            "acc: 0.9705852451794368\n",
            "Epoch: 0/5............. "
          ]
        },
        {
          "output_type": "stream",
          "name": "stderr",
          "text": [
            "\r 45%|████▍     | 165/370 [00:47<00:58,  3.53it/s]"
          ]
        },
        {
          "output_type": "stream",
          "name": "stdout",
          "text": [
            "Loss: 0.0982\n",
            "acc: 0.966077302631579\n",
            "Epoch: 0/5............. "
          ]
        },
        {
          "output_type": "stream",
          "name": "stderr",
          "text": [
            "\r 45%|████▍     | 166/370 [00:47<00:57,  3.53it/s]"
          ]
        },
        {
          "output_type": "stream",
          "name": "stdout",
          "text": [
            "Loss: 0.1023\n",
            "acc: 0.9661492022423458\n",
            "Epoch: 0/5............. "
          ]
        },
        {
          "output_type": "stream",
          "name": "stderr",
          "text": [
            "\r 45%|████▌     | 167/370 [00:48<00:57,  3.53it/s]"
          ]
        },
        {
          "output_type": "stream",
          "name": "stdout",
          "text": [
            "Loss: 0.0900\n",
            "acc: 0.9697872916948923\n",
            "Epoch: 0/5............. "
          ]
        },
        {
          "output_type": "stream",
          "name": "stderr",
          "text": [
            "\r 45%|████▌     | 168/370 [00:48<00:57,  3.53it/s]"
          ]
        },
        {
          "output_type": "stream",
          "name": "stdout",
          "text": [
            "Loss: 0.0964\n",
            "acc: 0.968712129558224\n",
            "Epoch: 0/5............. "
          ]
        },
        {
          "output_type": "stream",
          "name": "stderr",
          "text": [
            "\r 46%|████▌     | 169/370 [00:48<00:56,  3.55it/s]"
          ]
        },
        {
          "output_type": "stream",
          "name": "stdout",
          "text": [
            "Loss: 0.0935\n",
            "acc: 0.967862246854195\n",
            "Epoch: 0/5............. "
          ]
        },
        {
          "output_type": "stream",
          "name": "stderr",
          "text": [
            "\r 46%|████▌     | 170/370 [00:48<00:56,  3.53it/s]"
          ]
        },
        {
          "output_type": "stream",
          "name": "stdout",
          "text": [
            "Loss: 0.0808\n",
            "acc: 0.9732514142284494\n",
            "Epoch: 0/5............. "
          ]
        },
        {
          "output_type": "stream",
          "name": "stderr",
          "text": [
            "\r 46%|████▌     | 171/370 [00:49<00:56,  3.51it/s]"
          ]
        },
        {
          "output_type": "stream",
          "name": "stdout",
          "text": [
            "Loss: 0.0811\n",
            "acc: 0.9718868914840572\n",
            "Epoch: 0/5............. "
          ]
        },
        {
          "output_type": "stream",
          "name": "stderr",
          "text": [
            "\r 46%|████▋     | 172/370 [00:49<00:56,  3.52it/s]"
          ]
        },
        {
          "output_type": "stream",
          "name": "stdout",
          "text": [
            "Loss: 0.0896\n",
            "acc: 0.968913182886982\n",
            "Epoch: 0/5............. "
          ]
        },
        {
          "output_type": "stream",
          "name": "stderr",
          "text": [
            "\r 47%|████▋     | 173/370 [00:49<00:55,  3.53it/s]"
          ]
        },
        {
          "output_type": "stream",
          "name": "stdout",
          "text": [
            "Loss: 0.0979\n",
            "acc: 0.9681563859915728\n",
            "Epoch: 0/5............. "
          ]
        },
        {
          "output_type": "stream",
          "name": "stderr",
          "text": [
            "\r 47%|████▋     | 174/370 [00:50<00:55,  3.54it/s]"
          ]
        },
        {
          "output_type": "stream",
          "name": "stdout",
          "text": [
            "Loss: 0.0971\n",
            "acc: 0.9673441864945573\n",
            "Epoch: 0/5............. "
          ]
        },
        {
          "output_type": "stream",
          "name": "stderr",
          "text": [
            "\r 47%|████▋     | 175/370 [00:50<00:55,  3.54it/s]"
          ]
        },
        {
          "output_type": "stream",
          "name": "stdout",
          "text": [
            "Loss: 0.0962\n",
            "acc: 0.9672008437957198\n",
            "Epoch: 0/5............. "
          ]
        },
        {
          "output_type": "stream",
          "name": "stderr",
          "text": [
            "\r 48%|████▊     | 176/370 [00:50<00:55,  3.52it/s]"
          ]
        },
        {
          "output_type": "stream",
          "name": "stdout",
          "text": [
            "Loss: 0.0896\n",
            "acc: 0.9704639772684787\n",
            "Epoch: 0/5............. "
          ]
        },
        {
          "output_type": "stream",
          "name": "stderr",
          "text": [
            "\r 48%|████▊     | 177/370 [00:50<00:54,  3.53it/s]"
          ]
        },
        {
          "output_type": "stream",
          "name": "stdout",
          "text": [
            "Loss: 0.1027\n",
            "acc: 0.964354671023318\n",
            "Epoch: 0/5............. "
          ]
        },
        {
          "output_type": "stream",
          "name": "stderr",
          "text": [
            "\r 48%|████▊     | 178/370 [00:51<00:54,  3.53it/s]"
          ]
        },
        {
          "output_type": "stream",
          "name": "stdout",
          "text": [
            "Loss: 0.0860\n",
            "acc: 0.9723611376216835\n",
            "Epoch: 0/5............. "
          ]
        },
        {
          "output_type": "stream",
          "name": "stderr",
          "text": [
            "\r 48%|████▊     | 179/370 [00:51<00:54,  3.53it/s]"
          ]
        },
        {
          "output_type": "stream",
          "name": "stdout",
          "text": [
            "Loss: 0.1065\n",
            "acc: 0.9656700668308125\n",
            "Epoch: 0/5............. "
          ]
        },
        {
          "output_type": "stream",
          "name": "stderr",
          "text": [
            "\r 49%|████▊     | 180/370 [00:51<00:53,  3.55it/s]"
          ]
        },
        {
          "output_type": "stream",
          "name": "stdout",
          "text": [
            "Loss: 0.1032\n",
            "acc: 0.966864062811897\n",
            "Epoch: 0/5............. "
          ]
        },
        {
          "output_type": "stream",
          "name": "stderr",
          "text": [
            "\r 49%|████▉     | 181/370 [00:52<00:53,  3.53it/s]"
          ]
        },
        {
          "output_type": "stream",
          "name": "stdout",
          "text": [
            "Loss: 0.0948\n",
            "acc: 0.9676901240101599\n",
            "Epoch: 0/5............. "
          ]
        },
        {
          "output_type": "stream",
          "name": "stderr",
          "text": [
            "\r 49%|████▉     | 182/370 [00:52<00:53,  3.53it/s]"
          ]
        },
        {
          "output_type": "stream",
          "name": "stdout",
          "text": [
            "Loss: 0.0877\n",
            "acc: 0.9701217132110287\n",
            "Epoch: 0/5............. "
          ]
        },
        {
          "output_type": "stream",
          "name": "stderr",
          "text": [
            "\r 49%|████▉     | 183/370 [00:52<00:52,  3.53it/s]"
          ]
        },
        {
          "output_type": "stream",
          "name": "stdout",
          "text": [
            "Loss: 0.1034\n",
            "acc: 0.9669491792432023\n",
            "Epoch: 0/5............. "
          ]
        },
        {
          "output_type": "stream",
          "name": "stderr",
          "text": [
            "\r 50%|████▉     | 184/370 [00:52<00:52,  3.55it/s]"
          ]
        },
        {
          "output_type": "stream",
          "name": "stdout",
          "text": [
            "Loss: 0.0808\n",
            "acc: 0.9719074112232983\n",
            "Epoch: 0/5............. "
          ]
        },
        {
          "output_type": "stream",
          "name": "stderr",
          "text": [
            "\r 50%|█████     | 185/370 [00:53<00:52,  3.52it/s]"
          ]
        },
        {
          "output_type": "stream",
          "name": "stdout",
          "text": [
            "Loss: 0.0996\n",
            "acc: 0.9672675352489738\n",
            "Epoch: 0/5............. "
          ]
        },
        {
          "output_type": "stream",
          "name": "stderr",
          "text": [
            "\r 50%|█████     | 186/370 [00:53<00:52,  3.52it/s]"
          ]
        },
        {
          "output_type": "stream",
          "name": "stdout",
          "text": [
            "Loss: 0.1038\n",
            "acc: 0.9650242627846212\n",
            "Epoch: 0/5............. "
          ]
        },
        {
          "output_type": "stream",
          "name": "stderr",
          "text": [
            "\r 51%|█████     | 187/370 [00:53<00:51,  3.54it/s]"
          ]
        },
        {
          "output_type": "stream",
          "name": "stdout",
          "text": [
            "Loss: 0.0959\n",
            "acc: 0.9688542825361512\n",
            "Epoch: 0/5............. "
          ]
        },
        {
          "output_type": "stream",
          "name": "stderr",
          "text": [
            "\r 51%|█████     | 188/370 [00:54<00:51,  3.53it/s]"
          ]
        },
        {
          "output_type": "stream",
          "name": "stdout",
          "text": [
            "Loss: 0.0884\n",
            "acc: 0.9692658993427345\n",
            "Epoch: 0/5............. "
          ]
        },
        {
          "output_type": "stream",
          "name": "stderr",
          "text": [
            "\r 51%|█████     | 189/370 [00:54<00:51,  3.53it/s]"
          ]
        },
        {
          "output_type": "stream",
          "name": "stdout",
          "text": [
            "Loss: 0.1026\n",
            "acc: 0.9673432123042348\n",
            "Epoch: 0/5............. "
          ]
        },
        {
          "output_type": "stream",
          "name": "stderr",
          "text": [
            "\r 51%|█████▏    | 190/370 [00:54<00:50,  3.54it/s]"
          ]
        },
        {
          "output_type": "stream",
          "name": "stdout",
          "text": [
            "Loss: 0.0959\n",
            "acc: 0.9686050108258584\n",
            "Epoch: 0/5............. "
          ]
        },
        {
          "output_type": "stream",
          "name": "stderr",
          "text": [
            "\r 52%|█████▏    | 191/370 [00:54<00:50,  3.52it/s]"
          ]
        },
        {
          "output_type": "stream",
          "name": "stdout",
          "text": [
            "Loss: 0.0888\n",
            "acc: 0.9692684690475234\n",
            "Epoch: 0/5............. "
          ]
        },
        {
          "output_type": "stream",
          "name": "stderr",
          "text": [
            "\r 52%|█████▏    | 192/370 [00:55<00:50,  3.52it/s]"
          ]
        },
        {
          "output_type": "stream",
          "name": "stdout",
          "text": [
            "Loss: 0.0938\n",
            "acc: 0.9683637674982789\n",
            "Epoch: 0/5............. "
          ]
        },
        {
          "output_type": "stream",
          "name": "stderr",
          "text": [
            "\r 52%|█████▏    | 193/370 [00:55<00:50,  3.52it/s]"
          ]
        },
        {
          "output_type": "stream",
          "name": "stdout",
          "text": [
            "Loss: 0.0969\n",
            "acc: 0.9666058270803759\n",
            "Epoch: 0/5............. "
          ]
        },
        {
          "output_type": "stream",
          "name": "stderr",
          "text": [
            "\r 52%|█████▏    | 194/370 [00:55<00:49,  3.53it/s]"
          ]
        },
        {
          "output_type": "stream",
          "name": "stdout",
          "text": [
            "Loss: 0.0874\n",
            "acc: 0.9723192426962625\n",
            "Epoch: 0/5............. "
          ]
        },
        {
          "output_type": "stream",
          "name": "stderr",
          "text": [
            "\r 53%|█████▎    | 195/370 [00:56<00:49,  3.53it/s]"
          ]
        },
        {
          "output_type": "stream",
          "name": "stdout",
          "text": [
            "Loss: 0.1016\n",
            "acc: 0.9653956212151461\n",
            "Epoch: 0/5............. "
          ]
        },
        {
          "output_type": "stream",
          "name": "stderr",
          "text": [
            "\r 53%|█████▎    | 196/370 [00:56<00:49,  3.54it/s]"
          ]
        },
        {
          "output_type": "stream",
          "name": "stdout",
          "text": [
            "Loss: 0.1007\n",
            "acc: 0.9677430377584145\n",
            "Epoch: 0/5............. "
          ]
        },
        {
          "output_type": "stream",
          "name": "stderr",
          "text": [
            "\r 53%|█████▎    | 197/370 [00:56<00:49,  3.52it/s]"
          ]
        },
        {
          "output_type": "stream",
          "name": "stdout",
          "text": [
            "Loss: 0.0982\n",
            "acc: 0.9668279198341396\n",
            "Epoch: 0/5............. "
          ]
        },
        {
          "output_type": "stream",
          "name": "stderr",
          "text": [
            "\r 54%|█████▎    | 198/370 [00:56<00:48,  3.53it/s]"
          ]
        },
        {
          "output_type": "stream",
          "name": "stdout",
          "text": [
            "Loss: 0.0917\n",
            "acc: 0.971121982010415\n",
            "Epoch: 0/5............. "
          ]
        },
        {
          "output_type": "stream",
          "name": "stderr",
          "text": [
            "\r 54%|█████▍    | 199/370 [00:57<00:48,  3.53it/s]"
          ]
        },
        {
          "output_type": "stream",
          "name": "stdout",
          "text": [
            "Loss: 0.0890\n",
            "acc: 0.9701472191930207\n",
            "Epoch: 0/5............. "
          ]
        },
        {
          "output_type": "stream",
          "name": "stderr",
          "text": [
            "\r 54%|█████▍    | 200/370 [00:57<00:48,  3.52it/s]"
          ]
        },
        {
          "output_type": "stream",
          "name": "stdout",
          "text": [
            "Loss: 0.0993\n",
            "acc: 0.9667638263239581\n",
            "Epoch: 0/5............. "
          ]
        },
        {
          "output_type": "stream",
          "name": "stderr",
          "text": [
            "\r 54%|█████▍    | 201/370 [00:57<00:47,  3.52it/s]"
          ]
        },
        {
          "output_type": "stream",
          "name": "stdout",
          "text": [
            "Loss: 0.0926\n",
            "acc: 0.9706842583554912\n",
            "Epoch: 0/5............. "
          ]
        },
        {
          "output_type": "stream",
          "name": "stderr",
          "text": [
            "\r 55%|█████▍    | 202/370 [00:58<00:47,  3.53it/s]"
          ]
        },
        {
          "output_type": "stream",
          "name": "stdout",
          "text": [
            "Loss: 0.0931\n",
            "acc: 0.9694206354321068\n",
            "Epoch: 0/5............. "
          ]
        },
        {
          "output_type": "stream",
          "name": "stderr",
          "text": [
            "\r 55%|█████▍    | 203/370 [00:58<00:47,  3.53it/s]"
          ]
        },
        {
          "output_type": "stream",
          "name": "stdout",
          "text": [
            "Loss: 0.0898\n",
            "acc: 0.9689215197091738\n",
            "Epoch: 0/5............. "
          ]
        },
        {
          "output_type": "stream",
          "name": "stderr",
          "text": [
            "\r 55%|█████▌    | 204/370 [00:58<00:46,  3.54it/s]"
          ]
        },
        {
          "output_type": "stream",
          "name": "stdout",
          "text": [
            "Loss: 0.0877\n",
            "acc: 0.9707852448190195\n",
            "Epoch: 0/5............. "
          ]
        },
        {
          "output_type": "stream",
          "name": "stderr",
          "text": [
            "\r 55%|█████▌    | 205/370 [00:58<00:46,  3.54it/s]"
          ]
        },
        {
          "output_type": "stream",
          "name": "stdout",
          "text": [
            "Loss: 0.1136\n",
            "acc: 0.9632342329340453\n",
            "Epoch: 0/5............. "
          ]
        },
        {
          "output_type": "stream",
          "name": "stderr",
          "text": [
            "\r 56%|█████▌    | 206/370 [00:59<00:46,  3.52it/s]"
          ]
        },
        {
          "output_type": "stream",
          "name": "stdout",
          "text": [
            "Loss: 0.0933\n",
            "acc: 0.9692294828379113\n",
            "Epoch: 0/5............. "
          ]
        },
        {
          "output_type": "stream",
          "name": "stderr",
          "text": [
            "\r 56%|█████▌    | 207/370 [00:59<00:46,  3.53it/s]"
          ]
        },
        {
          "output_type": "stream",
          "name": "stdout",
          "text": [
            "Loss: 0.1003\n",
            "acc: 0.9664783166360453\n",
            "Epoch: 0/5............. "
          ]
        },
        {
          "output_type": "stream",
          "name": "stderr",
          "text": [
            "\r 56%|█████▌    | 208/370 [00:59<00:45,  3.53it/s]"
          ]
        },
        {
          "output_type": "stream",
          "name": "stdout",
          "text": [
            "Loss: 0.0855\n",
            "acc: 0.9715624077899085\n",
            "Epoch: 0/5............. "
          ]
        },
        {
          "output_type": "stream",
          "name": "stderr",
          "text": [
            "\r 56%|█████▋    | 209/370 [01:00<00:45,  3.55it/s]"
          ]
        },
        {
          "output_type": "stream",
          "name": "stdout",
          "text": [
            "Loss: 0.1184\n",
            "acc: 0.9611243799375344\n",
            "Epoch: 0/5............. "
          ]
        },
        {
          "output_type": "stream",
          "name": "stderr",
          "text": [
            "\r 57%|█████▋    | 210/370 [01:00<00:45,  3.53it/s]"
          ]
        },
        {
          "output_type": "stream",
          "name": "stdout",
          "text": [
            "Loss: 0.1010\n",
            "acc: 0.9672712032309685\n",
            "Epoch: 0/5............. "
          ]
        },
        {
          "output_type": "stream",
          "name": "stderr",
          "text": [
            "\r 57%|█████▋    | 211/370 [01:00<00:45,  3.53it/s]"
          ]
        },
        {
          "output_type": "stream",
          "name": "stdout",
          "text": [
            "Loss: 0.1018\n",
            "acc: 0.9663401155488571\n",
            "Epoch: 0/5............. "
          ]
        },
        {
          "output_type": "stream",
          "name": "stderr",
          "text": [
            "\r 57%|█████▋    | 212/370 [01:00<00:44,  3.54it/s]"
          ]
        },
        {
          "output_type": "stream",
          "name": "stdout",
          "text": [
            "Loss: 0.0976\n",
            "acc: 0.9683077131441729\n",
            "Epoch: 0/5............. "
          ]
        },
        {
          "output_type": "stream",
          "name": "stderr",
          "text": [
            "\r 58%|█████▊    | 213/370 [01:01<00:44,  3.54it/s]"
          ]
        },
        {
          "output_type": "stream",
          "name": "stdout",
          "text": [
            "Loss: 0.1005\n",
            "acc: 0.9672136516982739\n",
            "Epoch: 0/5............. "
          ]
        },
        {
          "output_type": "stream",
          "name": "stderr",
          "text": [
            "\r 58%|█████▊    | 214/370 [01:01<00:44,  3.53it/s]"
          ]
        },
        {
          "output_type": "stream",
          "name": "stdout",
          "text": [
            "Loss: 0.0991\n",
            "acc: 0.9674845276617134\n",
            "Epoch: 0/5............. "
          ]
        },
        {
          "output_type": "stream",
          "name": "stderr",
          "text": [
            "\r 58%|█████▊    | 215/370 [01:01<00:44,  3.52it/s]"
          ]
        },
        {
          "output_type": "stream",
          "name": "stdout",
          "text": [
            "Loss: 0.0826\n",
            "acc: 0.9724191983279838\n",
            "Epoch: 0/5............. "
          ]
        },
        {
          "output_type": "stream",
          "name": "stderr",
          "text": [
            "\r 58%|█████▊    | 216/370 [01:02<00:43,  3.52it/s]"
          ]
        },
        {
          "output_type": "stream",
          "name": "stdout",
          "text": [
            "Loss: 0.1056\n",
            "acc: 0.9674381149119429\n",
            "Epoch: 0/5............. "
          ]
        },
        {
          "output_type": "stream",
          "name": "stderr",
          "text": [
            "\r 59%|█████▊    | 217/370 [01:02<00:43,  3.53it/s]"
          ]
        },
        {
          "output_type": "stream",
          "name": "stdout",
          "text": [
            "Loss: 0.1030\n",
            "acc: 0.9664065473924629\n",
            "Epoch: 0/5............. "
          ]
        },
        {
          "output_type": "stream",
          "name": "stderr",
          "text": [
            "\r 59%|█████▉    | 218/370 [01:02<00:43,  3.53it/s]"
          ]
        },
        {
          "output_type": "stream",
          "name": "stdout",
          "text": [
            "Loss: 0.1045\n",
            "acc: 0.966925315227934\n",
            "Epoch: 0/5............. "
          ]
        },
        {
          "output_type": "stream",
          "name": "stderr",
          "text": [
            "\r 59%|█████▉    | 219/370 [01:02<00:42,  3.53it/s]"
          ]
        },
        {
          "output_type": "stream",
          "name": "stdout",
          "text": [
            "Loss: 0.1022\n",
            "acc: 0.96662580447441\n",
            "Epoch: 0/5............. "
          ]
        },
        {
          "output_type": "stream",
          "name": "stderr",
          "text": [
            "\r 59%|█████▉    | 220/370 [01:03<00:42,  3.53it/s]"
          ]
        },
        {
          "output_type": "stream",
          "name": "stdout",
          "text": [
            "Loss: 0.1020\n",
            "acc: 0.9672714078374456\n",
            "Epoch: 0/5............. "
          ]
        },
        {
          "output_type": "stream",
          "name": "stderr",
          "text": [
            "\r 60%|█████▉    | 221/370 [01:03<00:42,  3.52it/s]"
          ]
        },
        {
          "output_type": "stream",
          "name": "stdout",
          "text": [
            "Loss: 0.0867\n",
            "acc: 0.9723518969031495\n",
            "Epoch: 0/5............. "
          ]
        },
        {
          "output_type": "stream",
          "name": "stderr",
          "text": [
            "\r 60%|██████    | 222/370 [01:03<00:41,  3.53it/s]"
          ]
        },
        {
          "output_type": "stream",
          "name": "stdout",
          "text": [
            "Loss: 0.1001\n",
            "acc: 0.9663186851943288\n",
            "Epoch: 0/5............. "
          ]
        },
        {
          "output_type": "stream",
          "name": "stderr",
          "text": [
            "\r 60%|██████    | 223/370 [01:04<00:41,  3.54it/s]"
          ]
        },
        {
          "output_type": "stream",
          "name": "stdout",
          "text": [
            "Loss: 0.0979\n",
            "acc: 0.9672706794315434\n",
            "Epoch: 0/5............. "
          ]
        },
        {
          "output_type": "stream",
          "name": "stderr",
          "text": [
            "\r 61%|██████    | 224/370 [01:04<00:41,  3.53it/s]"
          ]
        },
        {
          "output_type": "stream",
          "name": "stdout",
          "text": [
            "Loss: 0.1007\n",
            "acc: 0.9663619113334483\n",
            "Epoch: 0/5............. "
          ]
        },
        {
          "output_type": "stream",
          "name": "stderr",
          "text": [
            "\r 61%|██████    | 225/370 [01:04<00:41,  3.53it/s]"
          ]
        },
        {
          "output_type": "stream",
          "name": "stdout",
          "text": [
            "Loss: 0.0948\n",
            "acc: 0.9682545534990045\n",
            "Epoch: 0/5............. "
          ]
        },
        {
          "output_type": "stream",
          "name": "stderr",
          "text": [
            "\r 61%|██████    | 226/370 [01:04<00:40,  3.54it/s]"
          ]
        },
        {
          "output_type": "stream",
          "name": "stdout",
          "text": [
            "Loss: 0.0958\n",
            "acc: 0.96759941089838\n",
            "Epoch: 0/5............. "
          ]
        },
        {
          "output_type": "stream",
          "name": "stderr",
          "text": [
            "\r 61%|██████▏   | 227/370 [01:05<00:40,  3.52it/s]"
          ]
        },
        {
          "output_type": "stream",
          "name": "stdout",
          "text": [
            "Loss: 0.0893\n",
            "acc: 0.9706543967280163\n",
            "Epoch: 0/5............. "
          ]
        },
        {
          "output_type": "stream",
          "name": "stderr",
          "text": [
            "\r 62%|██████▏   | 228/370 [01:05<00:40,  3.53it/s]"
          ]
        },
        {
          "output_type": "stream",
          "name": "stdout",
          "text": [
            "Loss: 0.0882\n",
            "acc: 0.9696696819614424\n",
            "Epoch: 0/5............. "
          ]
        },
        {
          "output_type": "stream",
          "name": "stderr",
          "text": [
            "\r 62%|██████▏   | 229/370 [01:05<00:39,  3.53it/s]"
          ]
        },
        {
          "output_type": "stream",
          "name": "stdout",
          "text": [
            "Loss: 0.0856\n",
            "acc: 0.9729217703739996\n",
            "Epoch: 0/5............. "
          ]
        },
        {
          "output_type": "stream",
          "name": "stderr",
          "text": [
            "\r 62%|██████▏   | 230/370 [01:05<00:39,  3.54it/s]"
          ]
        },
        {
          "output_type": "stream",
          "name": "stdout",
          "text": [
            "Loss: 0.0810\n",
            "acc: 0.9734393317702228\n",
            "Epoch: 0/5............. "
          ]
        },
        {
          "output_type": "stream",
          "name": "stderr",
          "text": [
            "\r 62%|██████▏   | 231/370 [01:06<00:39,  3.52it/s]"
          ]
        },
        {
          "output_type": "stream",
          "name": "stdout",
          "text": [
            "Loss: 0.0902\n",
            "acc: 0.9701692053329581\n",
            "Epoch: 0/5............. "
          ]
        },
        {
          "output_type": "stream",
          "name": "stderr",
          "text": [
            "\r 63%|██████▎   | 232/370 [01:06<00:39,  3.52it/s]"
          ]
        },
        {
          "output_type": "stream",
          "name": "stdout",
          "text": [
            "Loss: 0.0922\n",
            "acc: 0.9693123759315305\n",
            "Epoch: 0/5............. "
          ]
        },
        {
          "output_type": "stream",
          "name": "stderr",
          "text": [
            "\r 63%|██████▎   | 233/370 [01:06<00:38,  3.53it/s]"
          ]
        },
        {
          "output_type": "stream",
          "name": "stdout",
          "text": [
            "Loss: 0.0956\n",
            "acc: 0.9691195795006571\n",
            "Epoch: 0/5............. "
          ]
        },
        {
          "output_type": "stream",
          "name": "stderr",
          "text": [
            "\r 63%|██████▎   | 234/370 [01:07<00:38,  3.53it/s]"
          ]
        },
        {
          "output_type": "stream",
          "name": "stdout",
          "text": [
            "Loss: 0.1004\n",
            "acc: 0.9668210670784011\n",
            "Epoch: 0/5............. "
          ]
        },
        {
          "output_type": "stream",
          "name": "stderr",
          "text": [
            "\r 64%|██████▎   | 235/370 [01:07<00:38,  3.53it/s]"
          ]
        },
        {
          "output_type": "stream",
          "name": "stdout",
          "text": [
            "Loss: 0.1030\n",
            "acc: 0.9655297269896445\n",
            "Epoch: 0/5............. "
          ]
        },
        {
          "output_type": "stream",
          "name": "stderr",
          "text": [
            "\r 64%|██████▍   | 236/370 [01:07<00:38,  3.53it/s]"
          ]
        },
        {
          "output_type": "stream",
          "name": "stdout",
          "text": [
            "Loss: 0.0960\n",
            "acc: 0.96900826446281\n",
            "Epoch: 0/5............. "
          ]
        },
        {
          "output_type": "stream",
          "name": "stderr",
          "text": [
            "\r 64%|██████▍   | 237/370 [01:07<00:37,  3.53it/s]"
          ]
        },
        {
          "output_type": "stream",
          "name": "stdout",
          "text": [
            "Loss: 0.0938\n",
            "acc: 0.9686590848981751\n",
            "Epoch: 0/5............. "
          ]
        },
        {
          "output_type": "stream",
          "name": "stderr",
          "text": [
            "\r 64%|██████▍   | 238/370 [01:08<00:37,  3.53it/s]"
          ]
        },
        {
          "output_type": "stream",
          "name": "stdout",
          "text": [
            "Loss: 0.0882\n",
            "acc: 0.9702260548635508\n",
            "Epoch: 0/5............. "
          ]
        },
        {
          "output_type": "stream",
          "name": "stderr",
          "text": [
            "\r 65%|██████▍   | 239/370 [01:08<00:37,  3.53it/s]"
          ]
        },
        {
          "output_type": "stream",
          "name": "stdout",
          "text": [
            "Loss: 0.0912\n",
            "acc: 0.9687804265209334\n",
            "Epoch: 0/5............. "
          ]
        },
        {
          "output_type": "stream",
          "name": "stderr",
          "text": [
            "\r 65%|██████▍   | 240/370 [01:08<00:36,  3.52it/s]"
          ]
        },
        {
          "output_type": "stream",
          "name": "stdout",
          "text": [
            "Loss: 0.1068\n",
            "acc: 0.9639105748757985\n",
            "Epoch: 0/5............. "
          ]
        },
        {
          "output_type": "stream",
          "name": "stderr",
          "text": [
            "\r 65%|██████▌   | 241/370 [01:09<00:36,  3.53it/s]"
          ]
        },
        {
          "output_type": "stream",
          "name": "stdout",
          "text": [
            "Loss: 0.0970\n",
            "acc: 0.9671415911105051\n",
            "Epoch: 0/5............. "
          ]
        },
        {
          "output_type": "stream",
          "name": "stderr",
          "text": [
            "\r 65%|██████▌   | 242/370 [01:09<00:36,  3.52it/s]"
          ]
        },
        {
          "output_type": "stream",
          "name": "stdout",
          "text": [
            "Loss: 0.0917\n",
            "acc: 0.9683695202975491\n",
            "Epoch: 0/5............. "
          ]
        },
        {
          "output_type": "stream",
          "name": "stderr",
          "text": [
            "\r 66%|██████▌   | 243/370 [01:09<00:35,  3.54it/s]"
          ]
        },
        {
          "output_type": "stream",
          "name": "stdout",
          "text": [
            "Loss: 0.0892\n",
            "acc: 0.9683660933660934\n",
            "Epoch: 0/5............. "
          ]
        },
        {
          "output_type": "stream",
          "name": "stderr",
          "text": [
            "\r 66%|██████▌   | 244/370 [01:09<00:35,  3.53it/s]"
          ]
        },
        {
          "output_type": "stream",
          "name": "stdout",
          "text": [
            "Loss: 0.0934\n",
            "acc: 0.9696041650715872\n",
            "Epoch: 0/5............. "
          ]
        },
        {
          "output_type": "stream",
          "name": "stderr",
          "text": [
            "\r 66%|██████▌   | 245/370 [01:10<00:35,  3.53it/s]"
          ]
        },
        {
          "output_type": "stream",
          "name": "stdout",
          "text": [
            "Loss: 0.0814\n",
            "acc: 0.9728915662650602\n",
            "Epoch: 0/5............. "
          ]
        },
        {
          "output_type": "stream",
          "name": "stderr",
          "text": [
            "\r 66%|██████▋   | 246/370 [01:10<00:35,  3.53it/s]"
          ]
        },
        {
          "output_type": "stream",
          "name": "stdout",
          "text": [
            "Loss: 0.0903\n",
            "acc: 0.9697632058287796\n",
            "Epoch: 0/5............. "
          ]
        },
        {
          "output_type": "stream",
          "name": "stderr",
          "text": [
            "\r 67%|██████▋   | 247/370 [01:10<00:34,  3.54it/s]"
          ]
        },
        {
          "output_type": "stream",
          "name": "stdout",
          "text": [
            "Loss: 0.0953\n",
            "acc: 0.9674308463175235\n",
            "Epoch: 0/5............. "
          ]
        },
        {
          "output_type": "stream",
          "name": "stderr",
          "text": [
            "\r 67%|██████▋   | 248/370 [01:11<00:34,  3.53it/s]"
          ]
        },
        {
          "output_type": "stream",
          "name": "stdout",
          "text": [
            "Loss: 0.1093\n",
            "acc: 0.9651412162407764\n",
            "Epoch: 0/5............. "
          ]
        },
        {
          "output_type": "stream",
          "name": "stderr",
          "text": [
            "\r 67%|██████▋   | 249/370 [01:11<00:34,  3.53it/s]"
          ]
        },
        {
          "output_type": "stream",
          "name": "stdout",
          "text": [
            "Loss: 0.1039\n",
            "acc: 0.965808028912589\n",
            "Epoch: 0/5............. "
          ]
        },
        {
          "output_type": "stream",
          "name": "stderr",
          "text": [
            "\r 68%|██████▊   | 250/370 [01:11<00:34,  3.53it/s]"
          ]
        },
        {
          "output_type": "stream",
          "name": "stdout",
          "text": [
            "Loss: 0.0960\n",
            "acc: 0.9688590604026845\n",
            "Epoch: 0/5............. "
          ]
        },
        {
          "output_type": "stream",
          "name": "stderr",
          "text": [
            "\r 68%|██████▊   | 251/370 [01:11<00:33,  3.53it/s]"
          ]
        },
        {
          "output_type": "stream",
          "name": "stdout",
          "text": [
            "Loss: 0.0943\n",
            "acc: 0.9689209811292664\n",
            "Epoch: 0/5............. "
          ]
        },
        {
          "output_type": "stream",
          "name": "stderr",
          "text": [
            "\r 68%|██████▊   | 252/370 [01:12<00:33,  3.52it/s]"
          ]
        },
        {
          "output_type": "stream",
          "name": "stdout",
          "text": [
            "Loss: 0.0849\n",
            "acc: 0.9703332479789296\n",
            "Epoch: 0/5............. "
          ]
        },
        {
          "output_type": "stream",
          "name": "stderr",
          "text": [
            "\r 68%|██████▊   | 253/370 [01:12<00:33,  3.53it/s]"
          ]
        },
        {
          "output_type": "stream",
          "name": "stdout",
          "text": [
            "Loss: 0.1025\n",
            "acc: 0.9666255059340056\n",
            "Epoch: 0/5............. "
          ]
        },
        {
          "output_type": "stream",
          "name": "stderr",
          "text": [
            "\r 69%|██████▊   | 254/370 [01:12<00:32,  3.53it/s]"
          ]
        },
        {
          "output_type": "stream",
          "name": "stdout",
          "text": [
            "Loss: 0.0877\n",
            "acc: 0.9697345904774687\n",
            "Epoch: 0/5............. "
          ]
        },
        {
          "output_type": "stream",
          "name": "stderr",
          "text": [
            "\r 69%|██████▉   | 255/370 [01:13<00:32,  3.53it/s]"
          ]
        },
        {
          "output_type": "stream",
          "name": "stdout",
          "text": [
            "Loss: 0.0827\n",
            "acc: 0.9713690412041528\n",
            "Epoch: 0/5............. "
          ]
        },
        {
          "output_type": "stream",
          "name": "stderr",
          "text": [
            "\r 69%|██████▉   | 256/370 [01:13<00:32,  3.54it/s]"
          ]
        },
        {
          "output_type": "stream",
          "name": "stdout",
          "text": [
            "Loss: 0.0858\n",
            "acc: 0.9702118507366384\n",
            "Epoch: 0/5............. "
          ]
        },
        {
          "output_type": "stream",
          "name": "stderr",
          "text": [
            "\r 69%|██████▉   | 257/370 [01:13<00:31,  3.53it/s]"
          ]
        },
        {
          "output_type": "stream",
          "name": "stdout",
          "text": [
            "Loss: 0.1058\n",
            "acc: 0.9649962761995957\n",
            "Epoch: 0/5............. "
          ]
        },
        {
          "output_type": "stream",
          "name": "stderr",
          "text": [
            "\r 70%|██████▉   | 258/370 [01:13<00:31,  3.54it/s]"
          ]
        },
        {
          "output_type": "stream",
          "name": "stdout",
          "text": [
            "Loss: 0.0833\n",
            "acc: 0.9713847203274215\n",
            "Epoch: 0/5............. "
          ]
        },
        {
          "output_type": "stream",
          "name": "stderr",
          "text": [
            "\r 70%|███████   | 259/370 [01:14<00:31,  3.54it/s]"
          ]
        },
        {
          "output_type": "stream",
          "name": "stdout",
          "text": [
            "Loss: 0.0933\n",
            "acc: 0.969946161221329\n",
            "Epoch: 0/5............. "
          ]
        },
        {
          "output_type": "stream",
          "name": "stderr",
          "text": [
            "\r 70%|███████   | 260/370 [01:14<00:31,  3.53it/s]"
          ]
        },
        {
          "output_type": "stream",
          "name": "stdout",
          "text": [
            "Loss: 0.0891\n",
            "acc: 0.9706587624059149\n",
            "Epoch: 0/5............. "
          ]
        },
        {
          "output_type": "stream",
          "name": "stderr",
          "text": [
            "\r 71%|███████   | 261/370 [01:14<00:30,  3.52it/s]"
          ]
        },
        {
          "output_type": "stream",
          "name": "stdout",
          "text": [
            "Loss: 0.1074\n",
            "acc: 0.9647806781485468\n",
            "Epoch: 0/5............. "
          ]
        },
        {
          "output_type": "stream",
          "name": "stderr",
          "text": [
            "\r 71%|███████   | 262/370 [01:15<00:30,  3.54it/s]"
          ]
        },
        {
          "output_type": "stream",
          "name": "stdout",
          "text": [
            "Loss: 0.0867\n",
            "acc: 0.9692268003243164\n",
            "Epoch: 0/5............. "
          ]
        },
        {
          "output_type": "stream",
          "name": "stderr",
          "text": [
            "\r 71%|███████   | 263/370 [01:15<00:30,  3.52it/s]"
          ]
        },
        {
          "output_type": "stream",
          "name": "stdout",
          "text": [
            "Loss: 0.0934\n",
            "acc: 0.9699085683422708\n",
            "Epoch: 0/5............. "
          ]
        },
        {
          "output_type": "stream",
          "name": "stderr",
          "text": [
            "\r 71%|███████▏  | 264/370 [01:15<00:30,  3.53it/s]"
          ]
        },
        {
          "output_type": "stream",
          "name": "stdout",
          "text": [
            "Loss: 0.0940\n",
            "acc: 0.9687943262411347\n",
            "Epoch: 0/5............. "
          ]
        },
        {
          "output_type": "stream",
          "name": "stderr",
          "text": [
            "\r 72%|███████▏  | 265/370 [01:15<00:29,  3.53it/s]"
          ]
        },
        {
          "output_type": "stream",
          "name": "stdout",
          "text": [
            "Loss: 0.1035\n",
            "acc: 0.9675272138864371\n",
            "Epoch: 0/5............. "
          ]
        },
        {
          "output_type": "stream",
          "name": "stderr",
          "text": [
            "\r 72%|███████▏  | 266/370 [01:16<00:29,  3.53it/s]"
          ]
        },
        {
          "output_type": "stream",
          "name": "stdout",
          "text": [
            "Loss: 0.0890\n",
            "acc: 0.970743124634289\n",
            "Epoch: 0/5............. "
          ]
        },
        {
          "output_type": "stream",
          "name": "stderr",
          "text": [
            "\r 72%|███████▏  | 267/370 [01:16<00:29,  3.53it/s]"
          ]
        },
        {
          "output_type": "stream",
          "name": "stdout",
          "text": [
            "Loss: 0.1098\n",
            "acc: 0.9631600631737967\n",
            "Epoch: 0/5............. "
          ]
        },
        {
          "output_type": "stream",
          "name": "stderr",
          "text": [
            "\r 72%|███████▏  | 268/370 [01:16<00:28,  3.52it/s]"
          ]
        },
        {
          "output_type": "stream",
          "name": "stdout",
          "text": [
            "Loss: 0.0886\n",
            "acc: 0.9695108295741753\n",
            "Epoch: 0/5............. "
          ]
        },
        {
          "output_type": "stream",
          "name": "stderr",
          "text": [
            "\r 73%|███████▎  | 269/370 [01:17<00:28,  3.53it/s]"
          ]
        },
        {
          "output_type": "stream",
          "name": "stdout",
          "text": [
            "Loss: 0.1082\n",
            "acc: 0.9639233783833279\n",
            "Epoch: 0/5............. "
          ]
        },
        {
          "output_type": "stream",
          "name": "stderr",
          "text": [
            "\r 73%|███████▎  | 270/370 [01:17<00:28,  3.53it/s]"
          ]
        },
        {
          "output_type": "stream",
          "name": "stdout",
          "text": [
            "Loss: 0.0905\n",
            "acc: 0.9706310358513031\n",
            "Epoch: 0/5............. "
          ]
        },
        {
          "output_type": "stream",
          "name": "stderr",
          "text": [
            "\r 73%|███████▎  | 271/370 [01:17<00:28,  3.52it/s]"
          ]
        },
        {
          "output_type": "stream",
          "name": "stdout",
          "text": [
            "Loss: 0.0989\n",
            "acc: 0.9674407132034251\n",
            "Epoch: 0/5............. "
          ]
        },
        {
          "output_type": "stream",
          "name": "stderr",
          "text": [
            "\r 74%|███████▎  | 272/370 [01:17<00:27,  3.53it/s]"
          ]
        },
        {
          "output_type": "stream",
          "name": "stdout",
          "text": [
            "Loss: 0.0979\n",
            "acc: 0.9682133172642362\n",
            "Epoch: 0/5............. "
          ]
        },
        {
          "output_type": "stream",
          "name": "stderr",
          "text": [
            "\r 74%|███████▍  | 273/370 [01:18<00:27,  3.54it/s]"
          ]
        },
        {
          "output_type": "stream",
          "name": "stdout",
          "text": [
            "Loss: 0.0958\n",
            "acc: 0.9691527143581938\n",
            "Epoch: 0/5............. "
          ]
        },
        {
          "output_type": "stream",
          "name": "stderr",
          "text": [
            "\r 74%|███████▍  | 274/370 [01:18<00:27,  3.52it/s]"
          ]
        },
        {
          "output_type": "stream",
          "name": "stdout",
          "text": [
            "Loss: 0.0890\n",
            "acc: 0.9700220426157238\n",
            "Epoch: 0/5............. "
          ]
        },
        {
          "output_type": "stream",
          "name": "stderr",
          "text": [
            "\r 74%|███████▍  | 275/370 [01:18<00:26,  3.53it/s]"
          ]
        },
        {
          "output_type": "stream",
          "name": "stdout",
          "text": [
            "Loss: 0.0914\n",
            "acc: 0.9683382497541789\n",
            "Epoch: 0/5............. "
          ]
        },
        {
          "output_type": "stream",
          "name": "stderr",
          "text": [
            "\r 75%|███████▍  | 276/370 [01:19<00:26,  3.53it/s]"
          ]
        },
        {
          "output_type": "stream",
          "name": "stdout",
          "text": [
            "Loss: 0.0982\n",
            "acc: 0.968127072787572\n",
            "Epoch: 0/5............. "
          ]
        },
        {
          "output_type": "stream",
          "name": "stderr",
          "text": [
            "\r 75%|███████▍  | 277/370 [01:19<00:26,  3.52it/s]"
          ]
        },
        {
          "output_type": "stream",
          "name": "stdout",
          "text": [
            "Loss: 0.0977\n",
            "acc: 0.9687509435101597\n",
            "Epoch: 0/5............. "
          ]
        },
        {
          "output_type": "stream",
          "name": "stderr",
          "text": [
            "\r 75%|███████▌  | 278/370 [01:19<00:26,  3.53it/s]"
          ]
        },
        {
          "output_type": "stream",
          "name": "stdout",
          "text": [
            "Loss: 0.0836\n",
            "acc: 0.9724478152896168\n",
            "Epoch: 0/5............. "
          ]
        },
        {
          "output_type": "stream",
          "name": "stderr",
          "text": [
            "\r 75%|███████▌  | 279/370 [01:19<00:25,  3.54it/s]"
          ]
        },
        {
          "output_type": "stream",
          "name": "stdout",
          "text": [
            "Loss: 0.0936\n",
            "acc: 0.9690577686314861\n",
            "Epoch: 0/5............. "
          ]
        },
        {
          "output_type": "stream",
          "name": "stderr",
          "text": [
            "\r 76%|███████▌  | 280/370 [01:20<00:25,  3.52it/s]"
          ]
        },
        {
          "output_type": "stream",
          "name": "stdout",
          "text": [
            "Loss: 0.0873\n",
            "acc: 0.9710312862108922\n",
            "Epoch: 0/5............. "
          ]
        },
        {
          "output_type": "stream",
          "name": "stderr",
          "text": [
            "\r 76%|███████▌  | 281/370 [01:20<00:25,  3.52it/s]"
          ]
        },
        {
          "output_type": "stream",
          "name": "stdout",
          "text": [
            "Loss: 0.0915\n",
            "acc: 0.9688084374298751\n",
            "Epoch: 0/5............. "
          ]
        },
        {
          "output_type": "stream",
          "name": "stderr",
          "text": [
            "\r 76%|███████▌  | 282/370 [01:20<00:24,  3.52it/s]"
          ]
        },
        {
          "output_type": "stream",
          "name": "stdout",
          "text": [
            "Loss: 0.0971\n",
            "acc: 0.9692588293815287\n",
            "Epoch: 0/5............. "
          ]
        },
        {
          "output_type": "stream",
          "name": "stderr",
          "text": [
            "\r 76%|███████▋  | 283/370 [01:21<00:24,  3.52it/s]"
          ]
        },
        {
          "output_type": "stream",
          "name": "stdout",
          "text": [
            "Loss: 0.0906\n",
            "acc: 0.968945386714567\n",
            "Epoch: 0/5............. "
          ]
        },
        {
          "output_type": "stream",
          "name": "stderr",
          "text": [
            "\r 77%|███████▋  | 284/370 [01:21<00:24,  3.53it/s]"
          ]
        },
        {
          "output_type": "stream",
          "name": "stdout",
          "text": [
            "Loss: 0.0893\n",
            "acc: 0.9701308236550528\n",
            "Epoch: 0/5............. "
          ]
        },
        {
          "output_type": "stream",
          "name": "stderr",
          "text": [
            "\r 77%|███████▋  | 285/370 [01:21<00:24,  3.53it/s]"
          ]
        },
        {
          "output_type": "stream",
          "name": "stdout",
          "text": [
            "Loss: 0.0913\n",
            "acc: 0.9707343412526998\n",
            "Epoch: 0/5............. "
          ]
        },
        {
          "output_type": "stream",
          "name": "stderr",
          "text": [
            "\r 77%|███████▋  | 286/370 [01:21<00:23,  3.53it/s]"
          ]
        },
        {
          "output_type": "stream",
          "name": "stdout",
          "text": [
            "Loss: 0.0863\n",
            "acc: 0.9718913768461171\n",
            "Epoch: 0/5............. "
          ]
        },
        {
          "output_type": "stream",
          "name": "stderr",
          "text": [
            "\r 78%|███████▊  | 287/370 [01:22<00:23,  3.53it/s]"
          ]
        },
        {
          "output_type": "stream",
          "name": "stdout",
          "text": [
            "Loss: 0.0968\n",
            "acc: 0.9666603235014272\n",
            "Epoch: 0/5............. "
          ]
        },
        {
          "output_type": "stream",
          "name": "stderr",
          "text": [
            "\r 78%|███████▊  | 288/370 [01:22<00:23,  3.53it/s]"
          ]
        },
        {
          "output_type": "stream",
          "name": "stdout",
          "text": [
            "Loss: 0.0815\n",
            "acc: 0.9709570318795733\n",
            "Epoch: 0/5............. "
          ]
        },
        {
          "output_type": "stream",
          "name": "stderr",
          "text": [
            "\r 78%|███████▊  | 289/370 [01:22<00:22,  3.53it/s]"
          ]
        },
        {
          "output_type": "stream",
          "name": "stdout",
          "text": [
            "Loss: 0.0950\n",
            "acc: 0.9671511837087141\n",
            "Epoch: 0/5............. "
          ]
        },
        {
          "output_type": "stream",
          "name": "stderr",
          "text": [
            "\r 78%|███████▊  | 290/370 [01:22<00:22,  3.53it/s]"
          ]
        },
        {
          "output_type": "stream",
          "name": "stdout",
          "text": [
            "Loss: 0.0972\n",
            "acc: 0.966401865753225\n",
            "Epoch: 0/5............. "
          ]
        },
        {
          "output_type": "stream",
          "name": "stderr",
          "text": [
            "\r 79%|███████▊  | 291/370 [01:23<00:22,  3.53it/s]"
          ]
        },
        {
          "output_type": "stream",
          "name": "stdout",
          "text": [
            "Loss: 0.0802\n",
            "acc: 0.973674959965629\n"
          ]
        },
        {
          "output_type": "stream",
          "name": "stderr",
          "text": [
            "\r 79%|███████▉  | 292/370 [01:24<00:43,  1.80it/s]"
          ]
        },
        {
          "output_type": "stream",
          "name": "stdout",
          "text": [
            "Epoch: 0/5............. Loss: 0.1067\n",
            "acc: 0.9644021927694123\n"
          ]
        },
        {
          "output_type": "stream",
          "name": "stderr",
          "text": [
            "\r 79%|███████▉  | 293/370 [01:24<00:36,  2.11it/s]"
          ]
        },
        {
          "output_type": "stream",
          "name": "stdout",
          "text": [
            "Epoch: 0/5............. Loss: 0.0903\n",
            "acc: 0.9700958758179882\n"
          ]
        },
        {
          "output_type": "stream",
          "name": "stderr",
          "text": [
            "\r 79%|███████▉  | 294/370 [01:25<00:31,  2.41it/s]"
          ]
        },
        {
          "output_type": "stream",
          "name": "stdout",
          "text": [
            "Epoch: 0/5............. Loss: 0.0988\n",
            "acc: 0.9685472146377788\n"
          ]
        },
        {
          "output_type": "stream",
          "name": "stderr",
          "text": [
            "\r 80%|███████▉  | 295/370 [01:25<00:28,  2.66it/s]"
          ]
        },
        {
          "output_type": "stream",
          "name": "stdout",
          "text": [
            "Epoch: 0/5............. Loss: 0.0919\n",
            "acc: 0.9682234934566256\n"
          ]
        },
        {
          "output_type": "stream",
          "name": "stderr",
          "text": [
            "\r 80%|████████  | 296/370 [01:25<00:25,  2.88it/s]"
          ]
        },
        {
          "output_type": "stream",
          "name": "stdout",
          "text": [
            "Epoch: 0/5............. Loss: 0.1180\n",
            "acc: 0.9630167341636738\n"
          ]
        },
        {
          "output_type": "stream",
          "name": "stderr",
          "text": [
            "\r 80%|████████  | 297/370 [01:25<00:24,  3.04it/s]"
          ]
        },
        {
          "output_type": "stream",
          "name": "stdout",
          "text": [
            "Epoch: 0/5............. Loss: 0.0890\n",
            "acc: 0.9691636915105368\n"
          ]
        },
        {
          "output_type": "stream",
          "name": "stderr",
          "text": [
            "\r 81%|████████  | 298/370 [01:26<00:22,  3.17it/s]"
          ]
        },
        {
          "output_type": "stream",
          "name": "stdout",
          "text": [
            "Epoch: 0/5............. Loss: 0.0958\n",
            "acc: 0.967862969004894\n"
          ]
        },
        {
          "output_type": "stream",
          "name": "stderr",
          "text": [
            "\r 81%|████████  | 299/370 [01:26<00:21,  3.27it/s]"
          ]
        },
        {
          "output_type": "stream",
          "name": "stdout",
          "text": [
            "Epoch: 0/5............. Loss: 0.1209\n",
            "acc: 0.9625522009995208\n"
          ]
        },
        {
          "output_type": "stream",
          "name": "stderr",
          "text": [
            "\r 81%|████████  | 300/370 [01:26<00:20,  3.35it/s]"
          ]
        },
        {
          "output_type": "stream",
          "name": "stdout",
          "text": [
            "Epoch: 0/5............. Loss: 0.0961\n",
            "acc: 0.9668092582690399\n"
          ]
        },
        {
          "output_type": "stream",
          "name": "stderr",
          "text": [
            "\r 81%|████████▏ | 301/370 [01:27<00:20,  3.41it/s]"
          ]
        },
        {
          "output_type": "stream",
          "name": "stdout",
          "text": [
            "Epoch: 0/5............. Loss: 0.0917\n",
            "acc: 0.969643583141347\n"
          ]
        },
        {
          "output_type": "stream",
          "name": "stderr",
          "text": [
            "\r 82%|████████▏ | 302/370 [01:27<00:19,  3.44it/s]"
          ]
        },
        {
          "output_type": "stream",
          "name": "stdout",
          "text": [
            "Epoch: 0/5............. Loss: 0.0835\n",
            "acc: 0.9714793834804374\n"
          ]
        },
        {
          "output_type": "stream",
          "name": "stderr",
          "text": [
            "\r 82%|████████▏ | 303/370 [01:27<00:19,  3.48it/s]"
          ]
        },
        {
          "output_type": "stream",
          "name": "stdout",
          "text": [
            "Epoch: 0/5............. Loss: 0.0817\n",
            "acc: 0.97289624873268\n"
          ]
        },
        {
          "output_type": "stream",
          "name": "stderr",
          "text": [
            "\r 82%|████████▏ | 304/370 [01:27<00:18,  3.49it/s]"
          ]
        },
        {
          "output_type": "stream",
          "name": "stdout",
          "text": [
            "Epoch: 0/5............. Loss: 0.1241\n",
            "acc: 0.9611568799298861\n"
          ]
        },
        {
          "output_type": "stream",
          "name": "stderr",
          "text": [
            "\r 82%|████████▏ | 305/370 [01:28<00:18,  3.49it/s]"
          ]
        },
        {
          "output_type": "stream",
          "name": "stdout",
          "text": [
            "Epoch: 0/5............. Loss: 0.0945\n",
            "acc: 0.968012899838752\n"
          ]
        },
        {
          "output_type": "stream",
          "name": "stderr",
          "text": [
            "\r 83%|████████▎ | 306/370 [01:28<00:18,  3.50it/s]"
          ]
        },
        {
          "output_type": "stream",
          "name": "stdout",
          "text": [
            "Epoch: 0/5............. Loss: 0.0846\n",
            "acc: 0.9719886940136252\n"
          ]
        },
        {
          "output_type": "stream",
          "name": "stderr",
          "text": [
            "\r 83%|████████▎ | 307/370 [01:28<00:17,  3.52it/s]"
          ]
        },
        {
          "output_type": "stream",
          "name": "stdout",
          "text": [
            "Epoch: 0/5............. Loss: 0.0862\n",
            "acc: 0.9719615384615384\n"
          ]
        },
        {
          "output_type": "stream",
          "name": "stderr",
          "text": [
            "\r 83%|████████▎ | 308/370 [01:28<00:17,  3.53it/s]"
          ]
        },
        {
          "output_type": "stream",
          "name": "stdout",
          "text": [
            "Epoch: 0/5............. Loss: 0.1117\n",
            "acc: 0.9655995695742821\n"
          ]
        },
        {
          "output_type": "stream",
          "name": "stderr",
          "text": [
            "\r 84%|████████▎ | 309/370 [01:29<00:17,  3.53it/s]"
          ]
        },
        {
          "output_type": "stream",
          "name": "stdout",
          "text": [
            "Epoch: 0/5............. Loss: 0.0878\n",
            "acc: 0.9711261934890142\n"
          ]
        },
        {
          "output_type": "stream",
          "name": "stderr",
          "text": [
            "\r 84%|████████▍ | 310/370 [01:29<00:17,  3.52it/s]"
          ]
        },
        {
          "output_type": "stream",
          "name": "stdout",
          "text": [
            "Epoch: 0/5............. Loss: 0.0864\n",
            "acc: 0.9715621719629736\n"
          ]
        },
        {
          "output_type": "stream",
          "name": "stderr",
          "text": [
            "\r 84%|████████▍ | 311/370 [01:29<00:16,  3.53it/s]"
          ]
        },
        {
          "output_type": "stream",
          "name": "stdout",
          "text": [
            "Epoch: 0/5............. Loss: 0.0838\n",
            "acc: 0.9714202269692924\n"
          ]
        },
        {
          "output_type": "stream",
          "name": "stderr",
          "text": [
            "\r 84%|████████▍ | 312/370 [01:30<00:16,  3.52it/s]"
          ]
        },
        {
          "output_type": "stream",
          "name": "stdout",
          "text": [
            "Epoch: 0/5............. Loss: 0.0867\n",
            "acc: 0.9713941289544847\n"
          ]
        },
        {
          "output_type": "stream",
          "name": "stderr",
          "text": [
            "\r 85%|████████▍ | 313/370 [01:30<00:16,  3.53it/s]"
          ]
        },
        {
          "output_type": "stream",
          "name": "stdout",
          "text": [
            "Epoch: 0/5............. Loss: 0.0871\n",
            "acc: 0.9702013885894174\n"
          ]
        },
        {
          "output_type": "stream",
          "name": "stderr",
          "text": [
            "\r 85%|████████▍ | 314/370 [01:30<00:15,  3.53it/s]"
          ]
        },
        {
          "output_type": "stream",
          "name": "stdout",
          "text": [
            "Epoch: 0/5............. Loss: 0.0879\n",
            "acc: 0.970370631341601\n"
          ]
        },
        {
          "output_type": "stream",
          "name": "stderr",
          "text": [
            "\r 85%|████████▌ | 315/370 [01:30<00:15,  3.53it/s]"
          ]
        },
        {
          "output_type": "stream",
          "name": "stdout",
          "text": [
            "Epoch: 0/5............. Loss: 0.0899\n",
            "acc: 0.970480052815241\n"
          ]
        },
        {
          "output_type": "stream",
          "name": "stderr",
          "text": [
            "\r 85%|████████▌ | 316/370 [01:31<00:15,  3.51it/s]"
          ]
        },
        {
          "output_type": "stream",
          "name": "stdout",
          "text": [
            "Epoch: 0/5............. Loss: 0.0981\n",
            "acc: 0.9676564495530012\n"
          ]
        },
        {
          "output_type": "stream",
          "name": "stderr",
          "text": [
            "\r 86%|████████▌ | 317/370 [01:31<00:15,  3.52it/s]"
          ]
        },
        {
          "output_type": "stream",
          "name": "stdout",
          "text": [
            "Epoch: 0/5............. Loss: 0.0842\n",
            "acc: 0.9720487249387487\n"
          ]
        },
        {
          "output_type": "stream",
          "name": "stderr",
          "text": [
            "\r 86%|████████▌ | 318/370 [01:31<00:14,  3.52it/s]"
          ]
        },
        {
          "output_type": "stream",
          "name": "stdout",
          "text": [
            "Epoch: 0/5............. Loss: 0.0821\n",
            "acc: 0.9723475917817447\n"
          ]
        },
        {
          "output_type": "stream",
          "name": "stderr",
          "text": [
            "\r 86%|████████▌ | 319/370 [01:32<00:14,  3.53it/s]"
          ]
        },
        {
          "output_type": "stream",
          "name": "stdout",
          "text": [
            "Epoch: 0/5............. Loss: 0.0901\n",
            "acc: 0.9707185135823763\n"
          ]
        },
        {
          "output_type": "stream",
          "name": "stderr",
          "text": [
            "\r 86%|████████▋ | 320/370 [01:32<00:14,  3.53it/s]"
          ]
        },
        {
          "output_type": "stream",
          "name": "stdout",
          "text": [
            "Epoch: 0/5............. Loss: 0.0947\n",
            "acc: 0.9696155568349005\n"
          ]
        },
        {
          "output_type": "stream",
          "name": "stderr",
          "text": [
            "\r 87%|████████▋ | 321/370 [01:32<00:13,  3.52it/s]"
          ]
        },
        {
          "output_type": "stream",
          "name": "stdout",
          "text": [
            "Epoch: 0/5............. Loss: 0.0935\n",
            "acc: 0.9692225008957362\n"
          ]
        },
        {
          "output_type": "stream",
          "name": "stderr",
          "text": [
            "\r 87%|████████▋ | 322/370 [01:32<00:13,  3.53it/s]"
          ]
        },
        {
          "output_type": "stream",
          "name": "stdout",
          "text": [
            "Epoch: 0/5............. Loss: 0.0958\n",
            "acc: 0.9683097217343792\n"
          ]
        },
        {
          "output_type": "stream",
          "name": "stderr",
          "text": [
            "\r 87%|████████▋ | 323/370 [01:33<00:13,  3.54it/s]"
          ]
        },
        {
          "output_type": "stream",
          "name": "stdout",
          "text": [
            "Epoch: 0/5............. Loss: 0.1055\n",
            "acc: 0.9662894701179021\n"
          ]
        },
        {
          "output_type": "stream",
          "name": "stderr",
          "text": [
            "\r 88%|████████▊ | 324/370 [01:33<00:13,  3.53it/s]"
          ]
        },
        {
          "output_type": "stream",
          "name": "stdout",
          "text": [
            "Epoch: 0/5............. Loss: 0.0909\n",
            "acc: 0.9691574919965644\n"
          ]
        },
        {
          "output_type": "stream",
          "name": "stderr",
          "text": [
            "\r 88%|████████▊ | 325/370 [01:33<00:12,  3.52it/s]"
          ]
        },
        {
          "output_type": "stream",
          "name": "stdout",
          "text": [
            "Epoch: 0/5............. Loss: 0.1011\n",
            "acc: 0.9678954022223701\n"
          ]
        },
        {
          "output_type": "stream",
          "name": "stderr",
          "text": [
            "\r 88%|████████▊ | 326/370 [01:34<00:12,  3.52it/s]"
          ]
        },
        {
          "output_type": "stream",
          "name": "stdout",
          "text": [
            "Epoch: 0/5............. Loss: 0.0901\n",
            "acc: 0.9699765964560347\n"
          ]
        },
        {
          "output_type": "stream",
          "name": "stderr",
          "text": [
            "\r 88%|████████▊ | 327/370 [01:34<00:12,  3.52it/s]"
          ]
        },
        {
          "output_type": "stream",
          "name": "stdout",
          "text": [
            "Epoch: 0/5............. Loss: 0.0894\n",
            "acc: 0.9699012437224038\n"
          ]
        },
        {
          "output_type": "stream",
          "name": "stderr",
          "text": [
            "\r 89%|████████▊ | 328/370 [01:34<00:11,  3.52it/s]"
          ]
        },
        {
          "output_type": "stream",
          "name": "stdout",
          "text": [
            "Epoch: 0/5............. Loss: 0.0839\n",
            "acc: 0.9719376237279894\n"
          ]
        },
        {
          "output_type": "stream",
          "name": "stderr",
          "text": [
            "\r 89%|████████▉ | 329/370 [01:34<00:11,  3.52it/s]"
          ]
        },
        {
          "output_type": "stream",
          "name": "stdout",
          "text": [
            "Epoch: 0/5............. Loss: 0.0807\n",
            "acc: 0.9717678995588734\n"
          ]
        },
        {
          "output_type": "stream",
          "name": "stderr",
          "text": [
            "\r 89%|████████▉ | 330/370 [01:35<00:11,  3.54it/s]"
          ]
        },
        {
          "output_type": "stream",
          "name": "stdout",
          "text": [
            "Epoch: 0/5............. Loss: 0.0992\n",
            "acc: 0.9686523677466915\n"
          ]
        },
        {
          "output_type": "stream",
          "name": "stderr",
          "text": [
            "\r 89%|████████▉ | 331/370 [01:35<00:11,  3.54it/s]"
          ]
        },
        {
          "output_type": "stream",
          "name": "stdout",
          "text": [
            "Epoch: 0/5............. Loss: 0.0862\n",
            "acc: 0.9715714481435813\n"
          ]
        },
        {
          "output_type": "stream",
          "name": "stderr",
          "text": [
            "\r 90%|████████▉ | 332/370 [01:35<00:10,  3.52it/s]"
          ]
        },
        {
          "output_type": "stream",
          "name": "stdout",
          "text": [
            "Epoch: 0/5............. Loss: 0.0751\n",
            "acc: 0.9737084361306477\n"
          ]
        },
        {
          "output_type": "stream",
          "name": "stderr",
          "text": [
            "\r 90%|█████████ | 333/370 [01:36<00:10,  3.53it/s]"
          ]
        },
        {
          "output_type": "stream",
          "name": "stdout",
          "text": [
            "Epoch: 0/5............. Loss: 0.0880\n",
            "acc: 0.9689308049897997\n"
          ]
        },
        {
          "output_type": "stream",
          "name": "stderr",
          "text": [
            "\r 90%|█████████ | 334/370 [01:36<00:10,  3.53it/s]"
          ]
        },
        {
          "output_type": "stream",
          "name": "stdout",
          "text": [
            "Epoch: 0/5............. Loss: 0.0935\n",
            "acc: 0.9711407283030749\n"
          ]
        },
        {
          "output_type": "stream",
          "name": "stderr",
          "text": [
            "\r 91%|█████████ | 335/370 [01:36<00:09,  3.54it/s]"
          ]
        },
        {
          "output_type": "stream",
          "name": "stdout",
          "text": [
            "Epoch: 0/5............. Loss: 0.0882\n",
            "acc: 0.9698531393155484\n"
          ]
        },
        {
          "output_type": "stream",
          "name": "stderr",
          "text": [
            "\r 91%|█████████ | 336/370 [01:36<00:09,  3.52it/s]"
          ]
        },
        {
          "output_type": "stream",
          "name": "stdout",
          "text": [
            "Epoch: 0/5............. Loss: 0.0867\n",
            "acc: 0.971415469275451\n"
          ]
        },
        {
          "output_type": "stream",
          "name": "stderr",
          "text": [
            "\r 91%|█████████ | 337/370 [01:37<00:09,  3.51it/s]"
          ]
        },
        {
          "output_type": "stream",
          "name": "stdout",
          "text": [
            "Epoch: 0/5............. Loss: 0.0897\n",
            "acc: 0.9710086937543196\n"
          ]
        },
        {
          "output_type": "stream",
          "name": "stderr",
          "text": [
            "\r 91%|█████████▏| 338/370 [01:37<00:09,  3.51it/s]"
          ]
        },
        {
          "output_type": "stream",
          "name": "stdout",
          "text": [
            "Epoch: 0/5............. Loss: 0.0854\n",
            "acc: 0.9723243319666337\n"
          ]
        },
        {
          "output_type": "stream",
          "name": "stderr",
          "text": [
            "\r 92%|█████████▏| 339/370 [01:37<00:08,  3.52it/s]"
          ]
        },
        {
          "output_type": "stream",
          "name": "stdout",
          "text": [
            "Epoch: 0/5............. Loss: 0.0956\n",
            "acc: 0.9677512514439738\n"
          ]
        },
        {
          "output_type": "stream",
          "name": "stderr",
          "text": [
            "\r 92%|█████████▏| 340/370 [01:38<00:08,  3.52it/s]"
          ]
        },
        {
          "output_type": "stream",
          "name": "stdout",
          "text": [
            "Epoch: 0/5............. Loss: 0.0995\n",
            "acc: 0.9687131485849056\n"
          ]
        },
        {
          "output_type": "stream",
          "name": "stderr",
          "text": [
            "\r 92%|█████████▏| 341/370 [01:38<00:08,  3.52it/s]"
          ]
        },
        {
          "output_type": "stream",
          "name": "stdout",
          "text": [
            "Epoch: 0/5............. Loss: 0.0875\n",
            "acc: 0.9707929673484033\n"
          ]
        },
        {
          "output_type": "stream",
          "name": "stderr",
          "text": [
            "\r 92%|█████████▏| 342/370 [01:38<00:07,  3.53it/s]"
          ]
        },
        {
          "output_type": "stream",
          "name": "stdout",
          "text": [
            "Epoch: 0/5............. Loss: 0.0827\n",
            "acc: 0.9732292078154912\n"
          ]
        },
        {
          "output_type": "stream",
          "name": "stderr",
          "text": [
            "\r 93%|█████████▎| 343/370 [01:38<00:07,  3.52it/s]"
          ]
        },
        {
          "output_type": "stream",
          "name": "stdout",
          "text": [
            "Epoch: 0/5............. Loss: 0.0915\n",
            "acc: 0.9695987944999058\n"
          ]
        },
        {
          "output_type": "stream",
          "name": "stderr",
          "text": [
            "\r 93%|█████████▎| 344/370 [01:39<00:07,  3.52it/s]"
          ]
        },
        {
          "output_type": "stream",
          "name": "stdout",
          "text": [
            "Epoch: 0/5............. Loss: 0.0866\n",
            "acc: 0.9708658465942004\n"
          ]
        },
        {
          "output_type": "stream",
          "name": "stderr",
          "text": [
            "\r 93%|█████████▎| 345/370 [01:39<00:07,  3.54it/s]"
          ]
        },
        {
          "output_type": "stream",
          "name": "stdout",
          "text": [
            "Epoch: 0/5............. Loss: 0.0869\n",
            "acc: 0.9714972421655933\n"
          ]
        },
        {
          "output_type": "stream",
          "name": "stderr",
          "text": [
            "\r 94%|█████████▎| 346/370 [01:39<00:06,  3.53it/s]"
          ]
        },
        {
          "output_type": "stream",
          "name": "stdout",
          "text": [
            "Epoch: 0/5............. Loss: 0.0850\n",
            "acc: 0.9715390790337882\n"
          ]
        },
        {
          "output_type": "stream",
          "name": "stderr",
          "text": [
            "\r 94%|█████████▍| 347/370 [01:40<00:06,  3.53it/s]"
          ]
        },
        {
          "output_type": "stream",
          "name": "stdout",
          "text": [
            "Epoch: 0/5............. Loss: 0.0878\n",
            "acc: 0.969739646772229\n"
          ]
        },
        {
          "output_type": "stream",
          "name": "stderr",
          "text": [
            "\r 94%|█████████▍| 348/370 [01:40<00:06,  3.52it/s]"
          ]
        },
        {
          "output_type": "stream",
          "name": "stdout",
          "text": [
            "Epoch: 0/5............. Loss: 0.0888\n",
            "acc: 0.9702683592040136\n"
          ]
        },
        {
          "output_type": "stream",
          "name": "stderr",
          "text": [
            "\r 94%|█████████▍| 349/370 [01:40<00:05,  3.52it/s]"
          ]
        },
        {
          "output_type": "stream",
          "name": "stdout",
          "text": [
            "Epoch: 0/5............. Loss: 0.0777\n",
            "acc: 0.9738160990078756\n"
          ]
        },
        {
          "output_type": "stream",
          "name": "stderr",
          "text": [
            "\r 95%|█████████▍| 350/370 [01:40<00:05,  3.54it/s]"
          ]
        },
        {
          "output_type": "stream",
          "name": "stdout",
          "text": [
            "Epoch: 0/5............. Loss: 0.0827\n",
            "acc: 0.9731442365721182\n"
          ]
        },
        {
          "output_type": "stream",
          "name": "stderr",
          "text": [
            "\r 95%|█████████▍| 351/370 [01:41<00:05,  3.53it/s]"
          ]
        },
        {
          "output_type": "stream",
          "name": "stdout",
          "text": [
            "Epoch: 0/5............. Loss: 0.0896\n",
            "acc: 0.9697992871881448\n"
          ]
        },
        {
          "output_type": "stream",
          "name": "stderr",
          "text": [
            "\r 95%|█████████▌| 352/370 [01:41<00:05,  3.52it/s]"
          ]
        },
        {
          "output_type": "stream",
          "name": "stdout",
          "text": [
            "Epoch: 0/5............. Loss: 0.0980\n",
            "acc: 0.9663951895265641\n"
          ]
        },
        {
          "output_type": "stream",
          "name": "stderr",
          "text": [
            "\r 95%|█████████▌| 353/370 [01:41<00:04,  3.51it/s]"
          ]
        },
        {
          "output_type": "stream",
          "name": "stdout",
          "text": [
            "Epoch: 0/5............. Loss: 0.0870\n",
            "acc: 0.9694711617371894\n"
          ]
        },
        {
          "output_type": "stream",
          "name": "stderr",
          "text": [
            "\r 96%|█████████▌| 354/370 [01:42<00:04,  3.51it/s]"
          ]
        },
        {
          "output_type": "stream",
          "name": "stdout",
          "text": [
            "Epoch: 0/5............. Loss: 0.0833\n",
            "acc: 0.9709372892784895\n"
          ]
        },
        {
          "output_type": "stream",
          "name": "stderr",
          "text": [
            "\r 96%|█████████▌| 355/370 [01:42<00:04,  3.49it/s]"
          ]
        },
        {
          "output_type": "stream",
          "name": "stdout",
          "text": [
            "Epoch: 0/5............. Loss: 0.0891\n",
            "acc: 0.9702648860030989\n"
          ]
        },
        {
          "output_type": "stream",
          "name": "stderr",
          "text": [
            "\r 96%|█████████▌| 356/370 [01:42<00:04,  3.48it/s]"
          ]
        },
        {
          "output_type": "stream",
          "name": "stdout",
          "text": [
            "Epoch: 0/5............. Loss: 0.0846\n",
            "acc: 0.973420094849454\n"
          ]
        },
        {
          "output_type": "stream",
          "name": "stderr",
          "text": [
            "\r 96%|█████████▋| 357/370 [01:42<00:03,  3.48it/s]"
          ]
        },
        {
          "output_type": "stream",
          "name": "stdout",
          "text": [
            "Epoch: 0/5............. Loss: 0.0888\n",
            "acc: 0.9702876007872516\n"
          ]
        },
        {
          "output_type": "stream",
          "name": "stderr",
          "text": [
            "\r 97%|█████████▋| 358/370 [01:43<00:03,  3.48it/s]"
          ]
        },
        {
          "output_type": "stream",
          "name": "stdout",
          "text": [
            "Epoch: 0/5............. Loss: 0.0940\n",
            "acc: 0.9659731543624162\n"
          ]
        },
        {
          "output_type": "stream",
          "name": "stderr",
          "text": [
            "\r 97%|█████████▋| 359/370 [01:43<00:03,  3.49it/s]"
          ]
        },
        {
          "output_type": "stream",
          "name": "stdout",
          "text": [
            "Epoch: 0/5............. Loss: 0.0879\n",
            "acc: 0.9697992073110813\n"
          ]
        },
        {
          "output_type": "stream",
          "name": "stderr",
          "text": [
            "\r 97%|█████████▋| 360/370 [01:43<00:02,  3.51it/s]"
          ]
        },
        {
          "output_type": "stream",
          "name": "stdout",
          "text": [
            "Epoch: 0/5............. Loss: 0.0915\n",
            "acc: 0.96904086078289\n"
          ]
        },
        {
          "output_type": "stream",
          "name": "stderr",
          "text": [
            "\r 98%|█████████▊| 361/370 [01:44<00:02,  3.52it/s]"
          ]
        },
        {
          "output_type": "stream",
          "name": "stdout",
          "text": [
            "Epoch: 0/5............. Loss: 0.0911\n",
            "acc: 0.9699840879502387\n"
          ]
        },
        {
          "output_type": "stream",
          "name": "stderr",
          "text": [
            "\r 98%|█████████▊| 362/370 [01:44<00:02,  3.51it/s]"
          ]
        },
        {
          "output_type": "stream",
          "name": "stdout",
          "text": [
            "Epoch: 0/5............. Loss: 0.0904\n",
            "acc: 0.9695690956497873\n"
          ]
        },
        {
          "output_type": "stream",
          "name": "stderr",
          "text": [
            "\r 98%|█████████▊| 363/370 [01:44<00:01,  3.53it/s]"
          ]
        },
        {
          "output_type": "stream",
          "name": "stdout",
          "text": [
            "Epoch: 0/5............. Loss: 0.0978\n",
            "acc: 0.9662129482484626\n"
          ]
        },
        {
          "output_type": "stream",
          "name": "stderr",
          "text": [
            "\r 98%|█████████▊| 364/370 [01:44<00:01,  3.52it/s]"
          ]
        },
        {
          "output_type": "stream",
          "name": "stdout",
          "text": [
            "Epoch: 0/5............. Loss: 0.0885\n",
            "acc: 0.9699147421030281\n"
          ]
        },
        {
          "output_type": "stream",
          "name": "stderr",
          "text": [
            "\r 99%|█████████▊| 365/370 [01:45<00:01,  3.54it/s]"
          ]
        },
        {
          "output_type": "stream",
          "name": "stdout",
          "text": [
            "Epoch: 0/5............. Loss: 0.0923\n",
            "acc: 0.9675548189699134\n"
          ]
        },
        {
          "output_type": "stream",
          "name": "stderr",
          "text": [
            "\r 99%|█████████▉| 366/370 [01:45<00:01,  3.52it/s]"
          ]
        },
        {
          "output_type": "stream",
          "name": "stdout",
          "text": [
            "Epoch: 0/5............. Loss: 0.0929\n",
            "acc: 0.96884292605564\n"
          ]
        },
        {
          "output_type": "stream",
          "name": "stderr",
          "text": [
            "\r 99%|█████████▉| 367/370 [01:45<00:00,  3.51it/s]"
          ]
        },
        {
          "output_type": "stream",
          "name": "stdout",
          "text": [
            "Epoch: 0/5............. Loss: 0.0959\n",
            "acc: 0.9671903151373392\n"
          ]
        },
        {
          "output_type": "stream",
          "name": "stderr",
          "text": [
            "\r 99%|█████████▉| 368/370 [01:46<00:00,  3.51it/s]"
          ]
        },
        {
          "output_type": "stream",
          "name": "stdout",
          "text": [
            "Epoch: 0/5............. Loss: 0.0873\n",
            "acc: 0.9707156927117531\n"
          ]
        },
        {
          "output_type": "stream",
          "name": "stderr",
          "text": [
            "\r100%|█████████▉| 369/370 [01:46<00:00,  3.52it/s]"
          ]
        },
        {
          "output_type": "stream",
          "name": "stdout",
          "text": [
            "Epoch: 0/5............. Loss: 0.0931\n",
            "acc: 0.9680640042316847\n",
            "Epoch: 0/5............. "
          ]
        },
        {
          "output_type": "stream",
          "name": "stderr",
          "text": [
            "\r100%|██████████| 370/370 [01:46<00:00,  3.48it/s]\n"
          ]
        },
        {
          "output_type": "stream",
          "name": "stdout",
          "text": [
            "Loss: 0.0787\n",
            "acc: 0.9716193656093489\n",
            "Epochs: 1 | Train Loss: 0.00018873535736929625         | Train Accuracy: 0.18160510351638276\n",
            "\n",
            "Decaying rate\n"
          ]
        },
        {
          "output_type": "stream",
          "name": "stderr",
          "text": [
            "\r  0%|          | 0/370 [00:00<?, ?it/s]"
          ]
        },
        {
          "output_type": "stream",
          "name": "stdout",
          "text": [
            "Epoch: 1/5............. "
          ]
        },
        {
          "output_type": "stream",
          "name": "stderr",
          "text": [
            "\r  0%|          | 1/370 [00:00<01:41,  3.65it/s]"
          ]
        },
        {
          "output_type": "stream",
          "name": "stdout",
          "text": [
            "Loss: 0.0921\n",
            "acc: 0.9716978001924417\n",
            "Epoch: 1/5............. "
          ]
        },
        {
          "output_type": "stream",
          "name": "stderr",
          "text": [
            "\r  1%|          | 2/370 [00:00<01:42,  3.59it/s]"
          ]
        },
        {
          "output_type": "stream",
          "name": "stdout",
          "text": [
            "Loss: 0.0798\n",
            "acc: 0.9734115795685528\n",
            "Epoch: 1/5............. "
          ]
        },
        {
          "output_type": "stream",
          "name": "stderr",
          "text": [
            "\r  1%|          | 3/370 [00:00<01:43,  3.55it/s]"
          ]
        },
        {
          "output_type": "stream",
          "name": "stdout",
          "text": [
            "Loss: 0.0892\n",
            "acc: 0.9708993753836156\n",
            "Epoch: 1/5............. "
          ]
        },
        {
          "output_type": "stream",
          "name": "stderr",
          "text": [
            "\r  1%|          | 4/370 [00:01<01:43,  3.55it/s]"
          ]
        },
        {
          "output_type": "stream",
          "name": "stdout",
          "text": [
            "Loss: 0.0904\n",
            "acc: 0.9707746363248284\n",
            "Epoch: 1/5............. "
          ]
        },
        {
          "output_type": "stream",
          "name": "stderr",
          "text": [
            "\r  1%|▏         | 5/370 [00:01<01:42,  3.55it/s]"
          ]
        },
        {
          "output_type": "stream",
          "name": "stdout",
          "text": [
            "Loss: 0.1003\n",
            "acc: 0.9661123834179693\n",
            "Epoch: 1/5............. "
          ]
        },
        {
          "output_type": "stream",
          "name": "stderr",
          "text": [
            "\r  2%|▏         | 6/370 [00:01<01:43,  3.53it/s]"
          ]
        },
        {
          "output_type": "stream",
          "name": "stdout",
          "text": [
            "Loss: 0.0918\n",
            "acc: 0.9693228346456693\n",
            "Epoch: 1/5............. "
          ]
        },
        {
          "output_type": "stream",
          "name": "stderr",
          "text": [
            "\r  2%|▏         | 7/370 [00:01<01:43,  3.52it/s]"
          ]
        },
        {
          "output_type": "stream",
          "name": "stdout",
          "text": [
            "Loss: 0.0897\n",
            "acc: 0.9699844363744163\n",
            "Epoch: 1/5............. "
          ]
        },
        {
          "output_type": "stream",
          "name": "stderr",
          "text": [
            "\r  2%|▏         | 8/370 [00:02<01:42,  3.54it/s]"
          ]
        },
        {
          "output_type": "stream",
          "name": "stdout",
          "text": [
            "Loss: 0.1019\n",
            "acc: 0.967867279362076\n",
            "Epoch: 1/5............. "
          ]
        },
        {
          "output_type": "stream",
          "name": "stderr",
          "text": [
            "\r  2%|▏         | 9/370 [00:02<01:42,  3.53it/s]"
          ]
        },
        {
          "output_type": "stream",
          "name": "stdout",
          "text": [
            "Loss: 0.0896\n",
            "acc: 0.9701947562856426\n",
            "Epoch: 1/5............. "
          ]
        },
        {
          "output_type": "stream",
          "name": "stderr",
          "text": [
            "\r  3%|▎         | 10/370 [00:02<01:41,  3.53it/s]"
          ]
        },
        {
          "output_type": "stream",
          "name": "stdout",
          "text": [
            "Loss: 0.1007\n",
            "acc: 0.9663870865643298\n",
            "Epoch: 1/5............. "
          ]
        },
        {
          "output_type": "stream",
          "name": "stderr",
          "text": [
            "\r  3%|▎         | 11/370 [00:03<01:42,  3.52it/s]"
          ]
        },
        {
          "output_type": "stream",
          "name": "stdout",
          "text": [
            "Loss: 0.0944\n",
            "acc: 0.9688642941195179\n",
            "Epoch: 1/5............. "
          ]
        },
        {
          "output_type": "stream",
          "name": "stderr",
          "text": [
            "\r  3%|▎         | 12/370 [00:03<01:41,  3.52it/s]"
          ]
        },
        {
          "output_type": "stream",
          "name": "stdout",
          "text": [
            "Loss: 0.0918\n",
            "acc: 0.9695990073145245\n",
            "Epoch: 1/5............. "
          ]
        },
        {
          "output_type": "stream",
          "name": "stderr",
          "text": [
            "\r  4%|▎         | 13/370 [00:03<01:42,  3.49it/s]"
          ]
        },
        {
          "output_type": "stream",
          "name": "stdout",
          "text": [
            "Loss: 0.1135\n",
            "acc: 0.9647509327747594\n",
            "Epoch: 1/5............. "
          ]
        },
        {
          "output_type": "stream",
          "name": "stderr",
          "text": [
            "\r  4%|▍         | 14/370 [00:03<01:42,  3.48it/s]"
          ]
        },
        {
          "output_type": "stream",
          "name": "stdout",
          "text": [
            "Loss: 0.0967\n",
            "acc: 0.9687955200207167\n",
            "Epoch: 1/5............. "
          ]
        },
        {
          "output_type": "stream",
          "name": "stderr",
          "text": [
            "\r  4%|▍         | 15/370 [00:04<01:41,  3.48it/s]"
          ]
        },
        {
          "output_type": "stream",
          "name": "stdout",
          "text": [
            "Loss: 0.0880\n",
            "acc: 0.9707631907679496\n",
            "Epoch: 1/5............. "
          ]
        },
        {
          "output_type": "stream",
          "name": "stderr",
          "text": [
            "\r  4%|▍         | 16/370 [00:04<01:40,  3.51it/s]"
          ]
        },
        {
          "output_type": "stream",
          "name": "stdout",
          "text": [
            "Loss: 0.1001\n",
            "acc: 0.9671259280411194\n",
            "Epoch: 1/5............. "
          ]
        },
        {
          "output_type": "stream",
          "name": "stderr",
          "text": [
            "\r  5%|▍         | 17/370 [00:04<01:40,  3.50it/s]"
          ]
        },
        {
          "output_type": "stream",
          "name": "stdout",
          "text": [
            "Loss: 0.1119\n",
            "acc: 0.9642279893873319\n",
            "Epoch: 1/5............. "
          ]
        },
        {
          "output_type": "stream",
          "name": "stderr",
          "text": [
            "\r  5%|▍         | 18/370 [00:05<01:40,  3.51it/s]"
          ]
        },
        {
          "output_type": "stream",
          "name": "stdout",
          "text": [
            "Loss: 0.0819\n",
            "acc: 0.9711177665324108\n",
            "Epoch: 1/5............. "
          ]
        },
        {
          "output_type": "stream",
          "name": "stderr",
          "text": [
            "\r  5%|▌         | 19/370 [00:05<01:40,  3.51it/s]"
          ]
        },
        {
          "output_type": "stream",
          "name": "stdout",
          "text": [
            "Loss: 0.0894\n",
            "acc: 0.9691782136414232\n",
            "Epoch: 1/5............. "
          ]
        },
        {
          "output_type": "stream",
          "name": "stderr",
          "text": [
            "\r  5%|▌         | 20/370 [00:05<01:40,  3.48it/s]"
          ]
        },
        {
          "output_type": "stream",
          "name": "stdout",
          "text": [
            "Loss: 0.0938\n",
            "acc: 0.968232999937095\n",
            "Epoch: 1/5............. "
          ]
        },
        {
          "output_type": "stream",
          "name": "stderr",
          "text": [
            "\r  6%|▌         | 21/370 [00:05<01:40,  3.47it/s]"
          ]
        },
        {
          "output_type": "stream",
          "name": "stdout",
          "text": [
            "Loss: 0.1015\n",
            "acc: 0.9662825437473325\n",
            "Epoch: 1/5............. "
          ]
        },
        {
          "output_type": "stream",
          "name": "stderr",
          "text": [
            "\r  6%|▌         | 22/370 [00:06<01:39,  3.50it/s]"
          ]
        },
        {
          "output_type": "stream",
          "name": "stdout",
          "text": [
            "Loss: 0.1052\n",
            "acc: 0.9661686302902652\n",
            "Epoch: 1/5............. "
          ]
        },
        {
          "output_type": "stream",
          "name": "stderr",
          "text": [
            "\r  6%|▌         | 23/370 [00:06<01:38,  3.51it/s]"
          ]
        },
        {
          "output_type": "stream",
          "name": "stdout",
          "text": [
            "Loss: 0.0916\n",
            "acc: 0.9704574788469812\n",
            "Epoch: 1/5............. "
          ]
        },
        {
          "output_type": "stream",
          "name": "stderr",
          "text": [
            "\r  6%|▋         | 24/370 [00:06<01:38,  3.51it/s]"
          ]
        },
        {
          "output_type": "stream",
          "name": "stdout",
          "text": [
            "Loss: 0.0979\n",
            "acc: 0.9683031107179714\n",
            "Epoch: 1/5............. "
          ]
        },
        {
          "output_type": "stream",
          "name": "stderr",
          "text": [
            "\r  7%|▋         | 25/370 [00:07<01:38,  3.51it/s]"
          ]
        },
        {
          "output_type": "stream",
          "name": "stdout",
          "text": [
            "Loss: 0.0880\n",
            "acc: 0.9713855948508063\n",
            "Epoch: 1/5............. "
          ]
        },
        {
          "output_type": "stream",
          "name": "stderr",
          "text": [
            "\r  7%|▋         | 26/370 [00:07<01:37,  3.52it/s]"
          ]
        },
        {
          "output_type": "stream",
          "name": "stdout",
          "text": [
            "Loss: 0.0884\n",
            "acc: 0.9697581359113283\n",
            "Epoch: 1/5............. "
          ]
        },
        {
          "output_type": "stream",
          "name": "stderr",
          "text": [
            "\r  7%|▋         | 27/370 [00:07<01:37,  3.51it/s]"
          ]
        },
        {
          "output_type": "stream",
          "name": "stdout",
          "text": [
            "Loss: 0.0901\n",
            "acc: 0.9715644710991624\n",
            "Epoch: 1/5............. "
          ]
        },
        {
          "output_type": "stream",
          "name": "stderr",
          "text": [
            "\r  8%|▊         | 28/370 [00:07<01:37,  3.49it/s]"
          ]
        },
        {
          "output_type": "stream",
          "name": "stdout",
          "text": [
            "Loss: 0.0908\n",
            "acc: 0.9699625009566083\n",
            "Epoch: 1/5............. "
          ]
        },
        {
          "output_type": "stream",
          "name": "stderr",
          "text": [
            "\r  8%|▊         | 29/370 [00:08<01:38,  3.47it/s]"
          ]
        },
        {
          "output_type": "stream",
          "name": "stdout",
          "text": [
            "Loss: 0.0978\n",
            "acc: 0.9681260833279836\n",
            "Epoch: 1/5............. "
          ]
        },
        {
          "output_type": "stream",
          "name": "stderr",
          "text": [
            "\r  8%|▊         | 30/370 [00:08<01:37,  3.48it/s]"
          ]
        },
        {
          "output_type": "stream",
          "name": "stdout",
          "text": [
            "Loss: 0.0924\n",
            "acc: 0.9696980411569196\n",
            "Epoch: 1/5............. "
          ]
        },
        {
          "output_type": "stream",
          "name": "stderr",
          "text": [
            "\r  8%|▊         | 31/370 [00:08<01:36,  3.50it/s]"
          ]
        },
        {
          "output_type": "stream",
          "name": "stdout",
          "text": [
            "Loss: 0.0961\n",
            "acc: 0.9676751647290165\n",
            "Epoch: 1/5............. "
          ]
        },
        {
          "output_type": "stream",
          "name": "stderr",
          "text": [
            "\r  9%|▊         | 32/370 [00:09<01:36,  3.50it/s]"
          ]
        },
        {
          "output_type": "stream",
          "name": "stdout",
          "text": [
            "Loss: 0.0901\n",
            "acc: 0.9699714166425796\n",
            "Epoch: 1/5............. "
          ]
        },
        {
          "output_type": "stream",
          "name": "stderr",
          "text": [
            "\r  9%|▉         | 33/370 [00:09<01:36,  3.50it/s]"
          ]
        },
        {
          "output_type": "stream",
          "name": "stdout",
          "text": [
            "Loss: 0.0862\n",
            "acc: 0.9715278588949889\n",
            "Epoch: 1/5............. "
          ]
        },
        {
          "output_type": "stream",
          "name": "stderr",
          "text": [
            "\r  9%|▉         | 34/370 [00:09<01:35,  3.51it/s]"
          ]
        },
        {
          "output_type": "stream",
          "name": "stdout",
          "text": [
            "Loss: 0.0976\n",
            "acc: 0.9663176321846533\n",
            "Epoch: 1/5............. "
          ]
        },
        {
          "output_type": "stream",
          "name": "stderr",
          "text": [
            "\r  9%|▉         | 35/370 [00:09<01:35,  3.49it/s]"
          ]
        },
        {
          "output_type": "stream",
          "name": "stdout",
          "text": [
            "Loss: 0.1087\n",
            "acc: 0.9654306220095694\n",
            "Epoch: 1/5............. "
          ]
        },
        {
          "output_type": "stream",
          "name": "stderr",
          "text": [
            "\r 10%|▉         | 36/370 [00:10<01:35,  3.49it/s]"
          ]
        },
        {
          "output_type": "stream",
          "name": "stdout",
          "text": [
            "Loss: 0.0850\n",
            "acc: 0.9713176073600102\n",
            "Epoch: 1/5............. "
          ]
        },
        {
          "output_type": "stream",
          "name": "stderr",
          "text": [
            "\r 10%|█         | 37/370 [00:10<01:35,  3.49it/s]"
          ]
        },
        {
          "output_type": "stream",
          "name": "stdout",
          "text": [
            "Loss: 0.1005\n",
            "acc: 0.9654022356606193\n",
            "Epoch: 1/5............. "
          ]
        },
        {
          "output_type": "stream",
          "name": "stderr",
          "text": [
            "\r 10%|█         | 38/370 [00:10<01:35,  3.49it/s]"
          ]
        },
        {
          "output_type": "stream",
          "name": "stdout",
          "text": [
            "Loss: 0.0982\n",
            "acc: 0.9680445151033387\n",
            "Epoch: 1/5............. "
          ]
        },
        {
          "output_type": "stream",
          "name": "stderr",
          "text": [
            "\r 11%|█         | 39/370 [00:11<01:34,  3.48it/s]"
          ]
        },
        {
          "output_type": "stream",
          "name": "stdout",
          "text": [
            "Loss: 0.0988\n",
            "acc: 0.9662929501832299\n",
            "Epoch: 1/5............. "
          ]
        },
        {
          "output_type": "stream",
          "name": "stderr",
          "text": [
            "\r 11%|█         | 40/370 [00:11<01:35,  3.47it/s]"
          ]
        },
        {
          "output_type": "stream",
          "name": "stdout",
          "text": [
            "Loss: 0.1021\n",
            "acc: 0.9646487903368637\n",
            "Epoch: 1/5............. "
          ]
        },
        {
          "output_type": "stream",
          "name": "stderr",
          "text": [
            "\r 11%|█         | 41/370 [00:11<01:34,  3.46it/s]"
          ]
        },
        {
          "output_type": "stream",
          "name": "stdout",
          "text": [
            "Loss: 0.1004\n",
            "acc: 0.9666191155492154\n",
            "Epoch: 1/5............. "
          ]
        },
        {
          "output_type": "stream",
          "name": "stderr",
          "text": [
            "\r 11%|█▏        | 42/370 [00:11<01:34,  3.49it/s]"
          ]
        },
        {
          "output_type": "stream",
          "name": "stdout",
          "text": [
            "Loss: 0.1145\n",
            "acc: 0.9636029146526225\n",
            "Epoch: 1/5............. "
          ]
        },
        {
          "output_type": "stream",
          "name": "stderr",
          "text": [
            "\r 12%|█▏        | 43/370 [00:12<01:33,  3.49it/s]"
          ]
        },
        {
          "output_type": "stream",
          "name": "stdout",
          "text": [
            "Loss: 0.1078\n",
            "acc: 0.9641531958829413\n",
            "Epoch: 1/5............. "
          ]
        },
        {
          "output_type": "stream",
          "name": "stderr",
          "text": [
            "\r 12%|█▏        | 44/370 [00:12<01:33,  3.50it/s]"
          ]
        },
        {
          "output_type": "stream",
          "name": "stdout",
          "text": [
            "Loss: 0.0927\n",
            "acc: 0.9696366031552228\n",
            "Epoch: 1/5............. "
          ]
        },
        {
          "output_type": "stream",
          "name": "stderr",
          "text": [
            "\r 12%|█▏        | 45/370 [00:12<01:32,  3.50it/s]"
          ]
        },
        {
          "output_type": "stream",
          "name": "stdout",
          "text": [
            "Loss: 0.1005\n",
            "acc: 0.9671878286475496\n",
            "Epoch: 1/5............. "
          ]
        },
        {
          "output_type": "stream",
          "name": "stderr",
          "text": [
            "\r 12%|█▏        | 46/370 [00:13<01:32,  3.51it/s]"
          ]
        },
        {
          "output_type": "stream",
          "name": "stdout",
          "text": [
            "Loss: 0.0939\n",
            "acc: 0.9678732062540158\n",
            "Epoch: 1/5............. "
          ]
        },
        {
          "output_type": "stream",
          "name": "stderr",
          "text": [
            "\r 13%|█▎        | 47/370 [00:13<01:32,  3.48it/s]"
          ]
        },
        {
          "output_type": "stream",
          "name": "stdout",
          "text": [
            "Loss: 0.0890\n",
            "acc: 0.9691040942740595\n",
            "Epoch: 1/5............. "
          ]
        },
        {
          "output_type": "stream",
          "name": "stderr",
          "text": [
            "\r 13%|█▎        | 48/370 [00:13<01:32,  3.47it/s]"
          ]
        },
        {
          "output_type": "stream",
          "name": "stdout",
          "text": [
            "Loss: 0.0915\n",
            "acc: 0.9696415634594818\n",
            "Epoch: 1/5............. "
          ]
        },
        {
          "output_type": "stream",
          "name": "stderr",
          "text": [
            "\r 13%|█▎        | 49/370 [00:13<01:31,  3.49it/s]"
          ]
        },
        {
          "output_type": "stream",
          "name": "stdout",
          "text": [
            "Loss: 0.0966\n",
            "acc: 0.9680839783692079\n",
            "Epoch: 1/5............. "
          ]
        },
        {
          "output_type": "stream",
          "name": "stderr",
          "text": [
            "\r 14%|█▎        | 50/370 [00:14<01:31,  3.50it/s]"
          ]
        },
        {
          "output_type": "stream",
          "name": "stdout",
          "text": [
            "Loss: 0.0912\n",
            "acc: 0.9698038708006991\n",
            "Epoch: 1/5............. "
          ]
        },
        {
          "output_type": "stream",
          "name": "stderr",
          "text": [
            "\r 14%|█▍        | 51/370 [00:14<01:31,  3.50it/s]"
          ]
        },
        {
          "output_type": "stream",
          "name": "stdout",
          "text": [
            "Loss: 0.0923\n",
            "acc: 0.9682835820895522\n",
            "Epoch: 1/5............. "
          ]
        },
        {
          "output_type": "stream",
          "name": "stderr",
          "text": [
            "\r 14%|█▍        | 52/370 [00:14<01:30,  3.50it/s]"
          ]
        },
        {
          "output_type": "stream",
          "name": "stdout",
          "text": [
            "Loss: 0.0799\n",
            "acc: 0.9733495906636475\n",
            "Epoch: 1/5............. "
          ]
        },
        {
          "output_type": "stream",
          "name": "stderr",
          "text": [
            "\r 14%|█▍        | 53/370 [00:15<01:30,  3.49it/s]"
          ]
        },
        {
          "output_type": "stream",
          "name": "stdout",
          "text": [
            "Loss: 0.0877\n",
            "acc: 0.9718901128425578\n",
            "Epoch: 1/5............. "
          ]
        },
        {
          "output_type": "stream",
          "name": "stderr",
          "text": [
            "\r 15%|█▍        | 54/370 [00:15<01:31,  3.47it/s]"
          ]
        },
        {
          "output_type": "stream",
          "name": "stdout",
          "text": [
            "Loss: 0.0910\n",
            "acc: 0.9695508307519008\n",
            "Epoch: 1/5............. "
          ]
        },
        {
          "output_type": "stream",
          "name": "stderr",
          "text": [
            "\r 15%|█▍        | 55/370 [00:15<01:30,  3.48it/s]"
          ]
        },
        {
          "output_type": "stream",
          "name": "stdout",
          "text": [
            "Loss: 0.0947\n",
            "acc: 0.9676154763933867\n",
            "Epoch: 1/5............. "
          ]
        },
        {
          "output_type": "stream",
          "name": "stderr",
          "text": [
            "\r 15%|█▌        | 56/370 [00:15<01:30,  3.49it/s]"
          ]
        },
        {
          "output_type": "stream",
          "name": "stdout",
          "text": [
            "Loss: 0.0939\n",
            "acc: 0.9685770398143189\n",
            "Epoch: 1/5............. "
          ]
        },
        {
          "output_type": "stream",
          "name": "stderr",
          "text": [
            "\r 15%|█▌        | 57/370 [00:16<01:29,  3.50it/s]"
          ]
        },
        {
          "output_type": "stream",
          "name": "stdout",
          "text": [
            "Loss: 0.1000\n",
            "acc: 0.9681749906120917\n",
            "Epoch: 1/5............. "
          ]
        },
        {
          "output_type": "stream",
          "name": "stderr",
          "text": [
            "\r 16%|█▌        | 58/370 [00:16<01:29,  3.50it/s]"
          ]
        },
        {
          "output_type": "stream",
          "name": "stdout",
          "text": [
            "Loss: 0.1089\n",
            "acc: 0.964922153442131\n",
            "Epoch: 1/5............. "
          ]
        },
        {
          "output_type": "stream",
          "name": "stderr",
          "text": [
            "\r 16%|█▌        | 59/370 [00:16<01:29,  3.49it/s]"
          ]
        },
        {
          "output_type": "stream",
          "name": "stdout",
          "text": [
            "Loss: 0.0883\n",
            "acc: 0.9708858378785029\n",
            "Epoch: 1/5............. "
          ]
        },
        {
          "output_type": "stream",
          "name": "stderr",
          "text": [
            "\r 16%|█▌        | 60/370 [00:17<01:29,  3.47it/s]"
          ]
        },
        {
          "output_type": "stream",
          "name": "stdout",
          "text": [
            "Loss: 0.1097\n",
            "acc: 0.9635050087513499\n",
            "Epoch: 1/5............. "
          ]
        },
        {
          "output_type": "stream",
          "name": "stderr",
          "text": [
            "\r 16%|█▋        | 61/370 [00:17<01:28,  3.48it/s]"
          ]
        },
        {
          "output_type": "stream",
          "name": "stdout",
          "text": [
            "Loss: 0.0892\n",
            "acc: 0.9709591410247171\n",
            "Epoch: 1/5............. "
          ]
        },
        {
          "output_type": "stream",
          "name": "stderr",
          "text": [
            "\r 17%|█▋        | 62/370 [00:17<01:27,  3.51it/s]"
          ]
        },
        {
          "output_type": "stream",
          "name": "stdout",
          "text": [
            "Loss: 0.1039\n",
            "acc: 0.9655654660160985\n",
            "Epoch: 1/5............. "
          ]
        },
        {
          "output_type": "stream",
          "name": "stderr",
          "text": [
            "\r 17%|█▋        | 63/370 [00:17<01:27,  3.53it/s]"
          ]
        },
        {
          "output_type": "stream",
          "name": "stdout",
          "text": [
            "Loss: 0.0856\n",
            "acc: 0.9724540285060188\n",
            "Epoch: 1/5............. "
          ]
        },
        {
          "output_type": "stream",
          "name": "stderr",
          "text": [
            "\r 17%|█▋        | 64/370 [00:18<01:26,  3.52it/s]"
          ]
        },
        {
          "output_type": "stream",
          "name": "stdout",
          "text": [
            "Loss: 0.0840\n",
            "acc: 0.9718498659517426\n",
            "Epoch: 1/5............. "
          ]
        },
        {
          "output_type": "stream",
          "name": "stderr",
          "text": [
            "\r 18%|█▊        | 65/370 [00:18<01:26,  3.51it/s]"
          ]
        },
        {
          "output_type": "stream",
          "name": "stdout",
          "text": [
            "Loss: 0.0896\n",
            "acc: 0.9701633423623082\n",
            "Epoch: 1/5............. "
          ]
        },
        {
          "output_type": "stream",
          "name": "stderr",
          "text": [
            "\r 18%|█▊        | 66/370 [00:18<01:26,  3.52it/s]"
          ]
        },
        {
          "output_type": "stream",
          "name": "stdout",
          "text": [
            "Loss: 0.0901\n",
            "acc: 0.969703909700638\n",
            "Epoch: 1/5............. "
          ]
        },
        {
          "output_type": "stream",
          "name": "stderr",
          "text": [
            "\r 18%|█▊        | 67/370 [00:19<01:26,  3.51it/s]"
          ]
        },
        {
          "output_type": "stream",
          "name": "stdout",
          "text": [
            "Loss: 0.0896\n",
            "acc: 0.9692296312733459\n",
            "Epoch: 1/5............. "
          ]
        },
        {
          "output_type": "stream",
          "name": "stderr",
          "text": [
            "\r 18%|█▊        | 68/370 [00:19<01:25,  3.52it/s]"
          ]
        },
        {
          "output_type": "stream",
          "name": "stdout",
          "text": [
            "Loss: 0.0998\n",
            "acc: 0.9673785995112103\n",
            "Epoch: 1/5............. "
          ]
        },
        {
          "output_type": "stream",
          "name": "stderr",
          "text": [
            "\r 19%|█▊        | 69/370 [00:19<01:25,  3.50it/s]"
          ]
        },
        {
          "output_type": "stream",
          "name": "stdout",
          "text": [
            "Loss: 0.0900\n",
            "acc: 0.9709082400655149\n",
            "Epoch: 1/5............. "
          ]
        },
        {
          "output_type": "stream",
          "name": "stderr",
          "text": [
            "\r 19%|█▉        | 70/370 [00:19<01:26,  3.48it/s]"
          ]
        },
        {
          "output_type": "stream",
          "name": "stdout",
          "text": [
            "Loss: 0.1075\n",
            "acc: 0.9657888428478477\n",
            "Epoch: 1/5............. "
          ]
        },
        {
          "output_type": "stream",
          "name": "stderr",
          "text": [
            "\r 19%|█▉        | 71/370 [00:20<01:25,  3.49it/s]"
          ]
        },
        {
          "output_type": "stream",
          "name": "stdout",
          "text": [
            "Loss: 0.0946\n",
            "acc: 0.9678737898888491\n",
            "Epoch: 1/5............. "
          ]
        },
        {
          "output_type": "stream",
          "name": "stderr",
          "text": [
            "\r 19%|█▉        | 72/370 [00:20<01:25,  3.50it/s]"
          ]
        },
        {
          "output_type": "stream",
          "name": "stdout",
          "text": [
            "Loss: 0.1048\n",
            "acc: 0.9645765343303444\n",
            "Epoch: 1/5............. "
          ]
        },
        {
          "output_type": "stream",
          "name": "stderr",
          "text": [
            "\r 20%|█▉        | 73/370 [00:20<01:24,  3.52it/s]"
          ]
        },
        {
          "output_type": "stream",
          "name": "stdout",
          "text": [
            "Loss: 0.0990\n",
            "acc: 0.9685426920607747\n",
            "Epoch: 1/5............. "
          ]
        },
        {
          "output_type": "stream",
          "name": "stderr",
          "text": [
            "\r 20%|██        | 74/370 [00:21<01:24,  3.50it/s]"
          ]
        },
        {
          "output_type": "stream",
          "name": "stdout",
          "text": [
            "Loss: 0.0929\n",
            "acc: 0.9683237872219234\n",
            "Epoch: 1/5............. "
          ]
        },
        {
          "output_type": "stream",
          "name": "stderr",
          "text": [
            "\r 20%|██        | 75/370 [00:21<01:24,  3.51it/s]"
          ]
        },
        {
          "output_type": "stream",
          "name": "stdout",
          "text": [
            "Loss: 0.0906\n",
            "acc: 0.9689398280802293\n",
            "Epoch: 1/5............. "
          ]
        },
        {
          "output_type": "stream",
          "name": "stderr",
          "text": [
            "\r 21%|██        | 76/370 [00:21<01:23,  3.52it/s]"
          ]
        },
        {
          "output_type": "stream",
          "name": "stdout",
          "text": [
            "Loss: 0.0983\n",
            "acc: 0.9677167311858508\n",
            "Epoch: 1/5............. "
          ]
        },
        {
          "output_type": "stream",
          "name": "stderr",
          "text": [
            "\r 21%|██        | 77/370 [00:21<01:23,  3.52it/s]"
          ]
        },
        {
          "output_type": "stream",
          "name": "stdout",
          "text": [
            "Loss: 0.0917\n",
            "acc: 0.9696015235862877\n",
            "Epoch: 1/5............. "
          ]
        },
        {
          "output_type": "stream",
          "name": "stderr",
          "text": [
            "\r 21%|██        | 78/370 [00:22<01:22,  3.53it/s]"
          ]
        },
        {
          "output_type": "stream",
          "name": "stdout",
          "text": [
            "Loss: 0.0896\n",
            "acc: 0.9713134273676498\n",
            "Epoch: 1/5............. "
          ]
        },
        {
          "output_type": "stream",
          "name": "stderr",
          "text": [
            "\r 21%|██▏       | 79/370 [00:22<01:22,  3.53it/s]"
          ]
        },
        {
          "output_type": "stream",
          "name": "stdout",
          "text": [
            "Loss: 0.0901\n",
            "acc: 0.9701438848920864\n",
            "Epoch: 1/5............. "
          ]
        },
        {
          "output_type": "stream",
          "name": "stderr",
          "text": [
            "\r 22%|██▏       | 80/370 [00:22<01:22,  3.52it/s]"
          ]
        },
        {
          "output_type": "stream",
          "name": "stdout",
          "text": [
            "Loss: 0.0880\n",
            "acc: 0.9690287011512891\n",
            "Epoch: 1/5............. "
          ]
        },
        {
          "output_type": "stream",
          "name": "stderr",
          "text": [
            "\r 22%|██▏       | 81/370 [00:23<01:21,  3.53it/s]"
          ]
        },
        {
          "output_type": "stream",
          "name": "stdout",
          "text": [
            "Loss: 0.0985\n",
            "acc: 0.9689130782775732\n",
            "Epoch: 1/5............. "
          ]
        },
        {
          "output_type": "stream",
          "name": "stderr",
          "text": [
            "\r 22%|██▏       | 82/370 [00:23<01:21,  3.54it/s]"
          ]
        },
        {
          "output_type": "stream",
          "name": "stdout",
          "text": [
            "Loss: 0.0998\n",
            "acc: 0.9674480535407688\n",
            "Epoch: 1/5............. "
          ]
        },
        {
          "output_type": "stream",
          "name": "stderr",
          "text": [
            "\r 22%|██▏       | 83/370 [00:23<01:21,  3.53it/s]"
          ]
        },
        {
          "output_type": "stream",
          "name": "stdout",
          "text": [
            "Loss: 0.1009\n",
            "acc: 0.9674642074035857\n",
            "Epoch: 1/5............. "
          ]
        },
        {
          "output_type": "stream",
          "name": "stderr",
          "text": [
            "\r 23%|██▎       | 84/370 [00:23<01:21,  3.52it/s]"
          ]
        },
        {
          "output_type": "stream",
          "name": "stdout",
          "text": [
            "Loss: 0.1066\n",
            "acc: 0.9654825737265416\n",
            "Epoch: 1/5............. "
          ]
        },
        {
          "output_type": "stream",
          "name": "stderr",
          "text": [
            "\r 23%|██▎       | 85/370 [00:24<01:20,  3.52it/s]"
          ]
        },
        {
          "output_type": "stream",
          "name": "stdout",
          "text": [
            "Loss: 0.0894\n",
            "acc: 0.9707595990301451\n",
            "Epoch: 1/5............. "
          ]
        },
        {
          "output_type": "stream",
          "name": "stderr",
          "text": [
            "\r 23%|██▎       | 86/370 [00:24<01:20,  3.52it/s]"
          ]
        },
        {
          "output_type": "stream",
          "name": "stdout",
          "text": [
            "Loss: 0.0796\n",
            "acc: 0.9727432894600476\n",
            "Epoch: 1/5............. "
          ]
        },
        {
          "output_type": "stream",
          "name": "stderr",
          "text": [
            "\r 24%|██▎       | 87/370 [00:24<01:20,  3.50it/s]"
          ]
        },
        {
          "output_type": "stream",
          "name": "stdout",
          "text": [
            "Loss: 0.0876\n",
            "acc: 0.9700818811673315\n",
            "Epoch: 1/5............. "
          ]
        },
        {
          "output_type": "stream",
          "name": "stderr",
          "text": [
            "\r 24%|██▍       | 88/370 [00:25<01:20,  3.48it/s]"
          ]
        },
        {
          "output_type": "stream",
          "name": "stdout",
          "text": [
            "Loss: 0.0817\n",
            "acc: 0.9724024763183412\n",
            "Epoch: 1/5............. "
          ]
        },
        {
          "output_type": "stream",
          "name": "stderr",
          "text": [
            "\r 24%|██▍       | 89/370 [00:25<01:20,  3.50it/s]"
          ]
        },
        {
          "output_type": "stream",
          "name": "stdout",
          "text": [
            "Loss: 0.0875\n",
            "acc: 0.9705287294308066\n",
            "Epoch: 1/5............. "
          ]
        },
        {
          "output_type": "stream",
          "name": "stderr",
          "text": [
            "\r 24%|██▍       | 90/370 [00:25<01:19,  3.51it/s]"
          ]
        },
        {
          "output_type": "stream",
          "name": "stdout",
          "text": [
            "Loss: 0.0903\n",
            "acc: 0.9713918729565624\n",
            "Epoch: 1/5............. "
          ]
        },
        {
          "output_type": "stream",
          "name": "stderr",
          "text": [
            "\r 25%|██▍       | 91/370 [00:25<01:19,  3.50it/s]"
          ]
        },
        {
          "output_type": "stream",
          "name": "stdout",
          "text": [
            "Loss: 0.1056\n",
            "acc: 0.9650903689031939\n",
            "Epoch: 1/5............. "
          ]
        },
        {
          "output_type": "stream",
          "name": "stderr",
          "text": [
            "\r 25%|██▍       | 92/370 [00:26<01:19,  3.51it/s]"
          ]
        },
        {
          "output_type": "stream",
          "name": "stdout",
          "text": [
            "Loss: 0.0993\n",
            "acc: 0.9663608562691132\n",
            "Epoch: 1/5............. "
          ]
        },
        {
          "output_type": "stream",
          "name": "stderr",
          "text": [
            "\r 25%|██▌       | 93/370 [00:26<01:18,  3.51it/s]"
          ]
        },
        {
          "output_type": "stream",
          "name": "stdout",
          "text": [
            "Loss: 0.0983\n",
            "acc: 0.9682065217391305\n",
            "Epoch: 1/5............. "
          ]
        },
        {
          "output_type": "stream",
          "name": "stderr",
          "text": [
            "\r 25%|██▌       | 94/370 [00:26<01:18,  3.50it/s]"
          ]
        },
        {
          "output_type": "stream",
          "name": "stdout",
          "text": [
            "Loss: 0.0876\n",
            "acc: 0.9717211425672891\n",
            "Epoch: 1/5............. "
          ]
        },
        {
          "output_type": "stream",
          "name": "stderr",
          "text": [
            "\r 26%|██▌       | 95/370 [00:27<01:18,  3.48it/s]"
          ]
        },
        {
          "output_type": "stream",
          "name": "stdout",
          "text": [
            "Loss: 0.0973\n",
            "acc: 0.9674754391187853\n",
            "Epoch: 1/5............. "
          ]
        },
        {
          "output_type": "stream",
          "name": "stderr",
          "text": [
            "\r 26%|██▌       | 96/370 [00:27<01:18,  3.48it/s]"
          ]
        },
        {
          "output_type": "stream",
          "name": "stdout",
          "text": [
            "Loss: 0.1016\n",
            "acc: 0.9667306461932181\n",
            "Epoch: 1/5............. "
          ]
        },
        {
          "output_type": "stream",
          "name": "stderr",
          "text": [
            "\r 26%|██▌       | 97/370 [00:27<01:18,  3.50it/s]"
          ]
        },
        {
          "output_type": "stream",
          "name": "stdout",
          "text": [
            "Loss: 0.0856\n",
            "acc: 0.9725733063700708\n",
            "Epoch: 1/5............. "
          ]
        },
        {
          "output_type": "stream",
          "name": "stderr",
          "text": [
            "\r 26%|██▋       | 98/370 [00:27<01:17,  3.50it/s]"
          ]
        },
        {
          "output_type": "stream",
          "name": "stdout",
          "text": [
            "Loss: 0.0976\n",
            "acc: 0.966490229633462\n",
            "Epoch: 1/5............. "
          ]
        },
        {
          "output_type": "stream",
          "name": "stderr",
          "text": [
            "\r 27%|██▋       | 99/370 [00:28<01:17,  3.52it/s]"
          ]
        },
        {
          "output_type": "stream",
          "name": "stdout",
          "text": [
            "Loss: 0.0882\n",
            "acc: 0.9712230215827338\n",
            "Epoch: 1/5............. "
          ]
        },
        {
          "output_type": "stream",
          "name": "stderr",
          "text": [
            "\r 27%|██▋       | 100/370 [00:28<01:16,  3.53it/s]"
          ]
        },
        {
          "output_type": "stream",
          "name": "stdout",
          "text": [
            "Loss: 0.0887\n",
            "acc: 0.9703183043193241\n",
            "Epoch: 1/5............. "
          ]
        },
        {
          "output_type": "stream",
          "name": "stderr",
          "text": [
            "\r 27%|██▋       | 101/370 [00:28<01:16,  3.52it/s]"
          ]
        },
        {
          "output_type": "stream",
          "name": "stdout",
          "text": [
            "Loss: 0.0905\n",
            "acc: 0.9702368762372858\n",
            "Epoch: 1/5............. "
          ]
        },
        {
          "output_type": "stream",
          "name": "stderr",
          "text": [
            "\r 28%|██▊       | 102/370 [00:29<01:15,  3.53it/s]"
          ]
        },
        {
          "output_type": "stream",
          "name": "stdout",
          "text": [
            "Loss: 0.1012\n",
            "acc: 0.9669079627714581\n",
            "Epoch: 1/5............. "
          ]
        },
        {
          "output_type": "stream",
          "name": "stderr",
          "text": [
            "\r 28%|██▊       | 103/370 [00:29<01:15,  3.52it/s]"
          ]
        },
        {
          "output_type": "stream",
          "name": "stdout",
          "text": [
            "Loss: 0.0955\n",
            "acc: 0.9678544914625092\n",
            "Epoch: 1/5............. "
          ]
        },
        {
          "output_type": "stream",
          "name": "stderr",
          "text": [
            "\r 28%|██▊       | 104/370 [00:29<01:15,  3.53it/s]"
          ]
        },
        {
          "output_type": "stream",
          "name": "stdout",
          "text": [
            "Loss: 0.0908\n",
            "acc: 0.9687280979875179\n",
            "Epoch: 1/5............. "
          ]
        },
        {
          "output_type": "stream",
          "name": "stderr",
          "text": [
            "\r 28%|██▊       | 105/370 [00:29<01:15,  3.52it/s]"
          ]
        },
        {
          "output_type": "stream",
          "name": "stdout",
          "text": [
            "Loss: 0.0857\n",
            "acc: 0.9709292555872963\n",
            "Epoch: 1/5............. "
          ]
        },
        {
          "output_type": "stream",
          "name": "stderr",
          "text": [
            "\r 29%|██▊       | 106/370 [00:30<01:14,  3.53it/s]"
          ]
        },
        {
          "output_type": "stream",
          "name": "stdout",
          "text": [
            "Loss: 0.0973\n",
            "acc: 0.9681177403233033\n",
            "Epoch: 1/5............. "
          ]
        },
        {
          "output_type": "stream",
          "name": "stderr",
          "text": [
            "\r 29%|██▉       | 107/370 [00:30<01:14,  3.53it/s]"
          ]
        },
        {
          "output_type": "stream",
          "name": "stdout",
          "text": [
            "Loss: 0.0833\n",
            "acc: 0.9729160294967207\n",
            "Epoch: 1/5............. "
          ]
        },
        {
          "output_type": "stream",
          "name": "stderr",
          "text": [
            "\r 29%|██▉       | 108/370 [00:30<01:14,  3.53it/s]"
          ]
        },
        {
          "output_type": "stream",
          "name": "stdout",
          "text": [
            "Loss: 0.0952\n",
            "acc: 0.9696283654348508\n",
            "Epoch: 1/5............. "
          ]
        },
        {
          "output_type": "stream",
          "name": "stderr",
          "text": [
            "\r 29%|██▉       | 109/370 [00:31<01:13,  3.53it/s]"
          ]
        },
        {
          "output_type": "stream",
          "name": "stdout",
          "text": [
            "Loss: 0.0929\n",
            "acc: 0.969003036437247\n",
            "Epoch: 1/5............. "
          ]
        },
        {
          "output_type": "stream",
          "name": "stderr",
          "text": [
            "\r 30%|██▉       | 110/370 [00:31<01:13,  3.52it/s]"
          ]
        },
        {
          "output_type": "stream",
          "name": "stdout",
          "text": [
            "Loss: 0.0949\n",
            "acc: 0.9682197082465019\n",
            "Epoch: 1/5............. "
          ]
        },
        {
          "output_type": "stream",
          "name": "stderr",
          "text": [
            "\r 30%|███       | 111/370 [00:31<01:13,  3.53it/s]"
          ]
        },
        {
          "output_type": "stream",
          "name": "stdout",
          "text": [
            "Loss: 0.0940\n",
            "acc: 0.968673860076575\n",
            "Epoch: 1/5............. "
          ]
        },
        {
          "output_type": "stream",
          "name": "stderr",
          "text": [
            "\r 30%|███       | 112/370 [00:31<01:13,  3.53it/s]"
          ]
        },
        {
          "output_type": "stream",
          "name": "stdout",
          "text": [
            "Loss: 0.0892\n",
            "acc: 0.9711432057429844\n",
            "Epoch: 1/5............. "
          ]
        },
        {
          "output_type": "stream",
          "name": "stderr",
          "text": [
            "\r 31%|███       | 113/370 [00:32<01:12,  3.53it/s]"
          ]
        },
        {
          "output_type": "stream",
          "name": "stdout",
          "text": [
            "Loss: 0.1022\n",
            "acc: 0.9670257917074764\n",
            "Epoch: 1/5............. "
          ]
        },
        {
          "output_type": "stream",
          "name": "stderr",
          "text": [
            "\r 31%|███       | 114/370 [00:32<01:12,  3.54it/s]"
          ]
        },
        {
          "output_type": "stream",
          "name": "stdout",
          "text": [
            "Loss: 0.0894\n",
            "acc: 0.9698014869318617\n",
            "Epoch: 1/5............. "
          ]
        },
        {
          "output_type": "stream",
          "name": "stderr",
          "text": [
            "\r 31%|███       | 115/370 [00:32<01:12,  3.53it/s]"
          ]
        },
        {
          "output_type": "stream",
          "name": "stdout",
          "text": [
            "Loss: 0.0856\n",
            "acc: 0.9713802289581683\n",
            "Epoch: 1/5............. "
          ]
        },
        {
          "output_type": "stream",
          "name": "stderr",
          "text": [
            "\r 31%|███▏      | 116/370 [00:33<01:12,  3.53it/s]"
          ]
        },
        {
          "output_type": "stream",
          "name": "stdout",
          "text": [
            "Loss: 0.0838\n",
            "acc: 0.9722460101206695\n",
            "Epoch: 1/5............. "
          ]
        },
        {
          "output_type": "stream",
          "name": "stderr",
          "text": [
            "\r 32%|███▏      | 117/370 [00:33<01:11,  3.53it/s]"
          ]
        },
        {
          "output_type": "stream",
          "name": "stdout",
          "text": [
            "Loss: 0.0956\n",
            "acc: 0.9679235962456776\n",
            "Epoch: 1/5............. "
          ]
        },
        {
          "output_type": "stream",
          "name": "stderr",
          "text": [
            "\r 32%|███▏      | 118/370 [00:33<01:11,  3.53it/s]"
          ]
        },
        {
          "output_type": "stream",
          "name": "stdout",
          "text": [
            "Loss: 0.1030\n",
            "acc: 0.966053933615125\n",
            "Epoch: 1/5............. "
          ]
        },
        {
          "output_type": "stream",
          "name": "stderr",
          "text": [
            "\r 32%|███▏      | 119/370 [00:33<01:11,  3.53it/s]"
          ]
        },
        {
          "output_type": "stream",
          "name": "stdout",
          "text": [
            "Loss: 0.0921\n",
            "acc: 0.9700886133585513\n",
            "Epoch: 1/5............. "
          ]
        },
        {
          "output_type": "stream",
          "name": "stderr",
          "text": [
            "\r 32%|███▏      | 120/370 [00:34<01:10,  3.54it/s]"
          ]
        },
        {
          "output_type": "stream",
          "name": "stdout",
          "text": [
            "Loss: 0.1011\n",
            "acc: 0.9666830847171405\n",
            "Epoch: 1/5............. "
          ]
        },
        {
          "output_type": "stream",
          "name": "stderr",
          "text": [
            "\r 33%|███▎      | 121/370 [00:34<01:10,  3.53it/s]"
          ]
        },
        {
          "output_type": "stream",
          "name": "stdout",
          "text": [
            "Loss: 0.0887\n",
            "acc: 0.9712614282974235\n",
            "Epoch: 1/5............. "
          ]
        },
        {
          "output_type": "stream",
          "name": "stderr",
          "text": [
            "\r 33%|███▎      | 122/370 [00:34<01:10,  3.52it/s]"
          ]
        },
        {
          "output_type": "stream",
          "name": "stdout",
          "text": [
            "Loss: 0.0823\n",
            "acc: 0.9724693698949824\n",
            "Epoch: 1/5............. "
          ]
        },
        {
          "output_type": "stream",
          "name": "stderr",
          "text": [
            "\r 33%|███▎      | 123/370 [00:35<01:10,  3.52it/s]"
          ]
        },
        {
          "output_type": "stream",
          "name": "stdout",
          "text": [
            "Loss: 0.0915\n",
            "acc: 0.9682896958061633\n",
            "Epoch: 1/5............. "
          ]
        },
        {
          "output_type": "stream",
          "name": "stderr",
          "text": [
            "\r 34%|███▎      | 124/370 [00:35<01:09,  3.52it/s]"
          ]
        },
        {
          "output_type": "stream",
          "name": "stdout",
          "text": [
            "Loss: 0.0905\n",
            "acc: 0.9695177434030937\n",
            "Epoch: 1/5............. "
          ]
        },
        {
          "output_type": "stream",
          "name": "stderr",
          "text": [
            "\r 34%|███▍      | 125/370 [00:35<01:09,  3.50it/s]"
          ]
        },
        {
          "output_type": "stream",
          "name": "stdout",
          "text": [
            "Loss: 0.0849\n",
            "acc: 0.9724992737484265\n",
            "Epoch: 1/5............. "
          ]
        },
        {
          "output_type": "stream",
          "name": "stderr",
          "text": [
            "\r 34%|███▍      | 126/370 [00:35<01:09,  3.49it/s]"
          ]
        },
        {
          "output_type": "stream",
          "name": "stdout",
          "text": [
            "Loss: 0.0923\n",
            "acc: 0.9690401258851298\n",
            "Epoch: 1/5............. "
          ]
        },
        {
          "output_type": "stream",
          "name": "stderr",
          "text": [
            "\r 34%|███▍      | 127/370 [00:36<01:09,  3.49it/s]"
          ]
        },
        {
          "output_type": "stream",
          "name": "stdout",
          "text": [
            "Loss: 0.0908\n",
            "acc: 0.9690789702254803\n",
            "Epoch: 1/5............. "
          ]
        },
        {
          "output_type": "stream",
          "name": "stderr",
          "text": [
            "\r 35%|███▍      | 128/370 [00:36<01:09,  3.50it/s]"
          ]
        },
        {
          "output_type": "stream",
          "name": "stdout",
          "text": [
            "Loss: 0.1010\n",
            "acc: 0.9681033346513773\n",
            "Epoch: 1/5............. "
          ]
        },
        {
          "output_type": "stream",
          "name": "stderr",
          "text": [
            "\r 35%|███▍      | 129/370 [00:36<01:08,  3.50it/s]"
          ]
        },
        {
          "output_type": "stream",
          "name": "stdout",
          "text": [
            "Loss: 0.0891\n",
            "acc: 0.9695986038394415\n",
            "Epoch: 1/5............. "
          ]
        },
        {
          "output_type": "stream",
          "name": "stderr",
          "text": [
            "\r 35%|███▌      | 130/370 [00:37<01:08,  3.51it/s]"
          ]
        },
        {
          "output_type": "stream",
          "name": "stdout",
          "text": [
            "Loss: 0.0965\n",
            "acc: 0.9667072384907281\n",
            "Epoch: 1/5............. "
          ]
        },
        {
          "output_type": "stream",
          "name": "stderr",
          "text": [
            "\r 35%|███▌      | 131/370 [00:37<01:08,  3.51it/s]"
          ]
        },
        {
          "output_type": "stream",
          "name": "stdout",
          "text": [
            "Loss: 0.0860\n",
            "acc: 0.9708626730028791\n",
            "Epoch: 1/5............. "
          ]
        },
        {
          "output_type": "stream",
          "name": "stderr",
          "text": [
            "\r 36%|███▌      | 132/370 [00:37<01:08,  3.49it/s]"
          ]
        },
        {
          "output_type": "stream",
          "name": "stdout",
          "text": [
            "Loss: 0.0952\n",
            "acc: 0.9681184552791302\n",
            "Epoch: 1/5............. "
          ]
        },
        {
          "output_type": "stream",
          "name": "stderr",
          "text": [
            "\r 36%|███▌      | 133/370 [00:37<01:08,  3.47it/s]"
          ]
        },
        {
          "output_type": "stream",
          "name": "stdout",
          "text": [
            "Loss: 0.0915\n",
            "acc: 0.9681022408963585\n",
            "Epoch: 1/5............. "
          ]
        },
        {
          "output_type": "stream",
          "name": "stderr",
          "text": [
            "\r 36%|███▌      | 134/370 [00:38<01:07,  3.48it/s]"
          ]
        },
        {
          "output_type": "stream",
          "name": "stdout",
          "text": [
            "Loss: 0.0897\n",
            "acc: 0.9703271529816021\n",
            "Epoch: 1/5............. "
          ]
        },
        {
          "output_type": "stream",
          "name": "stderr",
          "text": [
            "\r 36%|███▋      | 135/370 [00:38<01:07,  3.50it/s]"
          ]
        },
        {
          "output_type": "stream",
          "name": "stdout",
          "text": [
            "Loss: 0.0862\n",
            "acc: 0.9713416104146577\n",
            "Epoch: 1/5............. "
          ]
        },
        {
          "output_type": "stream",
          "name": "stderr",
          "text": [
            "\r 37%|███▋      | 136/370 [00:38<01:06,  3.51it/s]"
          ]
        },
        {
          "output_type": "stream",
          "name": "stdout",
          "text": [
            "Loss: 0.0899\n",
            "acc: 0.9690284424730555\n",
            "Epoch: 1/5............. "
          ]
        },
        {
          "output_type": "stream",
          "name": "stderr",
          "text": [
            "\r 37%|███▋      | 137/370 [00:39<01:06,  3.51it/s]"
          ]
        },
        {
          "output_type": "stream",
          "name": "stdout",
          "text": [
            "Loss: 0.0884\n",
            "acc: 0.9706348659267939\n",
            "Epoch: 1/5............. "
          ]
        },
        {
          "output_type": "stream",
          "name": "stderr",
          "text": [
            "\r 37%|███▋      | 138/370 [00:39<01:06,  3.51it/s]"
          ]
        },
        {
          "output_type": "stream",
          "name": "stdout",
          "text": [
            "Loss: 0.0794\n",
            "acc: 0.9721997475646461\n",
            "Epoch: 1/5............. "
          ]
        },
        {
          "output_type": "stream",
          "name": "stderr",
          "text": [
            "\r 38%|███▊      | 139/370 [00:39<01:05,  3.52it/s]"
          ]
        },
        {
          "output_type": "stream",
          "name": "stdout",
          "text": [
            "Loss: 0.0933\n",
            "acc: 0.9678162811754054\n",
            "Epoch: 1/5............. "
          ]
        },
        {
          "output_type": "stream",
          "name": "stderr",
          "text": [
            "\r 38%|███▊      | 140/370 [00:39<01:05,  3.52it/s]"
          ]
        },
        {
          "output_type": "stream",
          "name": "stdout",
          "text": [
            "Loss: 0.0855\n",
            "acc: 0.9714438753305882\n",
            "Epoch: 1/5............. "
          ]
        },
        {
          "output_type": "stream",
          "name": "stderr",
          "text": [
            "\r 38%|███▊      | 141/370 [00:40<01:05,  3.51it/s]"
          ]
        },
        {
          "output_type": "stream",
          "name": "stdout",
          "text": [
            "Loss: 0.0915\n",
            "acc: 0.9699064122490824\n",
            "Epoch: 1/5............. "
          ]
        },
        {
          "output_type": "stream",
          "name": "stderr",
          "text": [
            "\r 38%|███▊      | 142/370 [00:40<01:04,  3.52it/s]"
          ]
        },
        {
          "output_type": "stream",
          "name": "stdout",
          "text": [
            "Loss: 0.1001\n",
            "acc: 0.9690299634265007\n",
            "Epoch: 1/5............. "
          ]
        },
        {
          "output_type": "stream",
          "name": "stderr",
          "text": [
            "\r 39%|███▊      | 143/370 [00:40<01:04,  3.50it/s]"
          ]
        },
        {
          "output_type": "stream",
          "name": "stdout",
          "text": [
            "Loss: 0.0904\n",
            "acc: 0.9698565462139096\n",
            "Epoch: 1/5............. "
          ]
        },
        {
          "output_type": "stream",
          "name": "stderr",
          "text": [
            "\r 39%|███▉      | 144/370 [00:41<01:04,  3.49it/s]"
          ]
        },
        {
          "output_type": "stream",
          "name": "stdout",
          "text": [
            "Loss: 0.0965\n",
            "acc: 0.9690829563722009\n",
            "Epoch: 1/5............. "
          ]
        },
        {
          "output_type": "stream",
          "name": "stderr",
          "text": [
            "\r 39%|███▉      | 145/370 [00:41<01:04,  3.49it/s]"
          ]
        },
        {
          "output_type": "stream",
          "name": "stdout",
          "text": [
            "Loss: 0.0912\n",
            "acc: 0.9692012556679456\n",
            "Epoch: 1/5............. "
          ]
        },
        {
          "output_type": "stream",
          "name": "stderr",
          "text": [
            "\r 39%|███▉      | 146/370 [00:41<01:04,  3.50it/s]"
          ]
        },
        {
          "output_type": "stream",
          "name": "stdout",
          "text": [
            "Loss: 0.0950\n",
            "acc: 0.9685400959561343\n",
            "Epoch: 1/5............. "
          ]
        },
        {
          "output_type": "stream",
          "name": "stderr",
          "text": [
            "\r 40%|███▉      | 147/370 [00:41<01:03,  3.50it/s]"
          ]
        },
        {
          "output_type": "stream",
          "name": "stdout",
          "text": [
            "Loss: 0.0885\n",
            "acc: 0.971268115942029\n",
            "Epoch: 1/5............. "
          ]
        },
        {
          "output_type": "stream",
          "name": "stderr",
          "text": [
            "\r 40%|████      | 148/370 [00:42<01:03,  3.51it/s]"
          ]
        },
        {
          "output_type": "stream",
          "name": "stdout",
          "text": [
            "Loss: 0.0843\n",
            "acc: 0.970311235376352\n",
            "Epoch: 1/5............. "
          ]
        },
        {
          "output_type": "stream",
          "name": "stderr",
          "text": [
            "\r 40%|████      | 149/370 [00:42<01:02,  3.53it/s]"
          ]
        },
        {
          "output_type": "stream",
          "name": "stdout",
          "text": [
            "Loss: 0.1012\n",
            "acc: 0.9680005626274703\n",
            "Epoch: 1/5............. "
          ]
        },
        {
          "output_type": "stream",
          "name": "stderr",
          "text": [
            "\r 41%|████      | 150/370 [00:42<01:02,  3.53it/s]"
          ]
        },
        {
          "output_type": "stream",
          "name": "stdout",
          "text": [
            "Loss: 0.0872\n",
            "acc: 0.9707094970064174\n",
            "Epoch: 1/5............. "
          ]
        },
        {
          "output_type": "stream",
          "name": "stderr",
          "text": [
            "\r 41%|████      | 151/370 [00:43<01:02,  3.53it/s]"
          ]
        },
        {
          "output_type": "stream",
          "name": "stdout",
          "text": [
            "Loss: 0.0869\n",
            "acc: 0.9704762921068545\n",
            "Epoch: 1/5............. "
          ]
        },
        {
          "output_type": "stream",
          "name": "stderr",
          "text": [
            "\r 41%|████      | 152/370 [00:43<01:01,  3.52it/s]"
          ]
        },
        {
          "output_type": "stream",
          "name": "stdout",
          "text": [
            "Loss: 0.0929\n",
            "acc: 0.969215665649872\n",
            "Epoch: 1/5............. "
          ]
        },
        {
          "output_type": "stream",
          "name": "stderr",
          "text": [
            "\r 41%|████▏     | 153/370 [00:43<01:01,  3.52it/s]"
          ]
        },
        {
          "output_type": "stream",
          "name": "stdout",
          "text": [
            "Loss: 0.1026\n",
            "acc: 0.9667315455594002\n",
            "Epoch: 1/5............. "
          ]
        },
        {
          "output_type": "stream",
          "name": "stderr",
          "text": [
            "\r 42%|████▏     | 154/370 [00:43<01:01,  3.53it/s]"
          ]
        },
        {
          "output_type": "stream",
          "name": "stdout",
          "text": [
            "Loss: 0.0920\n",
            "acc: 0.9705337168424417\n",
            "Epoch: 1/5............. "
          ]
        },
        {
          "output_type": "stream",
          "name": "stderr",
          "text": [
            "\r 42%|████▏     | 155/370 [00:44<01:00,  3.53it/s]"
          ]
        },
        {
          "output_type": "stream",
          "name": "stdout",
          "text": [
            "Loss: 0.0756\n",
            "acc: 0.9746242295353783\n",
            "Epoch: 1/5............. "
          ]
        },
        {
          "output_type": "stream",
          "name": "stderr",
          "text": [
            "\r 42%|████▏     | 156/370 [00:44<01:00,  3.53it/s]"
          ]
        },
        {
          "output_type": "stream",
          "name": "stdout",
          "text": [
            "Loss: 0.0981\n",
            "acc: 0.9682596993369658\n",
            "Epoch: 1/5............. "
          ]
        },
        {
          "output_type": "stream",
          "name": "stderr",
          "text": [
            "\r 42%|████▏     | 157/370 [00:44<01:00,  3.53it/s]"
          ]
        },
        {
          "output_type": "stream",
          "name": "stdout",
          "text": [
            "Loss: 0.0817\n",
            "acc: 0.9722277802232983\n",
            "Epoch: 1/5............. "
          ]
        },
        {
          "output_type": "stream",
          "name": "stderr",
          "text": [
            "\r 43%|████▎     | 158/370 [00:45<01:00,  3.53it/s]"
          ]
        },
        {
          "output_type": "stream",
          "name": "stdout",
          "text": [
            "Loss: 0.0908\n",
            "acc: 0.9696178877504994\n",
            "Epoch: 1/5............. "
          ]
        },
        {
          "output_type": "stream",
          "name": "stderr",
          "text": [
            "\r 43%|████▎     | 159/370 [00:45<00:59,  3.53it/s]"
          ]
        },
        {
          "output_type": "stream",
          "name": "stdout",
          "text": [
            "Loss: 0.0884\n",
            "acc: 0.9690057283142389\n",
            "Epoch: 1/5............. "
          ]
        },
        {
          "output_type": "stream",
          "name": "stderr",
          "text": [
            "\r 43%|████▎     | 160/370 [00:45<00:59,  3.54it/s]"
          ]
        },
        {
          "output_type": "stream",
          "name": "stdout",
          "text": [
            "Loss: 0.1029\n",
            "acc: 0.9642151114089462\n",
            "Epoch: 1/5............. "
          ]
        },
        {
          "output_type": "stream",
          "name": "stderr",
          "text": [
            "\r 44%|████▎     | 161/370 [00:45<00:59,  3.53it/s]"
          ]
        },
        {
          "output_type": "stream",
          "name": "stdout",
          "text": [
            "Loss: 0.1085\n",
            "acc: 0.9648328690807799\n",
            "Epoch: 1/5............. "
          ]
        },
        {
          "output_type": "stream",
          "name": "stderr",
          "text": [
            "\r 44%|████▍     | 162/370 [00:46<00:58,  3.54it/s]"
          ]
        },
        {
          "output_type": "stream",
          "name": "stdout",
          "text": [
            "Loss: 0.0858\n",
            "acc: 0.971187367557591\n",
            "Epoch: 1/5............. "
          ]
        },
        {
          "output_type": "stream",
          "name": "stderr",
          "text": [
            "\r 44%|████▍     | 163/370 [00:46<00:58,  3.53it/s]"
          ]
        },
        {
          "output_type": "stream",
          "name": "stdout",
          "text": [
            "Loss: 0.0872\n",
            "acc: 0.9703515889114266\n",
            "Epoch: 1/5............. "
          ]
        },
        {
          "output_type": "stream",
          "name": "stderr",
          "text": [
            "\r 44%|████▍     | 164/370 [00:46<00:58,  3.55it/s]"
          ]
        },
        {
          "output_type": "stream",
          "name": "stdout",
          "text": [
            "Loss: 0.0849\n",
            "acc: 0.9721440916330611\n",
            "Epoch: 1/5............. "
          ]
        },
        {
          "output_type": "stream",
          "name": "stderr",
          "text": [
            "\r 45%|████▍     | 165/370 [00:47<00:58,  3.52it/s]"
          ]
        },
        {
          "output_type": "stream",
          "name": "stdout",
          "text": [
            "Loss: 0.0923\n",
            "acc: 0.9685444078947368\n",
            "Epoch: 1/5............. "
          ]
        },
        {
          "output_type": "stream",
          "name": "stderr",
          "text": [
            "\r 45%|████▍     | 166/370 [00:47<00:57,  3.52it/s]"
          ]
        },
        {
          "output_type": "stream",
          "name": "stdout",
          "text": [
            "Loss: 0.0956\n",
            "acc: 0.9680280909258917\n",
            "Epoch: 1/5............. "
          ]
        },
        {
          "output_type": "stream",
          "name": "stderr",
          "text": [
            "\r 45%|████▌     | 167/370 [00:47<00:57,  3.53it/s]"
          ]
        },
        {
          "output_type": "stream",
          "name": "stdout",
          "text": [
            "Loss: 0.0841\n",
            "acc: 0.9715485706543828\n",
            "Epoch: 1/5............. "
          ]
        },
        {
          "output_type": "stream",
          "name": "stderr",
          "text": [
            "\r 45%|████▌     | 168/370 [00:47<00:57,  3.52it/s]"
          ]
        },
        {
          "output_type": "stream",
          "name": "stdout",
          "text": [
            "Loss: 0.0909\n",
            "acc: 0.9704748264845213\n",
            "Epoch: 1/5............. "
          ]
        },
        {
          "output_type": "stream",
          "name": "stderr",
          "text": [
            "\r 46%|████▌     | 169/370 [00:48<00:56,  3.53it/s]"
          ]
        },
        {
          "output_type": "stream",
          "name": "stdout",
          "text": [
            "Loss: 0.0884\n",
            "acc: 0.9696747882463662\n",
            "Epoch: 1/5............. "
          ]
        },
        {
          "output_type": "stream",
          "name": "stderr",
          "text": [
            "\r 46%|████▌     | 170/370 [00:48<00:56,  3.54it/s]"
          ]
        },
        {
          "output_type": "stream",
          "name": "stdout",
          "text": [
            "Loss: 0.0751\n",
            "acc: 0.9744502303974825\n",
            "Epoch: 1/5............. "
          ]
        },
        {
          "output_type": "stream",
          "name": "stderr",
          "text": [
            "\r 46%|████▌     | 171/370 [00:48<00:56,  3.52it/s]"
          ]
        },
        {
          "output_type": "stream",
          "name": "stdout",
          "text": [
            "Loss: 0.0766\n",
            "acc: 0.9735927043695053\n",
            "Epoch: 1/5............. "
          ]
        },
        {
          "output_type": "stream",
          "name": "stderr",
          "text": [
            "\r 46%|████▋     | 172/370 [00:48<00:56,  3.53it/s]"
          ]
        },
        {
          "output_type": "stream",
          "name": "stdout",
          "text": [
            "Loss: 0.0840\n",
            "acc: 0.9709897089809754\n",
            "Epoch: 1/5............. "
          ]
        },
        {
          "output_type": "stream",
          "name": "stderr",
          "text": [
            "\r 47%|████▋     | 173/370 [00:49<00:55,  3.53it/s]"
          ]
        },
        {
          "output_type": "stream",
          "name": "stdout",
          "text": [
            "Loss: 0.0915\n",
            "acc: 0.9701250259031567\n",
            "Epoch: 1/5............. "
          ]
        },
        {
          "output_type": "stream",
          "name": "stderr",
          "text": [
            "\r 47%|████▋     | 174/370 [00:49<00:55,  3.54it/s]"
          ]
        },
        {
          "output_type": "stream",
          "name": "stdout",
          "text": [
            "Loss: 0.0917\n",
            "acc: 0.9692707831615451\n",
            "Epoch: 1/5............. "
          ]
        },
        {
          "output_type": "stream",
          "name": "stderr",
          "text": [
            "\r 47%|████▋     | 175/370 [00:49<00:55,  3.53it/s]"
          ]
        },
        {
          "output_type": "stream",
          "name": "stdout",
          "text": [
            "Loss: 0.0907\n",
            "acc: 0.9686638766969481\n",
            "Epoch: 1/5............. "
          ]
        },
        {
          "output_type": "stream",
          "name": "stderr",
          "text": [
            "\r 48%|████▊     | 176/370 [00:50<00:54,  3.53it/s]"
          ]
        },
        {
          "output_type": "stream",
          "name": "stdout",
          "text": [
            "Loss: 0.0842\n",
            "acc: 0.9729689310950761\n",
            "Epoch: 1/5............. "
          ]
        },
        {
          "output_type": "stream",
          "name": "stderr",
          "text": [
            "\r 48%|████▊     | 177/370 [00:50<00:54,  3.53it/s]"
          ]
        },
        {
          "output_type": "stream",
          "name": "stdout",
          "text": [
            "Loss: 0.0961\n",
            "acc: 0.9673993762067429\n",
            "Epoch: 1/5............. "
          ]
        },
        {
          "output_type": "stream",
          "name": "stderr",
          "text": [
            "\r 48%|████▊     | 178/370 [00:50<00:54,  3.52it/s]"
          ]
        },
        {
          "output_type": "stream",
          "name": "stdout",
          "text": [
            "Loss: 0.0809\n",
            "acc: 0.9739263218171407\n",
            "Epoch: 1/5............. "
          ]
        },
        {
          "output_type": "stream",
          "name": "stderr",
          "text": [
            "\r 48%|████▊     | 179/370 [00:50<00:54,  3.53it/s]"
          ]
        },
        {
          "output_type": "stream",
          "name": "stdout",
          "text": [
            "Loss: 0.0999\n",
            "acc: 0.9680267323250088\n",
            "Epoch: 1/5............. "
          ]
        },
        {
          "output_type": "stream",
          "name": "stderr",
          "text": [
            "\r 49%|████▊     | 180/370 [00:51<00:53,  3.53it/s]"
          ]
        },
        {
          "output_type": "stream",
          "name": "stdout",
          "text": [
            "Loss: 0.0977\n",
            "acc: 0.968860203606361\n",
            "Epoch: 1/5............. "
          ]
        },
        {
          "output_type": "stream",
          "name": "stderr",
          "text": [
            "\r 49%|████▉     | 181/370 [00:51<00:53,  3.53it/s]"
          ]
        },
        {
          "output_type": "stream",
          "name": "stdout",
          "text": [
            "Loss: 0.0887\n",
            "acc: 0.9705662632601225\n",
            "Epoch: 1/5............. "
          ]
        },
        {
          "output_type": "stream",
          "name": "stderr",
          "text": [
            "\r 49%|████▉     | 182/370 [00:51<00:53,  3.52it/s]"
          ]
        },
        {
          "output_type": "stream",
          "name": "stdout",
          "text": [
            "Loss: 0.0829\n",
            "acc: 0.9718604733685817\n",
            "Epoch: 1/5............. "
          ]
        },
        {
          "output_type": "stream",
          "name": "stderr",
          "text": [
            "\r 49%|████▉     | 183/370 [00:52<00:53,  3.52it/s]"
          ]
        },
        {
          "output_type": "stream",
          "name": "stdout",
          "text": [
            "Loss: 0.0986\n",
            "acc: 0.9681464444374429\n",
            "Epoch: 1/5............. "
          ]
        },
        {
          "output_type": "stream",
          "name": "stderr",
          "text": [
            "\r 50%|████▉     | 184/370 [00:52<00:52,  3.53it/s]"
          ]
        },
        {
          "output_type": "stream",
          "name": "stdout",
          "text": [
            "Loss: 0.0762\n",
            "acc: 0.9729377017652311\n",
            "Epoch: 1/5............. "
          ]
        },
        {
          "output_type": "stream",
          "name": "stderr",
          "text": [
            "\r 50%|█████     | 185/370 [00:52<00:52,  3.53it/s]"
          ]
        },
        {
          "output_type": "stream",
          "name": "stdout",
          "text": [
            "Loss: 0.0935\n",
            "acc: 0.9690879885775477\n",
            "Epoch: 1/5............. "
          ]
        },
        {
          "output_type": "stream",
          "name": "stderr",
          "text": [
            "\r 50%|█████     | 186/370 [00:52<00:52,  3.52it/s]"
          ]
        },
        {
          "output_type": "stream",
          "name": "stdout",
          "text": [
            "Loss: 0.0975\n",
            "acc: 0.9676745054124674\n",
            "Epoch: 1/5............. "
          ]
        },
        {
          "output_type": "stream",
          "name": "stderr",
          "text": [
            "\r 51%|█████     | 187/370 [00:53<00:51,  3.53it/s]"
          ]
        },
        {
          "output_type": "stream",
          "name": "stdout",
          "text": [
            "Loss: 0.0898\n",
            "acc: 0.9710094549499444\n",
            "Epoch: 1/5............. "
          ]
        },
        {
          "output_type": "stream",
          "name": "stderr",
          "text": [
            "\r 51%|█████     | 188/370 [00:53<00:51,  3.53it/s]"
          ]
        },
        {
          "output_type": "stream",
          "name": "stdout",
          "text": [
            "Loss: 0.0829\n",
            "acc: 0.9713950689665813\n",
            "Epoch: 1/5............. "
          ]
        },
        {
          "output_type": "stream",
          "name": "stderr",
          "text": [
            "\r 51%|█████     | 189/370 [00:53<00:51,  3.52it/s]"
          ]
        },
        {
          "output_type": "stream",
          "name": "stdout",
          "text": [
            "Loss: 0.0963\n",
            "acc: 0.9696256759603905\n",
            "Epoch: 1/5............. "
          ]
        },
        {
          "output_type": "stream",
          "name": "stderr",
          "text": [
            "\r 51%|█████▏    | 190/370 [00:54<00:51,  3.53it/s]"
          ]
        },
        {
          "output_type": "stream",
          "name": "stdout",
          "text": [
            "Loss: 0.0912\n",
            "acc: 0.970089699969069\n",
            "Epoch: 1/5............. "
          ]
        },
        {
          "output_type": "stream",
          "name": "stderr",
          "text": [
            "\r 52%|█████▏    | 191/370 [00:54<00:51,  3.51it/s]"
          ]
        },
        {
          "output_type": "stream",
          "name": "stdout",
          "text": [
            "Loss: 0.0839\n",
            "acc: 0.9705137990599767\n",
            "Epoch: 1/5............. "
          ]
        },
        {
          "output_type": "stream",
          "name": "stderr",
          "text": [
            "\r 52%|█████▏    | 192/370 [00:54<00:50,  3.52it/s]"
          ]
        },
        {
          "output_type": "stream",
          "name": "stdout",
          "text": [
            "Loss: 0.0878\n",
            "acc: 0.97059305642068\n",
            "Epoch: 1/5............. "
          ]
        },
        {
          "output_type": "stream",
          "name": "stderr",
          "text": [
            "\r 52%|█████▏    | 193/370 [00:54<00:50,  3.53it/s]"
          ]
        },
        {
          "output_type": "stream",
          "name": "stdout",
          "text": [
            "Loss: 0.0914\n",
            "acc: 0.9691408098424931\n",
            "Epoch: 1/5............. "
          ]
        },
        {
          "output_type": "stream",
          "name": "stderr",
          "text": [
            "\r 52%|█████▏    | 194/370 [00:55<00:49,  3.53it/s]"
          ]
        },
        {
          "output_type": "stream",
          "name": "stdout",
          "text": [
            "Loss: 0.0820\n",
            "acc: 0.9740819324302269\n",
            "Epoch: 1/5............. "
          ]
        },
        {
          "output_type": "stream",
          "name": "stderr",
          "text": [
            "\r 53%|█████▎    | 195/370 [00:55<00:49,  3.52it/s]"
          ]
        },
        {
          "output_type": "stream",
          "name": "stdout",
          "text": [
            "Loss: 0.0956\n",
            "acc: 0.9675583948891995\n",
            "Epoch: 1/5............. "
          ]
        },
        {
          "output_type": "stream",
          "name": "stderr",
          "text": [
            "\r 53%|█████▎    | 196/370 [00:55<00:49,  3.53it/s]"
          ]
        },
        {
          "output_type": "stream",
          "name": "stdout",
          "text": [
            "Loss: 0.0951\n",
            "acc: 0.9690073466598326\n",
            "Epoch: 1/5............. "
          ]
        },
        {
          "output_type": "stream",
          "name": "stderr",
          "text": [
            "\r 53%|█████▎    | 197/370 [00:56<00:48,  3.54it/s]"
          ]
        },
        {
          "output_type": "stream",
          "name": "stdout",
          "text": [
            "Loss: 0.0926\n",
            "acc: 0.9686829374749937\n",
            "Epoch: 1/5............. "
          ]
        },
        {
          "output_type": "stream",
          "name": "stderr",
          "text": [
            "\r 54%|█████▎    | 198/370 [00:56<00:48,  3.54it/s]"
          ]
        },
        {
          "output_type": "stream",
          "name": "stdout",
          "text": [
            "Loss: 0.0863\n",
            "acc: 0.9725422124033455\n",
            "Epoch: 1/5............. "
          ]
        },
        {
          "output_type": "stream",
          "name": "stderr",
          "text": [
            "\r 54%|█████▍    | 199/370 [00:56<00:48,  3.54it/s]"
          ]
        },
        {
          "output_type": "stream",
          "name": "stdout",
          "text": [
            "Loss: 0.0840\n",
            "acc: 0.9712718102508179\n",
            "Epoch: 1/5............. "
          ]
        },
        {
          "output_type": "stream",
          "name": "stderr",
          "text": [
            "\r 54%|█████▍    | 200/370 [00:56<00:48,  3.54it/s]"
          ]
        },
        {
          "output_type": "stream",
          "name": "stdout",
          "text": [
            "Loss: 0.0935\n",
            "acc: 0.9692622175114509\n",
            "Epoch: 1/5............. "
          ]
        },
        {
          "output_type": "stream",
          "name": "stderr",
          "text": [
            "\r 54%|█████▍    | 201/370 [00:57<00:47,  3.54it/s]"
          ]
        },
        {
          "output_type": "stream",
          "name": "stdout",
          "text": [
            "Loss: 0.0874\n",
            "acc: 0.9720978762074652\n",
            "Epoch: 1/5............. "
          ]
        },
        {
          "output_type": "stream",
          "name": "stderr",
          "text": [
            "\r 55%|█████▍    | 202/370 [00:57<00:47,  3.53it/s]"
          ]
        },
        {
          "output_type": "stream",
          "name": "stdout",
          "text": [
            "Loss: 0.0876\n",
            "acc: 0.9712895533930528\n",
            "Epoch: 1/5............. "
          ]
        },
        {
          "output_type": "stream",
          "name": "stderr",
          "text": [
            "\r 55%|█████▍    | 203/370 [00:57<00:47,  3.53it/s]"
          ]
        },
        {
          "output_type": "stream",
          "name": "stdout",
          "text": [
            "Loss: 0.0839\n",
            "acc: 0.9709886663340224\n",
            "Epoch: 1/5............. "
          ]
        },
        {
          "output_type": "stream",
          "name": "stderr",
          "text": [
            "\r 55%|█████▌    | 204/370 [00:58<00:47,  3.53it/s]"
          ]
        },
        {
          "output_type": "stream",
          "name": "stdout",
          "text": [
            "Loss: 0.0829\n",
            "acc: 0.9730809144941664\n",
            "Epoch: 1/5............. "
          ]
        },
        {
          "output_type": "stream",
          "name": "stderr",
          "text": [
            "\r 55%|█████▌    | 205/370 [00:58<00:46,  3.52it/s]"
          ]
        },
        {
          "output_type": "stream",
          "name": "stdout",
          "text": [
            "Loss: 0.1084\n",
            "acc: 0.9652547265117621\n",
            "Epoch: 1/5............. "
          ]
        },
        {
          "output_type": "stream",
          "name": "stderr",
          "text": [
            "\r 56%|█████▌    | 206/370 [00:58<00:46,  3.53it/s]"
          ]
        },
        {
          "output_type": "stream",
          "name": "stdout",
          "text": [
            "Loss: 0.0881\n",
            "acc: 0.9704419081065262\n",
            "Epoch: 1/5............. "
          ]
        },
        {
          "output_type": "stream",
          "name": "stderr",
          "text": [
            "\r 56%|█████▌    | 207/370 [00:58<00:46,  3.54it/s]"
          ]
        },
        {
          "output_type": "stream",
          "name": "stdout",
          "text": [
            "Loss: 0.0947\n",
            "acc: 0.9684889243248864\n",
            "Epoch: 1/5............. "
          ]
        },
        {
          "output_type": "stream",
          "name": "stderr",
          "text": [
            "\r 56%|█████▌    | 208/370 [00:59<00:45,  3.53it/s]"
          ]
        },
        {
          "output_type": "stream",
          "name": "stdout",
          "text": [
            "Loss: 0.0799\n",
            "acc: 0.9734803776925347\n",
            "Epoch: 1/5............. "
          ]
        },
        {
          "output_type": "stream",
          "name": "stderr",
          "text": [
            "\r 56%|█████▋    | 209/370 [00:59<00:45,  3.53it/s]"
          ]
        },
        {
          "output_type": "stream",
          "name": "stdout",
          "text": [
            "Loss: 0.1119\n",
            "acc: 0.9632188131545104\n",
            "Epoch: 1/5............. "
          ]
        },
        {
          "output_type": "stream",
          "name": "stderr",
          "text": [
            "\r 57%|█████▋    | 210/370 [00:59<00:45,  3.55it/s]"
          ]
        },
        {
          "output_type": "stream",
          "name": "stdout",
          "text": [
            "Loss: 0.0952\n",
            "acc: 0.9691762554293988\n",
            "Epoch: 1/5............. "
          ]
        },
        {
          "output_type": "stream",
          "name": "stderr",
          "text": [
            "\r 57%|█████▋    | 211/370 [01:00<00:45,  3.52it/s]"
          ]
        },
        {
          "output_type": "stream",
          "name": "stdout",
          "text": [
            "Loss: 0.0950\n",
            "acc: 0.9688879319625363\n",
            "Epoch: 1/5............. "
          ]
        },
        {
          "output_type": "stream",
          "name": "stderr",
          "text": [
            "\r 57%|█████▋    | 212/370 [01:00<00:44,  3.53it/s]"
          ]
        },
        {
          "output_type": "stream",
          "name": "stdout",
          "text": [
            "Loss: 0.0919\n",
            "acc: 0.9702715514322475\n",
            "Epoch: 1/5............. "
          ]
        },
        {
          "output_type": "stream",
          "name": "stderr",
          "text": [
            "\r 58%|█████▊    | 213/370 [01:00<00:44,  3.52it/s]"
          ]
        },
        {
          "output_type": "stream",
          "name": "stdout",
          "text": [
            "Loss: 0.0953\n",
            "acc: 0.969146113785988\n",
            "Epoch: 1/5............. "
          ]
        },
        {
          "output_type": "stream",
          "name": "stderr",
          "text": [
            "\r 58%|█████▊    | 214/370 [01:00<00:44,  3.52it/s]"
          ]
        },
        {
          "output_type": "stream",
          "name": "stdout",
          "text": [
            "Loss: 0.0930\n",
            "acc: 0.9689296597656373\n",
            "Epoch: 1/5............. "
          ]
        },
        {
          "output_type": "stream",
          "name": "stderr",
          "text": [
            "\r 58%|█████▊    | 215/370 [01:01<00:43,  3.53it/s]"
          ]
        },
        {
          "output_type": "stream",
          "name": "stdout",
          "text": [
            "Loss: 0.0786\n",
            "acc: 0.9738001045010077\n",
            "Epoch: 1/5............. "
          ]
        },
        {
          "output_type": "stream",
          "name": "stderr",
          "text": [
            "\r 58%|█████▊    | 216/370 [01:01<00:43,  3.52it/s]"
          ]
        },
        {
          "output_type": "stream",
          "name": "stdout",
          "text": [
            "Loss: 0.1001\n",
            "acc: 0.9685935366408739\n",
            "Epoch: 1/5............. "
          ]
        },
        {
          "output_type": "stream",
          "name": "stderr",
          "text": [
            "\r 59%|█████▊    | 217/370 [01:01<00:43,  3.53it/s]"
          ]
        },
        {
          "output_type": "stream",
          "name": "stdout",
          "text": [
            "Loss: 0.0978\n",
            "acc: 0.9678340312143129\n",
            "Epoch: 1/5............. "
          ]
        },
        {
          "output_type": "stream",
          "name": "stderr",
          "text": [
            "\r 59%|█████▉    | 218/370 [01:02<00:43,  3.52it/s]"
          ]
        },
        {
          "output_type": "stream",
          "name": "stdout",
          "text": [
            "Loss: 0.0985\n",
            "acc: 0.9690914969285483\n",
            "Epoch: 1/5............. "
          ]
        },
        {
          "output_type": "stream",
          "name": "stderr",
          "text": [
            "\r 59%|█████▉    | 219/370 [01:02<00:42,  3.54it/s]"
          ]
        },
        {
          "output_type": "stream",
          "name": "stdout",
          "text": [
            "Loss: 0.0964\n",
            "acc: 0.9688017162120748\n",
            "Epoch: 1/5............. "
          ]
        },
        {
          "output_type": "stream",
          "name": "stderr",
          "text": [
            "\r 59%|█████▉    | 220/370 [01:02<00:42,  3.54it/s]"
          ]
        },
        {
          "output_type": "stream",
          "name": "stdout",
          "text": [
            "Loss: 0.0962\n",
            "acc: 0.9690130624092889\n",
            "Epoch: 1/5............. "
          ]
        },
        {
          "output_type": "stream",
          "name": "stderr",
          "text": [
            "\r 60%|█████▉    | 221/370 [01:02<00:42,  3.54it/s]"
          ]
        },
        {
          "output_type": "stream",
          "name": "stdout",
          "text": [
            "Loss: 0.0809\n",
            "acc: 0.9744230389900717\n",
            "Epoch: 1/5............. "
          ]
        },
        {
          "output_type": "stream",
          "name": "stderr",
          "text": [
            "\r 60%|██████    | 222/370 [01:03<00:42,  3.52it/s]"
          ]
        },
        {
          "output_type": "stream",
          "name": "stdout",
          "text": [
            "Loss: 0.0943\n",
            "acc: 0.9684347887423291\n",
            "Epoch: 1/5............. "
          ]
        },
        {
          "output_type": "stream",
          "name": "stderr",
          "text": [
            "\r 60%|██████    | 223/370 [01:03<00:41,  3.52it/s]"
          ]
        },
        {
          "output_type": "stream",
          "name": "stdout",
          "text": [
            "Loss: 0.0927\n",
            "acc: 0.9691589094643389\n",
            "Epoch: 1/5............. "
          ]
        },
        {
          "output_type": "stream",
          "name": "stderr",
          "text": [
            "\r 61%|██████    | 224/370 [01:03<00:41,  3.52it/s]"
          ]
        },
        {
          "output_type": "stream",
          "name": "stdout",
          "text": [
            "Loss: 0.0950\n",
            "acc: 0.9689149560117302\n",
            "Epoch: 1/5............. "
          ]
        },
        {
          "output_type": "stream",
          "name": "stderr",
          "text": [
            "\r 61%|██████    | 225/370 [01:04<00:41,  3.53it/s]"
          ]
        },
        {
          "output_type": "stream",
          "name": "stdout",
          "text": [
            "Loss: 0.0892\n",
            "acc: 0.9699874640513236\n",
            "Epoch: 1/5............. "
          ]
        },
        {
          "output_type": "stream",
          "name": "stderr",
          "text": [
            "\r 61%|██████    | 226/370 [01:04<00:40,  3.52it/s]"
          ]
        },
        {
          "output_type": "stream",
          "name": "stdout",
          "text": [
            "Loss: 0.0904\n",
            "acc: 0.9692930780559647\n",
            "Epoch: 1/5............. "
          ]
        },
        {
          "output_type": "stream",
          "name": "stderr",
          "text": [
            "\r 61%|██████▏   | 227/370 [01:04<00:40,  3.54it/s]"
          ]
        },
        {
          "output_type": "stream",
          "name": "stdout",
          "text": [
            "Loss: 0.0843\n",
            "acc: 0.9721199727334696\n",
            "Epoch: 1/5............. "
          ]
        },
        {
          "output_type": "stream",
          "name": "stderr",
          "text": [
            "\r 62%|██████▏   | 228/370 [01:04<00:40,  3.53it/s]"
          ]
        },
        {
          "output_type": "stream",
          "name": "stdout",
          "text": [
            "Loss: 0.0830\n",
            "acc: 0.9714297409029512\n",
            "Epoch: 1/5............. "
          ]
        },
        {
          "output_type": "stream",
          "name": "stderr",
          "text": [
            "\r 62%|██████▏   | 229/370 [01:05<00:39,  3.53it/s]"
          ]
        },
        {
          "output_type": "stream",
          "name": "stdout",
          "text": [
            "Loss: 0.0805\n",
            "acc: 0.9752735587130491\n",
            "Epoch: 1/5............. "
          ]
        },
        {
          "output_type": "stream",
          "name": "stderr",
          "text": [
            "\r 62%|██████▏   | 230/370 [01:05<00:39,  3.53it/s]"
          ]
        },
        {
          "output_type": "stream",
          "name": "stdout",
          "text": [
            "Loss: 0.0764\n",
            "acc: 0.974428487690504\n",
            "Epoch: 1/5............. "
          ]
        },
        {
          "output_type": "stream",
          "name": "stderr",
          "text": [
            "\r 62%|██████▏   | 231/370 [01:05<00:39,  3.52it/s]"
          ]
        },
        {
          "output_type": "stream",
          "name": "stdout",
          "text": [
            "Loss: 0.0846\n",
            "acc: 0.9716466739367503\n",
            "Epoch: 1/5............. "
          ]
        },
        {
          "output_type": "stream",
          "name": "stderr",
          "text": [
            "\r 63%|██████▎   | 232/370 [01:05<00:39,  3.54it/s]"
          ]
        },
        {
          "output_type": "stream",
          "name": "stdout",
          "text": [
            "Loss: 0.0866\n",
            "acc: 0.9711347586969963\n",
            "Epoch: 1/5............. "
          ]
        },
        {
          "output_type": "stream",
          "name": "stderr",
          "text": [
            "\r 63%|██████▎   | 233/370 [01:06<00:38,  3.53it/s]"
          ]
        },
        {
          "output_type": "stream",
          "name": "stdout",
          "text": [
            "Loss: 0.0902\n",
            "acc: 0.9708716600963644\n",
            "Epoch: 1/5............. "
          ]
        },
        {
          "output_type": "stream",
          "name": "stderr",
          "text": [
            "\r 63%|██████▎   | 234/370 [01:06<00:38,  3.54it/s]"
          ]
        },
        {
          "output_type": "stream",
          "name": "stdout",
          "text": [
            "Loss: 0.0952\n",
            "acc: 0.9681248927774918\n",
            "Epoch: 1/5............. "
          ]
        },
        {
          "output_type": "stream",
          "name": "stderr",
          "text": [
            "\r 64%|██████▎   | 235/370 [01:06<00:38,  3.52it/s]"
          ]
        },
        {
          "output_type": "stream",
          "name": "stdout",
          "text": [
            "Loss: 0.0975\n",
            "acc: 0.967195307408212\n",
            "Epoch: 1/5............. "
          ]
        },
        {
          "output_type": "stream",
          "name": "stderr",
          "text": [
            "\r 64%|██████▍   | 236/370 [01:07<00:38,  3.52it/s]"
          ]
        },
        {
          "output_type": "stream",
          "name": "stdout",
          "text": [
            "Loss: 0.0902\n",
            "acc: 0.9711495116453794\n",
            "Epoch: 1/5............. "
          ]
        },
        {
          "output_type": "stream",
          "name": "stderr",
          "text": [
            "\r 64%|██████▍   | 237/370 [01:07<00:37,  3.53it/s]"
          ]
        },
        {
          "output_type": "stream",
          "name": "stdout",
          "text": [
            "Loss: 0.0882\n",
            "acc: 0.9711385876752182\n",
            "Epoch: 1/5............. "
          ]
        },
        {
          "output_type": "stream",
          "name": "stderr",
          "text": [
            "\r 64%|██████▍   | 238/370 [01:07<00:37,  3.52it/s]"
          ]
        },
        {
          "output_type": "stream",
          "name": "stdout",
          "text": [
            "Loss: 0.0824\n",
            "acc: 0.9722488377870045\n",
            "Epoch: 1/5............. "
          ]
        },
        {
          "output_type": "stream",
          "name": "stderr",
          "text": [
            "\r 65%|██████▍   | 239/370 [01:07<00:37,  3.53it/s]"
          ]
        },
        {
          "output_type": "stream",
          "name": "stdout",
          "text": [
            "Loss: 0.0857\n",
            "acc: 0.9701937874933257\n",
            "Epoch: 1/5............. "
          ]
        },
        {
          "output_type": "stream",
          "name": "stderr",
          "text": [
            "\r 65%|██████▍   | 240/370 [01:08<00:36,  3.54it/s]"
          ]
        },
        {
          "output_type": "stream",
          "name": "stdout",
          "text": [
            "Loss: 0.1016\n",
            "acc: 0.9656848828956707\n",
            "Epoch: 1/5............. "
          ]
        },
        {
          "output_type": "stream",
          "name": "stderr",
          "text": [
            "\r 65%|██████▌   | 241/370 [01:08<00:36,  3.52it/s]"
          ]
        },
        {
          "output_type": "stream",
          "name": "stdout",
          "text": [
            "Loss: 0.0923\n",
            "acc: 0.9688117799440998\n",
            "Epoch: 1/5............. "
          ]
        },
        {
          "output_type": "stream",
          "name": "stderr",
          "text": [
            "\r 65%|██████▌   | 242/370 [01:08<00:36,  3.53it/s]"
          ]
        },
        {
          "output_type": "stream",
          "name": "stdout",
          "text": [
            "Loss: 0.0862\n",
            "acc: 0.97072193788346\n",
            "Epoch: 1/5............. "
          ]
        },
        {
          "output_type": "stream",
          "name": "stderr",
          "text": [
            "\r 66%|██████▌   | 243/370 [01:09<00:36,  3.52it/s]"
          ]
        },
        {
          "output_type": "stream",
          "name": "stdout",
          "text": [
            "Loss: 0.0839\n",
            "acc: 0.9703112203112203\n",
            "Epoch: 1/5............. "
          ]
        },
        {
          "output_type": "stream",
          "name": "stderr",
          "text": [
            "\r 66%|██████▌   | 244/370 [01:09<00:35,  3.54it/s]"
          ]
        },
        {
          "output_type": "stream",
          "name": "stdout",
          "text": [
            "Loss: 0.0877\n",
            "acc: 0.9718627976418345\n",
            "Epoch: 1/5............. "
          ]
        },
        {
          "output_type": "stream",
          "name": "stderr",
          "text": [
            "\r 66%|██████▌   | 245/370 [01:09<00:35,  3.54it/s]"
          ]
        },
        {
          "output_type": "stream",
          "name": "stdout",
          "text": [
            "Loss: 0.0763\n",
            "acc: 0.9748278829604131\n",
            "Epoch: 1/5............. "
          ]
        },
        {
          "output_type": "stream",
          "name": "stderr",
          "text": [
            "\r 66%|██████▋   | 246/370 [01:09<00:35,  3.53it/s]"
          ]
        },
        {
          "output_type": "stream",
          "name": "stdout",
          "text": [
            "Loss: 0.0859\n",
            "acc: 0.9714025500910747\n",
            "Epoch: 1/5............. "
          ]
        },
        {
          "output_type": "stream",
          "name": "stderr",
          "text": [
            "\r 67%|██████▋   | 247/370 [01:10<00:34,  3.52it/s]"
          ]
        },
        {
          "output_type": "stream",
          "name": "stdout",
          "text": [
            "Loss: 0.0905\n",
            "acc: 0.9688722630242296\n",
            "Epoch: 1/5............. "
          ]
        },
        {
          "output_type": "stream",
          "name": "stderr",
          "text": [
            "\r 67%|██████▋   | 248/370 [01:10<00:34,  3.52it/s]"
          ]
        },
        {
          "output_type": "stream",
          "name": "stdout",
          "text": [
            "Loss: 0.1034\n",
            "acc: 0.9663043873359747\n",
            "Epoch: 1/5............. "
          ]
        },
        {
          "output_type": "stream",
          "name": "stderr",
          "text": [
            "\r 67%|██████▋   | 249/370 [01:10<00:34,  3.52it/s]"
          ]
        },
        {
          "output_type": "stream",
          "name": "stdout",
          "text": [
            "Loss: 0.0986\n",
            "acc: 0.9669772880274953\n",
            "Epoch: 1/5............. "
          ]
        },
        {
          "output_type": "stream",
          "name": "stderr",
          "text": [
            "\r 68%|██████▊   | 250/370 [01:11<00:34,  3.52it/s]"
          ]
        },
        {
          "output_type": "stream",
          "name": "stdout",
          "text": [
            "Loss: 0.0908\n",
            "acc: 0.9706711409395973\n",
            "Epoch: 1/5............. "
          ]
        },
        {
          "output_type": "stream",
          "name": "stderr",
          "text": [
            "\r 68%|██████▊   | 251/370 [01:11<00:33,  3.54it/s]"
          ]
        },
        {
          "output_type": "stream",
          "name": "stdout",
          "text": [
            "Loss: 0.0889\n",
            "acc: 0.9703725760226299\n",
            "Epoch: 1/5............. "
          ]
        },
        {
          "output_type": "stream",
          "name": "stderr",
          "text": [
            "\r 68%|██████▊   | 252/370 [01:11<00:33,  3.53it/s]"
          ]
        },
        {
          "output_type": "stream",
          "name": "stdout",
          "text": [
            "Loss: 0.0797\n",
            "acc: 0.9728572996305374\n",
            "Epoch: 1/5............. "
          ]
        },
        {
          "output_type": "stream",
          "name": "stderr",
          "text": [
            "\r 68%|██████▊   | 253/370 [01:11<00:33,  3.53it/s]"
          ]
        },
        {
          "output_type": "stream",
          "name": "stdout",
          "text": [
            "Loss: 0.0968\n",
            "acc: 0.9682719352404473\n",
            "Epoch: 1/5............. "
          ]
        },
        {
          "output_type": "stream",
          "name": "stderr",
          "text": [
            "\r 69%|██████▊   | 254/370 [01:12<00:32,  3.54it/s]"
          ]
        },
        {
          "output_type": "stream",
          "name": "stdout",
          "text": [
            "Loss: 0.0831\n",
            "acc: 0.9714458276012482\n",
            "Epoch: 1/5............. "
          ]
        },
        {
          "output_type": "stream",
          "name": "stderr",
          "text": [
            "\r 69%|██████▉   | 255/370 [01:12<00:32,  3.54it/s]"
          ]
        },
        {
          "output_type": "stream",
          "name": "stdout",
          "text": [
            "Loss: 0.0780\n",
            "acc: 0.9735244458813809\n",
            "Epoch: 1/5............. "
          ]
        },
        {
          "output_type": "stream",
          "name": "stderr",
          "text": [
            "\r 69%|██████▉   | 256/370 [01:12<00:32,  3.53it/s]"
          ]
        },
        {
          "output_type": "stream",
          "name": "stdout",
          "text": [
            "Loss: 0.0816\n",
            "acc: 0.9716098505215615\n",
            "Epoch: 1/5............. "
          ]
        },
        {
          "output_type": "stream",
          "name": "stderr",
          "text": [
            "\r 69%|██████▉   | 257/370 [01:13<00:31,  3.54it/s]"
          ]
        },
        {
          "output_type": "stream",
          "name": "stdout",
          "text": [
            "Loss: 0.1004\n",
            "acc: 0.9669823030818882\n",
            "Epoch: 1/5............. "
          ]
        },
        {
          "output_type": "stream",
          "name": "stderr",
          "text": [
            "\r 70%|██████▉   | 258/370 [01:13<00:31,  3.53it/s]"
          ]
        },
        {
          "output_type": "stream",
          "name": "stdout",
          "text": [
            "Loss: 0.0786\n",
            "acc: 0.9737380627557981\n",
            "Epoch: 1/5............. "
          ]
        },
        {
          "output_type": "stream",
          "name": "stderr",
          "text": [
            "\r 70%|███████   | 259/370 [01:13<00:31,  3.52it/s]"
          ]
        },
        {
          "output_type": "stream",
          "name": "stdout",
          "text": [
            "Loss: 0.0882\n",
            "acc: 0.9720112102662438\n",
            "Epoch: 1/5............. "
          ]
        },
        {
          "output_type": "stream",
          "name": "stderr",
          "text": [
            "\r 70%|███████   | 260/370 [01:13<00:31,  3.54it/s]"
          ]
        },
        {
          "output_type": "stream",
          "name": "stdout",
          "text": [
            "Loss: 0.0838\n",
            "acc: 0.9725904216345833\n",
            "Epoch: 1/5............. "
          ]
        },
        {
          "output_type": "stream",
          "name": "stderr",
          "text": [
            "\r 71%|███████   | 261/370 [01:14<00:30,  3.53it/s]"
          ]
        },
        {
          "output_type": "stream",
          "name": "stdout",
          "text": [
            "Loss: 0.1020\n",
            "acc: 0.9663953175457481\n",
            "Epoch: 1/5............. "
          ]
        },
        {
          "output_type": "stream",
          "name": "stderr",
          "text": [
            "\r 71%|███████   | 262/370 [01:14<00:30,  3.55it/s]"
          ]
        },
        {
          "output_type": "stream",
          "name": "stdout",
          "text": [
            "Loss: 0.0819\n",
            "acc: 0.9712906316798113\n",
            "Epoch: 1/5............. "
          ]
        },
        {
          "output_type": "stream",
          "name": "stderr",
          "text": [
            "\r 71%|███████   | 263/370 [01:14<00:30,  3.53it/s]"
          ]
        },
        {
          "output_type": "stream",
          "name": "stdout",
          "text": [
            "Loss: 0.0881\n",
            "acc: 0.971258824891015\n",
            "Epoch: 1/5............. "
          ]
        },
        {
          "output_type": "stream",
          "name": "stderr",
          "text": [
            "\r 71%|███████▏  | 264/370 [01:15<00:30,  3.52it/s]"
          ]
        },
        {
          "output_type": "stream",
          "name": "stdout",
          "text": [
            "Loss: 0.0885\n",
            "acc: 0.9714105594956659\n",
            "Epoch: 1/5............. "
          ]
        },
        {
          "output_type": "stream",
          "name": "stderr",
          "text": [
            "\r 72%|███████▏  | 265/370 [01:15<00:29,  3.53it/s]"
          ]
        },
        {
          "output_type": "stream",
          "name": "stdout",
          "text": [
            "Loss: 0.0974\n",
            "acc: 0.9688879082082965\n",
            "Epoch: 1/5............. "
          ]
        },
        {
          "output_type": "stream",
          "name": "stderr",
          "text": [
            "\r 72%|███████▏  | 266/370 [01:15<00:29,  3.53it/s]"
          ]
        },
        {
          "output_type": "stream",
          "name": "stdout",
          "text": [
            "Loss: 0.0839\n",
            "acc: 0.9722231783292603\n",
            "Epoch: 1/5............. "
          ]
        },
        {
          "output_type": "stream",
          "name": "stderr",
          "text": [
            "\r 72%|███████▏  | 267/370 [01:15<00:29,  3.53it/s]"
          ]
        },
        {
          "output_type": "stream",
          "name": "stdout",
          "text": [
            "Loss: 0.1033\n",
            "acc: 0.965323079035913\n",
            "Epoch: 1/5............. "
          ]
        },
        {
          "output_type": "stream",
          "name": "stderr",
          "text": [
            "\r 72%|███████▏  | 268/370 [01:16<00:28,  3.52it/s]"
          ]
        },
        {
          "output_type": "stream",
          "name": "stdout",
          "text": [
            "Loss: 0.0835\n",
            "acc: 0.970982499920018\n",
            "Epoch: 1/5............. "
          ]
        },
        {
          "output_type": "stream",
          "name": "stderr",
          "text": [
            "\r 73%|███████▎  | 269/370 [01:16<00:28,  3.52it/s]"
          ]
        },
        {
          "output_type": "stream",
          "name": "stdout",
          "text": [
            "Loss: 0.1026\n",
            "acc: 0.9655349229022452\n",
            "Epoch: 1/5............. "
          ]
        },
        {
          "output_type": "stream",
          "name": "stderr",
          "text": [
            "\r 73%|███████▎  | 270/370 [01:16<00:28,  3.54it/s]"
          ]
        },
        {
          "output_type": "stream",
          "name": "stdout",
          "text": [
            "Loss: 0.0858\n",
            "acc: 0.9721854742690832\n",
            "Epoch: 1/5............. "
          ]
        },
        {
          "output_type": "stream",
          "name": "stderr",
          "text": [
            "\r 73%|███████▎  | 271/370 [01:17<00:27,  3.54it/s]"
          ]
        },
        {
          "output_type": "stream",
          "name": "stdout",
          "text": [
            "Loss: 0.0940\n",
            "acc: 0.9693082913421897\n",
            "Epoch: 1/5............. "
          ]
        },
        {
          "output_type": "stream",
          "name": "stderr",
          "text": [
            "\r 74%|███████▎  | 272/370 [01:17<00:27,  3.53it/s]"
          ]
        },
        {
          "output_type": "stream",
          "name": "stdout",
          "text": [
            "Loss: 0.0929\n",
            "acc: 0.9697574570653812\n",
            "Epoch: 1/5............. "
          ]
        },
        {
          "output_type": "stream",
          "name": "stderr",
          "text": [
            "\r 74%|███████▍  | 273/370 [01:17<00:27,  3.52it/s]"
          ]
        },
        {
          "output_type": "stream",
          "name": "stdout",
          "text": [
            "Loss: 0.0907\n",
            "acc: 0.9704041941484863\n",
            "Epoch: 1/5............. "
          ]
        },
        {
          "output_type": "stream",
          "name": "stderr",
          "text": [
            "\r 74%|███████▍  | 274/370 [01:17<00:27,  3.53it/s]"
          ]
        },
        {
          "output_type": "stream",
          "name": "stdout",
          "text": [
            "Loss: 0.0844\n",
            "acc: 0.971565025716385\n",
            "Epoch: 1/5............. "
          ]
        },
        {
          "output_type": "stream",
          "name": "stderr",
          "text": [
            "\r 74%|███████▍  | 275/370 [01:18<00:26,  3.53it/s]"
          ]
        },
        {
          "output_type": "stream",
          "name": "stdout",
          "text": [
            "Loss: 0.0859\n",
            "acc: 0.9705342510652245\n",
            "Epoch: 1/5............. "
          ]
        },
        {
          "output_type": "stream",
          "name": "stderr",
          "text": [
            "\r 75%|███████▍  | 276/370 [01:18<00:26,  3.54it/s]"
          ]
        },
        {
          "output_type": "stream",
          "name": "stdout",
          "text": [
            "Loss: 0.0938\n",
            "acc: 0.9690696456624193\n",
            "Epoch: 1/5............. "
          ]
        },
        {
          "output_type": "stream",
          "name": "stderr",
          "text": [
            "\r 75%|███████▍  | 277/370 [01:18<00:26,  3.53it/s]"
          ]
        },
        {
          "output_type": "stream",
          "name": "stdout",
          "text": [
            "Loss: 0.0937\n",
            "acc: 0.9701699827903747\n",
            "Epoch: 1/5............. "
          ]
        },
        {
          "output_type": "stream",
          "name": "stderr",
          "text": [
            "\r 75%|███████▌  | 278/370 [01:19<00:25,  3.54it/s]"
          ]
        },
        {
          "output_type": "stream",
          "name": "stdout",
          "text": [
            "Loss: 0.0795\n",
            "acc: 0.9734881535673535\n",
            "Epoch: 1/5............. "
          ]
        },
        {
          "output_type": "stream",
          "name": "stderr",
          "text": [
            "\r 75%|███████▌  | 279/370 [01:19<00:25,  3.53it/s]"
          ]
        },
        {
          "output_type": "stream",
          "name": "stdout",
          "text": [
            "Loss: 0.0894\n",
            "acc: 0.9710054387770102\n",
            "Epoch: 1/5............. "
          ]
        },
        {
          "output_type": "stream",
          "name": "stderr",
          "text": [
            "\r 76%|███████▌  | 280/370 [01:19<00:25,  3.54it/s]"
          ]
        },
        {
          "output_type": "stream",
          "name": "stdout",
          "text": [
            "Loss: 0.0827\n",
            "acc: 0.9727518522420029\n",
            "Epoch: 1/5............. "
          ]
        },
        {
          "output_type": "stream",
          "name": "stderr",
          "text": [
            "\r 76%|███████▌  | 281/370 [01:19<00:25,  3.54it/s]"
          ]
        },
        {
          "output_type": "stream",
          "name": "stdout",
          "text": [
            "Loss: 0.0869\n",
            "acc: 0.970154835814197\n",
            "Epoch: 1/5............. "
          ]
        },
        {
          "output_type": "stream",
          "name": "stderr",
          "text": [
            "\r 76%|███████▌  | 282/370 [01:20<00:24,  3.52it/s]"
          ]
        },
        {
          "output_type": "stream",
          "name": "stdout",
          "text": [
            "Loss: 0.0929\n",
            "acc: 0.9709169291991377\n",
            "Epoch: 1/5............. "
          ]
        },
        {
          "output_type": "stream",
          "name": "stderr",
          "text": [
            "\r 76%|███████▋  | 283/370 [01:20<00:24,  3.53it/s]"
          ]
        },
        {
          "output_type": "stream",
          "name": "stdout",
          "text": [
            "Loss: 0.0855\n",
            "acc: 0.9708452796296936\n",
            "Epoch: 1/5............. "
          ]
        },
        {
          "output_type": "stream",
          "name": "stderr",
          "text": [
            "\r 77%|███████▋  | 284/370 [01:20<00:24,  3.52it/s]"
          ]
        },
        {
          "output_type": "stream",
          "name": "stdout",
          "text": [
            "Loss: 0.0852\n",
            "acc: 0.9717327459618208\n",
            "Epoch: 1/5............. "
          ]
        },
        {
          "output_type": "stream",
          "name": "stderr",
          "text": [
            "\r 77%|███████▋  | 285/370 [01:21<00:24,  3.53it/s]"
          ]
        },
        {
          "output_type": "stream",
          "name": "stdout",
          "text": [
            "Loss: 0.0866\n",
            "acc: 0.9724262059035277\n",
            "Epoch: 1/5............. "
          ]
        },
        {
          "output_type": "stream",
          "name": "stderr",
          "text": [
            "\r 77%|███████▋  | 286/370 [01:21<00:23,  3.55it/s]"
          ]
        },
        {
          "output_type": "stream",
          "name": "stdout",
          "text": [
            "Loss: 0.0817\n",
            "acc: 0.9730274489683732\n",
            "Epoch: 1/5............. "
          ]
        },
        {
          "output_type": "stream",
          "name": "stderr",
          "text": [
            "\r 78%|███████▊  | 287/370 [01:21<00:23,  3.55it/s]"
          ]
        },
        {
          "output_type": "stream",
          "name": "stdout",
          "text": [
            "Loss: 0.0910\n",
            "acc: 0.9690199809705042\n",
            "Epoch: 1/5............. "
          ]
        },
        {
          "output_type": "stream",
          "name": "stderr",
          "text": [
            "\r 78%|███████▊  | 288/370 [01:21<00:23,  3.52it/s]"
          ]
        },
        {
          "output_type": "stream",
          "name": "stdout",
          "text": [
            "Loss: 0.0771\n",
            "acc: 0.9730522515552977\n",
            "Epoch: 1/5............. "
          ]
        },
        {
          "output_type": "stream",
          "name": "stderr",
          "text": [
            "\r 78%|███████▊  | 289/370 [01:22<00:23,  3.51it/s]"
          ]
        },
        {
          "output_type": "stream",
          "name": "stdout",
          "text": [
            "Loss: 0.0899\n",
            "acc: 0.9692739440166942\n",
            "Epoch: 1/5............. "
          ]
        },
        {
          "output_type": "stream",
          "name": "stderr",
          "text": [
            "\r 78%|███████▊  | 290/370 [01:22<00:22,  3.52it/s]"
          ]
        },
        {
          "output_type": "stream",
          "name": "stdout",
          "text": [
            "Loss: 0.0919\n",
            "acc: 0.9685882953137527\n",
            "Epoch: 1/5............. "
          ]
        },
        {
          "output_type": "stream",
          "name": "stderr",
          "text": [
            "\r 79%|███████▊  | 291/370 [01:22<00:22,  3.54it/s]"
          ]
        },
        {
          "output_type": "stream",
          "name": "stdout",
          "text": [
            "Loss: 0.0756\n",
            "acc: 0.9753153927274147\n",
            "Epoch: 1/5............. "
          ]
        },
        {
          "output_type": "stream",
          "name": "stderr",
          "text": [
            "\r 79%|███████▉  | 292/370 [01:22<00:22,  3.53it/s]"
          ]
        },
        {
          "output_type": "stream",
          "name": "stdout",
          "text": [
            "Loss: 0.1017\n",
            "acc: 0.9662063701339255\n",
            "Epoch: 1/5............. "
          ]
        },
        {
          "output_type": "stream",
          "name": "stderr",
          "text": [
            "\r 79%|███████▉  | 293/370 [01:23<00:21,  3.53it/s]"
          ]
        },
        {
          "output_type": "stream",
          "name": "stdout",
          "text": [
            "Loss: 0.0855\n",
            "acc: 0.9716177141987521\n",
            "Epoch: 1/5............. "
          ]
        },
        {
          "output_type": "stream",
          "name": "stderr",
          "text": [
            "\r 79%|███████▉  | 294/370 [01:23<00:21,  3.53it/s]"
          ]
        },
        {
          "output_type": "stream",
          "name": "stdout",
          "text": [
            "Loss: 0.0939\n",
            "acc: 0.970462040353179\n",
            "Epoch: 1/5............. "
          ]
        },
        {
          "output_type": "stream",
          "name": "stderr",
          "text": [
            "\r 80%|███████▉  | 295/370 [01:23<00:21,  3.52it/s]"
          ]
        },
        {
          "output_type": "stream",
          "name": "stdout",
          "text": [
            "Loss: 0.0866\n",
            "acc: 0.9704176788652927\n",
            "Epoch: 1/5............. "
          ]
        },
        {
          "output_type": "stream",
          "name": "stderr",
          "text": [
            "\r 80%|████████  | 296/370 [01:24<00:20,  3.53it/s]"
          ]
        },
        {
          "output_type": "stream",
          "name": "stdout",
          "text": [
            "Loss: 0.1128\n",
            "acc: 0.9646977917016887\n",
            "Epoch: 1/5............. "
          ]
        },
        {
          "output_type": "stream",
          "name": "stderr",
          "text": [
            "\r 80%|████████  | 297/370 [01:24<00:20,  3.53it/s]"
          ]
        },
        {
          "output_type": "stream",
          "name": "stdout",
          "text": [
            "Loss: 0.0842\n",
            "acc: 0.9709645824776468\n",
            "Epoch: 1/5............. "
          ]
        },
        {
          "output_type": "stream",
          "name": "stderr",
          "text": [
            "\r 81%|████████  | 298/370 [01:24<00:20,  3.54it/s]"
          ]
        },
        {
          "output_type": "stream",
          "name": "stdout",
          "text": [
            "Loss: 0.0910\n",
            "acc: 0.9692985318107668\n",
            "Epoch: 1/5............. "
          ]
        },
        {
          "output_type": "stream",
          "name": "stderr",
          "text": [
            "\r 81%|████████  | 299/370 [01:24<00:20,  3.53it/s]"
          ]
        },
        {
          "output_type": "stream",
          "name": "stdout",
          "text": [
            "Loss: 0.1161\n",
            "acc: 0.9638871773807078\n",
            "Epoch: 1/5............. "
          ]
        },
        {
          "output_type": "stream",
          "name": "stderr",
          "text": [
            "\r 81%|████████  | 300/370 [01:25<00:19,  3.54it/s]"
          ]
        },
        {
          "output_type": "stream",
          "name": "stdout",
          "text": [
            "Loss: 0.0908\n",
            "acc: 0.9684134137957375\n",
            "Epoch: 1/5............. "
          ]
        },
        {
          "output_type": "stream",
          "name": "stderr",
          "text": [
            "\r 81%|████████▏ | 301/370 [01:25<00:19,  3.52it/s]"
          ]
        },
        {
          "output_type": "stream",
          "name": "stdout",
          "text": [
            "Loss: 0.0866\n",
            "acc: 0.9712698197587749\n",
            "Epoch: 1/5............. "
          ]
        },
        {
          "output_type": "stream",
          "name": "stderr",
          "text": [
            "\r 82%|████████▏ | 302/370 [01:25<00:19,  3.51it/s]"
          ]
        },
        {
          "output_type": "stream",
          "name": "stdout",
          "text": [
            "Loss: 0.0790\n",
            "acc: 0.9730931366091424\n",
            "Epoch: 1/5............. "
          ]
        },
        {
          "output_type": "stream",
          "name": "stderr",
          "text": [
            "\r 82%|████████▏ | 303/370 [01:26<00:19,  3.50it/s]"
          ]
        },
        {
          "output_type": "stream",
          "name": "stdout",
          "text": [
            "Loss: 0.0770\n",
            "acc: 0.974788779993241\n",
            "Epoch: 1/5............. "
          ]
        },
        {
          "output_type": "stream",
          "name": "stderr",
          "text": [
            "\r 82%|████████▏ | 304/370 [01:26<00:18,  3.51it/s]"
          ]
        },
        {
          "output_type": "stream",
          "name": "stdout",
          "text": [
            "Loss: 0.1198\n",
            "acc: 0.9625591586327783\n",
            "Epoch: 1/5............. "
          ]
        },
        {
          "output_type": "stream",
          "name": "stderr",
          "text": [
            "\r 82%|████████▏ | 305/370 [01:26<00:18,  3.48it/s]"
          ]
        },
        {
          "output_type": "stream",
          "name": "stdout",
          "text": [
            "Loss: 0.0895\n",
            "acc: 0.9705628679641505\n",
            "Epoch: 1/5............. "
          ]
        },
        {
          "output_type": "stream",
          "name": "stderr",
          "text": [
            "\r 83%|████████▎ | 306/370 [01:26<00:18,  3.49it/s]"
          ]
        },
        {
          "output_type": "stream",
          "name": "stdout",
          "text": [
            "Loss: 0.0796\n",
            "acc: 0.9736918393970141\n",
            "Epoch: 1/5............. "
          ]
        },
        {
          "output_type": "stream",
          "name": "stderr",
          "text": [
            "\r 83%|████████▎ | 307/370 [01:27<00:17,  3.50it/s]"
          ]
        },
        {
          "output_type": "stream",
          "name": "stdout",
          "text": [
            "Loss: 0.0818\n",
            "acc: 0.9733461538461539\n",
            "Epoch: 1/5............. "
          ]
        },
        {
          "output_type": "stream",
          "name": "stderr",
          "text": [
            "\r 83%|████████▎ | 308/370 [01:27<00:17,  3.51it/s]"
          ]
        },
        {
          "output_type": "stream",
          "name": "stdout",
          "text": [
            "Loss: 0.1068\n",
            "acc: 0.9668773959244065\n",
            "Epoch: 1/5............. "
          ]
        },
        {
          "output_type": "stream",
          "name": "stderr",
          "text": [
            "\r 84%|████████▎ | 309/370 [01:27<00:17,  3.51it/s]"
          ]
        },
        {
          "output_type": "stream",
          "name": "stdout",
          "text": [
            "Loss: 0.0831\n",
            "acc: 0.9726983396602631\n",
            "Epoch: 1/5............. "
          ]
        },
        {
          "output_type": "stream",
          "name": "stderr",
          "text": [
            "\r 84%|████████▍ | 310/370 [01:28<00:17,  3.53it/s]"
          ]
        },
        {
          "output_type": "stream",
          "name": "stdout",
          "text": [
            "Loss: 0.0816\n",
            "acc: 0.9734707510258612\n",
            "Epoch: 1/5............. "
          ]
        },
        {
          "output_type": "stream",
          "name": "stderr",
          "text": [
            "\r 84%|████████▍ | 311/370 [01:28<00:16,  3.52it/s]"
          ]
        },
        {
          "output_type": "stream",
          "name": "stdout",
          "text": [
            "Loss: 0.0795\n",
            "acc: 0.9735897863818425\n",
            "Epoch: 1/5............. "
          ]
        },
        {
          "output_type": "stream",
          "name": "stderr",
          "text": [
            "\r 84%|████████▍ | 312/370 [01:28<00:16,  3.52it/s]"
          ]
        },
        {
          "output_type": "stream",
          "name": "stdout",
          "text": [
            "Loss: 0.0818\n",
            "acc: 0.9730231648910175\n",
            "Epoch: 1/5............. "
          ]
        },
        {
          "output_type": "stream",
          "name": "stderr",
          "text": [
            "\r 85%|████████▍ | 313/370 [01:28<00:16,  3.54it/s]"
          ]
        },
        {
          "output_type": "stream",
          "name": "stdout",
          "text": [
            "Loss: 0.0823\n",
            "acc: 0.9719694682823753\n",
            "Epoch: 1/5............. "
          ]
        },
        {
          "output_type": "stream",
          "name": "stderr",
          "text": [
            "\r 85%|████████▍ | 314/370 [01:29<00:15,  3.53it/s]"
          ]
        },
        {
          "output_type": "stream",
          "name": "stdout",
          "text": [
            "Loss: 0.0830\n",
            "acc: 0.9723435738444194\n",
            "Epoch: 1/5............. "
          ]
        },
        {
          "output_type": "stream",
          "name": "stderr",
          "text": [
            "\r 85%|████████▌ | 315/370 [01:29<00:15,  3.52it/s]"
          ]
        },
        {
          "output_type": "stream",
          "name": "stdout",
          "text": [
            "Loss: 0.0850\n",
            "acc: 0.9719890597000849\n",
            "Epoch: 1/5............. "
          ]
        },
        {
          "output_type": "stream",
          "name": "stderr",
          "text": [
            "\r 85%|████████▌ | 316/370 [01:29<00:15,  3.52it/s]"
          ]
        },
        {
          "output_type": "stream",
          "name": "stdout",
          "text": [
            "Loss: 0.0934\n",
            "acc: 0.9690932311621967\n",
            "Epoch: 1/5............. "
          ]
        },
        {
          "output_type": "stream",
          "name": "stderr",
          "text": [
            "\r 86%|████████▌ | 317/370 [01:30<00:15,  3.52it/s]"
          ]
        },
        {
          "output_type": "stream",
          "name": "stdout",
          "text": [
            "Loss: 0.0797\n",
            "acc: 0.9730149418544464\n",
            "Epoch: 1/5............. "
          ]
        },
        {
          "output_type": "stream",
          "name": "stderr",
          "text": [
            "\r 86%|████████▌ | 318/370 [01:30<00:14,  3.54it/s]"
          ]
        },
        {
          "output_type": "stream",
          "name": "stdout",
          "text": [
            "Loss: 0.0774\n",
            "acc: 0.9743347928595487\n",
            "Epoch: 1/5............. "
          ]
        },
        {
          "output_type": "stream",
          "name": "stderr",
          "text": [
            "\r 86%|████████▌ | 319/370 [01:30<00:14,  3.53it/s]"
          ]
        },
        {
          "output_type": "stream",
          "name": "stdout",
          "text": [
            "Loss: 0.0849\n",
            "acc: 0.9722864646623025\n",
            "Epoch: 1/5............. "
          ]
        },
        {
          "output_type": "stream",
          "name": "stderr",
          "text": [
            "\r 86%|████████▋ | 320/370 [01:30<00:14,  3.53it/s]"
          ]
        },
        {
          "output_type": "stream",
          "name": "stdout",
          "text": [
            "Loss: 0.0903\n",
            "acc: 0.9712147380541163\n",
            "Epoch: 1/5............. "
          ]
        },
        {
          "output_type": "stream",
          "name": "stderr",
          "text": [
            "\r 87%|████████▋ | 321/370 [01:31<00:13,  3.53it/s]"
          ]
        },
        {
          "output_type": "stream",
          "name": "stdout",
          "text": [
            "Loss: 0.0893\n",
            "acc: 0.9701898960945897\n",
            "Epoch: 1/5............. "
          ]
        },
        {
          "output_type": "stream",
          "name": "stderr",
          "text": [
            "\r 87%|████████▋ | 322/370 [01:31<00:13,  3.54it/s]"
          ]
        },
        {
          "output_type": "stream",
          "name": "stdout",
          "text": [
            "Loss: 0.0915\n",
            "acc: 0.9699488740584631\n",
            "Epoch: 1/5............. "
          ]
        },
        {
          "output_type": "stream",
          "name": "stderr",
          "text": [
            "\r 87%|████████▋ | 323/370 [01:31<00:13,  3.53it/s]"
          ]
        },
        {
          "output_type": "stream",
          "name": "stdout",
          "text": [
            "Loss: 0.1005\n",
            "acc: 0.9673736278628541\n",
            "Epoch: 1/5............. "
          ]
        },
        {
          "output_type": "stream",
          "name": "stderr",
          "text": [
            "\r 88%|████████▊ | 324/370 [01:32<00:13,  3.53it/s]"
          ]
        },
        {
          "output_type": "stream",
          "name": "stdout",
          "text": [
            "Loss: 0.0859\n",
            "acc: 0.9707972202701648\n",
            "Epoch: 1/5............. "
          ]
        },
        {
          "output_type": "stream",
          "name": "stderr",
          "text": [
            "\r 88%|████████▊ | 325/370 [01:32<00:12,  3.53it/s]"
          ]
        },
        {
          "output_type": "stream",
          "name": "stdout",
          "text": [
            "Loss: 0.0963\n",
            "acc: 0.9689932796593254\n",
            "Epoch: 1/5............. "
          ]
        },
        {
          "output_type": "stream",
          "name": "stderr",
          "text": [
            "\r 88%|████████▊ | 326/370 [01:32<00:12,  3.54it/s]"
          ]
        },
        {
          "output_type": "stream",
          "name": "stdout",
          "text": [
            "Loss: 0.0860\n",
            "acc: 0.9715145436308926\n",
            "Epoch: 1/5............. "
          ]
        },
        {
          "output_type": "stream",
          "name": "stderr",
          "text": [
            "\r 88%|████████▊ | 327/370 [01:32<00:12,  3.53it/s]"
          ]
        },
        {
          "output_type": "stream",
          "name": "stdout",
          "text": [
            "Loss: 0.0852\n",
            "acc: 0.9716539148606289\n",
            "Epoch: 1/5............. "
          ]
        },
        {
          "output_type": "stream",
          "name": "stderr",
          "text": [
            "\r 89%|████████▊ | 328/370 [01:33<00:11,  3.52it/s]"
          ]
        },
        {
          "output_type": "stream",
          "name": "stdout",
          "text": [
            "Loss: 0.0794\n",
            "acc: 0.9738130795679505\n",
            "Epoch: 1/5............. "
          ]
        },
        {
          "output_type": "stream",
          "name": "stderr",
          "text": [
            "\r 89%|████████▉ | 329/370 [01:33<00:11,  3.52it/s]"
          ]
        },
        {
          "output_type": "stream",
          "name": "stdout",
          "text": [
            "Loss: 0.0761\n",
            "acc: 0.974075330844927\n",
            "Epoch: 1/5............. "
          ]
        },
        {
          "output_type": "stream",
          "name": "stderr",
          "text": [
            "\r 89%|████████▉ | 330/370 [01:33<00:11,  3.53it/s]"
          ]
        },
        {
          "output_type": "stream",
          "name": "stdout",
          "text": [
            "Loss: 0.0952\n",
            "acc: 0.969108716256538\n",
            "Epoch: 1/5............. "
          ]
        },
        {
          "output_type": "stream",
          "name": "stderr",
          "text": [
            "\r 89%|████████▉ | 331/370 [01:34<00:11,  3.53it/s]"
          ]
        },
        {
          "output_type": "stream",
          "name": "stdout",
          "text": [
            "Loss: 0.0818\n",
            "acc: 0.9736265241813947\n",
            "Epoch: 1/5............. "
          ]
        },
        {
          "output_type": "stream",
          "name": "stderr",
          "text": [
            "\r 90%|████████▉ | 332/370 [01:34<00:10,  3.53it/s]"
          ]
        },
        {
          "output_type": "stream",
          "name": "stdout",
          "text": [
            "Loss: 0.0714\n",
            "acc: 0.9765069779430717\n",
            "Epoch: 1/5............. "
          ]
        },
        {
          "output_type": "stream",
          "name": "stderr",
          "text": [
            "\r 90%|█████████ | 333/370 [01:34<00:10,  3.53it/s]"
          ]
        },
        {
          "output_type": "stream",
          "name": "stdout",
          "text": [
            "Loss: 0.0836\n",
            "acc: 0.9710712016320524\n",
            "Epoch: 1/5............. "
          ]
        },
        {
          "output_type": "stream",
          "name": "stderr",
          "text": [
            "\r 90%|█████████ | 334/370 [01:34<00:10,  3.53it/s]"
          ]
        },
        {
          "output_type": "stream",
          "name": "stdout",
          "text": [
            "Loss: 0.0893\n",
            "acc: 0.9716304613985378\n",
            "Epoch: 1/5............. "
          ]
        },
        {
          "output_type": "stream",
          "name": "stderr",
          "text": [
            "\r 91%|█████████ | 335/370 [01:35<00:09,  3.53it/s]"
          ]
        },
        {
          "output_type": "stream",
          "name": "stdout",
          "text": [
            "Loss: 0.0843\n",
            "acc: 0.9721436270547023\n",
            "Epoch: 1/5............. "
          ]
        },
        {
          "output_type": "stream",
          "name": "stderr",
          "text": [
            "\r 91%|█████████ | 336/370 [01:35<00:09,  3.53it/s]"
          ]
        },
        {
          "output_type": "stream",
          "name": "stdout",
          "text": [
            "Loss: 0.0817\n",
            "acc: 0.9727147661265668\n",
            "Epoch: 1/5............. "
          ]
        },
        {
          "output_type": "stream",
          "name": "stderr",
          "text": [
            "\r 91%|█████████ | 337/370 [01:35<00:09,  3.53it/s]"
          ]
        },
        {
          "output_type": "stream",
          "name": "stdout",
          "text": [
            "Loss: 0.0854\n",
            "acc: 0.9724637153977665\n",
            "Epoch: 1/5............. "
          ]
        },
        {
          "output_type": "stream",
          "name": "stderr",
          "text": [
            "\r 91%|█████████▏| 338/370 [01:36<00:09,  3.54it/s]"
          ]
        },
        {
          "output_type": "stream",
          "name": "stdout",
          "text": [
            "Loss: 0.0814\n",
            "acc: 0.9730665912625477\n",
            "Epoch: 1/5............. "
          ]
        },
        {
          "output_type": "stream",
          "name": "stderr",
          "text": [
            "\r 92%|█████████▏| 339/370 [01:36<00:08,  3.53it/s]"
          ]
        },
        {
          "output_type": "stream",
          "name": "stdout",
          "text": [
            "Loss: 0.0916\n",
            "acc: 0.9698049030933128\n",
            "Epoch: 1/5............. "
          ]
        },
        {
          "output_type": "stream",
          "name": "stderr",
          "text": [
            "\r 92%|█████████▏| 340/370 [01:36<00:08,  3.52it/s]"
          ]
        },
        {
          "output_type": "stream",
          "name": "stdout",
          "text": [
            "Loss: 0.0949\n",
            "acc: 0.9696344339622641\n",
            "Epoch: 1/5............. "
          ]
        },
        {
          "output_type": "stream",
          "name": "stderr",
          "text": [
            "\r 92%|█████████▏| 341/370 [01:36<00:08,  3.52it/s]"
          ]
        },
        {
          "output_type": "stream",
          "name": "stdout",
          "text": [
            "Loss: 0.0828\n",
            "acc: 0.9726228919985648\n",
            "Epoch: 1/5............. "
          ]
        },
        {
          "output_type": "stream",
          "name": "stderr",
          "text": [
            "\r 92%|█████████▏| 342/370 [01:37<00:07,  3.53it/s]"
          ]
        },
        {
          "output_type": "stream",
          "name": "stdout",
          "text": [
            "Loss: 0.0789\n",
            "acc: 0.9742927466650461\n",
            "Epoch: 1/5............. "
          ]
        },
        {
          "output_type": "stream",
          "name": "stderr",
          "text": [
            "\r 93%|█████████▎| 343/370 [01:37<00:07,  3.53it/s]"
          ]
        },
        {
          "output_type": "stream",
          "name": "stdout",
          "text": [
            "Loss: 0.0872\n",
            "acc: 0.971256357129403\n",
            "Epoch: 1/5............. "
          ]
        },
        {
          "output_type": "stream",
          "name": "stderr",
          "text": [
            "\r 93%|█████████▎| 344/370 [01:37<00:07,  3.54it/s]"
          ]
        },
        {
          "output_type": "stream",
          "name": "stdout",
          "text": [
            "Loss: 0.0821\n",
            "acc: 0.9725355232221351\n",
            "Epoch: 1/5............. "
          ]
        },
        {
          "output_type": "stream",
          "name": "stderr",
          "text": [
            "\r 93%|█████████▎| 345/370 [01:38<00:07,  3.53it/s]"
          ]
        },
        {
          "output_type": "stream",
          "name": "stdout",
          "text": [
            "Loss: 0.0824\n",
            "acc: 0.9723908421409423\n",
            "Epoch: 1/5............. "
          ]
        },
        {
          "output_type": "stream",
          "name": "stderr",
          "text": [
            "\r 94%|█████████▎| 346/370 [01:38<00:06,  3.53it/s]"
          ]
        },
        {
          "output_type": "stream",
          "name": "stdout",
          "text": [
            "Loss: 0.0809\n",
            "acc: 0.9733999854046559\n",
            "Epoch: 1/5............. "
          ]
        },
        {
          "output_type": "stream",
          "name": "stderr",
          "text": [
            "\r 94%|█████████▍| 347/370 [01:38<00:06,  3.54it/s]"
          ]
        },
        {
          "output_type": "stream",
          "name": "stdout",
          "text": [
            "Loss: 0.0833\n",
            "acc: 0.971452496954933\n",
            "Epoch: 1/5............. "
          ]
        },
        {
          "output_type": "stream",
          "name": "stderr",
          "text": [
            "\r 94%|█████████▍| 348/370 [01:38<00:06,  3.52it/s]"
          ]
        },
        {
          "output_type": "stream",
          "name": "stdout",
          "text": [
            "Loss: 0.0843\n",
            "acc: 0.9712784942253948\n",
            "Epoch: 1/5............. "
          ]
        },
        {
          "output_type": "stream",
          "name": "stderr",
          "text": [
            "\r 94%|█████████▍| 349/370 [01:39<00:05,  3.52it/s]"
          ]
        },
        {
          "output_type": "stream",
          "name": "stdout",
          "text": [
            "Loss: 0.0740\n",
            "acc: 0.9747025331560465\n",
            "Epoch: 1/5............. "
          ]
        },
        {
          "output_type": "stream",
          "name": "stderr",
          "text": [
            "\r 95%|█████████▍| 350/370 [01:39<00:05,  3.52it/s]"
          ]
        },
        {
          "output_type": "stream",
          "name": "stdout",
          "text": [
            "Loss: 0.0788\n",
            "acc: 0.9746960944909044\n",
            "Epoch: 1/5............. "
          ]
        },
        {
          "output_type": "stream",
          "name": "stderr",
          "text": [
            "\r 95%|█████████▍| 351/370 [01:39<00:05,  3.53it/s]"
          ]
        },
        {
          "output_type": "stream",
          "name": "stdout",
          "text": [
            "Loss: 0.0859\n",
            "acc: 0.9714124929656724\n",
            "Epoch: 1/5............. "
          ]
        },
        {
          "output_type": "stream",
          "name": "stderr",
          "text": [
            "\r 95%|█████████▌| 352/370 [01:40<00:05,  3.52it/s]"
          ]
        },
        {
          "output_type": "stream",
          "name": "stdout",
          "text": [
            "Loss: 0.0936\n",
            "acc: 0.9679555487897701\n",
            "Epoch: 1/5............. "
          ]
        },
        {
          "output_type": "stream",
          "name": "stderr",
          "text": [
            "\r 95%|█████████▌| 353/370 [01:40<00:04,  3.50it/s]"
          ]
        },
        {
          "output_type": "stream",
          "name": "stdout",
          "text": [
            "Loss: 0.0827\n",
            "acc: 0.9717690312838525\n",
            "Epoch: 1/5............. "
          ]
        },
        {
          "output_type": "stream",
          "name": "stderr",
          "text": [
            "\r 96%|█████████▌| 354/370 [01:40<00:04,  3.50it/s]"
          ]
        },
        {
          "output_type": "stream",
          "name": "stdout",
          "text": [
            "Loss: 0.0792\n",
            "acc: 0.9730276466621712\n",
            "Epoch: 1/5............. "
          ]
        },
        {
          "output_type": "stream",
          "name": "stderr",
          "text": [
            "\r 96%|█████████▌| 355/370 [01:40<00:04,  3.48it/s]"
          ]
        },
        {
          "output_type": "stream",
          "name": "stdout",
          "text": [
            "Loss: 0.0848\n",
            "acc: 0.9724784180624216\n",
            "Epoch: 1/5............. "
          ]
        },
        {
          "output_type": "stream",
          "name": "stderr",
          "text": [
            "\r 96%|█████████▌| 356/370 [01:41<00:04,  3.50it/s]"
          ]
        },
        {
          "output_type": "stream",
          "name": "stdout",
          "text": [
            "Loss: 0.0806\n",
            "acc: 0.9748538656667034\n",
            "Epoch: 1/5............. "
          ]
        },
        {
          "output_type": "stream",
          "name": "stderr",
          "text": [
            "\r 96%|█████████▋| 357/370 [01:41<00:03,  3.52it/s]"
          ]
        },
        {
          "output_type": "stream",
          "name": "stdout",
          "text": [
            "Loss: 0.0847\n",
            "acc: 0.9721922417624278\n",
            "Epoch: 1/5............. "
          ]
        },
        {
          "output_type": "stream",
          "name": "stderr",
          "text": [
            "\r 97%|█████████▋| 358/370 [01:41<00:03,  3.51it/s]"
          ]
        },
        {
          "output_type": "stream",
          "name": "stdout",
          "text": [
            "Loss: 0.0888\n",
            "acc: 0.9676510067114094\n",
            "Epoch: 1/5............. "
          ]
        },
        {
          "output_type": "stream",
          "name": "stderr",
          "text": [
            "\r 97%|█████████▋| 359/370 [01:42<00:03,  3.51it/s]"
          ]
        },
        {
          "output_type": "stream",
          "name": "stdout",
          "text": [
            "Loss: 0.0830\n",
            "acc: 0.9708801467457172\n",
            "Epoch: 1/5............. "
          ]
        },
        {
          "output_type": "stream",
          "name": "stderr",
          "text": [
            "\r 97%|█████████▋| 360/370 [01:42<00:02,  3.52it/s]"
          ]
        },
        {
          "output_type": "stream",
          "name": "stdout",
          "text": [
            "Loss: 0.0874\n",
            "acc: 0.9703610799392699\n",
            "Epoch: 1/5............. "
          ]
        },
        {
          "output_type": "stream",
          "name": "stderr",
          "text": [
            "\r 98%|█████████▊| 361/370 [01:42<00:02,  3.52it/s]"
          ]
        },
        {
          "output_type": "stream",
          "name": "stdout",
          "text": [
            "Loss: 0.0861\n",
            "acc: 0.9714306379285405\n",
            "Epoch: 1/5............. "
          ]
        },
        {
          "output_type": "stream",
          "name": "stderr",
          "text": [
            "\r 98%|█████████▊| 362/370 [01:42<00:02,  3.53it/s]"
          ]
        },
        {
          "output_type": "stream",
          "name": "stdout",
          "text": [
            "Loss: 0.0864\n",
            "acc: 0.9707012487992315\n",
            "Epoch: 1/5............. "
          ]
        },
        {
          "output_type": "stream",
          "name": "stderr",
          "text": [
            "\r 98%|█████████▊| 363/370 [01:43<00:01,  3.53it/s]"
          ]
        },
        {
          "output_type": "stream",
          "name": "stdout",
          "text": [
            "Loss: 0.0936\n",
            "acc: 0.967733020106405\n",
            "Epoch: 1/5............. "
          ]
        },
        {
          "output_type": "stream",
          "name": "stderr",
          "text": [
            "\r 98%|█████████▊| 364/370 [01:43<00:01,  3.54it/s]"
          ]
        },
        {
          "output_type": "stream",
          "name": "stdout",
          "text": [
            "Loss: 0.0842\n",
            "acc: 0.9720053572011891\n",
            "Epoch: 1/5............. "
          ]
        },
        {
          "output_type": "stream",
          "name": "stderr",
          "text": [
            "\r 99%|█████████▊| 365/370 [01:43<00:01,  3.54it/s]"
          ]
        },
        {
          "output_type": "stream",
          "name": "stdout",
          "text": [
            "Loss: 0.0881\n",
            "acc: 0.969020907700153\n",
            "Epoch: 1/5............. "
          ]
        },
        {
          "output_type": "stream",
          "name": "stderr",
          "text": [
            "\r 99%|█████████▉| 366/370 [01:43<00:01,  3.52it/s]"
          ]
        },
        {
          "output_type": "stream",
          "name": "stdout",
          "text": [
            "Loss: 0.0893\n",
            "acc: 0.9701645410691866\n",
            "Epoch: 1/5............. "
          ]
        },
        {
          "output_type": "stream",
          "name": "stderr",
          "text": [
            "\r 99%|█████████▉| 367/370 [01:44<00:00,  3.53it/s]"
          ]
        },
        {
          "output_type": "stream",
          "name": "stdout",
          "text": [
            "Loss: 0.0922\n",
            "acc: 0.9689603944748237\n",
            "Epoch: 1/5............. "
          ]
        },
        {
          "output_type": "stream",
          "name": "stderr",
          "text": [
            "\r 99%|█████████▉| 368/370 [01:44<00:00,  3.53it/s]"
          ]
        },
        {
          "output_type": "stream",
          "name": "stdout",
          "text": [
            "Loss: 0.0833\n",
            "acc: 0.9717990807616547\n",
            "Epoch: 1/5............. "
          ]
        },
        {
          "output_type": "stream",
          "name": "stderr",
          "text": [
            "\r100%|█████████▉| 369/370 [01:44<00:00,  3.53it/s]"
          ]
        },
        {
          "output_type": "stream",
          "name": "stdout",
          "text": [
            "Loss: 0.0894\n",
            "acc: 0.9698161861941286\n",
            "Epoch: 1/5............. "
          ]
        },
        {
          "output_type": "stream",
          "name": "stderr",
          "text": [
            "\r100%|██████████| 370/370 [01:44<00:00,  3.53it/s]\n"
          ]
        },
        {
          "output_type": "stream",
          "name": "stdout",
          "text": [
            "Loss: 0.0730\n",
            "acc: 0.9728714524207012\n",
            "Epochs: 2 | Train Loss: 0.00017728131206240505         | Train Accuracy: 0.18197319507635876\n",
            "\n",
            "Decaying rate\n"
          ]
        },
        {
          "output_type": "stream",
          "name": "stderr",
          "text": [
            "\r  0%|          | 0/370 [00:00<?, ?it/s]"
          ]
        },
        {
          "output_type": "stream",
          "name": "stdout",
          "text": [
            "Epoch: 2/5............. "
          ]
        },
        {
          "output_type": "stream",
          "name": "stderr",
          "text": [
            "\r  0%|          | 1/370 [00:00<01:39,  3.72it/s]"
          ]
        },
        {
          "output_type": "stream",
          "name": "stdout",
          "text": [
            "Loss: 0.0895\n",
            "acc: 0.972427751418428\n",
            "Epoch: 2/5............. "
          ]
        },
        {
          "output_type": "stream",
          "name": "stderr",
          "text": [
            "\r  1%|          | 2/370 [00:00<01:41,  3.62it/s]"
          ]
        },
        {
          "output_type": "stream",
          "name": "stdout",
          "text": [
            "Loss: 0.0770\n",
            "acc: 0.974132843747951\n",
            "Epoch: 2/5............. "
          ]
        },
        {
          "output_type": "stream",
          "name": "stderr",
          "text": [
            "\r  1%|          | 3/370 [00:00<01:42,  3.57it/s]"
          ]
        },
        {
          "output_type": "stream",
          "name": "stdout",
          "text": [
            "Loss: 0.0860\n",
            "acc: 0.9721991551431562\n",
            "Epoch: 2/5............. "
          ]
        },
        {
          "output_type": "stream",
          "name": "stderr",
          "text": [
            "\r  1%|          | 4/370 [00:01<01:42,  3.56it/s]"
          ]
        },
        {
          "output_type": "stream",
          "name": "stdout",
          "text": [
            "Loss: 0.0877\n",
            "acc: 0.9714313860703379\n",
            "Epoch: 2/5............. "
          ]
        },
        {
          "output_type": "stream",
          "name": "stderr",
          "text": [
            "\r  1%|▏         | 5/370 [00:01<01:43,  3.54it/s]"
          ]
        },
        {
          "output_type": "stream",
          "name": "stdout",
          "text": [
            "Loss: 0.0974\n",
            "acc: 0.9669089581466361\n",
            "Epoch: 2/5............. "
          ]
        },
        {
          "output_type": "stream",
          "name": "stderr",
          "text": [
            "\r  2%|▏         | 6/370 [00:01<01:43,  3.53it/s]"
          ]
        },
        {
          "output_type": "stream",
          "name": "stdout",
          "text": [
            "Loss: 0.0880\n",
            "acc: 0.9703307086614174\n",
            "Epoch: 2/5............. "
          ]
        },
        {
          "output_type": "stream",
          "name": "stderr",
          "text": [
            "\r  2%|▏         | 7/370 [00:01<01:42,  3.55it/s]"
          ]
        },
        {
          "output_type": "stream",
          "name": "stdout",
          "text": [
            "Loss: 0.0861\n",
            "acc: 0.9712443489216631\n",
            "Epoch: 2/5............. "
          ]
        },
        {
          "output_type": "stream",
          "name": "stderr",
          "text": [
            "\r  2%|▏         | 8/370 [00:02<01:42,  3.53it/s]"
          ]
        },
        {
          "output_type": "stream",
          "name": "stdout",
          "text": [
            "Loss: 0.0985\n",
            "acc: 0.9687795648060549\n",
            "Epoch: 2/5............. "
          ]
        },
        {
          "output_type": "stream",
          "name": "stderr",
          "text": [
            "\r  2%|▏         | 9/370 [00:02<01:41,  3.54it/s]"
          ]
        },
        {
          "output_type": "stream",
          "name": "stdout",
          "text": [
            "Loss: 0.0868\n",
            "acc: 0.9707327570747104\n",
            "Epoch: 2/5............. "
          ]
        },
        {
          "output_type": "stream",
          "name": "stderr",
          "text": [
            "\r  3%|▎         | 10/370 [00:02<01:42,  3.53it/s]"
          ]
        },
        {
          "output_type": "stream",
          "name": "stdout",
          "text": [
            "Loss: 0.0968\n",
            "acc: 0.9681278683335971\n",
            "Epoch: 2/5............. "
          ]
        },
        {
          "output_type": "stream",
          "name": "stderr",
          "text": [
            "\r  3%|▎         | 11/370 [00:03<01:41,  3.54it/s]"
          ]
        },
        {
          "output_type": "stream",
          "name": "stdout",
          "text": [
            "Loss: 0.0907\n",
            "acc: 0.9703272588493465\n",
            "Epoch: 2/5............. "
          ]
        },
        {
          "output_type": "stream",
          "name": "stderr",
          "text": [
            "\r  3%|▎         | 12/370 [00:03<01:41,  3.54it/s]"
          ]
        },
        {
          "output_type": "stream",
          "name": "stdout",
          "text": [
            "Loss: 0.0878\n",
            "acc: 0.9714276384535006\n",
            "Epoch: 2/5............. "
          ]
        },
        {
          "output_type": "stream",
          "name": "stderr",
          "text": [
            "\r  4%|▎         | 13/370 [00:03<01:41,  3.53it/s]"
          ]
        },
        {
          "output_type": "stream",
          "name": "stdout",
          "text": [
            "Loss: 0.1090\n",
            "acc: 0.9664201086600772\n",
            "Epoch: 2/5............. "
          ]
        },
        {
          "output_type": "stream",
          "name": "stderr",
          "text": [
            "\r  4%|▍         | 14/370 [00:03<01:40,  3.53it/s]"
          ]
        },
        {
          "output_type": "stream",
          "name": "stdout",
          "text": [
            "Loss: 0.0929\n",
            "acc: 0.9699284627585537\n",
            "Epoch: 2/5............. "
          ]
        },
        {
          "output_type": "stream",
          "name": "stderr",
          "text": [
            "\r  4%|▍         | 15/370 [00:04<01:40,  3.54it/s]"
          ]
        },
        {
          "output_type": "stream",
          "name": "stdout",
          "text": [
            "Loss: 0.0850\n",
            "acc: 0.9715959788233894\n",
            "Epoch: 2/5............. "
          ]
        },
        {
          "output_type": "stream",
          "name": "stderr",
          "text": [
            "\r  4%|▍         | 16/370 [00:04<01:40,  3.53it/s]"
          ]
        },
        {
          "output_type": "stream",
          "name": "stdout",
          "text": [
            "Loss: 0.0961\n",
            "acc: 0.9680896630496859\n",
            "Epoch: 2/5............. "
          ]
        },
        {
          "output_type": "stream",
          "name": "stderr",
          "text": [
            "\r  5%|▍         | 17/370 [00:04<01:39,  3.54it/s]"
          ]
        },
        {
          "output_type": "stream",
          "name": "stdout",
          "text": [
            "Loss: 0.1082\n",
            "acc: 0.9647769204964777\n",
            "Epoch: 2/5............. "
          ]
        },
        {
          "output_type": "stream",
          "name": "stderr",
          "text": [
            "\r  5%|▍         | 18/370 [00:05<01:39,  3.53it/s]"
          ]
        },
        {
          "output_type": "stream",
          "name": "stdout",
          "text": [
            "Loss: 0.0788\n",
            "acc: 0.9725980240283658\n",
            "Epoch: 2/5............. "
          ]
        },
        {
          "output_type": "stream",
          "name": "stderr",
          "text": [
            "\r  5%|▌         | 19/370 [00:05<01:39,  3.52it/s]"
          ]
        },
        {
          "output_type": "stream",
          "name": "stdout",
          "text": [
            "Loss: 0.0864\n",
            "acc: 0.9704448623958853\n",
            "Epoch: 2/5............. "
          ]
        },
        {
          "output_type": "stream",
          "name": "stderr",
          "text": [
            "\r  5%|▌         | 20/370 [00:05<01:39,  3.53it/s]"
          ]
        },
        {
          "output_type": "stream",
          "name": "stdout",
          "text": [
            "Loss: 0.0903\n",
            "acc: 0.9694596464741775\n",
            "Epoch: 2/5............. "
          ]
        },
        {
          "output_type": "stream",
          "name": "stderr",
          "text": [
            "\r  6%|▌         | 21/370 [00:05<01:38,  3.53it/s]"
          ]
        },
        {
          "output_type": "stream",
          "name": "stdout",
          "text": [
            "Loss: 0.0970\n",
            "acc: 0.9682458386683739\n",
            "Epoch: 2/5............. "
          ]
        },
        {
          "output_type": "stream",
          "name": "stderr",
          "text": [
            "\r  6%|▌         | 22/370 [00:06<01:38,  3.54it/s]"
          ]
        },
        {
          "output_type": "stream",
          "name": "stdout",
          "text": [
            "Loss: 0.1011\n",
            "acc: 0.9672217468571053\n",
            "Epoch: 2/5............. "
          ]
        },
        {
          "output_type": "stream",
          "name": "stderr",
          "text": [
            "\r  6%|▌         | 23/370 [00:06<01:38,  3.52it/s]"
          ]
        },
        {
          "output_type": "stream",
          "name": "stdout",
          "text": [
            "Loss: 0.0880\n",
            "acc: 0.9716764663702854\n",
            "Epoch: 2/5............. "
          ]
        },
        {
          "output_type": "stream",
          "name": "stderr",
          "text": [
            "\r  6%|▋         | 24/370 [00:06<01:38,  3.52it/s]"
          ]
        },
        {
          "output_type": "stream",
          "name": "stdout",
          "text": [
            "Loss: 0.0945\n",
            "acc: 0.9689665339820138\n",
            "Epoch: 2/5............. "
          ]
        },
        {
          "output_type": "stream",
          "name": "stderr",
          "text": [
            "\r  7%|▋         | 25/370 [00:07<01:38,  3.52it/s]"
          ]
        },
        {
          "output_type": "stream",
          "name": "stdout",
          "text": [
            "Loss: 0.0852\n",
            "acc: 0.9726798894602442\n",
            "Epoch: 2/5............. "
          ]
        },
        {
          "output_type": "stream",
          "name": "stderr",
          "text": [
            "\r  7%|▋         | 26/370 [00:07<01:37,  3.52it/s]"
          ]
        },
        {
          "output_type": "stream",
          "name": "stdout",
          "text": [
            "Loss: 0.0857\n",
            "acc: 0.9711392046460569\n",
            "Epoch: 2/5............. "
          ]
        },
        {
          "output_type": "stream",
          "name": "stderr",
          "text": [
            "\r  7%|▋         | 27/370 [00:07<01:37,  3.51it/s]"
          ]
        },
        {
          "output_type": "stream",
          "name": "stdout",
          "text": [
            "Loss: 0.0868\n",
            "acc: 0.9724261537931272\n",
            "Epoch: 2/5............. "
          ]
        },
        {
          "output_type": "stream",
          "name": "stderr",
          "text": [
            "\r  8%|▊         | 28/370 [00:07<01:38,  3.49it/s]"
          ]
        },
        {
          "output_type": "stream",
          "name": "stdout",
          "text": [
            "Loss: 0.0879\n",
            "acc: 0.9706895232264483\n",
            "Epoch: 2/5............. "
          ]
        },
        {
          "output_type": "stream",
          "name": "stderr",
          "text": [
            "\r  8%|▊         | 29/370 [00:08<01:37,  3.50it/s]"
          ]
        },
        {
          "output_type": "stream",
          "name": "stdout",
          "text": [
            "Loss: 0.0937\n",
            "acc: 0.9703729858124157\n",
            "Epoch: 2/5............. "
          ]
        },
        {
          "output_type": "stream",
          "name": "stderr",
          "text": [
            "\r  8%|▊         | 30/370 [00:08<01:37,  3.50it/s]"
          ]
        },
        {
          "output_type": "stream",
          "name": "stdout",
          "text": [
            "Loss: 0.0888\n",
            "acc: 0.9707234283289725\n",
            "Epoch: 2/5............. "
          ]
        },
        {
          "output_type": "stream",
          "name": "stderr",
          "text": [
            "\r  8%|▊         | 31/370 [00:08<01:36,  3.51it/s]"
          ]
        },
        {
          "output_type": "stream",
          "name": "stdout",
          "text": [
            "Loss: 0.0926\n",
            "acc: 0.968468623865871\n",
            "Epoch: 2/5............. "
          ]
        },
        {
          "output_type": "stream",
          "name": "stderr",
          "text": [
            "\r  9%|▊         | 32/370 [00:09<01:36,  3.50it/s]"
          ]
        },
        {
          "output_type": "stream",
          "name": "stdout",
          "text": [
            "Loss: 0.0871\n",
            "acc: 0.9706779715451072\n",
            "Epoch: 2/5............. "
          ]
        },
        {
          "output_type": "stream",
          "name": "stderr",
          "text": [
            "\r  9%|▉         | 33/370 [00:09<01:36,  3.49it/s]"
          ]
        },
        {
          "output_type": "stream",
          "name": "stdout",
          "text": [
            "Loss: 0.0834\n",
            "acc: 0.9726667445391893\n",
            "Epoch: 2/5............. "
          ]
        },
        {
          "output_type": "stream",
          "name": "stderr",
          "text": [
            "\r  9%|▉         | 34/370 [00:09<01:36,  3.48it/s]"
          ]
        },
        {
          "output_type": "stream",
          "name": "stdout",
          "text": [
            "Loss: 0.0943\n",
            "acc: 0.9677116089084838\n",
            "Epoch: 2/5............. "
          ]
        },
        {
          "output_type": "stream",
          "name": "stderr",
          "text": [
            "\r  9%|▉         | 35/370 [00:09<01:36,  3.48it/s]"
          ]
        },
        {
          "output_type": "stream",
          "name": "stdout",
          "text": [
            "Loss: 0.1048\n",
            "acc: 0.9665869218500798\n",
            "Epoch: 2/5............. "
          ]
        },
        {
          "output_type": "stream",
          "name": "stderr",
          "text": [
            "\r 10%|▉         | 36/370 [00:10<01:35,  3.50it/s]"
          ]
        },
        {
          "output_type": "stream",
          "name": "stdout",
          "text": [
            "Loss: 0.0815\n",
            "acc: 0.9721452901664915\n",
            "Epoch: 2/5............. "
          ]
        },
        {
          "output_type": "stream",
          "name": "stderr",
          "text": [
            "\r 10%|█         | 37/370 [00:10<01:35,  3.50it/s]"
          ]
        },
        {
          "output_type": "stream",
          "name": "stdout",
          "text": [
            "Loss: 0.0970\n",
            "acc: 0.9663917903610042\n",
            "Epoch: 2/5............. "
          ]
        },
        {
          "output_type": "stream",
          "name": "stderr",
          "text": [
            "\r 10%|█         | 38/370 [00:10<01:34,  3.50it/s]"
          ]
        },
        {
          "output_type": "stream",
          "name": "stdout",
          "text": [
            "Loss: 0.0948\n",
            "acc: 0.9693799682034976\n",
            "Epoch: 2/5............. "
          ]
        },
        {
          "output_type": "stream",
          "name": "stderr",
          "text": [
            "\r 11%|█         | 39/370 [00:11<01:34,  3.52it/s]"
          ]
        },
        {
          "output_type": "stream",
          "name": "stdout",
          "text": [
            "Loss: 0.0950\n",
            "acc: 0.9678168426399623\n",
            "Epoch: 2/5............. "
          ]
        },
        {
          "output_type": "stream",
          "name": "stderr",
          "text": [
            "\r 11%|█         | 40/370 [00:11<01:33,  3.52it/s]"
          ]
        },
        {
          "output_type": "stream",
          "name": "stdout",
          "text": [
            "Loss: 0.0986\n",
            "acc: 0.966597003294251\n",
            "Epoch: 2/5............. "
          ]
        },
        {
          "output_type": "stream",
          "name": "stderr",
          "text": [
            "\r 11%|█         | 41/370 [00:11<01:33,  3.53it/s]"
          ]
        },
        {
          "output_type": "stream",
          "name": "stdout",
          "text": [
            "Loss: 0.0968\n",
            "acc: 0.9679641328714081\n",
            "Epoch: 2/5............. "
          ]
        },
        {
          "output_type": "stream",
          "name": "stderr",
          "text": [
            "\r 11%|█▏        | 42/370 [00:11<01:33,  3.52it/s]"
          ]
        },
        {
          "output_type": "stream",
          "name": "stdout",
          "text": [
            "Loss: 0.1115\n",
            "acc: 0.9645768703556742\n",
            "Epoch: 2/5............. "
          ]
        },
        {
          "output_type": "stream",
          "name": "stderr",
          "text": [
            "\r 12%|█▏        | 43/370 [00:12<01:32,  3.54it/s]"
          ]
        },
        {
          "output_type": "stream",
          "name": "stdout",
          "text": [
            "Loss: 0.1043\n",
            "acc: 0.9652824831413545\n",
            "Epoch: 2/5............. "
          ]
        },
        {
          "output_type": "stream",
          "name": "stderr",
          "text": [
            "\r 12%|█▏        | 44/370 [00:12<01:32,  3.53it/s]"
          ]
        },
        {
          "output_type": "stream",
          "name": "stdout",
          "text": [
            "Loss: 0.0893\n",
            "acc: 0.970536259358031\n",
            "Epoch: 2/5............. "
          ]
        },
        {
          "output_type": "stream",
          "name": "stderr",
          "text": [
            "\r 12%|█▏        | 45/370 [00:12<01:32,  3.53it/s]"
          ]
        },
        {
          "output_type": "stream",
          "name": "stdout",
          "text": [
            "Loss: 0.0971\n",
            "acc: 0.9682044450676576\n",
            "Epoch: 2/5............. "
          ]
        },
        {
          "output_type": "stream",
          "name": "stderr",
          "text": [
            "\r 12%|█▏        | 46/370 [00:13<01:31,  3.54it/s]"
          ]
        },
        {
          "output_type": "stream",
          "name": "stdout",
          "text": [
            "Loss: 0.0895\n",
            "acc: 0.969408153066324\n",
            "Epoch: 2/5............. "
          ]
        },
        {
          "output_type": "stream",
          "name": "stderr",
          "text": [
            "\r 13%|█▎        | 47/370 [00:13<01:31,  3.54it/s]"
          ]
        },
        {
          "output_type": "stream",
          "name": "stdout",
          "text": [
            "Loss: 0.0851\n",
            "acc: 0.9703882761746487\n",
            "Epoch: 2/5............. "
          ]
        },
        {
          "output_type": "stream",
          "name": "stderr",
          "text": [
            "\r 13%|█▎        | 48/370 [00:13<01:31,  3.53it/s]"
          ]
        },
        {
          "output_type": "stream",
          "name": "stdout",
          "text": [
            "Loss: 0.0883\n",
            "acc: 0.9708834994997758\n",
            "Epoch: 2/5............. "
          ]
        },
        {
          "output_type": "stream",
          "name": "stderr",
          "text": [
            "\r 13%|█▎        | 49/370 [00:13<01:30,  3.53it/s]"
          ]
        },
        {
          "output_type": "stream",
          "name": "stdout",
          "text": [
            "Loss: 0.0932\n",
            "acc: 0.968861555861874\n",
            "Epoch: 2/5............. "
          ]
        },
        {
          "output_type": "stream",
          "name": "stderr",
          "text": [
            "\r 14%|█▎        | 50/370 [00:14<01:30,  3.53it/s]"
          ]
        },
        {
          "output_type": "stream",
          "name": "stdout",
          "text": [
            "Loss: 0.0872\n",
            "acc: 0.9708395365395819\n",
            "Epoch: 2/5............. "
          ]
        },
        {
          "output_type": "stream",
          "name": "stderr",
          "text": [
            "\r 14%|█▍        | 51/370 [00:14<01:30,  3.52it/s]"
          ]
        },
        {
          "output_type": "stream",
          "name": "stdout",
          "text": [
            "Loss: 0.0885\n",
            "acc: 0.9694402985074627\n",
            "Epoch: 2/5............. "
          ]
        },
        {
          "output_type": "stream",
          "name": "stderr",
          "text": [
            "\r 14%|█▍        | 52/370 [00:14<01:30,  3.53it/s]"
          ]
        },
        {
          "output_type": "stream",
          "name": "stdout",
          "text": [
            "Loss: 0.0772\n",
            "acc: 0.9740114962550078\n",
            "Epoch: 2/5............. "
          ]
        },
        {
          "output_type": "stream",
          "name": "stderr",
          "text": [
            "\r 14%|█▍        | 53/370 [00:15<01:29,  3.54it/s]"
          ]
        },
        {
          "output_type": "stream",
          "name": "stdout",
          "text": [
            "Loss: 0.0845\n",
            "acc: 0.9731327243417518\n",
            "Epoch: 2/5............. "
          ]
        },
        {
          "output_type": "stream",
          "name": "stderr",
          "text": [
            "\r 15%|█▍        | 54/370 [00:15<01:29,  3.54it/s]"
          ]
        },
        {
          "output_type": "stream",
          "name": "stdout",
          "text": [
            "Loss: 0.0870\n",
            "acc: 0.9708884821177133\n",
            "Epoch: 2/5............. "
          ]
        },
        {
          "output_type": "stream",
          "name": "stderr",
          "text": [
            "\r 15%|█▍        | 55/370 [00:15<01:29,  3.53it/s]"
          ]
        },
        {
          "output_type": "stream",
          "name": "stdout",
          "text": [
            "Loss: 0.0913\n",
            "acc: 0.9686040565876939\n",
            "Epoch: 2/5............. "
          ]
        },
        {
          "output_type": "stream",
          "name": "stderr",
          "text": [
            "\r 15%|█▌        | 56/370 [00:15<01:29,  3.51it/s]"
          ]
        },
        {
          "output_type": "stream",
          "name": "stdout",
          "text": [
            "Loss: 0.0902\n",
            "acc: 0.9699696482770934\n",
            "Epoch: 2/5............. "
          ]
        },
        {
          "output_type": "stream",
          "name": "stderr",
          "text": [
            "\r 15%|█▌        | 57/370 [00:16<01:28,  3.53it/s]"
          ]
        },
        {
          "output_type": "stream",
          "name": "stdout",
          "text": [
            "Loss: 0.0970\n",
            "acc: 0.9693641256728001\n",
            "Epoch: 2/5............. "
          ]
        },
        {
          "output_type": "stream",
          "name": "stderr",
          "text": [
            "\r 16%|█▌        | 58/370 [00:16<01:28,  3.53it/s]"
          ]
        },
        {
          "output_type": "stream",
          "name": "stdout",
          "text": [
            "Loss: 0.1063\n",
            "acc: 0.9656349652973176\n",
            "Epoch: 2/5............. "
          ]
        },
        {
          "output_type": "stream",
          "name": "stderr",
          "text": [
            "\r 16%|█▌        | 59/370 [00:16<01:27,  3.54it/s]"
          ]
        },
        {
          "output_type": "stream",
          "name": "stdout",
          "text": [
            "Loss: 0.0858\n",
            "acc: 0.9713372202369758\n",
            "Epoch: 2/5............. "
          ]
        },
        {
          "output_type": "stream",
          "name": "stderr",
          "text": [
            "\r 16%|█▌        | 60/370 [00:17<01:28,  3.52it/s]"
          ]
        },
        {
          "output_type": "stream",
          "name": "stdout",
          "text": [
            "Loss: 0.1055\n",
            "acc: 0.9652552787398057\n",
            "Epoch: 2/5............. "
          ]
        },
        {
          "output_type": "stream",
          "name": "stderr",
          "text": [
            "\r 16%|█▋        | 61/370 [00:17<01:27,  3.52it/s]"
          ]
        },
        {
          "output_type": "stream",
          "name": "stdout",
          "text": [
            "Loss: 0.0863\n",
            "acc: 0.9722922821935577\n",
            "Epoch: 2/5............. "
          ]
        },
        {
          "output_type": "stream",
          "name": "stderr",
          "text": [
            "\r 17%|█▋        | 62/370 [00:17<01:27,  3.52it/s]"
          ]
        },
        {
          "output_type": "stream",
          "name": "stdout",
          "text": [
            "Loss: 0.1006\n",
            "acc: 0.9663734965969482\n",
            "Epoch: 2/5............. "
          ]
        },
        {
          "output_type": "stream",
          "name": "stderr",
          "text": [
            "\r 17%|█▋        | 63/370 [00:17<01:27,  3.52it/s]"
          ]
        },
        {
          "output_type": "stream",
          "name": "stdout",
          "text": [
            "Loss: 0.0819\n",
            "acc: 0.9736356251384684\n",
            "Epoch: 2/5............. "
          ]
        },
        {
          "output_type": "stream",
          "name": "stderr",
          "text": [
            "\r 17%|█▋        | 64/370 [00:18<01:26,  3.54it/s]"
          ]
        },
        {
          "output_type": "stream",
          "name": "stdout",
          "text": [
            "Loss: 0.0807\n",
            "acc: 0.9729892761394102\n",
            "Epoch: 2/5............. "
          ]
        },
        {
          "output_type": "stream",
          "name": "stderr",
          "text": [
            "\r 18%|█▊        | 65/370 [00:18<01:26,  3.53it/s]"
          ]
        },
        {
          "output_type": "stream",
          "name": "stdout",
          "text": [
            "Loss: 0.0860\n",
            "acc: 0.9716818517606501\n",
            "Epoch: 2/5............. "
          ]
        },
        {
          "output_type": "stream",
          "name": "stderr",
          "text": [
            "\r 18%|█▊        | 66/370 [00:18<01:26,  3.52it/s]"
          ]
        },
        {
          "output_type": "stream",
          "name": "stdout",
          "text": [
            "Loss: 0.0874\n",
            "acc: 0.9705218387044005\n",
            "Epoch: 2/5............. "
          ]
        },
        {
          "output_type": "stream",
          "name": "stderr",
          "text": [
            "\r 18%|█▊        | 67/370 [00:19<01:26,  3.51it/s]"
          ]
        },
        {
          "output_type": "stream",
          "name": "stdout",
          "text": [
            "Loss: 0.0867\n",
            "acc: 0.9694885165871518\n",
            "Epoch: 2/5............. "
          ]
        },
        {
          "output_type": "stream",
          "name": "stderr",
          "text": [
            "\r 18%|█▊        | 68/370 [00:19<01:25,  3.53it/s]"
          ]
        },
        {
          "output_type": "stream",
          "name": "stdout",
          "text": [
            "Loss: 0.0969\n",
            "acc: 0.9682995076683314\n",
            "Epoch: 2/5............. "
          ]
        },
        {
          "output_type": "stream",
          "name": "stderr",
          "text": [
            "\r 19%|█▊        | 69/370 [00:19<01:24,  3.54it/s]"
          ]
        },
        {
          "output_type": "stream",
          "name": "stdout",
          "text": [
            "Loss: 0.0872\n",
            "acc: 0.9713762040322895\n",
            "Epoch: 2/5............. "
          ]
        },
        {
          "output_type": "stream",
          "name": "stderr",
          "text": [
            "\r 19%|█▉        | 70/370 [00:19<01:25,  3.53it/s]"
          ]
        },
        {
          "output_type": "stream",
          "name": "stdout",
          "text": [
            "Loss: 0.1042\n",
            "acc: 0.9667477141193794\n",
            "Epoch: 2/5............. "
          ]
        },
        {
          "output_type": "stream",
          "name": "stderr",
          "text": [
            "\r 19%|█▉        | 71/370 [00:20<01:24,  3.54it/s]"
          ]
        },
        {
          "output_type": "stream",
          "name": "stdout",
          "text": [
            "Loss: 0.0912\n",
            "acc: 0.9688418788096091\n",
            "Epoch: 2/5............. "
          ]
        },
        {
          "output_type": "stream",
          "name": "stderr",
          "text": [
            "\r 19%|█▉        | 72/370 [00:20<01:24,  3.52it/s]"
          ]
        },
        {
          "output_type": "stream",
          "name": "stdout",
          "text": [
            "Loss: 0.1009\n",
            "acc: 0.9664142454294857\n",
            "Epoch: 2/5............. "
          ]
        },
        {
          "output_type": "stream",
          "name": "stderr",
          "text": [
            "\r 20%|█▉        | 73/370 [00:20<01:24,  3.53it/s]"
          ]
        },
        {
          "output_type": "stream",
          "name": "stdout",
          "text": [
            "Loss: 0.0958\n",
            "acc: 0.9690063485269991\n",
            "Epoch: 2/5............. "
          ]
        },
        {
          "output_type": "stream",
          "name": "stderr",
          "text": [
            "\r 20%|██        | 74/370 [00:20<01:24,  3.52it/s]"
          ]
        },
        {
          "output_type": "stream",
          "name": "stdout",
          "text": [
            "Loss: 0.0900\n",
            "acc: 0.9689250340179109\n",
            "Epoch: 2/5............. "
          ]
        },
        {
          "output_type": "stream",
          "name": "stderr",
          "text": [
            "\r 20%|██        | 75/370 [00:21<01:23,  3.52it/s]"
          ]
        },
        {
          "output_type": "stream",
          "name": "stdout",
          "text": [
            "Loss: 0.0867\n",
            "acc: 0.9703533906399235\n",
            "Epoch: 2/5............. "
          ]
        },
        {
          "output_type": "stream",
          "name": "stderr",
          "text": [
            "\r 21%|██        | 76/370 [00:21<01:23,  3.52it/s]"
          ]
        },
        {
          "output_type": "stream",
          "name": "stdout",
          "text": [
            "Loss: 0.0952\n",
            "acc: 0.968995276485421\n",
            "Epoch: 2/5............. "
          ]
        },
        {
          "output_type": "stream",
          "name": "stderr",
          "text": [
            "\r 21%|██        | 77/370 [00:21<01:23,  3.52it/s]"
          ]
        },
        {
          "output_type": "stream",
          "name": "stdout",
          "text": [
            "Loss: 0.0883\n",
            "acc: 0.9711763844125403\n",
            "Epoch: 2/5............. "
          ]
        },
        {
          "output_type": "stream",
          "name": "stderr",
          "text": [
            "\r 21%|██        | 78/370 [00:22<01:22,  3.53it/s]"
          ]
        },
        {
          "output_type": "stream",
          "name": "stdout",
          "text": [
            "Loss: 0.0866\n",
            "acc: 0.972632350247298\n",
            "Epoch: 2/5............. "
          ]
        },
        {
          "output_type": "stream",
          "name": "stderr",
          "text": [
            "\r 21%|██▏       | 79/370 [00:22<01:22,  3.52it/s]"
          ]
        },
        {
          "output_type": "stream",
          "name": "stdout",
          "text": [
            "Loss: 0.0870\n",
            "acc: 0.9712884238064095\n",
            "Epoch: 2/5............. "
          ]
        },
        {
          "output_type": "stream",
          "name": "stderr",
          "text": [
            "\r 22%|██▏       | 80/370 [00:22<01:22,  3.52it/s]"
          ]
        },
        {
          "output_type": "stream",
          "name": "stdout",
          "text": [
            "Loss: 0.0850\n",
            "acc: 0.9704880817253121\n",
            "Epoch: 2/5............. "
          ]
        },
        {
          "output_type": "stream",
          "name": "stderr",
          "text": [
            "\r 22%|██▏       | 81/370 [00:22<01:22,  3.52it/s]"
          ]
        },
        {
          "output_type": "stream",
          "name": "stdout",
          "text": [
            "Loss: 0.0955\n",
            "acc: 0.969745477829358\n",
            "Epoch: 2/5............. "
          ]
        },
        {
          "output_type": "stream",
          "name": "stderr",
          "text": [
            "\r 22%|██▏       | 82/370 [00:23<01:21,  3.52it/s]"
          ]
        },
        {
          "output_type": "stream",
          "name": "stdout",
          "text": [
            "Loss: 0.0969\n",
            "acc: 0.9686043659553594\n",
            "Epoch: 2/5............. "
          ]
        },
        {
          "output_type": "stream",
          "name": "stderr",
          "text": [
            "\r 22%|██▏       | 83/370 [00:23<01:21,  3.52it/s]"
          ]
        },
        {
          "output_type": "stream",
          "name": "stdout",
          "text": [
            "Loss: 0.0979\n",
            "acc: 0.9685928027860183\n",
            "Epoch: 2/5............. "
          ]
        },
        {
          "output_type": "stream",
          "name": "stderr",
          "text": [
            "\r 23%|██▎       | 84/370 [00:23<01:20,  3.54it/s]"
          ]
        },
        {
          "output_type": "stream",
          "name": "stdout",
          "text": [
            "Loss: 0.1034\n",
            "acc: 0.9666890080428955\n",
            "Epoch: 2/5............. "
          ]
        },
        {
          "output_type": "stream",
          "name": "stderr",
          "text": [
            "\r 23%|██▎       | 85/370 [00:24<01:20,  3.54it/s]"
          ]
        },
        {
          "output_type": "stream",
          "name": "stdout",
          "text": [
            "Loss: 0.0861\n",
            "acc: 0.9717728802518728\n",
            "Epoch: 2/5............. "
          ]
        },
        {
          "output_type": "stream",
          "name": "stderr",
          "text": [
            "\r 23%|██▎       | 86/370 [00:24<01:20,  3.53it/s]"
          ]
        },
        {
          "output_type": "stream",
          "name": "stdout",
          "text": [
            "Loss: 0.0767\n",
            "acc: 0.9739178498635437\n",
            "Epoch: 2/5............. "
          ]
        },
        {
          "output_type": "stream",
          "name": "stderr",
          "text": [
            "\r 24%|██▎       | 87/370 [00:24<01:20,  3.52it/s]"
          ]
        },
        {
          "output_type": "stream",
          "name": "stdout",
          "text": [
            "Loss: 0.0846\n",
            "acc: 0.9709216880117573\n",
            "Epoch: 2/5............. "
          ]
        },
        {
          "output_type": "stream",
          "name": "stderr",
          "text": [
            "\r 24%|██▍       | 88/370 [00:24<01:20,  3.52it/s]"
          ]
        },
        {
          "output_type": "stream",
          "name": "stdout",
          "text": [
            "Loss: 0.0791\n",
            "acc: 0.9732229432386067\n",
            "Epoch: 2/5............. "
          ]
        },
        {
          "output_type": "stream",
          "name": "stderr",
          "text": [
            "\r 24%|██▍       | 89/370 [00:25<01:19,  3.53it/s]"
          ]
        },
        {
          "output_type": "stream",
          "name": "stdout",
          "text": [
            "Loss: 0.0845\n",
            "acc: 0.9715403291070946\n",
            "Epoch: 2/5............. "
          ]
        },
        {
          "output_type": "stream",
          "name": "stderr",
          "text": [
            "\r 24%|██▍       | 90/370 [00:25<01:19,  3.52it/s]"
          ]
        },
        {
          "output_type": "stream",
          "name": "stdout",
          "text": [
            "Loss: 0.0874\n",
            "acc: 0.9718978670403239\n",
            "Epoch: 2/5............. "
          ]
        },
        {
          "output_type": "stream",
          "name": "stderr",
          "text": [
            "\r 25%|██▍       | 91/370 [00:25<01:19,  3.52it/s]"
          ]
        },
        {
          "output_type": "stream",
          "name": "stdout",
          "text": [
            "Loss: 0.1025\n",
            "acc: 0.9665405156863439\n",
            "Epoch: 2/5............. "
          ]
        },
        {
          "output_type": "stream",
          "name": "stderr",
          "text": [
            "\r 25%|██▍       | 92/370 [00:26<01:18,  3.53it/s]"
          ]
        },
        {
          "output_type": "stream",
          "name": "stdout",
          "text": [
            "Loss: 0.0963\n",
            "acc: 0.9672251030448079\n",
            "Epoch: 2/5............. "
          ]
        },
        {
          "output_type": "stream",
          "name": "stderr",
          "text": [
            "\r 25%|██▌       | 93/370 [00:26<01:18,  3.53it/s]"
          ]
        },
        {
          "output_type": "stream",
          "name": "stdout",
          "text": [
            "Loss: 0.0943\n",
            "acc: 0.9696040372670808\n",
            "Epoch: 2/5............. "
          ]
        },
        {
          "output_type": "stream",
          "name": "stderr",
          "text": [
            "\r 25%|██▌       | 94/370 [00:26<01:18,  3.53it/s]"
          ]
        },
        {
          "output_type": "stream",
          "name": "stdout",
          "text": [
            "Loss: 0.0845\n",
            "acc: 0.9730209555210347\n",
            "Epoch: 2/5............. "
          ]
        },
        {
          "output_type": "stream",
          "name": "stderr",
          "text": [
            "\r 26%|██▌       | 95/370 [00:26<01:17,  3.54it/s]"
          ]
        },
        {
          "output_type": "stream",
          "name": "stdout",
          "text": [
            "Loss: 0.0937\n",
            "acc: 0.9688151235486752\n",
            "Epoch: 2/5............. "
          ]
        },
        {
          "output_type": "stream",
          "name": "stderr",
          "text": [
            "\r 26%|██▌       | 96/370 [00:27<01:17,  3.52it/s]"
          ]
        },
        {
          "output_type": "stream",
          "name": "stdout",
          "text": [
            "Loss: 0.0985\n",
            "acc: 0.967786308381318\n",
            "Epoch: 2/5............. "
          ]
        },
        {
          "output_type": "stream",
          "name": "stderr",
          "text": [
            "\r 26%|██▌       | 97/370 [00:27<01:17,  3.52it/s]"
          ]
        },
        {
          "output_type": "stream",
          "name": "stdout",
          "text": [
            "Loss: 0.0835\n",
            "acc: 0.973616026289181\n",
            "Epoch: 2/5............. "
          ]
        },
        {
          "output_type": "stream",
          "name": "stderr",
          "text": [
            "\r 26%|██▋       | 98/370 [00:27<01:16,  3.54it/s]"
          ]
        },
        {
          "output_type": "stream",
          "name": "stdout",
          "text": [
            "Loss: 0.0942\n",
            "acc: 0.968161738369085\n",
            "Epoch: 2/5............. "
          ]
        },
        {
          "output_type": "stream",
          "name": "stderr",
          "text": [
            "\r 27%|██▋       | 99/370 [00:28<01:16,  3.54it/s]"
          ]
        },
        {
          "output_type": "stream",
          "name": "stdout",
          "text": [
            "Loss: 0.0853\n",
            "acc: 0.9719168827374649\n",
            "Epoch: 2/5............. "
          ]
        },
        {
          "output_type": "stream",
          "name": "stderr",
          "text": [
            "\r 27%|██▋       | 100/370 [00:28<01:16,  3.53it/s]"
          ]
        },
        {
          "output_type": "stream",
          "name": "stdout",
          "text": [
            "Loss: 0.0856\n",
            "acc: 0.9716293976254643\n",
            "Epoch: 2/5............. "
          ]
        },
        {
          "output_type": "stream",
          "name": "stderr",
          "text": [
            "\r 27%|██▋       | 101/370 [00:28<01:16,  3.51it/s]"
          ]
        },
        {
          "output_type": "stream",
          "name": "stdout",
          "text": [
            "Loss: 0.0874\n",
            "acc: 0.971431497030514\n",
            "Epoch: 2/5............. "
          ]
        },
        {
          "output_type": "stream",
          "name": "stderr",
          "text": [
            "\r 28%|██▊       | 102/370 [00:28<01:16,  3.52it/s]"
          ]
        },
        {
          "output_type": "stream",
          "name": "stdout",
          "text": [
            "Loss: 0.0977\n",
            "acc: 0.9681636873984341\n",
            "Epoch: 2/5............. "
          ]
        },
        {
          "output_type": "stream",
          "name": "stderr",
          "text": [
            "\r 28%|██▊       | 103/370 [00:29<01:15,  3.52it/s]"
          ]
        },
        {
          "output_type": "stream",
          "name": "stdout",
          "text": [
            "Loss: 0.0920\n",
            "acc: 0.9690423162583519\n",
            "Epoch: 2/5............. "
          ]
        },
        {
          "output_type": "stream",
          "name": "stderr",
          "text": [
            "\r 28%|██▊       | 104/370 [00:29<01:15,  3.53it/s]"
          ]
        },
        {
          "output_type": "stream",
          "name": "stdout",
          "text": [
            "Loss: 0.0875\n",
            "acc: 0.9707639421953743\n",
            "Epoch: 2/5............. "
          ]
        },
        {
          "output_type": "stream",
          "name": "stderr",
          "text": [
            "\r 28%|██▊       | 105/370 [00:29<01:15,  3.52it/s]"
          ]
        },
        {
          "output_type": "stream",
          "name": "stdout",
          "text": [
            "Loss: 0.0820\n",
            "acc: 0.9718030583095278\n",
            "Epoch: 2/5............. "
          ]
        },
        {
          "output_type": "stream",
          "name": "stderr",
          "text": [
            "\r 29%|██▊       | 106/370 [00:30<01:14,  3.53it/s]"
          ]
        },
        {
          "output_type": "stream",
          "name": "stdout",
          "text": [
            "Loss: 0.0942\n",
            "acc: 0.9689794230172681\n",
            "Epoch: 2/5............. "
          ]
        },
        {
          "output_type": "stream",
          "name": "stderr",
          "text": [
            "\r 29%|██▉       | 107/370 [00:30<01:14,  3.52it/s]"
          ]
        },
        {
          "output_type": "stream",
          "name": "stdout",
          "text": [
            "Loss: 0.0807\n",
            "acc: 0.9733917830563767\n",
            "Epoch: 2/5............. "
          ]
        },
        {
          "output_type": "stream",
          "name": "stderr",
          "text": [
            "\r 29%|██▉       | 108/370 [00:30<01:14,  3.53it/s]"
          ]
        },
        {
          "output_type": "stream",
          "name": "stdout",
          "text": [
            "Loss: 0.0922\n",
            "acc: 0.9709170701125004\n",
            "Epoch: 2/5............. "
          ]
        },
        {
          "output_type": "stream",
          "name": "stderr",
          "text": [
            "\r 29%|██▉       | 109/370 [00:30<01:14,  3.52it/s]"
          ]
        },
        {
          "output_type": "stream",
          "name": "stdout",
          "text": [
            "Loss: 0.0905\n",
            "acc: 0.9699202935222672\n",
            "Epoch: 2/5............. "
          ]
        },
        {
          "output_type": "stream",
          "name": "stderr",
          "text": [
            "\r 30%|██▉       | 110/370 [00:31<01:13,  3.53it/s]"
          ]
        },
        {
          "output_type": "stream",
          "name": "stdout",
          "text": [
            "Loss: 0.0914\n",
            "acc: 0.9692616850253052\n",
            "Epoch: 2/5............. "
          ]
        },
        {
          "output_type": "stream",
          "name": "stderr",
          "text": [
            "\r 30%|███       | 111/370 [00:31<01:13,  3.52it/s]"
          ]
        },
        {
          "output_type": "stream",
          "name": "stdout",
          "text": [
            "Loss: 0.0906\n",
            "acc: 0.9697180647406892\n",
            "Epoch: 2/5............. "
          ]
        },
        {
          "output_type": "stream",
          "name": "stderr",
          "text": [
            "\r 30%|███       | 112/370 [00:31<01:13,  3.53it/s]"
          ]
        },
        {
          "output_type": "stream",
          "name": "stdout",
          "text": [
            "Loss: 0.0862\n",
            "acc: 0.9718241920381352\n",
            "Epoch: 2/5............. "
          ]
        },
        {
          "output_type": "stream",
          "name": "stderr",
          "text": [
            "\r 31%|███       | 113/370 [00:32<01:12,  3.53it/s]"
          ]
        },
        {
          "output_type": "stream",
          "name": "stdout",
          "text": [
            "Loss: 0.0996\n",
            "acc: 0.968462291870715\n",
            "Epoch: 2/5............. "
          ]
        },
        {
          "output_type": "stream",
          "name": "stderr",
          "text": [
            "\r 31%|███       | 114/370 [00:32<01:12,  3.53it/s]"
          ]
        },
        {
          "output_type": "stream",
          "name": "stdout",
          "text": [
            "Loss: 0.0865\n",
            "acc: 0.971372729363072\n",
            "Epoch: 2/5............. "
          ]
        },
        {
          "output_type": "stream",
          "name": "stderr",
          "text": [
            "\r 31%|███       | 115/370 [00:32<01:12,  3.54it/s]"
          ]
        },
        {
          "output_type": "stream",
          "name": "stdout",
          "text": [
            "Loss: 0.0826\n",
            "acc: 0.972532219742242\n",
            "Epoch: 2/5............. "
          ]
        },
        {
          "output_type": "stream",
          "name": "stderr",
          "text": [
            "\r 31%|███▏      | 116/370 [00:32<01:11,  3.53it/s]"
          ]
        },
        {
          "output_type": "stream",
          "name": "stdout",
          "text": [
            "Loss: 0.0814\n",
            "acc: 0.9722849357726742\n",
            "Epoch: 2/5............. "
          ]
        },
        {
          "output_type": "stream",
          "name": "stderr",
          "text": [
            "\r 32%|███▏      | 117/370 [00:33<01:11,  3.52it/s]"
          ]
        },
        {
          "output_type": "stream",
          "name": "stdout",
          "text": [
            "Loss: 0.0930\n",
            "acc: 0.9682529227729294\n",
            "Epoch: 2/5............. "
          ]
        },
        {
          "output_type": "stream",
          "name": "stderr",
          "text": [
            "\r 32%|███▏      | 118/370 [00:33<01:11,  3.53it/s]"
          ]
        },
        {
          "output_type": "stream",
          "name": "stdout",
          "text": [
            "Loss: 0.0996\n",
            "acc: 0.967364592548904\n",
            "Epoch: 2/5............. "
          ]
        },
        {
          "output_type": "stream",
          "name": "stderr",
          "text": [
            "\r 32%|███▏      | 119/370 [00:33<01:10,  3.54it/s]"
          ]
        },
        {
          "output_type": "stream",
          "name": "stdout",
          "text": [
            "Loss: 0.0888\n",
            "acc: 0.970894189345382\n",
            "Epoch: 2/5............. "
          ]
        },
        {
          "output_type": "stream",
          "name": "stderr",
          "text": [
            "\r 32%|███▏      | 120/370 [00:34<01:11,  3.52it/s]"
          ]
        },
        {
          "output_type": "stream",
          "name": "stdout",
          "text": [
            "Loss: 0.0976\n",
            "acc: 0.9674922600619195\n",
            "Epoch: 2/5............. "
          ]
        },
        {
          "output_type": "stream",
          "name": "stderr",
          "text": [
            "\r 33%|███▎      | 121/370 [00:34<01:10,  3.52it/s]"
          ]
        },
        {
          "output_type": "stream",
          "name": "stdout",
          "text": [
            "Loss: 0.0859\n",
            "acc: 0.9720925772009462\n",
            "Epoch: 2/5............. "
          ]
        },
        {
          "output_type": "stream",
          "name": "stderr",
          "text": [
            "\r 33%|███▎      | 122/370 [00:34<01:10,  3.54it/s]"
          ]
        },
        {
          "output_type": "stream",
          "name": "stdout",
          "text": [
            "Loss: 0.0794\n",
            "acc: 0.9737820886814469\n",
            "Epoch: 2/5............. "
          ]
        },
        {
          "output_type": "stream",
          "name": "stderr",
          "text": [
            "\r 33%|███▎      | 123/370 [00:34<01:09,  3.54it/s]"
          ]
        },
        {
          "output_type": "stream",
          "name": "stdout",
          "text": [
            "Loss: 0.0887\n",
            "acc: 0.9694813147529046\n",
            "Epoch: 2/5............. "
          ]
        },
        {
          "output_type": "stream",
          "name": "stderr",
          "text": [
            "\r 34%|███▎      | 124/370 [00:35<01:09,  3.53it/s]"
          ]
        },
        {
          "output_type": "stream",
          "name": "stdout",
          "text": [
            "Loss: 0.0873\n",
            "acc: 0.9705793145283591\n",
            "Epoch: 2/5............. "
          ]
        },
        {
          "output_type": "stream",
          "name": "stderr",
          "text": [
            "\r 34%|███▍      | 125/370 [00:35<01:09,  3.53it/s]"
          ]
        },
        {
          "output_type": "stream",
          "name": "stdout",
          "text": [
            "Loss: 0.0820\n",
            "acc: 0.9734676091798199\n",
            "Epoch: 2/5............. "
          ]
        },
        {
          "output_type": "stream",
          "name": "stderr",
          "text": [
            "\r 34%|███▍      | 126/370 [00:35<01:09,  3.53it/s]"
          ]
        },
        {
          "output_type": "stream",
          "name": "stdout",
          "text": [
            "Loss: 0.0889\n",
            "acc: 0.9700629425649095\n",
            "Epoch: 2/5............. "
          ]
        },
        {
          "output_type": "stream",
          "name": "stderr",
          "text": [
            "\r 34%|███▍      | 127/370 [00:36<01:08,  3.54it/s]"
          ]
        },
        {
          "output_type": "stream",
          "name": "stdout",
          "text": [
            "Loss: 0.0874\n",
            "acc: 0.9707466212694994\n",
            "Epoch: 2/5............. "
          ]
        },
        {
          "output_type": "stream",
          "name": "stderr",
          "text": [
            "\r 35%|███▍      | 128/370 [00:36<01:08,  3.53it/s]"
          ]
        },
        {
          "output_type": "stream",
          "name": "stdout",
          "text": [
            "Loss: 0.0978\n",
            "acc: 0.9688941610649796\n",
            "Epoch: 2/5............. "
          ]
        },
        {
          "output_type": "stream",
          "name": "stderr",
          "text": [
            "\r 35%|███▍      | 129/370 [00:36<01:08,  3.53it/s]"
          ]
        },
        {
          "output_type": "stream",
          "name": "stdout",
          "text": [
            "Loss: 0.0860\n",
            "acc: 0.9706806282722513\n",
            "Epoch: 2/5............. "
          ]
        },
        {
          "output_type": "stream",
          "name": "stderr",
          "text": [
            "\r 35%|███▌      | 130/370 [00:36<01:08,  3.53it/s]"
          ]
        },
        {
          "output_type": "stream",
          "name": "stdout",
          "text": [
            "Loss: 0.0932\n",
            "acc: 0.9680317892174412\n",
            "Epoch: 2/5............. "
          ]
        },
        {
          "output_type": "stream",
          "name": "stderr",
          "text": [
            "\r 35%|███▌      | 131/370 [00:37<01:07,  3.53it/s]"
          ]
        },
        {
          "output_type": "stream",
          "name": "stdout",
          "text": [
            "Loss: 0.0832\n",
            "acc: 0.9715911061778071\n",
            "Epoch: 2/5............. "
          ]
        },
        {
          "output_type": "stream",
          "name": "stderr",
          "text": [
            "\r 36%|███▌      | 132/370 [00:37<01:07,  3.52it/s]"
          ]
        },
        {
          "output_type": "stream",
          "name": "stdout",
          "text": [
            "Loss: 0.0927\n",
            "acc: 0.9689855265790702\n",
            "Epoch: 2/5............. "
          ]
        },
        {
          "output_type": "stream",
          "name": "stderr",
          "text": [
            "\r 36%|███▌      | 133/370 [00:37<01:07,  3.54it/s]"
          ]
        },
        {
          "output_type": "stream",
          "name": "stdout",
          "text": [
            "Loss: 0.0888\n",
            "acc: 0.9691176470588235\n",
            "Epoch: 2/5............. "
          ]
        },
        {
          "output_type": "stream",
          "name": "stderr",
          "text": [
            "\r 36%|███▌      | 134/370 [00:37<01:06,  3.53it/s]"
          ]
        },
        {
          "output_type": "stream",
          "name": "stdout",
          "text": [
            "Loss: 0.0872\n",
            "acc: 0.9711146109241893\n",
            "Epoch: 2/5............. "
          ]
        },
        {
          "output_type": "stream",
          "name": "stderr",
          "text": [
            "\r 36%|███▋      | 135/370 [00:38<01:06,  3.52it/s]"
          ]
        },
        {
          "output_type": "stream",
          "name": "stdout",
          "text": [
            "Loss: 0.0833\n",
            "acc: 0.9720648505303761\n",
            "Epoch: 2/5............. "
          ]
        },
        {
          "output_type": "stream",
          "name": "stderr",
          "text": [
            "\r 37%|███▋      | 136/370 [00:38<01:06,  3.51it/s]"
          ]
        },
        {
          "output_type": "stream",
          "name": "stdout",
          "text": [
            "Loss: 0.0868\n",
            "acc: 0.9705458931559083\n",
            "Epoch: 2/5............. "
          ]
        },
        {
          "output_type": "stream",
          "name": "stderr",
          "text": [
            "\r 37%|███▋      | 137/370 [00:38<01:06,  3.50it/s]"
          ]
        },
        {
          "output_type": "stream",
          "name": "stdout",
          "text": [
            "Loss: 0.0855\n",
            "acc: 0.9708071965258152\n",
            "Epoch: 2/5............. "
          ]
        },
        {
          "output_type": "stream",
          "name": "stderr",
          "text": [
            "\r 37%|███▋      | 138/370 [00:39<01:06,  3.50it/s]"
          ]
        },
        {
          "output_type": "stream",
          "name": "stdout",
          "text": [
            "Loss: 0.0772\n",
            "acc: 0.9728793812097479\n",
            "Epoch: 2/5............. "
          ]
        },
        {
          "output_type": "stream",
          "name": "stderr",
          "text": [
            "\r 38%|███▊      | 139/370 [00:39<01:06,  3.49it/s]"
          ]
        },
        {
          "output_type": "stream",
          "name": "stdout",
          "text": [
            "Loss: 0.0905\n",
            "acc: 0.968927483743518\n",
            "Epoch: 2/5............. "
          ]
        },
        {
          "output_type": "stream",
          "name": "stderr",
          "text": [
            "\r 38%|███▊      | 140/370 [00:39<01:05,  3.51it/s]"
          ]
        },
        {
          "output_type": "stream",
          "name": "stdout",
          "text": [
            "Loss: 0.0829\n",
            "acc: 0.9723812393291152\n",
            "Epoch: 2/5............. "
          ]
        },
        {
          "output_type": "stream",
          "name": "stderr",
          "text": [
            "\r 38%|███▊      | 141/370 [00:40<01:05,  3.50it/s]"
          ]
        },
        {
          "output_type": "stream",
          "name": "stdout",
          "text": [
            "Loss: 0.0888\n",
            "acc: 0.9709315784252125\n",
            "Epoch: 2/5............. "
          ]
        },
        {
          "output_type": "stream",
          "name": "stderr",
          "text": [
            "\r 38%|███▊      | 142/370 [00:40<01:04,  3.51it/s]"
          ]
        },
        {
          "output_type": "stream",
          "name": "stdout",
          "text": [
            "Loss: 0.0967\n",
            "acc: 0.9704392175284368\n",
            "Epoch: 2/5............. "
          ]
        },
        {
          "output_type": "stream",
          "name": "stderr",
          "text": [
            "\r 39%|███▊      | 143/370 [00:40<01:04,  3.51it/s]"
          ]
        },
        {
          "output_type": "stream",
          "name": "stdout",
          "text": [
            "Loss: 0.0880\n",
            "acc: 0.9709097512257128\n",
            "Epoch: 2/5............. "
          ]
        },
        {
          "output_type": "stream",
          "name": "stderr",
          "text": [
            "\r 39%|███▉      | 144/370 [00:40<01:04,  3.51it/s]"
          ]
        },
        {
          "output_type": "stream",
          "name": "stdout",
          "text": [
            "Loss: 0.0931\n",
            "acc: 0.9702792627761786\n",
            "Epoch: 2/5............. "
          ]
        },
        {
          "output_type": "stream",
          "name": "stderr",
          "text": [
            "\r 39%|███▉      | 145/370 [00:41<01:04,  3.49it/s]"
          ]
        },
        {
          "output_type": "stream",
          "name": "stdout",
          "text": [
            "Loss: 0.0879\n",
            "acc: 0.9701081269619811\n",
            "Epoch: 2/5............. "
          ]
        },
        {
          "output_type": "stream",
          "name": "stderr",
          "text": [
            "\r 39%|███▉      | 146/370 [00:41<01:04,  3.48it/s]"
          ]
        },
        {
          "output_type": "stream",
          "name": "stdout",
          "text": [
            "Loss: 0.0921\n",
            "acc: 0.9693283070596299\n",
            "Epoch: 2/5............. "
          ]
        },
        {
          "output_type": "stream",
          "name": "stderr",
          "text": [
            "\r 40%|███▉      | 147/370 [00:41<01:03,  3.49it/s]"
          ]
        },
        {
          "output_type": "stream",
          "name": "stdout",
          "text": [
            "Loss: 0.0859\n",
            "acc: 0.9728260869565217\n",
            "Epoch: 2/5............. "
          ]
        },
        {
          "output_type": "stream",
          "name": "stderr",
          "text": [
            "\r 40%|████      | 148/370 [00:42<01:03,  3.51it/s]"
          ]
        },
        {
          "output_type": "stream",
          "name": "stdout",
          "text": [
            "Loss: 0.0819\n",
            "acc: 0.9715988521815908\n",
            "Epoch: 2/5............. "
          ]
        },
        {
          "output_type": "stream",
          "name": "stderr",
          "text": [
            "\r 40%|████      | 149/370 [00:42<01:03,  3.50it/s]"
          ]
        },
        {
          "output_type": "stream",
          "name": "stdout",
          "text": [
            "Loss: 0.0972\n",
            "acc: 0.969371967086293\n",
            "Epoch: 2/5............. "
          ]
        },
        {
          "output_type": "stream",
          "name": "stderr",
          "text": [
            "\r 41%|████      | 150/370 [00:42<01:02,  3.52it/s]"
          ]
        },
        {
          "output_type": "stream",
          "name": "stdout",
          "text": [
            "Loss: 0.0845\n",
            "acc: 0.9715699279389094\n",
            "Epoch: 2/5............. "
          ]
        },
        {
          "output_type": "stream",
          "name": "stderr",
          "text": [
            "\r 41%|████      | 151/370 [00:42<01:02,  3.52it/s]"
          ]
        },
        {
          "output_type": "stream",
          "name": "stdout",
          "text": [
            "Loss: 0.0844\n",
            "acc: 0.9716501262761\n",
            "Epoch: 2/5............. "
          ]
        },
        {
          "output_type": "stream",
          "name": "stderr",
          "text": [
            "\r 41%|████      | 152/370 [00:43<01:01,  3.53it/s]"
          ]
        },
        {
          "output_type": "stream",
          "name": "stdout",
          "text": [
            "Loss: 0.0894\n",
            "acc: 0.9708635742084779\n",
            "Epoch: 2/5............. "
          ]
        },
        {
          "output_type": "stream",
          "name": "stderr",
          "text": [
            "\r 41%|████▏     | 153/370 [00:43<01:01,  3.53it/s]"
          ]
        },
        {
          "output_type": "stream",
          "name": "stdout",
          "text": [
            "Loss: 0.0994\n",
            "acc: 0.9679930795847751\n",
            "Epoch: 2/5............. "
          ]
        },
        {
          "output_type": "stream",
          "name": "stderr",
          "text": [
            "\r 42%|████▏     | 154/370 [00:43<01:01,  3.53it/s]"
          ]
        },
        {
          "output_type": "stream",
          "name": "stdout",
          "text": [
            "Loss: 0.0892\n",
            "acc: 0.9713966123362097\n",
            "Epoch: 2/5............. "
          ]
        },
        {
          "output_type": "stream",
          "name": "stderr",
          "text": [
            "\r 42%|████▏     | 155/370 [00:43<01:00,  3.54it/s]"
          ]
        },
        {
          "output_type": "stream",
          "name": "stdout",
          "text": [
            "Loss: 0.0730\n",
            "acc: 0.9750928162058897\n",
            "Epoch: 2/5............. "
          ]
        },
        {
          "output_type": "stream",
          "name": "stderr",
          "text": [
            "\r 42%|████▏     | 156/370 [00:44<01:00,  3.54it/s]"
          ]
        },
        {
          "output_type": "stream",
          "name": "stdout",
          "text": [
            "Loss: 0.0952\n",
            "acc: 0.9689161688439571\n",
            "Epoch: 2/5............. "
          ]
        },
        {
          "output_type": "stream",
          "name": "stderr",
          "text": [
            "\r 42%|████▏     | 157/370 [00:44<01:00,  3.53it/s]"
          ]
        },
        {
          "output_type": "stream",
          "name": "stdout",
          "text": [
            "Loss: 0.0781\n",
            "acc: 0.9732682380247308\n",
            "Epoch: 2/5............. "
          ]
        },
        {
          "output_type": "stream",
          "name": "stderr",
          "text": [
            "\r 43%|████▎     | 158/370 [00:44<01:00,  3.52it/s]"
          ]
        },
        {
          "output_type": "stream",
          "name": "stdout",
          "text": [
            "Loss: 0.0883\n",
            "acc: 0.9710999420065726\n",
            "Epoch: 2/5............. "
          ]
        },
        {
          "output_type": "stream",
          "name": "stderr",
          "text": [
            "\r 43%|████▎     | 159/370 [00:45<00:59,  3.52it/s]"
          ]
        },
        {
          "output_type": "stream",
          "name": "stdout",
          "text": [
            "Loss: 0.0860\n",
            "acc: 0.969551282051282\n",
            "Epoch: 2/5............. "
          ]
        },
        {
          "output_type": "stream",
          "name": "stderr",
          "text": [
            "\r 43%|████▎     | 160/370 [00:45<00:59,  3.53it/s]"
          ]
        },
        {
          "output_type": "stream",
          "name": "stdout",
          "text": [
            "Loss: 0.1003\n",
            "acc: 0.9654548500586363\n",
            "Epoch: 2/5............. "
          ]
        },
        {
          "output_type": "stream",
          "name": "stderr",
          "text": [
            "\r 44%|████▎     | 161/370 [00:45<00:59,  3.54it/s]"
          ]
        },
        {
          "output_type": "stream",
          "name": "stdout",
          "text": [
            "Loss: 0.1056\n",
            "acc: 0.966067358825019\n",
            "Epoch: 2/5............. "
          ]
        },
        {
          "output_type": "stream",
          "name": "stderr",
          "text": [
            "\r 44%|████▍     | 162/370 [00:45<00:59,  3.52it/s]"
          ]
        },
        {
          "output_type": "stream",
          "name": "stdout",
          "text": [
            "Loss: 0.0829\n",
            "acc: 0.9726912297491285\n",
            "Epoch: 2/5............. "
          ]
        },
        {
          "output_type": "stream",
          "name": "stderr",
          "text": [
            "\r 44%|████▍     | 163/370 [00:46<00:58,  3.54it/s]"
          ]
        },
        {
          "output_type": "stream",
          "name": "stdout",
          "text": [
            "Loss: 0.0844\n",
            "acc: 0.9715348208248816\n",
            "Epoch: 2/5............. "
          ]
        },
        {
          "output_type": "stream",
          "name": "stderr",
          "text": [
            "\r 44%|████▍     | 164/370 [00:46<00:58,  3.54it/s]"
          ]
        },
        {
          "output_type": "stream",
          "name": "stdout",
          "text": [
            "Loss: 0.0822\n",
            "acc: 0.9727201870615745\n",
            "Epoch: 2/5............. "
          ]
        },
        {
          "output_type": "stream",
          "name": "stderr",
          "text": [
            "\r 45%|████▍     | 165/370 [00:46<00:57,  3.54it/s]"
          ]
        },
        {
          "output_type": "stream",
          "name": "stdout",
          "text": [
            "Loss: 0.0894\n",
            "acc: 0.9692297149122807\n",
            "Epoch: 2/5............. "
          ]
        },
        {
          "output_type": "stream",
          "name": "stderr",
          "text": [
            "\r 45%|████▍     | 166/370 [00:47<00:57,  3.53it/s]"
          ]
        },
        {
          "output_type": "stream",
          "name": "stdout",
          "text": [
            "Loss: 0.0922\n",
            "acc: 0.9696605679788086\n"
          ]
        },
        {
          "output_type": "stream",
          "name": "stderr",
          "text": [
            "\r 45%|████▌     | 167/370 [00:47<01:17,  2.61it/s]"
          ]
        },
        {
          "output_type": "stream",
          "name": "stdout",
          "text": [
            "Epoch: 2/5............. Loss: 0.0809\n",
            "acc: 0.9729372713724428\n"
          ]
        },
        {
          "output_type": "stream",
          "name": "stderr",
          "text": [
            "\r 45%|████▌     | 168/370 [00:47<01:11,  2.84it/s]"
          ]
        },
        {
          "output_type": "stream",
          "name": "stdout",
          "text": [
            "Epoch: 2/5............. Loss: 0.0881\n",
            "acc: 0.9715030663581947\n"
          ]
        },
        {
          "output_type": "stream",
          "name": "stderr",
          "text": [
            "\r 46%|████▌     | 169/370 [00:48<01:06,  3.01it/s]"
          ]
        },
        {
          "output_type": "stream",
          "name": "stdout",
          "text": [
            "Epoch: 2/5............. Loss: 0.0858\n",
            "acc: 0.9714176165080693\n"
          ]
        },
        {
          "output_type": "stream",
          "name": "stderr",
          "text": [
            "\r 46%|████▌     | 170/370 [00:48<01:03,  3.13it/s]"
          ]
        },
        {
          "output_type": "stream",
          "name": "stdout",
          "text": [
            "Epoch: 2/5............. Loss: 0.0731\n",
            "acc: 0.9749372494661521\n"
          ]
        },
        {
          "output_type": "stream",
          "name": "stderr",
          "text": [
            "\r 46%|████▌     | 171/370 [00:48<01:01,  3.22it/s]"
          ]
        },
        {
          "output_type": "stream",
          "name": "stdout",
          "text": [
            "Epoch: 2/5............. Loss: 0.0746\n",
            "acc: 0.974609631281984\n"
          ]
        },
        {
          "output_type": "stream",
          "name": "stderr",
          "text": [
            "\r 46%|████▋     | 172/370 [00:49<00:59,  3.31it/s]"
          ]
        },
        {
          "output_type": "stream",
          "name": "stdout",
          "text": [
            "Epoch: 2/5............. Loss: 0.0809\n",
            "acc: 0.9717226005435612\n"
          ]
        },
        {
          "output_type": "stream",
          "name": "stderr",
          "text": [
            "\r 47%|████▋     | 173/370 [00:49<00:58,  3.38it/s]"
          ]
        },
        {
          "output_type": "stream",
          "name": "stdout",
          "text": [
            "Epoch: 2/5............. Loss: 0.0884\n",
            "acc: 0.971126614630103\n"
          ]
        },
        {
          "output_type": "stream",
          "name": "stderr",
          "text": [
            "\r 47%|████▋     | 174/370 [00:49<00:57,  3.42it/s]"
          ]
        },
        {
          "output_type": "stream",
          "name": "stdout",
          "text": [
            "Epoch: 2/5............. Loss: 0.0890\n",
            "acc: 0.9703625212728382\n"
          ]
        },
        {
          "output_type": "stream",
          "name": "stderr",
          "text": [
            "\r 47%|████▋     | 175/370 [00:49<00:56,  3.45it/s]"
          ]
        },
        {
          "output_type": "stream",
          "name": "stdout",
          "text": [
            "Epoch: 2/5............. Loss: 0.0879\n",
            "acc: 0.9702289816610528\n"
          ]
        },
        {
          "output_type": "stream",
          "name": "stderr",
          "text": [
            "\r 48%|████▊     | 176/370 [00:50<00:55,  3.47it/s]"
          ]
        },
        {
          "output_type": "stream",
          "name": "stdout",
          "text": [
            "Epoch: 2/5............. Loss: 0.0820\n",
            "acc: 0.9738288406176394\n"
          ]
        },
        {
          "output_type": "stream",
          "name": "stderr",
          "text": [
            "\r 48%|████▊     | 177/370 [00:50<00:55,  3.47it/s]"
          ]
        },
        {
          "output_type": "stream",
          "name": "stdout",
          "text": [
            "Epoch: 2/5............. Loss: 0.0929\n",
            "acc: 0.9680305955740384\n"
          ]
        },
        {
          "output_type": "stream",
          "name": "stderr",
          "text": [
            "\r 48%|████▊     | 178/370 [00:50<00:54,  3.51it/s]"
          ]
        },
        {
          "output_type": "stream",
          "name": "stdout",
          "text": [
            "Epoch: 2/5............. Loss: 0.0784\n",
            "acc: 0.974728001527009\n"
          ]
        },
        {
          "output_type": "stream",
          "name": "stderr",
          "text": [
            "\r 48%|████▊     | 179/370 [00:51<00:54,  3.52it/s]"
          ]
        },
        {
          "output_type": "stream",
          "name": "stdout",
          "text": [
            "Epoch: 2/5............. Loss: 0.0968\n",
            "acc: 0.9692578262398874\n"
          ]
        },
        {
          "output_type": "stream",
          "name": "stderr",
          "text": [
            "\r 49%|████▊     | 180/370 [00:51<00:53,  3.53it/s]"
          ]
        },
        {
          "output_type": "stream",
          "name": "stdout",
          "text": [
            "Epoch: 2/5............. Loss: 0.0951\n",
            "acc: 0.969825004990352\n"
          ]
        },
        {
          "output_type": "stream",
          "name": "stderr",
          "text": [
            "\r 49%|████▉     | 181/370 [00:51<00:53,  3.51it/s]"
          ]
        },
        {
          "output_type": "stream",
          "name": "stdout",
          "text": [
            "Epoch: 2/5............. Loss: 0.0858\n",
            "acc: 0.9716494845360825\n"
          ]
        },
        {
          "output_type": "stream",
          "name": "stderr",
          "text": [
            "\r 49%|████▉     | 182/370 [00:51<00:53,  3.53it/s]"
          ]
        },
        {
          "output_type": "stream",
          "name": "stdout",
          "text": [
            "Epoch: 2/5............. Loss: 0.0803\n",
            "acc: 0.9722153223803272\n"
          ]
        },
        {
          "output_type": "stream",
          "name": "stderr",
          "text": [
            "\r 49%|████▉     | 183/370 [00:52<00:53,  3.52it/s]"
          ]
        },
        {
          "output_type": "stream",
          "name": "stdout",
          "text": [
            "Epoch: 2/5............. Loss: 0.0961\n",
            "acc: 0.9689026119285422\n"
          ]
        },
        {
          "output_type": "stream",
          "name": "stderr",
          "text": [
            "\r 50%|████▉     | 184/370 [00:52<00:52,  3.52it/s]"
          ]
        },
        {
          "output_type": "stream",
          "name": "stdout",
          "text": [
            "Epoch: 2/5............. Loss: 0.0740\n",
            "acc: 0.9741053643794216\n"
          ]
        },
        {
          "output_type": "stream",
          "name": "stderr",
          "text": [
            "\r 50%|█████     | 185/370 [00:52<00:52,  3.53it/s]"
          ]
        },
        {
          "output_type": "stream",
          "name": "stdout",
          "text": [
            "Epoch: 2/5............. Loss: 0.0905\n",
            "acc: 0.9703016241299304\n"
          ]
        },
        {
          "output_type": "stream",
          "name": "stderr",
          "text": [
            "\r 50%|█████     | 186/370 [00:53<00:52,  3.52it/s]"
          ]
        },
        {
          "output_type": "stream",
          "name": "stdout",
          "text": [
            "Epoch: 2/5............. Loss: 0.0945\n",
            "acc: 0.9684957073534901\n"
          ]
        },
        {
          "output_type": "stream",
          "name": "stderr",
          "text": [
            "\r 51%|█████     | 187/370 [00:53<00:51,  3.53it/s]"
          ]
        },
        {
          "output_type": "stream",
          "name": "stdout",
          "text": [
            "Epoch: 2/5............. Loss: 0.0869\n",
            "acc: 0.9717394327030033\n"
          ]
        },
        {
          "output_type": "stream",
          "name": "stderr",
          "text": [
            "\r 51%|█████     | 188/370 [00:53<00:51,  3.52it/s]"
          ]
        },
        {
          "output_type": "stream",
          "name": "stdout",
          "text": [
            "Epoch: 2/5............. Loss: 0.0806\n",
            "acc: 0.9718579319282871\n"
          ]
        },
        {
          "output_type": "stream",
          "name": "stderr",
          "text": [
            "\r 51%|█████     | 189/370 [00:53<00:51,  3.51it/s]"
          ]
        },
        {
          "output_type": "stream",
          "name": "stdout",
          "text": [
            "Epoch: 2/5............. Loss: 0.0934\n",
            "acc: 0.9707142355502493\n"
          ]
        },
        {
          "output_type": "stream",
          "name": "stderr",
          "text": [
            "\r 51%|█████▏    | 190/370 [00:54<00:51,  3.47it/s]"
          ]
        },
        {
          "output_type": "stream",
          "name": "stdout",
          "text": [
            "Epoch: 2/5............. Loss: 0.0888\n",
            "acc: 0.9707083204454068\n"
          ]
        },
        {
          "output_type": "stream",
          "name": "stderr",
          "text": [
            "\r 52%|█████▏    | 191/370 [00:54<00:51,  3.48it/s]"
          ]
        },
        {
          "output_type": "stream",
          "name": "stdout",
          "text": [
            "Epoch: 2/5............. Loss: 0.0815\n",
            "acc: 0.9712368939059173\n"
          ]
        },
        {
          "output_type": "stream",
          "name": "stderr",
          "text": [
            "\r 52%|█████▏    | 192/370 [00:54<00:50,  3.49it/s]"
          ]
        },
        {
          "output_type": "stream",
          "name": "stdout",
          "text": [
            "Epoch: 2/5............. Loss: 0.0848\n",
            "acc: 0.9716749172212569\n"
          ]
        },
        {
          "output_type": "stream",
          "name": "stderr",
          "text": [
            "\r 52%|█████▏    | 193/370 [00:55<00:50,  3.50it/s]"
          ]
        },
        {
          "output_type": "stream",
          "name": "stdout",
          "text": [
            "Epoch: 2/5............. Loss: 0.0889\n",
            "acc: 0.9702562022578246\n"
          ]
        },
        {
          "output_type": "stream",
          "name": "stderr",
          "text": [
            "\r 52%|█████▏    | 194/370 [00:55<00:49,  3.52it/s]"
          ]
        },
        {
          "output_type": "stream",
          "name": "stdout",
          "text": [
            "Epoch: 2/5............. Loss: 0.0793\n",
            "acc: 0.9750285621021707\n"
          ]
        },
        {
          "output_type": "stream",
          "name": "stderr",
          "text": [
            "\r 53%|█████▎    | 195/370 [00:55<00:49,  3.53it/s]"
          ]
        },
        {
          "output_type": "stream",
          "name": "stdout",
          "text": [
            "Epoch: 2/5............. Loss: 0.0927\n",
            "acc: 0.9685233246822387\n"
          ]
        },
        {
          "output_type": "stream",
          "name": "stderr",
          "text": [
            "\r 53%|█████▎    | 196/370 [00:55<00:49,  3.53it/s]"
          ]
        },
        {
          "output_type": "stream",
          "name": "stdout",
          "text": [
            "Epoch: 2/5............. Loss: 0.0918\n",
            "acc: 0.9702716555612506\n"
          ]
        },
        {
          "output_type": "stream",
          "name": "stderr",
          "text": [
            "\r 53%|█████▎    | 197/370 [00:56<00:49,  3.51it/s]"
          ]
        },
        {
          "output_type": "stream",
          "name": "stdout",
          "text": [
            "Epoch: 2/5............. Loss: 0.0896\n",
            "acc: 0.96962863274288\n"
          ]
        },
        {
          "output_type": "stream",
          "name": "stderr",
          "text": [
            "\r 54%|█████▎    | 198/370 [00:56<00:48,  3.52it/s]"
          ]
        },
        {
          "output_type": "stream",
          "name": "stdout",
          "text": [
            "Epoch: 2/5............. Loss: 0.0838\n",
            "acc: 0.9731734259113145\n"
          ]
        },
        {
          "output_type": "stream",
          "name": "stderr",
          "text": [
            "\r 54%|█████▍    | 199/370 [00:56<00:48,  3.51it/s]"
          ]
        },
        {
          "output_type": "stream",
          "name": "stdout",
          "text": [
            "Epoch: 2/5............. Loss: 0.0813\n",
            "acc: 0.9726008724100327\n"
          ]
        },
        {
          "output_type": "stream",
          "name": "stderr",
          "text": [
            "\r 54%|█████▍    | 200/370 [00:57<00:48,  3.52it/s]"
          ]
        },
        {
          "output_type": "stream",
          "name": "stdout",
          "text": [
            "Epoch: 2/5............. Loss: 0.0906\n",
            "acc: 0.9698300336904266\n"
          ]
        },
        {
          "output_type": "stream",
          "name": "stderr",
          "text": [
            "\r 54%|█████▍    | 201/370 [00:57<00:48,  3.52it/s]"
          ]
        },
        {
          "output_type": "stream",
          "name": "stdout",
          "text": [
            "Epoch: 2/5............. Loss: 0.0850\n",
            "acc: 0.9732758910841103\n"
          ]
        },
        {
          "output_type": "stream",
          "name": "stderr",
          "text": [
            "\r 55%|█████▍    | 202/370 [00:57<00:47,  3.50it/s]"
          ]
        },
        {
          "output_type": "stream",
          "name": "stdout",
          "text": [
            "Epoch: 2/5............. Loss: 0.0848\n",
            "acc: 0.9725140168847071\n"
          ]
        },
        {
          "output_type": "stream",
          "name": "stderr",
          "text": [
            "\r 55%|█████▍    | 203/370 [00:57<00:47,  3.50it/s]"
          ]
        },
        {
          "output_type": "stream",
          "name": "stdout",
          "text": [
            "Epoch: 2/5............. Loss: 0.0813\n",
            "acc: 0.9717014755150046\n"
          ]
        },
        {
          "output_type": "stream",
          "name": "stderr",
          "text": [
            "\r 55%|█████▌    | 204/370 [00:58<00:47,  3.49it/s]"
          ]
        },
        {
          "output_type": "stream",
          "name": "stdout",
          "text": [
            "Epoch: 2/5............. Loss: 0.0802\n",
            "acc: 0.9743388156860279\n"
          ]
        },
        {
          "output_type": "stream",
          "name": "stderr",
          "text": [
            "\r 55%|█████▌    | 205/370 [00:58<00:47,  3.50it/s]"
          ]
        },
        {
          "output_type": "stream",
          "name": "stdout",
          "text": [
            "Epoch: 2/5............. Loss: 0.1053\n",
            "acc: 0.9667700966950498\n"
          ]
        },
        {
          "output_type": "stream",
          "name": "stderr",
          "text": [
            "\r 56%|█████▌    | 206/370 [00:58<00:46,  3.52it/s]"
          ]
        },
        {
          "output_type": "stream",
          "name": "stdout",
          "text": [
            "Epoch: 2/5............. Loss: 0.0854\n",
            "acc: 0.9714452945357247\n"
          ]
        },
        {
          "output_type": "stream",
          "name": "stderr",
          "text": [
            "\r 56%|█████▌    | 207/370 [00:59<00:46,  3.51it/s]"
          ]
        },
        {
          "output_type": "stream",
          "name": "stdout",
          "text": [
            "Epoch: 2/5............. Loss: 0.0918\n",
            "acc: 0.9699448816168059\n"
          ]
        },
        {
          "output_type": "stream",
          "name": "stderr",
          "text": [
            "\r 56%|█████▌    | 208/370 [00:59<00:46,  3.52it/s]"
          ]
        },
        {
          "output_type": "stream",
          "name": "stdout",
          "text": [
            "Epoch: 2/5............. Loss: 0.0772\n",
            "acc: 0.9744762466804368\n"
          ]
        },
        {
          "output_type": "stream",
          "name": "stderr",
          "text": [
            "\r 56%|█████▋    | 209/370 [00:59<00:45,  3.52it/s]"
          ]
        },
        {
          "output_type": "stream",
          "name": "stdout",
          "text": [
            "Epoch: 2/5............. Loss: 0.1082\n",
            "acc: 0.9647988241778431\n"
          ]
        },
        {
          "output_type": "stream",
          "name": "stderr",
          "text": [
            "\r 57%|█████▋    | 210/370 [00:59<00:45,  3.54it/s]"
          ]
        },
        {
          "output_type": "stream",
          "name": "stdout",
          "text": [
            "Epoch: 2/5............. Loss: 0.0921\n",
            "acc: 0.9695953669130534\n"
          ]
        },
        {
          "output_type": "stream",
          "name": "stderr",
          "text": [
            "\r 57%|█████▋    | 211/370 [01:00<00:45,  3.53it/s]"
          ]
        },
        {
          "output_type": "stream",
          "name": "stdout",
          "text": [
            "Epoch: 2/5............. Loss: 0.0922\n",
            "acc: 0.969820935156278\n"
          ]
        },
        {
          "output_type": "stream",
          "name": "stderr",
          "text": [
            "\r 57%|█████▋    | 212/370 [01:00<00:44,  3.53it/s]"
          ]
        },
        {
          "output_type": "stream",
          "name": "stdout",
          "text": [
            "Epoch: 2/5............. Loss: 0.0893\n",
            "acc: 0.9709148777679962\n"
          ]
        },
        {
          "output_type": "stream",
          "name": "stderr",
          "text": [
            "\r 58%|█████▊    | 213/370 [01:00<00:44,  3.53it/s]"
          ]
        },
        {
          "output_type": "stream",
          "name": "stdout",
          "text": [
            "Epoch: 2/5............. Loss: 0.0925\n",
            "acc: 0.9699322000589564\n"
          ]
        },
        {
          "output_type": "stream",
          "name": "stderr",
          "text": [
            "\r 58%|█████▊    | 214/370 [01:01<00:44,  3.53it/s]"
          ]
        },
        {
          "output_type": "stream",
          "name": "stdout",
          "text": [
            "Epoch: 2/5............. Loss: 0.0901\n",
            "acc: 0.9693380666645722\n"
          ]
        },
        {
          "output_type": "stream",
          "name": "stderr",
          "text": [
            "\r 58%|█████▊    | 215/370 [01:01<00:44,  3.52it/s]"
          ]
        },
        {
          "output_type": "stream",
          "name": "stdout",
          "text": [
            "Epoch: 2/5............. Loss: 0.0765\n",
            "acc: 0.9741360005971487\n"
          ]
        },
        {
          "output_type": "stream",
          "name": "stderr",
          "text": [
            "\r 58%|█████▊    | 216/370 [01:01<00:43,  3.53it/s]"
          ]
        },
        {
          "output_type": "stream",
          "name": "stdout",
          "text": [
            "Epoch: 2/5............. Loss: 0.0976\n",
            "acc: 0.9684884983018802\n"
          ]
        },
        {
          "output_type": "stream",
          "name": "stderr",
          "text": [
            "\r 59%|█████▊    | 217/370 [01:01<00:43,  3.53it/s]"
          ]
        },
        {
          "output_type": "stream",
          "name": "stdout",
          "text": [
            "Epoch: 2/5............. Loss: 0.0948\n",
            "acc: 0.9686587996447151\n"
          ]
        },
        {
          "output_type": "stream",
          "name": "stderr",
          "text": [
            "\r 59%|█████▉    | 218/370 [01:02<00:42,  3.54it/s]"
          ]
        },
        {
          "output_type": "stream",
          "name": "stdout",
          "text": [
            "Epoch: 2/5............. Loss: 0.0957\n",
            "acc: 0.9699644358228258\n"
          ]
        },
        {
          "output_type": "stream",
          "name": "stderr",
          "text": [
            "\r 59%|█████▉    | 219/370 [01:02<00:42,  3.53it/s]"
          ]
        },
        {
          "output_type": "stream",
          "name": "stdout",
          "text": [
            "Epoch: 2/5............. Loss: 0.0936\n",
            "acc: 0.9692614158749617\n"
          ]
        },
        {
          "output_type": "stream",
          "name": "stderr",
          "text": [
            "\r 59%|█████▉    | 220/370 [01:02<00:42,  3.55it/s]"
          ]
        },
        {
          "output_type": "stream",
          "name": "stdout",
          "text": [
            "Epoch: 2/5............. Loss: 0.0931\n",
            "acc: 0.9702104499274311\n"
          ]
        },
        {
          "output_type": "stream",
          "name": "stderr",
          "text": [
            "\r 60%|█████▉    | 221/370 [01:03<00:42,  3.53it/s]"
          ]
        },
        {
          "output_type": "stream",
          "name": "stdout",
          "text": [
            "Epoch: 2/5............. Loss: 0.0784\n",
            "acc: 0.9753435465842594\n"
          ]
        },
        {
          "output_type": "stream",
          "name": "stderr",
          "text": [
            "\r 60%|██████    | 222/370 [01:03<00:41,  3.52it/s]"
          ]
        },
        {
          "output_type": "stream",
          "name": "stdout",
          "text": [
            "Epoch: 2/5............. Loss: 0.0915\n",
            "acc: 0.9689990830217958\n"
          ]
        },
        {
          "output_type": "stream",
          "name": "stderr",
          "text": [
            "\r 60%|██████    | 223/370 [01:03<00:41,  3.52it/s]"
          ]
        },
        {
          "output_type": "stream",
          "name": "stdout",
          "text": [
            "Epoch: 2/5............. Loss: 0.0900\n",
            "acc: 0.9703183489581608\n"
          ]
        },
        {
          "output_type": "stream",
          "name": "stderr",
          "text": [
            "\r 61%|██████    | 224/370 [01:03<00:41,  3.52it/s]"
          ]
        },
        {
          "output_type": "stream",
          "name": "stdout",
          "text": [
            "Epoch: 2/5............. Loss: 0.0926\n",
            "acc: 0.969570467483181\n"
          ]
        },
        {
          "output_type": "stream",
          "name": "stderr",
          "text": [
            "\r 61%|██████    | 225/370 [01:04<00:41,  3.53it/s]"
          ]
        },
        {
          "output_type": "stream",
          "name": "stdout",
          "text": [
            "Epoch: 2/5............. Loss: 0.0866\n",
            "acc: 0.9703930388614409\n"
          ]
        },
        {
          "output_type": "stream",
          "name": "stderr",
          "text": [
            "\r 61%|██████    | 226/370 [01:04<00:40,  3.53it/s]"
          ]
        },
        {
          "output_type": "stream",
          "name": "stdout",
          "text": [
            "Epoch: 2/5............. Loss: 0.0875\n",
            "acc: 0.9700294550810015\n"
          ]
        },
        {
          "output_type": "stream",
          "name": "stderr",
          "text": [
            "\r 61%|██████▏   | 227/370 [01:04<00:40,  3.53it/s]"
          ]
        },
        {
          "output_type": "stream",
          "name": "stdout",
          "text": [
            "Epoch: 2/5............. Loss: 0.0818\n",
            "acc: 0.9727675528289025\n"
          ]
        },
        {
          "output_type": "stream",
          "name": "stderr",
          "text": [
            "\r 62%|██████▏   | 228/370 [01:05<00:40,  3.53it/s]"
          ]
        },
        {
          "output_type": "stream",
          "name": "stdout",
          "text": [
            "Epoch: 2/5............. Loss: 0.0805\n",
            "acc: 0.9717981253325693\n"
          ]
        },
        {
          "output_type": "stream",
          "name": "stderr",
          "text": [
            "\r 62%|██████▏   | 229/370 [01:05<00:40,  3.52it/s]"
          ]
        },
        {
          "output_type": "stream",
          "name": "stdout",
          "text": [
            "Epoch: 2/5............. Loss: 0.0779\n",
            "acc: 0.976057488159399\n"
          ]
        },
        {
          "output_type": "stream",
          "name": "stderr",
          "text": [
            "\r 62%|██████▏   | 230/370 [01:05<00:39,  3.52it/s]"
          ]
        },
        {
          "output_type": "stream",
          "name": "stdout",
          "text": [
            "Epoch: 2/5............. Loss: 0.0741\n",
            "acc: 0.9750879249706916\n"
          ]
        },
        {
          "output_type": "stream",
          "name": "stderr",
          "text": [
            "\r 62%|██████▏   | 231/370 [01:05<00:39,  3.53it/s]"
          ]
        },
        {
          "output_type": "stream",
          "name": "stdout",
          "text": [
            "Epoch: 2/5............. Loss: 0.0819\n",
            "acc: 0.9725612973581454\n"
          ]
        },
        {
          "output_type": "stream",
          "name": "stderr",
          "text": [
            "\r 63%|██████▎   | 232/370 [01:06<00:38,  3.55it/s]"
          ]
        },
        {
          "output_type": "stream",
          "name": "stdout",
          "text": [
            "Epoch: 2/5............. Loss: 0.0842\n",
            "acc: 0.9727618861661622\n"
          ]
        },
        {
          "output_type": "stream",
          "name": "stderr",
          "text": [
            "\r 63%|██████▎   | 233/370 [01:06<00:38,  3.54it/s]"
          ]
        },
        {
          "output_type": "stream",
          "name": "stdout",
          "text": [
            "Epoch: 2/5............. Loss: 0.0873\n",
            "acc: 0.9718572054314498\n"
          ]
        },
        {
          "output_type": "stream",
          "name": "stderr",
          "text": [
            "\r 63%|██████▎   | 234/370 [01:06<00:38,  3.54it/s]"
          ]
        },
        {
          "output_type": "stream",
          "name": "stdout",
          "text": [
            "Epoch: 2/5............. Loss: 0.0927\n",
            "acc: 0.9689140504374678\n"
          ]
        },
        {
          "output_type": "stream",
          "name": "stderr",
          "text": [
            "\r 64%|██████▎   | 235/370 [01:07<00:38,  3.53it/s]"
          ]
        },
        {
          "output_type": "stream",
          "name": "stdout",
          "text": [
            "Epoch: 2/5............. Loss: 0.0946\n",
            "acc: 0.9682815555072779\n"
          ]
        },
        {
          "output_type": "stream",
          "name": "stderr",
          "text": [
            "\r 64%|██████▍   | 236/370 [01:07<00:37,  3.53it/s]"
          ]
        },
        {
          "output_type": "stream",
          "name": "stdout",
          "text": [
            "Epoch: 2/5............. Loss: 0.0875\n",
            "acc: 0.971900826446281\n"
          ]
        },
        {
          "output_type": "stream",
          "name": "stderr",
          "text": [
            "\r 64%|██████▍   | 237/370 [01:07<00:37,  3.51it/s]"
          ]
        },
        {
          "output_type": "stream",
          "name": "stdout",
          "text": [
            "Epoch: 2/5............. Loss: 0.0856\n",
            "acc: 0.9717667283787358\n"
          ]
        },
        {
          "output_type": "stream",
          "name": "stderr",
          "text": [
            "\r 64%|██████▍   | 238/370 [01:07<00:37,  3.52it/s]"
          ]
        },
        {
          "output_type": "stream",
          "name": "stdout",
          "text": [
            "Epoch: 2/5............. Loss: 0.0796\n",
            "acc: 0.9731005358600376\n"
          ]
        },
        {
          "output_type": "stream",
          "name": "stderr",
          "text": [
            "\r 65%|██████▍   | 239/370 [01:08<00:37,  3.51it/s]"
          ]
        },
        {
          "output_type": "stream",
          "name": "stdout",
          "text": [
            "Epoch: 2/5............. Loss: 0.0827\n",
            "acc: 0.9716071484657182\n"
          ]
        },
        {
          "output_type": "stream",
          "name": "stderr",
          "text": [
            "\r 65%|██████▍   | 240/370 [01:08<00:37,  3.49it/s]"
          ]
        },
        {
          "output_type": "stream",
          "name": "stdout",
          "text": [
            "Epoch: 2/5............. Loss: 0.0991\n",
            "acc: 0.966820440028389\n"
          ]
        },
        {
          "output_type": "stream",
          "name": "stderr",
          "text": [
            "\r 65%|██████▌   | 241/370 [01:08<00:37,  3.48it/s]"
          ]
        },
        {
          "output_type": "stream",
          "name": "stdout",
          "text": [
            "Epoch: 2/5............. Loss: 0.0892\n",
            "acc: 0.9701411139136955\n"
          ]
        },
        {
          "output_type": "stream",
          "name": "stderr",
          "text": [
            "\r 65%|██████▌   | 242/370 [01:09<00:36,  3.49it/s]"
          ]
        },
        {
          "output_type": "stream",
          "name": "stdout",
          "text": [
            "Epoch: 2/5............. Loss: 0.0836\n",
            "acc: 0.9720888832374353\n"
          ]
        },
        {
          "output_type": "stream",
          "name": "stderr",
          "text": [
            "\r 66%|██████▌   | 243/370 [01:09<00:36,  3.49it/s]"
          ]
        },
        {
          "output_type": "stream",
          "name": "stdout",
          "text": [
            "Epoch: 2/5............. Loss: 0.0815\n",
            "acc: 0.9711643461643462\n"
          ]
        },
        {
          "output_type": "stream",
          "name": "stderr",
          "text": [
            "\r 66%|██████▌   | 244/370 [01:09<00:35,  3.50it/s]"
          ]
        },
        {
          "output_type": "stream",
          "name": "stdout",
          "text": [
            "Epoch: 2/5............. Loss: 0.0852\n",
            "acc: 0.9727815634331215\n"
          ]
        },
        {
          "output_type": "stream",
          "name": "stderr",
          "text": [
            "\r 66%|██████▌   | 245/370 [01:09<00:35,  3.52it/s]"
          ]
        },
        {
          "output_type": "stream",
          "name": "stdout",
          "text": [
            "Epoch: 2/5............. Loss: 0.0737\n",
            "acc: 0.9757960413080895\n"
          ]
        },
        {
          "output_type": "stream",
          "name": "stderr",
          "text": [
            "\r 66%|██████▋   | 246/370 [01:10<00:35,  3.53it/s]"
          ]
        },
        {
          "output_type": "stream",
          "name": "stdout",
          "text": [
            "Epoch: 2/5............. Loss: 0.0832\n",
            "acc: 0.9725318761384335\n"
          ]
        },
        {
          "output_type": "stream",
          "name": "stderr",
          "text": [
            "\r 67%|██████▋   | 247/370 [01:10<00:34,  3.52it/s]"
          ]
        },
        {
          "output_type": "stream",
          "name": "stdout",
          "text": [
            "Epoch: 2/5............. Loss: 0.0883\n",
            "acc: 0.9698332074953668\n"
          ]
        },
        {
          "output_type": "stream",
          "name": "stderr",
          "text": [
            "\r 67%|██████▋   | 248/370 [01:10<00:34,  3.53it/s]"
          ]
        },
        {
          "output_type": "stream",
          "name": "stdout",
          "text": [
            "Epoch: 2/5............. Loss: 0.0996\n",
            "acc: 0.9680854930754971\n"
          ]
        },
        {
          "output_type": "stream",
          "name": "stderr",
          "text": [
            "\r 67%|██████▋   | 249/370 [01:11<00:34,  3.53it/s]"
          ]
        },
        {
          "output_type": "stream",
          "name": "stdout",
          "text": [
            "Epoch: 2/5............. Loss: 0.0959\n",
            "acc: 0.9677922261984906\n"
          ]
        },
        {
          "output_type": "stream",
          "name": "stderr",
          "text": [
            "\r 68%|██████▊   | 250/370 [01:11<00:34,  3.52it/s]"
          ]
        },
        {
          "output_type": "stream",
          "name": "stdout",
          "text": [
            "Epoch: 2/5............. Loss: 0.0881\n",
            "acc: 0.9716442953020135\n"
          ]
        },
        {
          "output_type": "stream",
          "name": "stderr",
          "text": [
            "\r 68%|██████▊   | 251/370 [01:11<00:33,  3.52it/s]"
          ]
        },
        {
          "output_type": "stream",
          "name": "stdout",
          "text": [
            "Epoch: 2/5............. Loss: 0.0865\n",
            "acc: 0.9715636282428257\n"
          ]
        },
        {
          "output_type": "stream",
          "name": "stderr",
          "text": [
            "\r 68%|██████▊   | 252/370 [01:11<00:33,  3.53it/s]"
          ]
        },
        {
          "output_type": "stream",
          "name": "stdout",
          "text": [
            "Epoch: 2/5............. Loss: 0.0770\n",
            "acc: 0.9737718110985112\n"
          ]
        },
        {
          "output_type": "stream",
          "name": "stderr",
          "text": [
            "\r 68%|██████▊   | 253/370 [01:12<00:33,  3.54it/s]"
          ]
        },
        {
          "output_type": "stream",
          "name": "stdout",
          "text": [
            "Epoch: 2/5............. Loss: 0.0940\n",
            "acc: 0.9688893462303629\n"
          ]
        },
        {
          "output_type": "stream",
          "name": "stderr",
          "text": [
            "\r 69%|██████▊   | 254/370 [01:12<00:32,  3.53it/s]"
          ]
        },
        {
          "output_type": "stream",
          "name": "stdout",
          "text": [
            "Epoch: 2/5............. Loss: 0.0808\n",
            "acc: 0.9721504546522162\n"
          ]
        },
        {
          "output_type": "stream",
          "name": "stderr",
          "text": [
            "\r 69%|██████▉   | 255/370 [01:12<00:32,  3.53it/s]"
          ]
        },
        {
          "output_type": "stream",
          "name": "stdout",
          "text": [
            "Epoch: 2/5............. Loss: 0.0756\n",
            "acc: 0.9747099184538563\n"
          ]
        },
        {
          "output_type": "stream",
          "name": "stderr",
          "text": [
            "\r 69%|██████▉   | 256/370 [01:12<00:32,  3.53it/s]"
          ]
        },
        {
          "output_type": "stream",
          "name": "stdout",
          "text": [
            "Epoch: 2/5............. Loss: 0.0788\n",
            "acc: 0.9720758504498692\n"
          ]
        },
        {
          "output_type": "stream",
          "name": "stderr",
          "text": [
            "\r 69%|██████▉   | 257/370 [01:13<00:32,  3.53it/s]"
          ]
        },
        {
          "output_type": "stream",
          "name": "stdout",
          "text": [
            "Epoch: 2/5............. Loss: 0.0975\n",
            "acc: 0.9675497393339717\n"
          ]
        },
        {
          "output_type": "stream",
          "name": "stderr",
          "text": [
            "\r 70%|██████▉   | 258/370 [01:13<00:31,  3.53it/s]"
          ]
        },
        {
          "output_type": "stream",
          "name": "stdout",
          "text": [
            "Epoch: 2/5............. Loss: 0.0763\n",
            "acc: 0.9747612551159618\n"
          ]
        },
        {
          "output_type": "stream",
          "name": "stderr",
          "text": [
            "\r 70%|███████   | 259/370 [01:13<00:31,  3.53it/s]"
          ]
        },
        {
          "output_type": "stream",
          "name": "stdout",
          "text": [
            "Epoch: 2/5............. Loss: 0.0856\n",
            "acc: 0.9730068589128992\n"
          ]
        },
        {
          "output_type": "stream",
          "name": "stderr",
          "text": [
            "\r 70%|███████   | 260/370 [01:14<00:31,  3.53it/s]"
          ]
        },
        {
          "output_type": "stream",
          "name": "stdout",
          "text": [
            "Epoch: 2/5............. Loss: 0.0814\n",
            "acc: 0.9734230333710784\n"
          ]
        },
        {
          "output_type": "stream",
          "name": "stderr",
          "text": [
            "\r 71%|███████   | 261/370 [01:14<00:30,  3.53it/s]"
          ]
        },
        {
          "output_type": "stream",
          "name": "stdout",
          "text": [
            "Epoch: 2/5............. Loss: 0.0989\n",
            "acc: 0.9674381054897739\n"
          ]
        },
        {
          "output_type": "stream",
          "name": "stderr",
          "text": [
            "\r 71%|███████   | 262/370 [01:14<00:30,  3.54it/s]"
          ]
        },
        {
          "output_type": "stream",
          "name": "stdout",
          "text": [
            "Epoch: 2/5............. Loss: 0.0798\n",
            "acc: 0.972396255620255\n"
          ]
        },
        {
          "output_type": "stream",
          "name": "stderr",
          "text": [
            "\r 71%|███████   | 263/370 [01:14<00:30,  3.53it/s]"
          ]
        },
        {
          "output_type": "stream",
          "name": "stdout",
          "text": [
            "Epoch: 2/5............. Loss: 0.0856\n",
            "acc: 0.9716831912349061\n"
          ]
        },
        {
          "output_type": "stream",
          "name": "stderr",
          "text": [
            "\r 71%|███████▏  | 264/370 [01:15<00:30,  3.52it/s]"
          ]
        },
        {
          "output_type": "stream",
          "name": "stdout",
          "text": [
            "Epoch: 2/5............. Loss: 0.0860\n",
            "acc: 0.9717572892040978\n"
          ]
        },
        {
          "output_type": "stream",
          "name": "stderr",
          "text": [
            "\r 72%|███████▏  | 265/370 [01:15<00:29,  3.52it/s]"
          ]
        },
        {
          "output_type": "stream",
          "name": "stdout",
          "text": [
            "Epoch: 2/5............. Loss: 0.0942\n",
            "acc: 0.9696601941747572\n"
          ]
        },
        {
          "output_type": "stream",
          "name": "stderr",
          "text": [
            "\r 72%|███████▏  | 266/370 [01:15<00:29,  3.52it/s]"
          ]
        },
        {
          "output_type": "stream",
          "name": "stdout",
          "text": [
            "Epoch: 2/5............. Loss: 0.0813\n",
            "acc: 0.9729804151034317\n"
          ]
        },
        {
          "output_type": "stream",
          "name": "stderr",
          "text": [
            "\r 72%|███████▏  | 267/370 [01:16<00:29,  3.53it/s]"
          ]
        },
        {
          "output_type": "stream",
          "name": "stdout",
          "text": [
            "Epoch: 2/5............. Loss: 0.1002\n",
            "acc: 0.9664217537595275\n"
          ]
        },
        {
          "output_type": "stream",
          "name": "stderr",
          "text": [
            "\r 72%|███████▏  | 268/370 [01:16<00:28,  3.53it/s]"
          ]
        },
        {
          "output_type": "stream",
          "name": "stdout",
          "text": [
            "Epoch: 2/5............. Loss: 0.0813\n",
            "acc: 0.9716543494257286\n"
          ]
        },
        {
          "output_type": "stream",
          "name": "stderr",
          "text": [
            "\r 73%|███████▎  | 269/370 [01:16<00:28,  3.53it/s]"
          ]
        },
        {
          "output_type": "stream",
          "name": "stdout",
          "text": [
            "Epoch: 2/5............. Loss: 0.0997\n",
            "acc: 0.966413947185291\n"
          ]
        },
        {
          "output_type": "stream",
          "name": "stderr",
          "text": [
            "\r 73%|███████▎  | 270/370 [01:16<00:28,  3.53it/s]"
          ]
        },
        {
          "output_type": "stream",
          "name": "stdout",
          "text": [
            "Epoch: 2/5............. Loss: 0.0832\n",
            "acc: 0.9727146447942849\n"
          ]
        },
        {
          "output_type": "stream",
          "name": "stderr",
          "text": [
            "\r 73%|███████▎  | 271/370 [01:17<00:28,  3.53it/s]"
          ]
        },
        {
          "output_type": "stream",
          "name": "stdout",
          "text": [
            "Epoch: 2/5............. Loss: 0.0914\n",
            "acc: 0.9701187497797668\n"
          ]
        },
        {
          "output_type": "stream",
          "name": "stderr",
          "text": [
            "\r 74%|███████▎  | 272/370 [01:17<00:27,  3.53it/s]"
          ]
        },
        {
          "output_type": "stream",
          "name": "stdout",
          "text": [
            "Epoch: 2/5............. Loss: 0.0903\n",
            "acc: 0.9706990057246159\n"
          ]
        },
        {
          "output_type": "stream",
          "name": "stderr",
          "text": [
            "\r 74%|███████▍  | 273/370 [01:17<00:27,  3.53it/s]"
          ]
        },
        {
          "output_type": "stream",
          "name": "stdout",
          "text": [
            "Epoch: 2/5............. Loss: 0.0880\n",
            "acc: 0.9717909690512431\n"
          ]
        },
        {
          "output_type": "stream",
          "name": "stderr",
          "text": [
            "\r 74%|███████▍  | 274/370 [01:18<00:27,  3.52it/s]"
          ]
        },
        {
          "output_type": "stream",
          "name": "stdout",
          "text": [
            "Epoch: 2/5............. Loss: 0.0821\n",
            "acc: 0.9723365172667157\n"
          ]
        },
        {
          "output_type": "stream",
          "name": "stderr",
          "text": [
            "\r 74%|███████▍  | 275/370 [01:18<00:26,  3.53it/s]"
          ]
        },
        {
          "output_type": "stream",
          "name": "stdout",
          "text": [
            "Epoch: 2/5............. Loss: 0.0829\n",
            "acc: 0.9716486397902327\n"
          ]
        },
        {
          "output_type": "stream",
          "name": "stderr",
          "text": [
            "\r 75%|███████▍  | 276/370 [01:18<00:26,  3.53it/s]"
          ]
        },
        {
          "output_type": "stream",
          "name": "stdout",
          "text": [
            "Epoch: 2/5............. Loss: 0.0914\n",
            "acc: 0.9697678477919358\n"
          ]
        },
        {
          "output_type": "stream",
          "name": "stderr",
          "text": [
            "\r 75%|███████▍  | 277/370 [01:18<00:26,  3.54it/s]"
          ]
        },
        {
          "output_type": "stream",
          "name": "stdout",
          "text": [
            "Epoch: 2/5............. Loss: 0.0909\n",
            "acc: 0.9710153678934815\n"
          ]
        },
        {
          "output_type": "stream",
          "name": "stderr",
          "text": [
            "\r 75%|███████▌  | 278/370 [01:19<00:26,  3.53it/s]"
          ]
        },
        {
          "output_type": "stream",
          "name": "stdout",
          "text": [
            "Epoch: 2/5............. Loss: 0.0770\n",
            "acc: 0.9742935767501174\n"
          ]
        },
        {
          "output_type": "stream",
          "name": "stderr",
          "text": [
            "\r 75%|███████▌  | 279/370 [01:19<00:25,  3.52it/s]"
          ]
        },
        {
          "output_type": "stream",
          "name": "stdout",
          "text": [
            "Epoch: 2/5............. Loss: 0.0872\n",
            "acc: 0.971519917683375\n"
          ]
        },
        {
          "output_type": "stream",
          "name": "stderr",
          "text": [
            "\r 76%|███████▌  | 280/370 [01:19<00:25,  3.53it/s]"
          ]
        },
        {
          "output_type": "stream",
          "name": "stdout",
          "text": [
            "Epoch: 2/5............. Loss: 0.0806\n",
            "acc: 0.9727869658344745\n"
          ]
        },
        {
          "output_type": "stream",
          "name": "stderr",
          "text": [
            "\r 76%|███████▌  | 281/370 [01:20<00:25,  3.54it/s]"
          ]
        },
        {
          "output_type": "stream",
          "name": "stdout",
          "text": [
            "Epoch: 2/5............. Loss: 0.0845\n",
            "acc: 0.9709028349165981\n"
          ]
        },
        {
          "output_type": "stream",
          "name": "stderr",
          "text": [
            "\r 76%|███████▌  | 282/370 [01:20<00:24,  3.54it/s]"
          ]
        },
        {
          "output_type": "stream",
          "name": "stdout",
          "text": [
            "Epoch: 2/5............. Loss: 0.0902\n",
            "acc: 0.9718123031006467\n"
          ]
        },
        {
          "output_type": "stream",
          "name": "stderr",
          "text": [
            "\r 76%|███████▋  | 283/370 [01:20<00:24,  3.53it/s]"
          ]
        },
        {
          "output_type": "stream",
          "name": "stdout",
          "text": [
            "Epoch: 2/5............. Loss: 0.0830\n",
            "acc: 0.9716052367957443\n"
          ]
        },
        {
          "output_type": "stream",
          "name": "stderr",
          "text": [
            "\r 77%|███████▋  | 284/370 [01:20<00:24,  3.53it/s]"
          ]
        },
        {
          "output_type": "stream",
          "name": "stdout",
          "text": [
            "Epoch: 2/5............. Loss: 0.0829\n",
            "acc: 0.972667200640769\n"
          ]
        },
        {
          "output_type": "stream",
          "name": "stderr",
          "text": [
            "\r 77%|███████▋  | 285/370 [01:21<00:24,  3.53it/s]"
          ]
        },
        {
          "output_type": "stream",
          "name": "stdout",
          "text": [
            "Epoch: 2/5............. Loss: 0.0839\n",
            "acc: 0.9733261339092872\n"
          ]
        },
        {
          "output_type": "stream",
          "name": "stderr",
          "text": [
            "\r 77%|███████▋  | 286/370 [01:21<00:23,  3.53it/s]"
          ]
        },
        {
          "output_type": "stream",
          "name": "stdout",
          "text": [
            "Epoch: 2/5............. Loss: 0.0794\n",
            "acc: 0.9740902261149998\n"
          ]
        },
        {
          "output_type": "stream",
          "name": "stderr",
          "text": [
            "\r 78%|███████▊  | 287/370 [01:21<00:23,  3.53it/s]"
          ]
        },
        {
          "output_type": "stream",
          "name": "stdout",
          "text": [
            "Epoch: 2/5............. Loss: 0.0882\n",
            "acc: 0.9700856327307327\n"
          ]
        },
        {
          "output_type": "stream",
          "name": "stderr",
          "text": [
            "\r 78%|███████▊  | 288/370 [01:22<00:23,  3.52it/s]"
          ]
        },
        {
          "output_type": "stream",
          "name": "stdout",
          "text": [
            "Epoch: 2/5............. Loss: 0.0748\n",
            "acc: 0.9738258711278729\n"
          ]
        },
        {
          "output_type": "stream",
          "name": "stderr",
          "text": [
            "\r 78%|███████▊  | 289/370 [01:22<00:23,  3.52it/s]"
          ]
        },
        {
          "output_type": "stream",
          "name": "stdout",
          "text": [
            "Epoch: 2/5............. Loss: 0.0879\n",
            "acc: 0.9697776498524862\n"
          ]
        },
        {
          "output_type": "stream",
          "name": "stderr",
          "text": [
            "\r 78%|███████▊  | 290/370 [01:22<00:22,  3.51it/s]"
          ]
        },
        {
          "output_type": "stream",
          "name": "stdout",
          "text": [
            "Epoch: 2/5............. Loss: 0.0892\n",
            "acc: 0.9688798192551563\n"
          ]
        },
        {
          "output_type": "stream",
          "name": "stderr",
          "text": [
            "\r 79%|███████▊  | 291/370 [01:22<00:22,  3.52it/s]"
          ]
        },
        {
          "output_type": "stream",
          "name": "stdout",
          "text": [
            "Epoch: 2/5............. Loss: 0.0732\n",
            "acc: 0.9758231457251103\n"
          ]
        },
        {
          "output_type": "stream",
          "name": "stderr",
          "text": [
            "\r 79%|███████▉  | 292/370 [01:23<00:22,  3.51it/s]"
          ]
        },
        {
          "output_type": "stream",
          "name": "stdout",
          "text": [
            "Epoch: 2/5............. Loss: 0.0989\n",
            "acc: 0.967212545971827\n"
          ]
        },
        {
          "output_type": "stream",
          "name": "stderr",
          "text": [
            "\r 79%|███████▉  | 293/370 [01:23<00:22,  3.50it/s]"
          ]
        },
        {
          "output_type": "stream",
          "name": "stdout",
          "text": [
            "Epoch: 2/5............. Loss: 0.0828\n",
            "acc: 0.9723405874296149\n"
          ]
        },
        {
          "output_type": "stream",
          "name": "stderr",
          "text": [
            "\r 79%|███████▉  | 294/370 [01:23<00:21,  3.49it/s]"
          ]
        },
        {
          "output_type": "stream",
          "name": "stdout",
          "text": [
            "Epoch: 2/5............. Loss: 0.0914\n",
            "acc: 0.9706393390305308\n"
          ]
        },
        {
          "output_type": "stream",
          "name": "stderr",
          "text": [
            "\r 80%|███████▉  | 295/370 [01:24<00:21,  3.49it/s]"
          ]
        },
        {
          "output_type": "stream",
          "name": "stdout",
          "text": [
            "Epoch: 2/5............. Loss: 0.0838\n",
            "acc: 0.9710837708643523\n"
          ]
        },
        {
          "output_type": "stream",
          "name": "stderr",
          "text": [
            "\r 80%|████████  | 296/370 [01:24<00:21,  3.50it/s]"
          ]
        },
        {
          "output_type": "stream",
          "name": "stdout",
          "text": [
            "Epoch: 2/5............. Loss: 0.1095\n",
            "acc: 0.9657675555895163\n"
          ]
        },
        {
          "output_type": "stream",
          "name": "stderr",
          "text": [
            "\r 80%|████████  | 297/370 [01:24<00:20,  3.51it/s]"
          ]
        },
        {
          "output_type": "stream",
          "name": "stdout",
          "text": [
            "Epoch: 2/5............. Loss: 0.0818\n",
            "acc: 0.9718176360936464\n"
          ]
        },
        {
          "output_type": "stream",
          "name": "stderr",
          "text": [
            "\r 81%|████████  | 298/370 [01:24<00:20,  3.54it/s]"
          ]
        },
        {
          "output_type": "stream",
          "name": "stdout",
          "text": [
            "Epoch: 2/5............. Loss: 0.0881\n",
            "acc: 0.9702446982055465\n"
          ]
        },
        {
          "output_type": "stream",
          "name": "stderr",
          "text": [
            "\r 81%|████████  | 299/370 [01:25<00:20,  3.51it/s]"
          ]
        },
        {
          "output_type": "stream",
          "name": "stdout",
          "text": [
            "Epoch: 2/5............. Loss: 0.1134\n",
            "acc: 0.9648798521256932\n"
          ]
        },
        {
          "output_type": "stream",
          "name": "stderr",
          "text": [
            "\r 81%|████████  | 300/370 [01:25<00:19,  3.52it/s]"
          ]
        },
        {
          "output_type": "stream",
          "name": "stdout",
          "text": [
            "Epoch: 2/5............. Loss: 0.0881\n",
            "acc: 0.969482850813536\n"
          ]
        },
        {
          "output_type": "stream",
          "name": "stderr",
          "text": [
            "\r 81%|████████▏ | 301/370 [01:25<00:19,  3.51it/s]"
          ]
        },
        {
          "output_type": "stream",
          "name": "stdout",
          "text": [
            "Epoch: 2/5............. Loss: 0.0839\n",
            "acc: 0.9721506979265483\n"
          ]
        },
        {
          "output_type": "stream",
          "name": "stderr",
          "text": [
            "\r 82%|████████▏ | 302/370 [01:26<00:19,  3.51it/s]"
          ]
        },
        {
          "output_type": "stream",
          "name": "stdout",
          "text": [
            "Epoch: 2/5............. Loss: 0.0768\n",
            "acc: 0.9737518113555527\n"
          ]
        },
        {
          "output_type": "stream",
          "name": "stderr",
          "text": [
            "\r 82%|████████▏ | 303/370 [01:26<00:19,  3.51it/s]"
          ]
        },
        {
          "output_type": "stream",
          "name": "stdout",
          "text": [
            "Epoch: 2/5............. Loss: 0.0749\n",
            "acc: 0.9754308888137885\n"
          ]
        },
        {
          "output_type": "stream",
          "name": "stderr",
          "text": [
            "\r 82%|████████▏ | 304/370 [01:26<00:18,  3.48it/s]"
          ]
        },
        {
          "output_type": "stream",
          "name": "stdout",
          "text": [
            "Epoch: 2/5............. Loss: 0.1171\n",
            "acc: 0.9631551270815074\n"
          ]
        },
        {
          "output_type": "stream",
          "name": "stderr",
          "text": [
            "\r 82%|████████▏ | 305/370 [01:26<00:18,  3.49it/s]"
          ]
        },
        {
          "output_type": "stream",
          "name": "stdout",
          "text": [
            "Epoch: 2/5............. Loss: 0.0869\n",
            "acc: 0.9713503581205235\n"
          ]
        },
        {
          "output_type": "stream",
          "name": "stderr",
          "text": [
            "\r 83%|████████▎ | 306/370 [01:27<00:18,  3.50it/s]"
          ]
        },
        {
          "output_type": "stream",
          "name": "stdout",
          "text": [
            "Epoch: 2/5............. Loss: 0.0771\n",
            "acc: 0.974199159298449\n"
          ]
        },
        {
          "output_type": "stream",
          "name": "stderr",
          "text": [
            "\r 83%|████████▎ | 307/370 [01:27<00:18,  3.50it/s]"
          ]
        },
        {
          "output_type": "stream",
          "name": "stdout",
          "text": [
            "Epoch: 2/5............. Loss: 0.0796\n",
            "acc: 0.9739230769230769\n"
          ]
        },
        {
          "output_type": "stream",
          "name": "stderr",
          "text": [
            "\r 83%|████████▎ | 308/370 [01:27<00:17,  3.51it/s]"
          ]
        },
        {
          "output_type": "stream",
          "name": "stdout",
          "text": [
            "Epoch: 2/5............. Loss: 0.1043\n",
            "acc: 0.9675835631178963\n"
          ]
        },
        {
          "output_type": "stream",
          "name": "stderr",
          "text": [
            "\r 84%|████████▎ | 309/370 [01:28<00:17,  3.51it/s]"
          ]
        },
        {
          "output_type": "stream",
          "name": "stdout",
          "text": [
            "Epoch: 2/5............. Loss: 0.0809\n",
            "acc: 0.9731968250316346\n"
          ]
        },
        {
          "output_type": "stream",
          "name": "stderr",
          "text": [
            "\r 84%|████████▍ | 310/370 [01:28<00:17,  3.51it/s]"
          ]
        },
        {
          "output_type": "stream",
          "name": "stdout",
          "text": [
            "Epoch: 2/5............. Loss: 0.0791\n",
            "acc: 0.974647708114642\n"
          ]
        },
        {
          "output_type": "stream",
          "name": "stderr",
          "text": [
            "\r 84%|████████▍ | 311/370 [01:28<00:16,  3.51it/s]"
          ]
        },
        {
          "output_type": "stream",
          "name": "stdout",
          "text": [
            "Epoch: 2/5............. Loss: 0.0769\n",
            "acc: 0.9740904539385847\n"
          ]
        },
        {
          "output_type": "stream",
          "name": "stderr",
          "text": [
            "\r 84%|████████▍ | 312/370 [01:28<00:16,  3.53it/s]"
          ]
        },
        {
          "output_type": "stream",
          "name": "stdout",
          "text": [
            "Epoch: 2/5............. Loss: 0.0793\n",
            "acc: 0.9741309093278597\n"
          ]
        },
        {
          "output_type": "stream",
          "name": "stderr",
          "text": [
            "\r 85%|████████▍ | 313/370 [01:29<00:16,  3.52it/s]"
          ]
        },
        {
          "output_type": "stream",
          "name": "stdout",
          "text": [
            "Epoch: 2/5............. Loss: 0.0800\n",
            "acc: 0.9728750700763293\n"
          ]
        },
        {
          "output_type": "stream",
          "name": "stderr",
          "text": [
            "\r 85%|████████▍ | 314/370 [01:29<00:15,  3.53it/s]"
          ]
        },
        {
          "output_type": "stream",
          "name": "stdout",
          "text": [
            "Epoch: 2/5............. Loss: 0.0806\n",
            "acc: 0.9734709695603156\n"
          ]
        },
        {
          "output_type": "stream",
          "name": "stderr",
          "text": [
            "\r 85%|████████▌ | 315/370 [01:29<00:15,  3.53it/s]"
          ]
        },
        {
          "output_type": "stream",
          "name": "stdout",
          "text": [
            "Epoch: 2/5............. Loss: 0.0826\n",
            "acc: 0.9728378760728096\n"
          ]
        },
        {
          "output_type": "stream",
          "name": "stderr",
          "text": [
            "\r 85%|████████▌ | 316/370 [01:30<00:15,  3.53it/s]"
          ]
        },
        {
          "output_type": "stream",
          "name": "stdout",
          "text": [
            "Epoch: 2/5............. Loss: 0.0911\n",
            "acc: 0.970051085568327\n"
          ]
        },
        {
          "output_type": "stream",
          "name": "stderr",
          "text": [
            "\r 86%|████████▌ | 317/370 [01:30<00:15,  3.53it/s]"
          ]
        },
        {
          "output_type": "stream",
          "name": "stdout",
          "text": [
            "Epoch: 2/5............. Loss: 0.0775\n",
            "acc: 0.974188205252079\n"
          ]
        },
        {
          "output_type": "stream",
          "name": "stderr",
          "text": [
            "\r 86%|████████▌ | 318/370 [01:30<00:14,  3.52it/s]"
          ]
        },
        {
          "output_type": "stream",
          "name": "stdout",
          "text": [
            "Epoch: 2/5............. Loss: 0.0749\n",
            "acc: 0.9752105085887505\n"
          ]
        },
        {
          "output_type": "stream",
          "name": "stderr",
          "text": [
            "\r 86%|████████▌ | 319/370 [01:30<00:14,  3.52it/s]"
          ]
        },
        {
          "output_type": "stream",
          "name": "stdout",
          "text": [
            "Epoch: 2/5............. Loss: 0.0820\n",
            "acc: 0.9738544157422289\n"
          ]
        },
        {
          "output_type": "stream",
          "name": "stderr",
          "text": [
            "\r 86%|████████▋ | 320/370 [01:31<00:14,  3.53it/s]"
          ]
        },
        {
          "output_type": "stream",
          "name": "stdout",
          "text": [
            "Epoch: 2/5............. Loss: 0.0879\n",
            "acc: 0.9717264760442653\n"
          ]
        },
        {
          "output_type": "stream",
          "name": "stderr",
          "text": [
            "\r 87%|████████▋ | 321/370 [01:31<00:13,  3.54it/s]"
          ]
        },
        {
          "output_type": "stream",
          "name": "stdout",
          "text": [
            "Epoch: 2/5............. Loss: 0.0870\n",
            "acc: 0.9709064851307775\n"
          ]
        },
        {
          "output_type": "stream",
          "name": "stderr",
          "text": [
            "\r 87%|████████▋ | 322/370 [01:31<00:13,  3.52it/s]"
          ]
        },
        {
          "output_type": "stream",
          "name": "stdout",
          "text": [
            "Epoch: 2/5............. Loss: 0.0889\n",
            "acc: 0.9708855325293682\n"
          ]
        },
        {
          "output_type": "stream",
          "name": "stderr",
          "text": [
            "\r 87%|████████▋ | 323/370 [01:32<00:13,  3.54it/s]"
          ]
        },
        {
          "output_type": "stream",
          "name": "stdout",
          "text": [
            "Epoch: 2/5............. Loss: 0.0982\n",
            "acc: 0.9682545060306275\n"
          ]
        },
        {
          "output_type": "stream",
          "name": "stderr",
          "text": [
            "\r 88%|████████▊ | 324/370 [01:32<00:13,  3.54it/s]"
          ]
        },
        {
          "output_type": "stream",
          "name": "stdout",
          "text": [
            "Epoch: 2/5............. Loss: 0.0832\n",
            "acc: 0.9723198250956508\n"
          ]
        },
        {
          "output_type": "stream",
          "name": "stderr",
          "text": [
            "\r 88%|████████▊ | 325/370 [01:32<00:12,  3.52it/s]"
          ]
        },
        {
          "output_type": "stream",
          "name": "stdout",
          "text": [
            "Epoch: 2/5............. Loss: 0.0940\n",
            "acc: 0.9694590458447002\n"
          ]
        },
        {
          "output_type": "stream",
          "name": "stderr",
          "text": [
            "\r 88%|████████▊ | 326/370 [01:32<00:12,  3.52it/s]"
          ]
        },
        {
          "output_type": "stream",
          "name": "stdout",
          "text": [
            "Epoch: 2/5............. Loss: 0.0838\n",
            "acc: 0.9720494817786693\n"
          ]
        },
        {
          "output_type": "stream",
          "name": "stderr",
          "text": [
            "\r 88%|████████▊ | 327/370 [01:33<00:12,  3.52it/s]"
          ]
        },
        {
          "output_type": "stream",
          "name": "stdout",
          "text": [
            "Epoch: 2/5............. Loss: 0.0827\n",
            "acc: 0.9726313660723314\n"
          ]
        },
        {
          "output_type": "stream",
          "name": "stderr",
          "text": [
            "\r 89%|████████▊ | 328/370 [01:33<00:11,  3.53it/s]"
          ]
        },
        {
          "output_type": "stream",
          "name": "stdout",
          "text": [
            "Epoch: 2/5............. Loss: 0.0774\n",
            "acc: 0.9742993088597923\n"
          ]
        },
        {
          "output_type": "stream",
          "name": "stderr",
          "text": [
            "\r 89%|████████▉ | 329/370 [01:33<00:11,  3.55it/s]"
          ]
        },
        {
          "output_type": "stream",
          "name": "stdout",
          "text": [
            "Epoch: 2/5............. Loss: 0.0735\n",
            "acc: 0.9747879199185613\n"
          ]
        },
        {
          "output_type": "stream",
          "name": "stderr",
          "text": [
            "\r 89%|████████▉ | 330/370 [01:34<00:11,  3.54it/s]"
          ]
        },
        {
          "output_type": "stream",
          "name": "stdout",
          "text": [
            "Epoch: 2/5............. Loss: 0.0931\n",
            "acc: 0.969951205813178\n"
          ]
        },
        {
          "output_type": "stream",
          "name": "stderr",
          "text": [
            "\r 89%|████████▉ | 331/370 [01:34<00:11,  3.51it/s]"
          ]
        },
        {
          "output_type": "stream",
          "name": "stdout",
          "text": [
            "Epoch: 2/5............. Loss: 0.0794\n",
            "acc: 0.9742772982600356\n"
          ]
        },
        {
          "output_type": "stream",
          "name": "stderr",
          "text": [
            "\r 90%|████████▉ | 332/370 [01:34<00:10,  3.51it/s]"
          ]
        },
        {
          "output_type": "stream",
          "name": "stdout",
          "text": [
            "Epoch: 2/5............. Loss: 0.0698\n",
            "acc: 0.9769856758846707\n"
          ]
        },
        {
          "output_type": "stream",
          "name": "stderr",
          "text": [
            "\r 90%|█████████ | 333/370 [01:34<00:10,  3.54it/s]"
          ]
        },
        {
          "output_type": "stream",
          "name": "stdout",
          "text": [
            "Epoch: 2/5............. Loss: 0.0811\n",
            "acc: 0.9719407377679676\n"
          ]
        },
        {
          "output_type": "stream",
          "name": "stderr",
          "text": [
            "\r 90%|█████████ | 334/370 [01:35<00:10,  3.53it/s]"
          ]
        },
        {
          "output_type": "stream",
          "name": "stdout",
          "text": [
            "Epoch: 2/5............. Loss: 0.0869\n",
            "acc: 0.9727848322664148\n"
          ]
        },
        {
          "output_type": "stream",
          "name": "stderr",
          "text": [
            "\r 91%|█████████ | 335/370 [01:35<00:09,  3.53it/s]"
          ]
        },
        {
          "output_type": "stream",
          "name": "stdout",
          "text": [
            "Epoch: 2/5............. Loss: 0.0818\n",
            "acc: 0.9728172999191592\n"
          ]
        },
        {
          "output_type": "stream",
          "name": "stderr",
          "text": [
            "\r 91%|█████████ | 336/370 [01:35<00:09,  3.54it/s]"
          ]
        },
        {
          "output_type": "stream",
          "name": "stdout",
          "text": [
            "Epoch: 2/5............. Loss: 0.0792\n",
            "acc: 0.9729822684194436\n"
          ]
        },
        {
          "output_type": "stream",
          "name": "stderr",
          "text": [
            "\r 91%|█████████ | 337/370 [01:35<00:09,  3.52it/s]"
          ]
        },
        {
          "output_type": "stream",
          "name": "stdout",
          "text": [
            "Epoch: 2/5............. Loss: 0.0830\n",
            "acc: 0.9731184751373176\n"
          ]
        },
        {
          "output_type": "stream",
          "name": "stderr",
          "text": [
            "\r 91%|█████████▏| 338/370 [01:36<00:09,  3.53it/s]"
          ]
        },
        {
          "output_type": "stream",
          "name": "stdout",
          "text": [
            "Epoch: 2/5............. Loss: 0.0792\n",
            "acc: 0.9732433196663368\n"
          ]
        },
        {
          "output_type": "stream",
          "name": "stderr",
          "text": [
            "\r 92%|█████████▏| 339/370 [01:36<00:08,  3.53it/s]"
          ]
        },
        {
          "output_type": "stream",
          "name": "stdout",
          "text": [
            "Epoch: 2/5............. Loss: 0.0897\n",
            "acc: 0.9703183160056476\n"
          ]
        },
        {
          "output_type": "stream",
          "name": "stderr",
          "text": [
            "\r 92%|█████████▏| 340/370 [01:36<00:08,  3.51it/s]"
          ]
        },
        {
          "output_type": "stream",
          "name": "stdout",
          "text": [
            "Epoch: 2/5............. Loss: 0.0924\n",
            "acc: 0.9701135023584906\n"
          ]
        },
        {
          "output_type": "stream",
          "name": "stderr",
          "text": [
            "\r 92%|█████████▏| 341/370 [01:37<00:08,  3.51it/s]"
          ]
        },
        {
          "output_type": "stream",
          "name": "stdout",
          "text": [
            "Epoch: 2/5............. Loss: 0.0805\n",
            "acc: 0.9732687477574453\n"
          ]
        },
        {
          "output_type": "stream",
          "name": "stderr",
          "text": [
            "\r 92%|█████████▏| 342/370 [01:37<00:08,  3.50it/s]"
          ]
        },
        {
          "output_type": "stream",
          "name": "stdout",
          "text": [
            "Epoch: 2/5............. Loss: 0.0770\n",
            "acc: 0.9748093226776869\n"
          ]
        },
        {
          "output_type": "stream",
          "name": "stderr",
          "text": [
            "\r 93%|█████████▎| 343/370 [01:37<00:07,  3.47it/s]"
          ]
        },
        {
          "output_type": "stream",
          "name": "stdout",
          "text": [
            "Epoch: 2/5............. Loss: 0.0850\n",
            "acc: 0.9719721228103221\n"
          ]
        },
        {
          "output_type": "stream",
          "name": "stderr",
          "text": [
            "\r 93%|█████████▎| 344/370 [01:37<00:07,  3.49it/s]"
          ]
        },
        {
          "output_type": "stream",
          "name": "stdout",
          "text": [
            "Epoch: 2/5............. Loss: 0.0797\n",
            "acc: 0.9732510989198214\n"
          ]
        },
        {
          "output_type": "stream",
          "name": "stderr",
          "text": [
            "\r 93%|█████████▎| 345/370 [01:38<00:07,  3.50it/s]"
          ]
        },
        {
          "output_type": "stream",
          "name": "stdout",
          "text": [
            "Epoch: 2/5............. Loss: 0.0801\n",
            "acc: 0.9729146766092504\n"
          ]
        },
        {
          "output_type": "stream",
          "name": "stderr",
          "text": [
            "\r 94%|█████████▎| 346/370 [01:38<00:06,  3.51it/s]"
          ]
        },
        {
          "output_type": "stream",
          "name": "stdout",
          "text": [
            "Epoch: 2/5............. Loss: 0.0783\n",
            "acc: 0.9744581478508356\n"
          ]
        },
        {
          "output_type": "stream",
          "name": "stderr",
          "text": [
            "\r 94%|█████████▍| 347/370 [01:38<00:06,  3.51it/s]"
          ]
        },
        {
          "output_type": "stream",
          "name": "stdout",
          "text": [
            "Epoch: 2/5............. Loss: 0.0810\n",
            "acc: 0.9722137637028014\n"
          ]
        },
        {
          "output_type": "stream",
          "name": "stderr",
          "text": [
            "\r 94%|█████████▍| 348/370 [01:39<00:06,  3.51it/s]"
          ]
        },
        {
          "output_type": "stream",
          "name": "stdout",
          "text": [
            "Epoch: 2/5............. Loss: 0.0821\n",
            "acc: 0.9722549580793967\n"
          ]
        },
        {
          "output_type": "stream",
          "name": "stderr",
          "text": [
            "\r 94%|█████████▍| 349/370 [01:39<00:05,  3.52it/s]"
          ]
        },
        {
          "output_type": "stream",
          "name": "stdout",
          "text": [
            "Epoch: 2/5............. Loss: 0.0718\n",
            "acc: 0.9759299035150524\n"
          ]
        },
        {
          "output_type": "stream",
          "name": "stderr",
          "text": [
            "\r 95%|█████████▍| 350/370 [01:39<00:05,  3.52it/s]"
          ]
        },
        {
          "output_type": "stream",
          "name": "stdout",
          "text": [
            "Epoch: 2/5............. Loss: 0.0768\n",
            "acc: 0.9757306664367618\n"
          ]
        },
        {
          "output_type": "stream",
          "name": "stderr",
          "text": [
            "\r 95%|█████████▍| 351/370 [01:39<00:05,  3.54it/s]"
          ]
        },
        {
          "output_type": "stream",
          "name": "stdout",
          "text": [
            "Epoch: 2/5............. Loss: 0.0838\n",
            "acc: 0.9720127555805665\n"
          ]
        },
        {
          "output_type": "stream",
          "name": "stderr",
          "text": [
            "\r 95%|█████████▌| 352/370 [01:40<00:05,  3.52it/s]"
          ]
        },
        {
          "output_type": "stream",
          "name": "stdout",
          "text": [
            "Epoch: 2/5............. Loss: 0.0909\n",
            "acc: 0.9684883543918404\n"
          ]
        },
        {
          "output_type": "stream",
          "name": "stderr",
          "text": [
            "\r 95%|█████████▌| 353/370 [01:40<00:04,  3.50it/s]"
          ]
        },
        {
          "output_type": "stream",
          "name": "stdout",
          "text": [
            "Epoch: 2/5............. Loss: 0.0806\n",
            "acc: 0.972425565440042\n"
          ]
        },
        {
          "output_type": "stream",
          "name": "stderr",
          "text": [
            "\r 96%|█████████▌| 354/370 [01:40<00:04,  3.48it/s]"
          ]
        },
        {
          "output_type": "stream",
          "name": "stdout",
          "text": [
            "Epoch: 2/5............. Loss: 0.0770\n",
            "acc: 0.9738368172623061\n"
          ]
        },
        {
          "output_type": "stream",
          "name": "stderr",
          "text": [
            "\r 96%|█████████▌| 355/370 [01:41<00:04,  3.48it/s]"
          ]
        },
        {
          "output_type": "stream",
          "name": "stdout",
          "text": [
            "Epoch: 2/5............. Loss: 0.0828\n",
            "acc: 0.973068693278241\n"
          ]
        },
        {
          "output_type": "stream",
          "name": "stderr",
          "text": [
            "\r 96%|█████████▌| 356/370 [01:41<00:04,  3.49it/s]"
          ]
        },
        {
          "output_type": "stream",
          "name": "stdout",
          "text": [
            "Epoch: 2/5............. Loss: 0.0786\n",
            "acc: 0.9752214992095879\n"
          ]
        },
        {
          "output_type": "stream",
          "name": "stderr",
          "text": [
            "\r 96%|█████████▋| 357/370 [01:41<00:03,  3.50it/s]"
          ]
        },
        {
          "output_type": "stream",
          "name": "stdout",
          "text": [
            "Epoch: 2/5............. Loss: 0.0829\n",
            "acc: 0.9723509618436925\n"
          ]
        },
        {
          "output_type": "stream",
          "name": "stderr",
          "text": [
            "\r 97%|█████████▋| 358/370 [01:41<00:03,  3.51it/s]"
          ]
        },
        {
          "output_type": "stream",
          "name": "stdout",
          "text": [
            "Epoch: 2/5............. Loss: 0.0864\n",
            "acc: 0.9682885906040268\n"
          ]
        },
        {
          "output_type": "stream",
          "name": "stderr",
          "text": [
            "\r 97%|█████████▋| 359/370 [01:42<00:03,  3.50it/s]"
          ]
        },
        {
          "output_type": "stream",
          "name": "stdout",
          "text": [
            "Epoch: 2/5............. Loss: 0.0811\n",
            "acc: 0.9712404598905958\n"
          ]
        },
        {
          "output_type": "stream",
          "name": "stderr",
          "text": [
            "\r 97%|█████████▋| 360/370 [01:42<00:02,  3.52it/s]"
          ]
        },
        {
          "output_type": "stream",
          "name": "stdout",
          "text": [
            "Epoch: 2/5............. Loss: 0.0855\n",
            "acc: 0.9710541949963694\n"
          ]
        },
        {
          "output_type": "stream",
          "name": "stderr",
          "text": [
            "\r 98%|█████████▊| 361/370 [01:42<00:02,  3.53it/s]"
          ]
        },
        {
          "output_type": "stream",
          "name": "stdout",
          "text": [
            "Epoch: 2/5............. Loss: 0.0833\n",
            "acc: 0.9725517141617243\n"
          ]
        },
        {
          "output_type": "stream",
          "name": "stderr",
          "text": [
            "\r 98%|█████████▊| 362/370 [01:43<00:02,  3.52it/s]"
          ]
        },
        {
          "output_type": "stream",
          "name": "stdout",
          "text": [
            "Epoch: 2/5............. Loss: 0.0841\n",
            "acc: 0.9706326334568409\n"
          ]
        },
        {
          "output_type": "stream",
          "name": "stderr",
          "text": [
            "\r 98%|█████████▊| 363/370 [01:43<00:01,  3.53it/s]"
          ]
        },
        {
          "output_type": "stream",
          "name": "stdout",
          "text": [
            "Epoch: 2/5............. Loss: 0.0914\n",
            "acc: 0.9690803565259448\n"
          ]
        },
        {
          "output_type": "stream",
          "name": "stderr",
          "text": [
            "\r 98%|█████████▊| 364/370 [01:43<00:01,  3.52it/s]"
          ]
        },
        {
          "output_type": "stream",
          "name": "stdout",
          "text": [
            "Epoch: 2/5............. Loss: 0.0825\n",
            "acc: 0.972560676836638\n"
          ]
        },
        {
          "output_type": "stream",
          "name": "stderr",
          "text": [
            "\r 99%|█████████▊| 365/370 [01:43<00:01,  3.53it/s]"
          ]
        },
        {
          "output_type": "stream",
          "name": "stdout",
          "text": [
            "Epoch: 2/5............. Loss: 0.0859\n",
            "acc: 0.9699770525242223\n"
          ]
        },
        {
          "output_type": "stream",
          "name": "stderr",
          "text": [
            "\r 99%|█████████▉| 366/370 [01:44<00:01,  3.53it/s]"
          ]
        },
        {
          "output_type": "stream",
          "name": "stdout",
          "text": [
            "Epoch: 2/5............. Loss: 0.0875\n",
            "acc: 0.9705610255732505\n"
          ]
        },
        {
          "output_type": "stream",
          "name": "stderr",
          "text": [
            "\r 99%|█████████▉| 367/370 [01:44<00:00,  3.53it/s]"
          ]
        },
        {
          "output_type": "stream",
          "name": "stdout",
          "text": [
            "Epoch: 2/5............. Loss: 0.0903\n",
            "acc: 0.9698138255839681\n"
          ]
        },
        {
          "output_type": "stream",
          "name": "stderr",
          "text": [
            "\r 99%|█████████▉| 368/370 [01:44<00:00,  3.52it/s]"
          ]
        },
        {
          "output_type": "stream",
          "name": "stdout",
          "text": [
            "Epoch: 2/5............. Loss: 0.0812\n",
            "acc: 0.9725869993434012\n"
          ]
        },
        {
          "output_type": "stream",
          "name": "stderr",
          "text": [
            "\r100%|█████████▉| 369/370 [01:45<00:00,  3.53it/s]"
          ]
        },
        {
          "output_type": "stream",
          "name": "stdout",
          "text": [
            "Epoch: 2/5............. Loss: 0.0875\n",
            "acc: 0.9703120867495372\n",
            "Epoch: 2/5............. "
          ]
        },
        {
          "output_type": "stream",
          "name": "stderr",
          "text": [
            "\r100%|██████████| 370/370 [01:45<00:00,  3.52it/s]\n"
          ]
        },
        {
          "output_type": "stream",
          "name": "stdout",
          "text": [
            "Loss: 0.0695\n",
            "acc: 0.9753756260434057\n",
            "Epochs: 3 | Train Loss: 0.000171746636624448         | Train Accuracy: 0.18215088350439107\n",
            "\n",
            "Decaying rate\n"
          ]
        },
        {
          "output_type": "stream",
          "name": "stderr",
          "text": [
            "\r  0%|          | 0/370 [00:00<?, ?it/s]"
          ]
        },
        {
          "output_type": "stream",
          "name": "stdout",
          "text": [
            "Epoch: 3/5............. "
          ]
        },
        {
          "output_type": "stream",
          "name": "stderr",
          "text": [
            "\r  0%|          | 1/370 [00:00<01:44,  3.54it/s]"
          ]
        },
        {
          "output_type": "stream",
          "name": "stdout",
          "text": [
            "Loss: 0.0881\n",
            "acc: 0.9731908822455954\n",
            "Epoch: 3/5............. "
          ]
        },
        {
          "output_type": "stream",
          "name": "stderr",
          "text": [
            "\r  1%|          | 2/370 [00:00<01:44,  3.53it/s]"
          ]
        },
        {
          "output_type": "stream",
          "name": "stdout",
          "text": [
            "Loss: 0.0755\n",
            "acc: 0.9747885384564946\n",
            "Epoch: 3/5............. "
          ]
        },
        {
          "output_type": "stream",
          "name": "stderr",
          "text": [
            "\r  1%|          | 3/370 [00:00<01:43,  3.54it/s]"
          ]
        },
        {
          "output_type": "stream",
          "name": "stdout",
          "text": [
            "Loss: 0.0843\n",
            "acc: 0.973246199949453\n",
            "Epoch: 3/5............. "
          ]
        },
        {
          "output_type": "stream",
          "name": "stderr",
          "text": [
            "\r  1%|          | 4/370 [00:01<01:43,  3.55it/s]"
          ]
        },
        {
          "output_type": "stream",
          "name": "stdout",
          "text": [
            "Loss: 0.0858\n",
            "acc: 0.9720881358158474\n",
            "Epoch: 3/5............. "
          ]
        },
        {
          "output_type": "stream",
          "name": "stderr",
          "text": [
            "\r  1%|▏         | 5/370 [00:01<01:43,  3.52it/s]"
          ]
        },
        {
          "output_type": "stream",
          "name": "stdout",
          "text": [
            "Loss: 0.0956\n",
            "acc: 0.9672076736698861\n",
            "Epoch: 3/5............. "
          ]
        },
        {
          "output_type": "stream",
          "name": "stderr",
          "text": [
            "\r  2%|▏         | 6/370 [00:01<01:42,  3.54it/s]"
          ]
        },
        {
          "output_type": "stream",
          "name": "stdout",
          "text": [
            "Loss: 0.0860\n",
            "acc: 0.9714015748031496\n",
            "Epoch: 3/5............. "
          ]
        },
        {
          "output_type": "stream",
          "name": "stderr",
          "text": [
            "\r  2%|▏         | 7/370 [00:01<01:42,  3.53it/s]"
          ]
        },
        {
          "output_type": "stream",
          "name": "stdout",
          "text": [
            "Loss: 0.0844\n",
            "acc: 0.9720595864522344\n",
            "Epoch: 3/5............. "
          ]
        },
        {
          "output_type": "stream",
          "name": "stderr",
          "text": [
            "\r  2%|▏         | 8/370 [00:02<01:42,  3.52it/s]"
          ]
        },
        {
          "output_type": "stream",
          "name": "stdout",
          "text": [
            "Loss: 0.0962\n",
            "acc: 0.9696242735504798\n",
            "Epoch: 3/5............. "
          ]
        },
        {
          "output_type": "stream",
          "name": "stderr",
          "text": [
            "\r  2%|▏         | 9/370 [00:02<01:42,  3.53it/s]"
          ]
        },
        {
          "output_type": "stream",
          "name": "stdout",
          "text": [
            "Loss: 0.0852\n",
            "acc: 0.9711272909866935\n",
            "Epoch: 3/5............. "
          ]
        },
        {
          "output_type": "stream",
          "name": "stderr",
          "text": [
            "\r  3%|▎         | 10/370 [00:02<01:41,  3.54it/s]"
          ]
        },
        {
          "output_type": "stream",
          "name": "stdout",
          "text": [
            "Loss: 0.0949\n",
            "acc: 0.968824181041304\n",
            "Epoch: 3/5............. "
          ]
        },
        {
          "output_type": "stream",
          "name": "stderr",
          "text": [
            "\r  3%|▎         | 11/370 [00:03<01:41,  3.52it/s]"
          ]
        },
        {
          "output_type": "stream",
          "name": "stdout",
          "text": [
            "Loss: 0.0891\n",
            "acc: 0.9707725089845116\n",
            "Epoch: 3/5............. "
          ]
        },
        {
          "output_type": "stream",
          "name": "stderr",
          "text": [
            "\r  3%|▎         | 12/370 [00:03<01:41,  3.52it/s]"
          ]
        },
        {
          "output_type": "stream",
          "name": "stdout",
          "text": [
            "Loss: 0.0857\n",
            "acc: 0.9720154127481714\n",
            "Epoch: 3/5............. "
          ]
        },
        {
          "output_type": "stream",
          "name": "stderr",
          "text": [
            "\r  4%|▎         | 13/370 [00:03<01:40,  3.54it/s]"
          ]
        },
        {
          "output_type": "stream",
          "name": "stdout",
          "text": [
            "Loss: 0.1069\n",
            "acc: 0.9670746874386332\n",
            "Epoch: 3/5............. "
          ]
        },
        {
          "output_type": "stream",
          "name": "stderr",
          "text": [
            "\r  4%|▍         | 14/370 [00:03<01:40,  3.56it/s]"
          ]
        },
        {
          "output_type": "stream",
          "name": "stdout",
          "text": [
            "Loss: 0.0909\n",
            "acc: 0.9704140096461982\n",
            "Epoch: 3/5............. "
          ]
        },
        {
          "output_type": "stream",
          "name": "stderr",
          "text": [
            "\r  4%|▍         | 15/370 [00:04<01:40,  3.54it/s]"
          ]
        },
        {
          "output_type": "stream",
          "name": "stdout",
          "text": [
            "Loss: 0.0832\n",
            "acc: 0.9719528879900066\n",
            "Epoch: 3/5............. "
          ]
        },
        {
          "output_type": "stream",
          "name": "stderr",
          "text": [
            "\r  4%|▍         | 16/370 [00:04<01:40,  3.53it/s]"
          ]
        },
        {
          "output_type": "stream",
          "name": "stdout",
          "text": [
            "Loss: 0.0944\n",
            "acc: 0.9686607652769845\n",
            "Epoch: 3/5............. "
          ]
        },
        {
          "output_type": "stream",
          "name": "stderr",
          "text": [
            "\r  5%|▍         | 17/370 [00:04<01:39,  3.54it/s]"
          ]
        },
        {
          "output_type": "stream",
          "name": "stdout",
          "text": [
            "Loss: 0.1064\n",
            "acc: 0.9652953554328931\n",
            "Epoch: 3/5............. "
          ]
        },
        {
          "output_type": "stream",
          "name": "stderr",
          "text": [
            "\r  5%|▍         | 18/370 [00:05<01:39,  3.54it/s]"
          ]
        },
        {
          "output_type": "stream",
          "name": "stdout",
          "text": [
            "Loss: 0.0772\n",
            "acc: 0.9731143929223037\n",
            "Epoch: 3/5............. "
          ]
        },
        {
          "output_type": "stream",
          "name": "stderr",
          "text": [
            "\r  5%|▌         | 19/370 [00:05<01:39,  3.53it/s]"
          ]
        },
        {
          "output_type": "stream",
          "name": "stdout",
          "text": [
            "Loss: 0.0849\n",
            "acc: 0.971135761716501\n",
            "Epoch: 3/5............. "
          ]
        },
        {
          "output_type": "stream",
          "name": "stderr",
          "text": [
            "\r  5%|▌         | 20/370 [00:05<01:39,  3.52it/s]"
          ]
        },
        {
          "output_type": "stream",
          "name": "stdout",
          "text": [
            "Loss: 0.0884\n",
            "acc: 0.9700886959803736\n",
            "Epoch: 3/5............. "
          ]
        },
        {
          "output_type": "stream",
          "name": "stderr",
          "text": [
            "\r  6%|▌         | 21/370 [00:05<01:39,  3.52it/s]"
          ]
        },
        {
          "output_type": "stream",
          "name": "stdout",
          "text": [
            "Loss: 0.0949\n",
            "acc: 0.9690140845070423\n",
            "Epoch: 3/5............. "
          ]
        },
        {
          "output_type": "stream",
          "name": "stderr",
          "text": [
            "\r  6%|▌         | 22/370 [00:06<01:38,  3.53it/s]"
          ]
        },
        {
          "output_type": "stream",
          "name": "stdout",
          "text": [
            "Loss: 0.0989\n",
            "acc: 0.9679786743895215\n",
            "Epoch: 3/5............. "
          ]
        },
        {
          "output_type": "stream",
          "name": "stderr",
          "text": [
            "\r  6%|▌         | 23/370 [00:06<01:38,  3.52it/s]"
          ]
        },
        {
          "output_type": "stream",
          "name": "stdout",
          "text": [
            "Loss: 0.0861\n",
            "acc: 0.972178402409293\n",
            "Epoch: 3/5............. "
          ]
        },
        {
          "output_type": "stream",
          "name": "stderr",
          "text": [
            "\r  6%|▋         | 24/370 [00:06<01:38,  3.52it/s]"
          ]
        },
        {
          "output_type": "stream",
          "name": "stdout",
          "text": [
            "Loss: 0.0928\n",
            "acc: 0.9696668140940586\n",
            "Epoch: 3/5............. "
          ]
        },
        {
          "output_type": "stream",
          "name": "stderr",
          "text": [
            "\r  7%|▋         | 25/370 [00:07<01:38,  3.51it/s]"
          ]
        },
        {
          "output_type": "stream",
          "name": "stdout",
          "text": [
            "Loss: 0.0837\n",
            "acc: 0.9730646797495365\n",
            "Epoch: 3/5............. "
          ]
        },
        {
          "output_type": "stream",
          "name": "stderr",
          "text": [
            "\r  7%|▋         | 26/370 [00:07<01:38,  3.51it/s]"
          ]
        },
        {
          "output_type": "stream",
          "name": "stdout",
          "text": [
            "Loss: 0.0842\n",
            "acc: 0.9716349729098056\n",
            "Epoch: 3/5............. "
          ]
        },
        {
          "output_type": "stream",
          "name": "stderr",
          "text": [
            "\r  7%|▋         | 27/370 [00:07<01:38,  3.48it/s]"
          ]
        },
        {
          "output_type": "stream",
          "name": "stdout",
          "text": [
            "Loss: 0.0853\n",
            "acc: 0.9734946403336435\n",
            "Epoch: 3/5............. "
          ]
        },
        {
          "output_type": "stream",
          "name": "stderr",
          "text": [
            "\r  8%|▊         | 28/370 [00:07<01:38,  3.48it/s]"
          ]
        },
        {
          "output_type": "stream",
          "name": "stdout",
          "text": [
            "Loss: 0.0864\n",
            "acc: 0.9708425805464146\n",
            "Epoch: 3/5............. "
          ]
        },
        {
          "output_type": "stream",
          "name": "stderr",
          "text": [
            "\r  8%|▊         | 29/370 [00:08<01:37,  3.50it/s]"
          ]
        },
        {
          "output_type": "stream",
          "name": "stdout",
          "text": [
            "Loss: 0.0916\n",
            "acc: 0.9706297746677794\n",
            "Epoch: 3/5............. "
          ]
        },
        {
          "output_type": "stream",
          "name": "stderr",
          "text": [
            "\r  8%|▊         | 30/370 [00:08<01:36,  3.51it/s]"
          ]
        },
        {
          "output_type": "stream",
          "name": "stdout",
          "text": [
            "Loss: 0.0867\n",
            "acc: 0.9708648610423591\n",
            "Epoch: 3/5............. "
          ]
        },
        {
          "output_type": "stream",
          "name": "stderr",
          "text": [
            "\r  8%|▊         | 31/370 [00:08<01:36,  3.50it/s]"
          ]
        },
        {
          "output_type": "stream",
          "name": "stdout",
          "text": [
            "Loss: 0.0909\n",
            "acc: 0.9691240901093594\n",
            "Epoch: 3/5............. "
          ]
        },
        {
          "output_type": "stream",
          "name": "stderr",
          "text": [
            "\r  9%|▊         | 32/370 [00:09<01:36,  3.51it/s]"
          ]
        },
        {
          "output_type": "stream",
          "name": "stdout",
          "text": [
            "Loss: 0.0855\n",
            "acc: 0.9709991328644378\n",
            "Epoch: 3/5............. "
          ]
        },
        {
          "output_type": "stream",
          "name": "stderr",
          "text": [
            "\r  9%|▉         | 33/370 [00:09<01:36,  3.51it/s]"
          ]
        },
        {
          "output_type": "stream",
          "name": "stdout",
          "text": [
            "Loss: 0.0819\n",
            "acc: 0.9730463730872562\n",
            "Epoch: 3/5............. "
          ]
        },
        {
          "output_type": "stream",
          "name": "stderr",
          "text": [
            "\r  9%|▉         | 34/370 [00:09<01:35,  3.53it/s]"
          ]
        },
        {
          "output_type": "stream",
          "name": "stdout",
          "text": [
            "Loss: 0.0928\n",
            "acc: 0.967970953415243\n",
            "Epoch: 3/5............. "
          ]
        },
        {
          "output_type": "stream",
          "name": "stderr",
          "text": [
            "\r  9%|▉         | 35/370 [00:09<01:34,  3.54it/s]"
          ]
        },
        {
          "output_type": "stream",
          "name": "stdout",
          "text": [
            "Loss: 0.1027\n",
            "acc: 0.9672647527910686\n",
            "Epoch: 3/5............. "
          ]
        },
        {
          "output_type": "stream",
          "name": "stderr",
          "text": [
            "\r 10%|▉         | 36/370 [00:10<01:34,  3.52it/s]"
          ]
        },
        {
          "output_type": "stream",
          "name": "stdout",
          "text": [
            "Loss: 0.0795\n",
            "acc: 0.9729093050647821\n",
            "Epoch: 3/5............. "
          ]
        },
        {
          "output_type": "stream",
          "name": "stderr",
          "text": [
            "\r 10%|█         | 37/370 [00:10<01:34,  3.53it/s]"
          ]
        },
        {
          "output_type": "stream",
          "name": "stdout",
          "text": [
            "Loss: 0.0950\n",
            "acc: 0.9671247938427707\n",
            "Epoch: 3/5............. "
          ]
        },
        {
          "output_type": "stream",
          "name": "stderr",
          "text": [
            "\r 10%|█         | 38/370 [00:10<01:33,  3.54it/s]"
          ]
        },
        {
          "output_type": "stream",
          "name": "stdout",
          "text": [
            "Loss: 0.0929\n",
            "acc: 0.9697615262321144\n",
            "Epoch: 3/5............. "
          ]
        },
        {
          "output_type": "stream",
          "name": "stderr",
          "text": [
            "\r 11%|█         | 39/370 [00:11<01:34,  3.51it/s]"
          ]
        },
        {
          "output_type": "stream",
          "name": "stdout",
          "text": [
            "Loss: 0.0932\n",
            "acc: 0.9683248067922063\n",
            "Epoch: 3/5............. "
          ]
        },
        {
          "output_type": "stream",
          "name": "stderr",
          "text": [
            "\r 11%|█         | 40/370 [00:11<01:33,  3.52it/s]"
          ]
        },
        {
          "output_type": "stream",
          "name": "stdout",
          "text": [
            "Loss: 0.0968\n",
            "acc: 0.9673408664234352\n",
            "Epoch: 3/5............. "
          ]
        },
        {
          "output_type": "stream",
          "name": "stderr",
          "text": [
            "\r 11%|█         | 41/370 [00:11<01:32,  3.54it/s]"
          ]
        },
        {
          "output_type": "stream",
          "name": "stdout",
          "text": [
            "Loss: 0.0948\n",
            "acc: 0.9681271652740983\n",
            "Epoch: 3/5............. "
          ]
        },
        {
          "output_type": "stream",
          "name": "stderr",
          "text": [
            "\r 11%|█▏        | 42/370 [00:11<01:33,  3.52it/s]"
          ]
        },
        {
          "output_type": "stream",
          "name": "stdout",
          "text": [
            "Loss: 0.1098\n",
            "acc: 0.9652261741577087\n",
            "Epoch: 3/5............. "
          ]
        },
        {
          "output_type": "stream",
          "name": "stderr",
          "text": [
            "\r 12%|█▏        | 43/370 [00:12<01:32,  3.53it/s]"
          ]
        },
        {
          "output_type": "stream",
          "name": "stdout",
          "text": [
            "Loss: 0.1026\n",
            "acc: 0.9662827089988062\n",
            "Epoch: 3/5............. "
          ]
        },
        {
          "output_type": "stream",
          "name": "stderr",
          "text": [
            "\r 12%|█▏        | 44/370 [00:12<01:32,  3.53it/s]"
          ]
        },
        {
          "output_type": "stream",
          "name": "stdout",
          "text": [
            "Loss: 0.0878\n",
            "acc: 0.9708254345660765\n",
            "Epoch: 3/5............. "
          ]
        },
        {
          "output_type": "stream",
          "name": "stderr",
          "text": [
            "\r 12%|█▏        | 45/370 [00:12<01:32,  3.52it/s]"
          ]
        },
        {
          "output_type": "stream",
          "name": "stdout",
          "text": [
            "Loss: 0.0954\n",
            "acc: 0.9687302811470238\n",
            "Epoch: 3/5............. "
          ]
        },
        {
          "output_type": "stream",
          "name": "stderr",
          "text": [
            "\r 12%|█▏        | 46/370 [00:13<01:31,  3.54it/s]"
          ]
        },
        {
          "output_type": "stream",
          "name": "stdout",
          "text": [
            "Loss: 0.0875\n",
            "acc: 0.9699435996287571\n",
            "Epoch: 3/5............. "
          ]
        },
        {
          "output_type": "stream",
          "name": "stderr",
          "text": [
            "\r 13%|█▎        | 47/370 [00:13<01:31,  3.53it/s]"
          ]
        },
        {
          "output_type": "stream",
          "name": "stdout",
          "text": [
            "Loss: 0.0832\n",
            "acc: 0.9714458377398398\n",
            "Epoch: 3/5............. "
          ]
        },
        {
          "output_type": "stream",
          "name": "stderr",
          "text": [
            "\r 13%|█▎        | 48/370 [00:13<01:30,  3.54it/s]"
          ]
        },
        {
          "output_type": "stream",
          "name": "stdout",
          "text": [
            "Loss: 0.0868\n",
            "acc: 0.9710559906164833\n",
            "Epoch: 3/5............. "
          ]
        },
        {
          "output_type": "stream",
          "name": "stderr",
          "text": [
            "\r 13%|█▎        | 49/370 [00:13<01:30,  3.53it/s]"
          ]
        },
        {
          "output_type": "stream",
          "name": "stdout",
          "text": [
            "Loss: 0.0913\n",
            "acc: 0.96963913335454\n",
            "Epoch: 3/5............. "
          ]
        },
        {
          "output_type": "stream",
          "name": "stderr",
          "text": [
            "\r 14%|█▎        | 50/370 [00:14<01:31,  3.51it/s]"
          ]
        },
        {
          "output_type": "stream",
          "name": "stdout",
          "text": [
            "Loss: 0.0857\n",
            "acc: 0.9712602757460029\n",
            "Epoch: 3/5............. "
          ]
        },
        {
          "output_type": "stream",
          "name": "stderr",
          "text": [
            "\r 14%|█▍        | 51/370 [00:14<01:30,  3.53it/s]"
          ]
        },
        {
          "output_type": "stream",
          "name": "stdout",
          "text": [
            "Loss: 0.0869\n",
            "acc: 0.9701865671641791\n",
            "Epoch: 3/5............. "
          ]
        },
        {
          "output_type": "stream",
          "name": "stderr",
          "text": [
            "\r 14%|█▍        | 52/370 [00:14<01:29,  3.53it/s]"
          ]
        },
        {
          "output_type": "stream",
          "name": "stdout",
          "text": [
            "Loss: 0.0761\n",
            "acc: 0.9747779132555304\n",
            "Epoch: 3/5............. "
          ]
        },
        {
          "output_type": "stream",
          "name": "stderr",
          "text": [
            "\r 14%|█▍        | 53/370 [00:15<01:29,  3.54it/s]"
          ]
        },
        {
          "output_type": "stream",
          "name": "stdout",
          "text": [
            "Loss: 0.0830\n",
            "acc: 0.9733678130037614\n",
            "Epoch: 3/5............. "
          ]
        },
        {
          "output_type": "stream",
          "name": "stderr",
          "text": [
            "\r 15%|█▍        | 54/370 [00:15<01:29,  3.53it/s]"
          ]
        },
        {
          "output_type": "stream",
          "name": "stdout",
          "text": [
            "Loss: 0.0851\n",
            "acc: 0.9716277105040834\n",
            "Epoch: 3/5............. "
          ]
        },
        {
          "output_type": "stream",
          "name": "stderr",
          "text": [
            "\r 15%|█▍        | 55/370 [00:15<01:29,  3.52it/s]"
          ]
        },
        {
          "output_type": "stream",
          "name": "stdout",
          "text": [
            "Loss: 0.0891\n",
            "acc: 0.9696267257542185\n",
            "Epoch: 3/5............. "
          ]
        },
        {
          "output_type": "stream",
          "name": "stderr",
          "text": [
            "\r 15%|█▌        | 56/370 [00:15<01:28,  3.53it/s]"
          ]
        },
        {
          "output_type": "stream",
          "name": "stdout",
          "text": [
            "Loss: 0.0882\n",
            "acc: 0.9708266381003392\n",
            "Epoch: 3/5............. "
          ]
        },
        {
          "output_type": "stream",
          "name": "stderr",
          "text": [
            "\r 15%|█▌        | 57/370 [00:16<01:28,  3.53it/s]"
          ]
        },
        {
          "output_type": "stream",
          "name": "stdout",
          "text": [
            "Loss: 0.0952\n",
            "acc: 0.9695518838402803\n",
            "Epoch: 3/5............. "
          ]
        },
        {
          "output_type": "stream",
          "name": "stderr",
          "text": [
            "\r 16%|█▌        | 58/370 [00:16<01:28,  3.55it/s]"
          ]
        },
        {
          "output_type": "stream",
          "name": "stdout",
          "text": [
            "Loss: 0.1048\n",
            "acc: 0.9662727443256425\n",
            "Epoch: 3/5............. "
          ]
        },
        {
          "output_type": "stream",
          "name": "stderr",
          "text": [
            "\r 16%|█▌        | 59/370 [00:16<01:28,  3.52it/s]"
          ]
        },
        {
          "output_type": "stream",
          "name": "stdout",
          "text": [
            "Loss: 0.0842\n",
            "acc: 0.9718638329885274\n",
            "Epoch: 3/5............. "
          ]
        },
        {
          "output_type": "stream",
          "name": "stderr",
          "text": [
            "\r 16%|█▌        | 60/370 [00:17<01:28,  3.52it/s]"
          ]
        },
        {
          "output_type": "stream",
          "name": "stdout",
          "text": [
            "Loss: 0.1032\n",
            "acc: 0.9658138755446319\n",
            "Epoch: 3/5............. "
          ]
        },
        {
          "output_type": "stream",
          "name": "stderr",
          "text": [
            "\r 16%|█▋        | 61/370 [00:17<01:27,  3.52it/s]"
          ]
        },
        {
          "output_type": "stream",
          "name": "stdout",
          "text": [
            "Loss: 0.0853\n",
            "acc: 0.9724724364055631\n",
            "Epoch: 3/5............. "
          ]
        },
        {
          "output_type": "stream",
          "name": "stderr",
          "text": [
            "\r 17%|█▋        | 62/370 [00:17<01:27,  3.52it/s]"
          ]
        },
        {
          "output_type": "stream",
          "name": "stdout",
          "text": [
            "Loss: 0.0990\n",
            "acc: 0.9670261366814805\n",
            "Epoch: 3/5............. "
          ]
        },
        {
          "output_type": "stream",
          "name": "stderr",
          "text": [
            "\r 17%|█▋        | 63/370 [00:17<01:27,  3.51it/s]"
          ]
        },
        {
          "output_type": "stream",
          "name": "stdout",
          "text": [
            "Loss: 0.0802\n",
            "acc: 0.974041798980873\n",
            "Epoch: 3/5............. "
          ]
        },
        {
          "output_type": "stream",
          "name": "stderr",
          "text": [
            "\r 17%|█▋        | 64/370 [00:18<01:27,  3.49it/s]"
          ]
        },
        {
          "output_type": "stream",
          "name": "stdout",
          "text": [
            "Loss: 0.0792\n",
            "acc: 0.9732908847184987\n",
            "Epoch: 3/5............. "
          ]
        },
        {
          "output_type": "stream",
          "name": "stderr",
          "text": [
            "\r 18%|█▊        | 65/370 [00:18<01:27,  3.50it/s]"
          ]
        },
        {
          "output_type": "stream",
          "name": "stdout",
          "text": [
            "Loss: 0.0839\n",
            "acc: 0.9719280965279488\n",
            "Epoch: 3/5............. "
          ]
        },
        {
          "output_type": "stream",
          "name": "stderr",
          "text": [
            "\r 18%|█▊        | 66/370 [00:18<01:26,  3.50it/s]"
          ]
        },
        {
          "output_type": "stream",
          "name": "stdout",
          "text": [
            "Loss: 0.0860\n",
            "acc: 0.9709144446262065\n",
            "Epoch: 3/5............. "
          ]
        },
        {
          "output_type": "stream",
          "name": "stderr",
          "text": [
            "\r 18%|█▊        | 67/370 [00:19<01:26,  3.51it/s]"
          ]
        },
        {
          "output_type": "stream",
          "name": "stdout",
          "text": [
            "Loss: 0.0853\n",
            "acc: 0.9699693035985059\n",
            "Epoch: 3/5............. "
          ]
        },
        {
          "output_type": "stream",
          "name": "stderr",
          "text": [
            "\r 18%|█▊        | 68/370 [00:19<01:26,  3.50it/s]"
          ]
        },
        {
          "output_type": "stream",
          "name": "stdout",
          "text": [
            "Loss: 0.0952\n",
            "acc: 0.9687245422023872\n",
            "Epoch: 3/5............. "
          ]
        },
        {
          "output_type": "stream",
          "name": "stderr",
          "text": [
            "\r 19%|█▊        | 69/370 [00:19<01:25,  3.51it/s]"
          ]
        },
        {
          "output_type": "stream",
          "name": "stdout",
          "text": [
            "Loss: 0.0856\n",
            "acc: 0.9717271770073704\n",
            "Epoch: 3/5............. "
          ]
        },
        {
          "output_type": "stream",
          "name": "stderr",
          "text": [
            "\r 19%|█▉        | 70/370 [00:19<01:25,  3.50it/s]"
          ]
        },
        {
          "output_type": "stream",
          "name": "stdout",
          "text": [
            "Loss: 0.1028\n",
            "acc: 0.966918941132153\n",
            "Epoch: 3/5............. "
          ]
        },
        {
          "output_type": "stream",
          "name": "stderr",
          "text": [
            "\r 19%|█▉        | 71/370 [00:20<01:25,  3.49it/s]"
          ]
        },
        {
          "output_type": "stream",
          "name": "stdout",
          "text": [
            "Loss: 0.0895\n",
            "acc: 0.9695589817138759\n",
            "Epoch: 3/5............. "
          ]
        },
        {
          "output_type": "stream",
          "name": "stderr",
          "text": [
            "\r 19%|█▉        | 72/370 [00:20<01:25,  3.48it/s]"
          ]
        },
        {
          "output_type": "stream",
          "name": "stdout",
          "text": [
            "Loss: 0.0989\n",
            "acc: 0.9669212002154558\n",
            "Epoch: 3/5............. "
          ]
        },
        {
          "output_type": "stream",
          "name": "stderr",
          "text": [
            "\r 20%|█▉        | 73/370 [00:20<01:25,  3.49it/s]"
          ]
        },
        {
          "output_type": "stream",
          "name": "stdout",
          "text": [
            "Loss: 0.0940\n",
            "acc: 0.9695770026392753\n",
            "Epoch: 3/5............. "
          ]
        },
        {
          "output_type": "stream",
          "name": "stderr",
          "text": [
            "\r 20%|██        | 74/370 [00:21<01:24,  3.50it/s]"
          ]
        },
        {
          "output_type": "stream",
          "name": "stdout",
          "text": [
            "Loss: 0.0886\n",
            "acc: 0.9695579253821082\n",
            "Epoch: 3/5............. "
          ]
        },
        {
          "output_type": "stream",
          "name": "stderr",
          "text": [
            "\r 20%|██        | 75/370 [00:21<01:23,  3.52it/s]"
          ]
        },
        {
          "output_type": "stream",
          "name": "stdout",
          "text": [
            "Loss: 0.0847\n",
            "acc: 0.9712320916905444\n",
            "Epoch: 3/5............. "
          ]
        },
        {
          "output_type": "stream",
          "name": "stderr",
          "text": [
            "\r 21%|██        | 76/370 [00:21<01:23,  3.52it/s]"
          ]
        },
        {
          "output_type": "stream",
          "name": "stdout",
          "text": [
            "Loss: 0.0933\n",
            "acc: 0.9695990339879959\n",
            "Epoch: 3/5............. "
          ]
        },
        {
          "output_type": "stream",
          "name": "stderr",
          "text": [
            "\r 21%|██        | 77/370 [00:21<01:23,  3.53it/s]"
          ]
        },
        {
          "output_type": "stream",
          "name": "stdout",
          "text": [
            "Loss: 0.0866\n",
            "acc: 0.9720553765016114\n",
            "Epoch: 3/5............. "
          ]
        },
        {
          "output_type": "stream",
          "name": "stderr",
          "text": [
            "\r 21%|██        | 78/370 [00:22<01:23,  3.51it/s]"
          ]
        },
        {
          "output_type": "stream",
          "name": "stdout",
          "text": [
            "Loss: 0.0849\n",
            "acc: 0.9733284484337791\n",
            "Epoch: 3/5............. "
          ]
        },
        {
          "output_type": "stream",
          "name": "stderr",
          "text": [
            "\r 21%|██▏       | 79/370 [00:22<01:22,  3.51it/s]"
          ]
        },
        {
          "output_type": "stream",
          "name": "stdout",
          "text": [
            "Loss: 0.0853\n",
            "acc: 0.9719097449313276\n",
            "Epoch: 3/5............. "
          ]
        },
        {
          "output_type": "stream",
          "name": "stderr",
          "text": [
            "\r 22%|██▏       | 80/370 [00:22<01:22,  3.52it/s]"
          ]
        },
        {
          "output_type": "stream",
          "name": "stdout",
          "text": [
            "Loss: 0.0834\n",
            "acc: 0.9712664180314577\n",
            "Epoch: 3/5............. "
          ]
        },
        {
          "output_type": "stream",
          "name": "stderr",
          "text": [
            "\r 22%|██▏       | 81/370 [00:23<01:21,  3.52it/s]"
          ]
        },
        {
          "output_type": "stream",
          "name": "stdout",
          "text": [
            "Loss: 0.0942\n",
            "acc: 0.9702577237073795\n",
            "Epoch: 3/5............. "
          ]
        },
        {
          "output_type": "stream",
          "name": "stderr",
          "text": [
            "\r 22%|██▏       | 82/370 [00:23<01:21,  3.53it/s]"
          ]
        },
        {
          "output_type": "stream",
          "name": "stdout",
          "text": [
            "Loss: 0.0956\n",
            "acc: 0.9688496443463331\n",
            "Epoch: 3/5............. "
          ]
        },
        {
          "output_type": "stream",
          "name": "stderr",
          "text": [
            "\r 22%|██▏       | 83/370 [00:23<01:21,  3.53it/s]"
          ]
        },
        {
          "output_type": "stream",
          "name": "stdout",
          "text": [
            "Loss: 0.0961\n",
            "acc: 0.9684960660389527\n",
            "Epoch: 3/5............. "
          ]
        },
        {
          "output_type": "stream",
          "name": "stderr",
          "text": [
            "\r 23%|██▎       | 84/370 [00:23<01:21,  3.53it/s]"
          ]
        },
        {
          "output_type": "stream",
          "name": "stdout",
          "text": [
            "Loss: 0.1016\n",
            "acc: 0.9671246648793566\n",
            "Epoch: 3/5............. "
          ]
        },
        {
          "output_type": "stream",
          "name": "stderr",
          "text": [
            "\r 23%|██▎       | 85/370 [00:24<01:20,  3.53it/s]"
          ]
        },
        {
          "output_type": "stream",
          "name": "stdout",
          "text": [
            "Loss: 0.0844\n",
            "acc: 0.9721709550175515\n",
            "Epoch: 3/5............. "
          ]
        },
        {
          "output_type": "stream",
          "name": "stderr",
          "text": [
            "\r 23%|██▎       | 86/370 [00:24<01:20,  3.53it/s]"
          ]
        },
        {
          "output_type": "stream",
          "name": "stdout",
          "text": [
            "Loss: 0.0753\n",
            "acc: 0.9744705841710712\n",
            "Epoch: 3/5............. "
          ]
        },
        {
          "output_type": "stream",
          "name": "stderr",
          "text": [
            "\r 24%|██▎       | 87/370 [00:24<01:20,  3.53it/s]"
          ]
        },
        {
          "output_type": "stream",
          "name": "stdout",
          "text": [
            "Loss: 0.0831\n",
            "acc: 0.9713765833858212\n",
            "Epoch: 3/5............. "
          ]
        },
        {
          "output_type": "stream",
          "name": "stderr",
          "text": [
            "\r 24%|██▍       | 88/370 [00:24<01:19,  3.53it/s]"
          ]
        },
        {
          "output_type": "stream",
          "name": "stdout",
          "text": [
            "Loss: 0.0775\n",
            "acc: 0.9738196464533453\n",
            "Epoch: 3/5............. "
          ]
        },
        {
          "output_type": "stream",
          "name": "stderr",
          "text": [
            "\r 24%|██▍       | 89/370 [00:25<01:19,  3.54it/s]"
          ]
        },
        {
          "output_type": "stream",
          "name": "stdout",
          "text": [
            "Loss: 0.0829\n",
            "acc: 0.9723158888589155\n",
            "Epoch: 3/5............. "
          ]
        },
        {
          "output_type": "stream",
          "name": "stderr",
          "text": [
            "\r 24%|██▍       | 90/370 [00:25<01:19,  3.53it/s]"
          ]
        },
        {
          "output_type": "stream",
          "name": "stdout",
          "text": [
            "Loss: 0.0858\n",
            "acc: 0.9724817063677409\n",
            "Epoch: 3/5............. "
          ]
        },
        {
          "output_type": "stream",
          "name": "stderr",
          "text": [
            "\r 25%|██▍       | 91/370 [00:25<01:19,  3.51it/s]"
          ]
        },
        {
          "output_type": "stream",
          "name": "stdout",
          "text": [
            "Loss: 0.1010\n",
            "acc: 0.9673186432285219\n",
            "Epoch: 3/5............. "
          ]
        },
        {
          "output_type": "stream",
          "name": "stderr",
          "text": [
            "\r 25%|██▍       | 92/370 [00:26<01:19,  3.51it/s]"
          ]
        },
        {
          "output_type": "stream",
          "name": "stdout",
          "text": [
            "Loss: 0.0943\n",
            "acc: 0.9677237069538626\n",
            "Epoch: 3/5............. "
          ]
        },
        {
          "output_type": "stream",
          "name": "stderr",
          "text": [
            "\r 25%|██▌       | 93/370 [00:26<01:19,  3.50it/s]"
          ]
        },
        {
          "output_type": "stream",
          "name": "stdout",
          "text": [
            "Loss: 0.0924\n",
            "acc: 0.9700310559006211\n",
            "Epoch: 3/5............. "
          ]
        },
        {
          "output_type": "stream",
          "name": "stderr",
          "text": [
            "\r 25%|██▌       | 94/370 [00:26<01:19,  3.49it/s]"
          ]
        },
        {
          "output_type": "stream",
          "name": "stdout",
          "text": [
            "Loss: 0.0829\n",
            "acc: 0.9733379830707288\n",
            "Epoch: 3/5............. "
          ]
        },
        {
          "output_type": "stream",
          "name": "stderr",
          "text": [
            "\r 26%|██▌       | 95/370 [00:26<01:18,  3.49it/s]"
          ]
        },
        {
          "output_type": "stream",
          "name": "stdout",
          "text": [
            "Loss: 0.0919\n",
            "acc: 0.9695593926763918\n",
            "Epoch: 3/5............. "
          ]
        },
        {
          "output_type": "stream",
          "name": "stderr",
          "text": [
            "\r 26%|██▌       | 96/370 [00:27<01:18,  3.50it/s]"
          ]
        },
        {
          "output_type": "stream",
          "name": "stdout",
          "text": [
            "Loss: 0.0969\n",
            "acc: 0.9683621241202816\n",
            "Epoch: 3/5............. "
          ]
        },
        {
          "output_type": "stream",
          "name": "stderr",
          "text": [
            "\r 26%|██▌       | 97/370 [00:27<01:17,  3.52it/s]"
          ]
        },
        {
          "output_type": "stream",
          "name": "stdout",
          "text": [
            "Loss: 0.0820\n",
            "acc: 0.9739951971688574\n",
            "Epoch: 3/5............. "
          ]
        },
        {
          "output_type": "stream",
          "name": "stderr",
          "text": [
            "\r 26%|██▋       | 98/370 [00:27<01:17,  3.53it/s]"
          ]
        },
        {
          "output_type": "stream",
          "name": "stdout",
          "text": [
            "Loss: 0.0922\n",
            "acc: 0.9686393122935488\n",
            "Epoch: 3/5............. "
          ]
        },
        {
          "output_type": "stream",
          "name": "stderr",
          "text": [
            "\r 27%|██▋       | 99/370 [00:28<01:17,  3.51it/s]"
          ]
        },
        {
          "output_type": "stream",
          "name": "stdout",
          "text": [
            "Loss: 0.0836\n",
            "acc: 0.9723185918270459\n",
            "Epoch: 3/5............. "
          ]
        },
        {
          "output_type": "stream",
          "name": "stderr",
          "text": [
            "\r 27%|██▋       | 100/370 [00:28<01:16,  3.52it/s]"
          ]
        },
        {
          "output_type": "stream",
          "name": "stdout",
          "text": [
            "Loss: 0.0842\n",
            "acc: 0.9720664287275111\n",
            "Epoch: 3/5............. "
          ]
        },
        {
          "output_type": "stream",
          "name": "stderr",
          "text": [
            "\r 27%|██▋       | 101/370 [00:28<01:16,  3.53it/s]"
          ]
        },
        {
          "output_type": "stream",
          "name": "stdout",
          "text": [
            "Loss: 0.0860\n",
            "acc: 0.9720800054611236\n",
            "Epoch: 3/5............. "
          ]
        },
        {
          "output_type": "stream",
          "name": "stderr",
          "text": [
            "\r 28%|██▊       | 102/370 [00:28<01:15,  3.53it/s]"
          ]
        },
        {
          "output_type": "stream",
          "name": "stdout",
          "text": [
            "Loss: 0.0960\n",
            "acc: 0.968606884325602\n",
            "Epoch: 3/5............. "
          ]
        },
        {
          "output_type": "stream",
          "name": "stderr",
          "text": [
            "\r 28%|██▊       | 103/370 [00:29<01:15,  3.53it/s]"
          ]
        },
        {
          "output_type": "stream",
          "name": "stdout",
          "text": [
            "Loss: 0.0903\n",
            "acc: 0.9695991091314031\n",
            "Epoch: 3/5............. "
          ]
        },
        {
          "output_type": "stream",
          "name": "stderr",
          "text": [
            "\r 28%|██▊       | 104/370 [00:29<01:15,  3.52it/s]"
          ]
        },
        {
          "output_type": "stream",
          "name": "stdout",
          "text": [
            "Loss: 0.0859\n",
            "acc: 0.9714648065948003\n",
            "Epoch: 3/5............. "
          ]
        },
        {
          "output_type": "stream",
          "name": "stderr",
          "text": [
            "\r 28%|██▊       | 105/370 [00:29<01:14,  3.54it/s]"
          ]
        },
        {
          "output_type": "stream",
          "name": "stdout",
          "text": [
            "Loss: 0.0803\n",
            "acc: 0.9725088220467148\n",
            "Epoch: 3/5............. "
          ]
        },
        {
          "output_type": "stream",
          "name": "stderr",
          "text": [
            "\r 29%|██▊       | 106/370 [00:30<01:14,  3.54it/s]"
          ]
        },
        {
          "output_type": "stream",
          "name": "stdout",
          "text": [
            "Loss: 0.0926\n",
            "acc: 0.9698066384034743\n",
            "Epoch: 3/5............. "
          ]
        },
        {
          "output_type": "stream",
          "name": "stderr",
          "text": [
            "\r 29%|██▉       | 107/370 [00:30<01:14,  3.53it/s]"
          ]
        },
        {
          "output_type": "stream",
          "name": "stdout",
          "text": [
            "Loss: 0.0794\n",
            "acc: 0.9737655894246781\n",
            "Epoch: 3/5............. "
          ]
        },
        {
          "output_type": "stream",
          "name": "stderr",
          "text": [
            "\r 29%|██▉       | 108/370 [00:30<01:14,  3.52it/s]"
          ]
        },
        {
          "output_type": "stream",
          "name": "stdout",
          "text": [
            "Loss: 0.0908\n",
            "acc: 0.9712653686740274\n",
            "Epoch: 3/5............. "
          ]
        },
        {
          "output_type": "stream",
          "name": "stderr",
          "text": [
            "\r 29%|██▉       | 109/370 [00:30<01:13,  3.54it/s]"
          ]
        },
        {
          "output_type": "stream",
          "name": "stdout",
          "text": [
            "Loss: 0.0891\n",
            "acc: 0.9701100708502024\n",
            "Epoch: 3/5............. "
          ]
        },
        {
          "output_type": "stream",
          "name": "stderr",
          "text": [
            "\r 30%|██▉       | 110/370 [00:31<01:13,  3.54it/s]"
          ]
        },
        {
          "output_type": "stream",
          "name": "stdout",
          "text": [
            "Loss: 0.0898\n",
            "acc: 0.9701920214349509\n",
            "Epoch: 3/5............. "
          ]
        },
        {
          "output_type": "stream",
          "name": "stderr",
          "text": [
            "\r 30%|███       | 111/370 [00:31<01:13,  3.53it/s]"
          ]
        },
        {
          "output_type": "stream",
          "name": "stdout",
          "text": [
            "Loss: 0.0887\n",
            "acc: 0.9703793943612948\n",
            "Epoch: 3/5............. "
          ]
        },
        {
          "output_type": "stream",
          "name": "stderr",
          "text": [
            "\r 30%|███       | 112/370 [00:31<01:13,  3.53it/s]"
          ]
        },
        {
          "output_type": "stream",
          "name": "stdout",
          "text": [
            "Loss: 0.0850\n",
            "acc: 0.9723349317594984\n",
            "Epoch: 3/5............. "
          ]
        },
        {
          "output_type": "stream",
          "name": "stderr",
          "text": [
            "\r 31%|███       | 113/370 [00:32<01:12,  3.54it/s]"
          ]
        },
        {
          "output_type": "stream",
          "name": "stdout",
          "text": [
            "Loss: 0.0982\n",
            "acc: 0.9688540646425073\n",
            "Epoch: 3/5............. "
          ]
        },
        {
          "output_type": "stream",
          "name": "stderr",
          "text": [
            "\r 31%|███       | 114/370 [00:32<01:12,  3.53it/s]"
          ]
        },
        {
          "output_type": "stream",
          "name": "stdout",
          "text": [
            "Loss: 0.0850\n",
            "acc: 0.9717942822104698\n",
            "Epoch: 3/5............. "
          ]
        },
        {
          "output_type": "stream",
          "name": "stderr",
          "text": [
            "\r 31%|███       | 115/370 [00:32<01:12,  3.53it/s]"
          ]
        },
        {
          "output_type": "stream",
          "name": "stdout",
          "text": [
            "Loss: 0.0812\n",
            "acc: 0.9734322125422996\n",
            "Epoch: 3/5............. "
          ]
        },
        {
          "output_type": "stream",
          "name": "stderr",
          "text": [
            "\r 31%|███▏      | 116/370 [00:32<01:12,  3.52it/s]"
          ]
        },
        {
          "output_type": "stream",
          "name": "stdout",
          "text": [
            "Loss: 0.0801\n",
            "acc: 0.972907746204749\n",
            "Epoch: 3/5............. "
          ]
        },
        {
          "output_type": "stream",
          "name": "stderr",
          "text": [
            "\r 32%|███▏      | 117/370 [00:33<01:11,  3.52it/s]"
          ]
        },
        {
          "output_type": "stream",
          "name": "stdout",
          "text": [
            "Loss: 0.0918\n",
            "acc: 0.9687798452165322\n",
            "Epoch: 3/5............. "
          ]
        },
        {
          "output_type": "stream",
          "name": "stderr",
          "text": [
            "\r 32%|███▏      | 118/370 [00:33<01:11,  3.54it/s]"
          ]
        },
        {
          "output_type": "stream",
          "name": "stdout",
          "text": [
            "Loss: 0.0981\n",
            "acc: 0.9671679937088371\n",
            "Epoch: 3/5............. "
          ]
        },
        {
          "output_type": "stream",
          "name": "stderr",
          "text": [
            "\r 32%|███▏      | 119/370 [00:33<01:11,  3.53it/s]"
          ]
        },
        {
          "output_type": "stream",
          "name": "stdout",
          "text": [
            "Loss: 0.0873\n",
            "acc: 0.9708591643024763\n",
            "Epoch: 3/5............. "
          ]
        },
        {
          "output_type": "stream",
          "name": "stderr",
          "text": [
            "\r 32%|███▏      | 120/370 [00:34<01:10,  3.53it/s]"
          ]
        },
        {
          "output_type": "stream",
          "name": "stdout",
          "text": [
            "Loss: 0.0956\n",
            "acc: 0.9680903461863214\n",
            "Epoch: 3/5............. "
          ]
        },
        {
          "output_type": "stream",
          "name": "stderr",
          "text": [
            "\r 33%|███▎      | 121/370 [00:34<01:10,  3.52it/s]"
          ]
        },
        {
          "output_type": "stream",
          "name": "stdout",
          "text": [
            "Loss: 0.0845\n",
            "acc: 0.9724122498561473\n",
            "Epoch: 3/5............. "
          ]
        },
        {
          "output_type": "stream",
          "name": "stderr",
          "text": [
            "\r 33%|███▎      | 122/370 [00:34<01:10,  3.53it/s]"
          ]
        },
        {
          "output_type": "stream",
          "name": "stdout",
          "text": [
            "Loss: 0.0778\n",
            "acc: 0.9743290548424738\n",
            "Epoch: 3/5............. "
          ]
        },
        {
          "output_type": "stream",
          "name": "stderr",
          "text": [
            "\r 33%|███▎      | 123/370 [00:34<01:10,  3.53it/s]"
          ]
        },
        {
          "output_type": "stream",
          "name": "stdout",
          "text": [
            "Loss: 0.0870\n",
            "acc: 0.9702426268577671\n",
            "Epoch: 3/5............. "
          ]
        },
        {
          "output_type": "stream",
          "name": "stderr",
          "text": [
            "\r 34%|███▎      | 124/370 [00:35<01:09,  3.54it/s]"
          ]
        },
        {
          "output_type": "stream",
          "name": "stdout",
          "text": [
            "Loss: 0.0856\n",
            "acc: 0.9712238398544131\n",
            "Epoch: 3/5............. "
          ]
        },
        {
          "output_type": "stream",
          "name": "stderr",
          "text": [
            "\r 34%|███▍      | 125/370 [00:35<01:09,  3.54it/s]"
          ]
        },
        {
          "output_type": "stream",
          "name": "stdout",
          "text": [
            "Loss: 0.0806\n",
            "acc: 0.9741131661340822\n",
            "Epoch: 3/5............. "
          ]
        },
        {
          "output_type": "stream",
          "name": "stderr",
          "text": [
            "\r 34%|███▍      | 126/370 [00:35<01:09,  3.53it/s]"
          ]
        },
        {
          "output_type": "stream",
          "name": "stdout",
          "text": [
            "Loss: 0.0875\n",
            "acc: 0.9705743509047994\n",
            "Epoch: 3/5............. "
          ]
        },
        {
          "output_type": "stream",
          "name": "stderr",
          "text": [
            "\r 34%|███▍      | 127/370 [00:36<01:08,  3.53it/s]"
          ]
        },
        {
          "output_type": "stream",
          "name": "stdout",
          "text": [
            "Loss: 0.0859\n",
            "acc: 0.9711635340305041\n",
            "Epoch: 3/5............. "
          ]
        },
        {
          "output_type": "stream",
          "name": "stderr",
          "text": [
            "\r 35%|███▍      | 128/370 [00:36<01:08,  3.53it/s]"
          ]
        },
        {
          "output_type": "stream",
          "name": "stdout",
          "text": [
            "Loss: 0.0961\n",
            "acc: 0.9697179385791486\n",
            "Epoch: 3/5............. "
          ]
        },
        {
          "output_type": "stream",
          "name": "stderr",
          "text": [
            "\r 35%|███▍      | 129/370 [00:36<01:08,  3.53it/s]"
          ]
        },
        {
          "output_type": "stream",
          "name": "stdout",
          "text": [
            "Loss: 0.0846\n",
            "acc: 0.9713089005235602\n",
            "Epoch: 3/5............. "
          ]
        },
        {
          "output_type": "stream",
          "name": "stderr",
          "text": [
            "\r 35%|███▌      | 130/370 [00:36<01:07,  3.53it/s]"
          ]
        },
        {
          "output_type": "stream",
          "name": "stdout",
          "text": [
            "Loss: 0.0914\n",
            "acc: 0.9689983532612587\n",
            "Epoch: 3/5............. "
          ]
        },
        {
          "output_type": "stream",
          "name": "stderr",
          "text": [
            "\r 35%|███▌      | 131/370 [00:37<01:07,  3.53it/s]"
          ]
        },
        {
          "output_type": "stream",
          "name": "stdout",
          "text": [
            "Loss: 0.0815\n",
            "acc: 0.9719032918242048\n",
            "Epoch: 3/5............. "
          ]
        },
        {
          "output_type": "stream",
          "name": "stderr",
          "text": [
            "\r 36%|███▌      | 132/370 [00:37<01:07,  3.52it/s]"
          ]
        },
        {
          "output_type": "stream",
          "name": "stdout",
          "text": [
            "Loss: 0.0908\n",
            "acc: 0.9696191556059495\n",
            "Epoch: 3/5............. "
          ]
        },
        {
          "output_type": "stream",
          "name": "stderr",
          "text": [
            "\r 36%|███▌      | 133/370 [00:37<01:07,  3.51it/s]"
          ]
        },
        {
          "output_type": "stream",
          "name": "stdout",
          "text": [
            "Loss: 0.0872\n",
            "acc: 0.970203081232493\n",
            "Epoch: 3/5............. "
          ]
        },
        {
          "output_type": "stream",
          "name": "stderr",
          "text": [
            "\r 36%|███▌      | 134/370 [00:38<01:07,  3.49it/s]"
          ]
        },
        {
          "output_type": "stream",
          "name": "stdout",
          "text": [
            "Loss: 0.0856\n",
            "acc: 0.9718662753239315\n",
            "Epoch: 3/5............. "
          ]
        },
        {
          "output_type": "stream",
          "name": "stderr",
          "text": [
            "\r 36%|███▋      | 135/370 [00:38<01:07,  3.49it/s]"
          ]
        },
        {
          "output_type": "stream",
          "name": "stdout",
          "text": [
            "Loss: 0.0818\n",
            "acc: 0.9726675506268081\n",
            "Epoch: 3/5............. "
          ]
        },
        {
          "output_type": "stream",
          "name": "stderr",
          "text": [
            "\r 37%|███▋      | 136/370 [00:38<01:06,  3.49it/s]"
          ]
        },
        {
          "output_type": "stream",
          "name": "stdout",
          "text": [
            "Loss: 0.0855\n",
            "acc: 0.9709349830745886\n",
            "Epoch: 3/5............. "
          ]
        },
        {
          "output_type": "stream",
          "name": "stderr",
          "text": [
            "\r 37%|███▋      | 137/370 [00:38<01:06,  3.49it/s]"
          ]
        },
        {
          "output_type": "stream",
          "name": "stdout",
          "text": [
            "Loss: 0.0841\n",
            "acc: 0.9712552560832701\n",
            "Epoch: 3/5............. "
          ]
        },
        {
          "output_type": "stream",
          "name": "stderr",
          "text": [
            "\r 37%|███▋      | 138/370 [00:39<01:06,  3.50it/s]"
          ]
        },
        {
          "output_type": "stream",
          "name": "stdout",
          "text": [
            "Loss: 0.0760\n",
            "acc: 0.9734942878410304\n",
            "Epoch: 3/5............. "
          ]
        },
        {
          "output_type": "stream",
          "name": "stderr",
          "text": [
            "\r 38%|███▊      | 139/370 [00:39<01:05,  3.51it/s]"
          ]
        },
        {
          "output_type": "stream",
          "name": "stdout",
          "text": [
            "Loss: 0.0890\n",
            "acc: 0.9691332619968722\n",
            "Epoch: 3/5............. "
          ]
        },
        {
          "output_type": "stream",
          "name": "stderr",
          "text": [
            "\r 38%|███▊      | 140/370 [00:39<01:05,  3.53it/s]"
          ]
        },
        {
          "output_type": "stream",
          "name": "stdout",
          "text": [
            "Loss: 0.0812\n",
            "acc: 0.9730507850423488\n",
            "Epoch: 3/5............. "
          ]
        },
        {
          "output_type": "stream",
          "name": "stderr",
          "text": [
            "\r 38%|███▊      | 141/370 [00:40<01:04,  3.52it/s]"
          ]
        },
        {
          "output_type": "stream",
          "name": "stdout",
          "text": [
            "Loss: 0.0874\n",
            "acc: 0.9709315784252125\n",
            "Epoch: 3/5............. "
          ]
        },
        {
          "output_type": "stream",
          "name": "stderr",
          "text": [
            "\r 38%|███▊      | 142/370 [00:40<01:04,  3.53it/s]"
          ]
        },
        {
          "output_type": "stream",
          "name": "stdout",
          "text": [
            "Loss: 0.0952\n",
            "acc: 0.970875415226655\n",
            "Epoch: 3/5............. "
          ]
        },
        {
          "output_type": "stream",
          "name": "stderr",
          "text": [
            "\r 39%|███▊      | 143/370 [00:40<01:04,  3.53it/s]"
          ]
        },
        {
          "output_type": "stream",
          "name": "stdout",
          "text": [
            "Loss: 0.0865\n",
            "acc: 0.9713818776103141\n",
            "Epoch: 3/5............. "
          ]
        },
        {
          "output_type": "stream",
          "name": "stderr",
          "text": [
            "\r 39%|███▉      | 144/370 [00:40<01:03,  3.53it/s]"
          ]
        },
        {
          "output_type": "stream",
          "name": "stdout",
          "text": [
            "Loss: 0.0915\n",
            "acc: 0.9711017234289132\n",
            "Epoch: 3/5............. "
          ]
        },
        {
          "output_type": "stream",
          "name": "stderr",
          "text": [
            "\r 39%|███▉      | 145/370 [00:41<01:03,  3.52it/s]"
          ]
        },
        {
          "output_type": "stream",
          "name": "stdout",
          "text": [
            "Loss: 0.0864\n",
            "acc: 0.9711893965817928\n",
            "Epoch: 3/5............. "
          ]
        },
        {
          "output_type": "stream",
          "name": "stderr",
          "text": [
            "\r 39%|███▉      | 146/370 [00:41<01:03,  3.53it/s]"
          ]
        },
        {
          "output_type": "stream",
          "name": "stdout",
          "text": [
            "Loss: 0.0905\n",
            "acc: 0.969945167923235\n",
            "Epoch: 3/5............. "
          ]
        },
        {
          "output_type": "stream",
          "name": "stderr",
          "text": [
            "\r 40%|███▉      | 147/370 [00:41<01:03,  3.52it/s]"
          ]
        },
        {
          "output_type": "stream",
          "name": "stdout",
          "text": [
            "Loss: 0.0842\n",
            "acc: 0.9736231884057971\n",
            "Epoch: 3/5............. "
          ]
        },
        {
          "output_type": "stream",
          "name": "stderr",
          "text": [
            "\r 40%|████      | 148/370 [00:42<01:03,  3.51it/s]"
          ]
        },
        {
          "output_type": "stream",
          "name": "stdout",
          "text": [
            "Loss: 0.0802\n",
            "acc: 0.9722610551099993\n",
            "Epoch: 3/5............. "
          ]
        },
        {
          "output_type": "stream",
          "name": "stderr",
          "text": [
            "\r 40%|████      | 149/370 [00:42<01:03,  3.48it/s]"
          ]
        },
        {
          "output_type": "stream",
          "name": "stdout",
          "text": [
            "Loss: 0.0954\n",
            "acc: 0.9701807440748295\n",
            "Epoch: 3/5............. "
          ]
        },
        {
          "output_type": "stream",
          "name": "stderr",
          "text": [
            "\r 41%|████      | 150/370 [00:42<01:03,  3.48it/s]"
          ]
        },
        {
          "output_type": "stream",
          "name": "stdout",
          "text": [
            "Loss: 0.0832\n",
            "acc: 0.9723586562936938\n",
            "Epoch: 3/5............. "
          ]
        },
        {
          "output_type": "stream",
          "name": "stderr",
          "text": [
            "\r 41%|████      | 151/370 [00:42<01:02,  3.50it/s]"
          ]
        },
        {
          "output_type": "stream",
          "name": "stdout",
          "text": [
            "Loss: 0.0830\n",
            "acc: 0.9720414043325152\n",
            "Epoch: 3/5............. "
          ]
        },
        {
          "output_type": "stream",
          "name": "stderr",
          "text": [
            "\r 41%|████      | 152/370 [00:43<01:02,  3.51it/s]"
          ]
        },
        {
          "output_type": "stream",
          "name": "stdout",
          "text": [
            "Loss: 0.0878\n",
            "acc: 0.9710038217453806\n",
            "Epoch: 3/5............. "
          ]
        },
        {
          "output_type": "stream",
          "name": "stderr",
          "text": [
            "\r 41%|████▏     | 153/370 [00:43<01:01,  3.50it/s]"
          ]
        },
        {
          "output_type": "stream",
          "name": "stdout",
          "text": [
            "Loss: 0.0980\n",
            "acc: 0.9688941753171857\n",
            "Epoch: 3/5............. "
          ]
        },
        {
          "output_type": "stream",
          "name": "stderr",
          "text": [
            "\r 42%|████▏     | 154/370 [00:43<01:01,  3.51it/s]"
          ]
        },
        {
          "output_type": "stream",
          "name": "stdout",
          "text": [
            "Loss: 0.0877\n",
            "acc: 0.9721636305528923\n",
            "Epoch: 3/5............. "
          ]
        },
        {
          "output_type": "stream",
          "name": "stderr",
          "text": [
            "\r 42%|████▏     | 155/370 [00:44<01:01,  3.51it/s]"
          ]
        },
        {
          "output_type": "stream",
          "name": "stdout",
          "text": [
            "Loss: 0.0718\n",
            "acc: 0.975633493133403\n",
            "Epoch: 3/5............. "
          ]
        },
        {
          "output_type": "stream",
          "name": "stderr",
          "text": [
            "\r 42%|████▏     | 156/370 [00:44<01:01,  3.51it/s]"
          ]
        },
        {
          "output_type": "stream",
          "name": "stdout",
          "text": [
            "Loss: 0.0936\n",
            "acc: 0.9692444035974529\n",
            "Epoch: 3/5............. "
          ]
        },
        {
          "output_type": "stream",
          "name": "stderr",
          "text": [
            "\r 42%|████▏     | 157/370 [00:44<01:00,  3.50it/s]"
          ]
        },
        {
          "output_type": "stream",
          "name": "stdout",
          "text": [
            "Loss: 0.0764\n",
            "acc: 0.973868502140942\n",
            "Epoch: 3/5............. "
          ]
        },
        {
          "output_type": "stream",
          "name": "stderr",
          "text": [
            "\r 43%|████▎     | 158/370 [00:44<01:00,  3.50it/s]"
          ]
        },
        {
          "output_type": "stream",
          "name": "stdout",
          "text": [
            "Loss: 0.0870\n",
            "acc: 0.971486564855983\n",
            "Epoch: 3/5............. "
          ]
        },
        {
          "output_type": "stream",
          "name": "stderr",
          "text": [
            "\r 43%|████▎     | 159/370 [00:45<01:00,  3.48it/s]"
          ]
        },
        {
          "output_type": "stream",
          "name": "stdout",
          "text": [
            "Loss: 0.0845\n",
            "acc: 0.9704719039825422\n",
            "Epoch: 3/5............. "
          ]
        },
        {
          "output_type": "stream",
          "name": "stderr",
          "text": [
            "\r 43%|████▎     | 160/370 [00:45<01:00,  3.49it/s]"
          ]
        },
        {
          "output_type": "stream",
          "name": "stdout",
          "text": [
            "Loss: 0.0986\n",
            "acc: 0.9663595242084101\n",
            "Epoch: 3/5............. "
          ]
        },
        {
          "output_type": "stream",
          "name": "stderr",
          "text": [
            "\r 44%|████▎     | 161/370 [00:45<00:59,  3.50it/s]"
          ]
        },
        {
          "output_type": "stream",
          "name": "stdout",
          "text": [
            "Loss: 0.1039\n",
            "acc: 0.9665738161559888\n",
            "Epoch: 3/5............. "
          ]
        },
        {
          "output_type": "stream",
          "name": "stderr",
          "text": [
            "\r 44%|████▍     | 162/370 [00:46<00:59,  3.51it/s]"
          ]
        },
        {
          "output_type": "stream",
          "name": "stdout",
          "text": [
            "Loss: 0.0818\n",
            "acc: 0.9733064461002119\n",
            "Epoch: 3/5............. "
          ]
        },
        {
          "output_type": "stream",
          "name": "stderr",
          "text": [
            "\r 44%|████▍     | 163/370 [00:46<00:58,  3.51it/s]"
          ]
        },
        {
          "output_type": "stream",
          "name": "stdout",
          "text": [
            "Loss: 0.0831\n",
            "acc: 0.9717376605814739\n",
            "Epoch: 3/5............. "
          ]
        },
        {
          "output_type": "stream",
          "name": "stderr",
          "text": [
            "\r 44%|████▍     | 164/370 [00:46<00:58,  3.53it/s]"
          ]
        },
        {
          "output_type": "stream",
          "name": "stdout",
          "text": [
            "Loss: 0.0807\n",
            "acc: 0.9734657223220035\n",
            "Epoch: 3/5............. "
          ]
        },
        {
          "output_type": "stream",
          "name": "stderr",
          "text": [
            "\r 45%|████▍     | 165/370 [00:46<00:58,  3.51it/s]"
          ]
        },
        {
          "output_type": "stream",
          "name": "stdout",
          "text": [
            "Loss: 0.0878\n",
            "acc: 0.9702234100877193\n",
            "Epoch: 3/5............. "
          ]
        },
        {
          "output_type": "stream",
          "name": "stderr",
          "text": [
            "\r 45%|████▍     | 166/370 [00:47<00:57,  3.53it/s]"
          ]
        },
        {
          "output_type": "stream",
          "name": "stdout",
          "text": [
            "Loss: 0.0900\n",
            "acc: 0.9697529723402945\n",
            "Epoch: 3/5............. "
          ]
        },
        {
          "output_type": "stream",
          "name": "stderr",
          "text": [
            "\r 45%|████▌     | 167/370 [00:47<00:57,  3.52it/s]"
          ]
        },
        {
          "output_type": "stream",
          "name": "stdout",
          "text": [
            "Loss: 0.0793\n",
            "acc: 0.9738517816014091\n",
            "Epoch: 3/5............. "
          ]
        },
        {
          "output_type": "stream",
          "name": "stderr",
          "text": [
            "\r 45%|████▌     | 168/370 [00:47<00:57,  3.53it/s]"
          ]
        },
        {
          "output_type": "stream",
          "name": "stdout",
          "text": [
            "Loss: 0.0866\n",
            "acc: 0.9722742462634497\n",
            "Epoch: 3/5............. "
          ]
        },
        {
          "output_type": "stream",
          "name": "stderr",
          "text": [
            "\r 46%|████▌     | 169/370 [00:48<00:57,  3.52it/s]"
          ]
        },
        {
          "output_type": "stream",
          "name": "stdout",
          "text": [
            "Loss: 0.0844\n",
            "acc: 0.9717661821604099\n",
            "Epoch: 3/5............. "
          ]
        },
        {
          "output_type": "stream",
          "name": "stderr",
          "text": [
            "\r 46%|████▌     | 170/370 [00:48<00:56,  3.51it/s]"
          ]
        },
        {
          "output_type": "stream",
          "name": "stdout",
          "text": [
            "Loss: 0.0721\n",
            "acc: 0.975311879518975\n",
            "Epoch: 3/5............. "
          ]
        },
        {
          "output_type": "stream",
          "name": "stderr",
          "text": [
            "\r 46%|████▌     | 171/370 [00:48<00:56,  3.52it/s]"
          ]
        },
        {
          "output_type": "stream",
          "name": "stdout",
          "text": [
            "Loss: 0.0736\n",
            "acc: 0.9748064558456896\n",
            "Epoch: 3/5............. "
          ]
        },
        {
          "output_type": "stream",
          "name": "stderr",
          "text": [
            "\r 46%|████▋     | 172/370 [00:48<00:56,  3.52it/s]"
          ]
        },
        {
          "output_type": "stream",
          "name": "stdout",
          "text": [
            "Loss: 0.0793\n",
            "acc: 0.9721195834732953\n",
            "Epoch: 3/5............. "
          ]
        },
        {
          "output_type": "stream",
          "name": "stderr",
          "text": [
            "\r 47%|████▋     | 173/370 [00:49<00:55,  3.54it/s]"
          ]
        },
        {
          "output_type": "stream",
          "name": "stdout",
          "text": [
            "Loss: 0.0870\n",
            "acc: 0.9716792153070387\n",
            "Epoch: 3/5............. "
          ]
        },
        {
          "output_type": "stream",
          "name": "stderr",
          "text": [
            "\r 47%|████▋     | 174/370 [00:49<00:55,  3.54it/s]"
          ]
        },
        {
          "output_type": "stream",
          "name": "stdout",
          "text": [
            "Loss: 0.0876\n",
            "acc: 0.9710368301062839\n",
            "Epoch: 3/5............. "
          ]
        },
        {
          "output_type": "stream",
          "name": "stderr",
          "text": [
            "\r 47%|████▋     | 175/370 [00:49<00:55,  3.53it/s]"
          ]
        },
        {
          "output_type": "stream",
          "name": "stdout",
          "text": [
            "Loss: 0.0861\n",
            "acc: 0.971181654247899\n",
            "Epoch: 3/5............. "
          ]
        },
        {
          "output_type": "stream",
          "name": "stderr",
          "text": [
            "\r 48%|████▊     | 176/370 [00:49<00:55,  3.53it/s]"
          ]
        },
        {
          "output_type": "stream",
          "name": "stdout",
          "text": [
            "Loss: 0.0809\n",
            "acc: 0.9739036153587318\n",
            "Epoch: 3/5............. "
          ]
        },
        {
          "output_type": "stream",
          "name": "stderr",
          "text": [
            "\r 48%|████▊     | 177/370 [00:50<00:54,  3.52it/s]"
          ]
        },
        {
          "output_type": "stream",
          "name": "stdout",
          "text": [
            "Loss: 0.0909\n",
            "acc: 0.9686246843903163\n",
            "Epoch: 3/5............. "
          ]
        },
        {
          "output_type": "stream",
          "name": "stderr",
          "text": [
            "\r 48%|████▊     | 178/370 [00:50<00:54,  3.53it/s]"
          ]
        },
        {
          "output_type": "stream",
          "name": "stdout",
          "text": [
            "Loss: 0.0771\n",
            "acc: 0.9749570528726856\n",
            "Epoch: 3/5............. "
          ]
        },
        {
          "output_type": "stream",
          "name": "stderr",
          "text": [
            "\r 48%|████▊     | 179/370 [00:50<00:54,  3.52it/s]"
          ]
        },
        {
          "output_type": "stream",
          "name": "stdout",
          "text": [
            "Loss: 0.0954\n",
            "acc: 0.9694336967991558\n",
            "Epoch: 3/5............. "
          ]
        },
        {
          "output_type": "stream",
          "name": "stderr",
          "text": [
            "\r 49%|████▊     | 180/370 [00:51<00:54,  3.51it/s]"
          ]
        },
        {
          "output_type": "stream",
          "name": "stdout",
          "text": [
            "Loss: 0.0938\n",
            "acc: 0.9705236542684144\n",
            "Epoch: 3/5............. "
          ]
        },
        {
          "output_type": "stream",
          "name": "stderr",
          "text": [
            "\r 49%|████▉     | 181/370 [00:51<00:53,  3.52it/s]"
          ]
        },
        {
          "output_type": "stream",
          "name": "stdout",
          "text": [
            "Loss: 0.0843\n",
            "acc: 0.9720603615717914\n",
            "Epoch: 3/5............. "
          ]
        },
        {
          "output_type": "stream",
          "name": "stderr",
          "text": [
            "\r 49%|████▉     | 182/370 [00:51<00:53,  3.52it/s]"
          ]
        },
        {
          "output_type": "stream",
          "name": "stdout",
          "text": [
            "Loss: 0.0789\n",
            "acc: 0.9729250204038182\n",
            "Epoch: 3/5............. "
          ]
        },
        {
          "output_type": "stream",
          "name": "stderr",
          "text": [
            "\r 49%|████▉     | 183/370 [00:51<00:52,  3.53it/s]"
          ]
        },
        {
          "output_type": "stream",
          "name": "stdout",
          "text": [
            "Loss: 0.0946\n",
            "acc: 0.969406723589275\n",
            "Epoch: 3/5............. "
          ]
        },
        {
          "output_type": "stream",
          "name": "stderr",
          "text": [
            "\r 50%|████▉     | 184/370 [00:52<00:52,  3.53it/s]"
          ]
        },
        {
          "output_type": "stream",
          "name": "stdout",
          "text": [
            "Loss: 0.0729\n",
            "acc: 0.9745174805961948\n",
            "Epoch: 3/5............. "
          ]
        },
        {
          "output_type": "stream",
          "name": "stderr",
          "text": [
            "\r 50%|█████     | 185/370 [00:52<00:52,  3.53it/s]"
          ]
        },
        {
          "output_type": "stream",
          "name": "stdout",
          "text": [
            "Loss: 0.0895\n",
            "acc: 0.9704800999464572\n",
            "Epoch: 3/5............. "
          ]
        },
        {
          "output_type": "stream",
          "name": "stderr",
          "text": [
            "\r 50%|█████     | 186/370 [00:52<00:52,  3.52it/s]"
          ]
        },
        {
          "output_type": "stream",
          "name": "stdout",
          "text": [
            "Loss: 0.0926\n",
            "acc: 0.9692049272116461\n",
            "Epoch: 3/5............. "
          ]
        },
        {
          "output_type": "stream",
          "name": "stderr",
          "text": [
            "\r 51%|█████     | 187/370 [00:53<00:52,  3.52it/s]"
          ]
        },
        {
          "output_type": "stream",
          "name": "stdout",
          "text": [
            "Loss: 0.0854\n",
            "acc: 0.9724346496106785\n",
            "Epoch: 3/5............. "
          ]
        },
        {
          "output_type": "stream",
          "name": "stderr",
          "text": [
            "\r 51%|█████     | 188/370 [00:53<00:51,  3.51it/s]"
          ]
        },
        {
          "output_type": "stream",
          "name": "stdout",
          "text": [
            "Loss: 0.0795\n",
            "acc: 0.9722282222976517\n",
            "Epoch: 3/5............. "
          ]
        },
        {
          "output_type": "stream",
          "name": "stderr",
          "text": [
            "\r 51%|█████     | 189/370 [00:53<00:51,  3.50it/s]"
          ]
        },
        {
          "output_type": "stream",
          "name": "stdout",
          "text": [
            "Loss: 0.0920\n",
            "acc: 0.971346302408877\n",
            "Epoch: 3/5............. "
          ]
        },
        {
          "output_type": "stream",
          "name": "stderr",
          "text": [
            "\r 51%|█████▏    | 190/370 [00:53<00:51,  3.48it/s]"
          ]
        },
        {
          "output_type": "stream",
          "name": "stdout",
          "text": [
            "Loss: 0.0876\n",
            "acc: 0.9713888029693782\n",
            "Epoch: 3/5............. "
          ]
        },
        {
          "output_type": "stream",
          "name": "stderr",
          "text": [
            "\r 52%|█████▏    | 191/370 [00:54<00:51,  3.49it/s]"
          ]
        },
        {
          "output_type": "stream",
          "name": "stdout",
          "text": [
            "Loss: 0.0801\n",
            "acc: 0.9717993010083156\n",
            "Epoch: 3/5............. "
          ]
        },
        {
          "output_type": "stream",
          "name": "stderr",
          "text": [
            "\r 52%|█████▏    | 192/370 [00:54<00:51,  3.49it/s]"
          ]
        },
        {
          "output_type": "stream",
          "name": "stdout",
          "text": [
            "Loss: 0.0834\n",
            "acc: 0.9722322394518572\n",
            "Epoch: 3/5............. "
          ]
        },
        {
          "output_type": "stream",
          "name": "stderr",
          "text": [
            "\r 52%|█████▏    | 193/370 [00:54<00:50,  3.50it/s]"
          ]
        },
        {
          "output_type": "stream",
          "name": "stdout",
          "text": [
            "Loss: 0.0879\n",
            "acc: 0.9705604001892787\n",
            "Epoch: 3/5............. "
          ]
        },
        {
          "output_type": "stream",
          "name": "stderr",
          "text": [
            "\r 52%|█████▏    | 194/370 [00:55<00:50,  3.49it/s]"
          ]
        },
        {
          "output_type": "stream",
          "name": "stdout",
          "text": [
            "Loss: 0.0780\n",
            "acc: 0.975518198139383\n",
            "Epoch: 3/5............. "
          ]
        },
        {
          "output_type": "stream",
          "name": "stderr",
          "text": [
            "\r 53%|█████▎    | 195/370 [00:55<00:50,  3.47it/s]"
          ]
        },
        {
          "output_type": "stream",
          "name": "stdout",
          "text": [
            "Loss: 0.0914\n",
            "acc: 0.9691222466227457\n",
            "Epoch: 3/5............. "
          ]
        },
        {
          "output_type": "stream",
          "name": "stderr",
          "text": [
            "\r 53%|█████▎    | 196/370 [00:55<00:50,  3.47it/s]"
          ]
        },
        {
          "output_type": "stream",
          "name": "stdout",
          "text": [
            "Loss: 0.0899\n",
            "acc: 0.9709892362890825\n",
            "Epoch: 3/5............. "
          ]
        },
        {
          "output_type": "stream",
          "name": "stderr",
          "text": [
            "\r 53%|█████▎    | 197/370 [00:55<00:49,  3.49it/s]"
          ]
        },
        {
          "output_type": "stream",
          "name": "stdout",
          "text": [
            "Loss: 0.0880\n",
            "acc: 0.969883243007311\n",
            "Epoch: 3/5............. "
          ]
        },
        {
          "output_type": "stream",
          "name": "stderr",
          "text": [
            "\r 54%|█████▎    | 198/370 [00:56<00:49,  3.50it/s]"
          ]
        },
        {
          "output_type": "stream",
          "name": "stdout",
          "text": [
            "Loss: 0.0825\n",
            "acc: 0.9734574719899006\n",
            "Epoch: 3/5............. "
          ]
        },
        {
          "output_type": "stream",
          "name": "stderr",
          "text": [
            "\r 54%|█████▍    | 199/370 [00:56<00:48,  3.51it/s]"
          ]
        },
        {
          "output_type": "stream",
          "name": "stdout",
          "text": [
            "Loss: 0.0800\n",
            "acc: 0.9731120501635769\n",
            "Epoch: 3/5............. "
          ]
        },
        {
          "output_type": "stream",
          "name": "stderr",
          "text": [
            "\r 54%|█████▍    | 200/370 [00:56<00:48,  3.50it/s]"
          ]
        },
        {
          "output_type": "stream",
          "name": "stdout",
          "text": [
            "Loss: 0.0888\n",
            "acc: 0.9708899572245145\n",
            "Epoch: 3/5............. "
          ]
        },
        {
          "output_type": "stream",
          "name": "stderr",
          "text": [
            "\r 54%|█████▍    | 201/370 [00:57<00:48,  3.49it/s]"
          ]
        },
        {
          "output_type": "stream",
          "name": "stdout",
          "text": [
            "Loss: 0.0836\n",
            "acc: 0.9736124667631517\n",
            "Epoch: 3/5............. "
          ]
        },
        {
          "output_type": "stream",
          "name": "stderr",
          "text": [
            "\r 55%|█████▍    | 202/370 [00:57<00:48,  3.48it/s]"
          ]
        },
        {
          "output_type": "stream",
          "name": "stdout",
          "text": [
            "Loss: 0.0835\n",
            "acc: 0.9728684668428176\n",
            "Epoch: 3/5............. "
          ]
        },
        {
          "output_type": "stream",
          "name": "stderr",
          "text": [
            "\r 55%|█████▍    | 203/370 [00:57<00:48,  3.47it/s]"
          ]
        },
        {
          "output_type": "stream",
          "name": "stdout",
          "text": [
            "Loss: 0.0799\n",
            "acc: 0.9719153182692993\n",
            "Epoch: 3/5............. "
          ]
        },
        {
          "output_type": "stream",
          "name": "stderr",
          "text": [
            "\r 55%|█████▌    | 204/370 [00:57<00:47,  3.50it/s]"
          ]
        },
        {
          "output_type": "stream",
          "name": "stdout",
          "text": [
            "Loss: 0.0789\n",
            "acc: 0.9746532909839932\n",
            "Epoch: 3/5............. "
          ]
        },
        {
          "output_type": "stream",
          "name": "stderr",
          "text": [
            "\r 55%|█████▌    | 205/370 [00:58<00:47,  3.49it/s]"
          ]
        },
        {
          "output_type": "stream",
          "name": "stdout",
          "text": [
            "Loss: 0.1037\n",
            "acc: 0.9674556213017751\n",
            "Epoch: 3/5............. "
          ]
        },
        {
          "output_type": "stream",
          "name": "stderr",
          "text": [
            "\r 56%|█████▌    | 206/370 [00:58<00:46,  3.51it/s]"
          ]
        },
        {
          "output_type": "stream",
          "name": "stdout",
          "text": [
            "Loss: 0.0840\n",
            "acc: 0.9717797566787909\n",
            "Epoch: 3/5............. "
          ]
        },
        {
          "output_type": "stream",
          "name": "stderr",
          "text": [
            "\r 56%|█████▌    | 207/370 [00:58<00:46,  3.51it/s]"
          ]
        },
        {
          "output_type": "stream",
          "name": "stdout",
          "text": [
            "Loss: 0.0903\n",
            "acc: 0.97046486636392\n",
            "Epoch: 3/5............. "
          ]
        },
        {
          "output_type": "stream",
          "name": "stderr",
          "text": [
            "\r 56%|█████▌    | 208/370 [00:59<00:46,  3.51it/s]"
          ]
        },
        {
          "output_type": "stream",
          "name": "stdout",
          "text": [
            "Loss: 0.0759\n",
            "acc: 0.9750663912658601\n",
            "Epoch: 3/5............. "
          ]
        },
        {
          "output_type": "stream",
          "name": "stderr",
          "text": [
            "\r 56%|█████▋    | 209/370 [00:59<00:45,  3.51it/s]"
          ]
        },
        {
          "output_type": "stream",
          "name": "stdout",
          "text": [
            "Loss: 0.1063\n",
            "acc: 0.9655337130259048\n",
            "Epoch: 3/5............. "
          ]
        },
        {
          "output_type": "stream",
          "name": "stderr",
          "text": [
            "\r 57%|█████▋    | 210/370 [00:59<00:45,  3.53it/s]"
          ]
        },
        {
          "output_type": "stream",
          "name": "stdout",
          "text": [
            "Loss: 0.0906\n",
            "acc: 0.9700525794406767\n",
            "Epoch: 3/5............. "
          ]
        },
        {
          "output_type": "stream",
          "name": "stderr",
          "text": [
            "\r 57%|█████▋    | 211/370 [00:59<00:45,  3.53it/s]"
          ]
        },
        {
          "output_type": "stream",
          "name": "stdout",
          "text": [
            "Loss: 0.0905\n",
            "acc: 0.9708615925646822\n",
            "Epoch: 3/5............. "
          ]
        },
        {
          "output_type": "stream",
          "name": "stderr",
          "text": [
            "\r 57%|█████▋    | 212/370 [01:00<00:44,  3.53it/s]"
          ]
        },
        {
          "output_type": "stream",
          "name": "stdout",
          "text": [
            "Loss: 0.0880\n",
            "acc: 0.9713889076996005\n",
            "Epoch: 3/5............. "
          ]
        },
        {
          "output_type": "stream",
          "name": "stderr",
          "text": [
            "\r 58%|█████▊    | 213/370 [01:00<00:44,  3.52it/s]"
          ]
        },
        {
          "output_type": "stream",
          "name": "stdout",
          "text": [
            "Loss: 0.0912\n",
            "acc: 0.9699322000589564\n",
            "Epoch: 3/5............. "
          ]
        },
        {
          "output_type": "stream",
          "name": "stderr",
          "text": [
            "\r 58%|█████▊    | 214/370 [01:00<00:44,  3.53it/s]"
          ]
        },
        {
          "output_type": "stream",
          "name": "stdout",
          "text": [
            "Loss: 0.0887\n",
            "acc: 0.9701234645471396\n",
            "Epoch: 3/5............. "
          ]
        },
        {
          "output_type": "stream",
          "name": "stderr",
          "text": [
            "\r 58%|█████▊    | 215/370 [01:01<00:43,  3.52it/s]"
          ]
        },
        {
          "output_type": "stream",
          "name": "stdout",
          "text": [
            "Loss: 0.0753\n",
            "acc: 0.9743972531163694\n",
            "Epoch: 3/5............. "
          ]
        },
        {
          "output_type": "stream",
          "name": "stderr",
          "text": [
            "\r 58%|█████▊    | 216/370 [01:01<00:43,  3.53it/s]"
          ]
        },
        {
          "output_type": "stream",
          "name": "stdout",
          "text": [
            "Loss: 0.0963\n",
            "acc: 0.9690136899968489\n",
            "Epoch: 3/5............. "
          ]
        },
        {
          "output_type": "stream",
          "name": "stderr",
          "text": [
            "\r 59%|█████▊    | 217/370 [01:01<00:43,  3.52it/s]"
          ]
        },
        {
          "output_type": "stream",
          "name": "stdout",
          "text": [
            "Loss: 0.0932\n",
            "acc: 0.9693566806242863\n",
            "Epoch: 3/5............. "
          ]
        },
        {
          "output_type": "stream",
          "name": "stderr",
          "text": [
            "\r 59%|█████▉    | 218/370 [01:01<00:43,  3.51it/s]"
          ]
        },
        {
          "output_type": "stream",
          "name": "stdout",
          "text": [
            "Loss: 0.0943\n",
            "acc: 0.9705463950856773\n",
            "Epoch: 3/5............. "
          ]
        },
        {
          "output_type": "stream",
          "name": "stderr",
          "text": [
            "\r 59%|█████▉    | 219/370 [01:02<00:42,  3.52it/s]"
          ]
        },
        {
          "output_type": "stream",
          "name": "stdout",
          "text": [
            "Loss: 0.0921\n",
            "acc: 0.970150168556543\n",
            "Epoch: 3/5............. "
          ]
        },
        {
          "output_type": "stream",
          "name": "stderr",
          "text": [
            "\r 59%|█████▉    | 220/370 [01:02<00:42,  3.51it/s]"
          ]
        },
        {
          "output_type": "stream",
          "name": "stdout",
          "text": [
            "Loss: 0.0917\n",
            "acc: 0.9705007256894049\n",
            "Epoch: 3/5............. "
          ]
        },
        {
          "output_type": "stream",
          "name": "stderr",
          "text": [
            "\r 60%|█████▉    | 221/370 [01:02<00:42,  3.53it/s]"
          ]
        },
        {
          "output_type": "stream",
          "name": "stdout",
          "text": [
            "Loss: 0.0772\n",
            "acc: 0.9757051745676902\n",
            "Epoch: 3/5............. "
          ]
        },
        {
          "output_type": "stream",
          "name": "stderr",
          "text": [
            "\r 60%|██████    | 222/370 [01:03<00:41,  3.53it/s]"
          ]
        },
        {
          "output_type": "stream",
          "name": "stdout",
          "text": [
            "Loss: 0.0901\n",
            "acc: 0.9697749876560626\n",
            "Epoch: 3/5............. "
          ]
        },
        {
          "output_type": "stream",
          "name": "stderr",
          "text": [
            "\r 60%|██████    | 223/370 [01:03<00:41,  3.53it/s]"
          ]
        },
        {
          "output_type": "stream",
          "name": "stdout",
          "text": [
            "Loss: 0.0884\n",
            "acc: 0.970914632126412\n",
            "Epoch: 3/5............. "
          ]
        },
        {
          "output_type": "stream",
          "name": "stderr",
          "text": [
            "\r 61%|██████    | 224/370 [01:03<00:41,  3.53it/s]"
          ]
        },
        {
          "output_type": "stream",
          "name": "stdout",
          "text": [
            "Loss: 0.0912\n",
            "acc: 0.9700189753320683\n",
            "Epoch: 3/5............. "
          ]
        },
        {
          "output_type": "stream",
          "name": "stderr",
          "text": [
            "\r 61%|██████    | 225/370 [01:03<00:41,  3.52it/s]"
          ]
        },
        {
          "output_type": "stream",
          "name": "stdout",
          "text": [
            "Loss: 0.0853\n",
            "acc: 0.9705405206105744\n",
            "Epoch: 3/5............. "
          ]
        },
        {
          "output_type": "stream",
          "name": "stderr",
          "text": [
            "\r 61%|██████    | 226/370 [01:04<00:40,  3.53it/s]"
          ]
        },
        {
          "output_type": "stream",
          "name": "stdout",
          "text": [
            "Loss: 0.0859\n",
            "acc: 0.9702135493372607\n",
            "Epoch: 3/5............. "
          ]
        },
        {
          "output_type": "stream",
          "name": "stderr",
          "text": [
            "\r 61%|██████▏   | 227/370 [01:04<00:40,  3.53it/s]"
          ]
        },
        {
          "output_type": "stream",
          "name": "stdout",
          "text": [
            "Loss: 0.0806\n",
            "acc: 0.9727675528289025\n",
            "Epoch: 3/5............. "
          ]
        },
        {
          "output_type": "stream",
          "name": "stderr",
          "text": [
            "\r 62%|██████▏   | 228/370 [01:04<00:40,  3.53it/s]"
          ]
        },
        {
          "output_type": "stream",
          "name": "stdout",
          "text": [
            "Loss: 0.0790\n",
            "acc: 0.97273955220826\n",
            "Epoch: 3/5............. "
          ]
        },
        {
          "output_type": "stream",
          "name": "stderr",
          "text": [
            "\r 62%|██████▏   | 229/370 [01:05<00:39,  3.54it/s]"
          ]
        },
        {
          "output_type": "stream",
          "name": "stdout",
          "text": [
            "Loss: 0.0767\n",
            "acc: 0.9763187979748489\n",
            "Epoch: 3/5............. "
          ]
        },
        {
          "output_type": "stream",
          "name": "stderr",
          "text": [
            "\r 62%|██████▏   | 230/370 [01:05<00:39,  3.53it/s]"
          ]
        },
        {
          "output_type": "stream",
          "name": "stdout",
          "text": [
            "Loss: 0.0729\n",
            "acc: 0.9753077373974208\n",
            "Epoch: 3/5............. "
          ]
        },
        {
          "output_type": "stream",
          "name": "stderr",
          "text": [
            "\r 62%|██████▏   | 231/370 [01:05<00:39,  3.53it/s]"
          ]
        },
        {
          "output_type": "stream",
          "name": "stdout",
          "text": [
            "Loss: 0.0807\n",
            "acc: 0.9728075421254441\n",
            "Epoch: 3/5............. "
          ]
        },
        {
          "output_type": "stream",
          "name": "stderr",
          "text": [
            "\r 63%|██████▎   | 232/370 [01:05<00:39,  3.54it/s]"
          ]
        },
        {
          "output_type": "stream",
          "name": "stdout",
          "text": [
            "Loss: 0.0829\n",
            "acc: 0.9731198542093787\n",
            "Epoch: 3/5............. "
          ]
        },
        {
          "output_type": "stream",
          "name": "stderr",
          "text": [
            "\r 63%|██████▎   | 233/370 [01:06<00:38,  3.54it/s]"
          ]
        },
        {
          "output_type": "stream",
          "name": "stdout",
          "text": [
            "Loss: 0.0860\n",
            "acc: 0.9723317272594539\n",
            "Epoch: 3/5............. "
          ]
        },
        {
          "output_type": "stream",
          "name": "stderr",
          "text": [
            "\r 63%|██████▎   | 234/370 [01:06<00:38,  3.52it/s]"
          ]
        },
        {
          "output_type": "stream",
          "name": "stdout",
          "text": [
            "Loss: 0.0914\n",
            "acc: 0.9697032080974438\n",
            "Epoch: 3/5............. "
          ]
        },
        {
          "output_type": "stream",
          "name": "stderr",
          "text": [
            "\r 64%|██████▎   | 235/370 [01:06<00:38,  3.53it/s]"
          ]
        },
        {
          "output_type": "stream",
          "name": "stdout",
          "text": [
            "Loss: 0.0929\n",
            "acc: 0.9690419291766239\n",
            "Epoch: 3/5............. "
          ]
        },
        {
          "output_type": "stream",
          "name": "stderr",
          "text": [
            "\r 64%|██████▍   | 236/370 [01:07<00:37,  3.53it/s]"
          ]
        },
        {
          "output_type": "stream",
          "name": "stdout",
          "text": [
            "Loss: 0.0858\n",
            "acc: 0.9725770097670924\n",
            "Epoch: 3/5............. "
          ]
        },
        {
          "output_type": "stream",
          "name": "stderr",
          "text": [
            "\r 64%|██████▍   | 237/370 [01:07<00:37,  3.54it/s]"
          ]
        },
        {
          "output_type": "stream",
          "name": "stdout",
          "text": [
            "Loss: 0.0843\n",
            "acc: 0.9723618090452262\n",
            "Epoch: 3/5............. "
          ]
        },
        {
          "output_type": "stream",
          "name": "stderr",
          "text": [
            "\r 64%|██████▍   | 238/370 [01:07<00:37,  3.53it/s]"
          ]
        },
        {
          "output_type": "stream",
          "name": "stdout",
          "text": [
            "Loss: 0.0784\n",
            "acc: 0.973668334575393\n",
            "Epoch: 3/5............. "
          ]
        },
        {
          "output_type": "stream",
          "name": "stderr",
          "text": [
            "\r 65%|██████▍   | 239/370 [01:07<00:37,  3.51it/s]"
          ]
        },
        {
          "output_type": "stream",
          "name": "stdout",
          "text": [
            "Loss: 0.0812\n",
            "acc: 0.9719840447250228\n",
            "Epoch: 3/5............. "
          ]
        },
        {
          "output_type": "stream",
          "name": "stderr",
          "text": [
            "\r 65%|██████▍   | 240/370 [01:08<00:36,  3.52it/s]"
          ]
        },
        {
          "output_type": "stream",
          "name": "stdout",
          "text": [
            "Loss: 0.0977\n",
            "acc: 0.9671753016323634\n",
            "Epoch: 3/5............. "
          ]
        },
        {
          "output_type": "stream",
          "name": "stderr",
          "text": [
            "\r 65%|██████▌   | 241/370 [01:08<00:36,  3.50it/s]"
          ]
        },
        {
          "output_type": "stream",
          "name": "stdout",
          "text": [
            "Loss: 0.0877\n",
            "acc: 0.9704137978048947\n",
            "Epoch: 3/5............. "
          ]
        },
        {
          "output_type": "stream",
          "name": "stderr",
          "text": [
            "\r 65%|██████▌   | 242/370 [01:08<00:36,  3.47it/s]"
          ]
        },
        {
          "output_type": "stream",
          "name": "stdout",
          "text": [
            "Loss: 0.0823\n",
            "acc: 0.9723114092252917\n",
            "Epoch: 3/5............. "
          ]
        },
        {
          "output_type": "stream",
          "name": "stderr",
          "text": [
            "\r 66%|██████▌   | 243/370 [01:09<00:36,  3.48it/s]"
          ]
        },
        {
          "output_type": "stream",
          "name": "stdout",
          "text": [
            "Loss: 0.0802\n",
            "acc: 0.971949221949222\n",
            "Epoch: 3/5............. "
          ]
        },
        {
          "output_type": "stream",
          "name": "stderr",
          "text": [
            "\r 66%|██████▌   | 244/370 [01:09<00:35,  3.50it/s]"
          ]
        },
        {
          "output_type": "stream",
          "name": "stdout",
          "text": [
            "Loss: 0.0838\n",
            "acc: 0.9732792282367353\n",
            "Epoch: 3/5............. "
          ]
        },
        {
          "output_type": "stream",
          "name": "stderr",
          "text": [
            "\r 66%|██████▌   | 245/370 [01:09<00:35,  3.50it/s]"
          ]
        },
        {
          "output_type": "stream",
          "name": "stdout",
          "text": [
            "Loss: 0.0726\n",
            "acc: 0.9763339070567987\n",
            "Epoch: 3/5............. "
          ]
        },
        {
          "output_type": "stream",
          "name": "stderr",
          "text": [
            "\r 66%|██████▋   | 246/370 [01:09<00:35,  3.48it/s]"
          ]
        },
        {
          "output_type": "stream",
          "name": "stdout",
          "text": [
            "Loss: 0.0819\n",
            "acc: 0.9731511839708561\n",
            "Epoch: 3/5............. "
          ]
        },
        {
          "output_type": "stream",
          "name": "stderr",
          "text": [
            "\r 67%|██████▋   | 247/370 [01:10<00:35,  3.47it/s]"
          ]
        },
        {
          "output_type": "stream",
          "name": "stdout",
          "text": [
            "Loss: 0.0867\n",
            "acc: 0.970107763058549\n",
            "Epoch: 3/5............. "
          ]
        },
        {
          "output_type": "stream",
          "name": "stderr",
          "text": [
            "\r 67%|██████▋   | 248/370 [01:10<00:35,  3.48it/s]"
          ]
        },
        {
          "output_type": "stream",
          "name": "stdout",
          "text": [
            "Loss: 0.0980\n",
            "acc: 0.9686307295263713\n",
            "Epoch: 3/5............. "
          ]
        },
        {
          "output_type": "stream",
          "name": "stderr",
          "text": [
            "\r 67%|██████▋   | 249/370 [01:10<00:34,  3.48it/s]"
          ]
        },
        {
          "output_type": "stream",
          "name": "stdout",
          "text": [
            "Loss: 0.0945\n",
            "acc: 0.9680402508592283\n",
            "Epoch: 3/5............. "
          ]
        },
        {
          "output_type": "stream",
          "name": "stderr",
          "text": [
            "\r 68%|██████▊   | 250/370 [01:11<00:34,  3.47it/s]"
          ]
        },
        {
          "output_type": "stream",
          "name": "stdout",
          "text": [
            "Loss: 0.0869\n",
            "acc: 0.9722147651006712\n",
            "Epoch: 3/5............. "
          ]
        },
        {
          "output_type": "stream",
          "name": "stderr",
          "text": [
            "\r 68%|██████▊   | 251/370 [01:11<00:34,  3.47it/s]"
          ]
        },
        {
          "output_type": "stream",
          "name": "stdout",
          "text": [
            "Loss: 0.0853\n",
            "acc: 0.972270815498567\n",
            "Epoch: 3/5............. "
          ]
        },
        {
          "output_type": "stream",
          "name": "stderr",
          "text": [
            "\r 68%|██████▊   | 252/370 [01:11<00:33,  3.48it/s]"
          ]
        },
        {
          "output_type": "stream",
          "name": "stdout",
          "text": [
            "Loss: 0.0756\n",
            "acc: 0.9742473570618576\n",
            "Epoch: 3/5............. "
          ]
        },
        {
          "output_type": "stream",
          "name": "stderr",
          "text": [
            "\r 68%|██████▊   | 253/370 [01:11<00:33,  3.48it/s]"
          ]
        },
        {
          "output_type": "stream",
          "name": "stdout",
          "text": [
            "Loss: 0.0925\n",
            "acc: 0.9693009535569733\n",
            "Epoch: 3/5............. "
          ]
        },
        {
          "output_type": "stream",
          "name": "stderr",
          "text": [
            "\r 69%|██████▊   | 254/370 [01:12<00:33,  3.49it/s]"
          ]
        },
        {
          "output_type": "stream",
          "name": "stdout",
          "text": [
            "Loss: 0.0794\n",
            "acc: 0.9726873133577156\n",
            "Epoch: 3/5............. "
          ]
        },
        {
          "output_type": "stream",
          "name": "stderr",
          "text": [
            "\r 69%|██████▉   | 255/370 [01:12<00:32,  3.51it/s]"
          ]
        },
        {
          "output_type": "stream",
          "name": "stdout",
          "text": [
            "Loss: 0.0741\n",
            "acc: 0.9754283866795991\n",
            "Epoch: 3/5............. "
          ]
        },
        {
          "output_type": "stream",
          "name": "stderr",
          "text": [
            "\r 69%|██████▉   | 256/370 [01:12<00:32,  3.51it/s]"
          ]
        },
        {
          "output_type": "stream",
          "name": "stdout",
          "text": [
            "Loss: 0.0773\n",
            "acc: 0.9722192350431946\n",
            "Epoch: 3/5............. "
          ]
        },
        {
          "output_type": "stream",
          "name": "stderr",
          "text": [
            "\r 69%|██████▉   | 257/370 [01:13<00:32,  3.51it/s]"
          ]
        },
        {
          "output_type": "stream",
          "name": "stdout",
          "text": [
            "Loss: 0.0960\n",
            "acc: 0.9684718232436075\n",
            "Epoch: 3/5............. "
          ]
        },
        {
          "output_type": "stream",
          "name": "stderr",
          "text": [
            "\r 70%|██████▉   | 258/370 [01:13<00:31,  3.51it/s]"
          ]
        },
        {
          "output_type": "stream",
          "name": "stdout",
          "text": [
            "Loss: 0.0749\n",
            "acc: 0.97537517053206\n",
            "Epoch: 3/5............. "
          ]
        },
        {
          "output_type": "stream",
          "name": "stderr",
          "text": [
            "\r 70%|███████   | 259/370 [01:13<00:31,  3.50it/s]"
          ]
        },
        {
          "output_type": "stream",
          "name": "stdout",
          "text": [
            "Loss: 0.0842\n",
            "acc: 0.9735599970499299\n",
            "Epoch: 3/5............. "
          ]
        },
        {
          "output_type": "stream",
          "name": "stderr",
          "text": [
            "\r 70%|███████   | 260/370 [01:13<00:31,  3.48it/s]"
          ]
        },
        {
          "output_type": "stream",
          "name": "stdout",
          "text": [
            "Loss: 0.0802\n",
            "acc: 0.973989209351895\n",
            "Epoch: 3/5............. "
          ]
        },
        {
          "output_type": "stream",
          "name": "stderr",
          "text": [
            "\r 71%|███████   | 261/370 [01:14<00:31,  3.49it/s]"
          ]
        },
        {
          "output_type": "stream",
          "name": "stdout",
          "text": [
            "Loss: 0.0972\n",
            "acc: 0.9679426803013994\n",
            "Epoch: 3/5............. "
          ]
        },
        {
          "output_type": "stream",
          "name": "stderr",
          "text": [
            "\r 71%|███████   | 262/370 [01:14<00:30,  3.50it/s]"
          ]
        },
        {
          "output_type": "stream",
          "name": "stdout",
          "text": [
            "Loss: 0.0785\n",
            "acc: 0.972949067590477\n",
            "Epoch: 3/5............. "
          ]
        },
        {
          "output_type": "stream",
          "name": "stderr",
          "text": [
            "\r 71%|███████   | 263/370 [01:14<00:30,  3.51it/s]"
          ]
        },
        {
          "output_type": "stream",
          "name": "stdout",
          "text": [
            "Loss: 0.0843\n",
            "acc: 0.972377608888546\n",
            "Epoch: 3/5............. "
          ]
        },
        {
          "output_type": "stream",
          "name": "stderr",
          "text": [
            "\r 71%|███████▏  | 264/370 [01:15<00:30,  3.52it/s]"
          ]
        },
        {
          "output_type": "stream",
          "name": "stdout",
          "text": [
            "Loss: 0.0847\n",
            "acc: 0.9720724980299449\n",
            "Epoch: 3/5............. "
          ]
        },
        {
          "output_type": "stream",
          "name": "stderr",
          "text": [
            "\r 72%|███████▏  | 265/370 [01:15<00:29,  3.53it/s]"
          ]
        },
        {
          "output_type": "stream",
          "name": "stdout",
          "text": [
            "Loss: 0.0926\n",
            "acc: 0.9701015004413063\n",
            "Epoch: 3/5............. "
          ]
        },
        {
          "output_type": "stream",
          "name": "stderr",
          "text": [
            "\r 72%|███████▏  | 266/370 [01:15<00:29,  3.52it/s]"
          ]
        },
        {
          "output_type": "stream",
          "name": "stdout",
          "text": [
            "Loss: 0.0800\n",
            "acc: 0.9732557739304031\n",
            "Epoch: 3/5............. "
          ]
        },
        {
          "output_type": "stream",
          "name": "stderr",
          "text": [
            "\r 72%|███████▏  | 267/370 [01:15<00:29,  3.52it/s]"
          ]
        },
        {
          "output_type": "stream",
          "name": "stdout",
          "text": [
            "Loss: 0.0987\n",
            "acc: 0.9666277552702053\n",
            "Epoch: 3/5............. "
          ]
        },
        {
          "output_type": "stream",
          "name": "stderr",
          "text": [
            "\r 72%|███████▏  | 268/370 [01:16<00:28,  3.53it/s]"
          ]
        },
        {
          "output_type": "stream",
          "name": "stdout",
          "text": [
            "Loss: 0.0802\n",
            "acc: 0.9718463064273603\n",
            "Epoch: 3/5............. "
          ]
        },
        {
          "output_type": "stream",
          "name": "stderr",
          "text": [
            "\r 73%|███████▎  | 269/370 [01:16<00:28,  3.54it/s]"
          ]
        },
        {
          "output_type": "stream",
          "name": "stdout",
          "text": [
            "Loss: 0.0981\n",
            "acc: 0.9672929714683368\n",
            "Epoch: 3/5............. "
          ]
        },
        {
          "output_type": "stream",
          "name": "stderr",
          "text": [
            "\r 73%|███████▎  | 270/370 [01:16<00:28,  3.54it/s]"
          ]
        },
        {
          "output_type": "stream",
          "name": "stdout",
          "text": [
            "Loss: 0.0819\n",
            "acc: 0.9731776690038365\n",
            "Epoch: 3/5............. "
          ]
        },
        {
          "output_type": "stream",
          "name": "stderr",
          "text": [
            "\r 73%|███████▎  | 271/370 [01:17<00:28,  3.52it/s]"
          ]
        },
        {
          "output_type": "stream",
          "name": "stdout",
          "text": [
            "Loss: 0.0900\n",
            "acc: 0.9709644455407167\n",
            "Epoch: 3/5............. "
          ]
        },
        {
          "output_type": "stream",
          "name": "stderr",
          "text": [
            "\r 74%|███████▎  | 272/370 [01:17<00:27,  3.52it/s]"
          ]
        },
        {
          "output_type": "stream",
          "name": "stdout",
          "text": [
            "Loss: 0.0889\n",
            "acc: 0.9709626393492016\n",
            "Epoch: 3/5............. "
          ]
        },
        {
          "output_type": "stream",
          "name": "stderr",
          "text": [
            "\r 74%|███████▍  | 273/370 [01:17<00:27,  3.52it/s]"
          ]
        },
        {
          "output_type": "stream",
          "name": "stdout",
          "text": [
            "Loss: 0.0867\n",
            "acc: 0.9717909690512431\n",
            "Epoch: 3/5............. "
          ]
        },
        {
          "output_type": "stream",
          "name": "stderr",
          "text": [
            "\r 74%|███████▍  | 274/370 [01:17<00:27,  3.53it/s]"
          ]
        },
        {
          "output_type": "stream",
          "name": "stdout",
          "text": [
            "Loss: 0.0809\n",
            "acc: 0.9729243203526818\n",
            "Epoch: 3/5............. "
          ]
        },
        {
          "output_type": "stream",
          "name": "stderr",
          "text": [
            "\r 74%|███████▍  | 275/370 [01:18<00:26,  3.53it/s]"
          ]
        },
        {
          "output_type": "stream",
          "name": "stdout",
          "text": [
            "Loss: 0.0816\n",
            "acc: 0.9719436250409702\n",
            "Epoch: 3/5............. "
          ]
        },
        {
          "output_type": "stream",
          "name": "stderr",
          "text": [
            "\r 75%|███████▍  | 276/370 [01:18<00:26,  3.54it/s]"
          ]
        },
        {
          "output_type": "stream",
          "name": "stdout",
          "text": [
            "Loss: 0.0900\n",
            "acc: 0.9700471286437423\n",
            "Epoch: 3/5............. "
          ]
        },
        {
          "output_type": "stream",
          "name": "stderr",
          "text": [
            "\r 75%|███████▍  | 277/370 [01:18<00:26,  3.55it/s]"
          ]
        },
        {
          "output_type": "stream",
          "name": "stdout",
          "text": [
            "Loss: 0.0893\n",
            "acc: 0.9718003683463664\n",
            "Epoch: 3/5............. "
          ]
        },
        {
          "output_type": "stream",
          "name": "stderr",
          "text": [
            "\r 75%|███████▌  | 278/370 [01:19<00:26,  3.53it/s]"
          ]
        },
        {
          "output_type": "stream",
          "name": "stdout",
          "text": [
            "Loss: 0.0755\n",
            "acc: 0.9748640848379085\n",
            "Epoch: 3/5............. "
          ]
        },
        {
          "output_type": "stream",
          "name": "stderr",
          "text": [
            "\r 75%|███████▌  | 279/370 [01:19<00:25,  3.53it/s]"
          ]
        },
        {
          "output_type": "stream",
          "name": "stdout",
          "text": [
            "Loss: 0.0859\n",
            "acc: 0.9718139056298691\n",
            "Epoch: 3/5............. "
          ]
        },
        {
          "output_type": "stream",
          "name": "stderr",
          "text": [
            "\r 76%|███████▌  | 280/370 [01:19<00:25,  3.54it/s]"
          ]
        },
        {
          "output_type": "stream",
          "name": "stdout",
          "text": [
            "Loss: 0.0794\n",
            "acc: 0.9735594648688507\n",
            "Epoch: 3/5............. "
          ]
        },
        {
          "output_type": "stream",
          "name": "stderr",
          "text": [
            "\r 76%|███████▌  | 281/370 [01:19<00:25,  3.52it/s]"
          ]
        },
        {
          "output_type": "stream",
          "name": "stdout",
          "text": [
            "Loss: 0.0833\n",
            "acc: 0.971501234198519\n",
            "Epoch: 3/5............. "
          ]
        },
        {
          "output_type": "stream",
          "name": "stderr",
          "text": [
            "\r 76%|███████▌  | 282/370 [01:20<00:24,  3.53it/s]"
          ]
        },
        {
          "output_type": "stream",
          "name": "stdout",
          "text": [
            "Loss: 0.0890\n",
            "acc: 0.9723097330459294\n",
            "Epoch: 3/5............. "
          ]
        },
        {
          "output_type": "stream",
          "name": "stderr",
          "text": [
            "\r 76%|███████▋  | 283/370 [01:20<00:24,  3.52it/s]"
          ]
        },
        {
          "output_type": "stream",
          "name": "stdout",
          "text": [
            "Loss: 0.0816\n",
            "acc: 0.9718470413485786\n",
            "Epoch: 3/5............. "
          ]
        },
        {
          "output_type": "stream",
          "name": "stderr",
          "text": [
            "\r 77%|███████▋  | 284/370 [01:20<00:24,  3.53it/s]"
          ]
        },
        {
          "output_type": "stream",
          "name": "stdout",
          "text": [
            "Loss: 0.0817\n",
            "acc: 0.973000934454679\n",
            "Epoch: 3/5............. "
          ]
        },
        {
          "output_type": "stream",
          "name": "stderr",
          "text": [
            "\r 77%|███████▋  | 285/370 [01:21<00:24,  3.53it/s]"
          ]
        },
        {
          "output_type": "stream",
          "name": "stdout",
          "text": [
            "Loss: 0.0825\n",
            "acc: 0.9738300935925126\n",
            "Epoch: 3/5............. "
          ]
        },
        {
          "output_type": "stream",
          "name": "stderr",
          "text": [
            "\r 77%|███████▋  | 286/370 [01:21<00:23,  3.53it/s]"
          ]
        },
        {
          "output_type": "stream",
          "name": "stdout",
          "text": [
            "Loss: 0.0782\n",
            "acc: 0.9744200535053322\n",
            "Epoch: 3/5............. "
          ]
        },
        {
          "output_type": "stream",
          "name": "stderr",
          "text": [
            "\r 78%|███████▊  | 287/370 [01:21<00:23,  3.53it/s]"
          ]
        },
        {
          "output_type": "stream",
          "name": "stdout",
          "text": [
            "Loss: 0.0869\n",
            "acc: 0.9709609895337774\n",
            "Epoch: 3/5............. "
          ]
        },
        {
          "output_type": "stream",
          "name": "stderr",
          "text": [
            "\r 78%|███████▊  | 288/370 [01:21<00:23,  3.53it/s]"
          ]
        },
        {
          "output_type": "stream",
          "name": "stdout",
          "text": [
            "Loss: 0.0735\n",
            "acc: 0.9745672565515907\n",
            "Epoch: 3/5............. "
          ]
        },
        {
          "output_type": "stream",
          "name": "stderr",
          "text": [
            "\r 78%|███████▊  | 289/370 [01:22<00:22,  3.53it/s]"
          ]
        },
        {
          "output_type": "stream",
          "name": "stdout",
          "text": [
            "Loss: 0.0865\n",
            "acc: 0.970533208606174\n",
            "Epoch: 3/5............. "
          ]
        },
        {
          "output_type": "stream",
          "name": "stderr",
          "text": [
            "\r 78%|███████▊  | 290/370 [01:22<00:22,  3.54it/s]"
          ]
        },
        {
          "output_type": "stream",
          "name": "stdout",
          "text": [
            "Loss: 0.0879\n",
            "acc: 0.9690255812258581\n",
            "Epoch: 3/5............. "
          ]
        },
        {
          "output_type": "stream",
          "name": "stderr",
          "text": [
            "\r 79%|███████▊  | 291/370 [01:22<00:22,  3.53it/s]"
          ]
        },
        {
          "output_type": "stream",
          "name": "stdout",
          "text": [
            "Loss: 0.0720\n",
            "acc: 0.9760574932625083\n",
            "Epoch: 3/5............. "
          ]
        },
        {
          "output_type": "stream",
          "name": "stderr",
          "text": [
            "\r 79%|███████▉  | 292/370 [01:23<00:22,  3.52it/s]"
          ]
        },
        {
          "output_type": "stream",
          "name": "stdout",
          "text": [
            "Loss: 0.0975\n",
            "acc: 0.9678023731871487\n",
            "Epoch: 3/5............. "
          ]
        },
        {
          "output_type": "stream",
          "name": "stderr",
          "text": [
            "\r 79%|███████▉  | 293/370 [01:23<00:21,  3.53it/s]"
          ]
        },
        {
          "output_type": "stream",
          "name": "stdout",
          "text": [
            "Loss: 0.0814\n",
            "acc: 0.9729112768224014\n",
            "Epoch: 3/5............. "
          ]
        },
        {
          "output_type": "stream",
          "name": "stderr",
          "text": [
            "\r 79%|███████▉  | 294/370 [01:23<00:21,  3.53it/s]"
          ]
        },
        {
          "output_type": "stream",
          "name": "stdout",
          "text": [
            "Loss: 0.0899\n",
            "acc: 0.9711712350625864\n",
            "Epoch: 3/5............. "
          ]
        },
        {
          "output_type": "stream",
          "name": "stderr",
          "text": [
            "\r 80%|███████▉  | 295/370 [01:23<00:21,  3.54it/s]"
          ]
        },
        {
          "output_type": "stream",
          "name": "stdout",
          "text": [
            "Loss: 0.0823\n",
            "acc: 0.9716714990988167\n",
            "Epoch: 3/5............. "
          ]
        },
        {
          "output_type": "stream",
          "name": "stderr",
          "text": [
            "\r 80%|████████  | 296/370 [01:24<00:20,  3.53it/s]"
          ]
        },
        {
          "output_type": "stream",
          "name": "stdout",
          "text": [
            "Loss: 0.1079\n",
            "acc: 0.9664934667991136\n",
            "Epoch: 3/5............. "
          ]
        },
        {
          "output_type": "stream",
          "name": "stderr",
          "text": [
            "\r 80%|████████  | 297/370 [01:24<00:20,  3.52it/s]"
          ]
        },
        {
          "output_type": "stream",
          "name": "stdout",
          "text": [
            "Loss: 0.0803\n",
            "acc: 0.9725443113961644\n",
            "Epoch: 3/5............. "
          ]
        },
        {
          "output_type": "stream",
          "name": "stderr",
          "text": [
            "\r 81%|████████  | 298/370 [01:24<00:20,  3.53it/s]"
          ]
        },
        {
          "output_type": "stream",
          "name": "stdout",
          "text": [
            "Loss: 0.0866\n",
            "acc: 0.9708319738988581\n",
            "Epoch: 3/5............. "
          ]
        },
        {
          "output_type": "stream",
          "name": "stderr",
          "text": [
            "\r 81%|████████  | 299/370 [01:24<00:20,  3.53it/s]"
          ]
        },
        {
          "output_type": "stream",
          "name": "stdout",
          "text": [
            "Loss: 0.1119\n",
            "acc: 0.9651536934346546\n",
            "Epoch: 3/5............. "
          ]
        },
        {
          "output_type": "stream",
          "name": "stderr",
          "text": [
            "\r 81%|████████  | 300/370 [01:25<00:19,  3.53it/s]"
          ]
        },
        {
          "output_type": "stream",
          "name": "stdout",
          "text": [
            "Loss: 0.0867\n",
            "acc: 0.9697502100679857\n",
            "Epoch: 3/5............. "
          ]
        },
        {
          "output_type": "stream",
          "name": "stderr",
          "text": [
            "\r 81%|████████▏ | 301/370 [01:25<00:19,  3.54it/s]"
          ]
        },
        {
          "output_type": "stream",
          "name": "stdout",
          "text": [
            "Loss: 0.0825\n",
            "acc: 0.9721506979265483\n",
            "Epoch: 3/5............. "
          ]
        },
        {
          "output_type": "stream",
          "name": "stderr",
          "text": [
            "\r 82%|████████▏ | 302/370 [01:25<00:19,  3.54it/s]"
          ]
        },
        {
          "output_type": "stream",
          "name": "stdout",
          "text": [
            "Loss: 0.0757\n",
            "acc: 0.9744104861019629\n",
            "Epoch: 3/5............. "
          ]
        },
        {
          "output_type": "stream",
          "name": "stderr",
          "text": [
            "\r 82%|████████▏ | 303/370 [01:26<00:19,  3.52it/s]"
          ]
        },
        {
          "output_type": "stream",
          "name": "stdout",
          "text": [
            "Loss: 0.0737\n",
            "acc: 0.9761067928354173\n",
            "Epoch: 3/5............. "
          ]
        },
        {
          "output_type": "stream",
          "name": "stderr",
          "text": [
            "\r 82%|████████▏ | 304/370 [01:26<00:18,  3.51it/s]"
          ]
        },
        {
          "output_type": "stream",
          "name": "stdout",
          "text": [
            "Loss: 0.1159\n",
            "acc: 0.9638212094653812\n",
            "Epoch: 3/5............. "
          ]
        },
        {
          "output_type": "stream",
          "name": "stderr",
          "text": [
            "\r 82%|████████▏ | 305/370 [01:26<00:18,  3.47it/s]"
          ]
        },
        {
          "output_type": "stream",
          "name": "stdout",
          "text": [
            "Loss: 0.0855\n",
            "acc: 0.9715378557768027\n",
            "Epoch: 3/5............. "
          ]
        },
        {
          "output_type": "stream",
          "name": "stderr",
          "text": [
            "\r 83%|████████▎ | 306/370 [01:26<00:18,  3.50it/s]"
          ]
        },
        {
          "output_type": "stream",
          "name": "stdout",
          "text": [
            "Loss: 0.0757\n",
            "acc: 0.9747427163357009\n",
            "Epoch: 3/5............. "
          ]
        },
        {
          "output_type": "stream",
          "name": "stderr",
          "text": [
            "\r 83%|████████▎ | 307/370 [01:27<00:18,  3.49it/s]"
          ]
        },
        {
          "output_type": "stream",
          "name": "stdout",
          "text": [
            "Loss: 0.0785\n",
            "acc: 0.9743846153846154\n",
            "Epoch: 3/5............. "
          ]
        },
        {
          "output_type": "stream",
          "name": "stderr",
          "text": [
            "\r 83%|████████▎ | 308/370 [01:27<00:17,  3.50it/s]"
          ]
        },
        {
          "output_type": "stream",
          "name": "stdout",
          "text": [
            "Loss: 0.1029\n",
            "acc: 0.9678525791916067\n",
            "Epoch: 3/5............. "
          ]
        },
        {
          "output_type": "stream",
          "name": "stderr",
          "text": [
            "\r 84%|████████▎ | 309/370 [01:27<00:17,  3.52it/s]"
          ]
        },
        {
          "output_type": "stream",
          "name": "stdout",
          "text": [
            "Loss: 0.0797\n",
            "acc: 0.9733502051459029\n",
            "Epoch: 3/5............. "
          ]
        },
        {
          "output_type": "stream",
          "name": "stderr",
          "text": [
            "\r 84%|████████▍ | 310/370 [01:28<00:17,  3.53it/s]"
          ]
        },
        {
          "output_type": "stream",
          "name": "stdout",
          "text": [
            "Loss: 0.0778\n",
            "acc: 0.975156662531412\n",
            "Epoch: 3/5............. "
          ]
        },
        {
          "output_type": "stream",
          "name": "stderr",
          "text": [
            "\r 84%|████████▍ | 311/370 [01:28<00:16,  3.50it/s]"
          ]
        },
        {
          "output_type": "stream",
          "name": "stdout",
          "text": [
            "Loss: 0.0757\n",
            "acc: 0.974799732977303\n",
            "Epoch: 3/5............. "
          ]
        },
        {
          "output_type": "stream",
          "name": "stderr",
          "text": [
            "\r 84%|████████▍ | 312/370 [01:28<00:16,  3.48it/s]"
          ]
        },
        {
          "output_type": "stream",
          "name": "stdout",
          "text": [
            "Loss: 0.0782\n",
            "acc: 0.9742612322027824\n",
            "Epoch: 3/5............. "
          ]
        },
        {
          "output_type": "stream",
          "name": "stderr",
          "text": [
            "\r 85%|████████▍ | 313/370 [01:28<00:16,  3.49it/s]"
          ]
        },
        {
          "output_type": "stream",
          "name": "stdout",
          "text": [
            "Loss: 0.0787\n",
            "acc: 0.9733063090258313\n",
            "Epoch: 3/5............. "
          ]
        },
        {
          "output_type": "stream",
          "name": "stderr",
          "text": [
            "\r 85%|████████▍ | 314/370 [01:29<00:16,  3.49it/s]"
          ]
        },
        {
          "output_type": "stream",
          "name": "stdout",
          "text": [
            "Loss: 0.0794\n",
            "acc: 0.973576662908681\n",
            "Epoch: 3/5............. "
          ]
        },
        {
          "output_type": "stream",
          "name": "stderr",
          "text": [
            "\r 85%|████████▌ | 315/370 [01:29<00:15,  3.50it/s]"
          ]
        },
        {
          "output_type": "stream",
          "name": "stdout",
          "text": [
            "Loss: 0.0815\n",
            "acc: 0.9731522525071521\n",
            "Epoch: 3/5............. "
          ]
        },
        {
          "output_type": "stream",
          "name": "stderr",
          "text": [
            "\r 85%|████████▌ | 316/370 [01:29<00:15,  3.51it/s]"
          ]
        },
        {
          "output_type": "stream",
          "name": "stdout",
          "text": [
            "Loss: 0.0899\n",
            "acc: 0.9706896551724138\n",
            "Epoch: 3/5............. "
          ]
        },
        {
          "output_type": "stream",
          "name": "stderr",
          "text": [
            "\r 86%|████████▌ | 317/370 [01:30<00:15,  3.50it/s]"
          ]
        },
        {
          "output_type": "stream",
          "name": "stdout",
          "text": [
            "Loss: 0.0762\n",
            "acc: 0.9749818834328307\n",
            "Epoch: 3/5............. "
          ]
        },
        {
          "output_type": "stream",
          "name": "stderr",
          "text": [
            "\r 86%|████████▌ | 318/370 [01:30<00:14,  3.50it/s]"
          ]
        },
        {
          "output_type": "stream",
          "name": "stdout",
          "text": [
            "Loss: 0.0738\n",
            "acc: 0.9758167733243517\n",
            "Epoch: 3/5............. "
          ]
        },
        {
          "output_type": "stream",
          "name": "stderr",
          "text": [
            "\r 86%|████████▌ | 319/370 [01:30<00:14,  3.51it/s]"
          ]
        },
        {
          "output_type": "stream",
          "name": "stdout",
          "text": [
            "Loss: 0.0806\n",
            "acc: 0.9737368194112344\n",
            "Epoch: 3/5............. "
          ]
        },
        {
          "output_type": "stream",
          "name": "stderr",
          "text": [
            "\r 86%|████████▋ | 320/370 [01:30<00:14,  3.50it/s]"
          ]
        },
        {
          "output_type": "stream",
          "name": "stdout",
          "text": [
            "Loss: 0.0867\n",
            "acc: 0.9718863941661869\n",
            "Epoch: 3/5............. "
          ]
        },
        {
          "output_type": "stream",
          "name": "stderr",
          "text": [
            "\r 87%|████████▋ | 321/370 [01:31<00:14,  3.47it/s]"
          ]
        },
        {
          "output_type": "stream",
          "name": "stdout",
          "text": [
            "Loss: 0.0858\n",
            "acc: 0.971228950197062\n",
            "Epoch: 3/5............. "
          ]
        },
        {
          "output_type": "stream",
          "name": "stderr",
          "text": [
            "\r 87%|████████▋ | 322/370 [01:31<00:13,  3.49it/s]"
          ]
        },
        {
          "output_type": "stream",
          "name": "stdout",
          "text": [
            "Loss: 0.0876\n",
            "acc: 0.9713148343285329\n",
            "Epoch: 3/5............. "
          ]
        },
        {
          "output_type": "stream",
          "name": "stderr",
          "text": [
            "\r 87%|████████▋ | 323/370 [01:31<00:13,  3.50it/s]"
          ]
        },
        {
          "output_type": "stream",
          "name": "stdout",
          "text": [
            "Loss: 0.0971\n",
            "acc: 0.9687965849031034\n",
            "Epoch: 3/5............. "
          ]
        },
        {
          "output_type": "stream",
          "name": "stderr",
          "text": [
            "\r 88%|████████▊ | 324/370 [01:32<00:13,  3.51it/s]"
          ]
        },
        {
          "output_type": "stream",
          "name": "stdout",
          "text": [
            "Loss: 0.0817\n",
            "acc: 0.972788318888108\n",
            "Epoch: 3/5............. "
          ]
        },
        {
          "output_type": "stream",
          "name": "stderr",
          "text": [
            "\r 88%|████████▊ | 325/370 [01:32<00:12,  3.51it/s]"
          ]
        },
        {
          "output_type": "stream",
          "name": "stdout",
          "text": [
            "Loss: 0.0927\n",
            "acc: 0.969825004990352\n",
            "Epoch: 3/5............. "
          ]
        },
        {
          "output_type": "stream",
          "name": "stderr",
          "text": [
            "\r 88%|████████▊ | 326/370 [01:32<00:12,  3.52it/s]"
          ]
        },
        {
          "output_type": "stream",
          "name": "stdout",
          "text": [
            "Loss: 0.0827\n",
            "acc: 0.9721832163156136\n",
            "Epoch: 3/5............. "
          ]
        },
        {
          "output_type": "stream",
          "name": "stderr",
          "text": [
            "\r 88%|████████▊ | 327/370 [01:32<00:12,  3.52it/s]"
          ]
        },
        {
          "output_type": "stream",
          "name": "stdout",
          "text": [
            "Loss: 0.0816\n",
            "acc: 0.9730021234284943\n",
            "Epoch: 3/5............. "
          ]
        },
        {
          "output_type": "stream",
          "name": "stderr",
          "text": [
            "\r 89%|████████▊ | 328/370 [01:33<00:11,  3.53it/s]"
          ]
        },
        {
          "output_type": "stream",
          "name": "stdout",
          "text": [
            "Loss: 0.0763\n",
            "acc: 0.9747508074879311\n",
            "Epoch: 3/5............. "
          ]
        },
        {
          "output_type": "stream",
          "name": "stderr",
          "text": [
            "\r 89%|████████▉ | 329/370 [01:33<00:11,  3.53it/s]"
          ]
        },
        {
          "output_type": "stream",
          "name": "stdout",
          "text": [
            "Loss: 0.0722\n",
            "acc: 0.9754665761791652\n",
            "Epoch: 3/5............. "
          ]
        },
        {
          "output_type": "stream",
          "name": "stderr",
          "text": [
            "\r 89%|████████▉ | 330/370 [01:33<00:11,  3.53it/s]"
          ]
        },
        {
          "output_type": "stream",
          "name": "stdout",
          "text": [
            "Loss: 0.0917\n",
            "acc: 0.9701969319338646\n",
            "Epoch: 3/5............. "
          ]
        },
        {
          "output_type": "stream",
          "name": "stderr",
          "text": [
            "\r 89%|████████▉ | 331/370 [01:34<00:11,  3.52it/s]"
          ]
        },
        {
          "output_type": "stream",
          "name": "stdout",
          "text": [
            "Loss: 0.0780\n",
            "acc: 0.9746198109330045\n",
            "Epoch: 3/5............. "
          ]
        },
        {
          "output_type": "stream",
          "name": "stderr",
          "text": [
            "\r 90%|████████▉ | 332/370 [01:34<00:10,  3.53it/s]"
          ]
        },
        {
          "output_type": "stream",
          "name": "stdout",
          "text": [
            "Loss: 0.0687\n",
            "acc: 0.9772434363147623\n",
            "Epoch: 3/5............. "
          ]
        },
        {
          "output_type": "stream",
          "name": "stderr",
          "text": [
            "\r 90%|█████████ | 333/370 [01:34<00:10,  3.52it/s]"
          ]
        },
        {
          "output_type": "stream",
          "name": "stdout",
          "text": [
            "Loss: 0.0798\n",
            "acc: 0.9727768302063476\n",
            "Epoch: 3/5............. "
          ]
        },
        {
          "output_type": "stream",
          "name": "stderr",
          "text": [
            "\r 90%|█████████ | 334/370 [01:34<00:10,  3.52it/s]"
          ]
        },
        {
          "output_type": "stream",
          "name": "stdout",
          "text": [
            "Loss: 0.0859\n",
            "acc: 0.9734144891034386\n",
            "Epoch: 3/5............. "
          ]
        },
        {
          "output_type": "stream",
          "name": "stderr",
          "text": [
            "\r 91%|█████████ | 335/370 [01:35<00:09,  3.53it/s]"
          ]
        },
        {
          "output_type": "stream",
          "name": "stdout",
          "text": [
            "Loss: 0.0803\n",
            "acc: 0.9730194017784963\n",
            "Epoch: 3/5............. "
          ]
        },
        {
          "output_type": "stream",
          "name": "stderr",
          "text": [
            "\r 91%|█████████ | 336/370 [01:35<00:09,  3.53it/s]"
          ]
        },
        {
          "output_type": "stream",
          "name": "stdout",
          "text": [
            "Loss: 0.0778\n",
            "acc: 0.9735554876184653\n",
            "Epoch: 3/5............. "
          ]
        },
        {
          "output_type": "stream",
          "name": "stderr",
          "text": [
            "\r 91%|█████████ | 337/370 [01:35<00:09,  3.54it/s]"
          ]
        },
        {
          "output_type": "stream",
          "name": "stdout",
          "text": [
            "Loss: 0.0816\n",
            "acc: 0.9734822305481794\n",
            "Epoch: 3/5............. "
          ]
        },
        {
          "output_type": "stream",
          "name": "stderr",
          "text": [
            "\r 91%|█████████▏| 338/370 [01:36<00:09,  3.53it/s]"
          ]
        },
        {
          "output_type": "stream",
          "name": "stdout",
          "text": [
            "Loss: 0.0779\n",
            "acc: 0.9740916160045242\n",
            "Epoch: 3/5............. "
          ]
        },
        {
          "output_type": "stream",
          "name": "stderr",
          "text": [
            "\r 92%|█████████▏| 339/370 [01:36<00:08,  3.53it/s]"
          ]
        },
        {
          "output_type": "stream",
          "name": "stdout",
          "text": [
            "Loss: 0.0882\n",
            "acc: 0.970992170453087\n",
            "Epoch: 3/5............. "
          ]
        },
        {
          "output_type": "stream",
          "name": "stderr",
          "text": [
            "\r 92%|█████████▏| 340/370 [01:36<00:08,  3.54it/s]"
          ]
        },
        {
          "output_type": "stream",
          "name": "stdout",
          "text": [
            "Loss: 0.0910\n",
            "acc: 0.9705557193396226\n",
            "Epoch: 3/5............. "
          ]
        },
        {
          "output_type": "stream",
          "name": "stderr",
          "text": [
            "\r 92%|█████████▏| 341/370 [01:36<00:08,  3.53it/s]"
          ]
        },
        {
          "output_type": "stream",
          "name": "stdout",
          "text": [
            "Loss: 0.0793\n",
            "acc: 0.9736275565123789\n",
            "Epoch: 3/5............. "
          ]
        },
        {
          "output_type": "stream",
          "name": "stderr",
          "text": [
            "\r 92%|█████████▏| 342/370 [01:37<00:07,  3.53it/s]"
          ]
        },
        {
          "output_type": "stream",
          "name": "stdout",
          "text": [
            "Loss: 0.0760\n",
            "acc: 0.9754474459874198\n",
            "Epoch: 3/5............. "
          ]
        },
        {
          "output_type": "stream",
          "name": "stderr",
          "text": [
            "\r 93%|█████████▎| 343/370 [01:37<00:07,  3.54it/s]"
          ]
        },
        {
          "output_type": "stream",
          "name": "stdout",
          "text": [
            "Loss: 0.0839\n",
            "acc: 0.9723488415897532\n",
            "Epoch: 3/5............. "
          ]
        },
        {
          "output_type": "stream",
          "name": "stderr",
          "text": [
            "\r 93%|█████████▎| 344/370 [01:37<00:07,  3.52it/s]"
          ]
        },
        {
          "output_type": "stream",
          "name": "stdout",
          "text": [
            "Loss: 0.0785\n",
            "acc: 0.9742051998500698\n",
            "Epoch: 3/5............. "
          ]
        },
        {
          "output_type": "stream",
          "name": "stderr",
          "text": [
            "\r 93%|█████████▎| 345/370 [01:38<00:07,  3.52it/s]"
          ]
        },
        {
          "output_type": "stream",
          "name": "stdout",
          "text": [
            "Loss: 0.0790\n",
            "acc: 0.9730071179860106\n",
            "Epoch: 3/5............. "
          ]
        },
        {
          "output_type": "stream",
          "name": "stderr",
          "text": [
            "\r 94%|█████████▎| 346/370 [01:38<00:06,  3.52it/s]"
          ]
        },
        {
          "output_type": "stream",
          "name": "stdout",
          "text": [
            "Loss: 0.0772\n",
            "acc: 0.9748960081733927\n",
            "Epoch: 3/5............. "
          ]
        },
        {
          "output_type": "stream",
          "name": "stderr",
          "text": [
            "\r 94%|█████████▍| 347/370 [01:38<00:06,  3.53it/s]"
          ]
        },
        {
          "output_type": "stream",
          "name": "stdout",
          "text": [
            "Loss: 0.0796\n",
            "acc: 0.9731272838002436\n",
            "Epoch: 3/5............. "
          ]
        },
        {
          "output_type": "stream",
          "name": "stderr",
          "text": [
            "\r 94%|█████████▍| 348/370 [01:38<00:06,  3.53it/s]"
          ]
        },
        {
          "output_type": "stream",
          "name": "stdout",
          "text": [
            "Loss: 0.0808\n",
            "acc: 0.9728947102596047\n",
            "Epoch: 3/5............. "
          ]
        },
        {
          "output_type": "stream",
          "name": "stderr",
          "text": [
            "\r 94%|█████████▍| 349/370 [01:39<00:05,  3.54it/s]"
          ]
        },
        {
          "output_type": "stream",
          "name": "stdout",
          "text": [
            "Loss: 0.0707\n",
            "acc: 0.9764072142102213\n",
            "Epoch: 3/5............. "
          ]
        },
        {
          "output_type": "stream",
          "name": "stderr",
          "text": [
            "\r 95%|█████████▍| 350/370 [01:39<00:05,  3.53it/s]"
          ]
        },
        {
          "output_type": "stream",
          "name": "stdout",
          "text": [
            "Loss: 0.0756\n",
            "acc: 0.9760324165876368\n",
            "Epoch: 3/5............. "
          ]
        },
        {
          "output_type": "stream",
          "name": "stderr",
          "text": [
            "\r 95%|█████████▍| 351/370 [01:39<00:05,  3.51it/s]"
          ]
        },
        {
          "output_type": "stream",
          "name": "stdout",
          "text": [
            "Loss: 0.0826\n",
            "acc: 0.9724254361283061\n",
            "Epoch: 3/5............. "
          ]
        },
        {
          "output_type": "stream",
          "name": "stderr",
          "text": [
            "\r 95%|█████████▌| 352/370 [01:40<00:05,  3.52it/s]"
          ]
        },
        {
          "output_type": "stream",
          "name": "stdout",
          "text": [
            "Loss: 0.0896\n",
            "acc: 0.9687166996498706\n",
            "Epoch: 3/5............. "
          ]
        },
        {
          "output_type": "stream",
          "name": "stderr",
          "text": [
            "\r 95%|█████████▌| 353/370 [01:40<00:04,  3.51it/s]"
          ]
        },
        {
          "output_type": "stream",
          "name": "stdout",
          "text": [
            "Loss: 0.0795\n",
            "acc: 0.9725896989790894\n",
            "Epoch: 3/5............. "
          ]
        },
        {
          "output_type": "stream",
          "name": "stderr",
          "text": [
            "\r 96%|█████████▌| 354/370 [01:40<00:04,  3.49it/s]"
          ]
        },
        {
          "output_type": "stream",
          "name": "stdout",
          "text": [
            "Loss: 0.0760\n",
            "acc: 0.9740728253540122\n",
            "Epoch: 3/5............. "
          ]
        },
        {
          "output_type": "stream",
          "name": "stderr",
          "text": [
            "\r 96%|█████████▌| 355/370 [01:40<00:04,  3.48it/s]"
          ]
        },
        {
          "output_type": "stream",
          "name": "stdout",
          "text": [
            "Loss: 0.0819\n",
            "acc: 0.9736220762930716\n",
            "Epoch: 3/5............. "
          ]
        },
        {
          "output_type": "stream",
          "name": "stderr",
          "text": [
            "\r 96%|█████████▌| 356/370 [01:41<00:03,  3.50it/s]"
          ]
        },
        {
          "output_type": "stream",
          "name": "stdout",
          "text": [
            "Loss: 0.0774\n",
            "acc: 0.9750009190838572\n",
            "Epoch: 3/5............. "
          ]
        },
        {
          "output_type": "stream",
          "name": "stderr",
          "text": [
            "\r 96%|█████████▋| 357/370 [01:41<00:03,  3.51it/s]"
          ]
        },
        {
          "output_type": "stream",
          "name": "stdout",
          "text": [
            "Loss: 0.0819\n",
            "acc: 0.9727318900387277\n",
            "Epoch: 3/5............. "
          ]
        },
        {
          "output_type": "stream",
          "name": "stderr",
          "text": [
            "\r 97%|█████████▋| 358/370 [01:41<00:03,  3.52it/s]"
          ]
        },
        {
          "output_type": "stream",
          "name": "stdout",
          "text": [
            "Loss: 0.0848\n",
            "acc: 0.9693288590604027\n",
            "Epoch: 3/5............. "
          ]
        },
        {
          "output_type": "stream",
          "name": "stderr",
          "text": [
            "\r 97%|█████████▋| 359/370 [01:42<00:03,  3.52it/s]"
          ]
        },
        {
          "output_type": "stream",
          "name": "stdout",
          "text": [
            "Loss: 0.0800\n",
            "acc: 0.971633528775918\n",
            "Epoch: 3/5............. "
          ]
        },
        {
          "output_type": "stream",
          "name": "stderr",
          "text": [
            "\r 97%|█████████▋| 360/370 [01:42<00:02,  3.51it/s]"
          ]
        },
        {
          "output_type": "stream",
          "name": "stdout",
          "text": [
            "Loss: 0.0845\n",
            "acc: 0.9717143045745594\n",
            "Epoch: 3/5............. "
          ]
        },
        {
          "output_type": "stream",
          "name": "stderr",
          "text": [
            "\r 98%|█████████▊| 361/370 [01:42<00:02,  3.52it/s]"
          ]
        },
        {
          "output_type": "stream",
          "name": "stdout",
          "text": [
            "Loss: 0.0822\n",
            "acc: 0.9728771879068422\n",
            "Epoch: 3/5............. "
          ]
        },
        {
          "output_type": "stream",
          "name": "stderr",
          "text": [
            "\r 98%|█████████▊| 362/370 [01:42<00:02,  3.51it/s]"
          ]
        },
        {
          "output_type": "stream",
          "name": "stdout",
          "text": [
            "Loss: 0.0828\n",
            "acc: 0.9715246329079182\n",
            "Epoch: 3/5............. "
          ]
        },
        {
          "output_type": "stream",
          "name": "stderr",
          "text": [
            "\r 98%|█████████▊| 363/370 [01:43<00:01,  3.52it/s]"
          ]
        },
        {
          "output_type": "stream",
          "name": "stdout",
          "text": [
            "Loss: 0.0902\n",
            "acc: 0.9694603744904304\n",
            "Epoch: 3/5............. "
          ]
        },
        {
          "output_type": "stream",
          "name": "stderr",
          "text": [
            "\r 98%|█████████▊| 364/370 [01:43<00:01,  3.52it/s]"
          ]
        },
        {
          "output_type": "stream",
          "name": "stdout",
          "text": [
            "Loss: 0.0816\n",
            "acc: 0.9732466599157221\n",
            "Epoch: 3/5............. "
          ]
        },
        {
          "output_type": "stream",
          "name": "stderr",
          "text": [
            "\r 99%|█████████▊| 365/370 [01:43<00:01,  3.51it/s]"
          ]
        },
        {
          "output_type": "stream",
          "name": "stdout",
          "text": [
            "Loss: 0.0848\n",
            "acc: 0.9703913819479857\n",
            "Epoch: 3/5............. "
          ]
        },
        {
          "output_type": "stream",
          "name": "stderr",
          "text": [
            "\r 99%|█████████▉| 366/370 [01:44<00:01,  3.49it/s]"
          ]
        },
        {
          "output_type": "stream",
          "name": "stdout",
          "text": [
            "Loss: 0.0867\n",
            "acc: 0.9710896715786691\n",
            "Epoch: 3/5............. "
          ]
        },
        {
          "output_type": "stream",
          "name": "stderr",
          "text": [
            "\r 99%|█████████▉| 367/370 [01:44<00:00,  3.50it/s]"
          ]
        },
        {
          "output_type": "stream",
          "name": "stdout",
          "text": [
            "Loss: 0.0893\n",
            "acc: 0.969845434143566\n",
            "Epoch: 3/5............. "
          ]
        },
        {
          "output_type": "stream",
          "name": "stderr",
          "text": [
            "\r 99%|█████████▉| 368/370 [01:44<00:00,  3.51it/s]"
          ]
        },
        {
          "output_type": "stream",
          "name": "stdout",
          "text": [
            "Loss: 0.0802\n",
            "acc: 0.9724885095206829\n",
            "Epoch: 3/5............. "
          ]
        },
        {
          "output_type": "stream",
          "name": "stderr",
          "text": [
            "\r100%|█████████▉| 369/370 [01:44<00:00,  3.52it/s]"
          ]
        },
        {
          "output_type": "stream",
          "name": "stdout",
          "text": [
            "Loss: 0.0868\n",
            "acc: 0.9706096270827823\n",
            "Epoch: 3/5............. "
          ]
        },
        {
          "output_type": "stream",
          "name": "stderr",
          "text": [
            "\r100%|██████████| 370/370 [01:44<00:00,  3.52it/s]\n"
          ]
        },
        {
          "output_type": "stream",
          "name": "stdout",
          "text": [
            "Loss: 0.0674\n",
            "acc: 0.9753756260434057\n",
            "Epochs: 4 | Train Loss: 0.0001688630727585405         | Train Accuracy: 0.18224664056713574\n",
            "\n",
            "Decaying rate\n"
          ]
        },
        {
          "output_type": "stream",
          "name": "stderr",
          "text": [
            "\r  0%|          | 0/370 [00:00<?, ?it/s]"
          ]
        },
        {
          "output_type": "stream",
          "name": "stdout",
          "text": [
            "Epoch: 4/5............. "
          ]
        },
        {
          "output_type": "stream",
          "name": "stderr",
          "text": [
            "\r  0%|          | 1/370 [00:00<01:39,  3.70it/s]"
          ]
        },
        {
          "output_type": "stream",
          "name": "stdout",
          "text": [
            "Loss: 0.0873\n",
            "acc: 0.9734231394538637\n",
            "Epoch: 4/5............. "
          ]
        },
        {
          "output_type": "stream",
          "name": "stderr",
          "text": [
            "\r  1%|          | 2/370 [00:00<01:41,  3.61it/s]"
          ]
        },
        {
          "output_type": "stream",
          "name": "stdout",
          "text": [
            "Loss: 0.0746\n",
            "acc: 0.9748541079273491\n",
            "Epoch: 4/5............. "
          ]
        },
        {
          "output_type": "stream",
          "name": "stderr",
          "text": [
            "\r  1%|          | 3/370 [00:00<01:42,  3.58it/s]"
          ]
        },
        {
          "output_type": "stream",
          "name": "stdout",
          "text": [
            "Loss: 0.0833\n",
            "acc: 0.973246199949453\n",
            "Epoch: 4/5............. "
          ]
        },
        {
          "output_type": "stream",
          "name": "stderr",
          "text": [
            "\r  1%|          | 4/370 [00:01<01:42,  3.56it/s]"
          ]
        },
        {
          "output_type": "stream",
          "name": "stdout",
          "text": [
            "Loss: 0.0848\n",
            "acc: 0.9720552983285718\n",
            "Epoch: 4/5............. "
          ]
        },
        {
          "output_type": "stream",
          "name": "stderr",
          "text": [
            "\r  1%|▏         | 5/370 [00:01<01:42,  3.55it/s]"
          ]
        },
        {
          "output_type": "stream",
          "name": "stdout",
          "text": [
            "Loss: 0.0945\n",
            "acc: 0.9674068173520528\n",
            "Epoch: 4/5............. "
          ]
        },
        {
          "output_type": "stream",
          "name": "stderr",
          "text": [
            "\r  2%|▏         | 6/370 [00:01<01:42,  3.54it/s]"
          ]
        },
        {
          "output_type": "stream",
          "name": "stdout",
          "text": [
            "Loss: 0.0851\n",
            "acc: 0.9718110236220473\n",
            "Epoch: 4/5............. "
          ]
        },
        {
          "output_type": "stream",
          "name": "stderr",
          "text": [
            "\r  2%|▏         | 7/370 [00:01<01:42,  3.54it/s]"
          ]
        },
        {
          "output_type": "stream",
          "name": "stdout",
          "text": [
            "Loss: 0.0834\n",
            "acc: 0.9722078114577929\n",
            "Epoch: 4/5............. "
          ]
        },
        {
          "output_type": "stream",
          "name": "stderr",
          "text": [
            "\r  2%|▏         | 8/370 [00:02<01:42,  3.53it/s]"
          ]
        },
        {
          "output_type": "stream",
          "name": "stdout",
          "text": [
            "Loss: 0.0952\n",
            "acc: 0.9700635220975807\n",
            "Epoch: 4/5............. "
          ]
        },
        {
          "output_type": "stream",
          "name": "stderr",
          "text": [
            "\r  2%|▏         | 9/370 [00:02<01:42,  3.53it/s]"
          ]
        },
        {
          "output_type": "stream",
          "name": "stdout",
          "text": [
            "Loss: 0.0844\n",
            "acc: 0.9715218248986766\n",
            "Epoch: 4/5............. "
          ]
        },
        {
          "output_type": "stream",
          "name": "stderr",
          "text": [
            "\r  3%|▎         | 10/370 [00:02<01:41,  3.53it/s]"
          ]
        },
        {
          "output_type": "stream",
          "name": "stdout",
          "text": [
            "Loss: 0.0940\n",
            "acc: 0.9692672891280266\n",
            "Epoch: 4/5............. "
          ]
        },
        {
          "output_type": "stream",
          "name": "stderr",
          "text": [
            "\r  3%|▎         | 11/370 [00:03<01:41,  3.53it/s]"
          ]
        },
        {
          "output_type": "stream",
          "name": "stdout",
          "text": [
            "Loss: 0.0883\n",
            "acc: 0.970963330471011\n",
            "Epoch: 4/5............. "
          ]
        },
        {
          "output_type": "stream",
          "name": "stderr",
          "text": [
            "\r  3%|▎         | 12/370 [00:03<01:41,  3.54it/s]"
          ]
        },
        {
          "output_type": "stream",
          "name": "stdout",
          "text": [
            "Loss: 0.0846\n",
            "acc: 0.9722113375130617\n",
            "Epoch: 4/5............. "
          ]
        },
        {
          "output_type": "stream",
          "name": "stderr",
          "text": [
            "\r  4%|▎         | 13/370 [00:03<01:40,  3.54it/s]"
          ]
        },
        {
          "output_type": "stream",
          "name": "stdout",
          "text": [
            "Loss: 0.1058\n",
            "acc: 0.9672056031943445\n",
            "Epoch: 4/5............. "
          ]
        },
        {
          "output_type": "stream",
          "name": "stderr",
          "text": [
            "\r  4%|▍         | 14/370 [00:03<01:40,  3.54it/s]"
          ]
        },
        {
          "output_type": "stream",
          "name": "stdout",
          "text": [
            "Loss: 0.0900\n",
            "acc: 0.97112614508141\n",
            "Epoch: 4/5............. "
          ]
        },
        {
          "output_type": "stream",
          "name": "stderr",
          "text": [
            "\r  4%|▍         | 15/370 [00:04<01:40,  3.54it/s]"
          ]
        },
        {
          "output_type": "stream",
          "name": "stdout",
          "text": [
            "Loss: 0.0823\n",
            "acc: 0.972190827434418\n",
            "Epoch: 4/5............. "
          ]
        },
        {
          "output_type": "stream",
          "name": "stderr",
          "text": [
            "\r  4%|▍         | 16/370 [00:04<01:39,  3.54it/s]"
          ]
        },
        {
          "output_type": "stream",
          "name": "stdout",
          "text": [
            "Loss: 0.0935\n",
            "acc: 0.9690177041690463\n",
            "Epoch: 4/5............. "
          ]
        },
        {
          "output_type": "stream",
          "name": "stderr",
          "text": [
            "\r  5%|▍         | 17/370 [00:04<01:40,  3.52it/s]"
          ]
        },
        {
          "output_type": "stream",
          "name": "stdout",
          "text": [
            "Loss: 0.1054\n",
            "acc: 0.9653868439510841\n",
            "Epoch: 4/5............. "
          ]
        },
        {
          "output_type": "stream",
          "name": "stderr",
          "text": [
            "\r  5%|▍         | 18/370 [00:05<01:39,  3.53it/s]"
          ]
        },
        {
          "output_type": "stream",
          "name": "stdout",
          "text": [
            "Loss: 0.0763\n",
            "acc: 0.9736307618162415\n",
            "Epoch: 4/5............. "
          ]
        },
        {
          "output_type": "stream",
          "name": "stderr",
          "text": [
            "\r  5%|▌         | 19/370 [00:05<01:39,  3.53it/s]"
          ]
        },
        {
          "output_type": "stream",
          "name": "stdout",
          "text": [
            "Loss: 0.0841\n",
            "acc: 0.9715963612635781\n",
            "Epoch: 4/5............. "
          ]
        },
        {
          "output_type": "stream",
          "name": "stderr",
          "text": [
            "\r  5%|▌         | 20/370 [00:05<01:39,  3.53it/s]"
          ]
        },
        {
          "output_type": "stream",
          "name": "stdout",
          "text": [
            "Loss: 0.0873\n",
            "acc: 0.9708121029124992\n",
            "Epoch: 4/5............. "
          ]
        },
        {
          "output_type": "stream",
          "name": "stderr",
          "text": [
            "\r  6%|▌         | 21/370 [00:05<01:38,  3.54it/s]"
          ]
        },
        {
          "output_type": "stream",
          "name": "stdout",
          "text": [
            "Loss: 0.0940\n",
            "acc: 0.9695689287238582\n",
            "Epoch: 4/5............. "
          ]
        },
        {
          "output_type": "stream",
          "name": "stderr",
          "text": [
            "\r  6%|▌         | 22/370 [00:06<01:38,  3.53it/s]"
          ]
        },
        {
          "output_type": "stream",
          "name": "stdout",
          "text": [
            "Loss: 0.0979\n",
            "acc: 0.968044494174949\n",
            "Epoch: 4/5............. "
          ]
        },
        {
          "output_type": "stream",
          "name": "stderr",
          "text": [
            "\r  6%|▌         | 23/370 [00:06<01:38,  3.53it/s]"
          ]
        },
        {
          "output_type": "stream",
          "name": "stdout",
          "text": [
            "Loss: 0.0851\n",
            "acc: 0.9726086332998709\n",
            "Epoch: 4/5............. "
          ]
        },
        {
          "output_type": "stream",
          "name": "stderr",
          "text": [
            "\r  6%|▋         | 24/370 [00:06<01:37,  3.53it/s]"
          ]
        },
        {
          "output_type": "stream",
          "name": "stdout",
          "text": [
            "Loss: 0.0917\n",
            "acc: 0.9704776647501105\n",
            "Epoch: 4/5............. "
          ]
        },
        {
          "output_type": "stream",
          "name": "stderr",
          "text": [
            "\r  7%|▋         | 25/370 [00:07<01:37,  3.53it/s]"
          ]
        },
        {
          "output_type": "stream",
          "name": "stdout",
          "text": [
            "Loss: 0.0828\n",
            "acc: 0.9733795081680484\n",
            "Epoch: 4/5............. "
          ]
        },
        {
          "output_type": "stream",
          "name": "stderr",
          "text": [
            "\r  7%|▋         | 26/370 [00:07<01:37,  3.53it/s]"
          ]
        },
        {
          "output_type": "stream",
          "name": "stdout",
          "text": [
            "Loss: 0.0834\n",
            "acc: 0.9717766209851624\n",
            "Epoch: 4/5............. "
          ]
        },
        {
          "output_type": "stream",
          "name": "stderr",
          "text": [
            "\r  7%|▋         | 27/370 [00:07<01:36,  3.55it/s]"
          ]
        },
        {
          "output_type": "stream",
          "name": "stdout",
          "text": [
            "Loss: 0.0845\n",
            "acc: 0.9739082480267466\n",
            "Epoch: 4/5............. "
          ]
        },
        {
          "output_type": "stream",
          "name": "stderr",
          "text": [
            "\r  8%|▊         | 28/370 [00:07<01:36,  3.53it/s]"
          ]
        },
        {
          "output_type": "stream",
          "name": "stdout",
          "text": [
            "Loss: 0.0855\n",
            "acc: 0.9711486951863473\n",
            "Epoch: 4/5............. "
          ]
        },
        {
          "output_type": "stream",
          "name": "stderr",
          "text": [
            "\r  8%|▊         | 29/370 [00:08<01:36,  3.53it/s]"
          ]
        },
        {
          "output_type": "stream",
          "name": "stdout",
          "text": [
            "Loss: 0.0906\n",
            "acc: 0.9710791551646658\n",
            "Epoch: 4/5............. "
          ]
        },
        {
          "output_type": "stream",
          "name": "stderr",
          "text": [
            "\r  8%|▊         | 30/370 [00:08<01:36,  3.53it/s]"
          ]
        },
        {
          "output_type": "stream",
          "name": "stdout",
          "text": [
            "Loss: 0.0858\n",
            "acc: 0.971077010112439\n",
            "Epoch: 4/5............. "
          ]
        },
        {
          "output_type": "stream",
          "name": "stderr",
          "text": [
            "\r  8%|▊         | 31/370 [00:08<01:36,  3.52it/s]"
          ]
        },
        {
          "output_type": "stream",
          "name": "stdout",
          "text": [
            "Loss: 0.0901\n",
            "acc: 0.9697450581295063\n",
            "Epoch: 4/5............. "
          ]
        },
        {
          "output_type": "stream",
          "name": "stderr",
          "text": [
            "\r  9%|▊         | 32/370 [00:09<01:36,  3.52it/s]"
          ]
        },
        {
          "output_type": "stream",
          "name": "stdout",
          "text": [
            "Loss: 0.0847\n",
            "acc: 0.9711918296560362\n",
            "Epoch: 4/5............. "
          ]
        },
        {
          "output_type": "stream",
          "name": "stderr",
          "text": [
            "\r  9%|▉         | 33/370 [00:09<01:36,  3.51it/s]"
          ]
        },
        {
          "output_type": "stream",
          "name": "stdout",
          "text": [
            "Loss: 0.0813\n",
            "acc: 0.9735428104193435\n",
            "Epoch: 4/5............. "
          ]
        },
        {
          "output_type": "stream",
          "name": "stderr",
          "text": [
            "\r  9%|▉         | 34/370 [00:09<01:36,  3.49it/s]"
          ]
        },
        {
          "output_type": "stream",
          "name": "stdout",
          "text": [
            "Loss: 0.0920\n",
            "acc: 0.9681978798586572\n",
            "Epoch: 4/5............. "
          ]
        },
        {
          "output_type": "stream",
          "name": "stderr",
          "text": [
            "\r  9%|▉         | 35/370 [00:09<01:36,  3.47it/s]"
          ]
        },
        {
          "output_type": "stream",
          "name": "stdout",
          "text": [
            "Loss: 0.1015\n",
            "acc: 0.967822966507177\n",
            "Epoch: 4/5............. "
          ]
        },
        {
          "output_type": "stream",
          "name": "stderr",
          "text": [
            "\r 10%|▉         | 36/370 [00:10<01:35,  3.49it/s]"
          ]
        },
        {
          "output_type": "stream",
          "name": "stdout",
          "text": [
            "Loss: 0.0785\n",
            "acc: 0.9732913125139273\n",
            "Epoch: 4/5............. "
          ]
        },
        {
          "output_type": "stream",
          "name": "stderr",
          "text": [
            "\r 10%|█         | 37/370 [00:10<01:34,  3.51it/s]"
          ]
        },
        {
          "output_type": "stream",
          "name": "stdout",
          "text": [
            "Loss: 0.0938\n",
            "acc: 0.9676745464540957\n",
            "Epoch: 4/5............. "
          ]
        },
        {
          "output_type": "stream",
          "name": "stderr",
          "text": [
            "\r 10%|█         | 38/370 [00:10<01:35,  3.49it/s]"
          ]
        },
        {
          "output_type": "stream",
          "name": "stdout",
          "text": [
            "Loss: 0.0919\n",
            "acc: 0.970302066772655\n",
            "Epoch: 4/5............. "
          ]
        },
        {
          "output_type": "stream",
          "name": "stderr",
          "text": [
            "\r 11%|█         | 39/370 [00:11<01:34,  3.51it/s]"
          ]
        },
        {
          "output_type": "stream",
          "name": "stdout",
          "text": [
            "Loss: 0.0922\n",
            "acc: 0.9686876383295236\n",
            "Epoch: 4/5............. "
          ]
        },
        {
          "output_type": "stream",
          "name": "stderr",
          "text": [
            "\r 11%|█         | 40/370 [00:11<01:34,  3.50it/s]"
          ]
        },
        {
          "output_type": "stream",
          "name": "stdout",
          "text": [
            "Loss: 0.0957\n",
            "acc: 0.967482554638518\n",
            "Epoch: 4/5............. "
          ]
        },
        {
          "output_type": "stream",
          "name": "stderr",
          "text": [
            "\r 11%|█         | 41/370 [00:11<01:33,  3.51it/s]"
          ]
        },
        {
          "output_type": "stream",
          "name": "stdout",
          "text": [
            "Loss: 0.0937\n",
            "acc: 0.9687385367841859\n",
            "Epoch: 4/5............. "
          ]
        },
        {
          "output_type": "stream",
          "name": "stderr",
          "text": [
            "\r 11%|█▏        | 42/370 [00:11<01:33,  3.52it/s]"
          ]
        },
        {
          "output_type": "stream",
          "name": "stdout",
          "text": [
            "Loss: 0.1088\n",
            "acc: 0.9656229709256187\n",
            "Epoch: 4/5............. "
          ]
        },
        {
          "output_type": "stream",
          "name": "stderr",
          "text": [
            "\r 12%|█▏        | 43/370 [00:12<01:32,  3.53it/s]"
          ]
        },
        {
          "output_type": "stream",
          "name": "stdout",
          "text": [
            "Loss: 0.1017\n",
            "acc: 0.9663472396992869\n",
            "Epoch: 4/5............. "
          ]
        },
        {
          "output_type": "stream",
          "name": "stderr",
          "text": [
            "\r 12%|█▏        | 44/370 [00:12<01:32,  3.52it/s]"
          ]
        },
        {
          "output_type": "stream",
          "name": "stdout",
          "text": [
            "Loss: 0.0871\n",
            "acc: 0.9711467403527938\n",
            "Epoch: 4/5............. "
          ]
        },
        {
          "output_type": "stream",
          "name": "stderr",
          "text": [
            "\r 12%|█▏        | 45/370 [00:12<01:32,  3.52it/s]"
          ]
        },
        {
          "output_type": "stream",
          "name": "stdout",
          "text": [
            "Loss: 0.0944\n",
            "acc: 0.9692210614877655\n",
            "Epoch: 4/5............. "
          ]
        },
        {
          "output_type": "stream",
          "name": "stderr",
          "text": [
            "\r 12%|█▏        | 46/370 [00:13<01:31,  3.54it/s]"
          ]
        },
        {
          "output_type": "stream",
          "name": "stdout",
          "text": [
            "Loss: 0.0866\n",
            "acc: 0.970336260441208\n",
            "Epoch: 4/5............. "
          ]
        },
        {
          "output_type": "stream",
          "name": "stderr",
          "text": [
            "\r 13%|█▎        | 47/370 [00:13<01:31,  3.53it/s]"
          ]
        },
        {
          "output_type": "stream",
          "name": "stdout",
          "text": [
            "Loss: 0.0823\n",
            "acc: 0.9718613083547364\n",
            "Epoch: 4/5............. "
          ]
        },
        {
          "output_type": "stream",
          "name": "stderr",
          "text": [
            "\r 13%|█▎        | 48/370 [00:13<01:31,  3.51it/s]"
          ]
        },
        {
          "output_type": "stream",
          "name": "stdout",
          "text": [
            "Loss: 0.0860\n",
            "acc: 0.9712284817331908\n",
            "Epoch: 4/5............. "
          ]
        },
        {
          "output_type": "stream",
          "name": "stderr",
          "text": [
            "\r 13%|█▎        | 49/370 [00:13<01:30,  3.53it/s]"
          ]
        },
        {
          "output_type": "stream",
          "name": "stdout",
          "text": [
            "Loss: 0.0903\n",
            "acc: 0.9699572332379034\n",
            "Epoch: 4/5............. "
          ]
        },
        {
          "output_type": "stream",
          "name": "stderr",
          "text": [
            "\r 14%|█▎        | 50/370 [00:14<01:30,  3.53it/s]"
          ]
        },
        {
          "output_type": "stream",
          "name": "stdout",
          "text": [
            "Loss: 0.0846\n",
            "acc: 0.9720370250501651\n",
            "Epoch: 4/5............. "
          ]
        },
        {
          "output_type": "stream",
          "name": "stderr",
          "text": [
            "\r 14%|█▍        | 51/370 [00:14<01:30,  3.53it/s]"
          ]
        },
        {
          "output_type": "stream",
          "name": "stdout",
          "text": [
            "Loss: 0.0859\n",
            "acc: 0.9706716417910448\n",
            "Epoch: 4/5............. "
          ]
        },
        {
          "output_type": "stream",
          "name": "stderr",
          "text": [
            "\r 14%|█▍        | 52/370 [00:14<01:30,  3.53it/s]"
          ]
        },
        {
          "output_type": "stream",
          "name": "stdout",
          "text": [
            "Loss: 0.0755\n",
            "acc: 0.9748475875283051\n",
            "Epoch: 4/5............. "
          ]
        },
        {
          "output_type": "stream",
          "name": "stderr",
          "text": [
            "\r 14%|█▍        | 53/370 [00:15<01:29,  3.53it/s]"
          ]
        },
        {
          "output_type": "stream",
          "name": "stdout",
          "text": [
            "Loss: 0.0822\n",
            "acc: 0.9739051585169264\n",
            "Epoch: 4/5............. "
          ]
        },
        {
          "output_type": "stream",
          "name": "stderr",
          "text": [
            "\r 15%|█▍        | 54/370 [00:15<01:29,  3.52it/s]"
          ]
        },
        {
          "output_type": "stream",
          "name": "stdout",
          "text": [
            "Loss: 0.0841\n",
            "acc: 0.9720853280765981\n",
            "Epoch: 4/5............. "
          ]
        },
        {
          "output_type": "stream",
          "name": "stderr",
          "text": [
            "\r 15%|█▍        | 55/370 [00:15<01:29,  3.53it/s]"
          ]
        },
        {
          "output_type": "stream",
          "name": "stdout",
          "text": [
            "Loss: 0.0880\n",
            "acc: 0.9706153059485256\n",
            "Epoch: 4/5............. "
          ]
        },
        {
          "output_type": "stream",
          "name": "stderr",
          "text": [
            "\r 15%|█▌        | 56/370 [00:15<01:28,  3.53it/s]"
          ]
        },
        {
          "output_type": "stream",
          "name": "stdout",
          "text": [
            "Loss: 0.0873\n",
            "acc: 0.9711123013747545\n",
            "Epoch: 4/5............. "
          ]
        },
        {
          "output_type": "stream",
          "name": "stderr",
          "text": [
            "\r 15%|█▌        | 57/370 [00:16<01:28,  3.54it/s]"
          ]
        },
        {
          "output_type": "stream",
          "name": "stdout",
          "text": [
            "Loss: 0.0943\n",
            "acc: 0.9695831768681937\n",
            "Epoch: 4/5............. "
          ]
        },
        {
          "output_type": "stream",
          "name": "stderr",
          "text": [
            "\r 16%|█▌        | 58/370 [00:16<01:28,  3.53it/s]"
          ]
        },
        {
          "output_type": "stream",
          "name": "stdout",
          "text": [
            "Loss: 0.1039\n",
            "acc: 0.9664603263927969\n",
            "Epoch: 4/5............. "
          ]
        },
        {
          "output_type": "stream",
          "name": "stderr",
          "text": [
            "\r 16%|█▌        | 59/370 [00:16<01:28,  3.52it/s]"
          ]
        },
        {
          "output_type": "stream",
          "name": "stdout",
          "text": [
            "Loss: 0.0833\n",
            "acc: 0.9721271393643032\n",
            "Epoch: 4/5............. "
          ]
        },
        {
          "output_type": "stream",
          "name": "stderr",
          "text": [
            "\r 16%|█▌        | 60/370 [00:17<01:27,  3.53it/s]"
          ]
        },
        {
          "output_type": "stream",
          "name": "stdout",
          "text": [
            "Loss: 0.1021\n",
            "acc: 0.9662607529884929\n",
            "Epoch: 4/5............. "
          ]
        },
        {
          "output_type": "stream",
          "name": "stderr",
          "text": [
            "\r 16%|█▋        | 61/370 [00:17<01:27,  3.53it/s]"
          ]
        },
        {
          "output_type": "stream",
          "name": "stdout",
          "text": [
            "Loss: 0.0846\n",
            "acc: 0.972436405563162\n",
            "Epoch: 4/5............. "
          ]
        },
        {
          "output_type": "stream",
          "name": "stderr",
          "text": [
            "\r 17%|█▋        | 62/370 [00:17<01:27,  3.53it/s]"
          ]
        },
        {
          "output_type": "stream",
          "name": "stdout",
          "text": [
            "Loss: 0.0980\n",
            "acc: 0.9674612300711688\n",
            "Epoch: 4/5............. "
          ]
        },
        {
          "output_type": "stream",
          "name": "stderr",
          "text": [
            "\r 17%|█▋        | 63/370 [00:17<01:26,  3.54it/s]"
          ]
        },
        {
          "output_type": "stream",
          "name": "stdout",
          "text": [
            "Loss: 0.0793\n",
            "acc: 0.9741525736651651\n",
            "Epoch: 4/5............. "
          ]
        },
        {
          "output_type": "stream",
          "name": "stderr",
          "text": [
            "\r 17%|█▋        | 64/370 [00:18<01:26,  3.54it/s]"
          ]
        },
        {
          "output_type": "stream",
          "name": "stdout",
          "text": [
            "Loss: 0.0784\n",
            "acc: 0.9737265415549597\n",
            "Epoch: 4/5............. "
          ]
        },
        {
          "output_type": "stream",
          "name": "stderr",
          "text": [
            "\r 18%|█▊        | 65/370 [00:18<01:26,  3.52it/s]"
          ]
        },
        {
          "output_type": "stream",
          "name": "stdout",
          "text": [
            "Loss: 0.0827\n",
            "acc: 0.9722153820897973\n",
            "Epoch: 4/5............. "
          ]
        },
        {
          "output_type": "stream",
          "name": "stderr",
          "text": [
            "\r 18%|█▊        | 66/370 [00:18<01:26,  3.53it/s]"
          ]
        },
        {
          "output_type": "stream",
          "name": "stdout",
          "text": [
            "Loss: 0.0852\n",
            "acc: 0.9712088990675609\n",
            "Epoch: 4/5............. "
          ]
        },
        {
          "output_type": "stream",
          "name": "stderr",
          "text": [
            "\r 18%|█▊        | 67/370 [00:18<01:25,  3.53it/s]"
          ]
        },
        {
          "output_type": "stream",
          "name": "stdout",
          "text": [
            "Loss: 0.0846\n",
            "acc: 0.9704500906098599\n",
            "Epoch: 4/5............. "
          ]
        },
        {
          "output_type": "stream",
          "name": "stderr",
          "text": [
            "\r 18%|█▊        | 68/370 [00:19<01:25,  3.53it/s]"
          ]
        },
        {
          "output_type": "stream",
          "name": "stdout",
          "text": [
            "Loss: 0.0942\n",
            "acc: 0.9690787376474339\n",
            "Epoch: 4/5............. "
          ]
        },
        {
          "output_type": "stream",
          "name": "stderr",
          "text": [
            "\r 19%|█▊        | 69/370 [00:19<01:25,  3.54it/s]"
          ]
        },
        {
          "output_type": "stream",
          "name": "stdout",
          "text": [
            "Loss: 0.0848\n",
            "acc: 0.9717661740046016\n",
            "Epoch: 4/5............. "
          ]
        },
        {
          "output_type": "stream",
          "name": "stderr",
          "text": [
            "\r 19%|█▉        | 70/370 [00:19<01:25,  3.52it/s]"
          ]
        },
        {
          "output_type": "stream",
          "name": "stdout",
          "text": [
            "Loss: 0.1020\n",
            "acc: 0.9670901681449265\n",
            "Epoch: 4/5............. "
          ]
        },
        {
          "output_type": "stream",
          "name": "stderr",
          "text": [
            "\r 19%|█▉        | 71/370 [00:20<01:24,  3.53it/s]"
          ]
        },
        {
          "output_type": "stream",
          "name": "stdout",
          "text": [
            "Loss: 0.0885\n",
            "acc: 0.9701326640372894\n",
            "Epoch: 4/5............. "
          ]
        },
        {
          "output_type": "stream",
          "name": "stderr",
          "text": [
            "\r 19%|█▉        | 72/370 [00:20<01:24,  3.53it/s]"
          ]
        },
        {
          "output_type": "stream",
          "name": "stdout",
          "text": [
            "Loss: 0.0981\n",
            "acc: 0.9673647856531795\n",
            "Epoch: 4/5............. "
          ]
        },
        {
          "output_type": "stream",
          "name": "stderr",
          "text": [
            "\r 20%|█▉        | 73/370 [00:20<01:24,  3.52it/s]"
          ]
        },
        {
          "output_type": "stream",
          "name": "stdout",
          "text": [
            "Loss: 0.0932\n",
            "acc: 0.9699336614594479\n",
            "Epoch: 4/5............. "
          ]
        },
        {
          "output_type": "stream",
          "name": "stderr",
          "text": [
            "\r 20%|██        | 74/370 [00:20<01:24,  3.52it/s]"
          ]
        },
        {
          "output_type": "stream",
          "name": "stdout",
          "text": [
            "Loss: 0.0877\n",
            "acc: 0.9700009493370463\n",
            "Epoch: 4/5............. "
          ]
        },
        {
          "output_type": "stream",
          "name": "stderr",
          "text": [
            "\r 20%|██        | 75/370 [00:21<01:23,  3.52it/s]"
          ]
        },
        {
          "output_type": "stream",
          "name": "stdout",
          "text": [
            "Loss: 0.0838\n",
            "acc: 0.9717669531996179\n",
            "Epoch: 4/5............. "
          ]
        },
        {
          "output_type": "stream",
          "name": "stderr",
          "text": [
            "\r 21%|██        | 76/370 [00:21<01:23,  3.53it/s]"
          ]
        },
        {
          "output_type": "stream",
          "name": "stdout",
          "text": [
            "Loss: 0.0923\n",
            "acc: 0.9695635188407856\n",
            "Epoch: 4/5............. "
          ]
        },
        {
          "output_type": "stream",
          "name": "stderr",
          "text": [
            "\r 21%|██        | 77/370 [00:21<01:22,  3.53it/s]"
          ]
        },
        {
          "output_type": "stream",
          "name": "stdout",
          "text": [
            "Loss: 0.0856\n",
            "acc: 0.9719455024904776\n",
            "Epoch: 4/5............. "
          ]
        },
        {
          "output_type": "stream",
          "name": "stderr",
          "text": [
            "\r 21%|██        | 78/370 [00:22<01:22,  3.53it/s]"
          ]
        },
        {
          "output_type": "stream",
          "name": "stdout",
          "text": [
            "Loss: 0.0839\n",
            "acc: 0.9736215424070342\n",
            "Epoch: 4/5............. "
          ]
        },
        {
          "output_type": "stream",
          "name": "stderr",
          "text": [
            "\r 21%|██▏       | 79/370 [00:22<01:22,  3.53it/s]"
          ]
        },
        {
          "output_type": "stream",
          "name": "stdout",
          "text": [
            "Loss: 0.0844\n",
            "acc: 0.9721059516023545\n",
            "Epoch: 4/5............. "
          ]
        },
        {
          "output_type": "stream",
          "name": "stderr",
          "text": [
            "\r 22%|██▏       | 80/370 [00:22<01:22,  3.53it/s]"
          ]
        },
        {
          "output_type": "stream",
          "name": "stdout",
          "text": [
            "Loss: 0.0825\n",
            "acc: 0.9715582941462624\n",
            "Epoch: 4/5............. "
          ]
        },
        {
          "output_type": "stream",
          "name": "stderr",
          "text": [
            "\r 22%|██▏       | 81/370 [00:22<01:21,  3.53it/s]"
          ]
        },
        {
          "output_type": "stream",
          "name": "stdout",
          "text": [
            "Loss: 0.0935\n",
            "acc: 0.9704498159116376\n",
            "Epoch: 4/5............. "
          ]
        },
        {
          "output_type": "stream",
          "name": "stderr",
          "text": [
            "\r 22%|██▏       | 82/370 [00:23<01:21,  3.53it/s]"
          ]
        },
        {
          "output_type": "stream",
          "name": "stdout",
          "text": [
            "Loss: 0.0947\n",
            "acc: 0.9690248431970286\n",
            "Epoch: 4/5............. "
          ]
        },
        {
          "output_type": "stream",
          "name": "stderr",
          "text": [
            "\r 22%|██▏       | 83/370 [00:23<01:21,  3.53it/s]"
          ]
        },
        {
          "output_type": "stream",
          "name": "stdout",
          "text": [
            "Loss: 0.0951\n",
            "acc: 0.9685283116213079\n",
            "Epoch: 4/5............. "
          ]
        },
        {
          "output_type": "stream",
          "name": "stderr",
          "text": [
            "\r 23%|██▎       | 84/370 [00:23<01:20,  3.53it/s]"
          ]
        },
        {
          "output_type": "stream",
          "name": "stdout",
          "text": [
            "Loss: 0.1006\n",
            "acc: 0.9672922252010724\n",
            "Epoch: 4/5............. "
          ]
        },
        {
          "output_type": "stream",
          "name": "stderr",
          "text": [
            "\r 23%|██▎       | 85/370 [00:24<01:20,  3.53it/s]"
          ]
        },
        {
          "output_type": "stream",
          "name": "stdout",
          "text": [
            "Loss: 0.0834\n",
            "acc: 0.9724604639380451\n",
            "Epoch: 4/5............. "
          ]
        },
        {
          "output_type": "stream",
          "name": "stderr",
          "text": [
            "\r 23%|██▎       | 86/370 [00:24<01:20,  3.53it/s]"
          ]
        },
        {
          "output_type": "stream",
          "name": "stdout",
          "text": [
            "Loss: 0.0745\n",
            "acc: 0.974746951324835\n",
            "Epoch: 4/5............. "
          ]
        },
        {
          "output_type": "stream",
          "name": "stderr",
          "text": [
            "\r 24%|██▎       | 87/370 [00:24<01:20,  3.53it/s]"
          ]
        },
        {
          "output_type": "stream",
          "name": "stdout",
          "text": [
            "Loss: 0.0824\n",
            "acc: 0.9717614948561831\n",
            "Epoch: 4/5............. "
          ]
        },
        {
          "output_type": "stream",
          "name": "stderr",
          "text": [
            "\r 24%|██▍       | 88/370 [00:24<01:19,  3.53it/s]"
          ]
        },
        {
          "output_type": "stream",
          "name": "stdout",
          "text": [
            "Loss: 0.0767\n",
            "acc: 0.9741925859625569\n",
            "Epoch: 4/5............. "
          ]
        },
        {
          "output_type": "stream",
          "name": "stderr",
          "text": [
            "\r 24%|██▍       | 89/370 [00:25<01:19,  3.52it/s]"
          ]
        },
        {
          "output_type": "stream",
          "name": "stdout",
          "text": [
            "Loss: 0.0820\n",
            "acc: 0.9726530887510116\n",
            "Epoch: 4/5............. "
          ]
        },
        {
          "output_type": "stream",
          "name": "stderr",
          "text": [
            "\r 24%|██▍       | 90/370 [00:25<01:19,  3.53it/s]"
          ]
        },
        {
          "output_type": "stream",
          "name": "stdout",
          "text": [
            "Loss: 0.0849\n",
            "acc: 0.9729487778296746\n",
            "Epoch: 4/5............. "
          ]
        },
        {
          "output_type": "stream",
          "name": "stderr",
          "text": [
            "\r 25%|██▍       | 91/370 [00:25<01:18,  3.53it/s]"
          ]
        },
        {
          "output_type": "stream",
          "name": "stdout",
          "text": [
            "Loss: 0.1002\n",
            "acc: 0.9677430764333463\n",
            "Epoch: 4/5............. "
          ]
        },
        {
          "output_type": "stream",
          "name": "stderr",
          "text": [
            "\r 25%|██▍       | 92/370 [00:26<01:18,  3.53it/s]"
          ]
        },
        {
          "output_type": "stream",
          "name": "stdout",
          "text": [
            "Loss: 0.0934\n",
            "acc: 0.9680893498205025\n",
            "Epoch: 4/5............. "
          ]
        },
        {
          "output_type": "stream",
          "name": "stderr",
          "text": [
            "\r 25%|██▌       | 93/370 [00:26<01:18,  3.52it/s]"
          ]
        },
        {
          "output_type": "stream",
          "name": "stdout",
          "text": [
            "Loss: 0.0912\n",
            "acc: 0.9701475155279503\n",
            "Epoch: 4/5............. "
          ]
        },
        {
          "output_type": "stream",
          "name": "stderr",
          "text": [
            "\r 25%|██▌       | 94/370 [00:26<01:18,  3.53it/s]"
          ]
        },
        {
          "output_type": "stream",
          "name": "stdout",
          "text": [
            "Loss: 0.0821\n",
            "acc: 0.9734964968455759\n",
            "Epoch: 4/5............. "
          ]
        },
        {
          "output_type": "stream",
          "name": "stderr",
          "text": [
            "\r 26%|██▌       | 95/370 [00:26<01:17,  3.53it/s]"
          ]
        },
        {
          "output_type": "stream",
          "name": "stdout",
          "text": [
            "Loss: 0.0910\n",
            "acc: 0.9697082465019351\n",
            "Epoch: 4/5............. "
          ]
        },
        {
          "output_type": "stream",
          "name": "stderr",
          "text": [
            "\r 26%|██▌       | 96/370 [00:27<01:17,  3.53it/s]"
          ]
        },
        {
          "output_type": "stream",
          "name": "stdout",
          "text": [
            "Loss: 0.0961\n",
            "acc: 0.968809980806142\n",
            "Epoch: 4/5............. "
          ]
        },
        {
          "output_type": "stream",
          "name": "stderr",
          "text": [
            "\r 26%|██▌       | 97/370 [00:27<01:17,  3.53it/s]"
          ]
        },
        {
          "output_type": "stream",
          "name": "stdout",
          "text": [
            "Loss: 0.0814\n",
            "acc: 0.9744375631951466\n",
            "Epoch: 4/5............. "
          ]
        },
        {
          "output_type": "stream",
          "name": "stderr",
          "text": [
            "\r 26%|██▋       | 98/370 [00:27<01:16,  3.55it/s]"
          ]
        },
        {
          "output_type": "stream",
          "name": "stdout",
          "text": [
            "Loss: 0.0910\n",
            "acc: 0.9691566840450512\n",
            "Epoch: 4/5............. "
          ]
        },
        {
          "output_type": "stream",
          "name": "stderr",
          "text": [
            "\r 27%|██▋       | 99/370 [00:28<01:16,  3.53it/s]"
          ]
        },
        {
          "output_type": "stream",
          "name": "stdout",
          "text": [
            "Loss: 0.0827\n",
            "acc: 0.9725011868677647\n",
            "Epoch: 4/5............. "
          ]
        },
        {
          "output_type": "stream",
          "name": "stderr",
          "text": [
            "\r 27%|██▋       | 100/370 [00:28<01:16,  3.54it/s]"
          ]
        },
        {
          "output_type": "stream",
          "name": "stdout",
          "text": [
            "Loss: 0.0834\n",
            "acc: 0.9724670405710539\n",
            "Epoch: 4/5............. "
          ]
        },
        {
          "output_type": "stream",
          "name": "stderr",
          "text": [
            "\r 27%|██▋       | 101/370 [00:28<01:16,  3.52it/s]"
          ]
        },
        {
          "output_type": "stream",
          "name": "stdout",
          "text": [
            "Loss: 0.0853\n",
            "acc: 0.9721824015291146\n",
            "Epoch: 4/5............. "
          ]
        },
        {
          "output_type": "stream",
          "name": "stderr",
          "text": [
            "\r 28%|██▊       | 102/370 [00:28<01:15,  3.53it/s]"
          ]
        },
        {
          "output_type": "stream",
          "name": "stdout",
          "text": [
            "Loss: 0.0950\n",
            "acc: 0.9696040774117299\n",
            "Epoch: 4/5............. "
          ]
        },
        {
          "output_type": "stream",
          "name": "stderr",
          "text": [
            "\r 28%|██▊       | 103/370 [00:29<01:15,  3.53it/s]"
          ]
        },
        {
          "output_type": "stream",
          "name": "stdout",
          "text": [
            "Loss: 0.0894\n",
            "acc: 0.9700445434298441\n",
            "Epoch: 4/5............. "
          ]
        },
        {
          "output_type": "stream",
          "name": "stderr",
          "text": [
            "\r 28%|██▊       | 104/370 [00:29<01:15,  3.52it/s]"
          ]
        },
        {
          "output_type": "stream",
          "name": "stdout",
          "text": [
            "Loss: 0.0851\n",
            "acc: 0.9717651770516971\n",
            "Epoch: 4/5............. "
          ]
        },
        {
          "output_type": "stream",
          "name": "stderr",
          "text": [
            "\r 28%|██▊       | 105/370 [00:29<01:14,  3.54it/s]"
          ]
        },
        {
          "output_type": "stream",
          "name": "stdout",
          "text": [
            "Loss: 0.0795\n",
            "acc: 0.9727776844227861\n",
            "Epoch: 4/5............. "
          ]
        },
        {
          "output_type": "stream",
          "name": "stderr",
          "text": [
            "\r 29%|██▊       | 106/370 [00:30<01:14,  3.52it/s]"
          ]
        },
        {
          "output_type": "stream",
          "name": "stdout",
          "text": [
            "Loss: 0.0918\n",
            "acc: 0.9700134422500258\n",
            "Epoch: 4/5............. "
          ]
        },
        {
          "output_type": "stream",
          "name": "stderr",
          "text": [
            "\r 29%|██▉       | 107/370 [00:30<01:14,  3.53it/s]"
          ]
        },
        {
          "output_type": "stream",
          "name": "stdout",
          "text": [
            "Loss: 0.0786\n",
            "acc: 0.9737995718217963\n",
            "Epoch: 4/5............. "
          ]
        },
        {
          "output_type": "stream",
          "name": "stderr",
          "text": [
            "\r 29%|██▉       | 108/370 [00:30<01:14,  3.53it/s]"
          ]
        },
        {
          "output_type": "stream",
          "name": "stdout",
          "text": [
            "Loss: 0.0901\n",
            "acc: 0.9715440075232489\n",
            "Epoch: 4/5............. "
          ]
        },
        {
          "output_type": "stream",
          "name": "stderr",
          "text": [
            "\r 29%|██▉       | 109/370 [00:30<01:13,  3.54it/s]"
          ]
        },
        {
          "output_type": "stream",
          "name": "stdout",
          "text": [
            "Loss: 0.0884\n",
            "acc: 0.9703314777327935\n",
            "Epoch: 4/5............. "
          ]
        },
        {
          "output_type": "stream",
          "name": "stderr",
          "text": [
            "\r 30%|██▉       | 110/370 [00:31<01:13,  3.55it/s]"
          ]
        },
        {
          "output_type": "stream",
          "name": "stdout",
          "text": [
            "Loss: 0.0890\n",
            "acc: 0.9703408752604942\n",
            "Epoch: 4/5............. "
          ]
        },
        {
          "output_type": "stream",
          "name": "stderr",
          "text": [
            "\r 30%|███       | 111/370 [00:31<01:13,  3.52it/s]"
          ]
        },
        {
          "output_type": "stream",
          "name": "stdout",
          "text": [
            "Loss: 0.0876\n",
            "acc: 0.970936303515489\n",
            "Epoch: 4/5............. "
          ]
        },
        {
          "output_type": "stream",
          "name": "stderr",
          "text": [
            "\r 30%|███       | 112/370 [00:31<01:13,  3.52it/s]"
          ]
        },
        {
          "output_type": "stream",
          "name": "stdout",
          "text": [
            "Loss: 0.0843\n",
            "acc: 0.9724768039043215\n",
            "Epoch: 4/5............. "
          ]
        },
        {
          "output_type": "stream",
          "name": "stderr",
          "text": [
            "\r 31%|███       | 113/370 [00:32<01:12,  3.54it/s]"
          ]
        },
        {
          "output_type": "stream",
          "name": "stdout",
          "text": [
            "Loss: 0.0972\n",
            "acc: 0.9693111328762651\n",
            "Epoch: 4/5............. "
          ]
        },
        {
          "output_type": "stream",
          "name": "stderr",
          "text": [
            "\r 31%|███       | 114/370 [00:32<01:12,  3.53it/s]"
          ]
        },
        {
          "output_type": "stream",
          "name": "stdout",
          "text": [
            "Loss: 0.0842\n",
            "acc: 0.9716026672798345\n",
            "Epoch: 4/5............. "
          ]
        },
        {
          "output_type": "stream",
          "name": "stderr",
          "text": [
            "\r 31%|███       | 115/370 [00:32<01:11,  3.54it/s]"
          ]
        },
        {
          "output_type": "stream",
          "name": "stdout",
          "text": [
            "Loss: 0.0803\n",
            "acc: 0.9735402116783066\n",
            "Epoch: 4/5............. "
          ]
        },
        {
          "output_type": "stream",
          "name": "stderr",
          "text": [
            "\r 31%|███▏      | 116/370 [00:32<01:12,  3.53it/s]"
          ]
        },
        {
          "output_type": "stream",
          "name": "stdout",
          "text": [
            "Loss: 0.0794\n",
            "acc: 0.9733359283768003\n",
            "Epoch: 4/5............. "
          ]
        },
        {
          "output_type": "stream",
          "name": "stderr",
          "text": [
            "\r 32%|███▏      | 117/370 [00:33<01:11,  3.52it/s]"
          ]
        },
        {
          "output_type": "stream",
          "name": "stdout",
          "text": [
            "Loss: 0.0909\n",
            "acc: 0.9691421043965092\n",
            "Epoch: 4/5............. "
          ]
        },
        {
          "output_type": "stream",
          "name": "stderr",
          "text": [
            "\r 32%|███▏      | 118/370 [00:33<01:11,  3.52it/s]"
          ]
        },
        {
          "output_type": "stream",
          "name": "stdout",
          "text": [
            "Loss: 0.0972\n",
            "acc: 0.9675611913889708\n",
            "Epoch: 4/5............. "
          ]
        },
        {
          "output_type": "stream",
          "name": "stderr",
          "text": [
            "\r 32%|███▏      | 119/370 [00:33<01:11,  3.52it/s]"
          ]
        },
        {
          "output_type": "stream",
          "name": "stdout",
          "text": [
            "Loss: 0.0865\n",
            "acc: 0.971209414731533\n",
            "Epoch: 4/5............. "
          ]
        },
        {
          "output_type": "stream",
          "name": "stderr",
          "text": [
            "\r 32%|███▏      | 120/370 [00:34<01:10,  3.53it/s]"
          ]
        },
        {
          "output_type": "stream",
          "name": "stdout",
          "text": [
            "Loss: 0.0947\n",
            "acc: 0.9683014354066986\n",
            "Epoch: 4/5............. "
          ]
        },
        {
          "output_type": "stream",
          "name": "stderr",
          "text": [
            "\r 33%|███▎      | 121/370 [00:34<01:10,  3.53it/s]"
          ]
        },
        {
          "output_type": "stream",
          "name": "stdout",
          "text": [
            "Loss: 0.0838\n",
            "acc: 0.9726040534492679\n",
            "Epoch: 4/5............. "
          ]
        },
        {
          "output_type": "stream",
          "name": "stderr",
          "text": [
            "\r 33%|███▎      | 122/370 [00:34<01:10,  3.53it/s]"
          ]
        },
        {
          "output_type": "stream",
          "name": "stdout",
          "text": [
            "Loss: 0.0769\n",
            "acc: 0.9745843057176196\n",
            "Epoch: 4/5............. "
          ]
        },
        {
          "output_type": "stream",
          "name": "stderr",
          "text": [
            "\r 33%|███▎      | 123/370 [00:34<01:10,  3.52it/s]"
          ]
        },
        {
          "output_type": "stream",
          "name": "stdout",
          "text": [
            "Loss: 0.0860\n",
            "acc: 0.9704412300155573\n",
            "Epoch: 4/5............. "
          ]
        },
        {
          "output_type": "stream",
          "name": "stderr",
          "text": [
            "\r 34%|███▎      | 124/370 [00:35<01:09,  3.53it/s]"
          ]
        },
        {
          "output_type": "stream",
          "name": "stdout",
          "text": [
            "Loss: 0.0846\n",
            "acc: 0.971413406126782\n",
            "Epoch: 4/5............. "
          ]
        },
        {
          "output_type": "stream",
          "name": "stderr",
          "text": [
            "\r 34%|███▍      | 125/370 [00:35<01:09,  3.55it/s]"
          ]
        },
        {
          "output_type": "stream",
          "name": "stdout",
          "text": [
            "Loss: 0.0799\n",
            "acc: 0.9744036667635002\n",
            "Epoch: 4/5............. "
          ]
        },
        {
          "output_type": "stream",
          "name": "stderr",
          "text": [
            "\r 34%|███▍      | 126/370 [00:35<01:09,  3.53it/s]"
          ]
        },
        {
          "output_type": "stream",
          "name": "stdout",
          "text": [
            "Loss: 0.0867\n",
            "acc: 0.9708103855232101\n",
            "Epoch: 4/5............. "
          ]
        },
        {
          "output_type": "stream",
          "name": "stderr",
          "text": [
            "\r 34%|███▍      | 127/370 [00:35<01:08,  3.53it/s]"
          ]
        },
        {
          "output_type": "stream",
          "name": "stdout",
          "text": [
            "Loss: 0.0849\n",
            "acc: 0.9714067331410903\n",
            "Epoch: 4/5............. "
          ]
        },
        {
          "output_type": "stream",
          "name": "stderr",
          "text": [
            "\r 35%|███▍      | 128/370 [00:36<01:08,  3.53it/s]"
          ]
        },
        {
          "output_type": "stream",
          "name": "stdout",
          "text": [
            "Loss: 0.0952\n",
            "acc: 0.9695531830763148\n",
            "Epoch: 4/5............. "
          ]
        },
        {
          "output_type": "stream",
          "name": "stderr",
          "text": [
            "\r 35%|███▍      | 129/370 [00:36<01:08,  3.52it/s]"
          ]
        },
        {
          "output_type": "stream",
          "name": "stdout",
          "text": [
            "Loss: 0.0838\n",
            "acc: 0.9719371727748691\n",
            "Epoch: 4/5............. "
          ]
        },
        {
          "output_type": "stream",
          "name": "stderr",
          "text": [
            "\r 35%|███▌      | 130/370 [00:36<01:08,  3.53it/s]"
          ]
        },
        {
          "output_type": "stream",
          "name": "stdout",
          "text": [
            "Loss: 0.0905\n",
            "acc: 0.9691057492661272\n",
            "Epoch: 4/5............. "
          ]
        },
        {
          "output_type": "stream",
          "name": "stderr",
          "text": [
            "\r 35%|███▌      | 131/370 [00:37<01:07,  3.54it/s]"
          ]
        },
        {
          "output_type": "stream",
          "name": "stdout",
          "text": [
            "Loss: 0.0805\n",
            "acc: 0.972666412293177\n",
            "Epoch: 4/5............. "
          ]
        },
        {
          "output_type": "stream",
          "name": "stderr",
          "text": [
            "\r 36%|███▌      | 132/370 [00:37<01:07,  3.53it/s]"
          ]
        },
        {
          "output_type": "stream",
          "name": "stdout",
          "text": [
            "Loss: 0.0899\n",
            "acc: 0.9702194357366771\n",
            "Epoch: 4/5............. "
          ]
        },
        {
          "output_type": "stream",
          "name": "stderr",
          "text": [
            "\r 36%|███▌      | 133/370 [00:37<01:07,  3.52it/s]"
          ]
        },
        {
          "output_type": "stream",
          "name": "stdout",
          "text": [
            "Loss: 0.0864\n",
            "acc: 0.9704131652661064\n",
            "Epoch: 4/5............. "
          ]
        },
        {
          "output_type": "stream",
          "name": "stderr",
          "text": [
            "\r 36%|███▌      | 134/370 [00:37<01:06,  3.53it/s]"
          ]
        },
        {
          "output_type": "stream",
          "name": "stdout",
          "text": [
            "Loss: 0.0847\n",
            "acc: 0.9723673849237597\n",
            "Epoch: 4/5............. "
          ]
        },
        {
          "output_type": "stream",
          "name": "stderr",
          "text": [
            "\r 36%|███▋      | 135/370 [00:38<01:06,  3.53it/s]"
          ]
        },
        {
          "output_type": "stream",
          "name": "stdout",
          "text": [
            "Loss: 0.0811\n",
            "acc: 0.9730291706846673\n",
            "Epoch: 4/5............. "
          ]
        },
        {
          "output_type": "stream",
          "name": "stderr",
          "text": [
            "\r 37%|███▋      | 136/370 [00:38<01:06,  3.53it/s]"
          ]
        },
        {
          "output_type": "stream",
          "name": "stdout",
          "text": [
            "Loss: 0.0847\n",
            "acc: 0.9713629819851368\n",
            "Epoch: 4/5............. "
          ]
        },
        {
          "output_type": "stream",
          "name": "stderr",
          "text": [
            "\r 37%|███▋      | 137/370 [00:38<01:05,  3.54it/s]"
          ]
        },
        {
          "output_type": "stream",
          "name": "stdout",
          "text": [
            "Loss: 0.0833\n",
            "acc: 0.971530985041704\n",
            "Epoch: 4/5............. "
          ]
        },
        {
          "output_type": "stream",
          "name": "stderr",
          "text": [
            "\r 37%|███▋      | 138/370 [00:39<01:05,  3.53it/s]"
          ]
        },
        {
          "output_type": "stream",
          "name": "stdout",
          "text": [
            "Loss: 0.0753\n",
            "acc: 0.9739797404446746\n",
            "Epoch: 4/5............. "
          ]
        },
        {
          "output_type": "stream",
          "name": "stderr",
          "text": [
            "\r 38%|███▊      | 139/370 [00:39<01:05,  3.53it/s]"
          ]
        },
        {
          "output_type": "stream",
          "name": "stdout",
          "text": [
            "Loss: 0.0881\n",
            "acc: 0.9691332619968722\n",
            "Epoch: 4/5............. "
          ]
        },
        {
          "output_type": "stream",
          "name": "stderr",
          "text": [
            "\r 38%|███▊      | 140/370 [00:39<01:05,  3.53it/s]"
          ]
        },
        {
          "output_type": "stream",
          "name": "stdout",
          "text": [
            "Loss: 0.0805\n",
            "acc: 0.9733855578989655\n",
            "Epoch: 4/5............. "
          ]
        },
        {
          "output_type": "stream",
          "name": "stderr",
          "text": [
            "\r 38%|███▊      | 141/370 [00:39<01:04,  3.54it/s]"
          ]
        },
        {
          "output_type": "stream",
          "name": "stdout",
          "text": [
            "Loss: 0.0866\n",
            "acc: 0.9713284169450048\n",
            "Epoch: 4/5............. "
          ]
        },
        {
          "output_type": "stream",
          "name": "stderr",
          "text": [
            "\r 38%|███▊      | 142/370 [00:40<01:04,  3.53it/s]"
          ]
        },
        {
          "output_type": "stream",
          "name": "stdout",
          "text": [
            "Loss: 0.0944\n",
            "acc: 0.9710431835721236\n",
            "Epoch: 4/5............. "
          ]
        },
        {
          "output_type": "stream",
          "name": "stderr",
          "text": [
            "\r 39%|███▊      | 143/370 [00:40<01:04,  3.54it/s]"
          ]
        },
        {
          "output_type": "stream",
          "name": "stdout",
          "text": [
            "Loss: 0.0859\n",
            "acc: 0.9714545124387144\n",
            "Epoch: 4/5............. "
          ]
        },
        {
          "output_type": "stream",
          "name": "stderr",
          "text": [
            "\r 39%|███▉      | 144/370 [00:40<01:04,  3.52it/s]"
          ]
        },
        {
          "output_type": "stream",
          "name": "stdout",
          "text": [
            "Loss: 0.0907\n",
            "acc: 0.9716998766309021\n",
            "Epoch: 4/5............. "
          ]
        },
        {
          "output_type": "stream",
          "name": "stderr",
          "text": [
            "\r 39%|███▉      | 145/370 [00:41<01:03,  3.53it/s]"
          ]
        },
        {
          "output_type": "stream",
          "name": "stdout",
          "text": [
            "Loss: 0.0855\n",
            "acc: 0.9717474712242763\n",
            "Epoch: 4/5............. "
          ]
        },
        {
          "output_type": "stream",
          "name": "stderr",
          "text": [
            "\r 39%|███▉      | 146/370 [00:41<01:03,  3.52it/s]"
          ]
        },
        {
          "output_type": "stream",
          "name": "stdout",
          "text": [
            "Loss: 0.0897\n",
            "acc: 0.9701850582590815\n",
            "Epoch: 4/5............. "
          ]
        },
        {
          "output_type": "stream",
          "name": "stderr",
          "text": [
            "\r 40%|███▉      | 147/370 [00:41<01:02,  3.55it/s]"
          ]
        },
        {
          "output_type": "stream",
          "name": "stdout",
          "text": [
            "Loss: 0.0833\n",
            "acc: 0.9738768115942029\n",
            "Epoch: 4/5............. "
          ]
        },
        {
          "output_type": "stream",
          "name": "stderr",
          "text": [
            "\r 40%|████      | 148/370 [00:41<01:02,  3.53it/s]"
          ]
        },
        {
          "output_type": "stream",
          "name": "stdout",
          "text": [
            "Loss: 0.0794\n",
            "acc: 0.9726289456257817\n",
            "Epoch: 4/5............. "
          ]
        },
        {
          "output_type": "stream",
          "name": "stderr",
          "text": [
            "\r 40%|████      | 149/370 [00:42<01:02,  3.54it/s]"
          ]
        },
        {
          "output_type": "stream",
          "name": "stdout",
          "text": [
            "Loss: 0.0945\n",
            "acc: 0.9702862367255082\n",
            "Epoch: 4/5............. "
          ]
        },
        {
          "output_type": "stream",
          "name": "stderr",
          "text": [
            "\r 41%|████      | 150/370 [00:42<01:02,  3.52it/s]"
          ]
        },
        {
          "output_type": "stream",
          "name": "stdout",
          "text": [
            "Loss: 0.0825\n",
            "acc: 0.9723228050048399\n",
            "Epoch: 4/5............. "
          ]
        },
        {
          "output_type": "stream",
          "name": "stderr",
          "text": [
            "\r 41%|████      | 151/370 [00:42<01:02,  3.52it/s]"
          ]
        },
        {
          "output_type": "stream",
          "name": "stdout",
          "text": [
            "Loss: 0.0822\n",
            "acc: 0.9726105360509373\n",
            "Epoch: 4/5............. "
          ]
        },
        {
          "output_type": "stream",
          "name": "stderr",
          "text": [
            "\r 41%|████      | 152/370 [00:43<01:01,  3.52it/s]"
          ]
        },
        {
          "output_type": "stream",
          "name": "stdout",
          "text": [
            "Loss: 0.0871\n",
            "acc: 0.9714245643560885\n",
            "Epoch: 4/5............. "
          ]
        },
        {
          "output_type": "stream",
          "name": "stderr",
          "text": [
            "\r 41%|████▏     | 153/370 [00:43<01:01,  3.54it/s]"
          ]
        },
        {
          "output_type": "stream",
          "name": "stdout",
          "text": [
            "Loss: 0.0972\n",
            "acc: 0.9688220876585929\n",
            "Epoch: 4/5............. "
          ]
        },
        {
          "output_type": "stream",
          "name": "stderr",
          "text": [
            "\r 42%|████▏     | 154/370 [00:43<01:01,  3.54it/s]"
          ]
        },
        {
          "output_type": "stream",
          "name": "stdout",
          "text": [
            "Loss: 0.0867\n",
            "acc: 0.9725471396612336\n",
            "Epoch: 4/5............. "
          ]
        },
        {
          "output_type": "stream",
          "name": "stderr",
          "text": [
            "\r 42%|████▏     | 155/370 [00:43<01:00,  3.54it/s]"
          ]
        },
        {
          "output_type": "stream",
          "name": "stdout",
          "text": [
            "Loss: 0.0712\n",
            "acc: 0.9758858090329092\n",
            "Epoch: 4/5............. "
          ]
        },
        {
          "output_type": "stream",
          "name": "stderr",
          "text": [
            "\r 42%|████▏     | 156/370 [00:44<01:00,  3.53it/s]"
          ]
        },
        {
          "output_type": "stream",
          "name": "stdout",
          "text": [
            "Loss: 0.0928\n",
            "acc: 0.9696382853016478\n",
            "Epoch: 4/5............. "
          ]
        },
        {
          "output_type": "stream",
          "name": "stderr",
          "text": [
            "\r 42%|████▏     | 157/370 [00:44<01:00,  3.53it/s]"
          ]
        },
        {
          "output_type": "stream",
          "name": "stdout",
          "text": [
            "Loss: 0.0757\n",
            "acc: 0.9740685901796791\n",
            "Epoch: 4/5............. "
          ]
        },
        {
          "output_type": "stream",
          "name": "stderr",
          "text": [
            "\r 43%|████▎     | 158/370 [00:44<00:59,  3.54it/s]"
          ]
        },
        {
          "output_type": "stream",
          "name": "stdout",
          "text": [
            "Loss: 0.0864\n",
            "acc: 0.9714221277144146\n",
            "Epoch: 4/5............. "
          ]
        },
        {
          "output_type": "stream",
          "name": "stderr",
          "text": [
            "\r 43%|████▎     | 159/370 [00:45<00:59,  3.53it/s]"
          ]
        },
        {
          "output_type": "stream",
          "name": "stdout",
          "text": [
            "Loss: 0.0836\n",
            "acc: 0.970949263502455\n",
            "Epoch: 4/5............. "
          ]
        },
        {
          "output_type": "stream",
          "name": "stderr",
          "text": [
            "\r 43%|████▎     | 160/370 [00:45<00:59,  3.53it/s]"
          ]
        },
        {
          "output_type": "stream",
          "name": "stdout",
          "text": [
            "Loss: 0.0978\n",
            "acc: 0.9665940693583515\n",
            "Epoch: 4/5............. "
          ]
        },
        {
          "output_type": "stream",
          "name": "stderr",
          "text": [
            "\r 44%|████▎     | 161/370 [00:45<00:59,  3.51it/s]"
          ]
        },
        {
          "output_type": "stream",
          "name": "stdout",
          "text": [
            "Loss: 0.1030\n",
            "acc: 0.9666687769055458\n",
            "Epoch: 4/5............. "
          ]
        },
        {
          "output_type": "stream",
          "name": "stderr",
          "text": [
            "\r 44%|████▍     | 162/370 [00:45<00:59,  3.47it/s]"
          ]
        },
        {
          "output_type": "stream",
          "name": "stdout",
          "text": [
            "Loss: 0.0813\n",
            "acc: 0.9739558411374667\n",
            "Epoch: 4/5............. "
          ]
        },
        {
          "output_type": "stream",
          "name": "stderr",
          "text": [
            "\r 44%|████▍     | 163/370 [00:46<00:59,  3.49it/s]"
          ]
        },
        {
          "output_type": "stream",
          "name": "stdout",
          "text": [
            "Loss: 0.0824\n",
            "acc: 0.9720081135902637\n",
            "Epoch: 4/5............. "
          ]
        },
        {
          "output_type": "stream",
          "name": "stderr",
          "text": [
            "\r 44%|████▍     | 164/370 [00:46<00:59,  3.49it/s]"
          ]
        },
        {
          "output_type": "stream",
          "name": "stdout",
          "text": [
            "Loss: 0.0799\n",
            "acc: 0.9738723779186012\n",
            "Epoch: 4/5............. "
          ]
        },
        {
          "output_type": "stream",
          "name": "stderr",
          "text": [
            "\r 45%|████▍     | 165/370 [00:46<00:58,  3.51it/s]"
          ]
        },
        {
          "output_type": "stream",
          "name": "stdout",
          "text": [
            "Loss: 0.0869\n",
            "acc: 0.9711143092105263\n",
            "Epoch: 4/5............. "
          ]
        },
        {
          "output_type": "stream",
          "name": "stderr",
          "text": [
            "\r 45%|████▍     | 166/370 [00:47<00:58,  3.51it/s]"
          ]
        },
        {
          "output_type": "stream",
          "name": "stdout",
          "text": [
            "Loss: 0.0890\n",
            "acc: 0.9703690014168669\n",
            "Epoch: 4/5............. "
          ]
        },
        {
          "output_type": "stream",
          "name": "stderr",
          "text": [
            "\r 45%|████▌     | 167/370 [00:47<00:57,  3.52it/s]"
          ]
        },
        {
          "output_type": "stream",
          "name": "stdout",
          "text": [
            "Loss: 0.0786\n",
            "acc: 0.97388565235063\n",
            "Epoch: 4/5............. "
          ]
        },
        {
          "output_type": "stream",
          "name": "stderr",
          "text": [
            "\r 45%|████▌     | 168/370 [00:47<00:57,  3.52it/s]"
          ]
        },
        {
          "output_type": "stream",
          "name": "stdout",
          "text": [
            "Loss: 0.0858\n",
            "acc: 0.9722008005581874\n",
            "Epoch: 4/5............. "
          ]
        },
        {
          "output_type": "stream",
          "name": "stderr",
          "text": [
            "\r 46%|████▌     | 169/370 [00:47<00:56,  3.53it/s]"
          ]
        },
        {
          "output_type": "stream",
          "name": "stdout",
          "text": [
            "Loss: 0.0836\n",
            "acc: 0.9719056084213462\n",
            "Epoch: 4/5............. "
          ]
        },
        {
          "output_type": "stream",
          "name": "stderr",
          "text": [
            "\r 46%|████▌     | 170/370 [00:48<00:56,  3.52it/s]"
          ]
        },
        {
          "output_type": "stream",
          "name": "stdout",
          "text": [
            "Loss: 0.0713\n",
            "acc: 0.9757988985876447\n",
            "Epoch: 4/5............. "
          ]
        },
        {
          "output_type": "stream",
          "name": "stderr",
          "text": [
            "\r 46%|████▌     | 171/370 [00:48<00:56,  3.53it/s]"
          ]
        },
        {
          "output_type": "stream",
          "name": "stdout",
          "text": [
            "Loss: 0.0727\n",
            "acc: 0.9752001049731006\n",
            "Epoch: 4/5............. "
          ]
        },
        {
          "output_type": "stream",
          "name": "stderr",
          "text": [
            "\r 46%|████▋     | 172/370 [00:48<00:56,  3.53it/s]"
          ]
        },
        {
          "output_type": "stream",
          "name": "stdout",
          "text": [
            "Loss: 0.0786\n",
            "acc: 0.9725471035514703\n",
            "Epoch: 4/5............. "
          ]
        },
        {
          "output_type": "stream",
          "name": "stderr",
          "text": [
            "\r 47%|████▋     | 173/370 [00:49<00:55,  3.54it/s]"
          ]
        },
        {
          "output_type": "stream",
          "name": "stdout",
          "text": [
            "Loss: 0.0862\n",
            "acc: 0.9719209781031982\n",
            "Epoch: 4/5............. "
          ]
        },
        {
          "output_type": "stream",
          "name": "stderr",
          "text": [
            "\r 47%|████▋     | 174/370 [00:49<00:55,  3.54it/s]"
          ]
        },
        {
          "output_type": "stream",
          "name": "stdout",
          "text": [
            "Loss: 0.0868\n",
            "acc: 0.9712294897729827\n",
            "Epoch: 4/5............. "
          ]
        },
        {
          "output_type": "stream",
          "name": "stderr",
          "text": [
            "\r 47%|████▋     | 175/370 [00:49<00:55,  3.54it/s]"
          ]
        },
        {
          "output_type": "stream",
          "name": "stdout",
          "text": [
            "Loss: 0.0853\n",
            "acc: 0.9713857983736518\n",
            "Epoch: 4/5............. "
          ]
        },
        {
          "output_type": "stream",
          "name": "stderr",
          "text": [
            "\r 48%|████▊     | 176/370 [00:49<00:55,  3.53it/s]"
          ]
        },
        {
          "output_type": "stream",
          "name": "stdout",
          "text": [
            "Loss: 0.0803\n",
            "acc: 0.9742401016936478\n",
            "Epoch: 4/5............. "
          ]
        },
        {
          "output_type": "stream",
          "name": "stderr",
          "text": [
            "\r 48%|████▊     | 177/370 [00:50<00:54,  3.53it/s]"
          ]
        },
        {
          "output_type": "stream",
          "name": "stdout",
          "text": [
            "Loss: 0.0899\n",
            "acc: 0.9688103371454032\n",
            "Epoch: 4/5............. "
          ]
        },
        {
          "output_type": "stream",
          "name": "stderr",
          "text": [
            "\r 48%|████▊     | 178/370 [00:50<00:54,  3.53it/s]"
          ]
        },
        {
          "output_type": "stream",
          "name": "stdout",
          "text": [
            "Loss: 0.0764\n",
            "acc: 0.9754151555640389\n",
            "Epoch: 4/5............. "
          ]
        },
        {
          "output_type": "stream",
          "name": "stderr",
          "text": [
            "\r 48%|████▊     | 179/370 [00:50<00:53,  3.54it/s]"
          ]
        },
        {
          "output_type": "stream",
          "name": "stdout",
          "text": [
            "Loss: 0.0947\n",
            "acc: 0.9698557861413999\n",
            "Epoch: 4/5............. "
          ]
        },
        {
          "output_type": "stream",
          "name": "stderr",
          "text": [
            "\r 49%|████▊     | 180/370 [00:51<00:53,  3.53it/s]"
          ]
        },
        {
          "output_type": "stream",
          "name": "stdout",
          "text": [
            "Loss: 0.0932\n",
            "acc: 0.9707565373611019\n",
            "Epoch: 4/5............. "
          ]
        },
        {
          "output_type": "stream",
          "name": "stderr",
          "text": [
            "\r 49%|████▉     | 181/370 [00:51<00:53,  3.52it/s]"
          ]
        },
        {
          "output_type": "stream",
          "name": "stdout",
          "text": [
            "Loss: 0.0834\n",
            "acc: 0.9720230091139997\n",
            "Epoch: 4/5............. "
          ]
        },
        {
          "output_type": "stream",
          "name": "stderr",
          "text": [
            "\r 49%|████▉     | 182/370 [00:51<00:53,  3.53it/s]"
          ]
        },
        {
          "output_type": "stream",
          "name": "stdout",
          "text": [
            "Loss: 0.0783\n",
            "acc: 0.9733153543167382\n",
            "Epoch: 4/5............. "
          ]
        },
        {
          "output_type": "stream",
          "name": "stderr",
          "text": [
            "\r 49%|████▉     | 183/370 [00:51<00:52,  3.53it/s]"
          ]
        },
        {
          "output_type": "stream",
          "name": "stdout",
          "text": [
            "Loss: 0.0938\n",
            "acc: 0.9696587794196414\n",
            "Epoch: 4/5............. "
          ]
        },
        {
          "output_type": "stream",
          "name": "stderr",
          "text": [
            "\r 50%|████▉     | 184/370 [00:52<00:52,  3.52it/s]"
          ]
        },
        {
          "output_type": "stream",
          "name": "stdout",
          "text": [
            "Loss: 0.0724\n",
            "acc: 0.9746548526684525\n",
            "Epoch: 4/5............. "
          ]
        },
        {
          "output_type": "stream",
          "name": "stderr",
          "text": [
            "\r 50%|█████     | 185/370 [00:52<00:52,  3.53it/s]"
          ]
        },
        {
          "output_type": "stream",
          "name": "stdout",
          "text": [
            "Loss: 0.0889\n",
            "acc: 0.9710869177226485\n",
            "Epoch: 4/5............. "
          ]
        },
        {
          "output_type": "stream",
          "name": "stderr",
          "text": [
            "\r 50%|█████     | 186/370 [00:52<00:52,  3.53it/s]"
          ]
        },
        {
          "output_type": "stream",
          "name": "stdout",
          "text": [
            "Loss: 0.0917\n",
            "acc: 0.9693169092945129\n",
            "Epoch: 4/5............. "
          ]
        },
        {
          "output_type": "stream",
          "name": "stderr",
          "text": [
            "\r 51%|█████     | 187/370 [00:52<00:51,  3.55it/s]"
          ]
        },
        {
          "output_type": "stream",
          "name": "stdout",
          "text": [
            "Loss: 0.0845\n",
            "acc: 0.9725041713014461\n",
            "Epoch: 4/5............. "
          ]
        },
        {
          "output_type": "stream",
          "name": "stderr",
          "text": [
            "\r 51%|█████     | 188/370 [00:53<00:51,  3.53it/s]"
          ]
        },
        {
          "output_type": "stream",
          "name": "stdout",
          "text": [
            "Loss: 0.0788\n",
            "acc: 0.972567655136236\n",
            "Epoch: 4/5............. "
          ]
        },
        {
          "output_type": "stream",
          "name": "stderr",
          "text": [
            "\r 51%|█████     | 189/370 [00:53<00:51,  3.53it/s]"
          ]
        },
        {
          "output_type": "stream",
          "name": "stdout",
          "text": [
            "Loss: 0.0912\n",
            "acc: 0.9714867617107943\n",
            "Epoch: 4/5............. "
          ]
        },
        {
          "output_type": "stream",
          "name": "stderr",
          "text": [
            "\r 51%|█████▏    | 190/370 [00:53<00:51,  3.52it/s]"
          ]
        },
        {
          "output_type": "stream",
          "name": "stdout",
          "text": [
            "Loss: 0.0869\n",
            "acc: 0.9714197339931951\n",
            "Epoch: 4/5............. "
          ]
        },
        {
          "output_type": "stream",
          "name": "stderr",
          "text": [
            "\r 52%|█████▏    | 191/370 [00:54<00:50,  3.52it/s]"
          ]
        },
        {
          "output_type": "stream",
          "name": "stdout",
          "text": [
            "Loss: 0.0794\n",
            "acc: 0.9721206764954003\n",
            "Epoch: 4/5............. "
          ]
        },
        {
          "output_type": "stream",
          "name": "stderr",
          "text": [
            "\r 52%|█████▏    | 192/370 [00:54<00:50,  3.53it/s]"
          ]
        },
        {
          "output_type": "stream",
          "name": "stdout",
          "text": [
            "Loss: 0.0826\n",
            "acc: 0.9721666721306101\n",
            "Epoch: 4/5............. "
          ]
        },
        {
          "output_type": "stream",
          "name": "stderr",
          "text": [
            "\r 52%|█████▏    | 193/370 [00:54<00:50,  3.53it/s]"
          ]
        },
        {
          "output_type": "stream",
          "name": "stdout",
          "text": [
            "Loss: 0.0873\n",
            "acc: 0.9706279997296018\n",
            "Epoch: 4/5............. "
          ]
        },
        {
          "output_type": "stream",
          "name": "stderr",
          "text": [
            "\r 52%|█████▏    | 194/370 [00:54<00:49,  3.53it/s]"
          ]
        },
        {
          "output_type": "stream",
          "name": "stdout",
          "text": [
            "Loss: 0.0775\n",
            "acc: 0.9756814101517872\n",
            "Epoch: 4/5............. "
          ]
        },
        {
          "output_type": "stream",
          "name": "stderr",
          "text": [
            "\r 53%|█████▎    | 195/370 [00:55<00:49,  3.54it/s]"
          ]
        },
        {
          "output_type": "stream",
          "name": "stdout",
          "text": [
            "Loss: 0.0907\n",
            "acc: 0.9692886138284421\n",
            "Epoch: 4/5............. "
          ]
        },
        {
          "output_type": "stream",
          "name": "stderr",
          "text": [
            "\r 53%|█████▎    | 196/370 [00:55<00:49,  3.54it/s]"
          ]
        },
        {
          "output_type": "stream",
          "name": "stdout",
          "text": [
            "Loss: 0.0890\n",
            "acc: 0.9713992824192722\n",
            "Epoch: 4/5............. "
          ]
        },
        {
          "output_type": "stream",
          "name": "stderr",
          "text": [
            "\r 53%|█████▎    | 197/370 [00:55<00:49,  3.53it/s]"
          ]
        },
        {
          "output_type": "stream",
          "name": "stdout",
          "text": [
            "Loss: 0.0872\n",
            "acc: 0.9701742261666606\n",
            "Epoch: 4/5............. "
          ]
        },
        {
          "output_type": "stream",
          "name": "stderr",
          "text": [
            "\r 54%|█████▎    | 198/370 [00:56<00:48,  3.53it/s]"
          ]
        },
        {
          "output_type": "stream",
          "name": "stdout",
          "text": [
            "Loss: 0.0818\n",
            "acc: 0.9738362000946821\n",
            "Epoch: 4/5............. "
          ]
        },
        {
          "output_type": "stream",
          "name": "stderr",
          "text": [
            "\r 54%|█████▍    | 199/370 [00:56<00:48,  3.53it/s]"
          ]
        },
        {
          "output_type": "stream",
          "name": "stdout",
          "text": [
            "Loss: 0.0793\n",
            "acc: 0.9729075790621592\n",
            "Epoch: 4/5............. "
          ]
        },
        {
          "output_type": "stream",
          "name": "stderr",
          "text": [
            "\r 54%|█████▍    | 200/370 [00:56<00:48,  3.53it/s]"
          ]
        },
        {
          "output_type": "stream",
          "name": "stdout",
          "text": [
            "Loss: 0.0877\n",
            "acc: 0.9707763939887194\n",
            "Epoch: 4/5............. "
          ]
        },
        {
          "output_type": "stream",
          "name": "stderr",
          "text": [
            "\r 54%|█████▍    | 201/370 [00:56<00:47,  3.53it/s]"
          ]
        },
        {
          "output_type": "stream",
          "name": "stdout",
          "text": [
            "Loss: 0.0826\n",
            "acc: 0.9739827000100972\n",
            "Epoch: 4/5............. "
          ]
        },
        {
          "output_type": "stream",
          "name": "stderr",
          "text": [
            "\r 55%|█████▍    | 202/370 [00:57<00:47,  3.53it/s]"
          ]
        },
        {
          "output_type": "stream",
          "name": "stdout",
          "text": [
            "Loss: 0.0829\n",
            "acc: 0.972997357736676\n",
            "Epoch: 4/5............. "
          ]
        },
        {
          "output_type": "stream",
          "name": "stderr",
          "text": [
            "\r 55%|█████▍    | 203/370 [00:57<00:47,  3.53it/s]"
          ]
        },
        {
          "output_type": "stream",
          "name": "stdout",
          "text": [
            "Loss: 0.0791\n",
            "acc: 0.9723786442369378\n",
            "Epoch: 4/5............. "
          ]
        },
        {
          "output_type": "stream",
          "name": "stderr",
          "text": [
            "\r 55%|█████▌    | 204/370 [00:57<00:47,  3.53it/s]"
          ]
        },
        {
          "output_type": "stream",
          "name": "stdout",
          "text": [
            "Loss: 0.0782\n",
            "acc: 0.9745275008648071\n",
            "Epoch: 4/5............. "
          ]
        },
        {
          "output_type": "stream",
          "name": "stderr",
          "text": [
            "\r 55%|█████▌    | 205/370 [00:58<00:46,  3.54it/s]"
          ]
        },
        {
          "output_type": "stream",
          "name": "stdout",
          "text": [
            "Loss: 0.1029\n",
            "acc: 0.9675277817866936\n",
            "Epoch: 4/5............. "
          ]
        },
        {
          "output_type": "stream",
          "name": "stderr",
          "text": [
            "\r 56%|█████▌    | 206/370 [00:58<00:46,  3.52it/s]"
          ]
        },
        {
          "output_type": "stream",
          "name": "stdout",
          "text": [
            "Loss: 0.0832\n",
            "acc: 0.9720306032860906\n",
            "Epoch: 4/5............. "
          ]
        },
        {
          "output_type": "stream",
          "name": "stderr",
          "text": [
            "\r 56%|█████▌    | 207/370 [00:58<00:46,  3.52it/s]"
          ]
        },
        {
          "output_type": "stream",
          "name": "stdout",
          "text": [
            "Loss: 0.0895\n",
            "acc: 0.9706728602627657\n",
            "Epoch: 4/5............. "
          ]
        },
        {
          "output_type": "stream",
          "name": "stderr",
          "text": [
            "\r 56%|█████▌    | 208/370 [00:58<00:45,  3.55it/s]"
          ]
        },
        {
          "output_type": "stream",
          "name": "stdout",
          "text": [
            "Loss: 0.0754\n",
            "acc: 0.9753245795219829\n",
            "Epoch: 4/5............. "
          ]
        },
        {
          "output_type": "stream",
          "name": "stderr",
          "text": [
            "\r 56%|█████▋    | 209/370 [00:59<00:45,  3.54it/s]"
          ]
        },
        {
          "output_type": "stream",
          "name": "stdout",
          "text": [
            "Loss: 0.1054\n",
            "acc: 0.9657909241227265\n",
            "Epoch: 4/5............. "
          ]
        },
        {
          "output_type": "stream",
          "name": "stderr",
          "text": [
            "\r 57%|█████▋    | 210/370 [00:59<00:45,  3.54it/s]"
          ]
        },
        {
          "output_type": "stream",
          "name": "stdout",
          "text": [
            "Loss: 0.0898\n",
            "acc: 0.9703192867484569\n",
            "Epoch: 4/5............. "
          ]
        },
        {
          "output_type": "stream",
          "name": "stderr",
          "text": [
            "\r 57%|█████▋    | 211/370 [00:59<00:44,  3.53it/s]"
          ]
        },
        {
          "output_type": "stream",
          "name": "stdout",
          "text": [
            "Loss: 0.0895\n",
            "acc: 0.9710051315175656\n",
            "Epoch: 4/5............. "
          ]
        },
        {
          "output_type": "stream",
          "name": "stderr",
          "text": [
            "\r 57%|█████▋    | 212/370 [01:00<00:44,  3.54it/s]"
          ]
        },
        {
          "output_type": "stream",
          "name": "stdout",
          "text": [
            "Loss: 0.0872\n",
            "acc: 0.9716936412270604\n",
            "Epoch: 4/5............. "
          ]
        },
        {
          "output_type": "stream",
          "name": "stderr",
          "text": [
            "\r 58%|█████▊    | 213/370 [01:00<00:44,  3.53it/s]"
          ]
        },
        {
          "output_type": "stream",
          "name": "stdout",
          "text": [
            "Loss: 0.0905\n",
            "acc: 0.9702924896007337\n",
            "Epoch: 4/5............. "
          ]
        },
        {
          "output_type": "stream",
          "name": "stderr",
          "text": [
            "\r 58%|█████▊    | 214/370 [01:00<00:44,  3.52it/s]"
          ]
        },
        {
          "output_type": "stream",
          "name": "stdout",
          "text": [
            "Loss: 0.0880\n",
            "acc: 0.9700920486318368\n",
            "Epoch: 4/5............. "
          ]
        },
        {
          "output_type": "stream",
          "name": "stderr",
          "text": [
            "\r 58%|█████▊    | 215/370 [01:00<00:43,  3.52it/s]"
          ]
        },
        {
          "output_type": "stream",
          "name": "stdout",
          "text": [
            "Loss: 0.0750\n",
            "acc: 0.9745838620586699\n",
            "Epoch: 4/5............. "
          ]
        },
        {
          "output_type": "stream",
          "name": "stderr",
          "text": [
            "\r 58%|█████▊    | 216/370 [01:01<00:43,  3.54it/s]"
          ]
        },
        {
          "output_type": "stream",
          "name": "stdout",
          "text": [
            "Loss: 0.0957\n",
            "acc: 0.9692587794545009\n",
            "Epoch: 4/5............. "
          ]
        },
        {
          "output_type": "stream",
          "name": "stderr",
          "text": [
            "\r 59%|█████▊    | 217/370 [01:01<00:43,  3.54it/s]"
          ]
        },
        {
          "output_type": "stream",
          "name": "stdout",
          "text": [
            "Loss: 0.0923\n",
            "acc: 0.9694835680751174\n",
            "Epoch: 4/5............. "
          ]
        },
        {
          "output_type": "stream",
          "name": "stderr",
          "text": [
            "\r 59%|█████▉    | 218/370 [01:01<00:42,  3.55it/s]"
          ]
        },
        {
          "output_type": "stream",
          "name": "stdout",
          "text": [
            "Loss: 0.0936\n",
            "acc: 0.9705787261558357\n",
            "Epoch: 4/5............. "
          ]
        },
        {
          "output_type": "stream",
          "name": "stderr",
          "text": [
            "\r 59%|█████▉    | 219/370 [01:02<00:42,  3.53it/s]"
          ]
        },
        {
          "output_type": "stream",
          "name": "stdout",
          "text": [
            "Loss: 0.0914\n",
            "acc: 0.9702421084891204\n",
            "Epoch: 4/5............. "
          ]
        },
        {
          "output_type": "stream",
          "name": "stderr",
          "text": [
            "\r 59%|█████▉    | 220/370 [01:02<00:42,  3.54it/s]"
          ]
        },
        {
          "output_type": "stream",
          "name": "stdout",
          "text": [
            "Loss: 0.0908\n",
            "acc: 0.970754716981132\n",
            "Epoch: 4/5............. "
          ]
        },
        {
          "output_type": "stream",
          "name": "stderr",
          "text": [
            "\r 60%|█████▉    | 221/370 [01:02<00:42,  3.53it/s]"
          ]
        },
        {
          "output_type": "stream",
          "name": "stdout",
          "text": [
            "Loss: 0.0766\n",
            "acc: 0.976264054178447\n",
            "Epoch: 4/5............. "
          ]
        },
        {
          "output_type": "stream",
          "name": "stderr",
          "text": [
            "\r 60%|██████    | 222/370 [01:02<00:42,  3.52it/s]"
          ]
        },
        {
          "output_type": "stream",
          "name": "stdout",
          "text": [
            "Loss: 0.0893\n",
            "acc: 0.9701982083656627\n",
            "Epoch: 4/5............. "
          ]
        },
        {
          "output_type": "stream",
          "name": "stderr",
          "text": [
            "\r 60%|██████    | 223/370 [01:03<00:41,  3.52it/s]"
          ]
        },
        {
          "output_type": "stream",
          "name": "stdout",
          "text": [
            "Loss: 0.0877\n",
            "acc: 0.9712790273958989\n",
            "Epoch: 4/5............. "
          ]
        },
        {
          "output_type": "stream",
          "name": "stderr",
          "text": [
            "\r 61%|██████    | 224/370 [01:03<00:41,  3.53it/s]"
          ]
        },
        {
          "output_type": "stream",
          "name": "stdout",
          "text": [
            "Loss: 0.0906\n",
            "acc: 0.9701569777471106\n",
            "Epoch: 4/5............. "
          ]
        },
        {
          "output_type": "stream",
          "name": "stderr",
          "text": [
            "\r 61%|██████    | 225/370 [01:03<00:41,  3.52it/s]"
          ]
        },
        {
          "output_type": "stream",
          "name": "stdout",
          "text": [
            "Loss: 0.0847\n",
            "acc: 0.9705405206105744\n",
            "Epoch: 4/5............. "
          ]
        },
        {
          "output_type": "stream",
          "name": "stderr",
          "text": [
            "\r 61%|██████    | 226/370 [01:04<00:40,  3.53it/s]"
          ]
        },
        {
          "output_type": "stream",
          "name": "stdout",
          "text": [
            "Loss: 0.0850\n",
            "acc: 0.9704344624447717\n",
            "Epoch: 4/5............. "
          ]
        },
        {
          "output_type": "stream",
          "name": "stderr",
          "text": [
            "\r 61%|██████▏   | 227/370 [01:04<00:40,  3.54it/s]"
          ]
        },
        {
          "output_type": "stream",
          "name": "stdout",
          "text": [
            "Loss: 0.0800\n",
            "acc: 0.972733469665985\n",
            "Epoch: 4/5............. "
          ]
        },
        {
          "output_type": "stream",
          "name": "stderr",
          "text": [
            "\r 62%|██████▏   | 228/370 [01:04<00:40,  3.53it/s]"
          ]
        },
        {
          "output_type": "stream",
          "name": "stdout",
          "text": [
            "Loss: 0.0781\n",
            "acc: 0.9731079366378781\n",
            "Epoch: 4/5............. "
          ]
        },
        {
          "output_type": "stream",
          "name": "stderr",
          "text": [
            "\r 62%|██████▏   | 229/370 [01:04<00:39,  3.53it/s]"
          ]
        },
        {
          "output_type": "stream",
          "name": "stdout",
          "text": [
            "Loss: 0.0759\n",
            "acc: 0.9766780989710926\n",
            "Epoch: 4/5............. "
          ]
        },
        {
          "output_type": "stream",
          "name": "stderr",
          "text": [
            "\r 62%|██████▏   | 230/370 [01:05<00:39,  3.53it/s]"
          ]
        },
        {
          "output_type": "stream",
          "name": "stdout",
          "text": [
            "Loss: 0.0723\n",
            "acc: 0.9754542790152403\n",
            "Epoch: 4/5............. "
          ]
        },
        {
          "output_type": "stream",
          "name": "stderr",
          "text": [
            "\r 62%|██████▏   | 231/370 [01:05<00:39,  3.53it/s]"
          ]
        },
        {
          "output_type": "stream",
          "name": "stdout",
          "text": [
            "Loss: 0.0801\n",
            "acc: 0.9732296760122419\n",
            "Epoch: 4/5............. "
          ]
        },
        {
          "output_type": "stream",
          "name": "stderr",
          "text": [
            "\r 63%|██████▎   | 232/370 [01:05<00:38,  3.54it/s]"
          ]
        },
        {
          "output_type": "stream",
          "name": "stdout",
          "text": [
            "Loss: 0.0822\n",
            "acc: 0.973250024406912\n",
            "Epoch: 4/5............. "
          ]
        },
        {
          "output_type": "stream",
          "name": "stderr",
          "text": [
            "\r 63%|██████▎   | 233/370 [01:06<00:38,  3.53it/s]"
          ]
        },
        {
          "output_type": "stream",
          "name": "stdout",
          "text": [
            "Loss: 0.0853\n",
            "acc: 0.9725507373339174\n",
            "Epoch: 4/5............. "
          ]
        },
        {
          "output_type": "stream",
          "name": "stderr",
          "text": [
            "\r 63%|██████▎   | 234/370 [01:06<00:38,  3.54it/s]"
          ]
        },
        {
          "output_type": "stream",
          "name": "stdout",
          "text": [
            "Loss: 0.0906\n",
            "acc: 0.969977697718305\n",
            "Epoch: 4/5............. "
          ]
        },
        {
          "output_type": "stream",
          "name": "stderr",
          "text": [
            "\r 64%|██████▎   | 235/370 [01:06<00:38,  3.54it/s]"
          ]
        },
        {
          "output_type": "stream",
          "name": "stdout",
          "text": [
            "Loss: 0.0922\n",
            "acc: 0.9691505539865305\n",
            "Epoch: 4/5............. "
          ]
        },
        {
          "output_type": "stream",
          "name": "stderr",
          "text": [
            "\r 64%|██████▍   | 236/370 [01:06<00:37,  3.53it/s]"
          ]
        },
        {
          "output_type": "stream",
          "name": "stdout",
          "text": [
            "Loss: 0.0849\n",
            "acc: 0.9729902329075882\n",
            "Epoch: 4/5............. "
          ]
        },
        {
          "output_type": "stream",
          "name": "stderr",
          "text": [
            "\r 64%|██████▍   | 237/370 [01:07<00:37,  3.54it/s]"
          ]
        },
        {
          "output_type": "stream",
          "name": "stdout",
          "text": [
            "Loss: 0.0836\n",
            "acc: 0.9726593493784713\n",
            "Epoch: 4/5............. "
          ]
        },
        {
          "output_type": "stream",
          "name": "stderr",
          "text": [
            "\r 64%|██████▍   | 238/370 [01:07<00:37,  3.53it/s]"
          ]
        },
        {
          "output_type": "stream",
          "name": "stdout",
          "text": [
            "Loss: 0.0779\n",
            "acc: 0.9738102842542319\n",
            "Epoch: 4/5............. "
          ]
        },
        {
          "output_type": "stream",
          "name": "stderr",
          "text": [
            "\r 65%|██████▍   | 239/370 [01:07<00:37,  3.52it/s]"
          ]
        },
        {
          "output_type": "stream",
          "name": "stdout",
          "text": [
            "Loss: 0.0805\n",
            "acc: 0.9720468607682402\n",
            "Epoch: 4/5............. "
          ]
        },
        {
          "output_type": "stream",
          "name": "stderr",
          "text": [
            "\r 65%|██████▍   | 240/370 [01:08<00:36,  3.53it/s]"
          ]
        },
        {
          "output_type": "stream",
          "name": "stdout",
          "text": [
            "Loss: 0.0968\n",
            "acc: 0.9675656493967353\n",
            "Epoch: 4/5............. "
          ]
        },
        {
          "output_type": "stream",
          "name": "stderr",
          "text": [
            "\r 65%|██████▌   | 241/370 [01:08<00:36,  3.53it/s]"
          ]
        },
        {
          "output_type": "stream",
          "name": "stdout",
          "text": [
            "Loss: 0.0871\n",
            "acc: 0.9705501397504942\n",
            "Epoch: 4/5............. "
          ]
        },
        {
          "output_type": "stream",
          "name": "stderr",
          "text": [
            "\r 65%|██████▌   | 242/370 [01:08<00:36,  3.54it/s]"
          ]
        },
        {
          "output_type": "stream",
          "name": "stdout",
          "text": [
            "Loss: 0.0816\n",
            "acc: 0.9726293034936581\n",
            "Epoch: 4/5............. "
          ]
        },
        {
          "output_type": "stream",
          "name": "stderr",
          "text": [
            "\r 66%|██████▌   | 243/370 [01:08<00:35,  3.54it/s]"
          ]
        },
        {
          "output_type": "stream",
          "name": "stdout",
          "text": [
            "Loss: 0.0795\n",
            "acc: 0.9721539721539721\n",
            "Epoch: 4/5............. "
          ]
        },
        {
          "output_type": "stream",
          "name": "stderr",
          "text": [
            "\r 66%|██████▌   | 244/370 [01:09<00:35,  3.53it/s]"
          ]
        },
        {
          "output_type": "stream",
          "name": "stdout",
          "text": [
            "Loss: 0.0831\n",
            "acc: 0.9735854835004977\n",
            "Epoch: 4/5............. "
          ]
        },
        {
          "output_type": "stream",
          "name": "stderr",
          "text": [
            "\r 66%|██████▌   | 245/370 [01:09<00:35,  3.52it/s]"
          ]
        },
        {
          "output_type": "stream",
          "name": "stdout",
          "text": [
            "Loss: 0.0721\n",
            "acc: 0.9764773379231211\n",
            "Epoch: 4/5............. "
          ]
        },
        {
          "output_type": "stream",
          "name": "stderr",
          "text": [
            "\r 66%|██████▋   | 246/370 [01:09<00:35,  3.53it/s]"
          ]
        },
        {
          "output_type": "stream",
          "name": "stdout",
          "text": [
            "Loss: 0.0812\n",
            "acc: 0.9737704918032787\n",
            "Epoch: 4/5............. "
          ]
        },
        {
          "output_type": "stream",
          "name": "stderr",
          "text": [
            "\r 67%|██████▋   | 247/370 [01:09<00:34,  3.54it/s]"
          ]
        },
        {
          "output_type": "stream",
          "name": "stdout",
          "text": [
            "Loss: 0.0861\n",
            "acc: 0.9703479991763333\n",
            "Epoch: 4/5............. "
          ]
        },
        {
          "output_type": "stream",
          "name": "stderr",
          "text": [
            "\r 67%|██████▋   | 248/370 [01:10<00:34,  3.53it/s]"
          ]
        },
        {
          "output_type": "stream",
          "name": "stdout",
          "text": [
            "Loss: 0.0972\n",
            "acc: 0.9690305695903457\n",
            "Epoch: 4/5............. "
          ]
        },
        {
          "output_type": "stream",
          "name": "stderr",
          "text": [
            "\r 67%|██████▋   | 249/370 [01:10<00:34,  3.53it/s]"
          ]
        },
        {
          "output_type": "stream",
          "name": "stdout",
          "text": [
            "Loss: 0.0938\n",
            "acc: 0.968323707614357\n",
            "Epoch: 4/5............. "
          ]
        },
        {
          "output_type": "stream",
          "name": "stderr",
          "text": [
            "\r 68%|██████▊   | 250/370 [01:10<00:34,  3.53it/s]"
          ]
        },
        {
          "output_type": "stream",
          "name": "stdout",
          "text": [
            "Loss: 0.0864\n",
            "acc: 0.9725503355704698\n",
            "Epoch: 4/5............. "
          ]
        },
        {
          "output_type": "stream",
          "name": "stderr",
          "text": [
            "\r 68%|██████▊   | 251/370 [01:11<00:33,  3.53it/s]"
          ]
        },
        {
          "output_type": "stream",
          "name": "stdout",
          "text": [
            "Loss: 0.0845\n",
            "acc: 0.9726430193173782\n",
            "Epoch: 4/5............. "
          ]
        },
        {
          "output_type": "stream",
          "name": "stderr",
          "text": [
            "\r 68%|██████▊   | 252/370 [01:11<00:33,  3.53it/s]"
          ]
        },
        {
          "output_type": "stream",
          "name": "stdout",
          "text": [
            "Loss: 0.0748\n",
            "acc: 0.9743205179792954\n",
            "Epoch: 4/5............. "
          ]
        },
        {
          "output_type": "stream",
          "name": "stderr",
          "text": [
            "\r 68%|██████▊   | 253/370 [01:11<00:33,  3.54it/s]"
          ]
        },
        {
          "output_type": "stream",
          "name": "stdout",
          "text": [
            "Loss: 0.0916\n",
            "acc: 0.9697125608835837\n",
            "Epoch: 4/5............. "
          ]
        },
        {
          "output_type": "stream",
          "name": "stderr",
          "text": [
            "\r 69%|██████▊   | 254/370 [01:11<00:32,  3.53it/s]"
          ]
        },
        {
          "output_type": "stream",
          "name": "stdout",
          "text": [
            "Loss: 0.0787\n",
            "acc: 0.9730899573868402\n",
            "Epoch: 4/5............. "
          ]
        },
        {
          "output_type": "stream",
          "name": "stderr",
          "text": [
            "\r 69%|██████▉   | 255/370 [01:12<00:32,  3.52it/s]"
          ]
        },
        {
          "output_type": "stream",
          "name": "stdout",
          "text": [
            "Loss: 0.0735\n",
            "acc: 0.9757516973811833\n",
            "Epoch: 4/5............. "
          ]
        },
        {
          "output_type": "stream",
          "name": "stderr",
          "text": [
            "\r 69%|██████▉   | 256/370 [01:12<00:32,  3.53it/s]"
          ]
        },
        {
          "output_type": "stream",
          "name": "stdout",
          "text": [
            "Loss: 0.0765\n",
            "acc: 0.9730078503064846\n",
            "Epoch: 4/5............. "
          ]
        },
        {
          "output_type": "stream",
          "name": "stderr",
          "text": [
            "\r 69%|██████▉   | 257/370 [01:12<00:31,  3.54it/s]"
          ]
        },
        {
          "output_type": "stream",
          "name": "stdout",
          "text": [
            "Loss: 0.0953\n",
            "acc: 0.9684363584778523\n",
            "Epoch: 4/5............. "
          ]
        },
        {
          "output_type": "stream",
          "name": "stderr",
          "text": [
            "\r 70%|██████▉   | 258/370 [01:13<00:31,  3.53it/s]"
          ]
        },
        {
          "output_type": "stream",
          "name": "stdout",
          "text": [
            "Loss: 0.0742\n",
            "acc: 0.9756480218281037\n",
            "Epoch: 4/5............. "
          ]
        },
        {
          "output_type": "stream",
          "name": "stderr",
          "text": [
            "\r 70%|███████   | 259/370 [01:13<00:31,  3.53it/s]"
          ]
        },
        {
          "output_type": "stream",
          "name": "stdout",
          "text": [
            "Loss: 0.0836\n",
            "acc: 0.9740393834353566\n",
            "Epoch: 4/5............. "
          ]
        },
        {
          "output_type": "stream",
          "name": "stderr",
          "text": [
            "\r 70%|███████   | 260/370 [01:13<00:31,  3.53it/s]"
          ]
        },
        {
          "output_type": "stream",
          "name": "stdout",
          "text": [
            "Loss: 0.0795\n",
            "acc: 0.9742889495770333\n",
            "Epoch: 4/5............. "
          ]
        },
        {
          "output_type": "stream",
          "name": "stderr",
          "text": [
            "\r 71%|███████   | 261/370 [01:13<00:30,  3.52it/s]"
          ]
        },
        {
          "output_type": "stream",
          "name": "stdout",
          "text": [
            "Loss: 0.0964\n",
            "acc: 0.9682454251883746\n",
            "Epoch: 4/5............. "
          ]
        },
        {
          "output_type": "stream",
          "name": "stderr",
          "text": [
            "\r 71%|███████   | 262/370 [01:14<00:30,  3.53it/s]"
          ]
        },
        {
          "output_type": "stream",
          "name": "stdout",
          "text": [
            "Loss: 0.0776\n",
            "acc: 0.9731333382472175\n",
            "Epoch: 4/5............. "
          ]
        },
        {
          "output_type": "stream",
          "name": "stderr",
          "text": [
            "\r 71%|███████   | 263/370 [01:14<00:30,  3.54it/s]"
          ]
        },
        {
          "output_type": "stream",
          "name": "stdout",
          "text": [
            "Loss: 0.0836\n",
            "acc: 0.9723390301300104\n",
            "Epoch: 4/5............. "
          ]
        },
        {
          "output_type": "stream",
          "name": "stderr",
          "text": [
            "\r 71%|███████▏  | 264/370 [01:14<00:29,  3.55it/s]"
          ]
        },
        {
          "output_type": "stream",
          "name": "stdout",
          "text": [
            "Loss: 0.0841\n",
            "acc: 0.972167060677699\n",
            "Epoch: 4/5............. "
          ]
        },
        {
          "output_type": "stream",
          "name": "stderr",
          "text": [
            "\r 72%|███████▏  | 265/370 [01:15<00:29,  3.52it/s]"
          ]
        },
        {
          "output_type": "stream",
          "name": "stdout",
          "text": [
            "Loss: 0.0917\n",
            "acc: 0.9702853780523684\n",
            "Epoch: 4/5............. "
          ]
        },
        {
          "output_type": "stream",
          "name": "stderr",
          "text": [
            "\r 72%|███████▏  | 266/370 [01:15<00:29,  3.53it/s]"
          ]
        },
        {
          "output_type": "stream",
          "name": "stdout",
          "text": [
            "Loss: 0.0793\n",
            "acc: 0.9735655526107458\n",
            "Epoch: 4/5............. "
          ]
        },
        {
          "output_type": "stream",
          "name": "stderr",
          "text": [
            "\r 72%|███████▏  | 267/370 [01:15<00:29,  3.53it/s]"
          ]
        },
        {
          "output_type": "stream",
          "name": "stdout",
          "text": [
            "Loss: 0.0977\n",
            "acc: 0.966868090365996\n",
            "Epoch: 4/5............. "
          ]
        },
        {
          "output_type": "stream",
          "name": "stderr",
          "text": [
            "\r 72%|███████▏  | 268/370 [01:15<00:28,  3.53it/s]"
          ]
        },
        {
          "output_type": "stream",
          "name": "stdout",
          "text": [
            "Loss: 0.0795\n",
            "acc: 0.9720382634289919\n",
            "Epoch: 4/5............. "
          ]
        },
        {
          "output_type": "stream",
          "name": "stderr",
          "text": [
            "\r 73%|███████▎  | 269/370 [01:16<00:28,  3.53it/s]"
          ]
        },
        {
          "output_type": "stream",
          "name": "stdout",
          "text": [
            "Loss: 0.0973\n",
            "acc: 0.9676592315862725\n",
            "Epoch: 4/5............. "
          ]
        },
        {
          "output_type": "stream",
          "name": "stderr",
          "text": [
            "\r 73%|███████▎  | 270/370 [01:16<00:28,  3.52it/s]"
          ]
        },
        {
          "output_type": "stream",
          "name": "stdout",
          "text": [
            "Loss: 0.0814\n",
            "acc: 0.9734753274242625\n",
            "Epoch: 4/5............. "
          ]
        },
        {
          "output_type": "stream",
          "name": "stderr",
          "text": [
            "\r 73%|███████▎  | 271/370 [01:16<00:28,  3.52it/s]"
          ]
        },
        {
          "output_type": "stream",
          "name": "stdout",
          "text": [
            "Loss: 0.0893\n",
            "acc: 0.9713520560978188\n",
            "Epoch: 4/5............. "
          ]
        },
        {
          "output_type": "stream",
          "name": "stderr",
          "text": [
            "\r 74%|███████▎  | 272/370 [01:17<00:27,  3.53it/s]"
          ]
        },
        {
          "output_type": "stream",
          "name": "stdout",
          "text": [
            "Loss: 0.0883\n",
            "acc: 0.9711132871346791\n",
            "Epoch: 4/5............. "
          ]
        },
        {
          "output_type": "stream",
          "name": "stderr",
          "text": [
            "\r 74%|███████▍  | 273/370 [01:17<00:27,  3.53it/s]"
          ]
        },
        {
          "output_type": "stream",
          "name": "stdout",
          "text": [
            "Loss: 0.0860\n",
            "acc: 0.9720615592761711\n",
            "Epoch: 4/5............. "
          ]
        },
        {
          "output_type": "stream",
          "name": "stderr",
          "text": [
            "\r 74%|███████▍  | 274/370 [01:17<00:27,  3.53it/s]"
          ]
        },
        {
          "output_type": "stream",
          "name": "stdout",
          "text": [
            "Loss: 0.0803\n",
            "acc: 0.9730712711241734\n",
            "Epoch: 4/5............. "
          ]
        },
        {
          "output_type": "stream",
          "name": "stderr",
          "text": [
            "\r 74%|███████▍  | 275/370 [01:17<00:27,  3.52it/s]"
          ]
        },
        {
          "output_type": "stream",
          "name": "stdout",
          "text": [
            "Loss: 0.0809\n",
            "acc: 0.9723369387086201\n",
            "Epoch: 4/5............. "
          ]
        },
        {
          "output_type": "stream",
          "name": "stderr",
          "text": [
            "\r 75%|███████▍  | 276/370 [01:18<00:26,  3.52it/s]"
          ]
        },
        {
          "output_type": "stream",
          "name": "stdout",
          "text": [
            "Loss: 0.0893\n",
            "acc: 0.9702565892825973\n",
            "Epoch: 4/5............. "
          ]
        },
        {
          "output_type": "stream",
          "name": "stderr",
          "text": [
            "\r 75%|███████▍  | 277/370 [01:18<00:26,  3.52it/s]"
          ]
        },
        {
          "output_type": "stream",
          "name": "stdout",
          "text": [
            "Loss: 0.0885\n",
            "acc: 0.972041906947254\n",
            "Epoch: 4/5............. "
          ]
        },
        {
          "output_type": "stream",
          "name": "stderr",
          "text": [
            "\r 75%|███████▌  | 278/370 [01:18<00:26,  3.53it/s]"
          ]
        },
        {
          "output_type": "stream",
          "name": "stdout",
          "text": [
            "Loss: 0.0747\n",
            "acc: 0.9750318813343177\n",
            "Epoch: 4/5............. "
          ]
        },
        {
          "output_type": "stream",
          "name": "stderr",
          "text": [
            "\r 75%|███████▌  | 279/370 [01:19<00:25,  3.53it/s]"
          ]
        },
        {
          "output_type": "stream",
          "name": "stdout",
          "text": [
            "Loss: 0.0851\n",
            "acc: 0.9719241511098045\n",
            "Epoch: 4/5............. "
          ]
        },
        {
          "output_type": "stream",
          "name": "stderr",
          "text": [
            "\r 76%|███████▌  | 280/370 [01:19<00:25,  3.53it/s]"
          ]
        },
        {
          "output_type": "stream",
          "name": "stdout",
          "text": [
            "Loss: 0.0788\n",
            "acc: 0.9738052600161523\n",
            "Epoch: 4/5............. "
          ]
        },
        {
          "output_type": "stream",
          "name": "stderr",
          "text": [
            "\r 76%|███████▌  | 281/370 [01:19<00:25,  3.53it/s]"
          ]
        },
        {
          "output_type": "stream",
          "name": "stdout",
          "text": [
            "Loss: 0.0825\n",
            "acc: 0.9722492333009201\n",
            "Epoch: 4/5............. "
          ]
        },
        {
          "output_type": "stream",
          "name": "stderr",
          "text": [
            "\r 76%|███████▌  | 282/370 [01:19<00:24,  3.53it/s]"
          ]
        },
        {
          "output_type": "stream",
          "name": "stdout",
          "text": [
            "Loss: 0.0884\n",
            "acc: 0.9720444370751119\n",
            "Epoch: 4/5............. "
          ]
        },
        {
          "output_type": "stream",
          "name": "stderr",
          "text": [
            "\r 76%|███████▋  | 283/370 [01:20<00:24,  3.53it/s]"
          ]
        },
        {
          "output_type": "stream",
          "name": "stdout",
          "text": [
            "Loss: 0.0811\n",
            "acc: 0.9721579329165083\n",
            "Epoch: 4/5............. "
          ]
        },
        {
          "output_type": "stream",
          "name": "stderr",
          "text": [
            "\r 77%|███████▋  | 284/370 [01:20<00:24,  3.53it/s]"
          ]
        },
        {
          "output_type": "stream",
          "name": "stdout",
          "text": [
            "Loss: 0.0810\n",
            "acc: 0.972934187691897\n",
            "Epoch: 4/5............. "
          ]
        },
        {
          "output_type": "stream",
          "name": "stderr",
          "text": [
            "\r 77%|███████▋  | 285/370 [01:20<00:24,  3.53it/s]"
          ]
        },
        {
          "output_type": "stream",
          "name": "stdout",
          "text": [
            "Loss: 0.0818\n",
            "acc: 0.973866090712743\n",
            "Epoch: 4/5............. "
          ]
        },
        {
          "output_type": "stream",
          "name": "stderr",
          "text": [
            "\r 77%|███████▋  | 286/370 [01:21<00:23,  3.52it/s]"
          ]
        },
        {
          "output_type": "stream",
          "name": "stdout",
          "text": [
            "Loss: 0.0775\n",
            "acc: 0.974566643456591\n",
            "Epoch: 4/5............. "
          ]
        },
        {
          "output_type": "stream",
          "name": "stderr",
          "text": [
            "\r 78%|███████▊  | 287/370 [01:21<00:23,  3.53it/s]"
          ]
        },
        {
          "output_type": "stream",
          "name": "stdout",
          "text": [
            "Loss: 0.0863\n",
            "acc: 0.9710371075166508\n",
            "Epoch: 4/5............. "
          ]
        },
        {
          "output_type": "stream",
          "name": "stderr",
          "text": [
            "\r 78%|███████▊  | 288/370 [01:21<00:23,  3.53it/s]"
          ]
        },
        {
          "output_type": "stream",
          "name": "stdout",
          "text": [
            "Loss: 0.0728\n",
            "acc: 0.9749218321890211\n",
            "Epoch: 4/5............. "
          ]
        },
        {
          "output_type": "stream",
          "name": "stderr",
          "text": [
            "\r 78%|███████▊  | 289/370 [01:21<00:22,  3.53it/s]"
          ]
        },
        {
          "output_type": "stream",
          "name": "stdout",
          "text": [
            "Loss: 0.0856\n",
            "acc: 0.9712168093833201\n",
            "Epoch: 4/5............. "
          ]
        },
        {
          "output_type": "stream",
          "name": "stderr",
          "text": [
            "\r 78%|███████▊  | 290/370 [01:22<00:22,  3.52it/s]"
          ]
        },
        {
          "output_type": "stream",
          "name": "stdout",
          "text": [
            "Loss: 0.0870\n",
            "acc: 0.9696086291086655\n",
            "Epoch: 4/5............. "
          ]
        },
        {
          "output_type": "stream",
          "name": "stderr",
          "text": [
            "\r 79%|███████▊  | 291/370 [01:22<00:22,  3.53it/s]"
          ]
        },
        {
          "output_type": "stream",
          "name": "stdout",
          "text": [
            "Loss: 0.0714\n",
            "acc: 0.976213724954107\n",
            "Epoch: 4/5............. "
          ]
        },
        {
          "output_type": "stream",
          "name": "stderr",
          "text": [
            "\r 79%|███████▉  | 292/370 [01:22<00:22,  3.54it/s]"
          ]
        },
        {
          "output_type": "stream",
          "name": "stdout",
          "text": [
            "Loss: 0.0968\n",
            "acc: 0.968045243216987\n",
            "Epoch: 4/5............. "
          ]
        },
        {
          "output_type": "stream",
          "name": "stderr",
          "text": [
            "\r 79%|███████▉  | 293/370 [01:23<00:21,  3.54it/s]"
          ]
        },
        {
          "output_type": "stream",
          "name": "stdout",
          "text": [
            "Loss: 0.0807\n",
            "acc: 0.9733297823771115\n",
            "Epoch: 4/5............. "
          ]
        },
        {
          "output_type": "stream",
          "name": "stderr",
          "text": [
            "\r 79%|███████▉  | 294/370 [01:23<00:21,  3.53it/s]"
          ]
        },
        {
          "output_type": "stream",
          "name": "stdout",
          "text": [
            "Loss: 0.0893\n",
            "acc: 0.9714549129463494\n",
            "Epoch: 4/5............. "
          ]
        },
        {
          "output_type": "stream",
          "name": "stderr",
          "text": [
            "\r 80%|███████▉  | 295/370 [01:23<00:21,  3.54it/s]"
          ]
        },
        {
          "output_type": "stream",
          "name": "stdout",
          "text": [
            "Loss: 0.0817\n",
            "acc: 0.9719065903926024\n",
            "Epoch: 4/5............. "
          ]
        },
        {
          "output_type": "stream",
          "name": "stderr",
          "text": [
            "\r 80%|████████  | 296/370 [01:23<00:20,  3.52it/s]"
          ]
        },
        {
          "output_type": "stream",
          "name": "stdout",
          "text": [
            "Loss: 0.1072\n",
            "acc: 0.9666080843585237\n",
            "Epoch: 4/5............. "
          ]
        },
        {
          "output_type": "stream",
          "name": "stderr",
          "text": [
            "\r 80%|████████  | 297/370 [01:24<00:20,  3.52it/s]"
          ]
        },
        {
          "output_type": "stream",
          "name": "stdout",
          "text": [
            "Loss: 0.0796\n",
            "acc: 0.9724495276610534\n",
            "Epoch: 4/5............. "
          ]
        },
        {
          "output_type": "stream",
          "name": "stderr",
          "text": [
            "\r 81%|████████  | 298/370 [01:24<00:20,  3.52it/s]"
          ]
        },
        {
          "output_type": "stream",
          "name": "stdout",
          "text": [
            "Loss: 0.0858\n",
            "acc: 0.9710929853181076\n",
            "Epoch: 4/5............. "
          ]
        },
        {
          "output_type": "stream",
          "name": "stderr",
          "text": [
            "\r 81%|████████  | 299/370 [01:24<00:20,  3.52it/s]"
          ]
        },
        {
          "output_type": "stream",
          "name": "stdout",
          "text": [
            "Loss: 0.1112\n",
            "acc: 0.9652563839255152\n",
            "Epoch: 4/5............. "
          ]
        },
        {
          "output_type": "stream",
          "name": "stderr",
          "text": [
            "\r 81%|████████  | 300/370 [01:25<00:19,  3.53it/s]"
          ]
        },
        {
          "output_type": "stream",
          "name": "stdout",
          "text": [
            "Loss: 0.0859\n",
            "acc: 0.9705140936521274\n",
            "Epoch: 4/5............. "
          ]
        },
        {
          "output_type": "stream",
          "name": "stderr",
          "text": [
            "\r 81%|████████▏ | 301/370 [01:25<00:19,  3.54it/s]"
          ]
        },
        {
          "output_type": "stream",
          "name": "stdout",
          "text": [
            "Loss: 0.0819\n",
            "acc: 0.972184577856078\n",
            "Epoch: 4/5............. "
          ]
        },
        {
          "output_type": "stream",
          "name": "stderr",
          "text": [
            "\r 82%|████████▏ | 302/370 [01:25<00:19,  3.54it/s]"
          ]
        },
        {
          "output_type": "stream",
          "name": "stdout",
          "text": [
            "Loss: 0.0751\n",
            "acc: 0.9748386246871295\n",
            "Epoch: 4/5............. "
          ]
        },
        {
          "output_type": "stream",
          "name": "stderr",
          "text": [
            "\r 82%|████████▏ | 303/370 [01:25<00:18,  3.53it/s]"
          ]
        },
        {
          "output_type": "stream",
          "name": "stdout",
          "text": [
            "Loss: 0.0731\n",
            "acc: 0.976309564041906\n",
            "Epoch: 4/5............. "
          ]
        },
        {
          "output_type": "stream",
          "name": "stderr",
          "text": [
            "\r 82%|████████▏ | 304/370 [01:26<00:18,  3.52it/s]"
          ]
        },
        {
          "output_type": "stream",
          "name": "stdout",
          "text": [
            "Loss: 0.1152\n",
            "acc: 0.9640666082383874\n",
            "Epoch: 4/5............. "
          ]
        },
        {
          "output_type": "stream",
          "name": "stderr",
          "text": [
            "\r 82%|████████▏ | 305/370 [01:26<00:18,  3.52it/s]"
          ]
        },
        {
          "output_type": "stream",
          "name": "stdout",
          "text": [
            "Loss: 0.0847\n",
            "acc: 0.9718753515581056\n",
            "Epoch: 4/5............. "
          ]
        },
        {
          "output_type": "stream",
          "name": "stderr",
          "text": [
            "\r 83%|████████▎ | 306/370 [01:26<00:18,  3.52it/s]"
          ]
        },
        {
          "output_type": "stream",
          "name": "stdout",
          "text": [
            "Loss: 0.0751\n",
            "acc: 0.9746340049282505\n",
            "Epoch: 4/5............. "
          ]
        },
        {
          "output_type": "stream",
          "name": "stderr",
          "text": [
            "\r 83%|████████▎ | 307/370 [01:26<00:17,  3.53it/s]"
          ]
        },
        {
          "output_type": "stream",
          "name": "stdout",
          "text": [
            "Loss: 0.0779\n",
            "acc: 0.9745384615384616\n",
            "Epoch: 4/5............. "
          ]
        },
        {
          "output_type": "stream",
          "name": "stderr",
          "text": [
            "\r 83%|████████▎ | 308/370 [01:27<00:17,  3.53it/s]"
          ]
        },
        {
          "output_type": "stream",
          "name": "stdout",
          "text": [
            "Loss: 0.1022\n",
            "acc: 0.9681552222745309\n",
            "Epoch: 4/5............. "
          ]
        },
        {
          "output_type": "stream",
          "name": "stderr",
          "text": [
            "\r 84%|████████▎ | 309/370 [01:27<00:17,  3.53it/s]"
          ]
        },
        {
          "output_type": "stream",
          "name": "stdout",
          "text": [
            "Loss: 0.0791\n",
            "acc: 0.9736186203458722\n",
            "Epoch: 4/5............. "
          ]
        },
        {
          "output_type": "stream",
          "name": "stderr",
          "text": [
            "\r 84%|████████▍ | 310/370 [01:27<00:17,  3.53it/s]"
          ]
        },
        {
          "output_type": "stream",
          "name": "stdout",
          "text": [
            "Loss: 0.0769\n",
            "acc: 0.975633807297134\n",
            "Epoch: 4/5............. "
          ]
        },
        {
          "output_type": "stream",
          "name": "stderr",
          "text": [
            "\r 84%|████████▍ | 311/370 [01:28<00:16,  3.53it/s]"
          ]
        },
        {
          "output_type": "stream",
          "name": "stdout",
          "text": [
            "Loss: 0.0749\n",
            "acc: 0.9751752336448598\n",
            "Epoch: 4/5............. "
          ]
        },
        {
          "output_type": "stream",
          "name": "stderr",
          "text": [
            "\r 84%|████████▍ | 312/370 [01:28<00:16,  3.53it/s]"
          ]
        },
        {
          "output_type": "stream",
          "name": "stdout",
          "text": [
            "Loss: 0.0776\n",
            "acc: 0.9742938129215131\n",
            "Epoch: 4/5............. "
          ]
        },
        {
          "output_type": "stream",
          "name": "stderr",
          "text": [
            "\r 85%|████████▍ | 313/370 [01:28<00:16,  3.53it/s]"
          ]
        },
        {
          "output_type": "stream",
          "name": "stdout",
          "text": [
            "Loss: 0.0779\n",
            "acc: 0.9737806718702833\n",
            "Epoch: 4/5............. "
          ]
        },
        {
          "output_type": "stream",
          "name": "stderr",
          "text": [
            "\r 85%|████████▍ | 314/370 [01:28<00:15,  3.54it/s]"
          ]
        },
        {
          "output_type": "stream",
          "name": "stdout",
          "text": [
            "Loss: 0.0788\n",
            "acc: 0.973576662908681\n",
            "Epoch: 4/5............. "
          ]
        },
        {
          "output_type": "stream",
          "name": "stderr",
          "text": [
            "\r 85%|████████▌ | 315/370 [01:29<00:15,  3.52it/s]"
          ]
        },
        {
          "output_type": "stream",
          "name": "stdout",
          "text": [
            "Loss: 0.0808\n",
            "acc: 0.9735609418717973\n",
            "Epoch: 4/5............. "
          ]
        },
        {
          "output_type": "stream",
          "name": "stderr",
          "text": [
            "\r 85%|████████▌ | 316/370 [01:29<00:15,  3.51it/s]"
          ]
        },
        {
          "output_type": "stream",
          "name": "stdout",
          "text": [
            "Loss: 0.0892\n",
            "acc: 0.9711366538952746\n",
            "Epoch: 4/5............. "
          ]
        },
        {
          "output_type": "stream",
          "name": "stderr",
          "text": [
            "\r 86%|████████▌ | 317/370 [01:29<00:15,  3.52it/s]"
          ]
        },
        {
          "output_type": "stream",
          "name": "stdout",
          "text": [
            "Loss: 0.0754\n",
            "acc: 0.9750854066737983\n",
            "Epoch: 4/5............. "
          ]
        },
        {
          "output_type": "stream",
          "name": "stderr",
          "text": [
            "\r 86%|████████▌ | 318/370 [01:30<00:14,  3.50it/s]"
          ]
        },
        {
          "output_type": "stream",
          "name": "stdout",
          "text": [
            "Loss: 0.0731\n",
            "acc: 0.9762546311889525\n",
            "Epoch: 4/5............. "
          ]
        },
        {
          "output_type": "stream",
          "name": "stderr",
          "text": [
            "\r 86%|████████▌ | 319/370 [01:30<00:14,  3.52it/s]"
          ]
        },
        {
          "output_type": "stream",
          "name": "stdout",
          "text": [
            "Loss: 0.0798\n",
            "acc: 0.9741680059582141\n",
            "Epoch: 4/5............. "
          ]
        },
        {
          "output_type": "stream",
          "name": "stderr",
          "text": [
            "\r 86%|████████▋ | 320/370 [01:30<00:14,  3.52it/s]"
          ]
        },
        {
          "output_type": "stream",
          "name": "stdout",
          "text": [
            "Loss: 0.0860\n",
            "acc: 0.9721102795368771\n",
            "Epoch: 4/5............. "
          ]
        },
        {
          "output_type": "stream",
          "name": "stderr",
          "text": [
            "\r 87%|████████▋ | 321/370 [01:30<00:13,  3.53it/s]"
          ]
        },
        {
          "output_type": "stream",
          "name": "stdout",
          "text": [
            "Loss: 0.0851\n",
            "acc: 0.9713006091006807\n",
            "Epoch: 4/5............. "
          ]
        },
        {
          "output_type": "stream",
          "name": "stderr",
          "text": [
            "\r 87%|████████▋ | 322/370 [01:31<00:13,  3.53it/s]"
          ]
        },
        {
          "output_type": "stream",
          "name": "stdout",
          "text": [
            "Loss: 0.0869\n",
            "acc: 0.9720563556179994\n",
            "Epoch: 4/5............. "
          ]
        },
        {
          "output_type": "stream",
          "name": "stderr",
          "text": [
            "\r 87%|████████▋ | 323/370 [01:31<00:13,  3.52it/s]"
          ]
        },
        {
          "output_type": "stream",
          "name": "stdout",
          "text": [
            "Loss: 0.0963\n",
            "acc: 0.9685594253963952\n",
            "Epoch: 4/5............. "
          ]
        },
        {
          "output_type": "stream",
          "name": "stderr",
          "text": [
            "\r 88%|████████▊ | 324/370 [01:31<00:13,  3.54it/s]"
          ]
        },
        {
          "output_type": "stream",
          "name": "stdout",
          "text": [
            "Loss: 0.0807\n",
            "acc: 0.9732568126805653\n",
            "Epoch: 4/5............. "
          ]
        },
        {
          "output_type": "stream",
          "name": "stderr",
          "text": [
            "\r 88%|████████▊ | 325/370 [01:32<00:12,  3.53it/s]"
          ]
        },
        {
          "output_type": "stream",
          "name": "stdout",
          "text": [
            "Loss: 0.0917\n",
            "acc: 0.9703905782154502\n",
            "Epoch: 4/5............. "
          ]
        },
        {
          "output_type": "stream",
          "name": "stderr",
          "text": [
            "\r 88%|████████▊ | 326/370 [01:32<00:12,  3.54it/s]"
          ]
        },
        {
          "output_type": "stream",
          "name": "stdout",
          "text": [
            "Loss: 0.0821\n",
            "acc: 0.9724506853895019\n",
            "Epoch: 4/5............. "
          ]
        },
        {
          "output_type": "stream",
          "name": "stderr",
          "text": [
            "\r 88%|████████▊ | 327/370 [01:32<00:12,  3.54it/s]"
          ]
        },
        {
          "output_type": "stream",
          "name": "stdout",
          "text": [
            "Loss: 0.0811\n",
            "acc: 0.972766186929118\n",
            "Epoch: 4/5............. "
          ]
        },
        {
          "output_type": "stream",
          "name": "stderr",
          "text": [
            "\r 89%|████████▊ | 328/370 [01:32<00:11,  3.54it/s]"
          ]
        },
        {
          "output_type": "stream",
          "name": "stdout",
          "text": [
            "Loss: 0.0755\n",
            "acc: 0.9751328447886639\n",
            "Epoch: 4/5............. "
          ]
        },
        {
          "output_type": "stream",
          "name": "stderr",
          "text": [
            "\r 89%|████████▉ | 329/370 [01:33<00:11,  3.53it/s]"
          ]
        },
        {
          "output_type": "stream",
          "name": "stdout",
          "text": [
            "Loss: 0.0716\n",
            "acc: 0.9756701730573465\n",
            "Epoch: 4/5............. "
          ]
        },
        {
          "output_type": "stream",
          "name": "stderr",
          "text": [
            "\r 89%|████████▉ | 330/370 [01:33<00:11,  3.51it/s]"
          ]
        },
        {
          "output_type": "stream",
          "name": "stdout",
          "text": [
            "Loss: 0.0911\n",
            "acc: 0.9704426580545512\n",
            "Epoch: 4/5............. "
          ]
        },
        {
          "output_type": "stream",
          "name": "stderr",
          "text": [
            "\r 89%|████████▉ | 331/370 [01:33<00:11,  3.51it/s]"
          ]
        },
        {
          "output_type": "stream",
          "name": "stdout",
          "text": [
            "Loss: 0.0773\n",
            "acc: 0.9748595698040827\n",
            "Epoch: 4/5............. "
          ]
        },
        {
          "output_type": "stream",
          "name": "stderr",
          "text": [
            "\r 90%|████████▉ | 332/370 [01:34<00:10,  3.53it/s]"
          ]
        },
        {
          "output_type": "stream",
          "name": "stdout",
          "text": [
            "Loss: 0.0680\n",
            "acc: 0.9772802592333468\n",
            "Epoch: 4/5............. "
          ]
        },
        {
          "output_type": "stream",
          "name": "stderr",
          "text": [
            "\r 90%|█████████ | 333/370 [01:34<00:10,  3.52it/s]"
          ]
        },
        {
          "output_type": "stream",
          "name": "stdout",
          "text": [
            "Loss: 0.0790\n",
            "acc: 0.9731447108792348\n",
            "Epoch: 4/5............. "
          ]
        },
        {
          "output_type": "stream",
          "name": "stderr",
          "text": [
            "\r 90%|█████████ | 334/370 [01:34<00:10,  3.52it/s]"
          ]
        },
        {
          "output_type": "stream",
          "name": "stdout",
          "text": [
            "Loss: 0.0852\n",
            "acc: 0.9737293175219506\n",
            "Epoch: 4/5............. "
          ]
        },
        {
          "output_type": "stream",
          "name": "stderr",
          "text": [
            "\r 91%|█████████ | 335/370 [01:34<00:09,  3.52it/s]"
          ]
        },
        {
          "output_type": "stream",
          "name": "stdout",
          "text": [
            "Loss: 0.0796\n",
            "acc: 0.9734572891403934\n",
            "Epoch: 4/5............. "
          ]
        },
        {
          "output_type": "stream",
          "name": "stderr",
          "text": [
            "\r 91%|█████████ | 336/370 [01:35<00:09,  3.50it/s]"
          ]
        },
        {
          "output_type": "stream",
          "name": "stdout",
          "text": [
            "Loss: 0.0770\n",
            "acc: 0.9735937022317334\n",
            "Epoch: 4/5............. "
          ]
        },
        {
          "output_type": "stream",
          "name": "stderr",
          "text": [
            "\r 91%|█████████ | 337/370 [01:35<00:09,  3.50it/s]"
          ]
        },
        {
          "output_type": "stream",
          "name": "stdout",
          "text": [
            "Loss: 0.0808\n",
            "acc: 0.9735549816303517\n",
            "Epoch: 4/5............. "
          ]
        },
        {
          "output_type": "stream",
          "name": "stderr",
          "text": [
            "\r 91%|█████████▏| 338/370 [01:35<00:09,  3.50it/s]"
          ]
        },
        {
          "output_type": "stream",
          "name": "stdout",
          "text": [
            "Loss: 0.0774\n",
            "acc: 0.9742683444083133\n",
            "Epoch: 4/5............. "
          ]
        },
        {
          "output_type": "stream",
          "name": "stderr",
          "text": [
            "\r 92%|█████████▏| 339/370 [01:36<00:08,  3.49it/s]"
          ]
        },
        {
          "output_type": "stream",
          "name": "stdout",
          "text": [
            "Loss: 0.0876\n",
            "acc: 0.9715697599794635\n",
            "Epoch: 4/5............. "
          ]
        },
        {
          "output_type": "stream",
          "name": "stderr",
          "text": [
            "\r 92%|█████████▏| 340/370 [01:36<00:08,  3.51it/s]"
          ]
        },
        {
          "output_type": "stream",
          "name": "stdout",
          "text": [
            "Loss: 0.0902\n",
            "acc: 0.9706662735849056\n",
            "Epoch: 4/5............. "
          ]
        },
        {
          "output_type": "stream",
          "name": "stderr",
          "text": [
            "\r 92%|█████████▏| 341/370 [01:36<00:08,  3.52it/s]"
          ]
        },
        {
          "output_type": "stream",
          "name": "stdout",
          "text": [
            "Loss: 0.0787\n",
            "acc: 0.9739863652673125\n",
            "Epoch: 4/5............. "
          ]
        },
        {
          "output_type": "stream",
          "name": "stderr",
          "text": [
            "\r 92%|█████████▏| 342/370 [01:36<00:07,  3.51it/s]"
          ]
        },
        {
          "output_type": "stream",
          "name": "stdout",
          "text": [
            "Loss: 0.0754\n",
            "acc: 0.9756905405816039\n",
            "Epoch: 4/5............. "
          ]
        },
        {
          "output_type": "stream",
          "name": "stderr",
          "text": [
            "\r 93%|█████████▎| 343/370 [01:37<00:07,  3.51it/s]"
          ]
        },
        {
          "output_type": "stream",
          "name": "stdout",
          "text": [
            "Loss: 0.0833\n",
            "acc: 0.9727255603691844\n",
            "Epoch: 4/5............. "
          ]
        },
        {
          "output_type": "stream",
          "name": "stderr",
          "text": [
            "\r 93%|█████████▎| 344/370 [01:37<00:07,  3.52it/s]"
          ]
        },
        {
          "output_type": "stream",
          "name": "stdout",
          "text": [
            "Loss: 0.0779\n",
            "acc: 0.9743755750161857\n",
            "Epoch: 4/5............. "
          ]
        },
        {
          "output_type": "stream",
          "name": "stderr",
          "text": [
            "\r 93%|█████████▎| 345/370 [01:37<00:07,  3.52it/s]"
          ]
        },
        {
          "output_type": "stream",
          "name": "stdout",
          "text": [
            "Loss: 0.0784\n",
            "acc: 0.9731611869472776\n",
            "Epoch: 4/5............. "
          ]
        },
        {
          "output_type": "stream",
          "name": "stderr",
          "text": [
            "\r 94%|█████████▎| 346/370 [01:38<00:06,  3.53it/s]"
          ]
        },
        {
          "output_type": "stream",
          "name": "stdout",
          "text": [
            "Loss: 0.0766\n",
            "acc: 0.9751514266948843\n",
            "Epoch: 4/5............. "
          ]
        },
        {
          "output_type": "stream",
          "name": "stderr",
          "text": [
            "\r 94%|█████████▍| 347/370 [01:38<00:06,  3.53it/s]"
          ]
        },
        {
          "output_type": "stream",
          "name": "stdout",
          "text": [
            "Loss: 0.0788\n",
            "acc: 0.9733176004872107\n",
            "Epoch: 4/5............. "
          ]
        },
        {
          "output_type": "stream",
          "name": "stderr",
          "text": [
            "\r 94%|█████████▍| 348/370 [01:38<00:06,  3.54it/s]"
          ]
        },
        {
          "output_type": "stream",
          "name": "stdout",
          "text": [
            "Loss: 0.0801\n",
            "acc: 0.9730967372638809\n",
            "Epoch: 4/5............. "
          ]
        },
        {
          "output_type": "stream",
          "name": "stderr",
          "text": [
            "\r 94%|█████████▍| 349/370 [01:38<00:05,  3.52it/s]"
          ]
        },
        {
          "output_type": "stream",
          "name": "stdout",
          "text": [
            "Loss: 0.0700\n",
            "acc: 0.9765435886945553\n",
            "Epoch: 4/5............. "
          ]
        },
        {
          "output_type": "stream",
          "name": "stderr",
          "text": [
            "\r 95%|█████████▍| 350/370 [01:39<00:05,  3.52it/s]"
          ]
        },
        {
          "output_type": "stream",
          "name": "stdout",
          "text": [
            "Loss: 0.0749\n",
            "acc: 0.9762910595741012\n",
            "Epoch: 4/5............. "
          ]
        },
        {
          "output_type": "stream",
          "name": "stderr",
          "text": [
            "\r 95%|█████████▍| 351/370 [01:39<00:05,  3.52it/s]"
          ]
        },
        {
          "output_type": "stream",
          "name": "stdout",
          "text": [
            "Loss: 0.0819\n",
            "acc: 0.9727255674357531\n",
            "Epoch: 4/5............. "
          ]
        },
        {
          "output_type": "stream",
          "name": "stderr",
          "text": [
            "\r 95%|█████████▌| 352/370 [01:39<00:05,  3.54it/s]"
          ]
        },
        {
          "output_type": "stream",
          "name": "stdout",
          "text": [
            "Loss: 0.0887\n",
            "acc: 0.9688308722788856\n",
            "Epoch: 4/5............. "
          ]
        },
        {
          "output_type": "stream",
          "name": "stderr",
          "text": [
            "\r 95%|█████████▌| 353/370 [01:40<00:04,  3.52it/s]"
          ]
        },
        {
          "output_type": "stream",
          "name": "stdout",
          "text": [
            "Loss: 0.0790\n",
            "acc: 0.9728523126415651\n",
            "Epoch: 4/5............. "
          ]
        },
        {
          "output_type": "stream",
          "name": "stderr",
          "text": [
            "\r 96%|█████████▌| 354/370 [01:40<00:04,  3.55it/s]"
          ]
        },
        {
          "output_type": "stream",
          "name": "stdout",
          "text": [
            "Loss: 0.0756\n",
            "acc: 0.9741402562373567\n",
            "Epoch: 4/5............. "
          ]
        },
        {
          "output_type": "stream",
          "name": "stderr",
          "text": [
            "\r 96%|█████████▌| 355/370 [01:40<00:04,  3.53it/s]"
          ]
        },
        {
          "output_type": "stream",
          "name": "stdout",
          "text": [
            "Loss: 0.0814\n",
            "acc: 0.9734745074891168\n",
            "Epoch: 4/5............. "
          ]
        },
        {
          "output_type": "stream",
          "name": "stderr",
          "text": [
            "\r 96%|█████████▌| 356/370 [01:40<00:03,  3.53it/s]"
          ]
        },
        {
          "output_type": "stream",
          "name": "stdout",
          "text": [
            "Loss: 0.0768\n",
            "acc: 0.975147972501011\n",
            "Epoch: 4/5............. "
          ]
        },
        {
          "output_type": "stream",
          "name": "stderr",
          "text": [
            "\r 96%|█████████▋| 357/370 [01:41<00:03,  3.53it/s]"
          ]
        },
        {
          "output_type": "stream",
          "name": "stdout",
          "text": [
            "Loss: 0.0815\n",
            "acc: 0.9730493302012571\n",
            "Epoch: 4/5............. "
          ]
        },
        {
          "output_type": "stream",
          "name": "stderr",
          "text": [
            "\r 97%|█████████▋| 358/370 [01:41<00:03,  3.53it/s]"
          ]
        },
        {
          "output_type": "stream",
          "name": "stdout",
          "text": [
            "Loss: 0.0841\n",
            "acc: 0.969731543624161\n",
            "Epoch: 4/5............. "
          ]
        },
        {
          "output_type": "stream",
          "name": "stderr",
          "text": [
            "\r 97%|█████████▋| 359/370 [01:41<00:03,  3.52it/s]"
          ]
        },
        {
          "output_type": "stream",
          "name": "stdout",
          "text": [
            "Loss: 0.0794\n",
            "acc: 0.9718628189590226\n",
            "Epoch: 4/5............. "
          ]
        },
        {
          "output_type": "stream",
          "name": "stderr",
          "text": [
            "\r 97%|█████████▋| 360/370 [01:42<00:02,  3.53it/s]"
          ]
        },
        {
          "output_type": "stream",
          "name": "stdout",
          "text": [
            "Loss: 0.0839\n",
            "acc: 0.9720113538847449\n",
            "Epoch: 4/5............. "
          ]
        },
        {
          "output_type": "stream",
          "name": "stderr",
          "text": [
            "\r 98%|█████████▊| 361/370 [01:42<00:02,  3.53it/s]"
          ]
        },
        {
          "output_type": "stream",
          "name": "stdout",
          "text": [
            "Loss: 0.0818\n",
            "acc: 0.973130334153045\n",
            "Epoch: 4/5............. "
          ]
        },
        {
          "output_type": "stream",
          "name": "stderr",
          "text": [
            "\r 98%|█████████▊| 362/370 [01:42<00:02,  3.53it/s]"
          ]
        },
        {
          "output_type": "stream",
          "name": "stdout",
          "text": [
            "Loss: 0.0821\n",
            "acc: 0.9716618635926993\n",
            "Epoch: 4/5............. "
          ]
        },
        {
          "output_type": "stream",
          "name": "stderr",
          "text": [
            "\r 98%|█████████▊| 363/370 [01:42<00:01,  3.54it/s]"
          ]
        },
        {
          "output_type": "stream",
          "name": "stdout",
          "text": [
            "Loss: 0.0896\n",
            "acc: 0.9695294686657915\n",
            "Epoch: 4/5............. "
          ]
        },
        {
          "output_type": "stream",
          "name": "stderr",
          "text": [
            "\r 98%|█████████▊| 364/370 [01:43<00:01,  3.54it/s]"
          ]
        },
        {
          "output_type": "stream",
          "name": "stdout",
          "text": [
            "Loss: 0.0811\n",
            "acc: 0.9735079868029922\n",
            "Epoch: 4/5............. "
          ]
        },
        {
          "output_type": "stream",
          "name": "stderr",
          "text": [
            "\r 99%|█████████▊| 365/370 [01:43<00:01,  3.53it/s]"
          ]
        },
        {
          "output_type": "stream",
          "name": "stdout",
          "text": [
            "Loss: 0.0841\n",
            "acc: 0.9708057113717491\n",
            "Epoch: 4/5............. "
          ]
        },
        {
          "output_type": "stream",
          "name": "stderr",
          "text": [
            "\r 99%|█████████▉| 366/370 [01:43<00:01,  3.53it/s]"
          ]
        },
        {
          "output_type": "stream",
          "name": "stdout",
          "text": [
            "Loss: 0.0862\n",
            "acc: 0.9713539945813785\n",
            "Epoch: 4/5............. "
          ]
        },
        {
          "output_type": "stream",
          "name": "stderr",
          "text": [
            "\r 99%|█████████▉| 367/370 [01:44<00:00,  3.53it/s]"
          ]
        },
        {
          "output_type": "stream",
          "name": "stdout",
          "text": [
            "Loss: 0.0888\n",
            "acc: 0.9700034769415558\n",
            "Epoch: 4/5............. "
          ]
        },
        {
          "output_type": "stream",
          "name": "stderr",
          "text": [
            "\r 99%|█████████▉| 368/370 [01:44<00:00,  3.52it/s]"
          ]
        },
        {
          "output_type": "stream",
          "name": "stdout",
          "text": [
            "Loss: 0.0797\n",
            "acc: 0.9726526592252134\n",
            "Epoch: 4/5............. "
          ]
        },
        {
          "output_type": "stream",
          "name": "stderr",
          "text": [
            "\r100%|█████████▉| 369/370 [01:44<00:00,  3.50it/s]"
          ]
        },
        {
          "output_type": "stream",
          "name": "stdout",
          "text": [
            "Loss: 0.0865\n",
            "acc: 0.9706426871198096\n"
          ]
        },
        {
          "output_type": "stream",
          "name": "stderr",
          "text": [
            "\r100%|██████████| 370/370 [01:44<00:00,  3.54it/s]"
          ]
        },
        {
          "output_type": "stream",
          "name": "stdout",
          "text": [
            "Epoch: 4/5............. Loss: 0.0662\n",
            "acc: 0.9757929883138564\n",
            "Epochs: 5 | Train Loss: 0.00016733037773519754         | Train Accuracy: 0.18229806369696328\n",
            "\n",
            "Decaying rate\n"
          ]
        },
        {
          "output_type": "stream",
          "name": "stderr",
          "text": [
            "\n"
          ]
        }
      ]
    },
    {
      "cell_type": "code",
      "source": [
        "# Save the model using pickle\n",
        "import pickle\n",
        "with open('/content/drive/MyDrive/Tashkeel/model_3.pickle', 'wb') as f:\n",
        "    pickle.dump(model, f)\n",
        "\n",
        "# Read the model using pickle\n",
        "# import pickle\n",
        "# # Load the model using pickle\n",
        "# with open('model.pkl', 'rb') as f:\n",
        "#     loaded_model = pickle.load(f)\n"
      ],
      "metadata": {
        "id": "sztsj_c3_tex"
      },
      "execution_count": 16,
      "outputs": []
    },
    {
      "cell_type": "code",
      "source": [
        "# Predict\n",
        "from tashkeel_evaluate import evaluate\n",
        "evaluate(model, val_dataset)\n"
      ],
      "metadata": {
        "colab": {
          "base_uri": "https://localhost:8080/"
        },
        "id": "RsgAntunBqYk",
        "outputId": "161042fb-dbd1-4a65-d231-3e8ba9fd0058"
      },
      "execution_count": 15,
      "outputs": [
        {
          "output_type": "stream",
          "name": "stderr",
          "text": [
            "100%|██████████| 19/19 [00:02<00:00,  9.09it/s]"
          ]
        },
        {
          "output_type": "stream",
          "name": "stdout",
          "text": [
            "\n",
            "Test Accuracy: 0.9675844820002832\n"
          ]
        },
        {
          "output_type": "stream",
          "name": "stderr",
          "text": [
            "\n"
          ]
        }
      ]
    },
    {
      "cell_type": "code",
      "source": [
        "# Dowmload\n",
        "import shutil\n",
        "\n",
        "# Specify the folder name\n",
        "folder_name = \"code\"\n",
        "\n",
        "# Compress the folder into a zip file\n",
        "shutil.make_archive(folder_name, 'zip', folder_name)\n",
        "\n",
        "\n",
        "from google.colab import files\n",
        "\n",
        "# Download the zip file\n",
        "files.download(f'{folder_name}.zip')\n",
        "\n",
        "# Download Notebook\n",
        "# Save the current notebook\n",
        "# files.download(\"TasheelNoteBook.ipynb\")"
      ],
      "metadata": {
        "id": "8_48w8aAQCMY",
        "colab": {
          "base_uri": "https://localhost:8080/",
          "height": 401
        },
        "outputId": "f82acc6e-26a1-465f-dc26-1999b8e62f70"
      },
      "execution_count": 21,
      "outputs": [
        {
          "output_type": "stream",
          "name": "stdout",
          "text": [
            "/bin/bash: -c: line 1: unexpected EOF while looking for matching `\"'\n",
            "/bin/bash: -c: line 2: syntax error: unexpected end of file\n"
          ]
        },
        {
          "output_type": "error",
          "ename": "FileNotFoundError",
          "evalue": "ignored",
          "traceback": [
            "\u001b[0;31m---------------------------------------------------------------------------\u001b[0m",
            "\u001b[0;31mFileNotFoundError\u001b[0m                         Traceback (most recent call last)",
            "\u001b[0;32m<ipython-input-21-f9d1ffe6e482>\u001b[0m in \u001b[0;36m<cell line: 20>\u001b[0;34m()\u001b[0m\n\u001b[1;32m     18\u001b[0m \u001b[0mget_ipython\u001b[0m\u001b[0;34m(\u001b[0m\u001b[0;34m)\u001b[0m\u001b[0;34m.\u001b[0m\u001b[0msystem\u001b[0m\u001b[0;34m(\u001b[0m\u001b[0;34m'jupyter nbconvert --to notebook --execute --inplace \"$0'\u001b[0m\u001b[0;34m)\u001b[0m\u001b[0;34m\u001b[0m\u001b[0;34m\u001b[0m\u001b[0m\n\u001b[1;32m     19\u001b[0m \u001b[0;34m\u001b[0m\u001b[0m\n\u001b[0;32m---> 20\u001b[0;31m \u001b[0mfiles\u001b[0m\u001b[0;34m.\u001b[0m\u001b[0mdownload\u001b[0m\u001b[0;34m(\u001b[0m\u001b[0;34m\"TasheelNoteBook.ipynb\"\u001b[0m\u001b[0;34m)\u001b[0m\u001b[0;34m\u001b[0m\u001b[0;34m\u001b[0m\u001b[0m\n\u001b[0m",
            "\u001b[0;32m/usr/local/lib/python3.10/dist-packages/google/colab/files.py\u001b[0m in \u001b[0;36mdownload\u001b[0;34m(filename)\u001b[0m\n\u001b[1;32m    223\u001b[0m   \u001b[0;32mif\u001b[0m \u001b[0;32mnot\u001b[0m \u001b[0m_os\u001b[0m\u001b[0;34m.\u001b[0m\u001b[0mpath\u001b[0m\u001b[0;34m.\u001b[0m\u001b[0mexists\u001b[0m\u001b[0;34m(\u001b[0m\u001b[0mfilename\u001b[0m\u001b[0;34m)\u001b[0m\u001b[0;34m:\u001b[0m\u001b[0;34m\u001b[0m\u001b[0;34m\u001b[0m\u001b[0m\n\u001b[1;32m    224\u001b[0m     \u001b[0mmsg\u001b[0m \u001b[0;34m=\u001b[0m \u001b[0;34m'Cannot find file: {}'\u001b[0m\u001b[0;34m.\u001b[0m\u001b[0mformat\u001b[0m\u001b[0;34m(\u001b[0m\u001b[0mfilename\u001b[0m\u001b[0;34m)\u001b[0m\u001b[0;34m\u001b[0m\u001b[0;34m\u001b[0m\u001b[0m\n\u001b[0;32m--> 225\u001b[0;31m     \u001b[0;32mraise\u001b[0m \u001b[0mFileNotFoundError\u001b[0m\u001b[0;34m(\u001b[0m\u001b[0mmsg\u001b[0m\u001b[0;34m)\u001b[0m  \u001b[0;31m# pylint: disable=undefined-variable\u001b[0m\u001b[0;34m\u001b[0m\u001b[0;34m\u001b[0m\u001b[0m\n\u001b[0m\u001b[1;32m    226\u001b[0m \u001b[0;34m\u001b[0m\u001b[0m\n\u001b[1;32m    227\u001b[0m   \u001b[0mcomm_manager\u001b[0m \u001b[0;34m=\u001b[0m \u001b[0m_IPython\u001b[0m\u001b[0;34m.\u001b[0m\u001b[0mget_ipython\u001b[0m\u001b[0;34m(\u001b[0m\u001b[0;34m)\u001b[0m\u001b[0;34m.\u001b[0m\u001b[0mkernel\u001b[0m\u001b[0;34m.\u001b[0m\u001b[0mcomm_manager\u001b[0m\u001b[0;34m\u001b[0m\u001b[0;34m\u001b[0m\u001b[0m\n",
            "\u001b[0;31mFileNotFoundError\u001b[0m: Cannot find file: TasheelNoteBook.ipynb"
          ]
        }
      ]
    },
    {
      "cell_type": "code",
      "source": [],
      "metadata": {
        "id": "SOd13XqybUAw"
      },
      "execution_count": null,
      "outputs": []
    }
  ]
}