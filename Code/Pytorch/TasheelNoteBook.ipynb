{
  "nbformat": 4,
  "nbformat_minor": 0,
  "metadata": {
    "colab": {
      "provenance": [],
      "gpuType": "T4"
    },
    "kernelspec": {
      "name": "python3",
      "display_name": "Python 3"
    },
    "language_info": {
      "name": "python"
    },
    "accelerator": "GPU"
  },
  "cells": [
    {
      "cell_type": "markdown",
      "source": [
        "#Model(1)"
      ],
      "metadata": {
        "id": "8j-r9hN1MBSA"
      }
    },
    {
      "cell_type": "code",
      "source": [
        "%load_ext autoreload\n",
        "%autoreload 2"
      ],
      "metadata": {
        "id": "nQVagDa_aNAP"
      },
      "execution_count": 1,
      "outputs": []
    },
    {
      "cell_type": "code",
      "execution_count": 2,
      "metadata": {
        "id": "2nSoT6rEeEpo",
        "colab": {
          "base_uri": "https://localhost:8080/"
        },
        "outputId": "296c197c-fd6c-4f67-d75e-1e750ef22054"
      },
      "outputs": [
        {
          "output_type": "stream",
          "name": "stdout",
          "text": [
            "Mounted at /content/drive\n"
          ]
        }
      ],
      "source": [
        "from google.colab import drive\n",
        "\n",
        "# Mount Google Drive\n",
        "drive.mount('/content/drive')"
      ]
    },
    {
      "cell_type": "code",
      "source": [
        "\n",
        "model=\"model(1)\"\n",
        "import shutil\n",
        "import os\n",
        "\n",
        "# Source and destination folder paths\n",
        "source_folder = '/content/drive/MyDrive/Kaggle/TestNoteBook'\n",
        "destination_folder = '/content'\n",
        "\n",
        "# Get a list of all files in the source folder\n",
        "files = os.listdir(source_folder)\n",
        "\n",
        "# Copy each file to the destination folder\n",
        "for file in files:\n",
        "    source_file_path = os.path.join(source_folder, file)\n",
        "    destination_file_path = os.path.join(destination_folder, file)\n",
        "    shutil.copy2(source_file_path, destination_file_path)\n",
        "\n",
        "\n",
        "\n",
        "# Source and destination folder paths\n",
        "source_folder = f\"/content/drive/MyDrive/Kaggle/{model}\"\n",
        "destination_folder = '/content'\n",
        "\n",
        "# Get a list of all files in the source folder\n",
        "files = os.listdir(source_folder)\n",
        "\n",
        "# Copy each file to the destination folder\n",
        "for file in files:\n",
        "    source_file_path = os.path.join(source_folder, file)\n",
        "    destination_file_path = os.path.join(destination_folder, file)\n",
        "    shutil.copy2(source_file_path, destination_file_path)"
      ],
      "metadata": {
        "id": "rwxGV_M4L95C"
      },
      "execution_count": 3,
      "outputs": []
    },
    {
      "cell_type": "code",
      "source": [
        "def merge_text_files(file1, file2, output_file):\n",
        "    # with open(file1, 'r') as f1, open(file2, 'r') as f2, open(file3, 'r') as f3:\n",
        "    with open(file1, 'r') as f1, open(file2, 'r') as f2:\n",
        "        content1 = f1.read()\n",
        "        content2 = f2.read()\n",
        "\n",
        "    with open(output_file, 'w') as output:\n",
        "        output.write(content1)\n",
        "        output.write('\\n')  # Add a newline between files if needed\n",
        "        output.write(content2)\n",
        "\n",
        "# Replace 'file1.txt', 'file2.txt', 'file3.txt', and 'output.txt' with your file names\n",
        "merge_text_files('/content/drive/MyDrive/Tashkeel/val.txt', '/content/drive/MyDrive/Tashkeel/train.txt', '/content/drive/MyDrive/Tashkeel/val_train.txt')\n"
      ],
      "metadata": {
        "id": "JI1QqfzgSO6H"
      },
      "execution_count": 19,
      "outputs": []
    },
    {
      "cell_type": "code",
      "source": [
        "# %run cleaning.py --mode valtrain"
      ],
      "metadata": {
        "id": "H2m9Kqv06mU0"
      },
      "execution_count": 24,
      "outputs": []
    },
    {
      "cell_type": "code",
      "source": [
        "# %run cleaning.py --mode train"
      ],
      "metadata": {
        "id": "744mSP6fQWPW"
      },
      "execution_count": null,
      "outputs": []
    },
    {
      "cell_type": "code",
      "source": [
        "# %run cleaning.py --mode all"
      ],
      "metadata": {
        "id": "A4mtvdbygFVp",
        "colab": {
          "base_uri": "https://localhost:8080/"
        },
        "outputId": "90856b22-e8b5-43bf-f296-06789586cf92"
      },
      "execution_count": 6,
      "outputs": [
        {
          "output_type": "stream",
          "name": "stderr",
          "text": [
            "[nltk_data] Downloading package punkt to /root/nltk_data...\n",
            "[nltk_data]   Unzipping tokenizers/punkt.zip.\n"
          ]
        },
        {
          "output_type": "stream",
          "name": "stdout",
          "text": [
            "Loaded Vocab 41 {'ت': 0, 'ه': 1, 'س': 2, 'ئ': 3, 'ي': 4, 'خ': 5, 'ب': 6, 'ش': 7, 'ح': 8, 'ى': 9, 'ن': 10, 'إ': 11, 'ل': 12, 'ؤ': 13, 'ط': 14, 'ج': 15, 'ف': 16, 'آ': 17, 'ص': 18, 'م': 19, 'ا': 20, 'ع': 21, 'و': 22, 'غ': 23, 'ك': 24, 'ظ': 25, 'د': 26, 'ر': 27, 'ق': 28, 'أ': 29, 'ذ': 30, 'ة': 31, 'ء': 32, 'ز': 33, 'ض': 34, 'ث': 35, '<s>': 36, '</s>': 37, ' ': 38, '<PAD>': 39, '<UNK>': 40}\n",
            "All mode selected.\n",
            "Cleaning .....\n",
            "all_punctuation {'#', '_', '>', '@', ')', '}', '*', '(', '|', '$', '&', '+', ']', '=', '`', '^', '[', '.', '<', '~', '%', ',', \"'\", ':', '\\\\', '{', '!', '/', ';', '\"', '-', '?'}\n",
            "Done Cleaning :D\n",
            "Tokenization to Sentences [\n",
            ".,،؛:«»?؟]+ .....\n",
            "Done Tokenizing :D\n",
            "Fxing Diacritization issues .......\n",
            "Done Fxing Diacritization issues :D\n",
            "Removing Tashkel ......\n",
            "Removing Tashkel Done :D 398012 Sentences\n",
            "Getting Tashkel ......\n",
            "Getting Tashkeel Done :D 398012 Sentences\n",
            "['ا', 'ل', 'ش', 'ه', 'ا', 'د', 'ة', ' ', 'ظ', 'ا', 'ه', 'ر', 'ة']\n",
            "[14, 14, 8, 0, 14, 0, 4, 14, 0, 14, 4, 0, 1]\n"
          ]
        }
      ]
    },
    {
      "cell_type": "code",
      "source": [
        "# %run cleaning.py --mode combine"
      ],
      "metadata": {
        "colab": {
          "base_uri": "https://localhost:8080/"
        },
        "id": "lzfBinb9Urob",
        "outputId": "a5efe795-a216-4a50-f2b8-f86b330b4446"
      },
      "execution_count": null,
      "outputs": [
        {
          "output_type": "stream",
          "name": "stdout",
          "text": [
            "combine mode selected.\n",
            "Cleaning .....\n",
            "all_punctuation {\"'\", '}', '_', '~', '<', ';', '!', '.', '>', '\\\\', '[', '+', '=', '\"', ':', '%', '?', '^', '`', '$', ']', '(', '@', '-', '|', '#', '/', '{', ',', '&', ')', '*'}\n",
            "Done Cleaning :D\n",
            "Tokenization to Sentences [\n",
            ".,،؛:«»?؟]+ .....\n",
            "Done Tokenizing :D\n",
            "Fxing Diacritization issues .......\n",
            "Done Fxing Diacritization issues :D\n",
            "Removing Tashkel ......\n",
            "Removing Tashkel Done :D 203938 Sentences\n",
            "Getting Tashkel ......\n",
            "Getting Tashkeel Done :D 203938 Sentences\n",
            "['ق', 'و', 'ل', 'ه']\n",
            "[0, 6, 2, 2]\n"
          ]
        }
      ]
    },
    {
      "cell_type": "code",
      "source": [
        "# %run cleaning.py --mode validate"
      ],
      "metadata": {
        "id": "1qvwf3BE_68S",
        "colab": {
          "base_uri": "https://localhost:8080/"
        },
        "outputId": "08674ed8-8a09-46d4-cf34-ffc6363282ae"
      },
      "execution_count": null,
      "outputs": [
        {
          "output_type": "stream",
          "name": "stdout",
          "text": [
            "Validation mode selected.\n",
            "Cleaning .....\n",
            "all_punctuation {\"'\", '}', '_', '~', '<', ';', '!', '.', '>', '\\\\', '[', '+', '=', '\"', ':', '%', '?', '^', '`', '$', ']', '(', '@', '-', '|', '#', '/', '{', ',', '&', ')', '*'}\n",
            "Done Cleaning :D\n",
            "Tokenization to Sentences [\n",
            ".,،؛:«»?؟]+ .....\n",
            "Done Tokenizing :D\n",
            "Fxing Diacritization issues .......\n",
            "Done Fxing Diacritization issues :D\n",
            "Removing Tashkel ......\n",
            "Removing Tashkel Done :D 9399 Sentences\n",
            "Getting Tashkel ......\n",
            "Getting Tashkeel Done :D 9399 Sentences\n",
            "['ق', 'و', 'ل', 'ه']\n",
            "[0, 6, 2, 2]\n"
          ]
        }
      ]
    },
    {
      "cell_type": "code",
      "source": [
        "# %run cleaning.py --mode test"
      ],
      "metadata": {
        "id": "cT7vT-0nTrpz",
        "colab": {
          "base_uri": "https://localhost:8080/"
        },
        "outputId": "68c81cf7-8f8b-4ed6-b506-1d487537f281"
      },
      "execution_count": null,
      "outputs": [
        {
          "output_type": "stream",
          "name": "stdout",
          "text": [
            "Testing mode selected.\n",
            "Cleaning .....\n",
            "all_punctuation {\"'\", '}', '_', '~', '<', ';', '!', '.', '>', '\\\\', '[', '+', '=', '\"', ':', '%', '?', '^', '`', '$', ']', '(', '@', '-', '|', '#', '/', '{', ',', '&', ')', '*'}\n",
            "Done Cleaning :D\n",
            "Tokenization to Sentences [\n",
            ".,،؛:«»?؟]+ .....\n",
            "Done Tokenizing :D\n",
            "Fxing Diacritization issues .......\n",
            "Done Fxing Diacritization issues :D\n",
            "Removing Tashkel ......\n",
            "Removing Tashkel Done :D 9500 Sentences\n",
            "Getting Tashkel ......\n",
            "Getting Tashkeel Done :D 9500 Sentences\n",
            "['ق', 'و', 'ل', 'ه']\n",
            "[0, 6, 2, 2]\n"
          ]
        }
      ]
    },
    {
      "cell_type": "code",
      "source": [
        "from utils import get_params\n",
        "from Globals import vocab_map,classes\n",
        "\n",
        "# t_sentences, t_labels, t_size = get_params(vocab_map, classes, '/content/drive/MyDrive/Tashkeel/train_X.pickle', '/content/drive/MyDrive/Tashkeel/train_Y.pickle')\n",
        "# v_sentences, v_labels, v_size = get_params(vocab_map, classes, '/content/drive/MyDrive/Tashkeel/val_X.pickle', '/content/drive/MyDrive/Tashkeel/val_Y.pickle')\n",
        "# test_sentences, test_labels, test_size = get_params(vocab_map, classes, '/content/drive/MyDrive/Tashkeel/test_X.pickle', '/content/drive/MyDrive/Tashkeel/test_Y.pickle')\n",
        "# c_sentences, c_labels, c_size = get_params(vocab_map, classes, '/content/drive/MyDrive/Tashkeel/combine_X.pickle', '/content/drive/MyDrive/Tashkeel/combine_Y.pickle')\n",
        "# a_sentences, a_labels, a_size = get_params(vocab_map, classes, '/content/drive/MyDrive/Tashkeel/all_X.pickle', '/content/drive/MyDrive/Tashkeel/all_Y.pickle')\n",
        "val_train_sentences, val_train_labels, val_train_size = get_params(vocab_map, classes, '/content/drive/MyDrive/Tashkeel/val_train_X.pickle', '/content/drive/MyDrive/Tashkeel/val_train_Y.pickle')\n",
        "\n",
        "from tashkeel_data_set import TashkeelDataset\n",
        "max_length=300\n",
        "# train_dataset = TashkeelDataset(t_sentences, t_labels, vocab_map['<PAD>'],max_length)\n",
        "# val_dataset = TashkeelDataset(v_sentences, v_labels, vocab_map['<PAD>'],max_length)\n",
        "# test_dataset = TashkeelDataset(test_sentences, test_labels, vocab_map['<PAD>'],max_length)\n",
        "# combine_dataset = TashkeelDataset(c_sentences, c_labels, vocab_map['<PAD>'],max_length)\n",
        "# all_dataset = TashkeelDataset(a_sentences, a_labels, vocab_map['<PAD>'],max_length)\n",
        "val_train_dataset = TashkeelDataset(val_train_sentences, val_train_labels, vocab_map['<PAD>'],max_length)\n"
      ],
      "metadata": {
        "colab": {
          "base_uri": "https://localhost:8080/"
        },
        "id": "yY3_pgqVt-j2",
        "outputId": "5d0a8d7a-f8d3-44af-cb7e-88fceea037a9"
      },
      "execution_count": 7,
      "outputs": [
        {
          "output_type": "stream",
          "name": "stdout",
          "text": [
            "{'ت': 0, 'ه': 1, 'س': 2, 'ئ': 3, 'ي': 4, 'خ': 5, 'ب': 6, 'ش': 7, 'ح': 8, 'ى': 9, 'ن': 10, 'إ': 11, 'ل': 12, 'ؤ': 13, 'ط': 14, 'ج': 15, 'ف': 16, 'آ': 17, 'ص': 18, 'م': 19, 'ا': 20, 'ع': 21, 'و': 22, 'غ': 23, 'ك': 24, 'ظ': 25, 'د': 26, 'ر': 27, 'ق': 28, 'أ': 29, 'ذ': 30, 'ة': 31, 'ء': 32, 'ز': 33, 'ض': 34, 'ث': 35, '<s>': 36, '</s>': 37, ' ': 38, '<PAD>': 39, '<UNK>': 40}\n",
            "{'َ': 0, 'ً': 1, 'ُ': 2, 'ٌ': 3, 'ِ': 4, 'ٍ': 5, 'ْ': 6, 'ّ': 7, 'َّ': 8, 'ًّ': 9, 'ُّ': 10, 'ٌّ': 11, 'ِّ': 12, 'ٍّ': 13, '': 14, 'P': 15}\n",
            "UNK –\n",
            "UNK ‏\n",
            "UNK –\n",
            "UNK –\n",
            "UNK ‏\n",
            "UNK –\n",
            "UNK –\n",
            "UNK ‏\n",
            "UNK –\n",
            "UNK ‏\n",
            "UNK –\n",
            "UNK –\n",
            "Padding ..... with  300 : 398012 398012\n",
            "Done Padding ..... 406592 406592\n"
          ]
        }
      ]
    },
    {
      "cell_type": "code",
      "source": [
        "from tashkeel_nn import Tashkeel\n",
        "model = Tashkeel()\n",
        "print(model)"
      ],
      "metadata": {
        "colab": {
          "base_uri": "https://localhost:8080/"
        },
        "id": "Bh0Ap0-LQBC_",
        "outputId": "ff68e1b1-16d8-464f-b265-dd3d77a0d679"
      },
      "execution_count": 13,
      "outputs": [
        {
          "output_type": "stream",
          "name": "stdout",
          "text": [
            "Tashkeel(\n",
            "  (embedding): Embedding(41, 100)\n",
            "  (lstm): LSTM(100, 256, num_layers=2, batch_first=True, bidirectional=True)\n",
            "  (linear): Linear(in_features=512, out_features=16, bias=True)\n",
            ")\n"
          ]
        }
      ]
    },
    {
      "cell_type": "code",
      "source": [
        "from tashkeel_train import train\n",
        "train(model, val_train_dataset)"
      ],
      "metadata": {
        "colab": {
          "base_uri": "https://localhost:8080/",
          "height": 1000
        },
        "id": "SuMhZPYA8dBI",
        "outputId": "b3a43b43-a164-4ff5-84d0-d0e3f06814ab"
      },
      "execution_count": 18,
      "outputs": [
        {
          "output_type": "stream",
          "name": "stdout",
          "text": [
            "Loaded Vocab 41 {'ت': 0, 'ه': 1, 'س': 2, 'ئ': 3, 'ي': 4, 'خ': 5, 'ب': 6, 'ش': 7, 'ح': 8, 'ى': 9, 'ن': 10, 'إ': 11, 'ل': 12, 'ؤ': 13, 'ط': 14, 'ج': 15, 'ف': 16, 'آ': 17, 'ص': 18, 'م': 19, 'ا': 20, 'ع': 21, 'و': 22, 'غ': 23, 'ك': 24, 'ظ': 25, 'د': 26, 'ر': 27, 'ق': 28, 'أ': 29, 'ذ': 30, 'ة': 31, 'ء': 32, 'ز': 33, 'ض': 34, 'ث': 35, '<s>': 36, '</s>': 37, ' ': 38, '<PAD>': 39, '<UNK>': 40}\n",
            "Using GPU\n"
          ]
        },
        {
          "output_type": "stream",
          "name": "stderr",
          "text": [
            "\r  0%|          | 0/795 [00:00<?, ?it/s]"
          ]
        },
        {
          "output_type": "stream",
          "name": "stdout",
          "text": [
            "Epoch: 0/5............. "
          ]
        },
        {
          "output_type": "stream",
          "name": "stderr",
          "text": [
            "\r  0%|          | 1/795 [00:00<10:04,  1.31it/s]"
          ]
        },
        {
          "output_type": "stream",
          "name": "stdout",
          "text": [
            "Loss: 0.0236\n",
            "acc: 0.9922845655087478\n",
            "Epoch: 0/5............. "
          ]
        },
        {
          "output_type": "stream",
          "name": "stderr",
          "text": [
            "\r  0%|          | 2/795 [00:01<09:49,  1.35it/s]"
          ]
        },
        {
          "output_type": "stream",
          "name": "stdout",
          "text": [
            "Loss: 0.0328\n",
            "acc: 0.9894539150534527\n",
            "Epoch: 0/5............. "
          ]
        },
        {
          "output_type": "stream",
          "name": "stderr",
          "text": [
            "\r  0%|          | 3/795 [00:02<09:38,  1.37it/s]"
          ]
        },
        {
          "output_type": "stream",
          "name": "stdout",
          "text": [
            "Loss: 0.0255\n",
            "acc: 0.9908913467794405\n",
            "Epoch: 0/5............. "
          ]
        },
        {
          "output_type": "stream",
          "name": "stderr",
          "text": [
            "\r  1%|          | 4/795 [00:02<09:35,  1.37it/s]"
          ]
        },
        {
          "output_type": "stream",
          "name": "stdout",
          "text": [
            "Loss: 0.0299\n",
            "acc: 0.9903552595059673\n",
            "Epoch: 0/5............. "
          ]
        },
        {
          "output_type": "stream",
          "name": "stderr",
          "text": [
            "\r  1%|          | 5/795 [00:03<09:34,  1.37it/s]"
          ]
        },
        {
          "output_type": "stream",
          "name": "stdout",
          "text": [
            "Loss: 0.0269\n",
            "acc: 0.9912467819051122\n",
            "Epoch: 0/5............. "
          ]
        },
        {
          "output_type": "stream",
          "name": "stderr",
          "text": [
            "\r  1%|          | 6/795 [00:04<09:33,  1.38it/s]"
          ]
        },
        {
          "output_type": "stream",
          "name": "stdout",
          "text": [
            "Loss: 0.0318\n",
            "acc: 0.9901439720129172\n",
            "Epoch: 0/5............. "
          ]
        },
        {
          "output_type": "stream",
          "name": "stderr",
          "text": [
            "\r  1%|          | 7/795 [00:05<09:34,  1.37it/s]"
          ]
        },
        {
          "output_type": "stream",
          "name": "stdout",
          "text": [
            "Loss: 0.0277\n",
            "acc: 0.9907565253627306\n",
            "Epoch: 0/5............. "
          ]
        },
        {
          "output_type": "stream",
          "name": "stderr",
          "text": [
            "\r  1%|          | 8/795 [00:05<09:31,  1.38it/s]"
          ]
        },
        {
          "output_type": "stream",
          "name": "stdout",
          "text": [
            "Loss: 0.0315\n",
            "acc: 0.9901441548875872\n",
            "Epoch: 0/5............. "
          ]
        },
        {
          "output_type": "stream",
          "name": "stderr",
          "text": [
            "\r  1%|          | 9/795 [00:06<09:33,  1.37it/s]"
          ]
        },
        {
          "output_type": "stream",
          "name": "stdout",
          "text": [
            "Loss: 0.0289\n",
            "acc: 0.9909131205673759\n",
            "Epoch: 0/5............. "
          ]
        },
        {
          "output_type": "stream",
          "name": "stderr",
          "text": [
            "\r  1%|▏         | 10/795 [00:07<09:31,  1.37it/s]"
          ]
        },
        {
          "output_type": "stream",
          "name": "stdout",
          "text": [
            "Loss: 0.0296\n",
            "acc: 0.990869284817216\n",
            "Epoch: 0/5............. "
          ]
        },
        {
          "output_type": "stream",
          "name": "stderr",
          "text": [
            "\r  1%|▏         | 11/795 [00:08<09:32,  1.37it/s]"
          ]
        },
        {
          "output_type": "stream",
          "name": "stdout",
          "text": [
            "Loss: 0.0294\n",
            "acc: 0.9904034601608435\n",
            "Epoch: 0/5............. "
          ]
        },
        {
          "output_type": "stream",
          "name": "stderr",
          "text": [
            "\r  2%|▏         | 12/795 [00:08<09:35,  1.36it/s]"
          ]
        },
        {
          "output_type": "stream",
          "name": "stdout",
          "text": [
            "Loss: 0.0345\n",
            "acc: 0.9890816114988598\n",
            "Epoch: 0/5............. "
          ]
        },
        {
          "output_type": "stream",
          "name": "stderr",
          "text": [
            "\r  2%|▏         | 13/795 [00:09<09:34,  1.36it/s]"
          ]
        },
        {
          "output_type": "stream",
          "name": "stdout",
          "text": [
            "Loss: 0.0339\n",
            "acc: 0.9895497107794573\n",
            "Epoch: 0/5............. "
          ]
        },
        {
          "output_type": "stream",
          "name": "stderr",
          "text": [
            "\r  2%|▏         | 14/795 [00:10<09:34,  1.36it/s]"
          ]
        },
        {
          "output_type": "stream",
          "name": "stdout",
          "text": [
            "Loss: 0.0257\n",
            "acc: 0.9916877484640405\n",
            "Epoch: 0/5............. "
          ]
        },
        {
          "output_type": "stream",
          "name": "stderr",
          "text": [
            "\r  2%|▏         | 15/795 [00:10<09:35,  1.35it/s]"
          ]
        },
        {
          "output_type": "stream",
          "name": "stdout",
          "text": [
            "Loss: 0.0253\n",
            "acc: 0.9913107001422584\n",
            "Epoch: 0/5............. "
          ]
        },
        {
          "output_type": "stream",
          "name": "stderr",
          "text": [
            "\r  2%|▏         | 16/795 [00:11<09:36,  1.35it/s]"
          ]
        },
        {
          "output_type": "stream",
          "name": "stdout",
          "text": [
            "Loss: 0.0306\n",
            "acc: 0.9904905068461815\n",
            "Epoch: 0/5............. "
          ]
        },
        {
          "output_type": "stream",
          "name": "stderr",
          "text": [
            "\r  2%|▏         | 17/795 [00:12<09:34,  1.35it/s]"
          ]
        },
        {
          "output_type": "stream",
          "name": "stdout",
          "text": [
            "Loss: 0.0264\n",
            "acc: 0.9918474139238587\n",
            "Epoch: 0/5............. "
          ]
        },
        {
          "output_type": "stream",
          "name": "stderr",
          "text": [
            "\r  2%|▏         | 18/795 [00:13<09:36,  1.35it/s]"
          ]
        },
        {
          "output_type": "stream",
          "name": "stdout",
          "text": [
            "Loss: 0.0292\n",
            "acc: 0.9907812612095559\n",
            "Epoch: 0/5............. "
          ]
        },
        {
          "output_type": "stream",
          "name": "stderr",
          "text": [
            "\r  2%|▏         | 19/795 [00:13<09:36,  1.35it/s]"
          ]
        },
        {
          "output_type": "stream",
          "name": "stdout",
          "text": [
            "Loss: 0.0321\n",
            "acc: 0.9896214466647903\n",
            "Epoch: 0/5............. "
          ]
        },
        {
          "output_type": "stream",
          "name": "stderr",
          "text": [
            "\r  3%|▎         | 20/795 [00:14<09:34,  1.35it/s]"
          ]
        },
        {
          "output_type": "stream",
          "name": "stdout",
          "text": [
            "Loss: 0.0302\n",
            "acc: 0.9899130204716077\n",
            "Epoch: 0/5............. "
          ]
        },
        {
          "output_type": "stream",
          "name": "stderr",
          "text": [
            "\r  3%|▎         | 21/795 [00:15<09:33,  1.35it/s]"
          ]
        },
        {
          "output_type": "stream",
          "name": "stdout",
          "text": [
            "Loss: 0.0294\n",
            "acc: 0.9910055350553506\n",
            "Epoch: 0/5............. "
          ]
        },
        {
          "output_type": "stream",
          "name": "stderr",
          "text": [
            "\r  3%|▎         | 22/795 [00:16<09:37,  1.34it/s]"
          ]
        },
        {
          "output_type": "stream",
          "name": "stdout",
          "text": [
            "Loss: 0.0308\n",
            "acc: 0.9898545606318425\n",
            "Epoch: 0/5............. "
          ]
        },
        {
          "output_type": "stream",
          "name": "stderr",
          "text": [
            "\r  3%|▎         | 23/795 [00:16<09:36,  1.34it/s]"
          ]
        },
        {
          "output_type": "stream",
          "name": "stdout",
          "text": [
            "Loss: 0.0291\n",
            "acc: 0.9905932386650328\n",
            "Epoch: 0/5............. "
          ]
        },
        {
          "output_type": "stream",
          "name": "stderr",
          "text": [
            "\r  3%|▎         | 24/795 [00:17<09:38,  1.33it/s]"
          ]
        },
        {
          "output_type": "stream",
          "name": "stdout",
          "text": [
            "Loss: 0.0308\n",
            "acc: 0.9900258117969472\n",
            "Epoch: 0/5............. "
          ]
        },
        {
          "output_type": "stream",
          "name": "stderr",
          "text": [
            "\r  3%|▎         | 25/795 [00:18<09:35,  1.34it/s]"
          ]
        },
        {
          "output_type": "stream",
          "name": "stdout",
          "text": [
            "Loss: 0.0253\n",
            "acc: 0.9913171926790604\n",
            "Epoch: 0/5............. "
          ]
        },
        {
          "output_type": "stream",
          "name": "stderr",
          "text": [
            "\r  3%|▎         | 26/795 [00:19<09:38,  1.33it/s]"
          ]
        },
        {
          "output_type": "stream",
          "name": "stdout",
          "text": [
            "Loss: 0.0350\n",
            "acc: 0.9890618287564853\n",
            "Epoch: 0/5............. "
          ]
        },
        {
          "output_type": "stream",
          "name": "stderr",
          "text": [
            "\r  3%|▎         | 27/795 [00:19<09:39,  1.33it/s]"
          ]
        },
        {
          "output_type": "stream",
          "name": "stdout",
          "text": [
            "Loss: 0.0287\n",
            "acc: 0.9904612196777536\n",
            "Epoch: 0/5............. "
          ]
        },
        {
          "output_type": "stream",
          "name": "stderr",
          "text": [
            "\r  4%|▎         | 28/795 [00:20<09:38,  1.33it/s]"
          ]
        },
        {
          "output_type": "stream",
          "name": "stdout",
          "text": [
            "Loss: 0.0306\n",
            "acc: 0.9897430823521651\n",
            "Epoch: 0/5............. "
          ]
        },
        {
          "output_type": "stream",
          "name": "stderr",
          "text": [
            "\r  4%|▎         | 29/795 [00:21<09:40,  1.32it/s]"
          ]
        },
        {
          "output_type": "stream",
          "name": "stdout",
          "text": [
            "Loss: 0.0294\n",
            "acc: 0.9905306832630664\n",
            "Epoch: 0/5............. "
          ]
        },
        {
          "output_type": "stream",
          "name": "stderr",
          "text": [
            "\r  4%|▍         | 30/795 [00:22<09:39,  1.32it/s]"
          ]
        },
        {
          "output_type": "stream",
          "name": "stdout",
          "text": [
            "Loss: 0.0272\n",
            "acc: 0.9910579171825561\n",
            "Epoch: 0/5............. "
          ]
        },
        {
          "output_type": "stream",
          "name": "stderr",
          "text": [
            "\r  4%|▍         | 31/795 [00:23<09:42,  1.31it/s]"
          ]
        },
        {
          "output_type": "stream",
          "name": "stdout",
          "text": [
            "Loss: 0.0265\n",
            "acc: 0.9916723372541395\n",
            "Epoch: 0/5............. "
          ]
        },
        {
          "output_type": "stream",
          "name": "stderr",
          "text": [
            "\r  4%|▍         | 32/795 [00:23<09:45,  1.30it/s]"
          ]
        },
        {
          "output_type": "stream",
          "name": "stdout",
          "text": [
            "Loss: 0.0275\n",
            "acc: 0.9910477557004274\n",
            "Epoch: 0/5............. "
          ]
        },
        {
          "output_type": "stream",
          "name": "stderr",
          "text": [
            "\r  4%|▍         | 33/795 [00:24<09:42,  1.31it/s]"
          ]
        },
        {
          "output_type": "stream",
          "name": "stdout",
          "text": [
            "Loss: 0.0297\n",
            "acc: 0.9900872323552736\n",
            "Epoch: 0/5............. "
          ]
        },
        {
          "output_type": "stream",
          "name": "stderr",
          "text": [
            "\r  4%|▍         | 34/795 [00:25<09:43,  1.30it/s]"
          ]
        },
        {
          "output_type": "stream",
          "name": "stdout",
          "text": [
            "Loss: 0.0268\n",
            "acc: 0.9908074264413159\n",
            "Epoch: 0/5............. "
          ]
        },
        {
          "output_type": "stream",
          "name": "stderr",
          "text": [
            "\r  4%|▍         | 35/795 [00:26<09:45,  1.30it/s]"
          ]
        },
        {
          "output_type": "stream",
          "name": "stdout",
          "text": [
            "Loss: 0.0284\n",
            "acc: 0.9904900425151041\n",
            "Epoch: 0/5............. "
          ]
        },
        {
          "output_type": "stream",
          "name": "stderr",
          "text": [
            "\r  5%|▍         | 36/795 [00:26<09:44,  1.30it/s]"
          ]
        },
        {
          "output_type": "stream",
          "name": "stdout",
          "text": [
            "Loss: 0.0315\n",
            "acc: 0.9898220458327999\n",
            "Epoch: 0/5............. "
          ]
        },
        {
          "output_type": "stream",
          "name": "stderr",
          "text": [
            "\r  5%|▍         | 37/795 [00:27<09:45,  1.29it/s]"
          ]
        },
        {
          "output_type": "stream",
          "name": "stdout",
          "text": [
            "Loss: 0.0320\n",
            "acc: 0.9897407879560493\n",
            "Epoch: 0/5............. "
          ]
        },
        {
          "output_type": "stream",
          "name": "stderr",
          "text": [
            "\r  5%|▍         | 38/795 [00:28<09:48,  1.29it/s]"
          ]
        },
        {
          "output_type": "stream",
          "name": "stdout",
          "text": [
            "Loss: 0.0314\n",
            "acc: 0.9894332957763635\n",
            "Epoch: 0/5............. "
          ]
        },
        {
          "output_type": "stream",
          "name": "stderr",
          "text": [
            "\r  5%|▍         | 39/795 [00:29<09:48,  1.28it/s]"
          ]
        },
        {
          "output_type": "stream",
          "name": "stdout",
          "text": [
            "Loss: 0.0272\n",
            "acc: 0.9914140711902113\n",
            "Epoch: 0/5............. "
          ]
        },
        {
          "output_type": "stream",
          "name": "stderr",
          "text": [
            "\r  5%|▌         | 40/795 [00:30<09:49,  1.28it/s]"
          ]
        },
        {
          "output_type": "stream",
          "name": "stdout",
          "text": [
            "Loss: 0.0307\n",
            "acc: 0.9896693421406352\n",
            "Epoch: 0/5............. "
          ]
        },
        {
          "output_type": "stream",
          "name": "stderr",
          "text": [
            "\r  5%|▌         | 41/795 [00:30<09:49,  1.28it/s]"
          ]
        },
        {
          "output_type": "stream",
          "name": "stdout",
          "text": [
            "Loss: 0.0287\n",
            "acc: 0.9912107081753833\n",
            "Epoch: 0/5............. "
          ]
        },
        {
          "output_type": "stream",
          "name": "stderr",
          "text": [
            "\r  5%|▌         | 42/795 [00:31<09:51,  1.27it/s]"
          ]
        },
        {
          "output_type": "stream",
          "name": "stdout",
          "text": [
            "Loss: 0.0282\n",
            "acc: 0.9906803984467331\n",
            "Epoch: 0/5............. "
          ]
        },
        {
          "output_type": "stream",
          "name": "stderr",
          "text": [
            "\r  5%|▌         | 43/795 [00:32<09:51,  1.27it/s]"
          ]
        },
        {
          "output_type": "stream",
          "name": "stdout",
          "text": [
            "Loss: 0.0309\n",
            "acc: 0.9895326416307042\n",
            "Epoch: 0/5............. "
          ]
        },
        {
          "output_type": "stream",
          "name": "stderr",
          "text": [
            "\r  6%|▌         | 44/795 [00:33<09:48,  1.28it/s]"
          ]
        },
        {
          "output_type": "stream",
          "name": "stdout",
          "text": [
            "Loss: 0.0272\n",
            "acc: 0.9911174344382065\n",
            "Epoch: 0/5............. "
          ]
        },
        {
          "output_type": "stream",
          "name": "stderr",
          "text": [
            "\r  6%|▌         | 45/795 [00:33<09:49,  1.27it/s]"
          ]
        },
        {
          "output_type": "stream",
          "name": "stdout",
          "text": [
            "Loss: 0.0261\n",
            "acc: 0.9918502202643171\n",
            "Epoch: 0/5............. "
          ]
        },
        {
          "output_type": "stream",
          "name": "stderr",
          "text": [
            "\r  6%|▌         | 46/795 [00:34<09:49,  1.27it/s]"
          ]
        },
        {
          "output_type": "stream",
          "name": "stdout",
          "text": [
            "Loss: 0.0276\n",
            "acc: 0.9914672088223516\n",
            "Epoch: 0/5............. "
          ]
        },
        {
          "output_type": "stream",
          "name": "stderr",
          "text": [
            "\r  6%|▌         | 47/795 [00:35<09:50,  1.27it/s]"
          ]
        },
        {
          "output_type": "stream",
          "name": "stdout",
          "text": [
            "Loss: 0.0317\n",
            "acc: 0.9884829505915101\n",
            "Epoch: 0/5............. "
          ]
        },
        {
          "output_type": "stream",
          "name": "stderr",
          "text": [
            "\r  6%|▌         | 48/795 [00:36<09:47,  1.27it/s]"
          ]
        },
        {
          "output_type": "stream",
          "name": "stdout",
          "text": [
            "Loss: 0.0337\n",
            "acc: 0.9879911804079061\n",
            "Epoch: 0/5............. "
          ]
        },
        {
          "output_type": "stream",
          "name": "stderr",
          "text": [
            "\r  6%|▌         | 49/795 [00:37<09:48,  1.27it/s]"
          ]
        },
        {
          "output_type": "stream",
          "name": "stdout",
          "text": [
            "Loss: 0.0238\n",
            "acc: 0.9927286643704554\n",
            "Epoch: 0/5............. "
          ]
        },
        {
          "output_type": "stream",
          "name": "stderr",
          "text": [
            "\r  6%|▋         | 50/795 [00:37<09:49,  1.26it/s]"
          ]
        },
        {
          "output_type": "stream",
          "name": "stdout",
          "text": [
            "Loss: 0.0284\n",
            "acc: 0.9906161797588064\n",
            "Epoch: 0/5............. "
          ]
        },
        {
          "output_type": "stream",
          "name": "stderr",
          "text": [
            "\r  6%|▋         | 51/795 [00:38<09:48,  1.26it/s]"
          ]
        },
        {
          "output_type": "stream",
          "name": "stdout",
          "text": [
            "Loss: 0.0252\n",
            "acc: 0.9914562174032391\n",
            "Epoch: 0/5............. "
          ]
        },
        {
          "output_type": "stream",
          "name": "stderr",
          "text": [
            "\r  7%|▋         | 52/795 [00:39<09:45,  1.27it/s]"
          ]
        },
        {
          "output_type": "stream",
          "name": "stdout",
          "text": [
            "Loss: 0.0297\n",
            "acc: 0.9907309231453295\n",
            "Epoch: 0/5............. "
          ]
        },
        {
          "output_type": "stream",
          "name": "stderr",
          "text": [
            "\r  7%|▋         | 53/795 [00:40<09:45,  1.27it/s]"
          ]
        },
        {
          "output_type": "stream",
          "name": "stdout",
          "text": [
            "Loss: 0.0333\n",
            "acc: 0.9890560875512996\n",
            "Epoch: 0/5............. "
          ]
        },
        {
          "output_type": "stream",
          "name": "stderr",
          "text": [
            "\r  7%|▋         | 54/795 [00:41<09:43,  1.27it/s]"
          ]
        },
        {
          "output_type": "stream",
          "name": "stdout",
          "text": [
            "Loss: 0.0314\n",
            "acc: 0.9897863190431394\n",
            "Epoch: 0/5............. "
          ]
        },
        {
          "output_type": "stream",
          "name": "stderr",
          "text": [
            "\r  7%|▋         | 55/795 [00:41<09:40,  1.28it/s]"
          ]
        },
        {
          "output_type": "stream",
          "name": "stdout",
          "text": [
            "Loss: 0.0242\n",
            "acc: 0.9921216961951786\n",
            "Epoch: 0/5............. "
          ]
        },
        {
          "output_type": "stream",
          "name": "stderr",
          "text": [
            "\r  7%|▋         | 56/795 [00:42<09:40,  1.27it/s]"
          ]
        },
        {
          "output_type": "stream",
          "name": "stdout",
          "text": [
            "Loss: 0.0328\n",
            "acc: 0.9894608695652174\n",
            "Epoch: 0/5............. "
          ]
        },
        {
          "output_type": "stream",
          "name": "stderr",
          "text": [
            "\r  7%|▋         | 57/795 [00:43<09:38,  1.28it/s]"
          ]
        },
        {
          "output_type": "stream",
          "name": "stdout",
          "text": [
            "Loss: 0.0338\n",
            "acc: 0.9885768985322272\n",
            "Epoch: 0/5............. "
          ]
        },
        {
          "output_type": "stream",
          "name": "stderr",
          "text": [
            "\r  7%|▋         | 58/795 [00:44<09:37,  1.28it/s]"
          ]
        },
        {
          "output_type": "stream",
          "name": "stdout",
          "text": [
            "Loss: 0.0309\n",
            "acc: 0.9901068054224291\n",
            "Epoch: 0/5............. "
          ]
        },
        {
          "output_type": "stream",
          "name": "stderr",
          "text": [
            "\r  7%|▋         | 59/795 [00:44<09:34,  1.28it/s]"
          ]
        },
        {
          "output_type": "stream",
          "name": "stdout",
          "text": [
            "Loss: 0.0312\n",
            "acc: 0.9901309231075962\n",
            "Epoch: 0/5............. "
          ]
        },
        {
          "output_type": "stream",
          "name": "stderr",
          "text": [
            "\r  8%|▊         | 60/795 [00:45<09:30,  1.29it/s]"
          ]
        },
        {
          "output_type": "stream",
          "name": "stdout",
          "text": [
            "Loss: 0.0311\n",
            "acc: 0.9904837145832586\n",
            "Epoch: 0/5............. "
          ]
        },
        {
          "output_type": "stream",
          "name": "stderr",
          "text": [
            "\r  8%|▊         | 61/795 [00:46<09:31,  1.28it/s]"
          ]
        },
        {
          "output_type": "stream",
          "name": "stdout",
          "text": [
            "Loss: 0.0286\n",
            "acc: 0.9903955876759224\n",
            "Epoch: 0/5............. "
          ]
        },
        {
          "output_type": "stream",
          "name": "stderr",
          "text": [
            "\r  8%|▊         | 62/795 [00:47<09:29,  1.29it/s]"
          ]
        },
        {
          "output_type": "stream",
          "name": "stdout",
          "text": [
            "Loss: 0.0310\n",
            "acc: 0.9892342420559125\n",
            "Epoch: 0/5............. "
          ]
        },
        {
          "output_type": "stream",
          "name": "stderr",
          "text": [
            "\r  8%|▊         | 63/795 [00:48<09:26,  1.29it/s]"
          ]
        },
        {
          "output_type": "stream",
          "name": "stdout",
          "text": [
            "Loss: 0.0280\n",
            "acc: 0.9906833361877033\n",
            "Epoch: 0/5............. "
          ]
        },
        {
          "output_type": "stream",
          "name": "stderr",
          "text": [
            "\r  8%|▊         | 64/795 [00:48<09:24,  1.29it/s]"
          ]
        },
        {
          "output_type": "stream",
          "name": "stdout",
          "text": [
            "Loss: 0.0330\n",
            "acc: 0.9892250456268427\n",
            "Epoch: 0/5............. "
          ]
        },
        {
          "output_type": "stream",
          "name": "stderr",
          "text": [
            "\r  8%|▊         | 65/795 [00:49<09:22,  1.30it/s]"
          ]
        },
        {
          "output_type": "stream",
          "name": "stdout",
          "text": [
            "Loss: 0.0316\n",
            "acc: 0.9897026967632562\n",
            "Epoch: 0/5............. "
          ]
        },
        {
          "output_type": "stream",
          "name": "stderr",
          "text": [
            "\r  8%|▊         | 66/795 [00:50<09:19,  1.30it/s]"
          ]
        },
        {
          "output_type": "stream",
          "name": "stdout",
          "text": [
            "Loss: 0.0288\n",
            "acc: 0.9900628212450029\n",
            "Epoch: 0/5............. "
          ]
        },
        {
          "output_type": "stream",
          "name": "stderr",
          "text": [
            "\r  8%|▊         | 67/795 [00:51<09:19,  1.30it/s]"
          ]
        },
        {
          "output_type": "stream",
          "name": "stdout",
          "text": [
            "Loss: 0.0225\n",
            "acc: 0.9928613304824637\n",
            "Epoch: 0/5............. "
          ]
        },
        {
          "output_type": "stream",
          "name": "stderr",
          "text": [
            "\r  9%|▊         | 68/795 [00:51<09:16,  1.31it/s]"
          ]
        },
        {
          "output_type": "stream",
          "name": "stdout",
          "text": [
            "Loss: 0.0238\n",
            "acc: 0.9922948317220324\n",
            "Epoch: 0/5............. "
          ]
        },
        {
          "output_type": "stream",
          "name": "stderr",
          "text": [
            "\r  9%|▊         | 69/795 [00:52<09:14,  1.31it/s]"
          ]
        },
        {
          "output_type": "stream",
          "name": "stdout",
          "text": [
            "Loss: 0.0248\n",
            "acc: 0.9917446535957015\n",
            "Epoch: 0/5............. "
          ]
        },
        {
          "output_type": "stream",
          "name": "stderr",
          "text": [
            "\r  9%|▉         | 70/795 [00:53<09:12,  1.31it/s]"
          ]
        },
        {
          "output_type": "stream",
          "name": "stdout",
          "text": [
            "Loss: 0.0283\n",
            "acc: 0.9905971563981043\n",
            "Epoch: 0/5............. "
          ]
        },
        {
          "output_type": "stream",
          "name": "stderr",
          "text": [
            "\r  9%|▉         | 71/795 [00:54<09:11,  1.31it/s]"
          ]
        },
        {
          "output_type": "stream",
          "name": "stdout",
          "text": [
            "Loss: 0.0370\n",
            "acc: 0.9898420248004077\n",
            "Epoch: 0/5............. "
          ]
        },
        {
          "output_type": "stream",
          "name": "stderr",
          "text": [
            "\r  9%|▉         | 72/795 [00:54<09:11,  1.31it/s]"
          ]
        },
        {
          "output_type": "stream",
          "name": "stdout",
          "text": [
            "Loss: 0.0247\n",
            "acc: 0.9923175849465277\n",
            "Epoch: 0/5............. "
          ]
        },
        {
          "output_type": "stream",
          "name": "stderr",
          "text": [
            "\r  9%|▉         | 73/795 [00:55<09:07,  1.32it/s]"
          ]
        },
        {
          "output_type": "stream",
          "name": "stdout",
          "text": [
            "Loss: 0.0271\n",
            "acc: 0.9914146929246527\n",
            "Epoch: 0/5............. "
          ]
        },
        {
          "output_type": "stream",
          "name": "stderr",
          "text": [
            "\r  9%|▉         | 74/795 [00:56<09:05,  1.32it/s]"
          ]
        },
        {
          "output_type": "stream",
          "name": "stdout",
          "text": [
            "Loss: 0.0298\n",
            "acc: 0.9906055073786704\n",
            "Epoch: 0/5............. "
          ]
        },
        {
          "output_type": "stream",
          "name": "stderr",
          "text": [
            "\r  9%|▉         | 75/795 [00:57<09:05,  1.32it/s]"
          ]
        },
        {
          "output_type": "stream",
          "name": "stdout",
          "text": [
            "Loss: 0.0292\n",
            "acc: 0.9910745593063658\n",
            "Epoch: 0/5............. "
          ]
        },
        {
          "output_type": "stream",
          "name": "stderr",
          "text": [
            "\r 10%|▉         | 76/795 [00:57<09:03,  1.32it/s]"
          ]
        },
        {
          "output_type": "stream",
          "name": "stdout",
          "text": [
            "Loss: 0.0269\n",
            "acc: 0.9911741862599732\n",
            "Epoch: 0/5............. "
          ]
        },
        {
          "output_type": "stream",
          "name": "stderr",
          "text": [
            "\r 10%|▉         | 77/795 [00:58<09:03,  1.32it/s]"
          ]
        },
        {
          "output_type": "stream",
          "name": "stdout",
          "text": [
            "Loss: 0.0299\n",
            "acc: 0.9895520349631248\n",
            "Epoch: 0/5............. "
          ]
        },
        {
          "output_type": "stream",
          "name": "stderr",
          "text": [
            "\r 10%|▉         | 78/795 [00:59<09:01,  1.32it/s]"
          ]
        },
        {
          "output_type": "stream",
          "name": "stdout",
          "text": [
            "Loss: 0.0279\n",
            "acc: 0.9911615328804169\n",
            "Epoch: 0/5............. "
          ]
        },
        {
          "output_type": "stream",
          "name": "stderr",
          "text": [
            "\r 10%|▉         | 79/795 [01:00<09:00,  1.33it/s]"
          ]
        },
        {
          "output_type": "stream",
          "name": "stdout",
          "text": [
            "Loss: 0.0291\n",
            "acc: 0.9900956630497245\n",
            "Epoch: 0/5............. "
          ]
        },
        {
          "output_type": "stream",
          "name": "stderr",
          "text": [
            "\r 10%|█         | 80/795 [01:00<08:56,  1.33it/s]"
          ]
        },
        {
          "output_type": "stream",
          "name": "stdout",
          "text": [
            "Loss: 0.0280\n",
            "acc: 0.9907330279050396\n",
            "Epoch: 0/5............. "
          ]
        },
        {
          "output_type": "stream",
          "name": "stderr",
          "text": [
            "\r 10%|█         | 81/795 [01:01<08:56,  1.33it/s]"
          ]
        },
        {
          "output_type": "stream",
          "name": "stdout",
          "text": [
            "Loss: 0.0317\n",
            "acc: 0.9900391102419946\n",
            "Epoch: 0/5............. "
          ]
        },
        {
          "output_type": "stream",
          "name": "stderr",
          "text": [
            "\r 10%|█         | 82/795 [01:02<08:56,  1.33it/s]"
          ]
        },
        {
          "output_type": "stream",
          "name": "stdout",
          "text": [
            "Loss: 0.0288\n",
            "acc: 0.9905362776025236\n",
            "Epoch: 0/5............. "
          ]
        },
        {
          "output_type": "stream",
          "name": "stderr",
          "text": [
            "\r 10%|█         | 83/795 [01:03<08:54,  1.33it/s]"
          ]
        },
        {
          "output_type": "stream",
          "name": "stdout",
          "text": [
            "Loss: 0.0275\n",
            "acc: 0.9909228441754917\n",
            "Epoch: 0/5............. "
          ]
        },
        {
          "output_type": "stream",
          "name": "stderr",
          "text": [
            "\r 11%|█         | 84/795 [01:03<08:49,  1.34it/s]"
          ]
        },
        {
          "output_type": "stream",
          "name": "stdout",
          "text": [
            "Loss: 0.0293\n",
            "acc: 0.990952175786299\n",
            "Epoch: 0/5............. "
          ]
        },
        {
          "output_type": "stream",
          "name": "stderr",
          "text": [
            "\r 11%|█         | 85/795 [01:04<08:50,  1.34it/s]"
          ]
        },
        {
          "output_type": "stream",
          "name": "stdout",
          "text": [
            "Loss: 0.0239\n",
            "acc: 0.99213185665809\n",
            "Epoch: 0/5............. "
          ]
        },
        {
          "output_type": "stream",
          "name": "stderr",
          "text": [
            "\r 11%|█         | 86/795 [01:05<08:48,  1.34it/s]"
          ]
        },
        {
          "output_type": "stream",
          "name": "stdout",
          "text": [
            "Loss: 0.0321\n",
            "acc: 0.990080956895923\n",
            "Epoch: 0/5............. "
          ]
        },
        {
          "output_type": "stream",
          "name": "stderr",
          "text": [
            "\r 11%|█         | 87/795 [01:06<08:44,  1.35it/s]"
          ]
        },
        {
          "output_type": "stream",
          "name": "stdout",
          "text": [
            "Loss: 0.0283\n",
            "acc: 0.9898903132020616\n",
            "Epoch: 0/5............. "
          ]
        },
        {
          "output_type": "stream",
          "name": "stderr",
          "text": [
            "\r 11%|█         | 88/795 [01:06<08:45,  1.35it/s]"
          ]
        },
        {
          "output_type": "stream",
          "name": "stdout",
          "text": [
            "Loss: 0.0268\n",
            "acc: 0.9915406698564593\n",
            "Epoch: 0/5............. "
          ]
        },
        {
          "output_type": "stream",
          "name": "stderr",
          "text": [
            "\r 11%|█         | 89/795 [01:07<08:44,  1.35it/s]"
          ]
        },
        {
          "output_type": "stream",
          "name": "stdout",
          "text": [
            "Loss: 0.0327\n",
            "acc: 0.9891614906832298\n",
            "Epoch: 0/5............. "
          ]
        },
        {
          "output_type": "stream",
          "name": "stderr",
          "text": [
            "\r 11%|█▏        | 90/795 [01:08<08:43,  1.35it/s]"
          ]
        },
        {
          "output_type": "stream",
          "name": "stdout",
          "text": [
            "Loss: 0.0236\n",
            "acc: 0.9922352248472804\n",
            "Epoch: 0/5............. "
          ]
        },
        {
          "output_type": "stream",
          "name": "stderr",
          "text": [
            "\r 11%|█▏        | 91/795 [01:09<08:41,  1.35it/s]"
          ]
        },
        {
          "output_type": "stream",
          "name": "stdout",
          "text": [
            "Loss: 0.0272\n",
            "acc: 0.9915931063472047\n",
            "Epoch: 0/5............. "
          ]
        },
        {
          "output_type": "stream",
          "name": "stderr",
          "text": [
            "\r 12%|█▏        | 92/795 [01:09<08:43,  1.34it/s]"
          ]
        },
        {
          "output_type": "stream",
          "name": "stdout",
          "text": [
            "Loss: 0.0304\n",
            "acc: 0.9898566308243728\n",
            "Epoch: 0/5............. "
          ]
        },
        {
          "output_type": "stream",
          "name": "stderr",
          "text": [
            "\r 12%|█▏        | 93/795 [01:10<08:39,  1.35it/s]"
          ]
        },
        {
          "output_type": "stream",
          "name": "stdout",
          "text": [
            "Loss: 0.0323\n",
            "acc: 0.9887826597176682\n",
            "Epoch: 0/5............. "
          ]
        },
        {
          "output_type": "stream",
          "name": "stderr",
          "text": [
            "\r 12%|█▏        | 94/795 [01:11<08:40,  1.35it/s]"
          ]
        },
        {
          "output_type": "stream",
          "name": "stdout",
          "text": [
            "Loss: 0.0263\n",
            "acc: 0.991280711663372\n",
            "Epoch: 0/5............. "
          ]
        },
        {
          "output_type": "stream",
          "name": "stderr",
          "text": [
            "\r 12%|█▏        | 95/795 [01:12<08:38,  1.35it/s]"
          ]
        },
        {
          "output_type": "stream",
          "name": "stdout",
          "text": [
            "Loss: 0.0242\n",
            "acc: 0.9921949432026383\n",
            "Epoch: 0/5............. "
          ]
        },
        {
          "output_type": "stream",
          "name": "stderr",
          "text": [
            "\r 12%|█▏        | 96/795 [01:12<08:38,  1.35it/s]"
          ]
        },
        {
          "output_type": "stream",
          "name": "stdout",
          "text": [
            "Loss: 0.0302\n",
            "acc: 0.9904608826304203\n",
            "Epoch: 0/5............. "
          ]
        },
        {
          "output_type": "stream",
          "name": "stderr",
          "text": [
            "\r 12%|█▏        | 97/795 [01:13<08:37,  1.35it/s]"
          ]
        },
        {
          "output_type": "stream",
          "name": "stdout",
          "text": [
            "Loss: 0.0304\n",
            "acc: 0.990139211136891\n",
            "Epoch: 0/5............. "
          ]
        },
        {
          "output_type": "stream",
          "name": "stderr",
          "text": [
            "\r 12%|█▏        | 98/795 [01:14<08:38,  1.34it/s]"
          ]
        },
        {
          "output_type": "stream",
          "name": "stdout",
          "text": [
            "Loss: 0.0297\n",
            "acc: 0.9911443530291698\n",
            "Epoch: 0/5............. "
          ]
        },
        {
          "output_type": "stream",
          "name": "stderr",
          "text": [
            "\r 12%|█▏        | 99/795 [01:15<08:37,  1.35it/s]"
          ]
        },
        {
          "output_type": "stream",
          "name": "stdout",
          "text": [
            "Loss: 0.0266\n",
            "acc: 0.9909969640925428\n",
            "Epoch: 0/5............. "
          ]
        },
        {
          "output_type": "stream",
          "name": "stderr",
          "text": [
            "\r 13%|█▎        | 100/795 [01:15<08:36,  1.35it/s]"
          ]
        },
        {
          "output_type": "stream",
          "name": "stdout",
          "text": [
            "Loss: 0.0271\n",
            "acc: 0.9907188297120378\n",
            "Epoch: 0/5............. "
          ]
        },
        {
          "output_type": "stream",
          "name": "stderr",
          "text": [
            "\r 13%|█▎        | 101/795 [01:16<08:35,  1.35it/s]"
          ]
        },
        {
          "output_type": "stream",
          "name": "stdout",
          "text": [
            "Loss: 0.0263\n",
            "acc: 0.9914185371812491\n",
            "Epoch: 0/5............. "
          ]
        },
        {
          "output_type": "stream",
          "name": "stderr",
          "text": [
            "\r 13%|█▎        | 102/795 [01:17<08:35,  1.34it/s]"
          ]
        },
        {
          "output_type": "stream",
          "name": "stdout",
          "text": [
            "Loss: 0.0297\n",
            "acc: 0.9896513404639533\n",
            "Epoch: 0/5............. "
          ]
        },
        {
          "output_type": "stream",
          "name": "stderr",
          "text": [
            "\r 13%|█▎        | 103/795 [01:18<08:34,  1.34it/s]"
          ]
        },
        {
          "output_type": "stream",
          "name": "stdout",
          "text": [
            "Loss: 0.0259\n",
            "acc: 0.9915315383739035\n",
            "Epoch: 0/5............. "
          ]
        },
        {
          "output_type": "stream",
          "name": "stderr",
          "text": [
            "\r 13%|█▎        | 104/795 [01:18<08:31,  1.35it/s]"
          ]
        },
        {
          "output_type": "stream",
          "name": "stdout",
          "text": [
            "Loss: 0.0260\n",
            "acc: 0.9921074786024976\n",
            "Epoch: 0/5............. "
          ]
        },
        {
          "output_type": "stream",
          "name": "stderr",
          "text": [
            "\r 13%|█▎        | 105/795 [01:19<08:32,  1.35it/s]"
          ]
        },
        {
          "output_type": "stream",
          "name": "stdout",
          "text": [
            "Loss: 0.0323\n",
            "acc: 0.9897993879632778\n",
            "Epoch: 0/5............. "
          ]
        },
        {
          "output_type": "stream",
          "name": "stderr",
          "text": [
            "\r 13%|█▎        | 106/795 [01:20<08:31,  1.35it/s]"
          ]
        },
        {
          "output_type": "stream",
          "name": "stdout",
          "text": [
            "Loss: 0.0274\n",
            "acc: 0.9917765393502787\n",
            "Epoch: 0/5............. "
          ]
        },
        {
          "output_type": "stream",
          "name": "stderr",
          "text": [
            "\r 13%|█▎        | 107/795 [01:20<08:30,  1.35it/s]"
          ]
        },
        {
          "output_type": "stream",
          "name": "stdout",
          "text": [
            "Loss: 0.0266\n",
            "acc: 0.9913472108940034\n",
            "Epoch: 0/5............. "
          ]
        },
        {
          "output_type": "stream",
          "name": "stderr",
          "text": [
            "\r 14%|█▎        | 108/795 [01:21<08:30,  1.35it/s]"
          ]
        },
        {
          "output_type": "stream",
          "name": "stdout",
          "text": [
            "Loss: 0.0260\n",
            "acc: 0.9919354838709677\n",
            "Epoch: 0/5............. "
          ]
        },
        {
          "output_type": "stream",
          "name": "stderr",
          "text": [
            "\r 14%|█▎        | 109/795 [01:22<08:28,  1.35it/s]"
          ]
        },
        {
          "output_type": "stream",
          "name": "stdout",
          "text": [
            "Loss: 0.0290\n",
            "acc: 0.99109930255729\n",
            "Epoch: 0/5............. "
          ]
        },
        {
          "output_type": "stream",
          "name": "stderr",
          "text": [
            "\r 14%|█▍        | 110/795 [01:23<08:30,  1.34it/s]"
          ]
        },
        {
          "output_type": "stream",
          "name": "stdout",
          "text": [
            "Loss: 0.0266\n",
            "acc: 0.9915298729480942\n",
            "Epoch: 0/5............. "
          ]
        },
        {
          "output_type": "stream",
          "name": "stderr",
          "text": [
            "\r 14%|█▍        | 111/795 [01:23<08:29,  1.34it/s]"
          ]
        },
        {
          "output_type": "stream",
          "name": "stdout",
          "text": [
            "Loss: 0.0309\n",
            "acc: 0.9894082511459925\n",
            "Epoch: 0/5............. "
          ]
        },
        {
          "output_type": "stream",
          "name": "stderr",
          "text": [
            "\r 14%|█▍        | 112/795 [01:24<08:30,  1.34it/s]"
          ]
        },
        {
          "output_type": "stream",
          "name": "stdout",
          "text": [
            "Loss: 0.0275\n",
            "acc: 0.9906000424058238\n",
            "Epoch: 0/5............. "
          ]
        },
        {
          "output_type": "stream",
          "name": "stderr",
          "text": [
            "\r 14%|█▍        | 113/795 [01:25<08:29,  1.34it/s]"
          ]
        },
        {
          "output_type": "stream",
          "name": "stdout",
          "text": [
            "Loss: 0.0270\n",
            "acc: 0.9914112554112554\n",
            "Epoch: 0/5............. "
          ]
        },
        {
          "output_type": "stream",
          "name": "stderr",
          "text": [
            "\r 14%|█▍        | 114/795 [01:26<08:25,  1.35it/s]"
          ]
        },
        {
          "output_type": "stream",
          "name": "stdout",
          "text": [
            "Loss: 0.0297\n",
            "acc: 0.991389913899139\n",
            "Epoch: 0/5............. "
          ]
        },
        {
          "output_type": "stream",
          "name": "stderr",
          "text": [
            "\r 14%|█▍        | 115/795 [01:26<08:27,  1.34it/s]"
          ]
        },
        {
          "output_type": "stream",
          "name": "stdout",
          "text": [
            "Loss: 0.0271\n",
            "acc: 0.9913778117720683\n",
            "Epoch: 0/5............. "
          ]
        },
        {
          "output_type": "stream",
          "name": "stderr",
          "text": [
            "\r 15%|█▍        | 116/795 [01:27<08:25,  1.34it/s]"
          ]
        },
        {
          "output_type": "stream",
          "name": "stdout",
          "text": [
            "Loss: 0.0308\n",
            "acc: 0.9908805140073923\n",
            "Epoch: 0/5............. "
          ]
        },
        {
          "output_type": "stream",
          "name": "stderr",
          "text": [
            "\r 15%|█▍        | 117/795 [01:28<08:26,  1.34it/s]"
          ]
        },
        {
          "output_type": "stream",
          "name": "stdout",
          "text": [
            "Loss: 0.0267\n",
            "acc: 0.9920096021947874\n",
            "Epoch: 0/5............. "
          ]
        },
        {
          "output_type": "stream",
          "name": "stderr",
          "text": [
            "\r 15%|█▍        | 118/795 [01:29<08:24,  1.34it/s]"
          ]
        },
        {
          "output_type": "stream",
          "name": "stdout",
          "text": [
            "Loss: 0.0235\n",
            "acc: 0.9923490406874093\n",
            "Epoch: 0/5............. "
          ]
        },
        {
          "output_type": "stream",
          "name": "stderr",
          "text": [
            "\r 15%|█▍        | 119/795 [01:29<08:24,  1.34it/s]"
          ]
        },
        {
          "output_type": "stream",
          "name": "stdout",
          "text": [
            "Loss: 0.0279\n",
            "acc: 0.9911193208056552\n",
            "Epoch: 0/5............. "
          ]
        },
        {
          "output_type": "stream",
          "name": "stderr",
          "text": [
            "\r 15%|█▌        | 120/795 [01:30<08:21,  1.35it/s]"
          ]
        },
        {
          "output_type": "stream",
          "name": "stdout",
          "text": [
            "Loss: 0.0340\n",
            "acc: 0.9890601690701144\n",
            "Epoch: 0/5............. "
          ]
        },
        {
          "output_type": "stream",
          "name": "stderr",
          "text": [
            "\r 15%|█▌        | 121/795 [01:31<08:22,  1.34it/s]"
          ]
        },
        {
          "output_type": "stream",
          "name": "stdout",
          "text": [
            "Loss: 0.0268\n",
            "acc: 0.9911092294665538\n",
            "Epoch: 0/5............. "
          ]
        },
        {
          "output_type": "stream",
          "name": "stderr",
          "text": [
            "\r 15%|█▌        | 122/795 [01:32<08:21,  1.34it/s]"
          ]
        },
        {
          "output_type": "stream",
          "name": "stdout",
          "text": [
            "Loss: 0.0331\n",
            "acc: 0.9902662669723152\n",
            "Epoch: 0/5............. "
          ]
        },
        {
          "output_type": "stream",
          "name": "stderr",
          "text": [
            "\r 15%|█▌        | 123/795 [01:32<08:21,  1.34it/s]"
          ]
        },
        {
          "output_type": "stream",
          "name": "stdout",
          "text": [
            "Loss: 0.0287\n",
            "acc: 0.9907089923681008\n",
            "Epoch: 0/5............. "
          ]
        },
        {
          "output_type": "stream",
          "name": "stderr",
          "text": [
            "\r 16%|█▌        | 124/795 [01:33<08:21,  1.34it/s]"
          ]
        },
        {
          "output_type": "stream",
          "name": "stdout",
          "text": [
            "Loss: 0.0266\n",
            "acc: 0.99240251759711\n",
            "Epoch: 0/5............. "
          ]
        },
        {
          "output_type": "stream",
          "name": "stderr",
          "text": [
            "\r 16%|█▌        | 125/795 [01:34<08:22,  1.33it/s]"
          ]
        },
        {
          "output_type": "stream",
          "name": "stdout",
          "text": [
            "Loss: 0.0290\n",
            "acc: 0.9898920616584239\n",
            "Epoch: 0/5............. "
          ]
        },
        {
          "output_type": "stream",
          "name": "stderr",
          "text": [
            "\r 16%|█▌        | 126/795 [01:35<08:21,  1.33it/s]"
          ]
        },
        {
          "output_type": "stream",
          "name": "stdout",
          "text": [
            "Loss: 0.0298\n",
            "acc: 0.9902471834538423\n",
            "Epoch: 0/5............. "
          ]
        },
        {
          "output_type": "stream",
          "name": "stderr",
          "text": [
            "\r 16%|█▌        | 127/795 [01:35<08:21,  1.33it/s]"
          ]
        },
        {
          "output_type": "stream",
          "name": "stdout",
          "text": [
            "Loss: 0.0288\n",
            "acc: 0.9911351430883543\n",
            "Epoch: 0/5............. "
          ]
        },
        {
          "output_type": "stream",
          "name": "stderr",
          "text": [
            "\r 16%|█▌        | 128/795 [01:36<08:20,  1.33it/s]"
          ]
        },
        {
          "output_type": "stream",
          "name": "stdout",
          "text": [
            "Loss: 0.0326\n",
            "acc: 0.9905500705218617\n",
            "Epoch: 0/5............. "
          ]
        },
        {
          "output_type": "stream",
          "name": "stderr",
          "text": [
            "\r 16%|█▌        | 129/795 [01:37<08:18,  1.34it/s]"
          ]
        },
        {
          "output_type": "stream",
          "name": "stdout",
          "text": [
            "Loss: 0.0304\n",
            "acc: 0.9905657006039381\n",
            "Epoch: 0/5............. "
          ]
        },
        {
          "output_type": "stream",
          "name": "stderr",
          "text": [
            "\r 16%|█▋        | 130/795 [01:38<08:18,  1.33it/s]"
          ]
        },
        {
          "output_type": "stream",
          "name": "stdout",
          "text": [
            "Loss: 0.0270\n",
            "acc: 0.9910224068852945\n",
            "Epoch: 0/5............. "
          ]
        },
        {
          "output_type": "stream",
          "name": "stderr",
          "text": [
            "\r 16%|█▋        | 131/795 [01:38<08:19,  1.33it/s]"
          ]
        },
        {
          "output_type": "stream",
          "name": "stdout",
          "text": [
            "Loss: 0.0271\n",
            "acc: 0.9907921462423832\n",
            "Epoch: 0/5............. "
          ]
        },
        {
          "output_type": "stream",
          "name": "stderr",
          "text": [
            "\r 17%|█▋        | 132/795 [01:39<08:21,  1.32it/s]"
          ]
        },
        {
          "output_type": "stream",
          "name": "stdout",
          "text": [
            "Loss: 0.0270\n",
            "acc: 0.9916255171493393\n",
            "Epoch: 0/5............. "
          ]
        },
        {
          "output_type": "stream",
          "name": "stderr",
          "text": [
            "\r 17%|█▋        | 133/795 [01:40<08:19,  1.32it/s]"
          ]
        },
        {
          "output_type": "stream",
          "name": "stdout",
          "text": [
            "Loss: 0.0303\n",
            "acc: 0.990314248816186\n",
            "Epoch: 0/5............. "
          ]
        },
        {
          "output_type": "stream",
          "name": "stderr",
          "text": [
            "\r 17%|█▋        | 134/795 [01:41<08:20,  1.32it/s]"
          ]
        },
        {
          "output_type": "stream",
          "name": "stdout",
          "text": [
            "Loss: 0.0274\n",
            "acc: 0.9910997033234441\n",
            "Epoch: 0/5............. "
          ]
        },
        {
          "output_type": "stream",
          "name": "stderr",
          "text": [
            "\r 17%|█▋        | 135/795 [01:41<08:20,  1.32it/s]"
          ]
        },
        {
          "output_type": "stream",
          "name": "stdout",
          "text": [
            "Loss: 0.0262\n",
            "acc: 0.9917817561807332\n",
            "Epoch: 0/5............. "
          ]
        },
        {
          "output_type": "stream",
          "name": "stderr",
          "text": [
            "\r 17%|█▋        | 136/795 [01:42<08:19,  1.32it/s]"
          ]
        },
        {
          "output_type": "stream",
          "name": "stdout",
          "text": [
            "Loss: 0.0260\n",
            "acc: 0.9918929583527639\n",
            "Epoch: 0/5............. "
          ]
        },
        {
          "output_type": "stream",
          "name": "stderr",
          "text": [
            "\r 17%|█▋        | 137/795 [01:43<08:17,  1.32it/s]"
          ]
        },
        {
          "output_type": "stream",
          "name": "stdout",
          "text": [
            "Loss: 0.0250\n",
            "acc: 0.9917993079584775\n",
            "Epoch: 0/5............. "
          ]
        },
        {
          "output_type": "stream",
          "name": "stderr",
          "text": [
            "\r 17%|█▋        | 138/795 [01:44<08:18,  1.32it/s]"
          ]
        },
        {
          "output_type": "stream",
          "name": "stdout",
          "text": [
            "Loss: 0.0305\n",
            "acc: 0.9902417311511333\n",
            "Epoch: 0/5............. "
          ]
        },
        {
          "output_type": "stream",
          "name": "stderr",
          "text": [
            "\r 17%|█▋        | 139/795 [01:44<08:16,  1.32it/s]"
          ]
        },
        {
          "output_type": "stream",
          "name": "stdout",
          "text": [
            "Loss: 0.0256\n",
            "acc: 0.9924258289703316\n",
            "Epoch: 0/5............. "
          ]
        },
        {
          "output_type": "stream",
          "name": "stderr",
          "text": [
            "\r 18%|█▊        | 140/795 [01:45<08:16,  1.32it/s]"
          ]
        },
        {
          "output_type": "stream",
          "name": "stdout",
          "text": [
            "Loss: 0.0325\n",
            "acc: 0.990058024341919\n",
            "Epoch: 0/5............. "
          ]
        },
        {
          "output_type": "stream",
          "name": "stderr",
          "text": [
            "\r 18%|█▊        | 141/795 [01:46<08:17,  1.31it/s]"
          ]
        },
        {
          "output_type": "stream",
          "name": "stdout",
          "text": [
            "Loss: 0.0271\n",
            "acc: 0.9908339386392723\n",
            "Epoch: 0/5............. "
          ]
        },
        {
          "output_type": "stream",
          "name": "stderr",
          "text": [
            "\r 18%|█▊        | 142/795 [01:47<08:15,  1.32it/s]"
          ]
        },
        {
          "output_type": "stream",
          "name": "stdout",
          "text": [
            "Loss: 0.0332\n",
            "acc: 0.9899562104677834\n",
            "Epoch: 0/5............. "
          ]
        },
        {
          "output_type": "stream",
          "name": "stderr",
          "text": [
            "\r 18%|█▊        | 143/795 [01:48<08:16,  1.31it/s]"
          ]
        },
        {
          "output_type": "stream",
          "name": "stdout",
          "text": [
            "Loss: 0.0330\n",
            "acc: 0.9891392610637434\n",
            "Epoch: 0/5............. "
          ]
        },
        {
          "output_type": "stream",
          "name": "stderr",
          "text": [
            "\r 18%|█▊        | 144/795 [01:48<08:14,  1.32it/s]"
          ]
        },
        {
          "output_type": "stream",
          "name": "stdout",
          "text": [
            "Loss: 0.0295\n",
            "acc: 0.9902809683689697\n",
            "Epoch: 0/5............. "
          ]
        },
        {
          "output_type": "stream",
          "name": "stderr",
          "text": [
            "\r 18%|█▊        | 145/795 [01:49<08:13,  1.32it/s]"
          ]
        },
        {
          "output_type": "stream",
          "name": "stdout",
          "text": [
            "Loss: 0.0295\n",
            "acc: 0.9904276157741065\n",
            "Epoch: 0/5............. "
          ]
        },
        {
          "output_type": "stream",
          "name": "stderr",
          "text": [
            "\r 18%|█▊        | 146/795 [01:50<08:14,  1.31it/s]"
          ]
        },
        {
          "output_type": "stream",
          "name": "stdout",
          "text": [
            "Loss: 0.0323\n",
            "acc: 0.9891015832370483\n",
            "Epoch: 0/5............. "
          ]
        },
        {
          "output_type": "stream",
          "name": "stderr",
          "text": [
            "\r 18%|█▊        | 147/795 [01:51<08:14,  1.31it/s]"
          ]
        },
        {
          "output_type": "stream",
          "name": "stdout",
          "text": [
            "Loss: 0.0363\n",
            "acc: 0.9893443555420728\n",
            "Epoch: 0/5............. "
          ]
        },
        {
          "output_type": "stream",
          "name": "stderr",
          "text": [
            "\r 19%|█▊        | 148/795 [01:51<08:14,  1.31it/s]"
          ]
        },
        {
          "output_type": "stream",
          "name": "stdout",
          "text": [
            "Loss: 0.0332\n",
            "acc: 0.9890549044168083\n",
            "Epoch: 0/5............. "
          ]
        },
        {
          "output_type": "stream",
          "name": "stderr",
          "text": [
            "\r 19%|█▊        | 149/795 [01:52<08:13,  1.31it/s]"
          ]
        },
        {
          "output_type": "stream",
          "name": "stdout",
          "text": [
            "Loss: 0.0332\n",
            "acc: 0.9886653036335593\n",
            "Epoch: 0/5............. "
          ]
        },
        {
          "output_type": "stream",
          "name": "stderr",
          "text": [
            "\r 19%|█▉        | 150/795 [01:53<08:13,  1.31it/s]"
          ]
        },
        {
          "output_type": "stream",
          "name": "stdout",
          "text": [
            "Loss: 0.0304\n",
            "acc: 0.9909262356332064\n",
            "Epoch: 0/5............. "
          ]
        },
        {
          "output_type": "stream",
          "name": "stderr",
          "text": [
            "\r 19%|█▉        | 151/795 [01:54<08:09,  1.32it/s]"
          ]
        },
        {
          "output_type": "stream",
          "name": "stdout",
          "text": [
            "Loss: 0.0344\n",
            "acc: 0.9886066095817706\n",
            "Epoch: 0/5............. "
          ]
        },
        {
          "output_type": "stream",
          "name": "stderr",
          "text": [
            "\r 19%|█▉        | 152/795 [01:54<08:10,  1.31it/s]"
          ]
        },
        {
          "output_type": "stream",
          "name": "stdout",
          "text": [
            "Loss: 0.0310\n",
            "acc: 0.9896569737071217\n",
            "Epoch: 0/5............. "
          ]
        },
        {
          "output_type": "stream",
          "name": "stderr",
          "text": [
            "\r 19%|█▉        | 153/795 [01:55<08:10,  1.31it/s]"
          ]
        },
        {
          "output_type": "stream",
          "name": "stdout",
          "text": [
            "Loss: 0.0265\n",
            "acc: 0.9913710108753788\n",
            "Epoch: 0/5............. "
          ]
        },
        {
          "output_type": "stream",
          "name": "stderr",
          "text": [
            "\r 19%|█▉        | 154/795 [01:56<08:10,  1.31it/s]"
          ]
        },
        {
          "output_type": "stream",
          "name": "stdout",
          "text": [
            "Loss: 0.0275\n",
            "acc: 0.9917652343165144\n",
            "Epoch: 0/5............. "
          ]
        },
        {
          "output_type": "stream",
          "name": "stderr",
          "text": [
            "\r 19%|█▉        | 155/795 [01:57<08:08,  1.31it/s]"
          ]
        },
        {
          "output_type": "stream",
          "name": "stdout",
          "text": [
            "Loss: 0.0293\n",
            "acc: 0.9905645640016246\n",
            "Epoch: 0/5............. "
          ]
        },
        {
          "output_type": "stream",
          "name": "stderr",
          "text": [
            "\r 20%|█▉        | 156/795 [01:57<08:06,  1.31it/s]"
          ]
        },
        {
          "output_type": "stream",
          "name": "stdout",
          "text": [
            "Loss: 0.0312\n",
            "acc: 0.9888259462151394\n",
            "Epoch: 0/5............. "
          ]
        },
        {
          "output_type": "stream",
          "name": "stderr",
          "text": [
            "\r 20%|█▉        | 157/795 [01:58<08:05,  1.31it/s]"
          ]
        },
        {
          "output_type": "stream",
          "name": "stdout",
          "text": [
            "Loss: 0.0309\n",
            "acc: 0.9890912697100922\n",
            "Epoch: 0/5............. "
          ]
        },
        {
          "output_type": "stream",
          "name": "stderr",
          "text": [
            "\r 20%|█▉        | 158/795 [01:59<08:03,  1.32it/s]"
          ]
        },
        {
          "output_type": "stream",
          "name": "stdout",
          "text": [
            "Loss: 0.0217\n",
            "acc: 0.99294621979735\n",
            "Epoch: 0/5............. "
          ]
        },
        {
          "output_type": "stream",
          "name": "stderr",
          "text": [
            "\r 20%|██        | 159/795 [02:00<08:00,  1.32it/s]"
          ]
        },
        {
          "output_type": "stream",
          "name": "stdout",
          "text": [
            "Loss: 0.0269\n",
            "acc: 0.9914396246604659\n",
            "Epoch: 0/5............. "
          ]
        },
        {
          "output_type": "stream",
          "name": "stderr",
          "text": [
            "\r 20%|██        | 160/795 [02:00<08:02,  1.32it/s]"
          ]
        },
        {
          "output_type": "stream",
          "name": "stdout",
          "text": [
            "Loss: 0.0307\n",
            "acc: 0.9898920808633531\n",
            "Epoch: 0/5............. "
          ]
        },
        {
          "output_type": "stream",
          "name": "stderr",
          "text": [
            "\r 20%|██        | 161/795 [02:01<07:59,  1.32it/s]"
          ]
        },
        {
          "output_type": "stream",
          "name": "stdout",
          "text": [
            "Loss: 0.0258\n",
            "acc: 0.9915126019410311\n",
            "Epoch: 0/5............. "
          ]
        },
        {
          "output_type": "stream",
          "name": "stderr",
          "text": [
            "\r 20%|██        | 162/795 [02:02<07:58,  1.32it/s]"
          ]
        },
        {
          "output_type": "stream",
          "name": "stdout",
          "text": [
            "Loss: 0.0302\n",
            "acc: 0.989548919949174\n",
            "Epoch: 0/5............. "
          ]
        },
        {
          "output_type": "stream",
          "name": "stderr",
          "text": [
            "\r 21%|██        | 163/795 [02:03<07:58,  1.32it/s]"
          ]
        },
        {
          "output_type": "stream",
          "name": "stdout",
          "text": [
            "Loss: 0.0251\n",
            "acc: 0.9917031332049712\n",
            "Epoch: 0/5............. "
          ]
        },
        {
          "output_type": "stream",
          "name": "stderr",
          "text": [
            "\r 21%|██        | 164/795 [02:04<07:59,  1.32it/s]"
          ]
        },
        {
          "output_type": "stream",
          "name": "stdout",
          "text": [
            "Loss: 0.0253\n",
            "acc: 0.9918374685364977\n",
            "Epoch: 0/5............. "
          ]
        },
        {
          "output_type": "stream",
          "name": "stderr",
          "text": [
            "\r 21%|██        | 165/795 [02:04<07:59,  1.31it/s]"
          ]
        },
        {
          "output_type": "stream",
          "name": "stdout",
          "text": [
            "Loss: 0.0304\n",
            "acc: 0.9902246772591857\n",
            "Epoch: 0/5............. "
          ]
        },
        {
          "output_type": "stream",
          "name": "stderr",
          "text": [
            "\r 21%|██        | 166/795 [02:05<08:00,  1.31it/s]"
          ]
        },
        {
          "output_type": "stream",
          "name": "stdout",
          "text": [
            "Loss: 0.0300\n",
            "acc: 0.989711998499015\n",
            "Epoch: 0/5............. "
          ]
        },
        {
          "output_type": "stream",
          "name": "stderr",
          "text": [
            "\r 21%|██        | 167/795 [02:06<07:59,  1.31it/s]"
          ]
        },
        {
          "output_type": "stream",
          "name": "stdout",
          "text": [
            "Loss: 0.0251\n",
            "acc: 0.9924421176817578\n",
            "Epoch: 0/5............. "
          ]
        },
        {
          "output_type": "stream",
          "name": "stderr",
          "text": [
            "\r 21%|██        | 168/795 [02:07<07:56,  1.31it/s]"
          ]
        },
        {
          "output_type": "stream",
          "name": "stdout",
          "text": [
            "Loss: 0.0284\n",
            "acc: 0.9905560990292723\n",
            "Epoch: 0/5............. "
          ]
        },
        {
          "output_type": "stream",
          "name": "stderr",
          "text": [
            "\r 21%|██▏       | 169/795 [02:07<07:57,  1.31it/s]"
          ]
        },
        {
          "output_type": "stream",
          "name": "stdout",
          "text": [
            "Loss: 0.0243\n",
            "acc: 0.991475433422056\n",
            "Epoch: 0/5............. "
          ]
        },
        {
          "output_type": "stream",
          "name": "stderr",
          "text": [
            "\r 21%|██▏       | 170/795 [02:08<07:54,  1.32it/s]"
          ]
        },
        {
          "output_type": "stream",
          "name": "stdout",
          "text": [
            "Loss: 0.0291\n",
            "acc: 0.9909000733169449\n",
            "Epoch: 0/5............. "
          ]
        },
        {
          "output_type": "stream",
          "name": "stderr",
          "text": [
            "\r 22%|██▏       | 171/795 [02:09<07:52,  1.32it/s]"
          ]
        },
        {
          "output_type": "stream",
          "name": "stdout",
          "text": [
            "Loss: 0.0237\n",
            "acc: 0.9923702106485321\n",
            "Epoch: 0/5............. "
          ]
        },
        {
          "output_type": "stream",
          "name": "stderr",
          "text": [
            "\r 22%|██▏       | 172/795 [02:10<07:50,  1.32it/s]"
          ]
        },
        {
          "output_type": "stream",
          "name": "stdout",
          "text": [
            "Loss: 0.0258\n",
            "acc: 0.9915878390170687\n",
            "Epoch: 0/5............. "
          ]
        },
        {
          "output_type": "stream",
          "name": "stderr",
          "text": [
            "\r 22%|██▏       | 173/795 [02:10<07:51,  1.32it/s]"
          ]
        },
        {
          "output_type": "stream",
          "name": "stdout",
          "text": [
            "Loss: 0.0294\n",
            "acc: 0.990517001944213\n",
            "Epoch: 0/5............. "
          ]
        },
        {
          "output_type": "stream",
          "name": "stderr",
          "text": [
            "\r 22%|██▏       | 174/795 [02:11<07:48,  1.33it/s]"
          ]
        },
        {
          "output_type": "stream",
          "name": "stdout",
          "text": [
            "Loss: 0.0281\n",
            "acc: 0.9908027899343544\n",
            "Epoch: 0/5............. "
          ]
        },
        {
          "output_type": "stream",
          "name": "stderr",
          "text": [
            "\r 22%|██▏       | 175/795 [02:12<07:48,  1.32it/s]"
          ]
        },
        {
          "output_type": "stream",
          "name": "stdout",
          "text": [
            "Loss: 0.0375\n",
            "acc: 0.98758487551591\n",
            "Epoch: 0/5............. "
          ]
        },
        {
          "output_type": "stream",
          "name": "stderr",
          "text": [
            "\r 22%|██▏       | 176/795 [02:13<07:48,  1.32it/s]"
          ]
        },
        {
          "output_type": "stream",
          "name": "stdout",
          "text": [
            "Loss: 0.0316\n",
            "acc: 0.98973954222573\n",
            "Epoch: 0/5............. "
          ]
        },
        {
          "output_type": "stream",
          "name": "stderr",
          "text": [
            "\r 22%|██▏       | 177/795 [02:13<07:44,  1.33it/s]"
          ]
        },
        {
          "output_type": "stream",
          "name": "stdout",
          "text": [
            "Loss: 0.0254\n",
            "acc: 0.9917598189861876\n",
            "Epoch: 0/5............. "
          ]
        },
        {
          "output_type": "stream",
          "name": "stderr",
          "text": [
            "\r 22%|██▏       | 178/795 [02:14<07:45,  1.33it/s]"
          ]
        },
        {
          "output_type": "stream",
          "name": "stdout",
          "text": [
            "Loss: 0.0323\n",
            "acc: 0.9885796325904657\n",
            "Epoch: 0/5............. "
          ]
        },
        {
          "output_type": "stream",
          "name": "stderr",
          "text": [
            "\r 23%|██▎       | 179/795 [02:15<07:45,  1.32it/s]"
          ]
        },
        {
          "output_type": "stream",
          "name": "stdout",
          "text": [
            "Loss: 0.0308\n",
            "acc: 0.9901823748668797\n",
            "Epoch: 0/5............. "
          ]
        },
        {
          "output_type": "stream",
          "name": "stderr",
          "text": [
            "\r 23%|██▎       | 180/795 [02:16<07:45,  1.32it/s]"
          ]
        },
        {
          "output_type": "stream",
          "name": "stdout",
          "text": [
            "Loss: 0.0316\n",
            "acc: 0.9903126831454476\n",
            "Epoch: 0/5............. "
          ]
        },
        {
          "output_type": "stream",
          "name": "stderr",
          "text": [
            "\r 23%|██▎       | 181/795 [02:16<07:43,  1.33it/s]"
          ]
        },
        {
          "output_type": "stream",
          "name": "stdout",
          "text": [
            "Loss: 0.0269\n",
            "acc: 0.9907800558049253\n",
            "Epoch: 0/5............. "
          ]
        },
        {
          "output_type": "stream",
          "name": "stderr",
          "text": [
            "\r 23%|██▎       | 182/795 [02:17<07:42,  1.33it/s]"
          ]
        },
        {
          "output_type": "stream",
          "name": "stdout",
          "text": [
            "Loss: 0.0281\n",
            "acc: 0.9906650671065457\n",
            "Epoch: 0/5............. "
          ]
        },
        {
          "output_type": "stream",
          "name": "stderr",
          "text": [
            "\r 23%|██▎       | 183/795 [02:18<07:40,  1.33it/s]"
          ]
        },
        {
          "output_type": "stream",
          "name": "stdout",
          "text": [
            "Loss: 0.0291\n",
            "acc: 0.9902135893428593\n",
            "Epoch: 0/5............. "
          ]
        },
        {
          "output_type": "stream",
          "name": "stderr",
          "text": [
            "\r 23%|██▎       | 184/795 [02:19<07:41,  1.32it/s]"
          ]
        },
        {
          "output_type": "stream",
          "name": "stdout",
          "text": [
            "Loss: 0.0343\n",
            "acc: 0.9894643310484894\n",
            "Epoch: 0/5............. "
          ]
        },
        {
          "output_type": "stream",
          "name": "stderr",
          "text": [
            "\r 23%|██▎       | 185/795 [02:19<07:39,  1.33it/s]"
          ]
        },
        {
          "output_type": "stream",
          "name": "stdout",
          "text": [
            "Loss: 0.0344\n",
            "acc: 0.9887777589421936\n",
            "Epoch: 0/5............. "
          ]
        },
        {
          "output_type": "stream",
          "name": "stderr",
          "text": [
            "\r 23%|██▎       | 186/795 [02:20<07:39,  1.33it/s]"
          ]
        },
        {
          "output_type": "stream",
          "name": "stdout",
          "text": [
            "Loss: 0.0305\n",
            "acc: 0.9903295259643105\n",
            "Epoch: 0/5............. "
          ]
        },
        {
          "output_type": "stream",
          "name": "stderr",
          "text": [
            "\r 24%|██▎       | 187/795 [02:21<07:39,  1.32it/s]"
          ]
        },
        {
          "output_type": "stream",
          "name": "stdout",
          "text": [
            "Loss: 0.0279\n",
            "acc: 0.9910814870446865\n",
            "Epoch: 0/5............. "
          ]
        },
        {
          "output_type": "stream",
          "name": "stderr",
          "text": [
            "\r 24%|██▎       | 188/795 [02:22<07:38,  1.32it/s]"
          ]
        },
        {
          "output_type": "stream",
          "name": "stdout",
          "text": [
            "Loss: 0.0304\n",
            "acc: 0.9903607626337798\n",
            "Epoch: 0/5............. "
          ]
        },
        {
          "output_type": "stream",
          "name": "stderr",
          "text": [
            "\r 24%|██▍       | 189/795 [02:22<07:36,  1.33it/s]"
          ]
        },
        {
          "output_type": "stream",
          "name": "stdout",
          "text": [
            "Loss: 0.0278\n",
            "acc: 0.9900967668856597\n",
            "Epoch: 0/5............. "
          ]
        },
        {
          "output_type": "stream",
          "name": "stderr",
          "text": [
            "\r 24%|██▍       | 190/795 [02:23<07:36,  1.33it/s]"
          ]
        },
        {
          "output_type": "stream",
          "name": "stdout",
          "text": [
            "Loss: 0.0318\n",
            "acc: 0.9903891488049904\n",
            "Epoch: 0/5............. "
          ]
        },
        {
          "output_type": "stream",
          "name": "stderr",
          "text": [
            "\r 24%|██▍       | 191/795 [02:24<07:34,  1.33it/s]"
          ]
        },
        {
          "output_type": "stream",
          "name": "stdout",
          "text": [
            "Loss: 0.0280\n",
            "acc: 0.9896895317970222\n",
            "Epoch: 0/5............. "
          ]
        },
        {
          "output_type": "stream",
          "name": "stderr",
          "text": [
            "\r 24%|██▍       | 192/795 [02:25<07:34,  1.33it/s]"
          ]
        },
        {
          "output_type": "stream",
          "name": "stdout",
          "text": [
            "Loss: 0.0371\n",
            "acc: 0.9891770471717378\n",
            "Epoch: 0/5............. "
          ]
        },
        {
          "output_type": "stream",
          "name": "stderr",
          "text": [
            "\r 24%|██▍       | 193/795 [02:25<07:33,  1.33it/s]"
          ]
        },
        {
          "output_type": "stream",
          "name": "stdout",
          "text": [
            "Loss: 0.0272\n",
            "acc: 0.9911931708447603\n",
            "Epoch: 0/5............. "
          ]
        },
        {
          "output_type": "stream",
          "name": "stderr",
          "text": [
            "\r 24%|██▍       | 194/795 [02:26<07:34,  1.32it/s]"
          ]
        },
        {
          "output_type": "stream",
          "name": "stdout",
          "text": [
            "Loss: 0.0291\n",
            "acc: 0.9913832680015539\n",
            "Epoch: 0/5............. "
          ]
        },
        {
          "output_type": "stream",
          "name": "stderr",
          "text": [
            "\r 25%|██▍       | 195/795 [02:27<07:32,  1.33it/s]"
          ]
        },
        {
          "output_type": "stream",
          "name": "stdout",
          "text": [
            "Loss: 0.0275\n",
            "acc: 0.9904598490048044\n",
            "Epoch: 0/5............. "
          ]
        },
        {
          "output_type": "stream",
          "name": "stderr",
          "text": [
            "\r 25%|██▍       | 196/795 [02:28<07:31,  1.33it/s]"
          ]
        },
        {
          "output_type": "stream",
          "name": "stdout",
          "text": [
            "Loss: 0.0325\n",
            "acc: 0.9890636144414632\n",
            "Epoch: 0/5............. "
          ]
        },
        {
          "output_type": "stream",
          "name": "stderr",
          "text": [
            "\r 25%|██▍       | 197/795 [02:28<07:30,  1.33it/s]"
          ]
        },
        {
          "output_type": "stream",
          "name": "stdout",
          "text": [
            "Loss: 0.0247\n",
            "acc: 0.9920540997464075\n",
            "Epoch: 0/5............. "
          ]
        },
        {
          "output_type": "stream",
          "name": "stderr",
          "text": [
            "\r 25%|██▍       | 198/795 [02:29<07:30,  1.33it/s]"
          ]
        },
        {
          "output_type": "stream",
          "name": "stdout",
          "text": [
            "Loss: 0.0275\n",
            "acc: 0.9913569302855696\n",
            "Epoch: 0/5............. "
          ]
        },
        {
          "output_type": "stream",
          "name": "stderr",
          "text": [
            "\r 25%|██▌       | 199/795 [02:30<07:28,  1.33it/s]"
          ]
        },
        {
          "output_type": "stream",
          "name": "stdout",
          "text": [
            "Loss: 0.0401\n",
            "acc: 0.9874241751738423\n",
            "Epoch: 0/5............. "
          ]
        },
        {
          "output_type": "stream",
          "name": "stderr",
          "text": [
            "\r 25%|██▌       | 200/795 [02:31<07:26,  1.33it/s]"
          ]
        },
        {
          "output_type": "stream",
          "name": "stdout",
          "text": [
            "Loss: 0.0281\n",
            "acc: 0.991116795133248\n",
            "Epoch: 0/5............. "
          ]
        },
        {
          "output_type": "stream",
          "name": "stderr",
          "text": [
            "\r 25%|██▌       | 201/795 [02:31<07:26,  1.33it/s]"
          ]
        },
        {
          "output_type": "stream",
          "name": "stdout",
          "text": [
            "Loss: 0.0297\n",
            "acc: 0.9900294584183096\n",
            "Epoch: 0/5............. "
          ]
        },
        {
          "output_type": "stream",
          "name": "stderr",
          "text": [
            "\r 25%|██▌       | 202/795 [02:32<07:25,  1.33it/s]"
          ]
        },
        {
          "output_type": "stream",
          "name": "stdout",
          "text": [
            "Loss: 0.0338\n",
            "acc: 0.9890185548555889\n",
            "Epoch: 0/5............. "
          ]
        },
        {
          "output_type": "stream",
          "name": "stderr",
          "text": [
            "\r 26%|██▌       | 203/795 [02:33<07:25,  1.33it/s]"
          ]
        },
        {
          "output_type": "stream",
          "name": "stdout",
          "text": [
            "Loss: 0.0337\n",
            "acc: 0.9883333917247662\n",
            "Epoch: 0/5............. "
          ]
        },
        {
          "output_type": "stream",
          "name": "stderr",
          "text": [
            "\r 26%|██▌       | 204/795 [02:34<07:24,  1.33it/s]"
          ]
        },
        {
          "output_type": "stream",
          "name": "stdout",
          "text": [
            "Loss: 0.0250\n",
            "acc: 0.9914953933380581\n",
            "Epoch: 0/5............. "
          ]
        },
        {
          "output_type": "stream",
          "name": "stderr",
          "text": [
            "\r 26%|██▌       | 205/795 [02:34<07:24,  1.33it/s]"
          ]
        },
        {
          "output_type": "stream",
          "name": "stdout",
          "text": [
            "Loss: 0.0261\n",
            "acc: 0.9919661583306673\n",
            "Epoch: 0/5............. "
          ]
        },
        {
          "output_type": "stream",
          "name": "stderr",
          "text": [
            "\r 26%|██▌       | 206/795 [02:35<07:23,  1.33it/s]"
          ]
        },
        {
          "output_type": "stream",
          "name": "stdout",
          "text": [
            "Loss: 0.0267\n",
            "acc: 0.9914251414851655\n",
            "Epoch: 0/5............. "
          ]
        },
        {
          "output_type": "stream",
          "name": "stderr",
          "text": [
            "\r 26%|██▌       | 207/795 [02:36<07:21,  1.33it/s]"
          ]
        },
        {
          "output_type": "stream",
          "name": "stdout",
          "text": [
            "Loss: 0.0288\n",
            "acc: 0.9906994700452743\n",
            "Epoch: 0/5............. "
          ]
        },
        {
          "output_type": "stream",
          "name": "stderr",
          "text": [
            "\r 26%|██▌       | 208/795 [02:37<07:22,  1.33it/s]"
          ]
        },
        {
          "output_type": "stream",
          "name": "stdout",
          "text": [
            "Loss: 0.0260\n",
            "acc: 0.9913902555149976\n",
            "Epoch: 0/5............. "
          ]
        },
        {
          "output_type": "stream",
          "name": "stderr",
          "text": [
            "\r 26%|██▋       | 209/795 [02:37<07:22,  1.33it/s]"
          ]
        },
        {
          "output_type": "stream",
          "name": "stdout",
          "text": [
            "Loss: 0.0311\n",
            "acc: 0.9892426339727111\n",
            "Epoch: 0/5............. "
          ]
        },
        {
          "output_type": "stream",
          "name": "stderr",
          "text": [
            "\r 26%|██▋       | 210/795 [02:38<07:20,  1.33it/s]"
          ]
        },
        {
          "output_type": "stream",
          "name": "stdout",
          "text": [
            "Loss: 0.0250\n",
            "acc: 0.9914615285474933\n",
            "Epoch: 0/5............. "
          ]
        },
        {
          "output_type": "stream",
          "name": "stderr",
          "text": [
            "\r 27%|██▋       | 211/795 [02:39<07:18,  1.33it/s]"
          ]
        },
        {
          "output_type": "stream",
          "name": "stdout",
          "text": [
            "Loss: 0.0262\n",
            "acc: 0.9916064948869259\n",
            "Epoch: 0/5............. "
          ]
        },
        {
          "output_type": "stream",
          "name": "stderr",
          "text": [
            "\r 27%|██▋       | 212/795 [02:40<07:18,  1.33it/s]"
          ]
        },
        {
          "output_type": "stream",
          "name": "stdout",
          "text": [
            "Loss: 0.0272\n",
            "acc: 0.9911904761904762\n",
            "Epoch: 0/5............. "
          ]
        },
        {
          "output_type": "stream",
          "name": "stderr",
          "text": [
            "\r 27%|██▋       | 213/795 [02:40<07:18,  1.33it/s]"
          ]
        },
        {
          "output_type": "stream",
          "name": "stdout",
          "text": [
            "Loss: 0.0259\n",
            "acc: 0.9915367797446929\n",
            "Epoch: 0/5............. "
          ]
        },
        {
          "output_type": "stream",
          "name": "stderr",
          "text": [
            "\r 27%|██▋       | 214/795 [02:41<07:17,  1.33it/s]"
          ]
        },
        {
          "output_type": "stream",
          "name": "stdout",
          "text": [
            "Loss: 0.0386\n",
            "acc: 0.9876376800431333\n",
            "Epoch: 0/5............. "
          ]
        },
        {
          "output_type": "stream",
          "name": "stderr",
          "text": [
            "\r 27%|██▋       | 215/795 [02:42<07:16,  1.33it/s]"
          ]
        },
        {
          "output_type": "stream",
          "name": "stdout",
          "text": [
            "Loss: 0.0291\n",
            "acc: 0.9908851529268786\n",
            "Epoch: 0/5............. "
          ]
        },
        {
          "output_type": "stream",
          "name": "stderr",
          "text": [
            "\r 27%|██▋       | 216/795 [02:43<07:12,  1.34it/s]"
          ]
        },
        {
          "output_type": "stream",
          "name": "stdout",
          "text": [
            "Loss: 0.0340\n",
            "acc: 0.9893143067698389\n",
            "Epoch: 0/5............. "
          ]
        },
        {
          "output_type": "stream",
          "name": "stderr",
          "text": [
            "\r 27%|██▋       | 217/795 [02:43<07:13,  1.33it/s]"
          ]
        },
        {
          "output_type": "stream",
          "name": "stdout",
          "text": [
            "Loss: 0.0305\n",
            "acc: 0.9906188586896066\n",
            "Epoch: 0/5............. "
          ]
        },
        {
          "output_type": "stream",
          "name": "stderr",
          "text": [
            "\r 27%|██▋       | 218/795 [02:44<07:13,  1.33it/s]"
          ]
        },
        {
          "output_type": "stream",
          "name": "stdout",
          "text": [
            "Loss: 0.0276\n",
            "acc: 0.9907631470223691\n",
            "Epoch: 0/5............. "
          ]
        },
        {
          "output_type": "stream",
          "name": "stderr",
          "text": [
            "\r 28%|██▊       | 219/795 [02:45<07:10,  1.34it/s]"
          ]
        },
        {
          "output_type": "stream",
          "name": "stdout",
          "text": [
            "Loss: 0.0329\n",
            "acc: 0.9895772806507844\n",
            "Epoch: 0/5............. "
          ]
        },
        {
          "output_type": "stream",
          "name": "stderr",
          "text": [
            "\r 28%|██▊       | 220/795 [02:46<07:11,  1.33it/s]"
          ]
        },
        {
          "output_type": "stream",
          "name": "stdout",
          "text": [
            "Loss: 0.0297\n",
            "acc: 0.9899878745886022\n",
            "Epoch: 0/5............. "
          ]
        },
        {
          "output_type": "stream",
          "name": "stderr",
          "text": [
            "\r 28%|██▊       | 221/795 [02:46<07:10,  1.33it/s]"
          ]
        },
        {
          "output_type": "stream",
          "name": "stdout",
          "text": [
            "Loss: 0.0283\n",
            "acc: 0.991083610978899\n",
            "Epoch: 0/5............. "
          ]
        },
        {
          "output_type": "stream",
          "name": "stderr",
          "text": [
            "\r 28%|██▊       | 222/795 [02:47<07:09,  1.33it/s]"
          ]
        },
        {
          "output_type": "stream",
          "name": "stdout",
          "text": [
            "Loss: 0.0256\n",
            "acc: 0.9915567101934778\n",
            "Epoch: 0/5............. "
          ]
        },
        {
          "output_type": "stream",
          "name": "stderr",
          "text": [
            "\r 28%|██▊       | 223/795 [02:48<07:09,  1.33it/s]"
          ]
        },
        {
          "output_type": "stream",
          "name": "stdout",
          "text": [
            "Loss: 0.0276\n",
            "acc: 0.9909888862930948\n",
            "Epoch: 0/5............. "
          ]
        },
        {
          "output_type": "stream",
          "name": "stderr",
          "text": [
            "\r 28%|██▊       | 224/795 [02:49<07:08,  1.33it/s]"
          ]
        },
        {
          "output_type": "stream",
          "name": "stdout",
          "text": [
            "Loss: 0.0262\n",
            "acc: 0.990302735393278\n",
            "Epoch: 0/5............. "
          ]
        },
        {
          "output_type": "stream",
          "name": "stderr",
          "text": [
            "\r 28%|██▊       | 225/795 [02:49<07:07,  1.33it/s]"
          ]
        },
        {
          "output_type": "stream",
          "name": "stdout",
          "text": [
            "Loss: 0.0289\n",
            "acc: 0.9903676974920228\n",
            "Epoch: 0/5............. "
          ]
        },
        {
          "output_type": "stream",
          "name": "stderr",
          "text": [
            "\r 28%|██▊       | 226/795 [02:50<07:07,  1.33it/s]"
          ]
        },
        {
          "output_type": "stream",
          "name": "stdout",
          "text": [
            "Loss: 0.0272\n",
            "acc: 0.9915858668857848\n",
            "Epoch: 0/5............. "
          ]
        },
        {
          "output_type": "stream",
          "name": "stderr",
          "text": [
            "\r 29%|██▊       | 227/795 [02:51<07:07,  1.33it/s]"
          ]
        },
        {
          "output_type": "stream",
          "name": "stdout",
          "text": [
            "Loss: 0.0268\n",
            "acc: 0.9908609409076747\n",
            "Epoch: 0/5............. "
          ]
        },
        {
          "output_type": "stream",
          "name": "stderr",
          "text": [
            "\r 29%|██▊       | 228/795 [02:52<07:06,  1.33it/s]"
          ]
        },
        {
          "output_type": "stream",
          "name": "stdout",
          "text": [
            "Loss: 0.0278\n",
            "acc: 0.9904221497846996\n",
            "Epoch: 0/5............. "
          ]
        },
        {
          "output_type": "stream",
          "name": "stderr",
          "text": [
            "\r 29%|██▉       | 229/795 [02:52<07:04,  1.33it/s]"
          ]
        },
        {
          "output_type": "stream",
          "name": "stdout",
          "text": [
            "Loss: 0.0307\n",
            "acc: 0.9905444126074499\n",
            "Epoch: 0/5............. "
          ]
        },
        {
          "output_type": "stream",
          "name": "stderr",
          "text": [
            "\r 29%|██▉       | 230/795 [02:53<07:04,  1.33it/s]"
          ]
        },
        {
          "output_type": "stream",
          "name": "stdout",
          "text": [
            "Loss: 0.0305\n",
            "acc: 0.9893539976825029\n",
            "Epoch: 0/5............. "
          ]
        },
        {
          "output_type": "stream",
          "name": "stderr",
          "text": [
            "\r 29%|██▉       | 231/795 [02:54<07:02,  1.34it/s]"
          ]
        },
        {
          "output_type": "stream",
          "name": "stdout",
          "text": [
            "Loss: 0.0270\n",
            "acc: 0.9909421634865246\n",
            "Epoch: 0/5............. "
          ]
        },
        {
          "output_type": "stream",
          "name": "stderr",
          "text": [
            "\r 29%|██▉       | 232/795 [02:55<07:02,  1.33it/s]"
          ]
        },
        {
          "output_type": "stream",
          "name": "stdout",
          "text": [
            "Loss: 0.0266\n",
            "acc: 0.9912428065911284\n",
            "Epoch: 0/5............. "
          ]
        },
        {
          "output_type": "stream",
          "name": "stderr",
          "text": [
            "\r 29%|██▉       | 233/795 [02:55<07:00,  1.34it/s]"
          ]
        },
        {
          "output_type": "stream",
          "name": "stdout",
          "text": [
            "Loss: 0.0306\n",
            "acc: 0.9904476320019785\n",
            "Epoch: 0/5............. "
          ]
        },
        {
          "output_type": "stream",
          "name": "stderr",
          "text": [
            "\r 29%|██▉       | 234/795 [02:56<06:59,  1.34it/s]"
          ]
        },
        {
          "output_type": "stream",
          "name": "stdout",
          "text": [
            "Loss: 0.0272\n",
            "acc: 0.9902312528862207\n",
            "Epoch: 0/5............. "
          ]
        },
        {
          "output_type": "stream",
          "name": "stderr",
          "text": [
            "\r 30%|██▉       | 235/795 [02:57<06:58,  1.34it/s]"
          ]
        },
        {
          "output_type": "stream",
          "name": "stdout",
          "text": [
            "Loss: 0.0328\n",
            "acc: 0.9896229474366911\n",
            "Epoch: 0/5............. "
          ]
        },
        {
          "output_type": "stream",
          "name": "stderr",
          "text": [
            "\r 30%|██▉       | 236/795 [02:58<06:59,  1.33it/s]"
          ]
        },
        {
          "output_type": "stream",
          "name": "stdout",
          "text": [
            "Loss: 0.0277\n",
            "acc: 0.9918597760658703\n",
            "Epoch: 0/5............. "
          ]
        },
        {
          "output_type": "stream",
          "name": "stderr",
          "text": [
            "\r 30%|██▉       | 237/795 [02:58<06:59,  1.33it/s]"
          ]
        },
        {
          "output_type": "stream",
          "name": "stdout",
          "text": [
            "Loss: 0.0326\n",
            "acc: 0.9893358022151356\n",
            "Epoch: 0/5............. "
          ]
        },
        {
          "output_type": "stream",
          "name": "stderr",
          "text": [
            "\r 30%|██▉       | 238/795 [02:59<06:57,  1.33it/s]"
          ]
        },
        {
          "output_type": "stream",
          "name": "stdout",
          "text": [
            "Loss: 0.0308\n",
            "acc: 0.9903666325558418\n",
            "Epoch: 0/5............. "
          ]
        },
        {
          "output_type": "stream",
          "name": "stderr",
          "text": [
            "\r 30%|███       | 239/795 [03:00<06:58,  1.33it/s]"
          ]
        },
        {
          "output_type": "stream",
          "name": "stdout",
          "text": [
            "Loss: 0.0263\n",
            "acc: 0.9917569659442724\n",
            "Epoch: 0/5............. "
          ]
        },
        {
          "output_type": "stream",
          "name": "stderr",
          "text": [
            "\r 30%|███       | 240/795 [03:01<06:58,  1.33it/s]"
          ]
        },
        {
          "output_type": "stream",
          "name": "stdout",
          "text": [
            "Loss: 0.0309\n",
            "acc: 0.9896860359415426\n",
            "Epoch: 0/5............. "
          ]
        },
        {
          "output_type": "stream",
          "name": "stderr",
          "text": [
            "\r 30%|███       | 241/795 [03:02<06:56,  1.33it/s]"
          ]
        },
        {
          "output_type": "stream",
          "name": "stdout",
          "text": [
            "Loss: 0.0308\n",
            "acc: 0.9895036158112757\n",
            "Epoch: 0/5............. "
          ]
        },
        {
          "output_type": "stream",
          "name": "stderr",
          "text": [
            "\r 30%|███       | 242/795 [03:02<06:56,  1.33it/s]"
          ]
        },
        {
          "output_type": "stream",
          "name": "stdout",
          "text": [
            "Loss: 0.0331\n",
            "acc: 0.9892738637240528\n",
            "Epoch: 0/5............. "
          ]
        },
        {
          "output_type": "stream",
          "name": "stderr",
          "text": [
            "\r 31%|███       | 243/795 [03:03<06:55,  1.33it/s]"
          ]
        },
        {
          "output_type": "stream",
          "name": "stdout",
          "text": [
            "Loss: 0.0315\n",
            "acc: 0.989536\n",
            "Epoch: 0/5............. "
          ]
        },
        {
          "output_type": "stream",
          "name": "stderr",
          "text": [
            "\r 31%|███       | 244/795 [03:04<06:55,  1.32it/s]"
          ]
        },
        {
          "output_type": "stream",
          "name": "stdout",
          "text": [
            "Loss: 0.0316\n",
            "acc: 0.9902502329295887\n",
            "Epoch: 0/5............. "
          ]
        },
        {
          "output_type": "stream",
          "name": "stderr",
          "text": [
            "\r 31%|███       | 245/795 [03:05<06:54,  1.33it/s]"
          ]
        },
        {
          "output_type": "stream",
          "name": "stdout",
          "text": [
            "Loss: 0.0239\n",
            "acc: 0.9923691860465116\n",
            "Epoch: 0/5............. "
          ]
        },
        {
          "output_type": "stream",
          "name": "stderr",
          "text": [
            "\r 31%|███       | 246/795 [03:05<06:53,  1.33it/s]"
          ]
        },
        {
          "output_type": "stream",
          "name": "stdout",
          "text": [
            "Loss: 0.0289\n",
            "acc: 0.9907167192823431\n",
            "Epoch: 0/5............. "
          ]
        },
        {
          "output_type": "stream",
          "name": "stderr",
          "text": [
            "\r 31%|███       | 247/795 [03:06<06:53,  1.33it/s]"
          ]
        },
        {
          "output_type": "stream",
          "name": "stdout",
          "text": [
            "Loss: 0.0251\n",
            "acc: 0.9917205692108667\n",
            "Epoch: 0/5............. "
          ]
        },
        {
          "output_type": "stream",
          "name": "stderr",
          "text": [
            "\r 31%|███       | 248/795 [03:07<06:50,  1.33it/s]"
          ]
        },
        {
          "output_type": "stream",
          "name": "stdout",
          "text": [
            "Loss: 0.0259\n",
            "acc: 0.9924824211788341\n",
            "Epoch: 0/5............. "
          ]
        },
        {
          "output_type": "stream",
          "name": "stderr",
          "text": [
            "\r 31%|███▏      | 249/795 [03:08<06:50,  1.33it/s]"
          ]
        },
        {
          "output_type": "stream",
          "name": "stdout",
          "text": [
            "Loss: 0.0238\n",
            "acc: 0.9924286305337194\n",
            "Epoch: 0/5............. "
          ]
        },
        {
          "output_type": "stream",
          "name": "stderr",
          "text": [
            "\r 31%|███▏      | 250/795 [03:08<06:50,  1.33it/s]"
          ]
        },
        {
          "output_type": "stream",
          "name": "stdout",
          "text": [
            "Loss: 0.0314\n",
            "acc: 0.9896034457151344\n",
            "Epoch: 0/5............. "
          ]
        },
        {
          "output_type": "stream",
          "name": "stderr",
          "text": [
            "\r 32%|███▏      | 251/795 [03:09<06:50,  1.33it/s]"
          ]
        },
        {
          "output_type": "stream",
          "name": "stdout",
          "text": [
            "Loss: 0.0304\n",
            "acc: 0.9898495691543742\n",
            "Epoch: 0/5............. "
          ]
        },
        {
          "output_type": "stream",
          "name": "stderr",
          "text": [
            "\r 32%|███▏      | 252/795 [03:10<06:50,  1.32it/s]"
          ]
        },
        {
          "output_type": "stream",
          "name": "stdout",
          "text": [
            "Loss: 0.0266\n",
            "acc: 0.9918351197755557\n",
            "Epoch: 0/5............. "
          ]
        },
        {
          "output_type": "stream",
          "name": "stderr",
          "text": [
            "\r 32%|███▏      | 253/795 [03:11<06:48,  1.33it/s]"
          ]
        },
        {
          "output_type": "stream",
          "name": "stdout",
          "text": [
            "Loss: 0.0342\n",
            "acc: 0.9882462624446442\n",
            "Epoch: 0/5............. "
          ]
        },
        {
          "output_type": "stream",
          "name": "stderr",
          "text": [
            "\r 32%|███▏      | 254/795 [03:11<06:48,  1.32it/s]"
          ]
        },
        {
          "output_type": "stream",
          "name": "stdout",
          "text": [
            "Loss: 0.0348\n",
            "acc: 0.9881793905120955\n",
            "Epoch: 0/5............. "
          ]
        },
        {
          "output_type": "stream",
          "name": "stderr",
          "text": [
            "\r 32%|███▏      | 255/795 [03:12<06:46,  1.33it/s]"
          ]
        },
        {
          "output_type": "stream",
          "name": "stdout",
          "text": [
            "Loss: 0.0250\n",
            "acc: 0.9917767059381671\n",
            "Epoch: 0/5............. "
          ]
        },
        {
          "output_type": "stream",
          "name": "stderr",
          "text": [
            "\r 32%|███▏      | 256/795 [03:13<06:45,  1.33it/s]"
          ]
        },
        {
          "output_type": "stream",
          "name": "stdout",
          "text": [
            "Loss: 0.0332\n",
            "acc: 0.9882944207646797\n",
            "Epoch: 0/5............. "
          ]
        },
        {
          "output_type": "stream",
          "name": "stderr",
          "text": [
            "\r 32%|███▏      | 257/795 [03:14<06:45,  1.33it/s]"
          ]
        },
        {
          "output_type": "stream",
          "name": "stdout",
          "text": [
            "Loss: 0.0311\n",
            "acc: 0.9906726858933701\n",
            "Epoch: 0/5............. "
          ]
        },
        {
          "output_type": "stream",
          "name": "stderr",
          "text": [
            "\r 32%|███▏      | 258/795 [03:14<06:43,  1.33it/s]"
          ]
        },
        {
          "output_type": "stream",
          "name": "stdout",
          "text": [
            "Loss: 0.0366\n",
            "acc: 0.9883029598035414\n",
            "Epoch: 0/5............. "
          ]
        },
        {
          "output_type": "stream",
          "name": "stderr",
          "text": [
            "\r 33%|███▎      | 259/795 [03:15<06:41,  1.34it/s]"
          ]
        },
        {
          "output_type": "stream",
          "name": "stdout",
          "text": [
            "Loss: 0.0251\n",
            "acc: 0.9922172136920693\n",
            "Epoch: 0/5............. "
          ]
        },
        {
          "output_type": "stream",
          "name": "stderr",
          "text": [
            "\r 33%|███▎      | 260/795 [03:16<06:40,  1.34it/s]"
          ]
        },
        {
          "output_type": "stream",
          "name": "stdout",
          "text": [
            "Loss: 0.0280\n",
            "acc: 0.990612979496771\n",
            "Epoch: 0/5............. "
          ]
        },
        {
          "output_type": "stream",
          "name": "stderr",
          "text": [
            "\r 33%|███▎      | 261/795 [03:17<06:42,  1.33it/s]"
          ]
        },
        {
          "output_type": "stream",
          "name": "stdout",
          "text": [
            "Loss: 0.0282\n",
            "acc: 0.9912944738834216\n",
            "Epoch: 0/5............. "
          ]
        },
        {
          "output_type": "stream",
          "name": "stderr",
          "text": [
            "\r 33%|███▎      | 262/795 [03:17<06:41,  1.33it/s]"
          ]
        },
        {
          "output_type": "stream",
          "name": "stdout",
          "text": [
            "Loss: 0.0316\n",
            "acc: 0.9892330383480826\n",
            "Epoch: 0/5............. "
          ]
        },
        {
          "output_type": "stream",
          "name": "stderr",
          "text": [
            "\r 33%|███▎      | 263/795 [03:18<06:41,  1.32it/s]"
          ]
        },
        {
          "output_type": "stream",
          "name": "stdout",
          "text": [
            "Loss: 0.0282\n",
            "acc: 0.9911975909196201\n",
            "Epoch: 0/5............. "
          ]
        },
        {
          "output_type": "stream",
          "name": "stderr",
          "text": [
            "\r 33%|███▎      | 264/795 [03:19<06:40,  1.33it/s]"
          ]
        },
        {
          "output_type": "stream",
          "name": "stdout",
          "text": [
            "Loss: 0.0268\n",
            "acc: 0.9910373147652205\n",
            "Epoch: 0/5............. "
          ]
        },
        {
          "output_type": "stream",
          "name": "stderr",
          "text": [
            "\r 33%|███▎      | 265/795 [03:20<06:39,  1.33it/s]"
          ]
        },
        {
          "output_type": "stream",
          "name": "stdout",
          "text": [
            "Loss: 0.0263\n",
            "acc: 0.9917053187527508\n",
            "Epoch: 0/5............. "
          ]
        },
        {
          "output_type": "stream",
          "name": "stderr",
          "text": [
            "\r 33%|███▎      | 266/795 [03:20<06:40,  1.32it/s]"
          ]
        },
        {
          "output_type": "stream",
          "name": "stdout",
          "text": [
            "Loss: 0.0308\n",
            "acc: 0.9900804289544236\n",
            "Epoch: 0/5............. "
          ]
        },
        {
          "output_type": "stream",
          "name": "stderr",
          "text": [
            "\r 34%|███▎      | 267/795 [03:21<06:38,  1.33it/s]"
          ]
        },
        {
          "output_type": "stream",
          "name": "stdout",
          "text": [
            "Loss: 0.0312\n",
            "acc: 0.9893837987537503\n",
            "Epoch: 0/5............. "
          ]
        },
        {
          "output_type": "stream",
          "name": "stderr",
          "text": [
            "\r 34%|███▎      | 268/795 [03:22<06:38,  1.32it/s]"
          ]
        },
        {
          "output_type": "stream",
          "name": "stdout",
          "text": [
            "Loss: 0.0305\n",
            "acc: 0.990132004658988\n",
            "Epoch: 0/5............. "
          ]
        },
        {
          "output_type": "stream",
          "name": "stderr",
          "text": [
            "\r 34%|███▍      | 269/795 [03:23<06:38,  1.32it/s]"
          ]
        },
        {
          "output_type": "stream",
          "name": "stdout",
          "text": [
            "Loss: 0.0271\n",
            "acc: 0.9914071944326461\n",
            "Epoch: 0/5............. "
          ]
        },
        {
          "output_type": "stream",
          "name": "stderr",
          "text": [
            "\r 34%|███▍      | 270/795 [03:23<06:35,  1.33it/s]"
          ]
        },
        {
          "output_type": "stream",
          "name": "stdout",
          "text": [
            "Loss: 0.0257\n",
            "acc: 0.9910484581497797\n",
            "Epoch: 0/5............. "
          ]
        },
        {
          "output_type": "stream",
          "name": "stderr",
          "text": [
            "\r 34%|███▍      | 271/795 [03:24<06:35,  1.33it/s]"
          ]
        },
        {
          "output_type": "stream",
          "name": "stdout",
          "text": [
            "Loss: 0.0327\n",
            "acc: 0.9893968648754786\n",
            "Epoch: 0/5............. "
          ]
        },
        {
          "output_type": "stream",
          "name": "stderr",
          "text": [
            "\r 34%|███▍      | 272/795 [03:25<06:35,  1.32it/s]"
          ]
        },
        {
          "output_type": "stream",
          "name": "stdout",
          "text": [
            "Loss: 0.0310\n",
            "acc: 0.9902643547470154\n",
            "Epoch: 0/5............. "
          ]
        },
        {
          "output_type": "stream",
          "name": "stderr",
          "text": [
            "\r 34%|███▍      | 273/795 [03:26<06:34,  1.32it/s]"
          ]
        },
        {
          "output_type": "stream",
          "name": "stdout",
          "text": [
            "Loss: 0.0267\n",
            "acc: 0.9919367224696667\n",
            "Epoch: 0/5............. "
          ]
        },
        {
          "output_type": "stream",
          "name": "stderr",
          "text": [
            "\r 34%|███▍      | 274/795 [03:26<06:32,  1.33it/s]"
          ]
        },
        {
          "output_type": "stream",
          "name": "stdout",
          "text": [
            "Loss: 0.0286\n",
            "acc: 0.9910635523338319\n",
            "Epoch: 0/5............. "
          ]
        },
        {
          "output_type": "stream",
          "name": "stderr",
          "text": [
            "\r 35%|███▍      | 275/795 [03:27<06:32,  1.32it/s]"
          ]
        },
        {
          "output_type": "stream",
          "name": "stdout",
          "text": [
            "Loss: 0.0285\n",
            "acc: 0.9897546248715313\n",
            "Epoch: 0/5............. "
          ]
        },
        {
          "output_type": "stream",
          "name": "stderr",
          "text": [
            "\r 35%|███▍      | 276/795 [03:28<06:31,  1.32it/s]"
          ]
        },
        {
          "output_type": "stream",
          "name": "stdout",
          "text": [
            "Loss: 0.0263\n",
            "acc: 0.9911440516913721\n",
            "Epoch: 0/5............. "
          ]
        },
        {
          "output_type": "stream",
          "name": "stderr",
          "text": [
            "\r 35%|███▍      | 277/795 [03:29<06:30,  1.33it/s]"
          ]
        },
        {
          "output_type": "stream",
          "name": "stdout",
          "text": [
            "Loss: 0.0276\n",
            "acc: 0.9913000071311417\n",
            "Epoch: 0/5............. "
          ]
        },
        {
          "output_type": "stream",
          "name": "stderr",
          "text": [
            "\r 35%|███▍      | 278/795 [03:29<06:30,  1.32it/s]"
          ]
        },
        {
          "output_type": "stream",
          "name": "stdout",
          "text": [
            "Loss: 0.0276\n",
            "acc: 0.9916052823677749\n",
            "Epoch: 0/5............. "
          ]
        },
        {
          "output_type": "stream",
          "name": "stderr",
          "text": [
            "\r 35%|███▌      | 279/795 [03:30<06:30,  1.32it/s]"
          ]
        },
        {
          "output_type": "stream",
          "name": "stdout",
          "text": [
            "Loss: 0.0300\n",
            "acc: 0.9898377262315708\n",
            "Epoch: 0/5............. "
          ]
        },
        {
          "output_type": "stream",
          "name": "stderr",
          "text": [
            "\r 35%|███▌      | 280/795 [03:31<06:29,  1.32it/s]"
          ]
        },
        {
          "output_type": "stream",
          "name": "stdout",
          "text": [
            "Loss: 0.0343\n",
            "acc: 0.9887192230977995\n",
            "Epoch: 0/5............. "
          ]
        },
        {
          "output_type": "stream",
          "name": "stderr",
          "text": [
            "\r 35%|███▌      | 281/795 [03:32<06:29,  1.32it/s]"
          ]
        },
        {
          "output_type": "stream",
          "name": "stdout",
          "text": [
            "Loss: 0.0271\n",
            "acc: 0.9924017984733888\n",
            "Epoch: 0/5............. "
          ]
        },
        {
          "output_type": "stream",
          "name": "stderr",
          "text": [
            "\r 35%|███▌      | 282/795 [03:32<06:27,  1.32it/s]"
          ]
        },
        {
          "output_type": "stream",
          "name": "stdout",
          "text": [
            "Loss: 0.0253\n",
            "acc: 0.9921105801609955\n",
            "Epoch: 0/5............. "
          ]
        },
        {
          "output_type": "stream",
          "name": "stderr",
          "text": [
            "\r 36%|███▌      | 283/795 [03:33<06:27,  1.32it/s]"
          ]
        },
        {
          "output_type": "stream",
          "name": "stdout",
          "text": [
            "Loss: 0.0277\n",
            "acc: 0.9906928297829447\n",
            "Epoch: 0/5............. "
          ]
        },
        {
          "output_type": "stream",
          "name": "stderr",
          "text": [
            "\r 36%|███▌      | 284/795 [03:34<06:27,  1.32it/s]"
          ]
        },
        {
          "output_type": "stream",
          "name": "stdout",
          "text": [
            "Loss: 0.0295\n",
            "acc: 0.9904914492703145\n",
            "Epoch: 0/5............. "
          ]
        },
        {
          "output_type": "stream",
          "name": "stderr",
          "text": [
            "\r 36%|███▌      | 285/795 [03:35<06:26,  1.32it/s]"
          ]
        },
        {
          "output_type": "stream",
          "name": "stdout",
          "text": [
            "Loss: 0.0280\n",
            "acc: 0.9911126910771418\n",
            "Epoch: 0/5............. "
          ]
        },
        {
          "output_type": "stream",
          "name": "stderr",
          "text": [
            "\r 36%|███▌      | 286/795 [03:35<06:25,  1.32it/s]"
          ]
        },
        {
          "output_type": "stream",
          "name": "stdout",
          "text": [
            "Loss: 0.0280\n",
            "acc: 0.991220186657449\n",
            "Epoch: 0/5............. "
          ]
        },
        {
          "output_type": "stream",
          "name": "stderr",
          "text": [
            "\r 36%|███▌      | 287/795 [03:36<06:23,  1.32it/s]"
          ]
        },
        {
          "output_type": "stream",
          "name": "stdout",
          "text": [
            "Loss: 0.0261\n",
            "acc: 0.9920563278570139\n",
            "Epoch: 0/5............. "
          ]
        },
        {
          "output_type": "stream",
          "name": "stderr",
          "text": [
            "\r 36%|███▌      | 288/795 [03:37<06:22,  1.33it/s]"
          ]
        },
        {
          "output_type": "stream",
          "name": "stdout",
          "text": [
            "Loss: 0.0251\n",
            "acc: 0.9916917167668671\n",
            "Epoch: 0/5............. "
          ]
        },
        {
          "output_type": "stream",
          "name": "stderr",
          "text": [
            "\r 36%|███▋      | 289/795 [03:38<06:22,  1.32it/s]"
          ]
        },
        {
          "output_type": "stream",
          "name": "stdout",
          "text": [
            "Loss: 0.0314\n",
            "acc: 0.9895196816825351\n",
            "Epoch: 0/5............. "
          ]
        },
        {
          "output_type": "stream",
          "name": "stderr",
          "text": [
            "\r 36%|███▋      | 290/795 [03:38<06:21,  1.32it/s]"
          ]
        },
        {
          "output_type": "stream",
          "name": "stdout",
          "text": [
            "Loss: 0.0288\n",
            "acc: 0.9907510409051902\n",
            "Epoch: 0/5............. "
          ]
        },
        {
          "output_type": "stream",
          "name": "stderr",
          "text": [
            "\r 37%|███▋      | 291/795 [03:39<06:20,  1.32it/s]"
          ]
        },
        {
          "output_type": "stream",
          "name": "stdout",
          "text": [
            "Loss: 0.0263\n",
            "acc: 0.9912565743191183\n",
            "Epoch: 0/5............. "
          ]
        },
        {
          "output_type": "stream",
          "name": "stderr",
          "text": [
            "\r 37%|███▋      | 292/795 [03:40<06:19,  1.33it/s]"
          ]
        },
        {
          "output_type": "stream",
          "name": "stdout",
          "text": [
            "Loss: 0.0289\n",
            "acc: 0.9911673938491008\n",
            "Epoch: 0/5............. "
          ]
        },
        {
          "output_type": "stream",
          "name": "stderr",
          "text": [
            "\r 37%|███▋      | 293/795 [03:41<06:18,  1.33it/s]"
          ]
        },
        {
          "output_type": "stream",
          "name": "stdout",
          "text": [
            "Loss: 0.0323\n",
            "acc: 0.9897924464103437\n",
            "Epoch: 0/5............. "
          ]
        },
        {
          "output_type": "stream",
          "name": "stderr",
          "text": [
            "\r 37%|███▋      | 294/795 [03:42<06:18,  1.32it/s]"
          ]
        },
        {
          "output_type": "stream",
          "name": "stdout",
          "text": [
            "Loss: 0.0284\n",
            "acc: 0.9906268538659284\n",
            "Epoch: 0/5............. "
          ]
        },
        {
          "output_type": "stream",
          "name": "stderr",
          "text": [
            "\r 37%|███▋      | 295/795 [03:42<06:17,  1.32it/s]"
          ]
        },
        {
          "output_type": "stream",
          "name": "stdout",
          "text": [
            "Loss: 0.0267\n",
            "acc: 0.9912244973525383\n",
            "Epoch: 0/5............. "
          ]
        },
        {
          "output_type": "stream",
          "name": "stderr",
          "text": [
            "\r 37%|███▋      | 296/795 [03:43<06:18,  1.32it/s]"
          ]
        },
        {
          "output_type": "stream",
          "name": "stdout",
          "text": [
            "Loss: 0.0282\n",
            "acc: 0.9915456100915893\n",
            "Epoch: 0/5............. "
          ]
        },
        {
          "output_type": "stream",
          "name": "stderr",
          "text": [
            "\r 37%|███▋      | 297/795 [03:44<06:17,  1.32it/s]"
          ]
        },
        {
          "output_type": "stream",
          "name": "stdout",
          "text": [
            "Loss: 0.0270\n",
            "acc: 0.9910616812227074\n",
            "Epoch: 0/5............. "
          ]
        },
        {
          "output_type": "stream",
          "name": "stderr",
          "text": [
            "\r 37%|███▋      | 298/795 [03:45<06:17,  1.32it/s]"
          ]
        },
        {
          "output_type": "stream",
          "name": "stdout",
          "text": [
            "Loss: 0.0323\n",
            "acc: 0.9892877412031782\n",
            "Epoch: 0/5............. "
          ]
        },
        {
          "output_type": "stream",
          "name": "stderr",
          "text": [
            "\r 38%|███▊      | 299/795 [03:45<06:15,  1.32it/s]"
          ]
        },
        {
          "output_type": "stream",
          "name": "stdout",
          "text": [
            "Loss: 0.0281\n",
            "acc: 0.9909251659827177\n",
            "Epoch: 0/5............. "
          ]
        },
        {
          "output_type": "stream",
          "name": "stderr",
          "text": [
            "\r 38%|███▊      | 300/795 [03:46<06:14,  1.32it/s]"
          ]
        },
        {
          "output_type": "stream",
          "name": "stdout",
          "text": [
            "Loss: 0.0257\n",
            "acc: 0.9910724333245808\n",
            "Epoch: 0/5............. "
          ]
        },
        {
          "output_type": "stream",
          "name": "stderr",
          "text": [
            "\r 38%|███▊      | 301/795 [03:47<06:14,  1.32it/s]"
          ]
        },
        {
          "output_type": "stream",
          "name": "stdout",
          "text": [
            "Loss: 0.0313\n",
            "acc: 0.9893418341061309\n",
            "Epoch: 0/5............. "
          ]
        },
        {
          "output_type": "stream",
          "name": "stderr",
          "text": [
            "\r 38%|███▊      | 302/795 [03:48<06:14,  1.32it/s]"
          ]
        },
        {
          "output_type": "stream",
          "name": "stdout",
          "text": [
            "Loss: 0.0259\n",
            "acc: 0.991418786316235\n",
            "Epoch: 0/5............. "
          ]
        },
        {
          "output_type": "stream",
          "name": "stderr",
          "text": [
            "\r 38%|███▊      | 303/795 [03:48<06:13,  1.32it/s]"
          ]
        },
        {
          "output_type": "stream",
          "name": "stdout",
          "text": [
            "Loss: 0.0311\n",
            "acc: 0.989567907328792\n",
            "Epoch: 0/5............. "
          ]
        },
        {
          "output_type": "stream",
          "name": "stderr",
          "text": [
            "\r 38%|███▊      | 304/795 [03:49<06:13,  1.32it/s]"
          ]
        },
        {
          "output_type": "stream",
          "name": "stdout",
          "text": [
            "Loss: 0.0351\n",
            "acc: 0.9890143116307196\n",
            "Epoch: 0/5............. "
          ]
        },
        {
          "output_type": "stream",
          "name": "stderr",
          "text": [
            "\r 38%|███▊      | 305/795 [03:50<06:12,  1.32it/s]"
          ]
        },
        {
          "output_type": "stream",
          "name": "stdout",
          "text": [
            "Loss: 0.0307\n",
            "acc: 0.9889410426000995\n",
            "Epoch: 0/5............. "
          ]
        },
        {
          "output_type": "stream",
          "name": "stderr",
          "text": [
            "\r 38%|███▊      | 306/795 [03:51<06:12,  1.31it/s]"
          ]
        },
        {
          "output_type": "stream",
          "name": "stdout",
          "text": [
            "Loss: 0.0295\n",
            "acc: 0.9909594156375905\n",
            "Epoch: 0/5............. "
          ]
        },
        {
          "output_type": "stream",
          "name": "stderr",
          "text": [
            "\r 39%|███▊      | 307/795 [03:51<06:10,  1.32it/s]"
          ]
        },
        {
          "output_type": "stream",
          "name": "stdout",
          "text": [
            "Loss: 0.0285\n",
            "acc: 0.9902643499425327\n",
            "Epoch: 0/5............. "
          ]
        },
        {
          "output_type": "stream",
          "name": "stderr",
          "text": [
            "\r 39%|███▊      | 308/795 [03:52<06:10,  1.31it/s]"
          ]
        },
        {
          "output_type": "stream",
          "name": "stdout",
          "text": [
            "Loss: 0.0262\n",
            "acc: 0.9912383801688215\n",
            "Epoch: 0/5............. "
          ]
        },
        {
          "output_type": "stream",
          "name": "stderr",
          "text": [
            "\r 39%|███▉      | 309/795 [03:53<06:10,  1.31it/s]"
          ]
        },
        {
          "output_type": "stream",
          "name": "stdout",
          "text": [
            "Loss: 0.0315\n",
            "acc: 0.9897561831257674\n",
            "Epoch: 0/5............. "
          ]
        },
        {
          "output_type": "stream",
          "name": "stderr",
          "text": [
            "\r 39%|███▉      | 310/795 [03:54<06:08,  1.32it/s]"
          ]
        },
        {
          "output_type": "stream",
          "name": "stdout",
          "text": [
            "Loss: 0.0300\n",
            "acc: 0.9903009662014586\n",
            "Epoch: 0/5............. "
          ]
        },
        {
          "output_type": "stream",
          "name": "stderr",
          "text": [
            "\r 39%|███▉      | 311/795 [03:54<06:07,  1.32it/s]"
          ]
        },
        {
          "output_type": "stream",
          "name": "stdout",
          "text": [
            "Loss: 0.0300\n",
            "acc: 0.9900333270452116\n",
            "Epoch: 0/5............. "
          ]
        },
        {
          "output_type": "stream",
          "name": "stderr",
          "text": [
            "\r 39%|███▉      | 312/795 [03:55<06:07,  1.31it/s]"
          ]
        },
        {
          "output_type": "stream",
          "name": "stdout",
          "text": [
            "Loss: 0.0286\n",
            "acc: 0.989833510449876\n",
            "Epoch: 0/5............. "
          ]
        },
        {
          "output_type": "stream",
          "name": "stderr",
          "text": [
            "\r 39%|███▉      | 313/795 [03:56<06:06,  1.31it/s]"
          ]
        },
        {
          "output_type": "stream",
          "name": "stdout",
          "text": [
            "Loss: 0.0312\n",
            "acc: 0.9895117807814462\n",
            "Epoch: 0/5............. "
          ]
        },
        {
          "output_type": "stream",
          "name": "stderr",
          "text": [
            "\r 39%|███▉      | 314/795 [03:57<06:05,  1.31it/s]"
          ]
        },
        {
          "output_type": "stream",
          "name": "stdout",
          "text": [
            "Loss: 0.0269\n",
            "acc: 0.9903792912513842\n",
            "Epoch: 0/5............. "
          ]
        },
        {
          "output_type": "stream",
          "name": "stderr",
          "text": [
            "\r 40%|███▉      | 315/795 [03:57<06:03,  1.32it/s]"
          ]
        },
        {
          "output_type": "stream",
          "name": "stdout",
          "text": [
            "Loss: 0.0300\n",
            "acc: 0.9901550655804737\n",
            "Epoch: 0/5............. "
          ]
        },
        {
          "output_type": "stream",
          "name": "stderr",
          "text": [
            "\r 40%|███▉      | 316/795 [03:58<06:02,  1.32it/s]"
          ]
        },
        {
          "output_type": "stream",
          "name": "stdout",
          "text": [
            "Loss: 0.0263\n",
            "acc: 0.9915096367414201\n",
            "Epoch: 0/5............. "
          ]
        },
        {
          "output_type": "stream",
          "name": "stderr",
          "text": [
            "\r 40%|███▉      | 317/795 [03:59<06:01,  1.32it/s]"
          ]
        },
        {
          "output_type": "stream",
          "name": "stdout",
          "text": [
            "Loss: 0.0291\n",
            "acc: 0.9902953106637856\n",
            "Epoch: 0/5............. "
          ]
        },
        {
          "output_type": "stream",
          "name": "stderr",
          "text": [
            "\r 40%|████      | 318/795 [04:00<06:00,  1.32it/s]"
          ]
        },
        {
          "output_type": "stream",
          "name": "stdout",
          "text": [
            "Loss: 0.0303\n",
            "acc: 0.9899067802293608\n",
            "Epoch: 0/5............. "
          ]
        },
        {
          "output_type": "stream",
          "name": "stderr",
          "text": [
            "\r 40%|████      | 319/795 [04:00<05:59,  1.32it/s]"
          ]
        },
        {
          "output_type": "stream",
          "name": "stdout",
          "text": [
            "Loss: 0.0293\n",
            "acc: 0.9907453906306047\n",
            "Epoch: 0/5............. "
          ]
        },
        {
          "output_type": "stream",
          "name": "stderr",
          "text": [
            "\r 40%|████      | 320/795 [04:01<05:58,  1.33it/s]"
          ]
        },
        {
          "output_type": "stream",
          "name": "stdout",
          "text": [
            "Loss: 0.0251\n",
            "acc: 0.991724870938354\n",
            "Epoch: 0/5............. "
          ]
        },
        {
          "output_type": "stream",
          "name": "stderr",
          "text": [
            "\r 40%|████      | 321/795 [04:02<05:58,  1.32it/s]"
          ]
        },
        {
          "output_type": "stream",
          "name": "stdout",
          "text": [
            "Loss: 0.0281\n",
            "acc: 0.9908256880733946\n",
            "Epoch: 0/5............. "
          ]
        },
        {
          "output_type": "stream",
          "name": "stderr",
          "text": [
            "\r 41%|████      | 322/795 [04:03<05:57,  1.32it/s]"
          ]
        },
        {
          "output_type": "stream",
          "name": "stdout",
          "text": [
            "Loss: 0.0298\n",
            "acc: 0.990067540723083\n",
            "Epoch: 0/5............. "
          ]
        },
        {
          "output_type": "stream",
          "name": "stderr",
          "text": [
            "\r 41%|████      | 323/795 [04:04<05:59,  1.31it/s]"
          ]
        },
        {
          "output_type": "stream",
          "name": "stdout",
          "text": [
            "Loss: 0.0271\n",
            "acc: 0.9916740674955595\n",
            "Epoch: 0/5............. "
          ]
        },
        {
          "output_type": "stream",
          "name": "stderr",
          "text": [
            "\r 41%|████      | 324/795 [04:04<05:57,  1.32it/s]"
          ]
        },
        {
          "output_type": "stream",
          "name": "stdout",
          "text": [
            "Loss: 0.0297\n",
            "acc: 0.9900700358399369\n",
            "Epoch: 0/5............. "
          ]
        },
        {
          "output_type": "stream",
          "name": "stderr",
          "text": [
            "\r 41%|████      | 325/795 [04:05<05:56,  1.32it/s]"
          ]
        },
        {
          "output_type": "stream",
          "name": "stdout",
          "text": [
            "Loss: 0.0284\n",
            "acc: 0.9905787853764733\n",
            "Epoch: 0/5............. "
          ]
        },
        {
          "output_type": "stream",
          "name": "stderr",
          "text": [
            "\r 41%|████      | 326/795 [04:06<05:55,  1.32it/s]"
          ]
        },
        {
          "output_type": "stream",
          "name": "stdout",
          "text": [
            "Loss: 0.0348\n",
            "acc: 0.9880904989384289\n",
            "Epoch: 0/5............. "
          ]
        },
        {
          "output_type": "stream",
          "name": "stderr",
          "text": [
            "\r 41%|████      | 327/795 [04:07<05:53,  1.32it/s]"
          ]
        },
        {
          "output_type": "stream",
          "name": "stdout",
          "text": [
            "Loss: 0.0292\n",
            "acc: 0.990868715580032\n",
            "Epoch: 0/5............. "
          ]
        },
        {
          "output_type": "stream",
          "name": "stderr",
          "text": [
            "\r 41%|████▏     | 328/795 [04:07<05:52,  1.32it/s]"
          ]
        },
        {
          "output_type": "stream",
          "name": "stdout",
          "text": [
            "Loss: 0.0245\n",
            "acc: 0.9922295277943813\n",
            "Epoch: 0/5............. "
          ]
        },
        {
          "output_type": "stream",
          "name": "stderr",
          "text": [
            "\r 41%|████▏     | 329/795 [04:08<05:53,  1.32it/s]"
          ]
        },
        {
          "output_type": "stream",
          "name": "stdout",
          "text": [
            "Loss: 0.0347\n",
            "acc: 0.9886037987337554\n",
            "Epoch: 0/5............. "
          ]
        },
        {
          "output_type": "stream",
          "name": "stderr",
          "text": [
            "\r 42%|████▏     | 330/795 [04:09<05:52,  1.32it/s]"
          ]
        },
        {
          "output_type": "stream",
          "name": "stdout",
          "text": [
            "Loss: 0.0299\n",
            "acc: 0.990286960670711\n",
            "Epoch: 0/5............. "
          ]
        },
        {
          "output_type": "stream",
          "name": "stderr",
          "text": [
            "\r 42%|████▏     | 331/795 [04:10<05:52,  1.31it/s]"
          ]
        },
        {
          "output_type": "stream",
          "name": "stdout",
          "text": [
            "Loss: 0.0391\n",
            "acc: 0.9875786065624805\n",
            "Epoch: 0/5............. "
          ]
        },
        {
          "output_type": "stream",
          "name": "stderr",
          "text": [
            "\r 42%|████▏     | 332/795 [04:10<05:50,  1.32it/s]"
          ]
        },
        {
          "output_type": "stream",
          "name": "stdout",
          "text": [
            "Loss: 0.0315\n",
            "acc: 0.9892221910724854\n",
            "Epoch: 0/5............. "
          ]
        },
        {
          "output_type": "stream",
          "name": "stderr",
          "text": [
            "\r 42%|████▏     | 333/795 [04:11<05:50,  1.32it/s]"
          ]
        },
        {
          "output_type": "stream",
          "name": "stdout",
          "text": [
            "Loss: 0.0313\n",
            "acc: 0.9903750642233259\n",
            "Epoch: 0/5............. "
          ]
        },
        {
          "output_type": "stream",
          "name": "stderr",
          "text": [
            "\r 42%|████▏     | 334/795 [04:12<05:49,  1.32it/s]"
          ]
        },
        {
          "output_type": "stream",
          "name": "stdout",
          "text": [
            "Loss: 0.0306\n",
            "acc: 0.9904877040053447\n",
            "Epoch: 0/5............. "
          ]
        },
        {
          "output_type": "stream",
          "name": "stderr",
          "text": [
            "\r 42%|████▏     | 335/795 [04:13<05:48,  1.32it/s]"
          ]
        },
        {
          "output_type": "stream",
          "name": "stdout",
          "text": [
            "Loss: 0.0256\n",
            "acc: 0.9905709992486852\n",
            "Epoch: 0/5............. "
          ]
        },
        {
          "output_type": "stream",
          "name": "stderr",
          "text": [
            "\r 42%|████▏     | 336/795 [04:13<05:48,  1.32it/s]"
          ]
        },
        {
          "output_type": "stream",
          "name": "stdout",
          "text": [
            "Loss: 0.0291\n",
            "acc: 0.9902901868123754\n",
            "Epoch: 0/5............. "
          ]
        },
        {
          "output_type": "stream",
          "name": "stderr",
          "text": [
            "\r 42%|████▏     | 337/795 [04:14<05:47,  1.32it/s]"
          ]
        },
        {
          "output_type": "stream",
          "name": "stdout",
          "text": [
            "Loss: 0.0305\n",
            "acc: 0.9908727310019485\n",
            "Epoch: 0/5............. "
          ]
        },
        {
          "output_type": "stream",
          "name": "stderr",
          "text": [
            "\r 43%|████▎     | 338/795 [04:15<05:47,  1.31it/s]"
          ]
        },
        {
          "output_type": "stream",
          "name": "stdout",
          "text": [
            "Loss: 0.0281\n",
            "acc: 0.9907372072853425\n",
            "Epoch: 0/5............. "
          ]
        },
        {
          "output_type": "stream",
          "name": "stderr",
          "text": [
            "\r 43%|████▎     | 339/795 [04:16<05:45,  1.32it/s]"
          ]
        },
        {
          "output_type": "stream",
          "name": "stdout",
          "text": [
            "Loss: 0.0257\n",
            "acc: 0.9916423357664234\n",
            "Epoch: 0/5............. "
          ]
        },
        {
          "output_type": "stream",
          "name": "stderr",
          "text": [
            "\r 43%|████▎     | 340/795 [04:16<05:44,  1.32it/s]"
          ]
        },
        {
          "output_type": "stream",
          "name": "stdout",
          "text": [
            "Loss: 0.0288\n",
            "acc: 0.9905998804225071\n",
            "Epoch: 0/5............. "
          ]
        },
        {
          "output_type": "stream",
          "name": "stderr",
          "text": [
            "\r 43%|████▎     | 341/795 [04:17<05:44,  1.32it/s]"
          ]
        },
        {
          "output_type": "stream",
          "name": "stdout",
          "text": [
            "Loss: 0.0315\n",
            "acc: 0.9890512272051626\n",
            "Epoch: 0/5............. "
          ]
        },
        {
          "output_type": "stream",
          "name": "stderr",
          "text": [
            "\r 43%|████▎     | 342/795 [04:18<05:43,  1.32it/s]"
          ]
        },
        {
          "output_type": "stream",
          "name": "stdout",
          "text": [
            "Loss: 0.0304\n",
            "acc: 0.9901477832512315\n",
            "Epoch: 0/5............. "
          ]
        },
        {
          "output_type": "stream",
          "name": "stderr",
          "text": [
            "\r 43%|████▎     | 343/795 [04:19<05:42,  1.32it/s]"
          ]
        },
        {
          "output_type": "stream",
          "name": "stdout",
          "text": [
            "Loss: 0.0326\n",
            "acc: 0.9893173293323331\n",
            "Epoch: 0/5............. "
          ]
        },
        {
          "output_type": "stream",
          "name": "stderr",
          "text": [
            "\r 43%|████▎     | 344/795 [04:19<05:41,  1.32it/s]"
          ]
        },
        {
          "output_type": "stream",
          "name": "stdout",
          "text": [
            "Loss: 0.0357\n",
            "acc: 0.9876640045636053\n",
            "Epoch: 0/5............. "
          ]
        },
        {
          "output_type": "stream",
          "name": "stderr",
          "text": [
            "\r 43%|████▎     | 345/795 [04:20<05:42,  1.32it/s]"
          ]
        },
        {
          "output_type": "stream",
          "name": "stdout",
          "text": [
            "Loss: 0.0276\n",
            "acc: 0.9916586326864233\n",
            "Epoch: 0/5............. "
          ]
        },
        {
          "output_type": "stream",
          "name": "stderr",
          "text": [
            "\r 44%|████▎     | 346/795 [04:21<05:39,  1.32it/s]"
          ]
        },
        {
          "output_type": "stream",
          "name": "stdout",
          "text": [
            "Loss: 0.0262\n",
            "acc: 0.9907023676528884\n",
            "Epoch: 0/5............. "
          ]
        },
        {
          "output_type": "stream",
          "name": "stderr",
          "text": [
            "\r 44%|████▎     | 347/795 [04:22<05:37,  1.33it/s]"
          ]
        },
        {
          "output_type": "stream",
          "name": "stdout",
          "text": [
            "Loss: 0.0285\n",
            "acc: 0.9905601697705901\n",
            "Epoch: 0/5............. "
          ]
        },
        {
          "output_type": "stream",
          "name": "stderr",
          "text": [
            "\r 44%|████▍     | 348/795 [04:22<05:37,  1.33it/s]"
          ]
        },
        {
          "output_type": "stream",
          "name": "stdout",
          "text": [
            "Loss: 0.0325\n",
            "acc: 0.9894283107321524\n",
            "Epoch: 0/5............. "
          ]
        },
        {
          "output_type": "stream",
          "name": "stderr",
          "text": [
            "\r 44%|████▍     | 349/795 [04:23<05:37,  1.32it/s]"
          ]
        },
        {
          "output_type": "stream",
          "name": "stdout",
          "text": [
            "Loss: 0.0235\n",
            "acc: 0.9923855963990997\n",
            "Epoch: 0/5............. "
          ]
        },
        {
          "output_type": "stream",
          "name": "stderr",
          "text": [
            "\r 44%|████▍     | 350/795 [04:24<05:36,  1.32it/s]"
          ]
        },
        {
          "output_type": "stream",
          "name": "stdout",
          "text": [
            "Loss: 0.0283\n",
            "acc: 0.9908923218814849\n",
            "Epoch: 0/5............. "
          ]
        },
        {
          "output_type": "stream",
          "name": "stderr",
          "text": [
            "\r 44%|████▍     | 351/795 [04:25<05:37,  1.32it/s]"
          ]
        },
        {
          "output_type": "stream",
          "name": "stdout",
          "text": [
            "Loss: 0.0254\n",
            "acc: 0.991735236292143\n",
            "Epoch: 0/5............. "
          ]
        },
        {
          "output_type": "stream",
          "name": "stderr",
          "text": [
            "\r 44%|████▍     | 352/795 [04:25<05:36,  1.32it/s]"
          ]
        },
        {
          "output_type": "stream",
          "name": "stdout",
          "text": [
            "Loss: 0.0282\n",
            "acc: 0.9907541889546211\n",
            "Epoch: 0/5............. "
          ]
        },
        {
          "output_type": "stream",
          "name": "stderr",
          "text": [
            "\r 44%|████▍     | 353/795 [04:26<05:35,  1.32it/s]"
          ]
        },
        {
          "output_type": "stream",
          "name": "stdout",
          "text": [
            "Loss: 0.0261\n",
            "acc: 0.9915125697873302\n",
            "Epoch: 0/5............. "
          ]
        },
        {
          "output_type": "stream",
          "name": "stderr",
          "text": [
            "\r 45%|████▍     | 354/795 [04:27<05:33,  1.32it/s]"
          ]
        },
        {
          "output_type": "stream",
          "name": "stdout",
          "text": [
            "Loss: 0.0309\n",
            "acc: 0.9884705514763318\n",
            "Epoch: 0/5............. "
          ]
        },
        {
          "output_type": "stream",
          "name": "stderr",
          "text": [
            "\r 45%|████▍     | 355/795 [04:28<05:32,  1.32it/s]"
          ]
        },
        {
          "output_type": "stream",
          "name": "stdout",
          "text": [
            "Loss: 0.0265\n",
            "acc: 0.9918147334797365\n",
            "Epoch: 0/5............. "
          ]
        },
        {
          "output_type": "stream",
          "name": "stderr",
          "text": [
            "\r 45%|████▍     | 356/795 [04:29<05:32,  1.32it/s]"
          ]
        },
        {
          "output_type": "stream",
          "name": "stdout",
          "text": [
            "Loss: 0.0282\n",
            "acc: 0.9908284928156527\n",
            "Epoch: 0/5............. "
          ]
        },
        {
          "output_type": "stream",
          "name": "stderr",
          "text": [
            "\r 45%|████▍     | 357/795 [04:29<05:31,  1.32it/s]"
          ]
        },
        {
          "output_type": "stream",
          "name": "stdout",
          "text": [
            "Loss: 0.0284\n",
            "acc: 0.990571596935769\n",
            "Epoch: 0/5............. "
          ]
        },
        {
          "output_type": "stream",
          "name": "stderr",
          "text": [
            "\r 45%|████▌     | 358/795 [04:30<05:31,  1.32it/s]"
          ]
        },
        {
          "output_type": "stream",
          "name": "stdout",
          "text": [
            "Loss: 0.0277\n",
            "acc: 0.9897101588214616\n",
            "Epoch: 0/5............. "
          ]
        },
        {
          "output_type": "stream",
          "name": "stderr",
          "text": [
            "\r 45%|████▌     | 359/795 [04:31<05:30,  1.32it/s]"
          ]
        },
        {
          "output_type": "stream",
          "name": "stdout",
          "text": [
            "Loss: 0.0271\n",
            "acc: 0.9917155806523515\n",
            "Epoch: 0/5............. "
          ]
        },
        {
          "output_type": "stream",
          "name": "stderr",
          "text": [
            "\r 45%|████▌     | 360/795 [04:32<05:30,  1.31it/s]"
          ]
        },
        {
          "output_type": "stream",
          "name": "stdout",
          "text": [
            "Loss: 0.0311\n",
            "acc: 0.9909824549939557\n",
            "Epoch: 0/5............. "
          ]
        },
        {
          "output_type": "stream",
          "name": "stderr",
          "text": [
            "\r 45%|████▌     | 361/795 [04:32<05:29,  1.32it/s]"
          ]
        },
        {
          "output_type": "stream",
          "name": "stdout",
          "text": [
            "Loss: 0.0283\n",
            "acc: 0.9913268256181762\n",
            "Epoch: 0/5............. "
          ]
        },
        {
          "output_type": "stream",
          "name": "stderr",
          "text": [
            "\r 46%|████▌     | 362/795 [04:33<05:28,  1.32it/s]"
          ]
        },
        {
          "output_type": "stream",
          "name": "stdout",
          "text": [
            "Loss: 0.0242\n",
            "acc: 0.9920958981082599\n",
            "Epoch: 0/5............. "
          ]
        },
        {
          "output_type": "stream",
          "name": "stderr",
          "text": [
            "\r 46%|████▌     | 363/795 [04:34<05:26,  1.32it/s]"
          ]
        },
        {
          "output_type": "stream",
          "name": "stdout",
          "text": [
            "Loss: 0.0256\n",
            "acc: 0.9917743403093722\n",
            "Epoch: 0/5............. "
          ]
        },
        {
          "output_type": "stream",
          "name": "stderr",
          "text": [
            "\r 46%|████▌     | 364/795 [04:35<05:26,  1.32it/s]"
          ]
        },
        {
          "output_type": "stream",
          "name": "stdout",
          "text": [
            "Loss: 0.0298\n",
            "acc: 0.9898179280593795\n",
            "Epoch: 0/5............. "
          ]
        },
        {
          "output_type": "stream",
          "name": "stderr",
          "text": [
            "\r 46%|████▌     | 365/795 [04:35<05:25,  1.32it/s]"
          ]
        },
        {
          "output_type": "stream",
          "name": "stdout",
          "text": [
            "Loss: 0.0334\n",
            "acc: 0.9889003522003629\n",
            "Epoch: 0/5............. "
          ]
        },
        {
          "output_type": "stream",
          "name": "stderr",
          "text": [
            "\r 46%|████▌     | 366/795 [04:36<05:23,  1.32it/s]"
          ]
        },
        {
          "output_type": "stream",
          "name": "stdout",
          "text": [
            "Loss: 0.0303\n",
            "acc: 0.9895833333333334\n",
            "Epoch: 0/5............. "
          ]
        },
        {
          "output_type": "stream",
          "name": "stderr",
          "text": [
            "\r 46%|████▌     | 367/795 [04:37<05:23,  1.32it/s]"
          ]
        },
        {
          "output_type": "stream",
          "name": "stdout",
          "text": [
            "Loss: 0.0256\n",
            "acc: 0.9912388675693288\n",
            "Epoch: 0/5............. "
          ]
        },
        {
          "output_type": "stream",
          "name": "stderr",
          "text": [
            "\r 46%|████▋     | 368/795 [04:38<05:23,  1.32it/s]"
          ]
        },
        {
          "output_type": "stream",
          "name": "stdout",
          "text": [
            "Loss: 0.0283\n",
            "acc: 0.9905877770925968\n",
            "Epoch: 0/5............. "
          ]
        },
        {
          "output_type": "stream",
          "name": "stderr",
          "text": [
            "\r 46%|████▋     | 369/795 [04:38<05:23,  1.32it/s]"
          ]
        },
        {
          "output_type": "stream",
          "name": "stdout",
          "text": [
            "Loss: 0.0298\n",
            "acc: 0.990360696517413\n",
            "Epoch: 0/5............. "
          ]
        },
        {
          "output_type": "stream",
          "name": "stderr",
          "text": [
            "\r 47%|████▋     | 370/795 [04:39<05:20,  1.33it/s]"
          ]
        },
        {
          "output_type": "stream",
          "name": "stdout",
          "text": [
            "Loss: 0.0225\n",
            "acc: 0.992281612926495\n",
            "Epoch: 0/5............. "
          ]
        },
        {
          "output_type": "stream",
          "name": "stderr",
          "text": [
            "\r 47%|████▋     | 371/795 [04:40<05:20,  1.32it/s]"
          ]
        },
        {
          "output_type": "stream",
          "name": "stdout",
          "text": [
            "Loss: 0.0211\n",
            "acc: 0.9929520888109845\n",
            "Epoch: 0/5............. "
          ]
        },
        {
          "output_type": "stream",
          "name": "stderr",
          "text": [
            "\r 47%|████▋     | 372/795 [04:41<05:19,  1.32it/s]"
          ]
        },
        {
          "output_type": "stream",
          "name": "stdout",
          "text": [
            "Loss: 0.0315\n",
            "acc: 0.9893976328232841\n",
            "Epoch: 0/5............. "
          ]
        },
        {
          "output_type": "stream",
          "name": "stderr",
          "text": [
            "\r 47%|████▋     | 373/795 [04:41<05:19,  1.32it/s]"
          ]
        },
        {
          "output_type": "stream",
          "name": "stdout",
          "text": [
            "Loss: 0.0281\n",
            "acc: 0.9907016060862215\n",
            "Epoch: 0/5............. "
          ]
        },
        {
          "output_type": "stream",
          "name": "stderr",
          "text": [
            "\r 47%|████▋     | 374/795 [04:42<05:17,  1.32it/s]"
          ]
        },
        {
          "output_type": "stream",
          "name": "stdout",
          "text": [
            "Loss: 0.0398\n",
            "acc: 0.988406292749658\n",
            "Epoch: 0/5............. "
          ]
        },
        {
          "output_type": "stream",
          "name": "stderr",
          "text": [
            "\r 47%|████▋     | 375/795 [04:43<05:16,  1.33it/s]"
          ]
        },
        {
          "output_type": "stream",
          "name": "stdout",
          "text": [
            "Loss: 0.0293\n",
            "acc: 0.989993136086124\n",
            "Epoch: 0/5............. "
          ]
        },
        {
          "output_type": "stream",
          "name": "stderr",
          "text": [
            "\r 47%|████▋     | 376/795 [04:44<05:16,  1.32it/s]"
          ]
        },
        {
          "output_type": "stream",
          "name": "stdout",
          "text": [
            "Loss: 0.0282\n",
            "acc: 0.9911050191023361\n",
            "Epoch: 0/5............. "
          ]
        },
        {
          "output_type": "stream",
          "name": "stderr",
          "text": [
            "\r 47%|████▋     | 377/795 [04:44<05:16,  1.32it/s]"
          ]
        },
        {
          "output_type": "stream",
          "name": "stdout",
          "text": [
            "Loss: 0.0290\n",
            "acc: 0.9906674781903023\n",
            "Epoch: 0/5............. "
          ]
        },
        {
          "output_type": "stream",
          "name": "stderr",
          "text": [
            "\r 48%|████▊     | 378/795 [04:45<05:16,  1.32it/s]"
          ]
        },
        {
          "output_type": "stream",
          "name": "stdout",
          "text": [
            "Loss: 0.0278\n",
            "acc: 0.9909842479501922\n",
            "Epoch: 0/5............. "
          ]
        },
        {
          "output_type": "stream",
          "name": "stderr",
          "text": [
            "\r 48%|████▊     | 379/795 [04:46<05:15,  1.32it/s]"
          ]
        },
        {
          "output_type": "stream",
          "name": "stdout",
          "text": [
            "Loss: 0.0270\n",
            "acc: 0.9912011173184357\n",
            "Epoch: 0/5............. "
          ]
        },
        {
          "output_type": "stream",
          "name": "stderr",
          "text": [
            "\r 48%|████▊     | 380/795 [04:47<05:15,  1.32it/s]"
          ]
        },
        {
          "output_type": "stream",
          "name": "stdout",
          "text": [
            "Loss: 0.0260\n",
            "acc: 0.9905731647232715\n",
            "Epoch: 0/5............. "
          ]
        },
        {
          "output_type": "stream",
          "name": "stderr",
          "text": [
            "\r 48%|████▊     | 381/795 [04:47<05:14,  1.32it/s]"
          ]
        },
        {
          "output_type": "stream",
          "name": "stdout",
          "text": [
            "Loss: 0.0299\n",
            "acc: 0.9905850706119704\n",
            "Epoch: 0/5............. "
          ]
        },
        {
          "output_type": "stream",
          "name": "stderr",
          "text": [
            "\r 48%|████▊     | 382/795 [04:48<05:13,  1.32it/s]"
          ]
        },
        {
          "output_type": "stream",
          "name": "stdout",
          "text": [
            "Loss: 0.0263\n",
            "acc: 0.991588822839581\n",
            "Epoch: 0/5............. "
          ]
        },
        {
          "output_type": "stream",
          "name": "stderr",
          "text": [
            "\r 48%|████▊     | 383/795 [04:49<05:13,  1.32it/s]"
          ]
        },
        {
          "output_type": "stream",
          "name": "stdout",
          "text": [
            "Loss: 0.0299\n",
            "acc: 0.9903902344003637\n",
            "Epoch: 0/5............. "
          ]
        },
        {
          "output_type": "stream",
          "name": "stderr",
          "text": [
            "\r 48%|████▊     | 384/795 [04:50<05:11,  1.32it/s]"
          ]
        },
        {
          "output_type": "stream",
          "name": "stdout",
          "text": [
            "Loss: 0.0346\n",
            "acc: 0.9889638745533942\n",
            "Epoch: 0/5............. "
          ]
        },
        {
          "output_type": "stream",
          "name": "stderr",
          "text": [
            "\r 48%|████▊     | 385/795 [04:50<05:09,  1.32it/s]"
          ]
        },
        {
          "output_type": "stream",
          "name": "stdout",
          "text": [
            "Loss: 0.0269\n",
            "acc: 0.9902783579538982\n",
            "Epoch: 0/5............. "
          ]
        },
        {
          "output_type": "stream",
          "name": "stderr",
          "text": [
            "\r 49%|████▊     | 386/795 [04:51<05:09,  1.32it/s]"
          ]
        },
        {
          "output_type": "stream",
          "name": "stdout",
          "text": [
            "Loss: 0.0270\n",
            "acc: 0.9914785303231518\n",
            "Epoch: 0/5............. "
          ]
        },
        {
          "output_type": "stream",
          "name": "stderr",
          "text": [
            "\r 49%|████▊     | 387/795 [04:52<05:09,  1.32it/s]"
          ]
        },
        {
          "output_type": "stream",
          "name": "stdout",
          "text": [
            "Loss: 0.0302\n",
            "acc: 0.9894016862492805\n",
            "Epoch: 0/5............. "
          ]
        },
        {
          "output_type": "stream",
          "name": "stderr",
          "text": [
            "\r 49%|████▉     | 388/795 [04:53<05:08,  1.32it/s]"
          ]
        },
        {
          "output_type": "stream",
          "name": "stdout",
          "text": [
            "Loss: 0.0325\n",
            "acc: 0.990194562157815\n",
            "Epoch: 0/5............. "
          ]
        },
        {
          "output_type": "stream",
          "name": "stderr",
          "text": [
            "\r 49%|████▉     | 389/795 [04:54<05:08,  1.32it/s]"
          ]
        },
        {
          "output_type": "stream",
          "name": "stdout",
          "text": [
            "Loss: 0.0216\n",
            "acc: 0.9934034219748505\n",
            "Epoch: 0/5............. "
          ]
        },
        {
          "output_type": "stream",
          "name": "stderr",
          "text": [
            "\r 49%|████▉     | 390/795 [04:54<05:08,  1.31it/s]"
          ]
        },
        {
          "output_type": "stream",
          "name": "stdout",
          "text": [
            "Loss: 0.0253\n",
            "acc: 0.9914771758769986\n",
            "Epoch: 0/5............. "
          ]
        },
        {
          "output_type": "stream",
          "name": "stderr",
          "text": [
            "\r 49%|████▉     | 391/795 [04:55<05:06,  1.32it/s]"
          ]
        },
        {
          "output_type": "stream",
          "name": "stdout",
          "text": [
            "Loss: 0.0229\n",
            "acc: 0.9928377121999931\n",
            "Epoch: 0/5............. "
          ]
        },
        {
          "output_type": "stream",
          "name": "stderr",
          "text": [
            "\r 49%|████▉     | 392/795 [04:56<05:05,  1.32it/s]"
          ]
        },
        {
          "output_type": "stream",
          "name": "stdout",
          "text": [
            "Loss: 0.0268\n",
            "acc: 0.9922155886136491\n",
            "Epoch: 0/5............. "
          ]
        },
        {
          "output_type": "stream",
          "name": "stderr",
          "text": [
            "\r 49%|████▉     | 393/795 [04:57<05:04,  1.32it/s]"
          ]
        },
        {
          "output_type": "stream",
          "name": "stdout",
          "text": [
            "Loss: 0.0263\n",
            "acc: 0.9915085817524842\n",
            "Epoch: 0/5............. "
          ]
        },
        {
          "output_type": "stream",
          "name": "stderr",
          "text": [
            "\r 50%|████▉     | 394/795 [04:57<05:03,  1.32it/s]"
          ]
        },
        {
          "output_type": "stream",
          "name": "stdout",
          "text": [
            "Loss: 0.0232\n",
            "acc: 0.9925221189797505\n",
            "Epoch: 0/5............. "
          ]
        },
        {
          "output_type": "stream",
          "name": "stderr",
          "text": [
            "\r 50%|████▉     | 395/795 [04:58<05:03,  1.32it/s]"
          ]
        },
        {
          "output_type": "stream",
          "name": "stdout",
          "text": [
            "Loss: 0.0277\n",
            "acc: 0.9919089934649563\n",
            "Epoch: 0/5............. "
          ]
        },
        {
          "output_type": "stream",
          "name": "stderr",
          "text": [
            "\r 50%|████▉     | 396/795 [04:59<05:01,  1.32it/s]"
          ]
        },
        {
          "output_type": "stream",
          "name": "stdout",
          "text": [
            "Loss: 0.0253\n",
            "acc: 0.9927403414195867\n",
            "Epoch: 0/5............. "
          ]
        },
        {
          "output_type": "stream",
          "name": "stderr",
          "text": [
            "\r 50%|████▉     | 397/795 [05:00<05:01,  1.32it/s]"
          ]
        },
        {
          "output_type": "stream",
          "name": "stdout",
          "text": [
            "Loss: 0.0277\n",
            "acc: 0.991824894514768\n",
            "Epoch: 0/5............. "
          ]
        },
        {
          "output_type": "stream",
          "name": "stderr",
          "text": [
            "\r 50%|█████     | 398/795 [05:00<05:01,  1.32it/s]"
          ]
        },
        {
          "output_type": "stream",
          "name": "stdout",
          "text": [
            "Loss: 0.0264\n",
            "acc: 0.9912919730288348\n",
            "Epoch: 0/5............. "
          ]
        },
        {
          "output_type": "stream",
          "name": "stderr",
          "text": [
            "\r 50%|█████     | 399/795 [05:01<05:00,  1.32it/s]"
          ]
        },
        {
          "output_type": "stream",
          "name": "stdout",
          "text": [
            "Loss: 0.0251\n",
            "acc: 0.9920386860883411\n",
            "Epoch: 0/5............. "
          ]
        },
        {
          "output_type": "stream",
          "name": "stderr",
          "text": [
            "\r 50%|█████     | 400/795 [05:02<04:59,  1.32it/s]"
          ]
        },
        {
          "output_type": "stream",
          "name": "stdout",
          "text": [
            "Loss: 0.0300\n",
            "acc: 0.9904232001348845\n",
            "Epoch: 0/5............. "
          ]
        },
        {
          "output_type": "stream",
          "name": "stderr",
          "text": [
            "\r 50%|█████     | 401/795 [05:03<04:59,  1.31it/s]"
          ]
        },
        {
          "output_type": "stream",
          "name": "stdout",
          "text": [
            "Loss: 0.0265\n",
            "acc: 0.9916682939530039\n",
            "Epoch: 0/5............. "
          ]
        },
        {
          "output_type": "stream",
          "name": "stderr",
          "text": [
            "\r 50%|█████     | 401/795 [05:03<04:58,  1.32it/s]\n"
          ]
        },
        {
          "output_type": "error",
          "ename": "KeyboardInterrupt",
          "evalue": "ignored",
          "traceback": [
            "\u001b[0;31m---------------------------------------------------------------------------\u001b[0m",
            "\u001b[0;31mKeyboardInterrupt\u001b[0m                         Traceback (most recent call last)",
            "\u001b[0;32m<ipython-input-18-fd100b99f8a0>\u001b[0m in \u001b[0;36m<cell line: 2>\u001b[0;34m()\u001b[0m\n\u001b[1;32m      1\u001b[0m \u001b[0;32mfrom\u001b[0m \u001b[0mtashkeel_train\u001b[0m \u001b[0;32mimport\u001b[0m \u001b[0mtrain\u001b[0m\u001b[0;34m\u001b[0m\u001b[0;34m\u001b[0m\u001b[0m\n\u001b[0;32m----> 2\u001b[0;31m \u001b[0mtrain\u001b[0m\u001b[0;34m(\u001b[0m\u001b[0mmodel\u001b[0m\u001b[0;34m,\u001b[0m \u001b[0mall_dataset\u001b[0m\u001b[0;34m)\u001b[0m\u001b[0;34m\u001b[0m\u001b[0;34m\u001b[0m\u001b[0m\n\u001b[0m",
            "\u001b[0;32m/content/tashkeel_train.py\u001b[0m in \u001b[0;36mtrain\u001b[0;34m(model, train_dataset, batch_size, epochs, learning_rate, gamma, step_size)\u001b[0m\n\u001b[1;32m    107\u001b[0m \u001b[0;34m\u001b[0m\u001b[0m\n\u001b[1;32m    108\u001b[0m       \u001b[0mprint\u001b[0m\u001b[0;34m(\u001b[0m\u001b[0;34m'Epoch: {}/{}.............'\u001b[0m\u001b[0;34m.\u001b[0m\u001b[0mformat\u001b[0m\u001b[0;34m(\u001b[0m\u001b[0mepoch_num\u001b[0m\u001b[0;34m,\u001b[0m \u001b[0mepochs\u001b[0m\u001b[0;34m)\u001b[0m\u001b[0;34m,\u001b[0m \u001b[0mend\u001b[0m\u001b[0;34m=\u001b[0m\u001b[0;34m' '\u001b[0m\u001b[0;34m)\u001b[0m\u001b[0;34m\u001b[0m\u001b[0;34m\u001b[0m\u001b[0m\n\u001b[0;32m--> 109\u001b[0;31m       \u001b[0mprint\u001b[0m\u001b[0;34m(\u001b[0m\u001b[0;34m\"Loss: {:.4f}\"\u001b[0m\u001b[0;34m.\u001b[0m\u001b[0mformat\u001b[0m\u001b[0;34m(\u001b[0m\u001b[0mbatch_loss\u001b[0m\u001b[0;34m.\u001b[0m\u001b[0mitem\u001b[0m\u001b[0;34m(\u001b[0m\u001b[0;34m)\u001b[0m\u001b[0;34m)\u001b[0m\u001b[0;34m)\u001b[0m\u001b[0;34m\u001b[0m\u001b[0;34m\u001b[0m\u001b[0m\n\u001b[0m\u001b[1;32m    110\u001b[0m       \u001b[0;31m# print(\"correct \",acc,\"train_label.numel()\",train_label.numel())\u001b[0m\u001b[0;34m\u001b[0m\u001b[0;34m\u001b[0m\u001b[0m\n\u001b[1;32m    111\u001b[0m       \u001b[0mprint\u001b[0m\u001b[0;34m(\u001b[0m\u001b[0;34m\"acc:\"\u001b[0m\u001b[0;34m,\u001b[0m\u001b[0;34m(\u001b[0m\u001b[0macc\u001b[0m \u001b[0;34m/\u001b[0m \u001b[0mtrain_label\u001b[0m\u001b[0;34m.\u001b[0m\u001b[0mnumel\u001b[0m\u001b[0;34m(\u001b[0m\u001b[0;34m)\u001b[0m\u001b[0;34m)\u001b[0m\u001b[0;34m)\u001b[0m\u001b[0;34m\u001b[0m\u001b[0;34m\u001b[0m\u001b[0m\n",
            "\u001b[0;31mKeyboardInterrupt\u001b[0m: "
          ]
        }
      ]
    },
    {
      "cell_type": "code",
      "source": [
        "# torch.save(model.state_dict(), '/content/drive/MyDrive/Kaggle/model(1)/model.pth')"
      ],
      "metadata": {
        "id": "8DlcPtm3C9pJ"
      },
      "execution_count": null,
      "outputs": []
    },
    {
      "cell_type": "code",
      "source": [
        "from utils import get_params\n",
        "from Globals import vocab_map,classes\n",
        "from tashkeel_data_set_test import TashkeelDatasetTest\n",
        "\n",
        "\n",
        "v_sentences, _, v_size = get_params(vocab_map, classes, f'/content/drive/MyDrive/Kaggle/model(1)/X.pickle', '',test=True)\n",
        "max_length=300\n",
        "val_dataset_test = TashkeelDatasetTest(v_sentences, vocab_map['<PAD>'],max_length)"
      ],
      "metadata": {
        "colab": {
          "base_uri": "https://localhost:8080/"
        },
        "id": "pBeLnwDpc95v",
        "outputId": "c1c1bf8d-f5b8-4f60-9f81-24952fc7c787"
      },
      "execution_count": 15,
      "outputs": [
        {
          "output_type": "stream",
          "name": "stdout",
          "text": [
            "Loaded Vocab 41 {'ت': 0, 'ه': 1, 'س': 2, 'ئ': 3, 'ي': 4, 'خ': 5, 'ب': 6, 'ش': 7, 'ح': 8, 'ى': 9, 'ن': 10, 'إ': 11, 'ل': 12, 'ؤ': 13, 'ط': 14, 'ج': 15, 'ف': 16, 'آ': 17, 'ص': 18, 'م': 19, 'ا': 20, 'ع': 21, 'و': 22, 'غ': 23, 'ك': 24, 'ظ': 25, 'د': 26, 'ر': 27, 'ق': 28, 'أ': 29, 'ذ': 30, 'ة': 31, 'ء': 32, 'ز': 33, 'ض': 34, 'ث': 35, '<s>': 36, '</s>': 37, ' ': 38, '<PAD>': 39, '<UNK>': 40}\n",
            "{'ت': 0, 'ه': 1, 'س': 2, 'ئ': 3, 'ي': 4, 'خ': 5, 'ب': 6, 'ش': 7, 'ح': 8, 'ى': 9, 'ن': 10, 'إ': 11, 'ل': 12, 'ؤ': 13, 'ط': 14, 'ج': 15, 'ف': 16, 'آ': 17, 'ص': 18, 'م': 19, 'ا': 20, 'ع': 21, 'و': 22, 'غ': 23, 'ك': 24, 'ظ': 25, 'د': 26, 'ر': 27, 'ق': 28, 'أ': 29, 'ذ': 30, 'ة': 31, 'ء': 32, 'ز': 33, 'ض': 34, 'ث': 35, '<s>': 36, '</s>': 37, ' ': 38, '<PAD>': 39, '<UNK>': 40}\n",
            "{'َ': 0, 'ً': 1, 'ُ': 2, 'ٌ': 3, 'ِ': 4, 'ٍ': 5, 'ْ': 6, 'ّ': 7, 'َّ': 8, 'ًّ': 9, 'ُّ': 10, 'ٌّ': 11, 'ِّ': 12, 'ٍّ': 13, '': 14, 'P': 15}\n",
            "Padding ..... with  300 : 9136\n",
            "Done Padding ..... 9336\n"
          ]
        }
      ]
    },
    {
      "cell_type": "code",
      "source": [
        "from tashkeel_result import result\n",
        "result(model, val_dataset_test, batch_size=512)"
      ],
      "metadata": {
        "colab": {
          "base_uri": "https://localhost:8080/"
        },
        "id": "Q64LsL0mdJjb",
        "outputId": "27e59fd9-5a75-4b06-ddd4-73379ad7edde"
      },
      "execution_count": 16,
      "outputs": [
        {
          "output_type": "stream",
          "name": "stderr",
          "text": [
            "\r  0%|          | 0/19 [00:00<?, ?it/s]"
          ]
        },
        {
          "output_type": "stream",
          "name": "stdout",
          "text": [
            "tensor([0, 6, 0,  ..., 0, 0, 5], device='cuda:0')\n"
          ]
        },
        {
          "output_type": "stream",
          "name": "stderr",
          "text": [
            "\r  5%|▌         | 1/19 [00:01<00:22,  1.27s/it]"
          ]
        },
        {
          "output_type": "stream",
          "name": "stdout",
          "text": [
            "tensor([ 0,  4,  6,  ...,  6, 14, 14], device='cuda:0')\n"
          ]
        },
        {
          "output_type": "stream",
          "name": "stderr",
          "text": [
            "\r 11%|█         | 2/19 [00:02<00:18,  1.10s/it]"
          ]
        },
        {
          "output_type": "stream",
          "name": "stdout",
          "text": [
            "tensor([ 0,  0,  6,  ...,  4, 14,  4], device='cuda:0')\n"
          ]
        },
        {
          "output_type": "stream",
          "name": "stderr",
          "text": [
            "\r 16%|█▌        | 3/19 [00:04<00:23,  1.45s/it]"
          ]
        },
        {
          "output_type": "stream",
          "name": "stdout",
          "text": [
            "tensor([ 4,  0,  8,  ...,  0, 14,  4], device='cuda:0')\n"
          ]
        },
        {
          "output_type": "stream",
          "name": "stderr",
          "text": [
            "\r 21%|██        | 4/19 [00:04<00:18,  1.21s/it]"
          ]
        },
        {
          "output_type": "stream",
          "name": "stdout",
          "text": [
            "tensor([14, 14,  8,  ..., 14,  4,  4], device='cuda:0')\n"
          ]
        },
        {
          "output_type": "stream",
          "name": "stderr",
          "text": [
            "\r 26%|██▋       | 5/19 [00:05<00:15,  1.07s/it]"
          ]
        },
        {
          "output_type": "stream",
          "name": "stdout",
          "text": [
            "tensor([2, 8, 0,  ..., 6, 4, 4], device='cuda:0')\n"
          ]
        },
        {
          "output_type": "stream",
          "name": "stderr",
          "text": [
            "\r 32%|███▏      | 6/19 [00:06<00:12,  1.02it/s]"
          ]
        },
        {
          "output_type": "stream",
          "name": "stdout",
          "text": [
            "tensor([4, 0, 8,  ..., 0, 8, 0], device='cuda:0')\n"
          ]
        },
        {
          "output_type": "stream",
          "name": "stderr",
          "text": [
            "\r 37%|███▋      | 7/19 [00:07<00:11,  1.08it/s]"
          ]
        },
        {
          "output_type": "stream",
          "name": "stdout",
          "text": [
            "tensor([ 4,  8,  0,  ...,  0, 14,  4], device='cuda:0')\n"
          ]
        },
        {
          "output_type": "stream",
          "name": "stderr",
          "text": [
            "\r 42%|████▏     | 8/19 [00:08<00:09,  1.13it/s]"
          ]
        },
        {
          "output_type": "stream",
          "name": "stdout",
          "text": [
            "tensor([ 0, 14,  6,  ...,  0,  0,  5], device='cuda:0')\n"
          ]
        },
        {
          "output_type": "stream",
          "name": "stderr",
          "text": [
            "\r 47%|████▋     | 9/19 [00:08<00:08,  1.17it/s]"
          ]
        },
        {
          "output_type": "stream",
          "name": "stdout",
          "text": [
            "tensor([ 0,  8, 14,  ...,  0,  0, 12], device='cuda:0')\n"
          ]
        },
        {
          "output_type": "stream",
          "name": "stderr",
          "text": [
            "\r 53%|█████▎    | 10/19 [00:09<00:07,  1.17it/s]"
          ]
        },
        {
          "output_type": "stream",
          "name": "stdout",
          "text": [
            "tensor([ 0,  0, 14,  ...,  0,  4,  4], device='cuda:0')\n"
          ]
        },
        {
          "output_type": "stream",
          "name": "stderr",
          "text": [
            "\r 58%|█████▊    | 11/19 [00:10<00:06,  1.18it/s]"
          ]
        },
        {
          "output_type": "stream",
          "name": "stdout",
          "text": [
            "tensor([ 0, 14,  6,  ...,  6,  4,  4], device='cuda:0')\n"
          ]
        },
        {
          "output_type": "stream",
          "name": "stderr",
          "text": [
            "\r 63%|██████▎   | 12/19 [00:11<00:05,  1.18it/s]"
          ]
        },
        {
          "output_type": "stream",
          "name": "stdout",
          "text": [
            "tensor([ 0,  0,  6,  ...,  6,  0, 14], device='cuda:0')\n"
          ]
        },
        {
          "output_type": "stream",
          "name": "stderr",
          "text": [
            "\r 68%|██████▊   | 13/19 [00:12<00:05,  1.14it/s]"
          ]
        },
        {
          "output_type": "stream",
          "name": "stdout",
          "text": [
            "tensor([ 0,  0,  0,  ...,  0, 14,  0], device='cuda:0')\n"
          ]
        },
        {
          "output_type": "stream",
          "name": "stderr",
          "text": [
            "\r 74%|███████▎  | 14/19 [00:13<00:04,  1.05it/s]"
          ]
        },
        {
          "output_type": "stream",
          "name": "stdout",
          "text": [
            "tensor([0, 0, 6,  ..., 6, 2, 2], device='cuda:0')\n"
          ]
        },
        {
          "output_type": "stream",
          "name": "stderr",
          "text": [
            "\r 79%|███████▉  | 15/19 [00:14<00:03,  1.00it/s]"
          ]
        },
        {
          "output_type": "stream",
          "name": "stdout",
          "text": [
            "tensor([0, 6, 4,  ..., 6, 4, 4], device='cuda:0')\n"
          ]
        },
        {
          "output_type": "stream",
          "name": "stderr",
          "text": [
            "\r 84%|████████▍ | 16/19 [00:15<00:03,  1.01s/it]"
          ]
        },
        {
          "output_type": "stream",
          "name": "stdout",
          "text": [
            "tensor([ 0,  0, 14,  ...,  2, 14,  2], device='cuda:0')\n"
          ]
        },
        {
          "output_type": "stream",
          "name": "stderr",
          "text": [
            "\r 89%|████████▉ | 17/19 [00:16<00:02,  1.00s/it]"
          ]
        },
        {
          "output_type": "stream",
          "name": "stdout",
          "text": [
            "tensor([0, 6, 0,  ..., 6, 4, 4], device='cuda:0')\n"
          ]
        },
        {
          "output_type": "stream",
          "name": "stderr",
          "text": [
            "100%|██████████| 19/19 [00:17<00:00,  1.07it/s]"
          ]
        },
        {
          "output_type": "stream",
          "name": "stdout",
          "text": [
            "tensor([0, 0, 6,  ..., 0, 8, 2], device='cuda:0')\n"
          ]
        },
        {
          "output_type": "stream",
          "name": "stderr",
          "text": [
            "\n"
          ]
        },
        {
          "output_type": "stream",
          "name": "stdout",
          "text": [
            "            ID  label\n",
            "0            0      0\n",
            "1            1      6\n",
            "2            2      0\n",
            "3            3      4\n",
            "4            4      6\n",
            "...        ...    ...\n",
            "417354  417354     14\n",
            "417355  417355      6\n",
            "417356  417356      0\n",
            "417357  417357      8\n",
            "417358  417358      2\n",
            "\n",
            "[417359 rows x 2 columns]\n"
          ]
        }
      ]
    },
    {
      "cell_type": "code",
      "source": [
        "from google.colab import files\n",
        "\n",
        "# Download the file\n",
        "files.download('csv_dictionary.csv')"
      ],
      "metadata": {
        "colab": {
          "base_uri": "https://localhost:8080/",
          "height": 17
        },
        "id": "miUcMrxvdvI2",
        "outputId": "a22d3bfc-dd5d-4498-fd80-2685971fee08"
      },
      "execution_count": 17,
      "outputs": [
        {
          "output_type": "display_data",
          "data": {
            "text/plain": [
              "<IPython.core.display.Javascript object>"
            ],
            "application/javascript": [
              "\n",
              "    async function download(id, filename, size) {\n",
              "      if (!google.colab.kernel.accessAllowed) {\n",
              "        return;\n",
              "      }\n",
              "      const div = document.createElement('div');\n",
              "      const label = document.createElement('label');\n",
              "      label.textContent = `Downloading \"${filename}\": `;\n",
              "      div.appendChild(label);\n",
              "      const progress = document.createElement('progress');\n",
              "      progress.max = size;\n",
              "      div.appendChild(progress);\n",
              "      document.body.appendChild(div);\n",
              "\n",
              "      const buffers = [];\n",
              "      let downloaded = 0;\n",
              "\n",
              "      const channel = await google.colab.kernel.comms.open(id);\n",
              "      // Send a message to notify the kernel that we're ready.\n",
              "      channel.send({})\n",
              "\n",
              "      for await (const message of channel.messages) {\n",
              "        // Send a message to notify the kernel that we're ready.\n",
              "        channel.send({})\n",
              "        if (message.buffers) {\n",
              "          for (const buffer of message.buffers) {\n",
              "            buffers.push(buffer);\n",
              "            downloaded += buffer.byteLength;\n",
              "            progress.value = downloaded;\n",
              "          }\n",
              "        }\n",
              "      }\n",
              "      const blob = new Blob(buffers, {type: 'application/binary'});\n",
              "      const a = document.createElement('a');\n",
              "      a.href = window.URL.createObjectURL(blob);\n",
              "      a.download = filename;\n",
              "      div.appendChild(a);\n",
              "      a.click();\n",
              "      div.remove();\n",
              "    }\n",
              "  "
            ]
          },
          "metadata": {}
        },
        {
          "output_type": "display_data",
          "data": {
            "text/plain": [
              "<IPython.core.display.Javascript object>"
            ],
            "application/javascript": [
              "download(\"download_6bc06b95-55ad-4894-bd73-daa420fd305a\", \"csv_dictionary.csv\", 3724959)"
            ]
          },
          "metadata": {}
        }
      ]
    },
    {
      "cell_type": "code",
      "source": [
        "# # Predict\n",
        "# from tashkeel_evaluate import evaluate\n",
        "# evaluate(model, val_dataset)\n",
        "# # evaluate(model, test_dataset)\n"
      ],
      "metadata": {
        "colab": {
          "base_uri": "https://localhost:8080/"
        },
        "id": "RsgAntunBqYk",
        "outputId": "af912f20-3b2b-4952-a78d-56764dd48260"
      },
      "execution_count": null,
      "outputs": [
        {
          "output_type": "stream",
          "name": "stderr",
          "text": [
            "100%|██████████| 4804/4804 [00:30<00:00, 158.22it/s]"
          ]
        },
        {
          "output_type": "stream",
          "name": "stdout",
          "text": [
            "\n",
            "Test Accuracy: 0.9598977912557379\n"
          ]
        },
        {
          "output_type": "stream",
          "name": "stderr",
          "text": [
            "\n"
          ]
        }
      ]
    },
    {
      "cell_type": "code",
      "source": [
        "# Dowmload\n",
        "import shutil\n",
        "\n",
        "# Specify the folder name\n",
        "folder_name = \"code\"\n",
        "\n",
        "# Compress the folder into a zip file\n",
        "shutil.make_archive(folder_name, 'zip', folder_name)\n",
        "\n",
        "\n",
        "from google.colab import files\n",
        "\n",
        "# Download the zip file\n",
        "files.download(f'{folder_name}.zip')\n",
        "\n",
        "# Download Notebook\n",
        "# Save the current notebook\n",
        "# files.download(\"TasheelNoteBook.ipynb\")"
      ],
      "metadata": {
        "id": "YpGk6gFuCGDP",
        "outputId": "6f4ac252-d347-406c-f5cb-7cd53b0ce331",
        "colab": {
          "base_uri": "https://localhost:8080/",
          "height": 17
        }
      },
      "execution_count": null,
      "outputs": [
        {
          "output_type": "display_data",
          "data": {
            "text/plain": [
              "<IPython.core.display.Javascript object>"
            ],
            "application/javascript": [
              "\n",
              "    async function download(id, filename, size) {\n",
              "      if (!google.colab.kernel.accessAllowed) {\n",
              "        return;\n",
              "      }\n",
              "      const div = document.createElement('div');\n",
              "      const label = document.createElement('label');\n",
              "      label.textContent = `Downloading \"${filename}\": `;\n",
              "      div.appendChild(label);\n",
              "      const progress = document.createElement('progress');\n",
              "      progress.max = size;\n",
              "      div.appendChild(progress);\n",
              "      document.body.appendChild(div);\n",
              "\n",
              "      const buffers = [];\n",
              "      let downloaded = 0;\n",
              "\n",
              "      const channel = await google.colab.kernel.comms.open(id);\n",
              "      // Send a message to notify the kernel that we're ready.\n",
              "      channel.send({})\n",
              "\n",
              "      for await (const message of channel.messages) {\n",
              "        // Send a message to notify the kernel that we're ready.\n",
              "        channel.send({})\n",
              "        if (message.buffers) {\n",
              "          for (const buffer of message.buffers) {\n",
              "            buffers.push(buffer);\n",
              "            downloaded += buffer.byteLength;\n",
              "            progress.value = downloaded;\n",
              "          }\n",
              "        }\n",
              "      }\n",
              "      const blob = new Blob(buffers, {type: 'application/binary'});\n",
              "      const a = document.createElement('a');\n",
              "      a.href = window.URL.createObjectURL(blob);\n",
              "      a.download = filename;\n",
              "      div.appendChild(a);\n",
              "      a.click();\n",
              "      div.remove();\n",
              "    }\n",
              "  "
            ]
          },
          "metadata": {}
        },
        {
          "output_type": "display_data",
          "data": {
            "text/plain": [
              "<IPython.core.display.Javascript object>"
            ],
            "application/javascript": [
              "download(\"download_26d3ecc0-805a-4712-8186-02913821feb3\", \"code.zip\", 15235)"
            ]
          },
          "metadata": {}
        }
      ]
    },
    {
      "cell_type": "code",
      "source": [],
      "metadata": {
        "id": "QdmWnWcKCJ2v"
      },
      "execution_count": null,
      "outputs": []
    }
  ]
}